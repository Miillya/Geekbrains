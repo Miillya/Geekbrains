{
 "cells": [
  {
   "cell_type": "markdown",
   "metadata": {
    "id": "Sb86n-BbXM1N"
   },
   "source": [
    "# Рекомендательные системы\n",
    "## Урок 1. Введение, примеры задач, бизнес- и ML-метрики\n",
    "### Практическое задание"
   ]
  },
  {
   "cell_type": "markdown",
   "metadata": {},
   "source": [
    "**1) Сравните метрики hit_rate@k, precision@k. Какую метрику использовать предпочтительно и почему. Привидите пример 2-3 задач (опишите, что является клиентом, что товаром), в которой более уместно использовать метрику hit_rate?**  \n",
    "\n",
    "Роль алгоритма ранжирования (часто называемого системой рекомендаций) состоит в том, чтобы вернуть пользователю набор соответствующих элементов или документов на основе некоторых обучающих данных. Определение релевантности может варьироваться и обычно зависит от приложения. Метрики системы ранжирования направлены на количественную оценку эффективности этих рейтингов или рекомендаций в различных контекстах. Некоторые показатели сравнивают набор рекомендуемых документов с базовым набором соответствующих документов, в то время как другие показатели могут явно включать числовые рейтинги.  \n",
    "\n",
    "Целью системы ранжирования является создание наиболее подходящей выборки для каждого пользователя. Актуальность наборов и эффективность алгоритмов можно измерить с помощью метрик, перечисленных ниже.\n",
    "\n",
    "**Hit rate**, как и полнота(recall) - показывает, как много объектов класса 1 находит классификатор или другими словами отражает какой процент объектов положительного класса мы правильно классифицировали (был ли хотя бы 1 релевантный товар среди рекомендованных), а **hit_rate@k** - был ли хотя бы 1 релевантный товар среди топ-k рекомендованных.\n",
    "Например, нам необходимо понять, насколько хороши наши топ-10 рекомендаций. Для оценки топ-10 мы используем показатель попадания, то есть, если пользователь оценил один из 10 лучших, которые мы рекомендовали, мы считаем это «попаданием».\n",
    "\n",
    "Общая частота попаданий в систему - это количество попаданий, разделенное на количество тестовых пользователей. Он измеряет, как часто мы можем рекомендовать удаленный рейтинг, чем выше, тем лучше. Очень низкий процент попаданий часто означает, что у нас недостаточно данных для работы.\n",
    "\n",
    "Точность(precision) - показывает, насколько мы можем доверять классификатору, если он выдаёт ответ – 1 или какой процент рекомендованных товаров приобрел пользователь/покупатель. Чем выше точность, тем меньше ложных срабатываний. **Precision@k** - это мера того, сколько из первых k рекомендованных выборок входит в набор действительно релевантных, усредненных по всем пользователям. В этой метрике не учитывается порядок рекомендаций.\n",
    "\n",
    "Пример 1(hit_rate@k): Рекомендация категории товаров, например, автомобили, яхты, квартиры. Пользователь - клиент, категория - товар.  \n",
    "Пример 2(hit_rate@k): Рекомендации дополнительных товаров к текущей покупке. Если человек покупает карабин, то автоматически рекомендуем ему несколько видов подходящих к нему патронов. Пользователь - клиент, товар - товар.  \n",
    "\n",
    "Пример 1(Precision@k): Поиск дешёвых авиабилетов. Пользователь - клиент, авиабилет - товар.  \n",
    "Пример 2(Precision@k): Рекомендация YouTube Music. Пользователь - клиент, песня - товар.  "
   ]
  },
  {
   "cell_type": "markdown",
   "metadata": {},
   "source": [
    "**2) В метрике NDCG@k мы используем логарифм в знаменателе. Как Вы думаете, почему именно логарифм? Какую функцию можно использовать вместо логарифма? Привидите пример метрик/подходов к предобработке данных/функций ошибок в ML, где также в знаменателе присутствует логарифм.**  \n",
    "\n",
    "Ранее не было теоретически обоснованного обоснования использования логарифмического коэффициента уменьшения, кроме того факта, что он обеспечивает плавное уменьшение. Но авторы дают теоретическую гарантию использования коэффициента логарифмического сокращения в нормализованном DCG (NDCG). Авторы показывают, что для каждой пары существенно различных функций ранжирования NDCG может согласованно решать, какая из них лучше.  "
   ]
  },
  {
   "cell_type": "markdown",
   "metadata": {},
   "source": [
    "**3) Какие еще матрики (Вы можете вспомнить уже пройденные Вами или посмотреть в интернете) могут использоваться для рекомендательных систем (приведите примеры метрики и чем являются интеракции, чтобы она могла быть использована).**  \n",
    "\n",
    "В качестве метрик можно использовать ранговые коэффициенты корреляции Спирмена, Кенделла, Мэтьюса, Крамера."
   ]
  },
  {
   "cell_type": "markdown",
   "metadata": {},
   "source": [
    "**4) boughted = [1, 3, 5, 7, 9, 11]  \n",
    "recommended = [2, 5, 7, 4, 11, 9, 8, 10, 12, 3]  \n",
    "Посчитайте на этих данных pr@8, rec@8, AP@8, NDCG@8, RR@8, ERR@8**"
   ]
  },
  {
   "cell_type": "code",
   "execution_count": 1,
   "metadata": {},
   "outputs": [],
   "source": [
    "import pandas as pd\n",
    "import numpy as np"
   ]
  },
  {
   "cell_type": "code",
   "execution_count": 2,
   "metadata": {},
   "outputs": [],
   "source": [
    "boughted = [1, 3, 5, 7, 9, 11]\n",
    "recommended = [2, 5, 7, 4, 11, 9, 8, 10, 12, 3]"
   ]
  },
  {
   "cell_type": "markdown",
   "metadata": {},
   "source": [
    "### pr@8"
   ]
  },
  {
   "cell_type": "code",
   "execution_count": 7,
   "metadata": {},
   "outputs": [],
   "source": [
    "def precision_at_k(recommended_list, bought_list, k=5):\n",
    "    \n",
    "    bought_list = np.array(bought_list)\n",
    "    recommended_list = np.array(recommended_list)\n",
    "    \n",
    "    bought_list = bought_list  # Тут нет [:k] !!\n",
    "    recommended_list = recommended_list[:k]\n",
    "    \n",
    "    flags = np.isin(bought_list, recommended_list)\n",
    "    # print(flags)\n",
    "     \n",
    "    precision = flags.sum() / len(recommended_list)\n",
    "     \n",
    "    return precision"
   ]
  },
  {
   "cell_type": "code",
   "execution_count": 8,
   "metadata": {},
   "outputs": [
    {
     "data": {
      "text/plain": [
       "0.5"
      ]
     },
     "execution_count": 8,
     "metadata": {},
     "output_type": "execute_result"
    }
   ],
   "source": [
    "precision_at_k(recommended, boughted, k=8)"
   ]
  },
  {
   "cell_type": "markdown",
   "metadata": {},
   "source": [
    "### rec@8"
   ]
  },
  {
   "cell_type": "code",
   "execution_count": 13,
   "metadata": {},
   "outputs": [],
   "source": [
    "def recall_at_k(recommended_list, bought_list, k=5):\n",
    "    bought_list = np.array(bought_list)\n",
    "    recommended_list = np.array(recommended_list)[:k]\n",
    "    \n",
    "    flags = np.isin(bought_list, recommended_list)\n",
    "    \n",
    "    recall = flags.sum() / len(bought_list)\n",
    "    \n",
    "    return recall"
   ]
  },
  {
   "cell_type": "code",
   "execution_count": 15,
   "metadata": {},
   "outputs": [
    {
     "data": {
      "text/plain": [
       "0.6666666666666666"
      ]
     },
     "execution_count": 15,
     "metadata": {},
     "output_type": "execute_result"
    }
   ],
   "source": [
    "recall_at_k(recommended, boughted, k=8)"
   ]
  },
  {
   "cell_type": "markdown",
   "metadata": {},
   "source": [
    "### AP@8"
   ]
  },
  {
   "cell_type": "code",
   "execution_count": 16,
   "metadata": {},
   "outputs": [],
   "source": [
    "def ap_k(recommended_list, bought_list, k=5):\n",
    "    \n",
    "    bought_list = np.array(bought_list)\n",
    "    recommended_list = np.array(recommended_list)\n",
    "    \n",
    "    flags = np.isin(recommended_list, bought_list)\n",
    "    \n",
    "    if sum(flags) == 0:\n",
    "        return 0\n",
    "    \n",
    "    sum_ = 0\n",
    "    for i in range(1, k+1): \n",
    "        if flags[i] == True:\n",
    "            p_k = precision_at_k(recommended_list, bought_list, k=i)\n",
    "            sum_ += p_k\n",
    "            \n",
    "    result = sum_ / sum(flags)\n",
    "    \n",
    "    return result"
   ]
  },
  {
   "cell_type": "code",
   "execution_count": 17,
   "metadata": {},
   "outputs": [
    {
     "data": {
      "text/plain": [
       "0.32"
      ]
     },
     "execution_count": 17,
     "metadata": {},
     "output_type": "execute_result"
    }
   ],
   "source": [
    "ap_k(recommended, boughted, k=8)"
   ]
  },
  {
   "cell_type": "markdown",
   "metadata": {},
   "source": [
    "### NDCG@8"
   ]
  },
  {
   "cell_type": "code",
   "execution_count": 18,
   "metadata": {},
   "outputs": [],
   "source": [
    "def NDCG_at_k(recommended_list, bought_list, k):\n",
    "    recommended_list = recommended_list[:k]\n",
    "    if recommended_list[0] in bought_list:\n",
    "        dcg = 1\n",
    "    else: dcg = 0\n",
    "    for i in range(1, len(recommended_list)):\n",
    "        if recommended_list[i] in bought_list:\n",
    "            dcg += 1/np.log(i+1)\n",
    "       \n",
    "    idcg = 1\n",
    "    for i in range(1, k):\n",
    "        idcg += 1/np.log(i+1)  \n",
    "    ndcg = dcg / idcg\n",
    "    return ndcg"
   ]
  },
  {
   "cell_type": "code",
   "execution_count": 19,
   "metadata": {},
   "outputs": [
    {
     "data": {
      "text/plain": [
       "0.5653142737255068"
      ]
     },
     "execution_count": 19,
     "metadata": {},
     "output_type": "execute_result"
    }
   ],
   "source": [
    "NDCG_at_k(recommended, boughted, 8)"
   ]
  },
  {
   "cell_type": "markdown",
   "metadata": {},
   "source": [
    "### RR@8"
   ]
  },
  {
   "cell_type": "code",
   "execution_count": 35,
   "metadata": {},
   "outputs": [],
   "source": [
    "def reciprocal_rank_at_k(recommended_list, bought_list, k):\n",
    "    recommended_list = recommended_list[:k]\n",
    "    ranks = 0\n",
    "    for item_rec in recommended_list:\n",
    "        for i, item_bought in enumerate(bought_list):\n",
    "            if item_rec == item_bought:\n",
    "                ranks += 1 / (i+1)\n",
    "    return ranks / len(recommended_list)"
   ]
  },
  {
   "cell_type": "code",
   "execution_count": 36,
   "metadata": {},
   "outputs": [
    {
     "data": {
      "text/plain": [
       "0.11875"
      ]
     },
     "execution_count": 36,
     "metadata": {},
     "output_type": "execute_result"
    }
   ],
   "source": [
    "reciprocal_rank_at_k(recommended, boughted, 8)"
   ]
  },
  {
   "cell_type": "markdown",
   "metadata": {},
   "source": [
    "### ERR@8"
   ]
  },
  {
   "cell_type": "code",
   "execution_count": 39,
   "metadata": {},
   "outputs": [],
   "source": [
    "def expected_reciprocal_rank_at_k(recommended_list, k):\n",
    "    if k <= 0:\n",
    "        return -1\n",
    "    \n",
    "    if len(recommended_list) < k:\n",
    "        k = len(recommended_list)\n",
    "    \n",
    "    recommended_list = recommended_list[:k]\n",
    "    \n",
    "    grade = max(recommended_list)\n",
    "    prob = [0]\n",
    "    prob.extend((2**i-1)/2**grade for i in range(1, grade+1))\n",
    "    \n",
    "    return sum(1/i*prob[recommended_list[i-1]]*np.prod([1-prob[recommended_list[j-1]] for j in range(1, i)]) for i in range(1, k+1))"
   ]
  },
  {
   "cell_type": "code",
   "execution_count": 40,
   "metadata": {},
   "outputs": [
    {
     "data": {
      "text/plain": [
       "0.2141286747780282"
      ]
     },
     "execution_count": 40,
     "metadata": {},
     "output_type": "execute_result"
    }
   ],
   "source": [
    "expected_reciprocal_rank_at_k(recommended, 8)"
   ]
  }
 ],
 "metadata": {
  "colab": {
   "authorship_tag": "ABX9TyP3RP3q/8ZgEDVF3p/rximj",
   "collapsed_sections": [],
   "name": "hw_03.ipynb",
   "version": ""
  },
  "kernelspec": {
   "display_name": "Python 3",
   "language": "python",
   "name": "python3"
  },
  "language_info": {
   "codemirror_mode": {
    "name": "ipython",
    "version": 3
   },
   "file_extension": ".py",
   "mimetype": "text/x-python",
   "name": "python",
   "nbconvert_exporter": "python",
   "pygments_lexer": "ipython3",
   "version": "3.7.6"
  }
 },
 "nbformat": 4,
 "nbformat_minor": 1
}
