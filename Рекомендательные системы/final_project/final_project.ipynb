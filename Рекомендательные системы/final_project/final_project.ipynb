{
 "cells": [
  {
   "cell_type": "markdown",
   "metadata": {},
   "source": [
    "## Финальный проект"
   ]
  },
  {
   "cell_type": "markdown",
   "metadata": {},
   "source": [
    "- Целевая метрика - precision@5. Порог для уcпешной сдачи проекта precision@5 > 0.27%\n",
    "- Будет public тестовый датасет, на котором вы сможете измерять метрику\n",
    "- Также будет private тестовый датасет для измерения финального качества\n",
    "- НЕ обязательно, но крайне желательно использовать 2-ух уровневые рекоммендательные системы в проекте\n",
    "- Вы сдаете код проекта в виде github репозитория и csv файл с рекомендациями "
   ]
  },
  {
   "cell_type": "markdown",
   "metadata": {},
   "source": [
    "### Подключение библиотек и скриптов"
   ]
  },
  {
   "cell_type": "code",
   "execution_count": 2,
   "metadata": {},
   "outputs": [
    {
     "data": {
      "text/html": [
       "<style>.container { width:72.5% !important; }</style>"
      ],
      "text/plain": [
       "<IPython.core.display.HTML object>"
      ]
     },
     "metadata": {},
     "output_type": "display_data"
    }
   ],
   "source": [
    "from IPython.core.display import display, HTML\n",
    "display(HTML(\"<style>.container { width:72.5% !important; }</style>\"))"
   ]
  },
  {
   "cell_type": "code",
   "execution_count": 3,
   "metadata": {},
   "outputs": [],
   "source": [
    "import warnings\n",
    "warnings.filterwarnings('ignore')"
   ]
  },
  {
   "cell_type": "code",
   "execution_count": 4,
   "metadata": {},
   "outputs": [],
   "source": [
    "import pandas as pd\n",
    "import numpy as np\n",
    "import matplotlib.pyplot as plt\n",
    "%matplotlib inline\n",
    "\n",
    "from scipy.sparse import csr_matrix\n",
    "from implicit import als\n",
    "\n",
    "from lightgbm import LGBMClassifier, Dataset\n",
    "import lightgbm\n",
    "\n",
    "from sklearn.model_selection import GridSearchCV\n",
    "\n",
    "import os, sys\n",
    "module_path = os.path.abspath(os.path.join(os.pardir))\n",
    "if module_path not in sys.path:\n",
    "    sys.path.append(module_path)\n",
    "\n",
    "from src.metrics import precision_at_k, recall_at_k\n",
    "from src.utils import prefilter_items\n",
    "from src.recommenders import MainRecommender\n",
    "from src.preprocessing import new_item_features, new_user_features, train_test_preprocessing\n",
    "from src.preprocessing import popularity_recommendation, get_important_features, get_final_recomendation"
   ]
  },
  {
   "cell_type": "code",
   "execution_count": 5,
   "metadata": {},
   "outputs": [],
   "source": [
    "plt.rcParams.update({'font.size': 14})\n",
    "pd.set_option('precision', 3)\n",
    "pd.set_option('max_columns', 100)\n",
    "pd.set_option('display.float_format', lambda x: '%.5f' % x)\n",
    "pd.set_option('display.max_columns', 500)\n",
    "pd.set_option('display.max_rows', 500)\n",
    "pd.set_option('max_colwidth', 300)"
   ]
  },
  {
   "cell_type": "markdown",
   "metadata": {},
   "source": [
    "### Пути к директориям и файлам / Загрузка данных"
   ]
  },
  {
   "cell_type": "code",
   "execution_count": 6,
   "metadata": {},
   "outputs": [],
   "source": [
    "data = pd.read_csv('data/retail_train.csv')\n",
    "test_1 = pd.read_csv('data/retail_test1.csv')\n",
    "\n",
    "item_features = pd.read_csv('data/product.csv')\n",
    "user_features = pd.read_csv('data/hh_demographic.csv')"
   ]
  },
  {
   "cell_type": "code",
   "execution_count": 7,
   "metadata": {},
   "outputs": [],
   "source": [
    "# column processing\n",
    "item_features.columns = [col.lower() for col in item_features.columns]\n",
    "user_features.columns = [col.lower() for col in user_features.columns]\n",
    "\n",
    "item_features.rename(columns={'product_id': 'item_id'}, inplace=True)\n",
    "user_features.rename(columns={'household_key': 'user_id'}, inplace=True)"
   ]
  },
  {
   "cell_type": "markdown",
   "metadata": {},
   "source": [
    "### Разбиение датасета на обучающую и две валидационные выборки"
   ]
  },
  {
   "cell_type": "code",
   "execution_count": 8,
   "metadata": {},
   "outputs": [],
   "source": [
    "VAL_SIZE = 5\n",
    "\n",
    "train_1 = data[data['week_no'] < data['week_no'].max() - (VAL_SIZE)]\n",
    "val_1 = data[data['week_no'] >= data['week_no'].max() - (VAL_SIZE)]\n",
    "\n",
    "train_2 = val_1.copy()"
   ]
  },
  {
   "cell_type": "markdown",
   "metadata": {},
   "source": [
    "### First level model"
   ]
  },
  {
   "cell_type": "code",
   "execution_count": 9,
   "metadata": {},
   "outputs": [
    {
     "name": "stdout",
     "output_type": "stream",
     "text": [
      "Decreased # items from 85828 to 778\n"
     ]
    }
   ],
   "source": [
    "n_items_before = train_1['item_id'].nunique()\n",
    "train_1 = prefilter_items(train_1, item_features=item_features, take_n_popular = 777)\n",
    "n_items_after = train_1['item_id'].nunique()\n",
    "\n",
    "print(f'Decreased # items from {n_items_before} to {n_items_after}')"
   ]
  },
  {
   "cell_type": "code",
   "execution_count": 10,
   "metadata": {},
   "outputs": [
    {
     "name": "stderr",
     "output_type": "stream",
     "text": [
      "WARNING:root:Intel MKL BLAS detected. Its highly recommend to set the environment variable 'export MKL_NUM_THREADS=1' to disable its internal multithreading\n"
     ]
    },
    {
     "data": {
      "application/vnd.jupyter.widget-view+json": {
       "model_id": "1e2bacc47c4b4aa8af333b31b4102432",
       "version_major": 2,
       "version_minor": 0
      },
      "text/plain": [
       "HBox(children=(HTML(value=''), FloatProgress(value=0.0, max=20.0), HTML(value='')))"
      ]
     },
     "metadata": {},
     "output_type": "display_data"
    },
    {
     "name": "stdout",
     "output_type": "stream",
     "text": [
      "\n"
     ]
    },
    {
     "data": {
      "application/vnd.jupyter.widget-view+json": {
       "model_id": "ac5a81388f6f4ad4b0867ef17f6869a7",
       "version_major": 2,
       "version_minor": 0
      },
      "text/plain": [
       "HBox(children=(HTML(value=''), FloatProgress(value=0.0, max=778.0), HTML(value='')))"
      ]
     },
     "metadata": {},
     "output_type": "display_data"
    },
    {
     "name": "stdout",
     "output_type": "stream",
     "text": [
      "\n"
     ]
    }
   ],
   "source": [
    "recommender = MainRecommender(train_1)"
   ]
  },
  {
   "cell_type": "code",
   "execution_count": 11,
   "metadata": {},
   "outputs": [],
   "source": [
    "items_emb_df = recommender.items_emb_df\n",
    "users_emb_df = recommender.users_emb_df"
   ]
  },
  {
   "cell_type": "markdown",
   "metadata": {},
   "source": [
    "### Add New Features"
   ]
  },
  {
   "cell_type": "code",
   "execution_count": 12,
   "metadata": {},
   "outputs": [
    {
     "data": {
      "text/html": [
       "<div>\n",
       "<style scoped>\n",
       "    .dataframe tbody tr th:only-of-type {\n",
       "        vertical-align: middle;\n",
       "    }\n",
       "\n",
       "    .dataframe tbody tr th {\n",
       "        vertical-align: top;\n",
       "    }\n",
       "\n",
       "    .dataframe thead th {\n",
       "        text-align: right;\n",
       "    }\n",
       "</style>\n",
       "<table border=\"1\" class=\"dataframe\">\n",
       "  <thead>\n",
       "    <tr style=\"text-align: right;\">\n",
       "      <th></th>\n",
       "      <th>item_id</th>\n",
       "      <th>manufacturer</th>\n",
       "      <th>department</th>\n",
       "      <th>brand</th>\n",
       "      <th>commodity_desc</th>\n",
       "      <th>sub_commodity_desc</th>\n",
       "      <th>curr_size_of_product</th>\n",
       "      <th>0</th>\n",
       "      <th>1</th>\n",
       "      <th>2</th>\n",
       "      <th>3</th>\n",
       "      <th>4</th>\n",
       "      <th>5</th>\n",
       "      <th>6</th>\n",
       "      <th>7</th>\n",
       "      <th>8</th>\n",
       "      <th>9</th>\n",
       "      <th>10</th>\n",
       "      <th>11</th>\n",
       "      <th>12</th>\n",
       "      <th>13</th>\n",
       "      <th>14</th>\n",
       "      <th>coupon_disc</th>\n",
       "      <th>quantity_of_sales</th>\n",
       "      <th>quantity_of_sales_per_week</th>\n",
       "      <th>qnt_of_sales_per_dep</th>\n",
       "      <th>qnt_of_sales_per_item_per_dep_per_week</th>\n",
       "      <th>qnt_of_sales_per_sub_commodity_desc</th>\n",
       "      <th>qnt_of_sales_per_item_per_sub_commodity_desc_per_week</th>\n",
       "    </tr>\n",
       "  </thead>\n",
       "  <tbody>\n",
       "    <tr>\n",
       "      <th>0</th>\n",
       "      <td>25671</td>\n",
       "      <td>2</td>\n",
       "      <td>GROCERY</td>\n",
       "      <td>National</td>\n",
       "      <td>FRZN ICE</td>\n",
       "      <td>ICE - CRUSHED/CUBED</td>\n",
       "      <td>22 LB</td>\n",
       "      <td>nan</td>\n",
       "      <td>nan</td>\n",
       "      <td>nan</td>\n",
       "      <td>nan</td>\n",
       "      <td>nan</td>\n",
       "      <td>nan</td>\n",
       "      <td>nan</td>\n",
       "      <td>nan</td>\n",
       "      <td>nan</td>\n",
       "      <td>nan</td>\n",
       "      <td>nan</td>\n",
       "      <td>nan</td>\n",
       "      <td>nan</td>\n",
       "      <td>nan</td>\n",
       "      <td>nan</td>\n",
       "      <td>nan</td>\n",
       "      <td>0</td>\n",
       "      <td>0.00000</td>\n",
       "      <td>112255</td>\n",
       "      <td>0.13731</td>\n",
       "      <td>101</td>\n",
       "      <td>0.13467</td>\n",
       "    </tr>\n",
       "    <tr>\n",
       "      <th>1</th>\n",
       "      <td>26081</td>\n",
       "      <td>2</td>\n",
       "      <td>MISC. TRANS.</td>\n",
       "      <td>National</td>\n",
       "      <td>NO COMMODITY DESCRIPTION</td>\n",
       "      <td>NO SUBCOMMODITY DESCRIPTION</td>\n",
       "      <td></td>\n",
       "      <td>nan</td>\n",
       "      <td>nan</td>\n",
       "      <td>nan</td>\n",
       "      <td>nan</td>\n",
       "      <td>nan</td>\n",
       "      <td>nan</td>\n",
       "      <td>nan</td>\n",
       "      <td>nan</td>\n",
       "      <td>nan</td>\n",
       "      <td>nan</td>\n",
       "      <td>nan</td>\n",
       "      <td>nan</td>\n",
       "      <td>nan</td>\n",
       "      <td>nan</td>\n",
       "      <td>nan</td>\n",
       "      <td>nan</td>\n",
       "      <td>0</td>\n",
       "      <td>0.00000</td>\n",
       "      <td>226</td>\n",
       "      <td>0.05858</td>\n",
       "      <td>225</td>\n",
       "      <td>0.06443</td>\n",
       "    </tr>\n",
       "    <tr>\n",
       "      <th>2</th>\n",
       "      <td>26093</td>\n",
       "      <td>69</td>\n",
       "      <td>PASTRY</td>\n",
       "      <td>Private</td>\n",
       "      <td>BREAD</td>\n",
       "      <td>BREAD:ITALIAN/FRENCH</td>\n",
       "      <td></td>\n",
       "      <td>nan</td>\n",
       "      <td>nan</td>\n",
       "      <td>nan</td>\n",
       "      <td>nan</td>\n",
       "      <td>nan</td>\n",
       "      <td>nan</td>\n",
       "      <td>nan</td>\n",
       "      <td>nan</td>\n",
       "      <td>nan</td>\n",
       "      <td>nan</td>\n",
       "      <td>nan</td>\n",
       "      <td>nan</td>\n",
       "      <td>nan</td>\n",
       "      <td>nan</td>\n",
       "      <td>nan</td>\n",
       "      <td>nan</td>\n",
       "      <td>0</td>\n",
       "      <td>0.00000</td>\n",
       "      <td>2436</td>\n",
       "      <td>0.10227</td>\n",
       "      <td>356</td>\n",
       "      <td>0.14027</td>\n",
       "    </tr>\n",
       "    <tr>\n",
       "      <th>3</th>\n",
       "      <td>26190</td>\n",
       "      <td>69</td>\n",
       "      <td>GROCERY</td>\n",
       "      <td>Private</td>\n",
       "      <td>FRUIT - SHELF STABLE</td>\n",
       "      <td>APPLE SAUCE</td>\n",
       "      <td>50 OZ</td>\n",
       "      <td>nan</td>\n",
       "      <td>nan</td>\n",
       "      <td>nan</td>\n",
       "      <td>nan</td>\n",
       "      <td>nan</td>\n",
       "      <td>nan</td>\n",
       "      <td>nan</td>\n",
       "      <td>nan</td>\n",
       "      <td>nan</td>\n",
       "      <td>nan</td>\n",
       "      <td>nan</td>\n",
       "      <td>nan</td>\n",
       "      <td>nan</td>\n",
       "      <td>nan</td>\n",
       "      <td>nan</td>\n",
       "      <td>nan</td>\n",
       "      <td>0</td>\n",
       "      <td>0.00000</td>\n",
       "      <td>112255</td>\n",
       "      <td>0.13731</td>\n",
       "      <td>141</td>\n",
       "      <td>0.14157</td>\n",
       "    </tr>\n",
       "    <tr>\n",
       "      <th>4</th>\n",
       "      <td>26355</td>\n",
       "      <td>69</td>\n",
       "      <td>GROCERY</td>\n",
       "      <td>Private</td>\n",
       "      <td>COOKIES/CONES</td>\n",
       "      <td>SPECIALTY COOKIES</td>\n",
       "      <td>14 OZ</td>\n",
       "      <td>nan</td>\n",
       "      <td>nan</td>\n",
       "      <td>nan</td>\n",
       "      <td>nan</td>\n",
       "      <td>nan</td>\n",
       "      <td>nan</td>\n",
       "      <td>nan</td>\n",
       "      <td>nan</td>\n",
       "      <td>nan</td>\n",
       "      <td>nan</td>\n",
       "      <td>nan</td>\n",
       "      <td>nan</td>\n",
       "      <td>nan</td>\n",
       "      <td>nan</td>\n",
       "      <td>nan</td>\n",
       "      <td>nan</td>\n",
       "      <td>0</td>\n",
       "      <td>0.00000</td>\n",
       "      <td>112255</td>\n",
       "      <td>0.13731</td>\n",
       "      <td>183</td>\n",
       "      <td>0.11868</td>\n",
       "    </tr>\n",
       "  </tbody>\n",
       "</table>\n",
       "</div>"
      ],
      "text/plain": [
       "   item_id manufacturer    department     brand            commodity_desc  \\\n",
       "0    25671            2       GROCERY  National                  FRZN ICE   \n",
       "1    26081            2  MISC. TRANS.  National  NO COMMODITY DESCRIPTION   \n",
       "2    26093           69        PASTRY   Private                     BREAD   \n",
       "3    26190           69       GROCERY   Private      FRUIT - SHELF STABLE   \n",
       "4    26355           69       GROCERY   Private             COOKIES/CONES   \n",
       "\n",
       "            sub_commodity_desc curr_size_of_product   0   1   2   3   4   5  \\\n",
       "0          ICE - CRUSHED/CUBED                22 LB nan nan nan nan nan nan   \n",
       "1  NO SUBCOMMODITY DESCRIPTION                      nan nan nan nan nan nan   \n",
       "2         BREAD:ITALIAN/FRENCH                      nan nan nan nan nan nan   \n",
       "3                  APPLE SAUCE                50 OZ nan nan nan nan nan nan   \n",
       "4            SPECIALTY COOKIES                14 OZ nan nan nan nan nan nan   \n",
       "\n",
       "    6   7   8   9  10  11  12  13  14  coupon_disc  quantity_of_sales  \\\n",
       "0 nan nan nan nan nan nan nan nan nan          nan                  0   \n",
       "1 nan nan nan nan nan nan nan nan nan          nan                  0   \n",
       "2 nan nan nan nan nan nan nan nan nan          nan                  0   \n",
       "3 nan nan nan nan nan nan nan nan nan          nan                  0   \n",
       "4 nan nan nan nan nan nan nan nan nan          nan                  0   \n",
       "\n",
       "   quantity_of_sales_per_week  qnt_of_sales_per_dep  \\\n",
       "0                     0.00000                112255   \n",
       "1                     0.00000                   226   \n",
       "2                     0.00000                  2436   \n",
       "3                     0.00000                112255   \n",
       "4                     0.00000                112255   \n",
       "\n",
       "   qnt_of_sales_per_item_per_dep_per_week  \\\n",
       "0                                 0.13731   \n",
       "1                                 0.05858   \n",
       "2                                 0.10227   \n",
       "3                                 0.13731   \n",
       "4                                 0.13731   \n",
       "\n",
       "   qnt_of_sales_per_sub_commodity_desc  \\\n",
       "0                                  101   \n",
       "1                                  225   \n",
       "2                                  356   \n",
       "3                                  141   \n",
       "4                                  183   \n",
       "\n",
       "   qnt_of_sales_per_item_per_sub_commodity_desc_per_week  \n",
       "0                                                0.13467  \n",
       "1                                                0.06443  \n",
       "2                                                0.14027  \n",
       "3                                                0.14157  \n",
       "4                                                0.11868  "
      ]
     },
     "execution_count": 12,
     "metadata": {},
     "output_type": "execute_result"
    }
   ],
   "source": [
    "item_features = new_item_features(train_2, item_features, items_emb_df)\n",
    "item_features.head()"
   ]
  },
  {
   "cell_type": "code",
   "execution_count": 13,
   "metadata": {},
   "outputs": [
    {
     "data": {
      "text/html": [
       "<div>\n",
       "<style scoped>\n",
       "    .dataframe tbody tr th:only-of-type {\n",
       "        vertical-align: middle;\n",
       "    }\n",
       "\n",
       "    .dataframe tbody tr th {\n",
       "        vertical-align: top;\n",
       "    }\n",
       "\n",
       "    .dataframe thead th {\n",
       "        text-align: right;\n",
       "    }\n",
       "</style>\n",
       "<table border=\"1\" class=\"dataframe\">\n",
       "  <thead>\n",
       "    <tr style=\"text-align: right;\">\n",
       "      <th></th>\n",
       "      <th>marital_status_code</th>\n",
       "      <th>homeowner_desc</th>\n",
       "      <th>hh_comp_desc</th>\n",
       "      <th>household_size_desc</th>\n",
       "      <th>user_id</th>\n",
       "      <th>0</th>\n",
       "      <th>1</th>\n",
       "      <th>2</th>\n",
       "      <th>3</th>\n",
       "      <th>4</th>\n",
       "      <th>5</th>\n",
       "      <th>6</th>\n",
       "      <th>7</th>\n",
       "      <th>8</th>\n",
       "      <th>9</th>\n",
       "      <th>10</th>\n",
       "      <th>11</th>\n",
       "      <th>12</th>\n",
       "      <th>13</th>\n",
       "      <th>14</th>\n",
       "      <th>mean_time</th>\n",
       "      <th>age</th>\n",
       "      <th>income</th>\n",
       "      <th>kids</th>\n",
       "      <th>average_basket</th>\n",
       "      <th>sum_per_week</th>\n",
       "    </tr>\n",
       "  </thead>\n",
       "  <tbody>\n",
       "    <tr>\n",
       "      <th>0</th>\n",
       "      <td>A</td>\n",
       "      <td>Homeowner</td>\n",
       "      <td>2 Adults No Kids</td>\n",
       "      <td>2</td>\n",
       "      <td>1</td>\n",
       "      <td>-0.98972</td>\n",
       "      <td>11.65656</td>\n",
       "      <td>12.14103</td>\n",
       "      <td>-20.26703</td>\n",
       "      <td>32.25811</td>\n",
       "      <td>3.87047</td>\n",
       "      <td>18.16497</td>\n",
       "      <td>17.74592</td>\n",
       "      <td>-1.41428</td>\n",
       "      <td>11.17883</td>\n",
       "      <td>14.47547</td>\n",
       "      <td>3.15616</td>\n",
       "      <td>6.64345</td>\n",
       "      <td>-8.53435</td>\n",
       "      <td>-3.27760</td>\n",
       "      <td>1324.80371</td>\n",
       "      <td>70</td>\n",
       "      <td>45</td>\n",
       "      <td>0</td>\n",
       "      <td>2.48729</td>\n",
       "      <td>44.35667</td>\n",
       "    </tr>\n",
       "    <tr>\n",
       "      <th>1</th>\n",
       "      <td>A</td>\n",
       "      <td>Homeowner</td>\n",
       "      <td>2 Adults No Kids</td>\n",
       "      <td>2</td>\n",
       "      <td>7</td>\n",
       "      <td>12.83090</td>\n",
       "      <td>17.50558</td>\n",
       "      <td>-9.37853</td>\n",
       "      <td>13.91107</td>\n",
       "      <td>-0.27647</td>\n",
       "      <td>6.38449</td>\n",
       "      <td>9.01370</td>\n",
       "      <td>-2.14391</td>\n",
       "      <td>3.22221</td>\n",
       "      <td>-0.81677</td>\n",
       "      <td>16.48158</td>\n",
       "      <td>6.29593</td>\n",
       "      <td>3.46122</td>\n",
       "      <td>13.24896</td>\n",
       "      <td>6.43395</td>\n",
       "      <td>1622.86292</td>\n",
       "      <td>50</td>\n",
       "      <td>70</td>\n",
       "      <td>0</td>\n",
       "      <td>2.54726</td>\n",
       "      <td>74.29500</td>\n",
       "    </tr>\n",
       "    <tr>\n",
       "      <th>2</th>\n",
       "      <td>U</td>\n",
       "      <td>Unknown</td>\n",
       "      <td>2 Adults Kids</td>\n",
       "      <td>3</td>\n",
       "      <td>8</td>\n",
       "      <td>7.18580</td>\n",
       "      <td>10.82225</td>\n",
       "      <td>18.26776</td>\n",
       "      <td>7.07987</td>\n",
       "      <td>2.60226</td>\n",
       "      <td>8.52062</td>\n",
       "      <td>5.36119</td>\n",
       "      <td>5.69092</td>\n",
       "      <td>9.05097</td>\n",
       "      <td>6.64241</td>\n",
       "      <td>21.98110</td>\n",
       "      <td>18.83528</td>\n",
       "      <td>8.68491</td>\n",
       "      <td>10.10595</td>\n",
       "      <td>-7.61124</td>\n",
       "      <td>1824.99011</td>\n",
       "      <td>30</td>\n",
       "      <td>30</td>\n",
       "      <td>1</td>\n",
       "      <td>2.41379</td>\n",
       "      <td>81.66667</td>\n",
       "    </tr>\n",
       "    <tr>\n",
       "      <th>3</th>\n",
       "      <td>U</td>\n",
       "      <td>Homeowner</td>\n",
       "      <td>2 Adults Kids</td>\n",
       "      <td>4</td>\n",
       "      <td>13</td>\n",
       "      <td>-8.38492</td>\n",
       "      <td>0.23031</td>\n",
       "      <td>6.27797</td>\n",
       "      <td>2.63349</td>\n",
       "      <td>5.31923</td>\n",
       "      <td>21.22956</td>\n",
       "      <td>19.41909</td>\n",
       "      <td>5.49119</td>\n",
       "      <td>4.23955</td>\n",
       "      <td>3.98877</td>\n",
       "      <td>23.83595</td>\n",
       "      <td>16.72478</td>\n",
       "      <td>-1.78818</td>\n",
       "      <td>15.08645</td>\n",
       "      <td>4.67522</td>\n",
       "      <td>1608.36365</td>\n",
       "      <td>30</td>\n",
       "      <td>95</td>\n",
       "      <td>2</td>\n",
       "      <td>6.44618</td>\n",
       "      <td>177.27000</td>\n",
       "    </tr>\n",
       "    <tr>\n",
       "      <th>4</th>\n",
       "      <td>B</td>\n",
       "      <td>Homeowner</td>\n",
       "      <td>Single Female</td>\n",
       "      <td>1</td>\n",
       "      <td>16</td>\n",
       "      <td>0.33884</td>\n",
       "      <td>0.74507</td>\n",
       "      <td>-0.62937</td>\n",
       "      <td>0.21601</td>\n",
       "      <td>4.25549</td>\n",
       "      <td>1.41309</td>\n",
       "      <td>1.93392</td>\n",
       "      <td>3.49360</td>\n",
       "      <td>-0.51308</td>\n",
       "      <td>0.50685</td>\n",
       "      <td>-0.73145</td>\n",
       "      <td>-2.16217</td>\n",
       "      <td>-1.65512</td>\n",
       "      <td>0.53238</td>\n",
       "      <td>-0.24137</td>\n",
       "      <td>1317.42859</td>\n",
       "      <td>50</td>\n",
       "      <td>70</td>\n",
       "      <td>0</td>\n",
       "      <td>2.26286</td>\n",
       "      <td>2.64000</td>\n",
       "    </tr>\n",
       "  </tbody>\n",
       "</table>\n",
       "</div>"
      ],
      "text/plain": [
       "  marital_status_code homeowner_desc      hh_comp_desc household_size_desc  \\\n",
       "0                   A      Homeowner  2 Adults No Kids                   2   \n",
       "1                   A      Homeowner  2 Adults No Kids                   2   \n",
       "2                   U        Unknown     2 Adults Kids                   3   \n",
       "3                   U      Homeowner     2 Adults Kids                   4   \n",
       "4                   B      Homeowner     Single Female                   1   \n",
       "\n",
       "   user_id        0        1        2         3        4        5        6  \\\n",
       "0        1 -0.98972 11.65656 12.14103 -20.26703 32.25811  3.87047 18.16497   \n",
       "1        7 12.83090 17.50558 -9.37853  13.91107 -0.27647  6.38449  9.01370   \n",
       "2        8  7.18580 10.82225 18.26776   7.07987  2.60226  8.52062  5.36119   \n",
       "3       13 -8.38492  0.23031  6.27797   2.63349  5.31923 21.22956 19.41909   \n",
       "4       16  0.33884  0.74507 -0.62937   0.21601  4.25549  1.41309  1.93392   \n",
       "\n",
       "         7        8        9       10       11       12       13       14  \\\n",
       "0 17.74592 -1.41428 11.17883 14.47547  3.15616  6.64345 -8.53435 -3.27760   \n",
       "1 -2.14391  3.22221 -0.81677 16.48158  6.29593  3.46122 13.24896  6.43395   \n",
       "2  5.69092  9.05097  6.64241 21.98110 18.83528  8.68491 10.10595 -7.61124   \n",
       "3  5.49119  4.23955  3.98877 23.83595 16.72478 -1.78818 15.08645  4.67522   \n",
       "4  3.49360 -0.51308  0.50685 -0.73145 -2.16217 -1.65512  0.53238 -0.24137   \n",
       "\n",
       "   mean_time  age  income  kids  average_basket  sum_per_week  \n",
       "0 1324.80371   70      45     0         2.48729      44.35667  \n",
       "1 1622.86292   50      70     0         2.54726      74.29500  \n",
       "2 1824.99011   30      30     1         2.41379      81.66667  \n",
       "3 1608.36365   30      95     2         6.44618     177.27000  \n",
       "4 1317.42859   50      70     0         2.26286       2.64000  "
      ]
     },
     "execution_count": 13,
     "metadata": {},
     "output_type": "execute_result"
    }
   ],
   "source": [
    "user_features = new_user_features(train_2, user_features, users_emb_df)\n",
    "user_features.head()"
   ]
  },
  {
   "cell_type": "code",
   "execution_count": 14,
   "metadata": {},
   "outputs": [],
   "source": [
    "X_train, y_train = train_test_preprocessing(train_2, train_1, recommender, item_features, user_features)"
   ]
  },
  {
   "cell_type": "code",
   "execution_count": 15,
   "metadata": {},
   "outputs": [
    {
     "data": {
      "text/plain": [
       "['manufacturer',\n",
       " 'department',\n",
       " 'brand',\n",
       " 'commodity_desc',\n",
       " 'sub_commodity_desc',\n",
       " 'curr_size_of_product',\n",
       " 'marital_status_code',\n",
       " 'homeowner_desc',\n",
       " 'hh_comp_desc',\n",
       " 'household_size_desc']"
      ]
     },
     "execution_count": 15,
     "metadata": {},
     "output_type": "execute_result"
    }
   ],
   "source": [
    "cat_feats = X_train.select_dtypes(include=['object']).columns.tolist()\n",
    "cat_feats"
   ]
  },
  {
   "cell_type": "code",
   "execution_count": 16,
   "metadata": {},
   "outputs": [],
   "source": [
    "X_train[cat_feats + ['user_id', 'item_id']] = X_train[cat_feats + ['user_id', 'item_id']].astype('category')\n",
    "\n",
    "X_test_1, y_test_1 = train_test_preprocessing(test_1, train_1, recommender, item_features, user_features)\n",
    "X_test_1[cat_feats + ['user_id', 'item_id']] = X_test_1[cat_feats + ['user_id', 'item_id']].astype('category')"
   ]
  },
  {
   "cell_type": "markdown",
   "metadata": {},
   "source": [
    "### Second level model"
   ]
  },
  {
   "cell_type": "code",
   "execution_count": 23,
   "metadata": {},
   "outputs": [],
   "source": [
    "lgbc = LGBMClassifier(objective='binary', categorical_feature=cat_feats)"
   ]
  },
  {
   "cell_type": "markdown",
   "metadata": {},
   "source": [
    "### Отбор признаков"
   ]
  },
  {
   "cell_type": "code",
   "execution_count": 24,
   "metadata": {},
   "outputs": [
    {
     "data": {
      "text/plain": [
       "['user_id',\n",
       " 'item_id',\n",
       " 'manufacturer',\n",
       " 'brand',\n",
       " 'commodity_desc',\n",
       " 'sub_commodity_desc',\n",
       " 'curr_size_of_product',\n",
       " '0_x',\n",
       " '1_x',\n",
       " '2_x',\n",
       " '3_x',\n",
       " '4_x',\n",
       " '5_x',\n",
       " '6_x',\n",
       " '7_x',\n",
       " '8_x',\n",
       " '9_x',\n",
       " '10_x',\n",
       " '11_x',\n",
       " '12_x',\n",
       " '13_x',\n",
       " '14_x',\n",
       " 'coupon_disc',\n",
       " 'quantity_of_sales',\n",
       " 'qnt_of_sales_per_dep',\n",
       " 'qnt_of_sales_per_item_per_dep_per_week',\n",
       " 'qnt_of_sales_per_sub_commodity_desc',\n",
       " 'qnt_of_sales_per_item_per_sub_commodity_desc_per_week',\n",
       " 'hh_comp_desc',\n",
       " 'household_size_desc',\n",
       " '0_y',\n",
       " '1_y',\n",
       " '2_y',\n",
       " '3_y',\n",
       " '4_y',\n",
       " '5_y',\n",
       " '6_y',\n",
       " '7_y',\n",
       " '8_y',\n",
       " '9_y',\n",
       " '10_y',\n",
       " '11_y',\n",
       " '12_y',\n",
       " '13_y',\n",
       " '14_y',\n",
       " 'mean_time',\n",
       " 'age',\n",
       " 'income',\n",
       " 'kids',\n",
       " 'average_basket',\n",
       " 'sum_per_week']"
      ]
     },
     "execution_count": 24,
     "metadata": {},
     "output_type": "execute_result"
    }
   ],
   "source": [
    "basic_feats = get_important_features(lgbс, X_train, y_train)\n",
    "basic_feats"
   ]
  },
  {
   "cell_type": "markdown",
   "metadata": {},
   "source": [
    "### Подбор параметров и обучение модели"
   ]
  },
  {
   "cell_type": "code",
   "execution_count": 25,
   "metadata": {},
   "outputs": [],
   "source": [
    "# param_grid = {\n",
    "#     'learning_rate': np.linspace(0.005, 0.03, num=5), \n",
    "#     'max_depth': [3, 4], \n",
    "#     'reg_alpha': np.linspace(0.000001, 0.0001, num=5), \n",
    "#     'reg_lambda': np.linspace(0.001, 0.05, num=5)\n",
    "# }"
   ]
  },
  {
   "cell_type": "code",
   "execution_count": 26,
   "metadata": {},
   "outputs": [],
   "source": [
    "# %%time\n",
    "# gbm = GridSearchCV(lgb, param_grid, cv=5, n_jobs=-1)\n",
    "# gbm.fit(X_train[basic_feats], y_train)\n",
    "\n",
    "# print('Best parameters found by grid search are:', gbm.best_params_)"
   ]
  },
  {
   "cell_type": "code",
   "execution_count": 27,
   "metadata": {},
   "outputs": [
    {
     "data": {
      "text/plain": [
       "LGBMClassifier(categorical_feature=['manufacturer', 'department', 'brand',\n",
       "                                    'commodity_desc', 'sub_commodity_desc',\n",
       "                                    'curr_size_of_product',\n",
       "                                    'marital_status_code', 'homeowner_desc',\n",
       "                                    'hh_comp_desc', 'household_size_desc'],\n",
       "               objective='binary')"
      ]
     },
     "execution_count": 27,
     "metadata": {},
     "output_type": "execute_result"
    }
   ],
   "source": [
    "# params = gbm.best_params_\n",
    "# lgb = LGBMClassifier(\n",
    "#     objective='binary', \n",
    "#     categorical_feature=cat_feats, \n",
    "#     random_state=1, \n",
    "#     **params, \n",
    "#     n_jobs=-1, \n",
    "#     n_estimators=500\n",
    "# )\n",
    "lgbc.fit(X_train[basic_feats], y_train)"
   ]
  },
  {
   "cell_type": "markdown",
   "metadata": {},
   "source": [
    "### Целевая метрика - precision@5 > 0.27%"
   ]
  },
  {
   "cell_type": "code",
   "execution_count": 28,
   "metadata": {},
   "outputs": [],
   "source": [
    "test_preds_proba = lgbc.predict_proba(X_test_1[basic_feats])[:, 1]\n",
    "\n",
    "result = get_final_recomendation(X_test_1, test_preds_proba, test_1, train_1)"
   ]
  },
  {
   "cell_type": "code",
   "execution_count": 29,
   "metadata": {},
   "outputs": [
    {
     "data": {
      "text/plain": [
       "0.2835013262599455"
      ]
     },
     "execution_count": 29,
     "metadata": {},
     "output_type": "execute_result"
    }
   ],
   "source": [
    "result.apply(lambda row: precision_at_k(row['recomendations'], row['actual']), axis=1).mean()"
   ]
  },
  {
   "cell_type": "code",
   "execution_count": 30,
   "metadata": {},
   "outputs": [],
   "source": [
    "X_test_2, y_test_2 = train_test_preprocessing(data, train_1, recommender, item_features, user_features)\n",
    "X_test_2[cat_feats + ['user_id', 'item_id']] = X_test_2[cat_feats + ['user_id', 'item_id']].astype('category')"
   ]
  },
  {
   "cell_type": "code",
   "execution_count": 31,
   "metadata": {},
   "outputs": [],
   "source": [
    "test_preds_proba = lgbc.predict_proba(X_test_2[basic_feats])[:, 1]\n",
    "\n",
    "result = get_final_recomendation(X_test_2, test_preds_proba, data, train_1)"
   ]
  },
  {
   "cell_type": "code",
   "execution_count": 32,
   "metadata": {},
   "outputs": [
    {
     "data": {
      "text/plain": [
       "0.9714285714285718"
      ]
     },
     "execution_count": 32,
     "metadata": {},
     "output_type": "execute_result"
    }
   ],
   "source": [
    "result.apply(lambda row: precision_at_k(row['recomendations'], row['actual']), axis=1).mean()"
   ]
  },
  {
   "cell_type": "markdown",
   "metadata": {},
   "source": [
    "### Сохранение результатов"
   ]
  },
  {
   "cell_type": "code",
   "execution_count": 33,
   "metadata": {},
   "outputs": [],
   "source": [
    "result.drop('actual', axis=1, inplace=True)"
   ]
  },
  {
   "cell_type": "code",
   "execution_count": 34,
   "metadata": {},
   "outputs": [],
   "source": [
    "result.to_csv('recommendations.csv', index=False)"
   ]
  },
  {
   "cell_type": "code",
   "execution_count": null,
   "metadata": {},
   "outputs": [],
   "source": []
  }
 ],
 "metadata": {
  "kernelspec": {
   "display_name": "Python 3",
   "language": "python",
   "name": "python3"
  },
  "language_info": {
   "codemirror_mode": {
    "name": "ipython",
    "version": 3
   },
   "file_extension": ".py",
   "mimetype": "text/x-python",
   "name": "python",
   "nbconvert_exporter": "python",
   "pygments_lexer": "ipython3",
   "version": "3.8.5"
  }
 },
 "nbformat": 4,
 "nbformat_minor": 2
}
