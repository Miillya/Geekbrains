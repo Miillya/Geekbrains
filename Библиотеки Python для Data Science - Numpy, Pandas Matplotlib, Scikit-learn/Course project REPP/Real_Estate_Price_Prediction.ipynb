{
 "cells": [
  {
   "cell_type": "markdown",
   "metadata": {
    "colab_type": "text",
    "id": "tlFanUg-g0Of"
   },
   "source": [
    "# **Курсовой проект \"Python для Data Science\"**"
   ]
  },
  {
   "cell_type": "markdown",
   "metadata": {
    "colab_type": "text",
    "id": "-10Vk4SQgq5K"
   },
   "source": [
    "### **Задание:**\n",
    "Ваша задача этом соревновании - предсказать цены на квартиры в датасете test.csv. Вам будут даны два датасета: train.csv (содержит признаки и цены на квартиры) и test.csv (только признаки).\n",
    "\n",
    "**Целевая переменная:**\n",
    "\n",
    "Price\n",
    "\n",
    "**Метрика для оценки:**\n",
    "\n",
    "Коэффициент детерминации R2 - (sklearn.metrics.r2_score)"
   ]
  },
  {
   "cell_type": "markdown",
   "metadata": {
    "colab_type": "text",
    "id": "pvVClP0UhXJL"
   },
   "source": [
    "**Описание датасета:**\n",
    "\n",
    "* **Id** - идентификационный номер квартиры\n",
    "* **DistrictId** - идентификационный номер района\n",
    "* **Rooms** - количество комнат\n",
    "* **Square** - площадь\n",
    "* **LifeSquare** - жилая площадь\n",
    "* **KitchenSquare** - площадь кухни\n",
    "* **Floor** - этаж\n",
    "* **HouseFloor** - количество этажей в доме\n",
    "* **HouseYear** - год постройки дома\n",
    "* **Ecology_1, Ecology_2, Ecology_3** - экологические показатели местности\n",
    "* **Social_1, Social_2, Social_3** - социальные показатели местности\n",
    "* **Healthcare_1, Helthcare_2** - показатели местности, связанные с охраной здоровья\n",
    "* **Shops_1, Shops_2** - показатели, связанные с наличием магазинов, торговых центров\n",
    "* **Price** - цена квартиры"
   ]
  },
  {
   "cell_type": "markdown",
   "metadata": {},
   "source": [
    "**Подключение библиотек и скриптов**"
   ]
  },
  {
   "cell_type": "code",
   "execution_count": 2,
   "metadata": {
    "colab": {},
    "colab_type": "code",
    "id": "sLqlG36SgXtF"
   },
   "outputs": [
    {
     "ename": "ModuleNotFoundError",
     "evalue": "No module named 'numpy'",
     "output_type": "error",
     "traceback": [
      "\u001b[1;31m---------------------------------------------------------------------------\u001b[0m",
      "\u001b[1;31mModuleNotFoundError\u001b[0m                       Traceback (most recent call last)",
      "\u001b[1;32m<ipython-input-2-ab62d9a92329>\u001b[0m in \u001b[0;36m<module>\u001b[1;34m\u001b[0m\n\u001b[1;32m----> 1\u001b[1;33m \u001b[1;32mimport\u001b[0m \u001b[0mnumpy\u001b[0m \u001b[1;32mas\u001b[0m \u001b[0mnp\u001b[0m\u001b[1;33m\u001b[0m\u001b[1;33m\u001b[0m\u001b[0m\n\u001b[0m\u001b[0;32m      2\u001b[0m \u001b[1;32mimport\u001b[0m \u001b[0mpandas\u001b[0m \u001b[1;32mas\u001b[0m \u001b[0mpd\u001b[0m\u001b[1;33m\u001b[0m\u001b[1;33m\u001b[0m\u001b[0m\n\u001b[0;32m      3\u001b[0m \u001b[1;32mimport\u001b[0m \u001b[0mrandom\u001b[0m\u001b[1;33m\u001b[0m\u001b[1;33m\u001b[0m\u001b[0m\n\u001b[0;32m      4\u001b[0m \u001b[1;32mimport\u001b[0m \u001b[0mmatplotlib\u001b[0m\u001b[1;33m.\u001b[0m\u001b[0mpyplot\u001b[0m \u001b[1;32mas\u001b[0m \u001b[0mplt\u001b[0m\u001b[1;33m\u001b[0m\u001b[1;33m\u001b[0m\u001b[0m\n\u001b[0;32m      5\u001b[0m \u001b[0mget_ipython\u001b[0m\u001b[1;33m(\u001b[0m\u001b[1;33m)\u001b[0m\u001b[1;33m.\u001b[0m\u001b[0mrun_line_magic\u001b[0m\u001b[1;33m(\u001b[0m\u001b[1;34m'matplotlib'\u001b[0m\u001b[1;33m,\u001b[0m \u001b[1;34m'inline'\u001b[0m\u001b[1;33m)\u001b[0m\u001b[1;33m\u001b[0m\u001b[1;33m\u001b[0m\u001b[0m\n",
      "\u001b[1;31mModuleNotFoundError\u001b[0m: No module named 'numpy'"
     ]
    }
   ],
   "source": [
    "import numpy as np\n",
    "import pandas as pd\n",
    "import random\n",
    "import matplotlib.pyplot as plt\n",
    "%matplotlib inline\n",
    "import seaborn as sns\n",
    "from sklearn.preprocessing import StandardScaler, MinMaxScaler, RobustScaler\n",
    "from sklearn.model_selection import train_test_split, KFold, GridSearchCV\n",
    "from sklearn.ensemble import RandomForestRegressor, GradientBoostingRegressor\n",
    "from sklearn.metrics import r2_score as r2, mean_absolute_error as mae, mean_squared_error as mse"
   ]
  },
  {
   "cell_type": "code",
   "execution_count": 2,
   "metadata": {
    "colab": {},
    "colab_type": "code",
    "id": "XTpQKvS8iMxZ"
   },
   "outputs": [],
   "source": [
    "import warnings\n",
    "warnings.filterwarnings('ignore')"
   ]
  },
  {
   "cell_type": "code",
   "execution_count": 3,
   "metadata": {
    "colab": {},
    "colab_type": "code",
    "id": "P5vOI4ikyVzU"
   },
   "outputs": [],
   "source": [
    "plt.rcParams.update({'font.size': 14})\n",
    "pd.set_option('precision', 3)\n",
    "pd.set_option('max_columns', 100)\n",
    "pd.set_option('display.float_format', lambda x: '%.5f' % x)\n",
    "pd.set_option('display.max_columns', 500)\n",
    "pd.set_option('display.max_rows', 500)\n",
    "pd.set_option('max_colwidth', 300)"
   ]
  },
  {
   "cell_type": "code",
   "execution_count": 4,
   "metadata": {
    "colab": {
     "base_uri": "https://localhost:8080/",
     "height": 108,
     "resources": {
      "http://localhost:8080/nbextensions/google.colab/files.js": {
       "data": "Ly8gQ29weXJpZ2h0IDIwMTcgR29vZ2xlIExMQwovLwovLyBMaWNlbnNlZCB1bmRlciB0aGUgQXBhY2hlIExpY2Vuc2UsIFZlcnNpb24gMi4wICh0aGUgIkxpY2Vuc2UiKTsKLy8geW91IG1heSBub3QgdXNlIHRoaXMgZmlsZSBleGNlcHQgaW4gY29tcGxpYW5jZSB3aXRoIHRoZSBMaWNlbnNlLgovLyBZb3UgbWF5IG9idGFpbiBhIGNvcHkgb2YgdGhlIExpY2Vuc2UgYXQKLy8KLy8gICAgICBodHRwOi8vd3d3LmFwYWNoZS5vcmcvbGljZW5zZXMvTElDRU5TRS0yLjAKLy8KLy8gVW5sZXNzIHJlcXVpcmVkIGJ5IGFwcGxpY2FibGUgbGF3IG9yIGFncmVlZCB0byBpbiB3cml0aW5nLCBzb2Z0d2FyZQovLyBkaXN0cmlidXRlZCB1bmRlciB0aGUgTGljZW5zZSBpcyBkaXN0cmlidXRlZCBvbiBhbiAiQVMgSVMiIEJBU0lTLAovLyBXSVRIT1VUIFdBUlJBTlRJRVMgT1IgQ09ORElUSU9OUyBPRiBBTlkgS0lORCwgZWl0aGVyIGV4cHJlc3Mgb3IgaW1wbGllZC4KLy8gU2VlIHRoZSBMaWNlbnNlIGZvciB0aGUgc3BlY2lmaWMgbGFuZ3VhZ2UgZ292ZXJuaW5nIHBlcm1pc3Npb25zIGFuZAovLyBsaW1pdGF0aW9ucyB1bmRlciB0aGUgTGljZW5zZS4KCi8qKgogKiBAZmlsZW92ZXJ2aWV3IEhlbHBlcnMgZm9yIGdvb2dsZS5jb2xhYiBQeXRob24gbW9kdWxlLgogKi8KKGZ1bmN0aW9uKHNjb3BlKSB7CmZ1bmN0aW9uIHNwYW4odGV4dCwgc3R5bGVBdHRyaWJ1dGVzID0ge30pIHsKICBjb25zdCBlbGVtZW50ID0gZG9jdW1lbnQuY3JlYXRlRWxlbWVudCgnc3BhbicpOwogIGVsZW1lbnQudGV4dENvbnRlbnQgPSB0ZXh0OwogIGZvciAoY29uc3Qga2V5IG9mIE9iamVjdC5rZXlzKHN0eWxlQXR0cmlidXRlcykpIHsKICAgIGVsZW1lbnQuc3R5bGVba2V5XSA9IHN0eWxlQXR0cmlidXRlc1trZXldOwogIH0KICByZXR1cm4gZWxlbWVudDsKfQoKLy8gTWF4IG51bWJlciBvZiBieXRlcyB3aGljaCB3aWxsIGJlIHVwbG9hZGVkIGF0IGEgdGltZS4KY29uc3QgTUFYX1BBWUxPQURfU0laRSA9IDEwMCAqIDEwMjQ7Ci8vIE1heCBhbW91bnQgb2YgdGltZSB0byBibG9jayB3YWl0aW5nIGZvciB0aGUgdXNlci4KY29uc3QgRklMRV9DSEFOR0VfVElNRU9VVF9NUyA9IDMwICogMTAwMDsKCmZ1bmN0aW9uIF91cGxvYWRGaWxlcyhpbnB1dElkLCBvdXRwdXRJZCkgewogIGNvbnN0IHN0ZXBzID0gdXBsb2FkRmlsZXNTdGVwKGlucHV0SWQsIG91dHB1dElkKTsKICBjb25zdCBvdXRwdXRFbGVtZW50ID0gZG9jdW1lbnQuZ2V0RWxlbWVudEJ5SWQob3V0cHV0SWQpOwogIC8vIENhY2hlIHN0ZXBzIG9uIHRoZSBvdXRwdXRFbGVtZW50IHRvIG1ha2UgaXQgYXZhaWxhYmxlIGZvciB0aGUgbmV4dCBjYWxsCiAgLy8gdG8gdXBsb2FkRmlsZXNDb250aW51ZSBmcm9tIFB5dGhvbi4KICBvdXRwdXRFbGVtZW50LnN0ZXBzID0gc3RlcHM7CgogIHJldHVybiBfdXBsb2FkRmlsZXNDb250aW51ZShvdXRwdXRJZCk7Cn0KCi8vIFRoaXMgaXMgcm91Z2hseSBhbiBhc3luYyBnZW5lcmF0b3IgKG5vdCBzdXBwb3J0ZWQgaW4gdGhlIGJyb3dzZXIgeWV0KSwKLy8gd2hlcmUgdGhlcmUgYXJlIG11bHRpcGxlIGFzeW5jaHJvbm91cyBzdGVwcyBhbmQgdGhlIFB5dGhvbiBzaWRlIGlzIGdvaW5nCi8vIHRvIHBvbGwgZm9yIGNvbXBsZXRpb24gb2YgZWFjaCBzdGVwLgovLyBUaGlzIHVzZXMgYSBQcm9taXNlIHRvIGJsb2NrIHRoZSBweXRob24gc2lkZSBvbiBjb21wbGV0aW9uIG9mIGVhY2ggc3RlcCwKLy8gdGhlbiBwYXNzZXMgdGhlIHJlc3VsdCBvZiB0aGUgcHJldmlvdXMgc3RlcCBhcyB0aGUgaW5wdXQgdG8gdGhlIG5leHQgc3RlcC4KZnVuY3Rpb24gX3VwbG9hZEZpbGVzQ29udGludWUob3V0cHV0SWQpIHsKICBjb25zdCBvdXRwdXRFbGVtZW50ID0gZG9jdW1lbnQuZ2V0RWxlbWVudEJ5SWQob3V0cHV0SWQpOwogIGNvbnN0IHN0ZXBzID0gb3V0cHV0RWxlbWVudC5zdGVwczsKCiAgY29uc3QgbmV4dCA9IHN0ZXBzLm5leHQob3V0cHV0RWxlbWVudC5sYXN0UHJvbWlzZVZhbHVlKTsKICByZXR1cm4gUHJvbWlzZS5yZXNvbHZlKG5leHQudmFsdWUucHJvbWlzZSkudGhlbigodmFsdWUpID0+IHsKICAgIC8vIENhY2hlIHRoZSBsYXN0IHByb21pc2UgdmFsdWUgdG8gbWFrZSBpdCBhdmFpbGFibGUgdG8gdGhlIG5leHQKICAgIC8vIHN0ZXAgb2YgdGhlIGdlbmVyYXRvci4KICAgIG91dHB1dEVsZW1lbnQubGFzdFByb21pc2VWYWx1ZSA9IHZhbHVlOwogICAgcmV0dXJuIG5leHQudmFsdWUucmVzcG9uc2U7CiAgfSk7Cn0KCi8qKgogKiBHZW5lcmF0b3IgZnVuY3Rpb24gd2hpY2ggaXMgY2FsbGVkIGJldHdlZW4gZWFjaCBhc3luYyBzdGVwIG9mIHRoZSB1cGxvYWQKICogcHJvY2Vzcy4KICogQHBhcmFtIHtzdHJpbmd9IGlucHV0SWQgRWxlbWVudCBJRCBvZiB0aGUgaW5wdXQgZmlsZSBwaWNrZXIgZWxlbWVudC4KICogQHBhcmFtIHtzdHJpbmd9IG91dHB1dElkIEVsZW1lbnQgSUQgb2YgdGhlIG91dHB1dCBkaXNwbGF5LgogKiBAcmV0dXJuIHshSXRlcmFibGU8IU9iamVjdD59IEl0ZXJhYmxlIG9mIG5leHQgc3RlcHMuCiAqLwpmdW5jdGlvbiogdXBsb2FkRmlsZXNTdGVwKGlucHV0SWQsIG91dHB1dElkKSB7CiAgY29uc3QgaW5wdXRFbGVtZW50ID0gZG9jdW1lbnQuZ2V0RWxlbWVudEJ5SWQoaW5wdXRJZCk7CiAgaW5wdXRFbGVtZW50LmRpc2FibGVkID0gZmFsc2U7CgogIGNvbnN0IG91dHB1dEVsZW1lbnQgPSBkb2N1bWVudC5nZXRFbGVtZW50QnlJZChvdXRwdXRJZCk7CiAgb3V0cHV0RWxlbWVudC5pbm5lckhUTUwgPSAnJzsKCiAgY29uc3QgcGlja2VkUHJvbWlzZSA9IG5ldyBQcm9taXNlKChyZXNvbHZlKSA9PiB7CiAgICBpbnB1dEVsZW1lbnQuYWRkRXZlbnRMaXN0ZW5lcignY2hhbmdlJywgKGUpID0+IHsKICAgICAgcmVzb2x2ZShlLnRhcmdldC5maWxlcyk7CiAgICB9KTsKICB9KTsKCiAgY29uc3QgY2FuY2VsID0gZG9jdW1lbnQuY3JlYXRlRWxlbWVudCgnYnV0dG9uJyk7CiAgaW5wdXRFbGVtZW50LnBhcmVudEVsZW1lbnQuYXBwZW5kQ2hpbGQoY2FuY2VsKTsKICBjYW5jZWwudGV4dENvbnRlbnQgPSAnQ2FuY2VsIHVwbG9hZCc7CiAgY29uc3QgY2FuY2VsUHJvbWlzZSA9IG5ldyBQcm9taXNlKChyZXNvbHZlKSA9PiB7CiAgICBjYW5jZWwub25jbGljayA9ICgpID0+IHsKICAgICAgcmVzb2x2ZShudWxsKTsKICAgIH07CiAgfSk7CgogIC8vIENhbmNlbCB1cGxvYWQgaWYgdXNlciBoYXNuJ3QgcGlja2VkIGFueXRoaW5nIGluIHRpbWVvdXQuCiAgY29uc3QgdGltZW91dFByb21pc2UgPSBuZXcgUHJvbWlzZSgocmVzb2x2ZSkgPT4gewogICAgc2V0VGltZW91dCgoKSA9PiB7CiAgICAgIHJlc29sdmUobnVsbCk7CiAgICB9LCBGSUxFX0NIQU5HRV9USU1FT1VUX01TKTsKICB9KTsKCiAgLy8gV2FpdCBmb3IgdGhlIHVzZXIgdG8gcGljayB0aGUgZmlsZXMuCiAgY29uc3QgZmlsZXMgPSB5aWVsZCB7CiAgICBwcm9taXNlOiBQcm9taXNlLnJhY2UoW3BpY2tlZFByb21pc2UsIHRpbWVvdXRQcm9taXNlLCBjYW5jZWxQcm9taXNlXSksCiAgICByZXNwb25zZTogewogICAgICBhY3Rpb246ICdzdGFydGluZycsCiAgICB9CiAgfTsKCiAgaWYgKCFmaWxlcykgewogICAgcmV0dXJuIHsKICAgICAgcmVzcG9uc2U6IHsKICAgICAgICBhY3Rpb246ICdjb21wbGV0ZScsCiAgICAgIH0KICAgIH07CiAgfQoKICBjYW5jZWwucmVtb3ZlKCk7CgogIC8vIERpc2FibGUgdGhlIGlucHV0IGVsZW1lbnQgc2luY2UgZnVydGhlciBwaWNrcyBhcmUgbm90IGFsbG93ZWQuCiAgaW5wdXRFbGVtZW50LmRpc2FibGVkID0gdHJ1ZTsKCiAgZm9yIChjb25zdCBmaWxlIG9mIGZpbGVzKSB7CiAgICBjb25zdCBsaSA9IGRvY3VtZW50LmNyZWF0ZUVsZW1lbnQoJ2xpJyk7CiAgICBsaS5hcHBlbmQoc3BhbihmaWxlLm5hbWUsIHtmb250V2VpZ2h0OiAnYm9sZCd9KSk7CiAgICBsaS5hcHBlbmQoc3BhbigKICAgICAgICBgKCR7ZmlsZS50eXBlIHx8ICduL2EnfSkgLSAke2ZpbGUuc2l6ZX0gYnl0ZXMsIGAgKwogICAgICAgIGBsYXN0IG1vZGlmaWVkOiAkewogICAgICAgICAgICBmaWxlLmxhc3RNb2RpZmllZERhdGUgPyBmaWxlLmxhc3RNb2RpZmllZERhdGUudG9Mb2NhbGVEYXRlU3RyaW5nKCkgOgogICAgICAgICAgICAgICAgICAgICAgICAgICAgICAgICAgICAnbi9hJ30gLSBgKSk7CiAgICBjb25zdCBwZXJjZW50ID0gc3BhbignMCUgZG9uZScpOwogICAgbGkuYXBwZW5kQ2hpbGQocGVyY2VudCk7CgogICAgb3V0cHV0RWxlbWVudC5hcHBlbmRDaGlsZChsaSk7CgogICAgY29uc3QgZmlsZURhdGFQcm9taXNlID0gbmV3IFByb21pc2UoKHJlc29sdmUpID0+IHsKICAgICAgY29uc3QgcmVhZGVyID0gbmV3IEZpbGVSZWFkZXIoKTsKICAgICAgcmVhZGVyLm9ubG9hZCA9IChlKSA9PiB7CiAgICAgICAgcmVzb2x2ZShlLnRhcmdldC5yZXN1bHQpOwogICAgICB9OwogICAgICByZWFkZXIucmVhZEFzQXJyYXlCdWZmZXIoZmlsZSk7CiAgICB9KTsKICAgIC8vIFdhaXQgZm9yIHRoZSBkYXRhIHRvIGJlIHJlYWR5LgogICAgbGV0IGZpbGVEYXRhID0geWllbGQgewogICAgICBwcm9taXNlOiBmaWxlRGF0YVByb21pc2UsCiAgICAgIHJlc3BvbnNlOiB7CiAgICAgICAgYWN0aW9uOiAnY29udGludWUnLAogICAgICB9CiAgICB9OwoKICAgIC8vIFVzZSBhIGNodW5rZWQgc2VuZGluZyB0byBhdm9pZCBtZXNzYWdlIHNpemUgbGltaXRzLiBTZWUgYi82MjExNTY2MC4KICAgIGxldCBwb3NpdGlvbiA9IDA7CiAgICB3aGlsZSAocG9zaXRpb24gPCBmaWxlRGF0YS5ieXRlTGVuZ3RoKSB7CiAgICAgIGNvbnN0IGxlbmd0aCA9IE1hdGgubWluKGZpbGVEYXRhLmJ5dGVMZW5ndGggLSBwb3NpdGlvbiwgTUFYX1BBWUxPQURfU0laRSk7CiAgICAgIGNvbnN0IGNodW5rID0gbmV3IFVpbnQ4QXJyYXkoZmlsZURhdGEsIHBvc2l0aW9uLCBsZW5ndGgpOwogICAgICBwb3NpdGlvbiArPSBsZW5ndGg7CgogICAgICBjb25zdCBiYXNlNjQgPSBidG9hKFN0cmluZy5mcm9tQ2hhckNvZGUuYXBwbHkobnVsbCwgY2h1bmspKTsKICAgICAgeWllbGQgewogICAgICAgIHJlc3BvbnNlOiB7CiAgICAgICAgICBhY3Rpb246ICdhcHBlbmQnLAogICAgICAgICAgZmlsZTogZmlsZS5uYW1lLAogICAgICAgICAgZGF0YTogYmFzZTY0LAogICAgICAgIH0sCiAgICAgIH07CiAgICAgIHBlcmNlbnQudGV4dENvbnRlbnQgPQogICAgICAgICAgYCR7TWF0aC5yb3VuZCgocG9zaXRpb24gLyBmaWxlRGF0YS5ieXRlTGVuZ3RoKSAqIDEwMCl9JSBkb25lYDsKICAgIH0KICB9CgogIC8vIEFsbCBkb25lLgogIHlpZWxkIHsKICAgIHJlc3BvbnNlOiB7CiAgICAgIGFjdGlvbjogJ2NvbXBsZXRlJywKICAgIH0KICB9Owp9CgpzY29wZS5nb29nbGUgPSBzY29wZS5nb29nbGUgfHwge307CnNjb3BlLmdvb2dsZS5jb2xhYiA9IHNjb3BlLmdvb2dsZS5jb2xhYiB8fCB7fTsKc2NvcGUuZ29vZ2xlLmNvbGFiLl9maWxlcyA9IHsKICBfdXBsb2FkRmlsZXMsCiAgX3VwbG9hZEZpbGVzQ29udGludWUsCn07Cn0pKHNlbGYpOwo=",
       "headers": [
        [
         "content-type",
         "application/javascript"
        ]
       ],
       "ok": true,
       "status": 200,
       "status_text": ""
      }
     }
    },
    "colab_type": "code",
    "executionInfo": {
     "elapsed": 44726,
     "status": "ok",
     "timestamp": 1582664015957,
     "user": {
      "displayName": "Alexey Tankov",
      "photoUrl": "",
      "userId": "01729535101672247421"
     },
     "user_tz": -180
    },
    "id": "fPI-kTs4iPG6",
    "outputId": "b8acb0d2-09ed-4a82-ed15-018ff0d3c161"
   },
   "outputs": [],
   "source": [
    "# from google.colab import files\n",
    "# uploaded = files.upload()"
   ]
  },
  {
   "cell_type": "markdown",
   "metadata": {
    "colab_type": "text",
    "id": "rNEB1WpTyakO"
   },
   "source": [
    "**Пути к директориям и файлам**"
   ]
  },
  {
   "cell_type": "code",
   "execution_count": 5,
   "metadata": {
    "colab": {},
    "colab_type": "code",
    "id": "_BQ09rlyiarW"
   },
   "outputs": [],
   "source": [
    "TRAIN_DATASET_PATH = './train.csv'\n",
    "TEST_DATASET_PATH = './test.csv'\n",
    "RES_PATH = './result_submission.csv'"
   ]
  },
  {
   "cell_type": "markdown",
   "metadata": {
    "colab_type": "text",
    "id": "55GVNXqtWxw2"
   },
   "source": [
    "**Загрузка данных**"
   ]
  },
  {
   "cell_type": "code",
   "execution_count": 6,
   "metadata": {
    "colab": {},
    "colab_type": "code",
    "id": "2J80eu4LXGdy"
   },
   "outputs": [],
   "source": [
    "df = pd.read_csv(TRAIN_DATASET_PATH)"
   ]
  },
  {
   "cell_type": "markdown",
   "metadata": {
    "colab_type": "text",
    "id": "UyhbqbDJXTz4"
   },
   "source": [
    "**Изучение датасета**"
   ]
  },
  {
   "cell_type": "code",
   "execution_count": 7,
   "metadata": {
    "colab": {
     "base_uri": "https://localhost:8080/",
     "height": 34
    },
    "colab_type": "code",
    "executionInfo": {
     "elapsed": 690,
     "status": "ok",
     "timestamp": 1582664022576,
     "user": {
      "displayName": "Alexey Tankov",
      "photoUrl": "",
      "userId": "01729535101672247421"
     },
     "user_tz": -180
    },
    "id": "41fTa8Nly5hO",
    "outputId": "f4487314-db2b-46df-a479-223cdcc322b8"
   },
   "outputs": [
    {
     "name": "stdout",
     "output_type": "stream",
     "text": [
      "(10000, 20)\n"
     ]
    }
   ],
   "source": [
    "print(df.shape)"
   ]
  },
  {
   "cell_type": "code",
   "execution_count": 8,
   "metadata": {
    "colab": {
     "base_uri": "https://localhost:8080/",
     "height": 204
    },
    "colab_type": "code",
    "executionInfo": {
     "elapsed": 614,
     "status": "ok",
     "timestamp": 1582664024143,
     "user": {
      "displayName": "Alexey Tankov",
      "photoUrl": "",
      "userId": "01729535101672247421"
     },
     "user_tz": -180
    },
    "id": "OQ5MrfWlXb8n",
    "outputId": "bb448ef3-366d-4eb9-f774-b61559cafcc4"
   },
   "outputs": [
    {
     "data": {
      "text/html": [
       "<div>\n",
       "<style scoped>\n",
       "    .dataframe tbody tr th:only-of-type {\n",
       "        vertical-align: middle;\n",
       "    }\n",
       "\n",
       "    .dataframe tbody tr th {\n",
       "        vertical-align: top;\n",
       "    }\n",
       "\n",
       "    .dataframe thead th {\n",
       "        text-align: right;\n",
       "    }\n",
       "</style>\n",
       "<table border=\"1\" class=\"dataframe\">\n",
       "  <thead>\n",
       "    <tr style=\"text-align: right;\">\n",
       "      <th></th>\n",
       "      <th>Id</th>\n",
       "      <th>DistrictId</th>\n",
       "      <th>Rooms</th>\n",
       "      <th>Square</th>\n",
       "      <th>LifeSquare</th>\n",
       "      <th>KitchenSquare</th>\n",
       "      <th>Floor</th>\n",
       "      <th>HouseFloor</th>\n",
       "      <th>HouseYear</th>\n",
       "      <th>Ecology_1</th>\n",
       "      <th>Ecology_2</th>\n",
       "      <th>Ecology_3</th>\n",
       "      <th>Social_1</th>\n",
       "      <th>Social_2</th>\n",
       "      <th>Social_3</th>\n",
       "      <th>Healthcare_1</th>\n",
       "      <th>Helthcare_2</th>\n",
       "      <th>Shops_1</th>\n",
       "      <th>Shops_2</th>\n",
       "      <th>Price</th>\n",
       "    </tr>\n",
       "  </thead>\n",
       "  <tbody>\n",
       "    <tr>\n",
       "      <th>0</th>\n",
       "      <td>14038</td>\n",
       "      <td>35</td>\n",
       "      <td>2.00000</td>\n",
       "      <td>47.98156</td>\n",
       "      <td>29.44275</td>\n",
       "      <td>6.00000</td>\n",
       "      <td>7</td>\n",
       "      <td>9.00000</td>\n",
       "      <td>1969</td>\n",
       "      <td>0.08904</td>\n",
       "      <td>B</td>\n",
       "      <td>B</td>\n",
       "      <td>33</td>\n",
       "      <td>7976</td>\n",
       "      <td>5</td>\n",
       "      <td>nan</td>\n",
       "      <td>0</td>\n",
       "      <td>11</td>\n",
       "      <td>B</td>\n",
       "      <td>184966.93073</td>\n",
       "    </tr>\n",
       "    <tr>\n",
       "      <th>1</th>\n",
       "      <td>15053</td>\n",
       "      <td>41</td>\n",
       "      <td>3.00000</td>\n",
       "      <td>65.68364</td>\n",
       "      <td>40.04954</td>\n",
       "      <td>8.00000</td>\n",
       "      <td>7</td>\n",
       "      <td>9.00000</td>\n",
       "      <td>1978</td>\n",
       "      <td>0.00007</td>\n",
       "      <td>B</td>\n",
       "      <td>B</td>\n",
       "      <td>46</td>\n",
       "      <td>10309</td>\n",
       "      <td>1</td>\n",
       "      <td>240.00000</td>\n",
       "      <td>1</td>\n",
       "      <td>16</td>\n",
       "      <td>B</td>\n",
       "      <td>300009.45006</td>\n",
       "    </tr>\n",
       "    <tr>\n",
       "      <th>2</th>\n",
       "      <td>4765</td>\n",
       "      <td>53</td>\n",
       "      <td>2.00000</td>\n",
       "      <td>44.94795</td>\n",
       "      <td>29.19761</td>\n",
       "      <td>0.00000</td>\n",
       "      <td>8</td>\n",
       "      <td>12.00000</td>\n",
       "      <td>1968</td>\n",
       "      <td>0.04964</td>\n",
       "      <td>B</td>\n",
       "      <td>B</td>\n",
       "      <td>34</td>\n",
       "      <td>7759</td>\n",
       "      <td>0</td>\n",
       "      <td>229.00000</td>\n",
       "      <td>1</td>\n",
       "      <td>3</td>\n",
       "      <td>B</td>\n",
       "      <td>220925.90852</td>\n",
       "    </tr>\n",
       "    <tr>\n",
       "      <th>3</th>\n",
       "      <td>5809</td>\n",
       "      <td>58</td>\n",
       "      <td>2.00000</td>\n",
       "      <td>53.35298</td>\n",
       "      <td>52.73151</td>\n",
       "      <td>9.00000</td>\n",
       "      <td>8</td>\n",
       "      <td>17.00000</td>\n",
       "      <td>1977</td>\n",
       "      <td>0.43789</td>\n",
       "      <td>B</td>\n",
       "      <td>B</td>\n",
       "      <td>23</td>\n",
       "      <td>5735</td>\n",
       "      <td>3</td>\n",
       "      <td>1084.00000</td>\n",
       "      <td>0</td>\n",
       "      <td>5</td>\n",
       "      <td>B</td>\n",
       "      <td>175616.22722</td>\n",
       "    </tr>\n",
       "    <tr>\n",
       "      <th>4</th>\n",
       "      <td>10783</td>\n",
       "      <td>99</td>\n",
       "      <td>1.00000</td>\n",
       "      <td>39.64919</td>\n",
       "      <td>23.77617</td>\n",
       "      <td>7.00000</td>\n",
       "      <td>11</td>\n",
       "      <td>12.00000</td>\n",
       "      <td>1976</td>\n",
       "      <td>0.01234</td>\n",
       "      <td>B</td>\n",
       "      <td>B</td>\n",
       "      <td>35</td>\n",
       "      <td>5776</td>\n",
       "      <td>1</td>\n",
       "      <td>2078.00000</td>\n",
       "      <td>2</td>\n",
       "      <td>4</td>\n",
       "      <td>B</td>\n",
       "      <td>150226.53164</td>\n",
       "    </tr>\n",
       "  </tbody>\n",
       "</table>\n",
       "</div>"
      ],
      "text/plain": [
       "      Id  DistrictId   Rooms   Square  LifeSquare  KitchenSquare  Floor  \\\n",
       "0  14038          35 2.00000 47.98156    29.44275        6.00000      7   \n",
       "1  15053          41 3.00000 65.68364    40.04954        8.00000      7   \n",
       "2   4765          53 2.00000 44.94795    29.19761        0.00000      8   \n",
       "3   5809          58 2.00000 53.35298    52.73151        9.00000      8   \n",
       "4  10783          99 1.00000 39.64919    23.77617        7.00000     11   \n",
       "\n",
       "   HouseFloor  HouseYear  Ecology_1 Ecology_2 Ecology_3  Social_1  Social_2  \\\n",
       "0     9.00000       1969    0.08904         B         B        33      7976   \n",
       "1     9.00000       1978    0.00007         B         B        46     10309   \n",
       "2    12.00000       1968    0.04964         B         B        34      7759   \n",
       "3    17.00000       1977    0.43789         B         B        23      5735   \n",
       "4    12.00000       1976    0.01234         B         B        35      5776   \n",
       "\n",
       "   Social_3  Healthcare_1  Helthcare_2  Shops_1 Shops_2        Price  \n",
       "0         5           nan            0       11       B 184966.93073  \n",
       "1         1     240.00000            1       16       B 300009.45006  \n",
       "2         0     229.00000            1        3       B 220925.90852  \n",
       "3         3    1084.00000            0        5       B 175616.22722  \n",
       "4         1    2078.00000            2        4       B 150226.53164  "
      ]
     },
     "execution_count": 8,
     "metadata": {},
     "output_type": "execute_result"
    }
   ],
   "source": [
    "df.head()"
   ]
  },
  {
   "cell_type": "code",
   "execution_count": 9,
   "metadata": {
    "colab": {
     "base_uri": "https://localhost:8080/",
     "height": 442
    },
    "colab_type": "code",
    "executionInfo": {
     "elapsed": 702,
     "status": "ok",
     "timestamp": 1582664025536,
     "user": {
      "displayName": "Alexey Tankov",
      "photoUrl": "",
      "userId": "01729535101672247421"
     },
     "user_tz": -180
    },
    "id": "DF3GDu2zXHxr",
    "outputId": "db1988d5-b965-4e5c-ac62-591da8daf5d2"
   },
   "outputs": [
    {
     "name": "stdout",
     "output_type": "stream",
     "text": [
      "<class 'pandas.core.frame.DataFrame'>\n",
      "RangeIndex: 10000 entries, 0 to 9999\n",
      "Data columns (total 20 columns):\n",
      " #   Column         Non-Null Count  Dtype  \n",
      "---  ------         --------------  -----  \n",
      " 0   Id             10000 non-null  int64  \n",
      " 1   DistrictId     10000 non-null  int64  \n",
      " 2   Rooms          10000 non-null  float64\n",
      " 3   Square         10000 non-null  float64\n",
      " 4   LifeSquare     7887 non-null   float64\n",
      " 5   KitchenSquare  10000 non-null  float64\n",
      " 6   Floor          10000 non-null  int64  \n",
      " 7   HouseFloor     10000 non-null  float64\n",
      " 8   HouseYear      10000 non-null  int64  \n",
      " 9   Ecology_1      10000 non-null  float64\n",
      " 10  Ecology_2      10000 non-null  object \n",
      " 11  Ecology_3      10000 non-null  object \n",
      " 12  Social_1       10000 non-null  int64  \n",
      " 13  Social_2       10000 non-null  int64  \n",
      " 14  Social_3       10000 non-null  int64  \n",
      " 15  Healthcare_1   5202 non-null   float64\n",
      " 16  Helthcare_2    10000 non-null  int64  \n",
      " 17  Shops_1        10000 non-null  int64  \n",
      " 18  Shops_2        10000 non-null  object \n",
      " 19  Price          10000 non-null  float64\n",
      "dtypes: float64(8), int64(9), object(3)\n",
      "memory usage: 1.4+ MB\n"
     ]
    }
   ],
   "source": [
    "df.info()"
   ]
  },
  {
   "cell_type": "markdown",
   "metadata": {
    "colab_type": "text",
    "id": "TH-15Yw2XvQl"
   },
   "source": [
    "**Изменнение типа Id и DistrictId**"
   ]
  },
  {
   "cell_type": "code",
   "execution_count": 10,
   "metadata": {
    "colab": {},
    "colab_type": "code",
    "id": "oRx1InoKXKGC"
   },
   "outputs": [],
   "source": [
    "df['Id'] = df['Id'].astype('str')\n",
    "df['DistrictId'] = df['DistrictId'].astype('str')"
   ]
  },
  {
   "cell_type": "code",
   "execution_count": 11,
   "metadata": {
    "colab": {
     "base_uri": "https://localhost:8080/",
     "height": 297
    },
    "colab_type": "code",
    "executionInfo": {
     "elapsed": 840,
     "status": "ok",
     "timestamp": 1582664031807,
     "user": {
      "displayName": "Alexey Tankov",
      "photoUrl": "",
      "userId": "01729535101672247421"
     },
     "user_tz": -180
    },
    "id": "-QKUKqWtXzCE",
    "outputId": "9e601df6-0062-47a4-b8e1-d7e353bbb9ad"
   },
   "outputs": [
    {
     "data": {
      "text/html": [
       "<div>\n",
       "<style scoped>\n",
       "    .dataframe tbody tr th:only-of-type {\n",
       "        vertical-align: middle;\n",
       "    }\n",
       "\n",
       "    .dataframe tbody tr th {\n",
       "        vertical-align: top;\n",
       "    }\n",
       "\n",
       "    .dataframe thead th {\n",
       "        text-align: right;\n",
       "    }\n",
       "</style>\n",
       "<table border=\"1\" class=\"dataframe\">\n",
       "  <thead>\n",
       "    <tr style=\"text-align: right;\">\n",
       "      <th></th>\n",
       "      <th>Rooms</th>\n",
       "      <th>Square</th>\n",
       "      <th>LifeSquare</th>\n",
       "      <th>KitchenSquare</th>\n",
       "      <th>Floor</th>\n",
       "      <th>HouseFloor</th>\n",
       "      <th>HouseYear</th>\n",
       "      <th>Ecology_1</th>\n",
       "      <th>Social_1</th>\n",
       "      <th>Social_2</th>\n",
       "      <th>Social_3</th>\n",
       "      <th>Healthcare_1</th>\n",
       "      <th>Helthcare_2</th>\n",
       "      <th>Shops_1</th>\n",
       "      <th>Price</th>\n",
       "    </tr>\n",
       "  </thead>\n",
       "  <tbody>\n",
       "    <tr>\n",
       "      <th>count</th>\n",
       "      <td>10000.00000</td>\n",
       "      <td>10000.00000</td>\n",
       "      <td>7887.00000</td>\n",
       "      <td>10000.00000</td>\n",
       "      <td>10000.00000</td>\n",
       "      <td>10000.00000</td>\n",
       "      <td>10000.00000</td>\n",
       "      <td>10000.00000</td>\n",
       "      <td>10000.00000</td>\n",
       "      <td>10000.00000</td>\n",
       "      <td>10000.00000</td>\n",
       "      <td>5202.00000</td>\n",
       "      <td>10000.00000</td>\n",
       "      <td>10000.00000</td>\n",
       "      <td>10000.00000</td>\n",
       "    </tr>\n",
       "    <tr>\n",
       "      <th>mean</th>\n",
       "      <td>1.89050</td>\n",
       "      <td>56.31578</td>\n",
       "      <td>37.19964</td>\n",
       "      <td>6.27330</td>\n",
       "      <td>8.52670</td>\n",
       "      <td>12.60940</td>\n",
       "      <td>3990.16630</td>\n",
       "      <td>0.11886</td>\n",
       "      <td>24.68700</td>\n",
       "      <td>5352.15740</td>\n",
       "      <td>8.03920</td>\n",
       "      <td>1142.90446</td>\n",
       "      <td>1.31950</td>\n",
       "      <td>4.23130</td>\n",
       "      <td>214138.85740</td>\n",
       "    </tr>\n",
       "    <tr>\n",
       "      <th>std</th>\n",
       "      <td>0.83951</td>\n",
       "      <td>21.05873</td>\n",
       "      <td>86.24121</td>\n",
       "      <td>28.56092</td>\n",
       "      <td>5.24115</td>\n",
       "      <td>6.77597</td>\n",
       "      <td>200500.26143</td>\n",
       "      <td>0.11903</td>\n",
       "      <td>17.53261</td>\n",
       "      <td>4006.79980</td>\n",
       "      <td>23.83187</td>\n",
       "      <td>1021.51726</td>\n",
       "      <td>1.49360</td>\n",
       "      <td>4.80634</td>\n",
       "      <td>92872.29387</td>\n",
       "    </tr>\n",
       "    <tr>\n",
       "      <th>min</th>\n",
       "      <td>0.00000</td>\n",
       "      <td>1.13686</td>\n",
       "      <td>0.37062</td>\n",
       "      <td>0.00000</td>\n",
       "      <td>1.00000</td>\n",
       "      <td>0.00000</td>\n",
       "      <td>1910.00000</td>\n",
       "      <td>0.00000</td>\n",
       "      <td>0.00000</td>\n",
       "      <td>168.00000</td>\n",
       "      <td>0.00000</td>\n",
       "      <td>0.00000</td>\n",
       "      <td>0.00000</td>\n",
       "      <td>0.00000</td>\n",
       "      <td>59174.77803</td>\n",
       "    </tr>\n",
       "    <tr>\n",
       "      <th>25%</th>\n",
       "      <td>1.00000</td>\n",
       "      <td>41.77488</td>\n",
       "      <td>22.76983</td>\n",
       "      <td>1.00000</td>\n",
       "      <td>4.00000</td>\n",
       "      <td>9.00000</td>\n",
       "      <td>1974.00000</td>\n",
       "      <td>0.01765</td>\n",
       "      <td>6.00000</td>\n",
       "      <td>1564.00000</td>\n",
       "      <td>0.00000</td>\n",
       "      <td>350.00000</td>\n",
       "      <td>0.00000</td>\n",
       "      <td>1.00000</td>\n",
       "      <td>153872.63394</td>\n",
       "    </tr>\n",
       "    <tr>\n",
       "      <th>50%</th>\n",
       "      <td>2.00000</td>\n",
       "      <td>52.51331</td>\n",
       "      <td>32.78126</td>\n",
       "      <td>6.00000</td>\n",
       "      <td>7.00000</td>\n",
       "      <td>13.00000</td>\n",
       "      <td>1977.00000</td>\n",
       "      <td>0.07542</td>\n",
       "      <td>25.00000</td>\n",
       "      <td>5285.00000</td>\n",
       "      <td>2.00000</td>\n",
       "      <td>900.00000</td>\n",
       "      <td>1.00000</td>\n",
       "      <td>3.00000</td>\n",
       "      <td>192269.64488</td>\n",
       "    </tr>\n",
       "    <tr>\n",
       "      <th>75%</th>\n",
       "      <td>2.00000</td>\n",
       "      <td>65.90063</td>\n",
       "      <td>45.12880</td>\n",
       "      <td>9.00000</td>\n",
       "      <td>12.00000</td>\n",
       "      <td>17.00000</td>\n",
       "      <td>2001.00000</td>\n",
       "      <td>0.19578</td>\n",
       "      <td>36.00000</td>\n",
       "      <td>7227.00000</td>\n",
       "      <td>5.00000</td>\n",
       "      <td>1548.00000</td>\n",
       "      <td>2.00000</td>\n",
       "      <td>6.00000</td>\n",
       "      <td>249135.46217</td>\n",
       "    </tr>\n",
       "    <tr>\n",
       "      <th>max</th>\n",
       "      <td>19.00000</td>\n",
       "      <td>641.06519</td>\n",
       "      <td>7480.59213</td>\n",
       "      <td>2014.00000</td>\n",
       "      <td>42.00000</td>\n",
       "      <td>117.00000</td>\n",
       "      <td>20052011.00000</td>\n",
       "      <td>0.52187</td>\n",
       "      <td>74.00000</td>\n",
       "      <td>19083.00000</td>\n",
       "      <td>141.00000</td>\n",
       "      <td>4849.00000</td>\n",
       "      <td>6.00000</td>\n",
       "      <td>23.00000</td>\n",
       "      <td>633233.46657</td>\n",
       "    </tr>\n",
       "  </tbody>\n",
       "</table>\n",
       "</div>"
      ],
      "text/plain": [
       "            Rooms      Square  LifeSquare  KitchenSquare       Floor  \\\n",
       "count 10000.00000 10000.00000  7887.00000    10000.00000 10000.00000   \n",
       "mean      1.89050    56.31578    37.19964        6.27330     8.52670   \n",
       "std       0.83951    21.05873    86.24121       28.56092     5.24115   \n",
       "min       0.00000     1.13686     0.37062        0.00000     1.00000   \n",
       "25%       1.00000    41.77488    22.76983        1.00000     4.00000   \n",
       "50%       2.00000    52.51331    32.78126        6.00000     7.00000   \n",
       "75%       2.00000    65.90063    45.12880        9.00000    12.00000   \n",
       "max      19.00000   641.06519  7480.59213     2014.00000    42.00000   \n",
       "\n",
       "       HouseFloor      HouseYear   Ecology_1    Social_1    Social_2  \\\n",
       "count 10000.00000    10000.00000 10000.00000 10000.00000 10000.00000   \n",
       "mean     12.60940     3990.16630     0.11886    24.68700  5352.15740   \n",
       "std       6.77597   200500.26143     0.11903    17.53261  4006.79980   \n",
       "min       0.00000     1910.00000     0.00000     0.00000   168.00000   \n",
       "25%       9.00000     1974.00000     0.01765     6.00000  1564.00000   \n",
       "50%      13.00000     1977.00000     0.07542    25.00000  5285.00000   \n",
       "75%      17.00000     2001.00000     0.19578    36.00000  7227.00000   \n",
       "max     117.00000 20052011.00000     0.52187    74.00000 19083.00000   \n",
       "\n",
       "         Social_3  Healthcare_1  Helthcare_2     Shops_1        Price  \n",
       "count 10000.00000    5202.00000  10000.00000 10000.00000  10000.00000  \n",
       "mean      8.03920    1142.90446      1.31950     4.23130 214138.85740  \n",
       "std      23.83187    1021.51726      1.49360     4.80634  92872.29387  \n",
       "min       0.00000       0.00000      0.00000     0.00000  59174.77803  \n",
       "25%       0.00000     350.00000      0.00000     1.00000 153872.63394  \n",
       "50%       2.00000     900.00000      1.00000     3.00000 192269.64488  \n",
       "75%       5.00000    1548.00000      2.00000     6.00000 249135.46217  \n",
       "max     141.00000    4849.00000      6.00000    23.00000 633233.46657  "
      ]
     },
     "execution_count": 11,
     "metadata": {},
     "output_type": "execute_result"
    }
   ],
   "source": [
    "df.describe()"
   ]
  },
  {
   "cell_type": "code",
   "execution_count": 12,
   "metadata": {
    "colab": {
     "base_uri": "https://localhost:8080/",
     "height": 170
    },
    "colab_type": "code",
    "executionInfo": {
     "elapsed": 613,
     "status": "ok",
     "timestamp": 1582664033937,
     "user": {
      "displayName": "Alexey Tankov",
      "photoUrl": "",
      "userId": "01729535101672247421"
     },
     "user_tz": -180
    },
    "id": "Q5QMjFPEX7QC",
    "outputId": "6417b233-0c4f-491a-d113-c30f38104d32"
   },
   "outputs": [
    {
     "data": {
      "text/plain": [
       "count    10000.00000\n",
       "mean    214138.85740\n",
       "std      92872.29387\n",
       "min      59174.77803\n",
       "25%     153872.63394\n",
       "50%     192269.64488\n",
       "75%     249135.46217\n",
       "max     633233.46657\n",
       "Name: Price, dtype: float64"
      ]
     },
     "execution_count": 12,
     "metadata": {},
     "output_type": "execute_result"
    }
   ],
   "source": [
    "df.Price.describe()"
   ]
  },
  {
   "cell_type": "code",
   "execution_count": 13,
   "metadata": {
    "colab": {
     "base_uri": "https://localhost:8080/",
     "height": 525
    },
    "colab_type": "code",
    "executionInfo": {
     "elapsed": 950,
     "status": "ok",
     "timestamp": 1582664035968,
     "user": {
      "displayName": "Alexey Tankov",
      "photoUrl": "",
      "userId": "01729535101672247421"
     },
     "user_tz": -180
    },
    "id": "Hz-dFyyDX7xc",
    "outputId": "56d80e14-f327-4f32-e57c-c67903d415d6"
   },
   "outputs": [
    {
     "data": {
      "image/png": "[encoded data removed]",
      "text/plain": [
       "<Figure size 1152x576 with 1 Axes>"
      ]
     },
     "metadata": {
      "needs_background": "light"
     },
     "output_type": "display_data"
    }
   ],
   "source": [
    "plt.figure(figsize = (16, 8))\n",
    "plt.hist(df.Price, bins=30)\n",
    "plt.ylabel('count')\n",
    "plt.xlabel('price')\n",
    "plt.title('Target distribution')\n",
    "plt.show()"
   ]
  },
  {
   "cell_type": "code",
   "execution_count": 14,
   "metadata": {
    "colab": {
     "base_uri": "https://localhost:8080/",
     "height": 487
    },
    "colab_type": "code",
    "executionInfo": {
     "elapsed": 862,
     "status": "ok",
     "timestamp": 1582664038605,
     "user": {
      "displayName": "Alexey Tankov",
      "photoUrl": "",
      "userId": "01729535101672247421"
     },
     "user_tz": -180
    },
    "id": "YpVDP8t1X-bj",
    "outputId": "535120bd-9d92-4dc9-891e-610167dfc6fe"
   },
   "outputs": [
    {
     "data": {
      "image/png": "[encoded data removed]",
      "text/plain": [
       "<Figure size 1152x576 with 1 Axes>"
      ]
     },
     "metadata": {
      "needs_background": "light"
     },
     "output_type": "display_data"
    }
   ],
   "source": [
    "plt.figure(figsize = (16, 8))\n",
    "z = np.log(df.Price)\n",
    "plt.hist(z, bins=30)\n",
    "plt.show()"
   ]
  },
  {
   "cell_type": "markdown",
   "metadata": {
    "colab_type": "text",
    "id": "Ezd5nzrFZLvp"
   },
   "source": [
    "**Rooms - количество комнат**"
   ]
  },
  {
   "cell_type": "code",
   "execution_count": 15,
   "metadata": {
    "colab": {
     "base_uri": "https://localhost:8080/",
     "height": 504
    },
    "colab_type": "code",
    "executionInfo": {
     "elapsed": 1010,
     "status": "ok",
     "timestamp": 1582664041275,
     "user": {
      "displayName": "Alexey Tankov",
      "photoUrl": "",
      "userId": "01729535101672247421"
     },
     "user_tz": -180
    },
    "id": "t61RdwX5Y9BJ",
    "outputId": "6a81540f-7428-418b-a577-3a63bfd96ac1"
   },
   "outputs": [
    {
     "data": {
      "text/plain": [
       "<matplotlib.collections.PathCollection at 0x126579b0>"
      ]
     },
     "execution_count": 15,
     "metadata": {},
     "output_type": "execute_result"
    },
    {
     "data": {
      "image/png": "[encoded data removed]",
      "text/plain": [
       "<Figure size 1152x576 with 1 Axes>"
      ]
     },
     "metadata": {
      "needs_background": "light"
     },
     "output_type": "display_data"
    }
   ],
   "source": [
    "plt.figure(figsize = (16, 8))\n",
    "plt.scatter(df.Price, df.Rooms)"
   ]
  },
  {
   "cell_type": "code",
   "execution_count": 16,
   "metadata": {
    "colab": {
     "base_uri": "https://localhost:8080/",
     "height": 142
    },
    "colab_type": "code",
    "executionInfo": {
     "elapsed": 647,
     "status": "ok",
     "timestamp": 1582664043298,
     "user": {
      "displayName": "Alexey Tankov",
      "photoUrl": "",
      "userId": "01729535101672247421"
     },
     "user_tz": -180
    },
    "id": "AknSeObxY9jo",
    "outputId": "e56d934c-27b3-4931-9a8d-3acd11d9f432"
   },
   "outputs": [
    {
     "data": {
      "text/html": [
       "<div>\n",
       "<style scoped>\n",
       "    .dataframe tbody tr th:only-of-type {\n",
       "        vertical-align: middle;\n",
       "    }\n",
       "\n",
       "    .dataframe tbody tr th {\n",
       "        vertical-align: top;\n",
       "    }\n",
       "\n",
       "    .dataframe thead th {\n",
       "        text-align: right;\n",
       "    }\n",
       "</style>\n",
       "<table border=\"1\" class=\"dataframe\">\n",
       "  <thead>\n",
       "    <tr style=\"text-align: right;\">\n",
       "      <th></th>\n",
       "      <th>Id</th>\n",
       "      <th>DistrictId</th>\n",
       "      <th>Rooms</th>\n",
       "      <th>Square</th>\n",
       "      <th>LifeSquare</th>\n",
       "      <th>KitchenSquare</th>\n",
       "      <th>Floor</th>\n",
       "      <th>HouseFloor</th>\n",
       "      <th>HouseYear</th>\n",
       "      <th>Ecology_1</th>\n",
       "      <th>Ecology_2</th>\n",
       "      <th>Ecology_3</th>\n",
       "      <th>Social_1</th>\n",
       "      <th>Social_2</th>\n",
       "      <th>Social_3</th>\n",
       "      <th>Healthcare_1</th>\n",
       "      <th>Helthcare_2</th>\n",
       "      <th>Shops_1</th>\n",
       "      <th>Shops_2</th>\n",
       "      <th>Price</th>\n",
       "    </tr>\n",
       "  </thead>\n",
       "  <tbody>\n",
       "    <tr>\n",
       "      <th>377</th>\n",
       "      <td>5927</td>\n",
       "      <td>57</td>\n",
       "      <td>10.00000</td>\n",
       "      <td>59.05698</td>\n",
       "      <td>36.22307</td>\n",
       "      <td>10.00000</td>\n",
       "      <td>22</td>\n",
       "      <td>22.00000</td>\n",
       "      <td>2002</td>\n",
       "      <td>0.09080</td>\n",
       "      <td>B</td>\n",
       "      <td>B</td>\n",
       "      <td>74</td>\n",
       "      <td>19083</td>\n",
       "      <td>2</td>\n",
       "      <td>nan</td>\n",
       "      <td>5</td>\n",
       "      <td>15</td>\n",
       "      <td>B</td>\n",
       "      <td>317265.32379</td>\n",
       "    </tr>\n",
       "    <tr>\n",
       "      <th>1454</th>\n",
       "      <td>8491</td>\n",
       "      <td>1</td>\n",
       "      <td>19.00000</td>\n",
       "      <td>42.00605</td>\n",
       "      <td>21.77929</td>\n",
       "      <td>7.00000</td>\n",
       "      <td>17</td>\n",
       "      <td>17.00000</td>\n",
       "      <td>2014</td>\n",
       "      <td>0.00712</td>\n",
       "      <td>B</td>\n",
       "      <td>B</td>\n",
       "      <td>1</td>\n",
       "      <td>264</td>\n",
       "      <td>0</td>\n",
       "      <td>nan</td>\n",
       "      <td>0</td>\n",
       "      <td>1</td>\n",
       "      <td>B</td>\n",
       "      <td>78364.61670</td>\n",
       "    </tr>\n",
       "    <tr>\n",
       "      <th>8849</th>\n",
       "      <td>14865</td>\n",
       "      <td>9</td>\n",
       "      <td>10.00000</td>\n",
       "      <td>60.87127</td>\n",
       "      <td>38.42068</td>\n",
       "      <td>10.00000</td>\n",
       "      <td>3</td>\n",
       "      <td>2.00000</td>\n",
       "      <td>1994</td>\n",
       "      <td>0.16153</td>\n",
       "      <td>B</td>\n",
       "      <td>B</td>\n",
       "      <td>25</td>\n",
       "      <td>5648</td>\n",
       "      <td>1</td>\n",
       "      <td>30.00000</td>\n",
       "      <td>2</td>\n",
       "      <td>4</td>\n",
       "      <td>B</td>\n",
       "      <td>172329.27086</td>\n",
       "    </tr>\n",
       "  </tbody>\n",
       "</table>\n",
       "</div>"
      ],
      "text/plain": [
       "         Id DistrictId    Rooms   Square  LifeSquare  KitchenSquare  Floor  \\\n",
       "377    5927         57 10.00000 59.05698    36.22307       10.00000     22   \n",
       "1454   8491          1 19.00000 42.00605    21.77929        7.00000     17   \n",
       "8849  14865          9 10.00000 60.87127    38.42068       10.00000      3   \n",
       "\n",
       "      HouseFloor  HouseYear  Ecology_1 Ecology_2 Ecology_3  Social_1  \\\n",
       "377     22.00000       2002    0.09080         B         B        74   \n",
       "1454    17.00000       2014    0.00712         B         B         1   \n",
       "8849     2.00000       1994    0.16153         B         B        25   \n",
       "\n",
       "      Social_2  Social_3  Healthcare_1  Helthcare_2  Shops_1 Shops_2  \\\n",
       "377      19083         2           nan            5       15       B   \n",
       "1454       264         0           nan            0        1       B   \n",
       "8849      5648         1      30.00000            2        4       B   \n",
       "\n",
       "            Price  \n",
       "377  317265.32379  \n",
       "1454  78364.61670  \n",
       "8849 172329.27086  "
      ]
     },
     "execution_count": 16,
     "metadata": {},
     "output_type": "execute_result"
    }
   ],
   "source": [
    "df[df['Rooms'] > 6]"
   ]
  },
  {
   "cell_type": "code",
   "execution_count": 17,
   "metadata": {
    "colab": {},
    "colab_type": "code",
    "id": "Ca0tt_cmZFJc"
   },
   "outputs": [],
   "source": [
    "rooms_median = df['Rooms'].median()\n",
    "df.loc[df['Rooms'] > 6, 'Rooms'] = rooms_median"
   ]
  },
  {
   "cell_type": "markdown",
   "metadata": {
    "colab_type": "text",
    "id": "Di0rnVoUZVzC"
   },
   "source": [
    "**Square - площадь**"
   ]
  },
  {
   "cell_type": "code",
   "execution_count": 18,
   "metadata": {
    "colab": {
     "base_uri": "https://localhost:8080/",
     "height": 504
    },
    "colab_type": "code",
    "executionInfo": {
     "elapsed": 976,
     "status": "ok",
     "timestamp": 1582664047280,
     "user": {
      "displayName": "Alexey Tankov",
      "photoUrl": "",
      "userId": "01729535101672247421"
     },
     "user_tz": -180
    },
    "id": "FYNnobkUZIWd",
    "outputId": "3123755b-e919-47b0-bde4-a2ec7c7cde8e"
   },
   "outputs": [
    {
     "data": {
      "text/plain": [
       "<matplotlib.collections.PathCollection at 0x128d02b0>"
      ]
     },
     "execution_count": 18,
     "metadata": {},
     "output_type": "execute_result"
    },
    {
     "data": {
      "image/png": "[encoded data removed]",
      "text/plain": [
       "<Figure size 1152x576 with 1 Axes>"
      ]
     },
     "metadata": {
      "needs_background": "light"
     },
     "output_type": "display_data"
    }
   ],
   "source": [
    "plt.figure(figsize = (16, 8))\n",
    "plt.scatter(df.Price, df.Square)"
   ]
  },
  {
   "cell_type": "code",
   "execution_count": 19,
   "metadata": {
    "colab": {
     "base_uri": "https://localhost:8080/",
     "height": 173
    },
    "colab_type": "code",
    "executionInfo": {
     "elapsed": 652,
     "status": "ok",
     "timestamp": 1582664049401,
     "user": {
      "displayName": "Alexey Tankov",
      "photoUrl": "",
      "userId": "01729535101672247421"
     },
     "user_tz": -180
    },
    "id": "ccjZZzFQZaKr",
    "outputId": "8b981c70-f666-492b-c0fa-268c95b52740"
   },
   "outputs": [
    {
     "data": {
      "text/html": [
       "<div>\n",
       "<style scoped>\n",
       "    .dataframe tbody tr th:only-of-type {\n",
       "        vertical-align: middle;\n",
       "    }\n",
       "\n",
       "    .dataframe tbody tr th {\n",
       "        vertical-align: top;\n",
       "    }\n",
       "\n",
       "    .dataframe thead th {\n",
       "        text-align: right;\n",
       "    }\n",
       "</style>\n",
       "<table border=\"1\" class=\"dataframe\">\n",
       "  <thead>\n",
       "    <tr style=\"text-align: right;\">\n",
       "      <th></th>\n",
       "      <th>Id</th>\n",
       "      <th>DistrictId</th>\n",
       "      <th>Rooms</th>\n",
       "      <th>Square</th>\n",
       "      <th>LifeSquare</th>\n",
       "      <th>KitchenSquare</th>\n",
       "      <th>Floor</th>\n",
       "      <th>HouseFloor</th>\n",
       "      <th>HouseYear</th>\n",
       "      <th>Ecology_1</th>\n",
       "      <th>Ecology_2</th>\n",
       "      <th>Ecology_3</th>\n",
       "      <th>Social_1</th>\n",
       "      <th>Social_2</th>\n",
       "      <th>Social_3</th>\n",
       "      <th>Healthcare_1</th>\n",
       "      <th>Helthcare_2</th>\n",
       "      <th>Shops_1</th>\n",
       "      <th>Shops_2</th>\n",
       "      <th>Price</th>\n",
       "    </tr>\n",
       "  </thead>\n",
       "  <tbody>\n",
       "    <tr>\n",
       "      <th>1982</th>\n",
       "      <td>5548</td>\n",
       "      <td>86</td>\n",
       "      <td>5.00000</td>\n",
       "      <td>275.64528</td>\n",
       "      <td>233.94931</td>\n",
       "      <td>26.00000</td>\n",
       "      <td>12</td>\n",
       "      <td>37.00000</td>\n",
       "      <td>2011</td>\n",
       "      <td>0.16198</td>\n",
       "      <td>B</td>\n",
       "      <td>A</td>\n",
       "      <td>31</td>\n",
       "      <td>7010</td>\n",
       "      <td>5</td>\n",
       "      <td>4508.00000</td>\n",
       "      <td>3</td>\n",
       "      <td>7</td>\n",
       "      <td>B</td>\n",
       "      <td>455264.88267</td>\n",
       "    </tr>\n",
       "    <tr>\n",
       "      <th>4262</th>\n",
       "      <td>28</td>\n",
       "      <td>9</td>\n",
       "      <td>2.00000</td>\n",
       "      <td>604.70597</td>\n",
       "      <td>nan</td>\n",
       "      <td>1.00000</td>\n",
       "      <td>17</td>\n",
       "      <td>18.00000</td>\n",
       "      <td>1977</td>\n",
       "      <td>0.16153</td>\n",
       "      <td>B</td>\n",
       "      <td>B</td>\n",
       "      <td>25</td>\n",
       "      <td>5648</td>\n",
       "      <td>1</td>\n",
       "      <td>30.00000</td>\n",
       "      <td>2</td>\n",
       "      <td>4</td>\n",
       "      <td>B</td>\n",
       "      <td>187717.24254</td>\n",
       "    </tr>\n",
       "    <tr>\n",
       "      <th>4690</th>\n",
       "      <td>2307</td>\n",
       "      <td>102</td>\n",
       "      <td>1.00000</td>\n",
       "      <td>409.42518</td>\n",
       "      <td>410.63975</td>\n",
       "      <td>10.00000</td>\n",
       "      <td>4</td>\n",
       "      <td>4.00000</td>\n",
       "      <td>2016</td>\n",
       "      <td>0.23862</td>\n",
       "      <td>B</td>\n",
       "      <td>B</td>\n",
       "      <td>26</td>\n",
       "      <td>3889</td>\n",
       "      <td>6</td>\n",
       "      <td>705.00000</td>\n",
       "      <td>3</td>\n",
       "      <td>6</td>\n",
       "      <td>B</td>\n",
       "      <td>90470.43083</td>\n",
       "    </tr>\n",
       "    <tr>\n",
       "      <th>6977</th>\n",
       "      <td>11602</td>\n",
       "      <td>30</td>\n",
       "      <td>2.00000</td>\n",
       "      <td>641.06519</td>\n",
       "      <td>638.16319</td>\n",
       "      <td>10.00000</td>\n",
       "      <td>20</td>\n",
       "      <td>19.00000</td>\n",
       "      <td>2019</td>\n",
       "      <td>0.00008</td>\n",
       "      <td>B</td>\n",
       "      <td>B</td>\n",
       "      <td>22</td>\n",
       "      <td>6398</td>\n",
       "      <td>141</td>\n",
       "      <td>1046.00000</td>\n",
       "      <td>3</td>\n",
       "      <td>23</td>\n",
       "      <td>B</td>\n",
       "      <td>133529.68156</td>\n",
       "    </tr>\n",
       "  </tbody>\n",
       "</table>\n",
       "</div>"
      ],
      "text/plain": [
       "         Id DistrictId   Rooms    Square  LifeSquare  KitchenSquare  Floor  \\\n",
       "1982   5548         86 5.00000 275.64528   233.94931       26.00000     12   \n",
       "4262     28          9 2.00000 604.70597         nan        1.00000     17   \n",
       "4690   2307        102 1.00000 409.42518   410.63975       10.00000      4   \n",
       "6977  11602         30 2.00000 641.06519   638.16319       10.00000     20   \n",
       "\n",
       "      HouseFloor  HouseYear  Ecology_1 Ecology_2 Ecology_3  Social_1  \\\n",
       "1982    37.00000       2011    0.16198         B         A        31   \n",
       "4262    18.00000       1977    0.16153         B         B        25   \n",
       "4690     4.00000       2016    0.23862         B         B        26   \n",
       "6977    19.00000       2019    0.00008         B         B        22   \n",
       "\n",
       "      Social_2  Social_3  Healthcare_1  Helthcare_2  Shops_1 Shops_2  \\\n",
       "1982      7010         5    4508.00000            3        7       B   \n",
       "4262      5648         1      30.00000            2        4       B   \n",
       "4690      3889         6     705.00000            3        6       B   \n",
       "6977      6398       141    1046.00000            3       23       B   \n",
       "\n",
       "            Price  \n",
       "1982 455264.88267  \n",
       "4262 187717.24254  \n",
       "4690  90470.43083  \n",
       "6977 133529.68156  "
      ]
     },
     "execution_count": 19,
     "metadata": {},
     "output_type": "execute_result"
    }
   ],
   "source": [
    "df[df['Square'] > 250]"
   ]
  },
  {
   "cell_type": "code",
   "execution_count": 20,
   "metadata": {
    "colab": {},
    "colab_type": "code",
    "id": "Q-_6WQrogBhV"
   },
   "outputs": [],
   "source": [
    "square_median = df['Square'].median()\n",
    "df.loc[df['Square'] > 300, 'Square'] = square_median"
   ]
  },
  {
   "cell_type": "markdown",
   "metadata": {
    "colab_type": "text",
    "id": "ehGCAfuggKcZ"
   },
   "source": [
    "**LifeSquare - жилая площадь**"
   ]
  },
  {
   "cell_type": "code",
   "execution_count": 21,
   "metadata": {
    "colab": {
     "base_uri": "https://localhost:8080/",
     "height": 504
    },
    "colab_type": "code",
    "executionInfo": {
     "elapsed": 959,
     "status": "ok",
     "timestamp": 1582664053551,
     "user": {
      "displayName": "Alexey Tankov",
      "photoUrl": "",
      "userId": "01729535101672247421"
     },
     "user_tz": -180
    },
    "id": "3HjUX80MgFUm",
    "outputId": "7e4f3610-e4ab-4197-cce3-b7579cd24f3a"
   },
   "outputs": [
    {
     "data": {
      "text/plain": [
       "<matplotlib.collections.PathCollection at 0x12ce7d90>"
      ]
     },
     "execution_count": 21,
     "metadata": {},
     "output_type": "execute_result"
    },
    {
     "data": {
      "image/png": "[encoded data removed]",
      "text/plain": [
       "<Figure size 1152x576 with 1 Axes>"
      ]
     },
     "metadata": {
      "needs_background": "light"
     },
     "output_type": "display_data"
    }
   ],
   "source": [
    "plt.figure(figsize = (16, 8))\n",
    "plt.scatter(df.Price, df.LifeSquare)"
   ]
  },
  {
   "cell_type": "code",
   "execution_count": 22,
   "metadata": {
    "colab": {},
    "colab_type": "code",
    "id": "K1u3yYtmgSGX"
   },
   "outputs": [],
   "source": [
    "lifesquare_median = df['LifeSquare'].median()\n",
    "df.loc[df['LifeSquare'].isnull(), 'LifeSquare'] = lifesquare_median\n",
    "df.loc[df['LifeSquare'] > 300, 'LifeSquare'] = lifesquare_median"
   ]
  },
  {
   "cell_type": "markdown",
   "metadata": {
    "colab_type": "text",
    "id": "WThXzl-zgY0n"
   },
   "source": [
    "**KitchenSquare - площадь кухни**"
   ]
  },
  {
   "cell_type": "code",
   "execution_count": 23,
   "metadata": {
    "colab": {
     "base_uri": "https://localhost:8080/",
     "height": 504
    },
    "colab_type": "code",
    "executionInfo": {
     "elapsed": 1012,
     "status": "ok",
     "timestamp": 1582664058388,
     "user": {
      "displayName": "Alexey Tankov",
      "photoUrl": "",
      "userId": "01729535101672247421"
     },
     "user_tz": -180
    },
    "id": "Gs-vbcXbgV-h",
    "outputId": "7d559fd4-3b7e-4d9e-c83c-590ddbd5ca71"
   },
   "outputs": [
    {
     "data": {
      "text/plain": [
       "<matplotlib.collections.PathCollection at 0x12d0e070>"
      ]
     },
     "execution_count": 23,
     "metadata": {},
     "output_type": "execute_result"
    },
    {
     "data": {
      "image/png": "[encoded data removed]",
      "text/plain": [
       "<Figure size 1152x576 with 1 Axes>"
      ]
     },
     "metadata": {
      "needs_background": "light"
     },
     "output_type": "display_data"
    }
   ],
   "source": [
    "plt.figure(figsize = (16, 8))\n",
    "plt.scatter(df.Price, df.KitchenSquare)"
   ]
  },
  {
   "cell_type": "code",
   "execution_count": 24,
   "metadata": {
    "colab": {},
    "colab_type": "code",
    "id": "9Pd9WnvPgd6v"
   },
   "outputs": [],
   "source": [
    "kitchensquare_median = df['KitchenSquare'].median()\n",
    "df.loc[df['KitchenSquare'] > 300, 'KitchenSquare'] = kitchensquare_median"
   ]
  },
  {
   "cell_type": "markdown",
   "metadata": {
    "colab_type": "text",
    "id": "TC55BDA0gvGi"
   },
   "source": [
    "**HouseYear - год постройки дома**"
   ]
  },
  {
   "cell_type": "code",
   "execution_count": 25,
   "metadata": {
    "colab": {
     "base_uri": "https://localhost:8080/",
     "height": 518
    },
    "colab_type": "code",
    "executionInfo": {
     "elapsed": 854,
     "status": "ok",
     "timestamp": 1582664062322,
     "user": {
      "displayName": "Alexey Tankov",
      "photoUrl": "",
      "userId": "01729535101672247421"
     },
     "user_tz": -180
    },
    "id": "ADzGw5y3grcy",
    "outputId": "3644c1cb-9fa1-4ba7-d975-0b30e7937332"
   },
   "outputs": [
    {
     "data": {
      "text/plain": [
       "<matplotlib.collections.PathCollection at 0x12d55590>"
      ]
     },
     "execution_count": 25,
     "metadata": {},
     "output_type": "execute_result"
    },
    {
     "data": {
      "image/png": "[encoded data removed]",
      "text/plain": [
       "<Figure size 1152x576 with 1 Axes>"
      ]
     },
     "metadata": {
      "needs_background": "light"
     },
     "output_type": "display_data"
    }
   ],
   "source": [
    "plt.figure(figsize = (16, 8))\n",
    "plt.scatter(df.Price, df.HouseYear)"
   ]
  },
  {
   "cell_type": "code",
   "execution_count": 26,
   "metadata": {
    "colab": {
     "base_uri": "https://localhost:8080/",
     "height": 111
    },
    "colab_type": "code",
    "executionInfo": {
     "elapsed": 614,
     "status": "ok",
     "timestamp": 1582664064677,
     "user": {
      "displayName": "Alexey Tankov",
      "photoUrl": "",
      "userId": "01729535101672247421"
     },
     "user_tz": -180
    },
    "id": "hdfHZzWtgzPy",
    "outputId": "448fbece-3ca2-41d3-87d6-bd4f8c1e5af3"
   },
   "outputs": [
    {
     "data": {
      "text/html": [
       "<div>\n",
       "<style scoped>\n",
       "    .dataframe tbody tr th:only-of-type {\n",
       "        vertical-align: middle;\n",
       "    }\n",
       "\n",
       "    .dataframe tbody tr th {\n",
       "        vertical-align: top;\n",
       "    }\n",
       "\n",
       "    .dataframe thead th {\n",
       "        text-align: right;\n",
       "    }\n",
       "</style>\n",
       "<table border=\"1\" class=\"dataframe\">\n",
       "  <thead>\n",
       "    <tr style=\"text-align: right;\">\n",
       "      <th></th>\n",
       "      <th>Id</th>\n",
       "      <th>DistrictId</th>\n",
       "      <th>Rooms</th>\n",
       "      <th>Square</th>\n",
       "      <th>LifeSquare</th>\n",
       "      <th>KitchenSquare</th>\n",
       "      <th>Floor</th>\n",
       "      <th>HouseFloor</th>\n",
       "      <th>HouseYear</th>\n",
       "      <th>Ecology_1</th>\n",
       "      <th>Ecology_2</th>\n",
       "      <th>Ecology_3</th>\n",
       "      <th>Social_1</th>\n",
       "      <th>Social_2</th>\n",
       "      <th>Social_3</th>\n",
       "      <th>Healthcare_1</th>\n",
       "      <th>Helthcare_2</th>\n",
       "      <th>Shops_1</th>\n",
       "      <th>Shops_2</th>\n",
       "      <th>Price</th>\n",
       "    </tr>\n",
       "  </thead>\n",
       "  <tbody>\n",
       "    <tr>\n",
       "      <th>1497</th>\n",
       "      <td>10814</td>\n",
       "      <td>109</td>\n",
       "      <td>1.00000</td>\n",
       "      <td>37.26507</td>\n",
       "      <td>20.23971</td>\n",
       "      <td>9.00000</td>\n",
       "      <td>9</td>\n",
       "      <td>12.00000</td>\n",
       "      <td>20052011</td>\n",
       "      <td>0.13633</td>\n",
       "      <td>B</td>\n",
       "      <td>B</td>\n",
       "      <td>30</td>\n",
       "      <td>6141</td>\n",
       "      <td>10</td>\n",
       "      <td>262.00000</td>\n",
       "      <td>3</td>\n",
       "      <td>6</td>\n",
       "      <td>B</td>\n",
       "      <td>254084.53440</td>\n",
       "    </tr>\n",
       "    <tr>\n",
       "      <th>4189</th>\n",
       "      <td>11607</td>\n",
       "      <td>147</td>\n",
       "      <td>2.00000</td>\n",
       "      <td>44.79184</td>\n",
       "      <td>28.36039</td>\n",
       "      <td>5.00000</td>\n",
       "      <td>4</td>\n",
       "      <td>9.00000</td>\n",
       "      <td>4968</td>\n",
       "      <td>0.31981</td>\n",
       "      <td>B</td>\n",
       "      <td>B</td>\n",
       "      <td>25</td>\n",
       "      <td>4756</td>\n",
       "      <td>16</td>\n",
       "      <td>2857.00000</td>\n",
       "      <td>5</td>\n",
       "      <td>8</td>\n",
       "      <td>B</td>\n",
       "      <td>243028.60310</td>\n",
       "    </tr>\n",
       "  </tbody>\n",
       "</table>\n",
       "</div>"
      ],
      "text/plain": [
       "         Id DistrictId   Rooms   Square  LifeSquare  KitchenSquare  Floor  \\\n",
       "1497  10814        109 1.00000 37.26507    20.23971        9.00000      9   \n",
       "4189  11607        147 2.00000 44.79184    28.36039        5.00000      4   \n",
       "\n",
       "      HouseFloor  HouseYear  Ecology_1 Ecology_2 Ecology_3  Social_1  \\\n",
       "1497    12.00000   20052011    0.13633         B         B        30   \n",
       "4189     9.00000       4968    0.31981         B         B        25   \n",
       "\n",
       "      Social_2  Social_3  Healthcare_1  Helthcare_2  Shops_1 Shops_2  \\\n",
       "1497      6141        10     262.00000            3        6       B   \n",
       "4189      4756        16    2857.00000            5        8       B   \n",
       "\n",
       "            Price  \n",
       "1497 254084.53440  \n",
       "4189 243028.60310  "
      ]
     },
     "execution_count": 26,
     "metadata": {},
     "output_type": "execute_result"
    }
   ],
   "source": [
    "df[df['HouseYear'] > 2020]"
   ]
  },
  {
   "cell_type": "code",
   "execution_count": 27,
   "metadata": {
    "colab": {},
    "colab_type": "code",
    "id": "UWl_5j-Kg-DI"
   },
   "outputs": [],
   "source": [
    "df.loc[df['Id'] == '10814', 'HouseYear'] = 2011\n",
    "df.loc[df['Id'] == '11607', 'HouseYear'] = 1968"
   ]
  },
  {
   "cell_type": "markdown",
   "metadata": {
    "colab_type": "text",
    "id": "_--Rk-Y3hgoZ"
   },
   "source": [
    "**Healthcare_1 - показатели местности, связанные с охраной здоровья**"
   ]
  },
  {
   "cell_type": "code",
   "execution_count": 28,
   "metadata": {
    "colab": {},
    "colab_type": "code",
    "id": "HxNSNIiHhiZe"
   },
   "outputs": [],
   "source": [
    "healthcare_1_median = df['Healthcare_1'].median()\n",
    "df.loc[df['Healthcare_1'].isnull(), 'Healthcare_1'] = healthcare_1_median"
   ]
  },
  {
   "cell_type": "code",
   "execution_count": 29,
   "metadata": {
    "colab": {
     "base_uri": "https://localhost:8080/",
     "height": 522
    },
    "colab_type": "code",
    "executionInfo": {
     "elapsed": 841,
     "status": "ok",
     "timestamp": 1582664072443,
     "user": {
      "displayName": "Alexey Tankov",
      "photoUrl": "",
      "userId": "01729535101672247421"
     },
     "user_tz": -180
    },
    "id": "Xvx5zNuahm8d",
    "outputId": "fc3322c0-ae2b-4559-b3d9-0737e974bbb9"
   },
   "outputs": [
    {
     "data": {
      "text/plain": [
       "<matplotlib.axes._subplots.AxesSubplot at 0x1267f870>"
      ]
     },
     "execution_count": 29,
     "metadata": {},
     "output_type": "execute_result"
    },
    {
     "data": {
      "image/png": "[encoded data removed]",
      "text/plain": [
       "<Figure size 1152x576 with 1 Axes>"
      ]
     },
     "metadata": {
      "needs_background": "light"
     },
     "output_type": "display_data"
    }
   ],
   "source": [
    "plt.figure(figsize=(16, 8))\n",
    "sns.boxplot(df.Price, df.Shops_2)"
   ]
  },
  {
   "cell_type": "markdown",
   "metadata": {
    "colab_type": "text",
    "id": "qabNrycO0RK8"
   },
   "source": [
    "**Построение новых признаков**"
   ]
  },
  {
   "cell_type": "code",
   "execution_count": 30,
   "metadata": {
    "colab": {},
    "colab_type": "code",
    "id": "EyoN4QHYiJ5I"
   },
   "outputs": [],
   "source": [
    "df.loc[df['Ecology_2'] == 'A', 'Ecology_2'] = 0\n",
    "df.loc[df['Ecology_2'] == 'B', 'Ecology_2'] = 1\n",
    "df.loc[df['Ecology_3'] == 'A', 'Ecology_3'] = 0\n",
    "df.loc[df['Ecology_3'] == 'B', 'Ecology_3'] = 1\n",
    "df.loc[df['Shops_2'] == 'A', 'Shops_2'] = 0\n",
    "df.loc[df['Shops_2'] == 'B', 'Shops_2'] = 1"
   ]
  },
  {
   "cell_type": "code",
   "execution_count": 31,
   "metadata": {
    "colab": {},
    "colab_type": "code",
    "id": "wuiLou7pjsYZ"
   },
   "outputs": [],
   "source": [
    "df_num_features = df.select_dtypes(include=['float64', 'int64']).drop('Price', axis=1)"
   ]
  },
  {
   "cell_type": "code",
   "execution_count": 32,
   "metadata": {
    "colab": {
     "base_uri": "https://localhost:8080/",
     "height": 111
    },
    "colab_type": "code",
    "executionInfo": {
     "elapsed": 570,
     "status": "ok",
     "timestamp": 1582664079559,
     "user": {
      "displayName": "Alexey Tankov",
      "photoUrl": "",
      "userId": "01729535101672247421"
     },
     "user_tz": -180
    },
    "id": "IPA-HMN3js5l",
    "outputId": "a5d0474a-f3ed-45b8-f827-bbfa8a80a637"
   },
   "outputs": [
    {
     "data": {
      "text/html": [
       "<div>\n",
       "<style scoped>\n",
       "    .dataframe tbody tr th:only-of-type {\n",
       "        vertical-align: middle;\n",
       "    }\n",
       "\n",
       "    .dataframe tbody tr th {\n",
       "        vertical-align: top;\n",
       "    }\n",
       "\n",
       "    .dataframe thead th {\n",
       "        text-align: right;\n",
       "    }\n",
       "</style>\n",
       "<table border=\"1\" class=\"dataframe\">\n",
       "  <thead>\n",
       "    <tr style=\"text-align: right;\">\n",
       "      <th></th>\n",
       "      <th>Id</th>\n",
       "      <th>DistrictId</th>\n",
       "      <th>Rooms</th>\n",
       "      <th>Square</th>\n",
       "      <th>LifeSquare</th>\n",
       "      <th>KitchenSquare</th>\n",
       "      <th>Floor</th>\n",
       "      <th>HouseFloor</th>\n",
       "      <th>HouseYear</th>\n",
       "      <th>Ecology_1</th>\n",
       "      <th>Ecology_2</th>\n",
       "      <th>Ecology_3</th>\n",
       "      <th>Social_1</th>\n",
       "      <th>Social_2</th>\n",
       "      <th>Social_3</th>\n",
       "      <th>Healthcare_1</th>\n",
       "      <th>Helthcare_2</th>\n",
       "      <th>Shops_1</th>\n",
       "      <th>Shops_2</th>\n",
       "      <th>Price</th>\n",
       "    </tr>\n",
       "  </thead>\n",
       "  <tbody>\n",
       "    <tr>\n",
       "      <th>5149</th>\n",
       "      <td>13703</td>\n",
       "      <td>42</td>\n",
       "      <td>1.00000</td>\n",
       "      <td>38.07169</td>\n",
       "      <td>19.72355</td>\n",
       "      <td>73.00000</td>\n",
       "      <td>9</td>\n",
       "      <td>10.00000</td>\n",
       "      <td>2006</td>\n",
       "      <td>0.15825</td>\n",
       "      <td>1</td>\n",
       "      <td>1</td>\n",
       "      <td>21</td>\n",
       "      <td>5731</td>\n",
       "      <td>0</td>\n",
       "      <td>900.00000</td>\n",
       "      <td>1</td>\n",
       "      <td>0</td>\n",
       "      <td>1</td>\n",
       "      <td>160488.03316</td>\n",
       "    </tr>\n",
       "    <tr>\n",
       "      <th>7088</th>\n",
       "      <td>6569</td>\n",
       "      <td>27</td>\n",
       "      <td>1.00000</td>\n",
       "      <td>38.22026</td>\n",
       "      <td>18.71686</td>\n",
       "      <td>84.00000</td>\n",
       "      <td>4</td>\n",
       "      <td>17.00000</td>\n",
       "      <td>2018</td>\n",
       "      <td>0.01165</td>\n",
       "      <td>1</td>\n",
       "      <td>1</td>\n",
       "      <td>4</td>\n",
       "      <td>915</td>\n",
       "      <td>0</td>\n",
       "      <td>900.00000</td>\n",
       "      <td>0</td>\n",
       "      <td>0</td>\n",
       "      <td>1</td>\n",
       "      <td>99079.96052</td>\n",
       "    </tr>\n",
       "  </tbody>\n",
       "</table>\n",
       "</div>"
      ],
      "text/plain": [
       "         Id DistrictId   Rooms   Square  LifeSquare  KitchenSquare  Floor  \\\n",
       "5149  13703         42 1.00000 38.07169    19.72355       73.00000      9   \n",
       "7088   6569         27 1.00000 38.22026    18.71686       84.00000      4   \n",
       "\n",
       "      HouseFloor  HouseYear  Ecology_1 Ecology_2 Ecology_3  Social_1  \\\n",
       "5149    10.00000       2006    0.15825         1         1        21   \n",
       "7088    17.00000       2018    0.01165         1         1         4   \n",
       "\n",
       "      Social_2  Social_3  Healthcare_1  Helthcare_2  Shops_1 Shops_2  \\\n",
       "5149      5731         0     900.00000            1        0       1   \n",
       "7088       915         0     900.00000            0        0       1   \n",
       "\n",
       "            Price  \n",
       "5149 160488.03316  \n",
       "7088  99079.96052  "
      ]
     },
     "execution_count": 32,
     "metadata": {},
     "output_type": "execute_result"
    }
   ],
   "source": [
    "df[df['Square'] < df['KitchenSquare']]"
   ]
  },
  {
   "cell_type": "code",
   "execution_count": 33,
   "metadata": {
    "colab": {},
    "colab_type": "code",
    "id": "7c9WKmasjvjg"
   },
   "outputs": [],
   "source": [
    "df = df.loc[df['Square'] >= df['KitchenSquare']]"
   ]
  },
  {
   "cell_type": "code",
   "execution_count": 34,
   "metadata": {
    "colab": {},
    "colab_type": "code",
    "id": "VrFGwsMbjy1-"
   },
   "outputs": [],
   "source": [
    "df.loc[df['Square'] < 15, 'Square'] = square_median"
   ]
  },
  {
   "cell_type": "code",
   "execution_count": 35,
   "metadata": {
    "colab": {
     "base_uri": "https://localhost:8080/",
     "height": 204
    },
    "colab_type": "code",
    "executionInfo": {
     "elapsed": 599,
     "status": "ok",
     "timestamp": 1582664083315,
     "user": {
      "displayName": "Alexey Tankov",
      "photoUrl": "",
      "userId": "01729535101672247421"
     },
     "user_tz": -180
    },
    "id": "HYx_DVlWj1pO",
    "outputId": "ce9170bd-4c0a-4098-ae0f-40b212af75d8"
   },
   "outputs": [
    {
     "data": {
      "text/html": [
       "<div>\n",
       "<style scoped>\n",
       "    .dataframe tbody tr th:only-of-type {\n",
       "        vertical-align: middle;\n",
       "    }\n",
       "\n",
       "    .dataframe tbody tr th {\n",
       "        vertical-align: top;\n",
       "    }\n",
       "\n",
       "    .dataframe thead th {\n",
       "        text-align: right;\n",
       "    }\n",
       "</style>\n",
       "<table border=\"1\" class=\"dataframe\">\n",
       "  <thead>\n",
       "    <tr style=\"text-align: right;\">\n",
       "      <th></th>\n",
       "      <th>Id</th>\n",
       "      <th>DistrictId</th>\n",
       "      <th>Rooms</th>\n",
       "      <th>Square</th>\n",
       "      <th>LifeSquare</th>\n",
       "      <th>KitchenSquare</th>\n",
       "      <th>Floor</th>\n",
       "      <th>HouseFloor</th>\n",
       "      <th>HouseYear</th>\n",
       "      <th>Ecology_1</th>\n",
       "      <th>Ecology_2</th>\n",
       "      <th>Ecology_3</th>\n",
       "      <th>Social_1</th>\n",
       "      <th>Social_2</th>\n",
       "      <th>Social_3</th>\n",
       "      <th>Healthcare_1</th>\n",
       "      <th>Helthcare_2</th>\n",
       "      <th>Shops_1</th>\n",
       "      <th>Shops_2</th>\n",
       "      <th>Price</th>\n",
       "    </tr>\n",
       "  </thead>\n",
       "  <tbody>\n",
       "    <tr>\n",
       "      <th>28</th>\n",
       "      <td>8054</td>\n",
       "      <td>23</td>\n",
       "      <td>1.00000</td>\n",
       "      <td>42.53004</td>\n",
       "      <td>43.96776</td>\n",
       "      <td>1.00000</td>\n",
       "      <td>3</td>\n",
       "      <td>9.00000</td>\n",
       "      <td>2014</td>\n",
       "      <td>0.03466</td>\n",
       "      <td>1</td>\n",
       "      <td>1</td>\n",
       "      <td>0</td>\n",
       "      <td>168</td>\n",
       "      <td>0</td>\n",
       "      <td>900.00000</td>\n",
       "      <td>0</td>\n",
       "      <td>0</td>\n",
       "      <td>1</td>\n",
       "      <td>95338.19855</td>\n",
       "    </tr>\n",
       "    <tr>\n",
       "      <th>44</th>\n",
       "      <td>10521</td>\n",
       "      <td>38</td>\n",
       "      <td>3.00000</td>\n",
       "      <td>104.21140</td>\n",
       "      <td>106.34040</td>\n",
       "      <td>0.00000</td>\n",
       "      <td>20</td>\n",
       "      <td>0.00000</td>\n",
       "      <td>2017</td>\n",
       "      <td>0.06075</td>\n",
       "      <td>1</td>\n",
       "      <td>1</td>\n",
       "      <td>15</td>\n",
       "      <td>2787</td>\n",
       "      <td>2</td>\n",
       "      <td>520.00000</td>\n",
       "      <td>0</td>\n",
       "      <td>7</td>\n",
       "      <td>1</td>\n",
       "      <td>435462.04807</td>\n",
       "    </tr>\n",
       "    <tr>\n",
       "      <th>52</th>\n",
       "      <td>2301</td>\n",
       "      <td>1</td>\n",
       "      <td>2.00000</td>\n",
       "      <td>61.40005</td>\n",
       "      <td>65.22460</td>\n",
       "      <td>0.00000</td>\n",
       "      <td>17</td>\n",
       "      <td>22.00000</td>\n",
       "      <td>2016</td>\n",
       "      <td>0.00712</td>\n",
       "      <td>1</td>\n",
       "      <td>1</td>\n",
       "      <td>1</td>\n",
       "      <td>264</td>\n",
       "      <td>0</td>\n",
       "      <td>900.00000</td>\n",
       "      <td>0</td>\n",
       "      <td>1</td>\n",
       "      <td>1</td>\n",
       "      <td>199215.45223</td>\n",
       "    </tr>\n",
       "    <tr>\n",
       "      <th>123</th>\n",
       "      <td>8753</td>\n",
       "      <td>25</td>\n",
       "      <td>3.00000</td>\n",
       "      <td>85.95231</td>\n",
       "      <td>89.80375</td>\n",
       "      <td>1.00000</td>\n",
       "      <td>4</td>\n",
       "      <td>3.00000</td>\n",
       "      <td>2017</td>\n",
       "      <td>0.06975</td>\n",
       "      <td>1</td>\n",
       "      <td>1</td>\n",
       "      <td>53</td>\n",
       "      <td>13670</td>\n",
       "      <td>4</td>\n",
       "      <td>900.00000</td>\n",
       "      <td>1</td>\n",
       "      <td>11</td>\n",
       "      <td>1</td>\n",
       "      <td>309688.59268</td>\n",
       "    </tr>\n",
       "    <tr>\n",
       "      <th>153</th>\n",
       "      <td>9870</td>\n",
       "      <td>62</td>\n",
       "      <td>1.00000</td>\n",
       "      <td>51.83147</td>\n",
       "      <td>53.49130</td>\n",
       "      <td>1.00000</td>\n",
       "      <td>5</td>\n",
       "      <td>1.00000</td>\n",
       "      <td>2015</td>\n",
       "      <td>0.07216</td>\n",
       "      <td>1</td>\n",
       "      <td>1</td>\n",
       "      <td>2</td>\n",
       "      <td>629</td>\n",
       "      <td>1</td>\n",
       "      <td>900.00000</td>\n",
       "      <td>0</td>\n",
       "      <td>0</td>\n",
       "      <td>0</td>\n",
       "      <td>131797.47228</td>\n",
       "    </tr>\n",
       "  </tbody>\n",
       "</table>\n",
       "</div>"
      ],
      "text/plain": [
       "        Id DistrictId   Rooms    Square  LifeSquare  KitchenSquare  Floor  \\\n",
       "28    8054         23 1.00000  42.53004    43.96776        1.00000      3   \n",
       "44   10521         38 3.00000 104.21140   106.34040        0.00000     20   \n",
       "52    2301          1 2.00000  61.40005    65.22460        0.00000     17   \n",
       "123   8753         25 3.00000  85.95231    89.80375        1.00000      4   \n",
       "153   9870         62 1.00000  51.83147    53.49130        1.00000      5   \n",
       "\n",
       "     HouseFloor  HouseYear  Ecology_1 Ecology_2 Ecology_3  Social_1  Social_2  \\\n",
       "28      9.00000       2014    0.03466         1         1         0       168   \n",
       "44      0.00000       2017    0.06075         1         1        15      2787   \n",
       "52     22.00000       2016    0.00712         1         1         1       264   \n",
       "123     3.00000       2017    0.06975         1         1        53     13670   \n",
       "153     1.00000       2015    0.07216         1         1         2       629   \n",
       "\n",
       "     Social_3  Healthcare_1  Helthcare_2  Shops_1 Shops_2        Price  \n",
       "28          0     900.00000            0        0       1  95338.19855  \n",
       "44          2     520.00000            0        7       1 435462.04807  \n",
       "52          0     900.00000            0        1       1 199215.45223  \n",
       "123         4     900.00000            1       11       1 309688.59268  \n",
       "153         1     900.00000            0        0       0 131797.47228  "
      ]
     },
     "execution_count": 35,
     "metadata": {},
     "output_type": "execute_result"
    }
   ],
   "source": [
    "df[df['Square'] < df['LifeSquare']].head()"
   ]
  },
  {
   "cell_type": "markdown",
   "metadata": {
    "colab_type": "text",
    "id": "485heTi6kQKk"
   },
   "source": [
    "**Моделирование**"
   ]
  },
  {
   "cell_type": "code",
   "execution_count": 47,
   "metadata": {
    "colab": {},
    "colab_type": "code",
    "id": "dJcOvOdKj-Ek"
   },
   "outputs": [],
   "source": [
    "features_names = df.select_dtypes(include=['float64', 'int64']).drop('Price', axis=1).columns.tolist()\n",
    "target_name = 'Price'\n",
    "X = df[features_names]\n",
    "y = df[target_name]"
   ]
  },
  {
   "cell_type": "code",
   "execution_count": 48,
   "metadata": {
    "colab": {},
    "colab_type": "code",
    "id": "Iu63gbSikY51"
   },
   "outputs": [],
   "source": [
    "# X_train, X_test, y_train, y_test = train_test_split(X, y, test_size=0.17, shuffle=True, random_state=72) - best result\n",
    "X_train, X_test, y_train, y_test = train_test_split(X, y, test_size=0.17, shuffle=True, random_state=62)"
   ]
  },
  {
   "cell_type": "code",
   "execution_count": 49,
   "metadata": {
    "colab": {},
    "colab_type": "code",
    "id": "vcKa3pRNkZcR"
   },
   "outputs": [],
   "source": [
    "def evaluate_preds(true_values, pred_values):\n",
    "    print(\"R2:\\t\" + str(round(r2(true_values, pred_values), 4)) + \"\\n\",\n",
    "        \"MAE:\\t\" + str(round(mae(true_values, pred_values), 4)) + \"\\n\",\n",
    "        \"MSE:\\t\" + str(round(mse(true_values, pred_values), 4)))"
   ]
  },
  {
   "cell_type": "code",
   "execution_count": 50,
   "metadata": {
    "colab": {},
    "colab_type": "code",
    "id": "wCsClHvb5CYX"
   },
   "outputs": [],
   "source": [
    "scaler = RobustScaler()\n",
    "X_train_scaled = scaler.fit_transform(X_train)\n",
    "X_train_scaled = pd.DataFrame(X_train_scaled, columns=X_train.columns)\n",
    "X_test_scaled = scaler.fit_transform(X_test)\n",
    "X_test_scaled = pd.DataFrame(X_test_scaled, columns=X_test.columns)"
   ]
  },
  {
   "cell_type": "code",
   "execution_count": 51,
   "metadata": {
    "colab": {
     "base_uri": "https://localhost:8080/",
     "height": 297
    },
    "colab_type": "code",
    "executionInfo": {
     "elapsed": 597,
     "status": "ok",
     "timestamp": 1582664095189,
     "user": {
      "displayName": "Alexey Tankov",
      "photoUrl": "",
      "userId": "01729535101672247421"
     },
     "user_tz": -180
    },
    "id": "dpKfNgmj5GYO",
    "outputId": "ef4c9efa-2cd7-4995-ff92-cdf7ac7d9d02"
   },
   "outputs": [
    {
     "data": {
      "text/html": [
       "<div>\n",
       "<style scoped>\n",
       "    .dataframe tbody tr th:only-of-type {\n",
       "        vertical-align: middle;\n",
       "    }\n",
       "\n",
       "    .dataframe tbody tr th {\n",
       "        vertical-align: top;\n",
       "    }\n",
       "\n",
       "    .dataframe thead th {\n",
       "        text-align: right;\n",
       "    }\n",
       "</style>\n",
       "<table border=\"1\" class=\"dataframe\">\n",
       "  <thead>\n",
       "    <tr style=\"text-align: right;\">\n",
       "      <th></th>\n",
       "      <th>Rooms</th>\n",
       "      <th>Square</th>\n",
       "      <th>LifeSquare</th>\n",
       "      <th>KitchenSquare</th>\n",
       "      <th>Floor</th>\n",
       "      <th>HouseFloor</th>\n",
       "      <th>HouseYear</th>\n",
       "      <th>Ecology_1</th>\n",
       "      <th>Social_1</th>\n",
       "      <th>Social_2</th>\n",
       "      <th>Social_3</th>\n",
       "      <th>Healthcare_1</th>\n",
       "      <th>Helthcare_2</th>\n",
       "      <th>Shops_1</th>\n",
       "    </tr>\n",
       "  </thead>\n",
       "  <tbody>\n",
       "    <tr>\n",
       "      <th>count</th>\n",
       "      <td>8298.00000</td>\n",
       "      <td>8298.00000</td>\n",
       "      <td>8298.00000</td>\n",
       "      <td>8298.00000</td>\n",
       "      <td>8298.00000</td>\n",
       "      <td>8298.00000</td>\n",
       "      <td>8298.00000</td>\n",
       "      <td>8298.00000</td>\n",
       "      <td>8298.00000</td>\n",
       "      <td>8298.00000</td>\n",
       "      <td>8298.00000</td>\n",
       "      <td>8298.00000</td>\n",
       "      <td>8298.00000</td>\n",
       "      <td>8298.00000</td>\n",
       "    </tr>\n",
       "    <tr>\n",
       "      <th>mean</th>\n",
       "      <td>-0.11220</td>\n",
       "      <td>0.15445</td>\n",
       "      <td>0.16693</td>\n",
       "      <td>-0.01708</td>\n",
       "      <td>0.18943</td>\n",
       "      <td>-0.04670</td>\n",
       "      <td>0.28994</td>\n",
       "      <td>0.24325</td>\n",
       "      <td>-0.00571</td>\n",
       "      <td>0.01852</td>\n",
       "      <td>1.21232</td>\n",
       "      <td>0.69950</td>\n",
       "      <td>0.16353</td>\n",
       "      <td>0.25122</td>\n",
       "    </tr>\n",
       "    <tr>\n",
       "      <th>std</th>\n",
       "      <td>0.81614</td>\n",
       "      <td>0.79726</td>\n",
       "      <td>1.02461</td>\n",
       "      <td>0.64181</td>\n",
       "      <td>0.65361</td>\n",
       "      <td>0.85636</td>\n",
       "      <td>0.68262</td>\n",
       "      <td>0.66747</td>\n",
       "      <td>0.58558</td>\n",
       "      <td>0.70386</td>\n",
       "      <td>4.79363</td>\n",
       "      <td>4.17028</td>\n",
       "      <td>0.74912</td>\n",
       "      <td>0.96241</td>\n",
       "    </tr>\n",
       "    <tr>\n",
       "      <th>min</th>\n",
       "      <td>-2.00000</td>\n",
       "      <td>-1.50182</td>\n",
       "      <td>-2.06110</td>\n",
       "      <td>-0.75000</td>\n",
       "      <td>-0.75000</td>\n",
       "      <td>-1.62500</td>\n",
       "      <td>-2.48148</td>\n",
       "      <td>-0.42341</td>\n",
       "      <td>-0.83333</td>\n",
       "      <td>-0.89411</td>\n",
       "      <td>-0.40000</td>\n",
       "      <td>-5.00000</td>\n",
       "      <td>-0.50000</td>\n",
       "      <td>-0.60000</td>\n",
       "    </tr>\n",
       "    <tr>\n",
       "      <th>25%</th>\n",
       "      <td>-1.00000</td>\n",
       "      <td>-0.44568</td>\n",
       "      <td>-0.45103</td>\n",
       "      <td>-0.62500</td>\n",
       "      <td>-0.37500</td>\n",
       "      <td>-0.50000</td>\n",
       "      <td>-0.11111</td>\n",
       "      <td>-0.32434</td>\n",
       "      <td>-0.63333</td>\n",
       "      <td>-0.65018</td>\n",
       "      <td>-0.40000</td>\n",
       "      <td>-0.50000</td>\n",
       "      <td>-0.50000</td>\n",
       "      <td>-0.40000</td>\n",
       "    </tr>\n",
       "    <tr>\n",
       "      <th>50%</th>\n",
       "      <td>0.00000</td>\n",
       "      <td>0.00000</td>\n",
       "      <td>0.00000</td>\n",
       "      <td>0.00000</td>\n",
       "      <td>0.00000</td>\n",
       "      <td>0.00000</td>\n",
       "      <td>0.00000</td>\n",
       "      <td>0.00000</td>\n",
       "      <td>0.00000</td>\n",
       "      <td>0.00000</td>\n",
       "      <td>0.00000</td>\n",
       "      <td>0.00000</td>\n",
       "      <td>0.00000</td>\n",
       "      <td>0.00000</td>\n",
       "    </tr>\n",
       "    <tr>\n",
       "      <th>75%</th>\n",
       "      <td>0.00000</td>\n",
       "      <td>0.55432</td>\n",
       "      <td>0.54897</td>\n",
       "      <td>0.37500</td>\n",
       "      <td>0.62500</td>\n",
       "      <td>0.50000</td>\n",
       "      <td>0.88889</td>\n",
       "      <td>0.67566</td>\n",
       "      <td>0.36667</td>\n",
       "      <td>0.34982</td>\n",
       "      <td>0.60000</td>\n",
       "      <td>0.50000</td>\n",
       "      <td>0.50000</td>\n",
       "      <td>0.60000</td>\n",
       "    </tr>\n",
       "    <tr>\n",
       "      <th>max</th>\n",
       "      <td>3.00000</td>\n",
       "      <td>9.30926</td>\n",
       "      <td>14.67484</td>\n",
       "      <td>14.62500</td>\n",
       "      <td>4.37500</td>\n",
       "      <td>13.00000</td>\n",
       "      <td>1.59259</td>\n",
       "      <td>2.50622</td>\n",
       "      <td>1.63333</td>\n",
       "      <td>2.41097</td>\n",
       "      <td>27.80000</td>\n",
       "      <td>21.93889</td>\n",
       "      <td>2.50000</td>\n",
       "      <td>4.00000</td>\n",
       "    </tr>\n",
       "  </tbody>\n",
       "</table>\n",
       "</div>"
      ],
      "text/plain": [
       "           Rooms     Square  LifeSquare  KitchenSquare      Floor  HouseFloor  \\\n",
       "count 8298.00000 8298.00000  8298.00000     8298.00000 8298.00000  8298.00000   \n",
       "mean    -0.11220    0.15445     0.16693       -0.01708    0.18943    -0.04670   \n",
       "std      0.81614    0.79726     1.02461        0.64181    0.65361     0.85636   \n",
       "min     -2.00000   -1.50182    -2.06110       -0.75000   -0.75000    -1.62500   \n",
       "25%     -1.00000   -0.44568    -0.45103       -0.62500   -0.37500    -0.50000   \n",
       "50%      0.00000    0.00000     0.00000        0.00000    0.00000     0.00000   \n",
       "75%      0.00000    0.55432     0.54897        0.37500    0.62500     0.50000   \n",
       "max      3.00000    9.30926    14.67484       14.62500    4.37500    13.00000   \n",
       "\n",
       "       HouseYear  Ecology_1   Social_1   Social_2   Social_3  Healthcare_1  \\\n",
       "count 8298.00000 8298.00000 8298.00000 8298.00000 8298.00000    8298.00000   \n",
       "mean     0.28994    0.24325   -0.00571    0.01852    1.21232       0.69950   \n",
       "std      0.68262    0.66747    0.58558    0.70386    4.79363       4.17028   \n",
       "min     -2.48148   -0.42341   -0.83333   -0.89411   -0.40000      -5.00000   \n",
       "25%     -0.11111   -0.32434   -0.63333   -0.65018   -0.40000      -0.50000   \n",
       "50%      0.00000    0.00000    0.00000    0.00000    0.00000       0.00000   \n",
       "75%      0.88889    0.67566    0.36667    0.34982    0.60000       0.50000   \n",
       "max      1.59259    2.50622    1.63333    2.41097   27.80000      21.93889   \n",
       "\n",
       "       Helthcare_2    Shops_1  \n",
       "count   8298.00000 8298.00000  \n",
       "mean       0.16353    0.25122  \n",
       "std        0.74912    0.96241  \n",
       "min       -0.50000   -0.60000  \n",
       "25%       -0.50000   -0.40000  \n",
       "50%        0.00000    0.00000  \n",
       "75%        0.50000    0.60000  \n",
       "max        2.50000    4.00000  "
      ]
     },
     "execution_count": 51,
     "metadata": {},
     "output_type": "execute_result"
    }
   ],
   "source": [
    "X_train_scaled.describe()"
   ]
  },
  {
   "cell_type": "markdown",
   "metadata": {
    "colab_type": "text",
    "id": "2aCxNIdvlr6Z"
   },
   "source": [
    "**Алгоритм - \"Случайный лес\"**"
   ]
  },
  {
   "cell_type": "code",
   "execution_count": 52,
   "metadata": {
    "colab": {},
    "colab_type": "code",
    "id": "n3jsi5VklfYS"
   },
   "outputs": [],
   "source": [
    "features_names = df.drop(['Price', 'Id','LifeSquare'], axis=1).columns.tolist()"
   ]
  },
  {
   "cell_type": "code",
   "execution_count": 53,
   "metadata": {
    "colab": {},
    "colab_type": "code",
    "id": "IVRmE-CJlvMp"
   },
   "outputs": [],
   "source": [
    "X = df[features_names]"
   ]
  },
  {
   "cell_type": "code",
   "execution_count": 54,
   "metadata": {
    "colab": {},
    "colab_type": "code",
    "id": "4vKoufjXlvsF"
   },
   "outputs": [],
   "source": [
    "# X_train, X_test, y_train, y_test = train_test_split(X, y, test_size=0.17, shuffle=True, random_state=72) - best result\n",
    "X_train, X_test, y_train, y_test = train_test_split(X, y, test_size=0.17, shuffle=True, random_state=62)"
   ]
  },
  {
   "cell_type": "code",
   "execution_count": 55,
   "metadata": {
    "colab": {
     "base_uri": "https://localhost:8080/",
     "height": 136
    },
    "colab_type": "code",
    "executionInfo": {
     "elapsed": 17054,
     "status": "ok",
     "timestamp": 1582664122889,
     "user": {
      "displayName": "Alexey Tankov",
      "photoUrl": "",
      "userId": "01729535101672247421"
     },
     "user_tz": -180
    },
    "id": "QnI1fr41lzKd",
    "outputId": "2668fb51-70f8-4211-ddbc-75923364bc7f"
   },
   "outputs": [
    {
     "data": {
      "text/plain": [
       "RandomForestRegressor(bootstrap=True, ccp_alpha=0.0, criterion='mse',\n",
       "                      max_depth=22, max_features='auto', max_leaf_nodes=None,\n",
       "                      max_samples=None, min_impurity_decrease=0.0,\n",
       "                      min_impurity_split=None, min_samples_leaf=1,\n",
       "                      min_samples_split=2, min_weight_fraction_leaf=0.0,\n",
       "                      n_estimators=500, n_jobs=-1, oob_score=False,\n",
       "                      random_state=None, verbose=0, warm_start=False)"
      ]
     },
     "execution_count": 55,
     "metadata": {},
     "output_type": "execute_result"
    }
   ],
   "source": [
    "rf_model = RandomForestRegressor(n_estimators=500, max_depth=22, n_jobs=-1)\n",
    "rf_model.fit(X_train, y_train)"
   ]
  },
  {
   "cell_type": "code",
   "execution_count": 56,
   "metadata": {
    "colab": {
     "base_uri": "https://localhost:8080/",
     "height": 68
    },
    "colab_type": "code",
    "executionInfo": {
     "elapsed": 1236,
     "status": "ok",
     "timestamp": 1582664127364,
     "user": {
      "displayName": "Alexey Tankov",
      "photoUrl": "",
      "userId": "01729535101672247421"
     },
     "user_tz": -180
    },
    "id": "z3rgxU42lzkc",
    "outputId": "caa5e4a8-1474-4f6e-f160-13ef90feed3a"
   },
   "outputs": [
    {
     "name": "stdout",
     "output_type": "stream",
     "text": [
      "R2:\t0.9615\n",
      " MAE:\t10858.0048\n",
      " MSE:\t332367337.0201\n"
     ]
    }
   ],
   "source": [
    "y_train_preds = rf_model.predict(X_train)\n",
    "evaluate_preds(y_train, y_train_preds)"
   ]
  },
  {
   "cell_type": "code",
   "execution_count": 57,
   "metadata": {
    "colab": {
     "base_uri": "https://localhost:8080/",
     "height": 68
    },
    "colab_type": "code",
    "executionInfo": {
     "elapsed": 870,
     "status": "ok",
     "timestamp": 1582664130293,
     "user": {
      "displayName": "Alexey Tankov",
      "photoUrl": "",
      "userId": "01729535101672247421"
     },
     "user_tz": -180
    },
    "id": "dR1OhvYcpkaQ",
    "outputId": "fb0d4ed3-e8c8-4440-b5ec-207c82a2016a"
   },
   "outputs": [
    {
     "name": "stdout",
     "output_type": "stream",
     "text": [
      "R2:\t0.764\n",
      " MAE:\t26425.0237\n",
      " MSE:\t2028690751.0032\n"
     ]
    }
   ],
   "source": [
    "y_test_preds = rf_model.predict(X_test)\n",
    "evaluate_preds(y_test, y_test_preds)"
   ]
  },
  {
   "cell_type": "code",
   "execution_count": 58,
   "metadata": {
    "colab": {},
    "colab_type": "code",
    "id": "nG0usfBlplTA"
   },
   "outputs": [],
   "source": [
    "md = np.arange(14, 25, 1)\n",
    "ne = [200, 250, 300, 350, 400, 450, 500]\n",
    "model_inf = []"
   ]
  },
  {
   "cell_type": "code",
   "execution_count": 59,
   "metadata": {
    "colab": {
     "base_uri": "https://localhost:8080/",
     "height": 1000
    },
    "colab_type": "code",
    "executionInfo": {
     "elapsed": 478637,
     "status": "ok",
     "timestamp": 1582664612389,
     "user": {
      "displayName": "Alexey Tankov",
      "photoUrl": "",
      "userId": "01729535101672247421"
     },
     "user_tz": -180
    },
    "id": "BnDZlWjWppBg",
    "outputId": "f398b4d4-d327-4c8e-fa9a-6dcde8898bbf"
   },
   "outputs": [
    {
     "name": "stdout",
     "output_type": "stream",
     "text": [
      "est = 200, depth = 14\n",
      "R2:\t0.7614\n",
      " MAE:\t26629.0592\n",
      " MSE:\t2050469518.0605\n",
      "est = 200, depth = 15\n",
      "R2:\t0.7632\n",
      " MAE:\t26514.9135\n",
      " MSE:\t2035472124.9907\n",
      "est = 200, depth = 16\n",
      "R2:\t0.7624\n",
      " MAE:\t26515.897\n",
      " MSE:\t2042340612.8825\n",
      "est = 200, depth = 17\n",
      "R2:\t0.7624\n",
      " MAE:\t26432.7169\n",
      " MSE:\t2041809790.0725\n",
      "est = 200, depth = 18\n",
      "R2:\t0.7606\n",
      " MAE:\t26600.3392\n",
      " MSE:\t2057656234.4347\n",
      "est = 200, depth = 19\n",
      "R2:\t0.7622\n",
      " MAE:\t26555.0037\n",
      " MSE:\t2043589344.3348\n",
      "est = 200, depth = 20\n",
      "R2:\t0.7631\n",
      " MAE:\t26414.6745\n",
      " MSE:\t2035857728.0568\n",
      "est = 200, depth = 21\n",
      "R2:\t0.7603\n",
      " MAE:\t26507.8912\n",
      " MSE:\t2060187813.0821\n",
      "est = 200, depth = 22\n",
      "R2:\t0.7615\n",
      " MAE:\t26587.0206\n",
      " MSE:\t2050130307.3472\n",
      "est = 200, depth = 23\n",
      "R2:\t0.7628\n",
      " MAE:\t26425.0186\n",
      " MSE:\t2039057826.5303\n",
      "est = 200, depth = 24\n",
      "R2:\t0.7604\n",
      " MAE:\t26535.537\n",
      " MSE:\t2059163197.189\n",
      "est = 250, depth = 14\n",
      "R2:\t0.7618\n",
      " MAE:\t26610.02\n",
      " MSE:\t2046974312.4153\n",
      "est = 250, depth = 15\n",
      "R2:\t0.7613\n",
      " MAE:\t26504.7324\n",
      " MSE:\t2051930256.5483\n",
      "est = 250, depth = 16\n",
      "R2:\t0.7615\n",
      " MAE:\t26533.415\n",
      " MSE:\t2050150125.4891\n",
      "est = 250, depth = 17\n",
      "R2:\t0.7639\n",
      " MAE:\t26477.411\n",
      " MSE:\t2029493682.7952\n",
      "est = 250, depth = 18\n",
      "R2:\t0.7636\n",
      " MAE:\t26465.4502\n",
      " MSE:\t2032316598.7365\n",
      "est = 250, depth = 19\n",
      "R2:\t0.7627\n",
      " MAE:\t26411.1222\n",
      " MSE:\t2039860956.1579\n",
      "est = 250, depth = 20\n",
      "R2:\t0.7608\n",
      " MAE:\t26519.3762\n",
      " MSE:\t2055613568.5161\n",
      "est = 250, depth = 21\n",
      "R2:\t0.7619\n",
      " MAE:\t26387.5031\n",
      " MSE:\t2046525005.3801\n",
      "est = 250, depth = 22\n",
      "R2:\t0.7634\n",
      " MAE:\t26440.8527\n",
      " MSE:\t2033759380.8792\n",
      "est = 250, depth = 23\n",
      "R2:\t0.7619\n",
      " MAE:\t26490.8568\n",
      " MSE:\t2046772144.277\n",
      "est = 250, depth = 24\n",
      "R2:\t0.7635\n",
      " MAE:\t26345.2227\n",
      " MSE:\t2033156395.2539\n",
      "est = 300, depth = 14\n",
      "R2:\t0.761\n",
      " MAE:\t26727.6927\n",
      " MSE:\t2054112668.4768\n",
      "est = 300, depth = 15\n",
      "R2:\t0.7621\n",
      " MAE:\t26544.0735\n",
      " MSE:\t2044609686.7104\n",
      "est = 300, depth = 16\n",
      "R2:\t0.7658\n",
      " MAE:\t26348.6981\n",
      " MSE:\t2013311310.1325\n",
      "est = 300, depth = 17\n",
      "R2:\t0.7619\n",
      " MAE:\t26511.6865\n",
      " MSE:\t2046810264.6104\n",
      "est = 300, depth = 18\n",
      "R2:\t0.7612\n",
      " MAE:\t26584.7003\n",
      " MSE:\t2052769880.5254\n",
      "est = 300, depth = 19\n",
      "R2:\t0.7633\n",
      " MAE:\t26385.8692\n",
      " MSE:\t2034085400.7698\n",
      "est = 300, depth = 20\n",
      "R2:\t0.7633\n",
      " MAE:\t26359.7038\n",
      " MSE:\t2034273090.2332\n",
      "est = 300, depth = 21\n",
      "R2:\t0.7611\n",
      " MAE:\t26562.2886\n",
      " MSE:\t2053280455.943\n",
      "est = 300, depth = 22\n",
      "R2:\t0.7639\n",
      " MAE:\t26411.1494\n",
      " MSE:\t2029376280.5024\n",
      "est = 300, depth = 23\n",
      "R2:\t0.7598\n",
      " MAE:\t26541.2244\n",
      " MSE:\t2064515438.5439\n",
      "est = 300, depth = 24\n",
      "R2:\t0.762\n",
      " MAE:\t26490.6298\n",
      " MSE:\t2045797802.2968\n",
      "est = 350, depth = 14\n",
      "R2:\t0.7614\n",
      " MAE:\t26587.5146\n",
      " MSE:\t2051166214.0154\n",
      "est = 350, depth = 15\n",
      "R2:\t0.7615\n",
      " MAE:\t26619.7147\n",
      " MSE:\t2050120848.7531\n",
      "est = 350, depth = 16\n",
      "R2:\t0.7639\n",
      " MAE:\t26433.2196\n",
      " MSE:\t2029396013.2093\n",
      "est = 350, depth = 17\n",
      "R2:\t0.7611\n",
      " MAE:\t26517.5391\n",
      " MSE:\t2053188695.8846\n",
      "est = 350, depth = 18\n",
      "R2:\t0.76\n",
      " MAE:\t26549.9511\n",
      " MSE:\t2062550454.0582\n",
      "est = 350, depth = 19\n",
      "R2:\t0.7623\n",
      " MAE:\t26380.0972\n",
      " MSE:\t2042790291.9516\n",
      "est = 350, depth = 20\n",
      "R2:\t0.764\n",
      " MAE:\t26484.0927\n",
      " MSE:\t2028169171.4932\n",
      "est = 350, depth = 21\n",
      "R2:\t0.7614\n",
      " MAE:\t26435.0492\n",
      " MSE:\t2051213316.2756\n",
      "est = 350, depth = 22\n",
      "R2:\t0.7651\n",
      " MAE:\t26362.408\n",
      " MSE:\t2018713314.9238\n",
      "est = 350, depth = 23\n",
      "R2:\t0.7632\n",
      " MAE:\t26451.3713\n",
      " MSE:\t2035582380.8094\n",
      "est = 350, depth = 24\n",
      "R2:\t0.7614\n",
      " MAE:\t26513.0516\n",
      " MSE:\t2051168757.5742\n",
      "est = 400, depth = 14\n",
      "R2:\t0.7627\n",
      " MAE:\t26583.9242\n",
      " MSE:\t2039804292.1892\n",
      "est = 400, depth = 15\n",
      "R2:\t0.7625\n",
      " MAE:\t26564.0371\n",
      " MSE:\t2041428742.3932\n",
      "est = 400, depth = 16\n",
      "R2:\t0.7622\n",
      " MAE:\t26518.1431\n",
      " MSE:\t2043756714.7063\n",
      "est = 400, depth = 17\n",
      "R2:\t0.7634\n",
      " MAE:\t26427.3184\n",
      " MSE:\t2033411517.2262\n",
      "est = 400, depth = 18\n",
      "R2:\t0.7621\n",
      " MAE:\t26479.7525\n",
      " MSE:\t2045036081.2009\n",
      "est = 400, depth = 19\n",
      "R2:\t0.7644\n",
      " MAE:\t26397.5168\n",
      " MSE:\t2025364096.8881\n",
      "est = 400, depth = 20\n",
      "R2:\t0.7631\n",
      " MAE:\t26383.4383\n",
      " MSE:\t2036259906.9212\n",
      "est = 400, depth = 21\n",
      "R2:\t0.7619\n",
      " MAE:\t26379.9091\n",
      " MSE:\t2046077423.3033\n",
      "est = 400, depth = 22\n",
      "R2:\t0.7623\n",
      " MAE:\t26504.3193\n",
      " MSE:\t2043153664.2392\n",
      "est = 400, depth = 23\n",
      "R2:\t0.7606\n",
      " MAE:\t26477.0537\n",
      " MSE:\t2057299437.1966\n",
      "est = 400, depth = 24\n",
      "R2:\t0.7617\n",
      " MAE:\t26440.0777\n",
      " MSE:\t2048187294.7191\n",
      "est = 450, depth = 14\n",
      "R2:\t0.7629\n",
      " MAE:\t26531.573\n",
      " MSE:\t2037972379.9915\n",
      "est = 450, depth = 15\n",
      "R2:\t0.764\n",
      " MAE:\t26435.1541\n",
      " MSE:\t2028208121.4544\n",
      "est = 450, depth = 16\n",
      "R2:\t0.7614\n",
      " MAE:\t26563.6474\n",
      " MSE:\t2050928832.8472\n",
      "est = 450, depth = 17\n",
      "R2:\t0.7615\n",
      " MAE:\t26487.2805\n",
      " MSE:\t2050098783.2901\n",
      "est = 450, depth = 18\n",
      "R2:\t0.7631\n",
      " MAE:\t26328.0675\n",
      " MSE:\t2036257409.428\n",
      "est = 450, depth = 19\n",
      "R2:\t0.7618\n",
      " MAE:\t26425.5511\n",
      " MSE:\t2047320122.1982\n",
      "est = 450, depth = 20\n",
      "R2:\t0.7608\n",
      " MAE:\t26515.5213\n",
      " MSE:\t2055691283.6308\n",
      "est = 450, depth = 21\n",
      "R2:\t0.7643\n",
      " MAE:\t26407.4061\n",
      " MSE:\t2025771002.0025\n",
      "est = 450, depth = 22\n",
      "R2:\t0.7633\n",
      " MAE:\t26382.3354\n",
      " MSE:\t2034042818.7615\n",
      "est = 450, depth = 23\n",
      "R2:\t0.7628\n",
      " MAE:\t26422.708\n",
      " MSE:\t2038963809.7757\n",
      "est = 450, depth = 24\n",
      "R2:\t0.7597\n",
      " MAE:\t26545.2101\n",
      " MSE:\t2065454079.045\n",
      "est = 500, depth = 14\n",
      "R2:\t0.7627\n",
      " MAE:\t26575.0988\n",
      " MSE:\t2039719133.2981\n",
      "est = 500, depth = 15\n",
      "R2:\t0.7625\n",
      " MAE:\t26521.1562\n",
      " MSE:\t2041619358.491\n",
      "est = 500, depth = 16\n",
      "R2:\t0.7644\n",
      " MAE:\t26374.1985\n",
      " MSE:\t2024659898.1306\n",
      "est = 500, depth = 17\n",
      "R2:\t0.7609\n",
      " MAE:\t26527.957\n",
      " MSE:\t2054715497.5868\n",
      "est = 500, depth = 18\n",
      "R2:\t0.7636\n",
      " MAE:\t26335.9402\n",
      " MSE:\t2032216073.3661\n",
      "est = 500, depth = 19\n",
      "R2:\t0.7629\n",
      " MAE:\t26391.8311\n",
      " MSE:\t2037681287.4688\n",
      "est = 500, depth = 20\n",
      "R2:\t0.7623\n",
      " MAE:\t26372.5752\n",
      " MSE:\t2043181186.6886\n",
      "est = 500, depth = 21\n",
      "R2:\t0.7604\n",
      " MAE:\t26442.2091\n",
      " MSE:\t2059503738.6318\n",
      "est = 500, depth = 22\n",
      "R2:\t0.7608\n",
      " MAE:\t26482.9058\n",
      " MSE:\t2056021396.2233\n",
      "est = 500, depth = 23\n",
      "R2:\t0.7637\n",
      " MAE:\t26354.7604\n",
      " MSE:\t2031325022.7128\n",
      "est = 500, depth = 24\n",
      "R2:\t0.7625\n",
      " MAE:\t26408.0751\n",
      " MSE:\t2041026032.7193\n"
     ]
    }
   ],
   "source": [
    "for i in ne:\n",
    "    for j in md:\n",
    "        rf_model = RandomForestRegressor(n_estimators=i, max_depth=j, n_jobs=-1)\n",
    "        rf_model.fit(X_train, y_train)\n",
    "        y_test_preds = rf_model.predict(X_test)\n",
    "        print(f'est = {i}, depth = {j}')\n",
    "        evaluate_preds(y_test, y_test_preds)"
   ]
  },
  {
   "cell_type": "code",
   "execution_count": 60,
   "metadata": {
    "colab": {
     "base_uri": "https://localhost:8080/",
     "height": 136
    },
    "colab_type": "code",
    "executionInfo": {
     "elapsed": 15933,
     "status": "ok",
     "timestamp": 1582664669028,
     "user": {
      "displayName": "Alexey Tankov",
      "photoUrl": "",
      "userId": "01729535101672247421"
     },
     "user_tz": -180
    },
    "id": "XU-jRTUzpri6",
    "outputId": "dc766d99-30e5-405b-cd80-6c9276fa4c35"
   },
   "outputs": [
    {
     "data": {
      "text/plain": [
       "RandomForestRegressor(bootstrap=True, ccp_alpha=0.0, criterion='mse',\n",
       "                      max_depth=22, max_features='auto', max_leaf_nodes=None,\n",
       "                      max_samples=None, min_impurity_decrease=0.0,\n",
       "                      min_impurity_split=None, min_samples_leaf=1,\n",
       "                      min_samples_split=2, min_weight_fraction_leaf=0.0,\n",
       "                      n_estimators=350, n_jobs=-1, oob_score=False,\n",
       "                      random_state=None, verbose=0, warm_start=False)"
      ]
     },
     "execution_count": 60,
     "metadata": {},
     "output_type": "execute_result"
    }
   ],
   "source": [
    "rf_model = RandomForestRegressor(n_estimators=350, max_depth=22, n_jobs=-1)\n",
    "rf_model.fit(X_train, y_train)"
   ]
  },
  {
   "cell_type": "code",
   "execution_count": 61,
   "metadata": {
    "colab": {
     "base_uri": "https://localhost:8080/",
     "height": 576
    },
    "colab_type": "code",
    "executionInfo": {
     "elapsed": 745,
     "status": "ok",
     "timestamp": 1582664672283,
     "user": {
      "displayName": "Alexey Tankov",
      "photoUrl": "",
      "userId": "01729535101672247421"
     },
     "user_tz": -180
    },
    "id": "zXVTzwkdrP8U",
    "outputId": "19cae447-2a1f-4252-e64a-68c22e2e04ce"
   },
   "outputs": [
    {
     "data": {
      "text/html": [
       "<div>\n",
       "<style scoped>\n",
       "    .dataframe tbody tr th:only-of-type {\n",
       "        vertical-align: middle;\n",
       "    }\n",
       "\n",
       "    .dataframe tbody tr th {\n",
       "        vertical-align: top;\n",
       "    }\n",
       "\n",
       "    .dataframe thead th {\n",
       "        text-align: right;\n",
       "    }\n",
       "</style>\n",
       "<table border=\"1\" class=\"dataframe\">\n",
       "  <thead>\n",
       "    <tr style=\"text-align: right;\">\n",
       "      <th></th>\n",
       "      <th>feature_name</th>\n",
       "      <th>importance</th>\n",
       "    </tr>\n",
       "  </thead>\n",
       "  <tbody>\n",
       "    <tr>\n",
       "      <th>2</th>\n",
       "      <td>Square</td>\n",
       "      <td>0.39976</td>\n",
       "    </tr>\n",
       "    <tr>\n",
       "      <th>11</th>\n",
       "      <td>Social_2</td>\n",
       "      <td>0.09578</td>\n",
       "    </tr>\n",
       "    <tr>\n",
       "      <th>10</th>\n",
       "      <td>Social_1</td>\n",
       "      <td>0.09421</td>\n",
       "    </tr>\n",
       "    <tr>\n",
       "      <th>1</th>\n",
       "      <td>Rooms</td>\n",
       "      <td>0.07621</td>\n",
       "    </tr>\n",
       "    <tr>\n",
       "      <th>12</th>\n",
       "      <td>Social_3</td>\n",
       "      <td>0.05618</td>\n",
       "    </tr>\n",
       "    <tr>\n",
       "      <th>0</th>\n",
       "      <td>DistrictId</td>\n",
       "      <td>0.04655</td>\n",
       "    </tr>\n",
       "    <tr>\n",
       "      <th>7</th>\n",
       "      <td>Ecology_1</td>\n",
       "      <td>0.04373</td>\n",
       "    </tr>\n",
       "    <tr>\n",
       "      <th>6</th>\n",
       "      <td>HouseYear</td>\n",
       "      <td>0.04361</td>\n",
       "    </tr>\n",
       "    <tr>\n",
       "      <th>4</th>\n",
       "      <td>Floor</td>\n",
       "      <td>0.03462</td>\n",
       "    </tr>\n",
       "    <tr>\n",
       "      <th>3</th>\n",
       "      <td>KitchenSquare</td>\n",
       "      <td>0.02858</td>\n",
       "    </tr>\n",
       "    <tr>\n",
       "      <th>5</th>\n",
       "      <td>HouseFloor</td>\n",
       "      <td>0.02720</td>\n",
       "    </tr>\n",
       "    <tr>\n",
       "      <th>13</th>\n",
       "      <td>Healthcare_1</td>\n",
       "      <td>0.02462</td>\n",
       "    </tr>\n",
       "    <tr>\n",
       "      <th>15</th>\n",
       "      <td>Shops_1</td>\n",
       "      <td>0.01937</td>\n",
       "    </tr>\n",
       "    <tr>\n",
       "      <th>14</th>\n",
       "      <td>Helthcare_2</td>\n",
       "      <td>0.00759</td>\n",
       "    </tr>\n",
       "    <tr>\n",
       "      <th>16</th>\n",
       "      <td>Shops_2</td>\n",
       "      <td>0.00090</td>\n",
       "    </tr>\n",
       "    <tr>\n",
       "      <th>9</th>\n",
       "      <td>Ecology_3</td>\n",
       "      <td>0.00057</td>\n",
       "    </tr>\n",
       "    <tr>\n",
       "      <th>8</th>\n",
       "      <td>Ecology_2</td>\n",
       "      <td>0.00052</td>\n",
       "    </tr>\n",
       "  </tbody>\n",
       "</table>\n",
       "</div>"
      ],
      "text/plain": [
       "     feature_name  importance\n",
       "2          Square     0.39976\n",
       "11       Social_2     0.09578\n",
       "10       Social_1     0.09421\n",
       "1           Rooms     0.07621\n",
       "12       Social_3     0.05618\n",
       "0      DistrictId     0.04655\n",
       "7       Ecology_1     0.04373\n",
       "6       HouseYear     0.04361\n",
       "4           Floor     0.03462\n",
       "3   KitchenSquare     0.02858\n",
       "5      HouseFloor     0.02720\n",
       "13   Healthcare_1     0.02462\n",
       "15        Shops_1     0.01937\n",
       "14    Helthcare_2     0.00759\n",
       "16        Shops_2     0.00090\n",
       "9       Ecology_3     0.00057\n",
       "8       Ecology_2     0.00052"
      ]
     },
     "execution_count": 61,
     "metadata": {},
     "output_type": "execute_result"
    }
   ],
   "source": [
    "feature_importances = pd.DataFrame(zip(X_train.columns, rf_model.feature_importances_), \n",
    "                                   columns=['feature_name', 'importance'])\n",
    "feature_importances.sort_values(by='importance', ascending=False)"
   ]
  },
  {
   "cell_type": "markdown",
   "metadata": {
    "colab_type": "text",
    "id": "cfrO9faY1qRS"
   },
   "source": [
    "**Дообучение модели**"
   ]
  },
  {
   "cell_type": "code",
   "execution_count": 62,
   "metadata": {
    "colab": {
     "base_uri": "https://localhost:8080/",
     "height": 136
    },
    "colab_type": "code",
    "executionInfo": {
     "elapsed": 21430,
     "status": "ok",
     "timestamp": 1582664703007,
     "user": {
      "displayName": "Alexey Tankov",
      "photoUrl": "",
      "userId": "01729535101672247421"
     },
     "user_tz": -180
    },
    "id": "fW5QtSGwrXII",
    "outputId": "a9c876ec-5acf-44be-dd7c-6c54c5d81bf9"
   },
   "outputs": [
    {
     "data": {
      "text/plain": [
       "RandomForestRegressor(bootstrap=True, ccp_alpha=0.0, criterion='mse',\n",
       "                      max_depth=22, max_features='auto', max_leaf_nodes=None,\n",
       "                      max_samples=None, min_impurity_decrease=0.0,\n",
       "                      min_impurity_split=None, min_samples_leaf=1,\n",
       "                      min_samples_split=2, min_weight_fraction_leaf=0.0,\n",
       "                      n_estimators=350, n_jobs=-1, oob_score=False,\n",
       "                      random_state=None, verbose=0, warm_start=False)"
      ]
     },
     "execution_count": 62,
     "metadata": {},
     "output_type": "execute_result"
    }
   ],
   "source": [
    "rf_model.fit(X, y)"
   ]
  },
  {
   "cell_type": "markdown",
   "metadata": {
    "colab_type": "text",
    "id": "fLr6VLunrnmp"
   },
   "source": [
    "**Прогнозирование**"
   ]
  },
  {
   "cell_type": "code",
   "execution_count": 63,
   "metadata": {
    "colab": {},
    "colab_type": "code",
    "id": "PelpR7VLrcIX"
   },
   "outputs": [],
   "source": [
    "dft = pd.read_csv(TEST_DATASET_PATH)"
   ]
  },
  {
   "cell_type": "code",
   "execution_count": 64,
   "metadata": {
    "colab": {},
    "colab_type": "code",
    "id": "MsN_DcORrp_9"
   },
   "outputs": [],
   "source": [
    "dft['Id'] = dft['Id'].astype('str')\n",
    "dft['DistrictId'] = dft['DistrictId'].astype('str')"
   ]
  },
  {
   "cell_type": "code",
   "execution_count": 65,
   "metadata": {
    "colab": {},
    "colab_type": "code",
    "id": "EMHlK00sLiRL"
   },
   "outputs": [],
   "source": [
    "dft.loc[dft['Id'] == '10814', 'HouseYear'] = 2011\n",
    "dft.loc[dft['Id'] == '11607', 'HouseYear'] = 1968"
   ]
  },
  {
   "cell_type": "code",
   "execution_count": 66,
   "metadata": {
    "colab": {},
    "colab_type": "code",
    "id": "awE2w-KZrrxf"
   },
   "outputs": [],
   "source": [
    "dft.loc[dft['Ecology_2'] == 'A', 'Ecology_2'] = 0\n",
    "dft.loc[dft['Ecology_2'] == 'B', 'Ecology_2'] = 1\n",
    "dft.loc[dft['Ecology_3'] == 'A', 'Ecology_3'] = 0\n",
    "dft.loc[dft['Ecology_3'] == 'B', 'Ecology_3'] = 1\n",
    "dft.loc[dft['Shops_2'] == 'A', 'Shops_2'] = 0\n",
    "dft.loc[dft['Shops_2'] == 'B', 'Shops_2'] = 1"
   ]
  },
  {
   "cell_type": "code",
   "execution_count": 67,
   "metadata": {
    "colab": {
     "base_uri": "https://localhost:8080/",
     "height": 425
    },
    "colab_type": "code",
    "executionInfo": {
     "elapsed": 662,
     "status": "ok",
     "timestamp": 1582664712344,
     "user": {
      "displayName": "Alexey Tankov",
      "photoUrl": "",
      "userId": "01729535101672247421"
     },
     "user_tz": -180
    },
    "id": "pRwLzn7lruPS",
    "outputId": "31bd3fbd-8cdf-4f4e-8846-6bb14e5b4edf"
   },
   "outputs": [
    {
     "name": "stdout",
     "output_type": "stream",
     "text": [
      "<class 'pandas.core.frame.DataFrame'>\n",
      "RangeIndex: 5000 entries, 0 to 4999\n",
      "Data columns (total 19 columns):\n",
      " #   Column         Non-Null Count  Dtype  \n",
      "---  ------         --------------  -----  \n",
      " 0   Id             5000 non-null   object \n",
      " 1   DistrictId     5000 non-null   object \n",
      " 2   Rooms          5000 non-null   float64\n",
      " 3   Square         5000 non-null   float64\n",
      " 4   LifeSquare     3959 non-null   float64\n",
      " 5   KitchenSquare  5000 non-null   float64\n",
      " 6   Floor          5000 non-null   int64  \n",
      " 7   HouseFloor     5000 non-null   float64\n",
      " 8   HouseYear      5000 non-null   int64  \n",
      " 9   Ecology_1      5000 non-null   float64\n",
      " 10  Ecology_2      5000 non-null   object \n",
      " 11  Ecology_3      5000 non-null   object \n",
      " 12  Social_1       5000 non-null   int64  \n",
      " 13  Social_2       5000 non-null   int64  \n",
      " 14  Social_3       5000 non-null   int64  \n",
      " 15  Healthcare_1   2623 non-null   float64\n",
      " 16  Helthcare_2    5000 non-null   int64  \n",
      " 17  Shops_1        5000 non-null   int64  \n",
      " 18  Shops_2        5000 non-null   object \n",
      "dtypes: float64(7), int64(7), object(5)\n",
      "memory usage: 644.6+ KB\n"
     ]
    }
   ],
   "source": [
    "dft.info()"
   ]
  },
  {
   "cell_type": "code",
   "execution_count": 68,
   "metadata": {
    "colab": {
     "base_uri": "https://localhost:8080/",
     "height": 297
    },
    "colab_type": "code",
    "executionInfo": {
     "elapsed": 851,
     "status": "ok",
     "timestamp": 1582664715073,
     "user": {
      "displayName": "Alexey Tankov",
      "photoUrl": "",
      "userId": "01729535101672247421"
     },
     "user_tz": -180
    },
    "id": "PdZXbxhfrv5q",
    "outputId": "54a0b940-a9b0-469d-bb89-b8d961aeb6b6"
   },
   "outputs": [
    {
     "data": {
      "text/html": [
       "<div>\n",
       "<style scoped>\n",
       "    .dataframe tbody tr th:only-of-type {\n",
       "        vertical-align: middle;\n",
       "    }\n",
       "\n",
       "    .dataframe tbody tr th {\n",
       "        vertical-align: top;\n",
       "    }\n",
       "\n",
       "    .dataframe thead th {\n",
       "        text-align: right;\n",
       "    }\n",
       "</style>\n",
       "<table border=\"1\" class=\"dataframe\">\n",
       "  <thead>\n",
       "    <tr style=\"text-align: right;\">\n",
       "      <th></th>\n",
       "      <th>Rooms</th>\n",
       "      <th>Square</th>\n",
       "      <th>LifeSquare</th>\n",
       "      <th>KitchenSquare</th>\n",
       "      <th>Floor</th>\n",
       "      <th>HouseFloor</th>\n",
       "      <th>HouseYear</th>\n",
       "      <th>Ecology_1</th>\n",
       "      <th>Social_1</th>\n",
       "      <th>Social_2</th>\n",
       "      <th>Social_3</th>\n",
       "      <th>Healthcare_1</th>\n",
       "      <th>Helthcare_2</th>\n",
       "      <th>Shops_1</th>\n",
       "    </tr>\n",
       "  </thead>\n",
       "  <tbody>\n",
       "    <tr>\n",
       "      <th>count</th>\n",
       "      <td>5000.00000</td>\n",
       "      <td>5000.00000</td>\n",
       "      <td>3959.00000</td>\n",
       "      <td>5000.00000</td>\n",
       "      <td>5000.00000</td>\n",
       "      <td>5000.00000</td>\n",
       "      <td>5000.00000</td>\n",
       "      <td>5000.00000</td>\n",
       "      <td>5000.00000</td>\n",
       "      <td>5000.00000</td>\n",
       "      <td>5000.00000</td>\n",
       "      <td>2623.00000</td>\n",
       "      <td>5000.00000</td>\n",
       "      <td>5000.00000</td>\n",
       "    </tr>\n",
       "    <tr>\n",
       "      <th>mean</th>\n",
       "      <td>1.91000</td>\n",
       "      <td>56.44950</td>\n",
       "      <td>36.15881</td>\n",
       "      <td>5.97680</td>\n",
       "      <td>8.63200</td>\n",
       "      <td>12.60100</td>\n",
       "      <td>1984.39260</td>\n",
       "      <td>0.11987</td>\n",
       "      <td>24.93380</td>\n",
       "      <td>5406.90000</td>\n",
       "      <td>8.26260</td>\n",
       "      <td>1146.65726</td>\n",
       "      <td>1.31940</td>\n",
       "      <td>4.24280</td>\n",
       "    </tr>\n",
       "    <tr>\n",
       "      <th>std</th>\n",
       "      <td>0.83859</td>\n",
       "      <td>19.09279</td>\n",
       "      <td>17.82529</td>\n",
       "      <td>9.95002</td>\n",
       "      <td>5.48323</td>\n",
       "      <td>6.78921</td>\n",
       "      <td>18.57315</td>\n",
       "      <td>0.12007</td>\n",
       "      <td>17.53220</td>\n",
       "      <td>4026.61477</td>\n",
       "      <td>23.86376</td>\n",
       "      <td>1044.74423</td>\n",
       "      <td>1.47994</td>\n",
       "      <td>4.77736</td>\n",
       "    </tr>\n",
       "    <tr>\n",
       "      <th>min</th>\n",
       "      <td>0.00000</td>\n",
       "      <td>1.37854</td>\n",
       "      <td>0.33349</td>\n",
       "      <td>0.00000</td>\n",
       "      <td>1.00000</td>\n",
       "      <td>0.00000</td>\n",
       "      <td>1908.00000</td>\n",
       "      <td>0.00000</td>\n",
       "      <td>0.00000</td>\n",
       "      <td>168.00000</td>\n",
       "      <td>0.00000</td>\n",
       "      <td>0.00000</td>\n",
       "      <td>0.00000</td>\n",
       "      <td>0.00000</td>\n",
       "    </tr>\n",
       "    <tr>\n",
       "      <th>25%</th>\n",
       "      <td>1.00000</td>\n",
       "      <td>41.90623</td>\n",
       "      <td>23.09203</td>\n",
       "      <td>1.00000</td>\n",
       "      <td>4.00000</td>\n",
       "      <td>9.00000</td>\n",
       "      <td>1973.00000</td>\n",
       "      <td>0.01951</td>\n",
       "      <td>6.00000</td>\n",
       "      <td>1564.00000</td>\n",
       "      <td>0.00000</td>\n",
       "      <td>325.00000</td>\n",
       "      <td>0.00000</td>\n",
       "      <td>1.00000</td>\n",
       "    </tr>\n",
       "    <tr>\n",
       "      <th>50%</th>\n",
       "      <td>2.00000</td>\n",
       "      <td>52.92134</td>\n",
       "      <td>32.92509</td>\n",
       "      <td>6.00000</td>\n",
       "      <td>7.00000</td>\n",
       "      <td>12.00000</td>\n",
       "      <td>1977.00000</td>\n",
       "      <td>0.07216</td>\n",
       "      <td>25.00000</td>\n",
       "      <td>5285.00000</td>\n",
       "      <td>2.00000</td>\n",
       "      <td>900.00000</td>\n",
       "      <td>1.00000</td>\n",
       "      <td>3.00000</td>\n",
       "    </tr>\n",
       "    <tr>\n",
       "      <th>75%</th>\n",
       "      <td>2.00000</td>\n",
       "      <td>66.28513</td>\n",
       "      <td>45.17409</td>\n",
       "      <td>9.00000</td>\n",
       "      <td>12.00000</td>\n",
       "      <td>17.00000</td>\n",
       "      <td>2000.00000</td>\n",
       "      <td>0.19578</td>\n",
       "      <td>36.00000</td>\n",
       "      <td>7287.00000</td>\n",
       "      <td>5.00000</td>\n",
       "      <td>1548.00000</td>\n",
       "      <td>2.00000</td>\n",
       "      <td>6.00000</td>\n",
       "    </tr>\n",
       "    <tr>\n",
       "      <th>max</th>\n",
       "      <td>17.00000</td>\n",
       "      <td>223.45369</td>\n",
       "      <td>303.07109</td>\n",
       "      <td>620.00000</td>\n",
       "      <td>78.00000</td>\n",
       "      <td>99.00000</td>\n",
       "      <td>2020.00000</td>\n",
       "      <td>0.52187</td>\n",
       "      <td>74.00000</td>\n",
       "      <td>19083.00000</td>\n",
       "      <td>141.00000</td>\n",
       "      <td>4849.00000</td>\n",
       "      <td>6.00000</td>\n",
       "      <td>23.00000</td>\n",
       "    </tr>\n",
       "  </tbody>\n",
       "</table>\n",
       "</div>"
      ],
      "text/plain": [
       "           Rooms     Square  LifeSquare  KitchenSquare      Floor  HouseFloor  \\\n",
       "count 5000.00000 5000.00000  3959.00000     5000.00000 5000.00000  5000.00000   \n",
       "mean     1.91000   56.44950    36.15881        5.97680    8.63200    12.60100   \n",
       "std      0.83859   19.09279    17.82529        9.95002    5.48323     6.78921   \n",
       "min      0.00000    1.37854     0.33349        0.00000    1.00000     0.00000   \n",
       "25%      1.00000   41.90623    23.09203        1.00000    4.00000     9.00000   \n",
       "50%      2.00000   52.92134    32.92509        6.00000    7.00000    12.00000   \n",
       "75%      2.00000   66.28513    45.17409        9.00000   12.00000    17.00000   \n",
       "max     17.00000  223.45369   303.07109      620.00000   78.00000    99.00000   \n",
       "\n",
       "       HouseYear  Ecology_1   Social_1    Social_2   Social_3  Healthcare_1  \\\n",
       "count 5000.00000 5000.00000 5000.00000  5000.00000 5000.00000    2623.00000   \n",
       "mean  1984.39260    0.11987   24.93380  5406.90000    8.26260    1146.65726   \n",
       "std     18.57315    0.12007   17.53220  4026.61477   23.86376    1044.74423   \n",
       "min   1908.00000    0.00000    0.00000   168.00000    0.00000       0.00000   \n",
       "25%   1973.00000    0.01951    6.00000  1564.00000    0.00000     325.00000   \n",
       "50%   1977.00000    0.07216   25.00000  5285.00000    2.00000     900.00000   \n",
       "75%   2000.00000    0.19578   36.00000  7287.00000    5.00000    1548.00000   \n",
       "max   2020.00000    0.52187   74.00000 19083.00000  141.00000    4849.00000   \n",
       "\n",
       "       Helthcare_2    Shops_1  \n",
       "count   5000.00000 5000.00000  \n",
       "mean       1.31940    4.24280  \n",
       "std        1.47994    4.77736  \n",
       "min        0.00000    0.00000  \n",
       "25%        0.00000    1.00000  \n",
       "50%        1.00000    3.00000  \n",
       "75%        2.00000    6.00000  \n",
       "max        6.00000   23.00000  "
      ]
     },
     "execution_count": 68,
     "metadata": {},
     "output_type": "execute_result"
    }
   ],
   "source": [
    "dft.describe()"
   ]
  },
  {
   "cell_type": "code",
   "execution_count": 69,
   "metadata": {
    "colab": {
     "base_uri": "https://localhost:8080/",
     "height": 80
    },
    "colab_type": "code",
    "executionInfo": {
     "elapsed": 751,
     "status": "ok",
     "timestamp": 1582664717490,
     "user": {
      "displayName": "Alexey Tankov",
      "photoUrl": "",
      "userId": "01729535101672247421"
     },
     "user_tz": -180
    },
    "id": "rPsjbOjerzDZ",
    "outputId": "f61a4913-309b-4ea7-ad8f-6513e73e1f01"
   },
   "outputs": [
    {
     "data": {
      "text/html": [
       "<div>\n",
       "<style scoped>\n",
       "    .dataframe tbody tr th:only-of-type {\n",
       "        vertical-align: middle;\n",
       "    }\n",
       "\n",
       "    .dataframe tbody tr th {\n",
       "        vertical-align: top;\n",
       "    }\n",
       "\n",
       "    .dataframe thead th {\n",
       "        text-align: right;\n",
       "    }\n",
       "</style>\n",
       "<table border=\"1\" class=\"dataframe\">\n",
       "  <thead>\n",
       "    <tr style=\"text-align: right;\">\n",
       "      <th></th>\n",
       "      <th>Id</th>\n",
       "      <th>DistrictId</th>\n",
       "      <th>Rooms</th>\n",
       "      <th>Square</th>\n",
       "      <th>LifeSquare</th>\n",
       "      <th>KitchenSquare</th>\n",
       "      <th>Floor</th>\n",
       "      <th>HouseFloor</th>\n",
       "      <th>HouseYear</th>\n",
       "      <th>Ecology_1</th>\n",
       "      <th>Ecology_2</th>\n",
       "      <th>Ecology_3</th>\n",
       "      <th>Social_1</th>\n",
       "      <th>Social_2</th>\n",
       "      <th>Social_3</th>\n",
       "      <th>Healthcare_1</th>\n",
       "      <th>Helthcare_2</th>\n",
       "      <th>Shops_1</th>\n",
       "      <th>Shops_2</th>\n",
       "    </tr>\n",
       "  </thead>\n",
       "  <tbody>\n",
       "    <tr>\n",
       "      <th>3398</th>\n",
       "      <td>1435</td>\n",
       "      <td>111</td>\n",
       "      <td>17.00000</td>\n",
       "      <td>52.86611</td>\n",
       "      <td>32.52834</td>\n",
       "      <td>8.00000</td>\n",
       "      <td>15</td>\n",
       "      <td>17.00000</td>\n",
       "      <td>1987</td>\n",
       "      <td>0.09344</td>\n",
       "      <td>1</td>\n",
       "      <td>1</td>\n",
       "      <td>23</td>\n",
       "      <td>4635</td>\n",
       "      <td>5</td>\n",
       "      <td>3300.00000</td>\n",
       "      <td>2</td>\n",
       "      <td>4</td>\n",
       "      <td>1</td>\n",
       "    </tr>\n",
       "  </tbody>\n",
       "</table>\n",
       "</div>"
      ],
      "text/plain": [
       "        Id DistrictId    Rooms   Square  LifeSquare  KitchenSquare  Floor  \\\n",
       "3398  1435        111 17.00000 52.86611    32.52834        8.00000     15   \n",
       "\n",
       "      HouseFloor  HouseYear  Ecology_1 Ecology_2 Ecology_3  Social_1  \\\n",
       "3398    17.00000       1987    0.09344         1         1        23   \n",
       "\n",
       "      Social_2  Social_3  Healthcare_1  Helthcare_2  Shops_1 Shops_2  \n",
       "3398      4635         5    3300.00000            2        4       1  "
      ]
     },
     "execution_count": 69,
     "metadata": {},
     "output_type": "execute_result"
    }
   ],
   "source": [
    "dft[dft['Rooms'] > 6]"
   ]
  },
  {
   "cell_type": "code",
   "execution_count": 70,
   "metadata": {
    "colab": {},
    "colab_type": "code",
    "id": "41xKYyjNr2fD"
   },
   "outputs": [],
   "source": [
    "dft.loc[dft['Rooms'] > 6, 'Rooms'] = rooms_median"
   ]
  },
  {
   "cell_type": "code",
   "execution_count": 71,
   "metadata": {
    "colab": {
     "base_uri": "https://localhost:8080/",
     "height": 49
    },
    "colab_type": "code",
    "executionInfo": {
     "elapsed": 656,
     "status": "ok",
     "timestamp": 1582664721296,
     "user": {
      "displayName": "Alexey Tankov",
      "photoUrl": "",
      "userId": "01729535101672247421"
     },
     "user_tz": -180
    },
    "id": "Iz9WEKtKr8Sd",
    "outputId": "a584f630-c24e-4aee-954d-3693f172ec37"
   },
   "outputs": [
    {
     "data": {
      "text/html": [
       "<div>\n",
       "<style scoped>\n",
       "    .dataframe tbody tr th:only-of-type {\n",
       "        vertical-align: middle;\n",
       "    }\n",
       "\n",
       "    .dataframe tbody tr th {\n",
       "        vertical-align: top;\n",
       "    }\n",
       "\n",
       "    .dataframe thead th {\n",
       "        text-align: right;\n",
       "    }\n",
       "</style>\n",
       "<table border=\"1\" class=\"dataframe\">\n",
       "  <thead>\n",
       "    <tr style=\"text-align: right;\">\n",
       "      <th></th>\n",
       "      <th>Id</th>\n",
       "      <th>DistrictId</th>\n",
       "      <th>Rooms</th>\n",
       "      <th>Square</th>\n",
       "      <th>LifeSquare</th>\n",
       "      <th>KitchenSquare</th>\n",
       "      <th>Floor</th>\n",
       "      <th>HouseFloor</th>\n",
       "      <th>HouseYear</th>\n",
       "      <th>Ecology_1</th>\n",
       "      <th>Ecology_2</th>\n",
       "      <th>Ecology_3</th>\n",
       "      <th>Social_1</th>\n",
       "      <th>Social_2</th>\n",
       "      <th>Social_3</th>\n",
       "      <th>Healthcare_1</th>\n",
       "      <th>Helthcare_2</th>\n",
       "      <th>Shops_1</th>\n",
       "      <th>Shops_2</th>\n",
       "    </tr>\n",
       "  </thead>\n",
       "  <tbody>\n",
       "  </tbody>\n",
       "</table>\n",
       "</div>"
      ],
      "text/plain": [
       "Empty DataFrame\n",
       "Columns: [Id, DistrictId, Rooms, Square, LifeSquare, KitchenSquare, Floor, HouseFloor, HouseYear, Ecology_1, Ecology_2, Ecology_3, Social_1, Social_2, Social_3, Healthcare_1, Helthcare_2, Shops_1, Shops_2]\n",
       "Index: []"
      ]
     },
     "execution_count": 71,
     "metadata": {},
     "output_type": "execute_result"
    }
   ],
   "source": [
    "dft[dft['Square'] > 300]"
   ]
  },
  {
   "cell_type": "code",
   "execution_count": 72,
   "metadata": {
    "colab": {},
    "colab_type": "code",
    "id": "-r4b3tGUr80T"
   },
   "outputs": [],
   "source": [
    "dft.loc[dft['LifeSquare'].isnull(), 'LifeSquare'] = lifesquare_median\n",
    "dft.loc[dft['LifeSquare'] > 300, 'LifeSquare'] = lifesquare_median"
   ]
  },
  {
   "cell_type": "code",
   "execution_count": 73,
   "metadata": {
    "colab": {},
    "colab_type": "code",
    "id": "V1TUKgpSr-67"
   },
   "outputs": [],
   "source": [
    "dft.loc[dft['KitchenSquare'] > 300, 'KitchenSquare'] = kitchensquare_median"
   ]
  },
  {
   "cell_type": "code",
   "execution_count": 74,
   "metadata": {
    "colab": {},
    "colab_type": "code",
    "id": "h33t2o7ZsBRG"
   },
   "outputs": [],
   "source": [
    "dft.loc[dft['Healthcare_1'].isnull(), 'Healthcare_1'] = healthcare_1_median"
   ]
  },
  {
   "cell_type": "code",
   "execution_count": 75,
   "metadata": {
    "colab": {},
    "colab_type": "code",
    "id": "2Mc01HVYsC6p"
   },
   "outputs": [],
   "source": [
    "X = dft[features_names]\n",
    "y = rf_model.predict(X)"
   ]
  },
  {
   "cell_type": "markdown",
   "metadata": {
    "colab_type": "text",
    "id": "oHDsTNa62M6t"
   },
   "source": [
    "**Сохраняем результаты**"
   ]
  },
  {
   "cell_type": "code",
   "execution_count": 76,
   "metadata": {
    "colab": {},
    "colab_type": "code",
    "id": "XTzn4NL9sFEp"
   },
   "outputs": [],
   "source": [
    "Res = pd.DataFrame(dft['Id'])\n",
    "Res['Price'] = y"
   ]
  },
  {
   "cell_type": "code",
   "execution_count": 77,
   "metadata": {
    "colab": {},
    "colab_type": "code",
    "id": "AT0Piun7sHwJ"
   },
   "outputs": [],
   "source": [
    "Res.to_csv(RES_PATH, index=False, encoding='utf-8')"
   ]
  },
  {
   "cell_type": "code",
   "execution_count": 78,
   "metadata": {
    "colab": {},
    "colab_type": "code",
    "id": "IaoEVoOYsKR_"
   },
   "outputs": [],
   "source": [
    "# from google.colab import files\n",
    "# files.download('./result_submission.csv')"
   ]
  },
  {
   "cell_type": "code",
   "execution_count": null,
   "metadata": {},
   "outputs": [],
   "source": []
  }
 ],
 "metadata": {
  "colab": {
   "authorship_tag": "ABX9TyOavU/06cVkeLk6eBVgmYyg",
   "collapsed_sections": [],
   "name": "Real_Estate_Price_Prediction.ipynb",
   "provenance": []
  },
  "kernelspec": {
   "display_name": "Python 3",
   "language": "python",
   "name": "python3"
  },
  "language_info": {
   "codemirror_mode": {
    "name": "ipython",
    "version": 3
   },
   "file_extension": ".py",
   "mimetype": "text/x-python",
   "name": "python",
   "nbconvert_exporter": "python",
   "pygments_lexer": "ipython3",
   "version": "3.7.4"
  }
 },
 "nbformat": 4,
 "nbformat_minor": 1
}
