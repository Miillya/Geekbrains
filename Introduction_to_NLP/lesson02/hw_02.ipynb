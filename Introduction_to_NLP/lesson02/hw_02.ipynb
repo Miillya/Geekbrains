{
 "cells": [
  {
   "cell_type": "markdown",
   "metadata": {},
   "source": [
    "## Введение в обработку естественного языка\n",
    "### Урок 2. Создание признакового пространства\n",
    "### Практическое задание"
   ]
  },
  {
   "cell_type": "markdown",
   "metadata": {},
   "source": [
    "**Продолжим обработку данных с Твиттера.** "
   ]
  },
  {
   "cell_type": "code",
   "execution_count": 1,
   "metadata": {},
   "outputs": [
    {
     "data": {
      "text/html": [
       "<style>.container { width:77% !important; }</style>"
      ],
      "text/plain": [
       "<IPython.core.display.HTML object>"
      ]
     },
     "metadata": {},
     "output_type": "display_data"
    }
   ],
   "source": [
    "from IPython.core.display import display, HTML, Image\n",
    "display(HTML(\"<style>.container { width:77% !important; }</style>\"))"
   ]
  },
  {
   "cell_type": "code",
   "execution_count": 2,
   "metadata": {},
   "outputs": [],
   "source": [
    "import pandas as pd\n",
    "import numpy as np\n",
    "import re\n",
    "import matplotlib.pyplot as plt\n",
    "import seaborn as sns\n",
    "import nltk\n",
    "import warnings \n",
    "warnings.filterwarnings(\"ignore\", category=DeprecationWarning)\n",
    "import os\n",
    "import time"
   ]
  },
  {
   "cell_type": "code",
   "execution_count": 3,
   "metadata": {},
   "outputs": [],
   "source": [
    "plt.rcParams.update({'font.size': 14})\n",
    "pd.set_option('precision', 3)\n",
    "pd.set_option('max_columns', 100)\n",
    "pd.set_option('display.float_format', lambda x: '%.5f' % x)\n",
    "pd.set_option('display.max_columns', 500)\n",
    "pd.set_option('display.max_rows', 500)\n",
    "pd.set_option('max_colwidth', 300)"
   ]
  },
  {
   "cell_type": "code",
   "execution_count": 4,
   "metadata": {},
   "outputs": [],
   "source": [
    "# Загрузка из файла\n",
    "combine_df = pd.read_pickle('../lesson01/combine_df.pkl')\n",
    "# Сохранение в файл\n",
    "# combine_df.to_pickle('../lesson01/combine_df.pkl')"
   ]
  },
  {
   "cell_type": "code",
   "execution_count": 5,
   "metadata": {},
   "outputs": [
    {
     "data": {
      "text/html": [
       "<div>\n",
       "<style scoped>\n",
       "    .dataframe tbody tr th:only-of-type {\n",
       "        vertical-align: middle;\n",
       "    }\n",
       "\n",
       "    .dataframe tbody tr th {\n",
       "        vertical-align: top;\n",
       "    }\n",
       "\n",
       "    .dataframe thead th {\n",
       "        text-align: right;\n",
       "    }\n",
       "</style>\n",
       "<table border=\"1\" class=\"dataframe\">\n",
       "  <thead>\n",
       "    <tr style=\"text-align: right;\">\n",
       "      <th></th>\n",
       "      <th>id</th>\n",
       "      <th>label</th>\n",
       "      <th>tweet</th>\n",
       "      <th>clean_tweet</th>\n",
       "      <th>clean_tweet_token</th>\n",
       "      <th>clean_tweet_token_filtered</th>\n",
       "      <th>clean_tweet_stemmed</th>\n",
       "      <th>clean_tweet_lemmatized</th>\n",
       "    </tr>\n",
       "  </thead>\n",
       "  <tbody>\n",
       "    <tr>\n",
       "      <th>0</th>\n",
       "      <td>1</td>\n",
       "      <td>0.00000</td>\n",
       "      <td>@user when a father is dysfunctional and is so selfish he drags his kids into his dysfunction.   #run</td>\n",
       "      <td>when father is dysfunctional and is so selfish he drags his kids into his dysfunction run</td>\n",
       "      <td>[when, father, is, dysfunctional, and, is, so, selfish, he, drags, his, kids, into, his, dysfunction, run]</td>\n",
       "      <td>[father, dysfunctional, selfish, drags, kids, dysfunction, run]</td>\n",
       "      <td>[father, dysfunct, selfish, drag, kid, dysfunct, run]</td>\n",
       "      <td>[father, dysfunctional, selfish, drag, kid, dysfunction, run]</td>\n",
       "    </tr>\n",
       "    <tr>\n",
       "      <th>1</th>\n",
       "      <td>2</td>\n",
       "      <td>0.00000</td>\n",
       "      <td>@user @user thanks for #lyft credit i can't use cause they don't offer wheelchair vans in pdx.    #disapointed #getthanked</td>\n",
       "      <td>thanks for lyft credit cannot use cause they do not offer wheelchair vans in pdx disapointed getthanked</td>\n",
       "      <td>[thanks, for, lyft, credit, can, not, use, cause, they, do, not, offer, wheelchair, vans, in, pdx, disapointed, getthanked]</td>\n",
       "      <td>[thanks, lyft, credit, use, cause, offer, wheelchair, vans, pdx, disapointed, getthanked]</td>\n",
       "      <td>[thank, lyft, credit, use, caus, offer, wheelchair, van, pdx, disapoint, getthank]</td>\n",
       "      <td>[thank, lyft, credit, use, cause, offer, wheelchair, vans, pdx, disapointed, getthanked]</td>\n",
       "    </tr>\n",
       "    <tr>\n",
       "      <th>2</th>\n",
       "      <td>3</td>\n",
       "      <td>0.00000</td>\n",
       "      <td>bihday your majesty</td>\n",
       "      <td>bihday your majesty</td>\n",
       "      <td>[bihday, your, majesty]</td>\n",
       "      <td>[bihday, majesty]</td>\n",
       "      <td>[bihday, majesti]</td>\n",
       "      <td>[bihday, majesty]</td>\n",
       "    </tr>\n",
       "    <tr>\n",
       "      <th>3</th>\n",
       "      <td>4</td>\n",
       "      <td>0.00000</td>\n",
       "      <td>#model   i love u take with u all the time in urð±!!! ðððð",
       "ð¦ð¦ð¦</td>\n",
       "      <td>model love you take with you all the time in ur</td>\n",
       "      <td>[model, love, you, take, with, you, all, the, time, in, ur]</td>\n",
       "      <td>[model, love, take, time, ur]</td>\n",
       "      <td>[model, love, take, time, ur]</td>\n",
       "      <td>[model, love, take, time, ur]</td>\n",
       "    </tr>\n",
       "    <tr>\n",
       "      <th>4</th>\n",
       "      <td>5</td>\n",
       "      <td>0.00000</td>\n",
       "      <td>factsguide: society now    #motivation</td>\n",
       "      <td>factsguide society now motivation</td>\n",
       "      <td>[factsguide, society, now, motivation]</td>\n",
       "      <td>[factsguide, society, motivation]</td>\n",
       "      <td>[factsguid, societi, motiv]</td>\n",
       "      <td>[factsguide, society, motivation]</td>\n",
       "    </tr>\n",
       "  </tbody>\n",
       "</table>\n",
       "</div>"
      ],
      "text/plain": [
       "   id   label  \\\n",
       "0   1 0.00000   \n",
       "1   2 0.00000   \n",
       "2   3 0.00000   \n",
       "3   4 0.00000   \n",
       "4   5 0.00000   \n",
       "\n",
       "                                                                                                                        tweet  \\\n",
       "0                       @user when a father is dysfunctional and is so selfish he drags his kids into his dysfunction.   #run   \n",
       "1  @user @user thanks for #lyft credit i can't use cause they don't offer wheelchair vans in pdx.    #disapointed #getthanked   \n",
       "2                                                                                                         bihday your majesty   \n",
       "3                                      #model   i love u take with u all the time in urð±!!! ðððð\n",
       "ð¦ð¦ð¦     \n",
       "4                                                                                      factsguide: society now    #motivation   \n",
       "\n",
       "                                                                                               clean_tweet  \\\n",
       "0                when father is dysfunctional and is so selfish he drags his kids into his dysfunction run   \n",
       "1  thanks for lyft credit cannot use cause they do not offer wheelchair vans in pdx disapointed getthanked   \n",
       "2                                                                                      bihday your majesty   \n",
       "3                                                          model love you take with you all the time in ur   \n",
       "4                                                                        factsguide society now motivation   \n",
       "\n",
       "                                                                                                             clean_tweet_token  \\\n",
       "0                   [when, father, is, dysfunctional, and, is, so, selfish, he, drags, his, kids, into, his, dysfunction, run]   \n",
       "1  [thanks, for, lyft, credit, can, not, use, cause, they, do, not, offer, wheelchair, vans, in, pdx, disapointed, getthanked]   \n",
       "2                                                                                                      [bihday, your, majesty]   \n",
       "3                                                                  [model, love, you, take, with, you, all, the, time, in, ur]   \n",
       "4                                                                                       [factsguide, society, now, motivation]   \n",
       "\n",
       "                                                                  clean_tweet_token_filtered  \\\n",
       "0                            [father, dysfunctional, selfish, drags, kids, dysfunction, run]   \n",
       "1  [thanks, lyft, credit, use, cause, offer, wheelchair, vans, pdx, disapointed, getthanked]   \n",
       "2                                                                          [bihday, majesty]   \n",
       "3                                                              [model, love, take, time, ur]   \n",
       "4                                                          [factsguide, society, motivation]   \n",
       "\n",
       "                                                                  clean_tweet_stemmed  \\\n",
       "0                               [father, dysfunct, selfish, drag, kid, dysfunct, run]   \n",
       "1  [thank, lyft, credit, use, caus, offer, wheelchair, van, pdx, disapoint, getthank]   \n",
       "2                                                                   [bihday, majesti]   \n",
       "3                                                       [model, love, take, time, ur]   \n",
       "4                                                         [factsguid, societi, motiv]   \n",
       "\n",
       "                                                                     clean_tweet_lemmatized  \n",
       "0                             [father, dysfunctional, selfish, drag, kid, dysfunction, run]  \n",
       "1  [thank, lyft, credit, use, cause, offer, wheelchair, vans, pdx, disapointed, getthanked]  \n",
       "2                                                                         [bihday, majesty]  \n",
       "3                                                             [model, love, take, time, ur]  \n",
       "4                                                         [factsguide, society, motivation]  "
      ]
     },
     "execution_count": 5,
     "metadata": {},
     "output_type": "execute_result"
    }
   ],
   "source": [
    "combine_df.head()"
   ]
  },
  {
   "cell_type": "markdown",
   "metadata": {},
   "source": [
    "**1. Создайте мешок слов с помощью sklearn.feature_extraction.text.CountVectorizer.fit_transform(). Применим его к 'tweet_stemmed' и 'tweet_lemmatized' отдельно.**  \n",
    "<li>Игнорируем слова, частота которых в документе строго превышает порог 0.9 с помощью max_df</li>\n",
    "<li>Ограничим количество слов, попадающий в мешок, с помощью max_features = 1000</li>\n",
    "<li>Исключим стоп-слова с помощью stop_words='english'</li>\n",
    "<li>Отобразим Bag-of-Words модель как DataFrame. columns необходимо извлечь с помощью CountVectorizer.get_feature_names()</li>"
   ]
  },
  {
   "cell_type": "markdown",
   "metadata": {},
   "source": [
    "**2. Создайте мешок слов с помощью sklearn.feature_extraction.text.TfidfVectorizer.fit_transform(). Применим его к 'tweet_stemmed' и 'tweet_lemmatized' отдельно.**\n",
    "<li>Игнорируем слова, частота которых в документе строго превышает порог 0.9 с помощью max_df</li>\n",
    "<li>Ограничим количество слов, попадающий в мешок, с помощью max_features = 1000</li>\n",
    "<li>Исключим стоп-слова с помощью stop_words='english'</li>\n",
    "<li>Отобразим Bag-of-Words модель как DataFrame. columns необходимо извлечь с помощью TfidfVectorizer.get_feature_names()</li>"
   ]
  },
  {
   "cell_type": "markdown",
   "metadata": {},
   "source": [
    "**3. Создайте мешок слов с помощью sklearn.feature_extraction.text.HashingVectorizer.fit_transform(). Применим его к 'tweet_stemmed' и 'tweet_lemmatized' отдельно.**\n",
    "<li>Игнорируем слова, частота которых в документе строго превышает порог 0.9 с помощью max_df</li>\n",
    "<li>Ограничим количество слов, попадающий в мешок, с помощью max_features = 1000.(можно изменить)</li>\n",
    "<li>Исключим стоп-слова с помощью stop_words='english'</li>"
   ]
  },
  {
   "cell_type": "markdown",
   "metadata": {},
   "source": [
    "**4. Проверьте ваши векторайзеры на корпусе который использовали на вебинаре, составьте таблицу метод векторизации и скор который вы получили (в методах векторизации по изменяйте параметры что бы добиться лучшего скора) обратите внимание как падает/растёт скор при уменьшении количества фичей, и изменении параметров, так же попробуйте применить к векторайзерам PCA для сокращения размерности посмотрите на качество сделайте выводы**"
   ]
  },
  {
   "cell_type": "code",
   "execution_count": null,
   "metadata": {},
   "outputs": [],
   "source": []
  }
 ],
 "metadata": {
  "kernelspec": {
   "display_name": "Python 3",
   "language": "python",
   "name": "python3"
  },
  "language_info": {
   "codemirror_mode": {
    "name": "ipython",
    "version": 3
   },
   "file_extension": ".py",
   "mimetype": "text/x-python",
   "name": "python",
   "nbconvert_exporter": "python",
   "pygments_lexer": "ipython3",
   "version": "3.8.8"
  }
 },
 "nbformat": 4,
 "nbformat_minor": 2
}
