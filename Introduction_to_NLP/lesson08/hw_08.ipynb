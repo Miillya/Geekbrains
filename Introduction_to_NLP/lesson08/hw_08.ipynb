{
 "cells": [
  {
   "cell_type": "markdown",
   "metadata": {
    "id": "3ZrA2tAaZTPf"
   },
   "source": [
    "## Введение в обработку естественного языка\n",
    "### Урок 8. Рекуррентные нейронные сети RNN LSTM GRU"
   ]
  },
  {
   "cell_type": "markdown",
   "metadata": {
    "id": "IkpcHsV8RWHA"
   },
   "source": [
    "### Практическое задание  \n",
    "На вебинаре мы говорили, что долгое время CNN и RNN архитектуры были конурируещими, необходимо выяснить какая архитектура больше подходит для задачи сантимент анализа на данных с вебинара.  \n",
    "1. построить свёрточные архитектуры\n",
    "2. построить различные архитектуры с RNN\n",
    "3. попробовать использовать совместно CNN и RNN\n",
    "4. сдлать выводы что получилось лучше"
   ]
  },
  {
   "cell_type": "markdown",
   "metadata": {
    "id": "tohTjhxVq7dY"
   },
   "source": [
    "### Подключение библиотек и скриптов"
   ]
  },
  {
   "cell_type": "code",
   "execution_count": 1,
   "metadata": {
    "colab": {
     "base_uri": "https://localhost:8080/",
     "height": 17
    },
    "executionInfo": {
     "elapsed": 2715,
     "status": "ok",
     "timestamp": 1619173596832,
     "user": {
      "displayName": "Alexey Tankov",
      "photoUrl": "",
      "userId": "01729535101672247421"
     },
     "user_tz": -180
    },
    "id": "JAFnV_UjZTPT",
    "outputId": "bfec483b-612a-46b6-9a44-2dde9f1c6414"
   },
   "outputs": [
    {
     "data": {
      "text/html": [
       "<style>.container { width:77% !important; }</style>"
      ],
      "text/plain": [
       "<IPython.core.display.HTML object>"
      ]
     },
     "metadata": {},
     "output_type": "display_data"
    }
   ],
   "source": [
    "from IPython.core.display import display, HTML, Image\n",
    "display(HTML(\"<style>.container { width:77% !important; }</style>\"))"
   ]
  },
  {
   "cell_type": "code",
   "execution_count": 2,
   "metadata": {
    "executionInfo": {
     "elapsed": 2646,
     "status": "ok",
     "timestamp": 1619173597208,
     "user": {
      "displayName": "Alexey Tankov",
      "photoUrl": "",
      "userId": "01729535101672247421"
     },
     "user_tz": -180
    },
    "id": "DtDZ7JuBVFi6"
   },
   "outputs": [],
   "source": [
    "import warnings\n",
    "warnings.filterwarnings(\"ignore\")"
   ]
  },
  {
   "cell_type": "code",
   "execution_count": 3,
   "metadata": {
    "colab": {
     "base_uri": "https://localhost:8080/"
    },
    "executionInfo": {
     "elapsed": 12821,
     "status": "ok",
     "timestamp": 1619173607597,
     "user": {
      "displayName": "Alexey Tankov",
      "photoUrl": "",
      "userId": "01729535101672247421"
     },
     "user_tz": -180
    },
    "id": "pGiG-GBID_Cn",
    "outputId": "c592a959-fcab-4e0a-eff9-5f7e2e7c7120"
   },
   "outputs": [],
   "source": [
    "# !pip install stop_words\n",
    "# !pip install pymorphy2\n",
    "# !pip install gensim"
   ]
  },
  {
   "cell_type": "code",
   "execution_count": 4,
   "metadata": {
    "executionInfo": {
     "elapsed": 15837,
     "status": "ok",
     "timestamp": 1619173610776,
     "user": {
      "displayName": "Alexey Tankov",
      "photoUrl": "",
      "userId": "01729535101672247421"
     },
     "user_tz": -180
    },
    "id": "f3wgBldxU7Zz"
   },
   "outputs": [],
   "source": [
    "import time\n",
    "\n",
    "import re\n",
    "import numpy as np\n",
    "import pandas as pd\n",
    "import matplotlib.pyplot as plt\n",
    "%matplotlib inline\n",
    "\n",
    "from string import punctuation\n",
    "from stop_words import get_stop_words\n",
    "from pymorphy2 import MorphAnalyzer\n",
    "\n",
    "import nltk\n",
    "from nltk.tokenize import word_tokenize\n",
    "\n",
    "from gensim.models import Word2Vec, FastText\n",
    "\n",
    "from sklearn.svm import LinearSVC\n",
    "from sklearn.model_selection import train_test_split\n",
    "from sklearn import preprocessing, linear_model\n",
    "from sklearn.metrics import accuracy_score\n",
    "from sklearn.feature_extraction.text import CountVectorizer, TfidfVectorizer, HashingVectorizer\n",
    "\n",
    "import tensorflow as tf\n",
    "from tensorflow.keras.models import Sequential\n",
    "# from tensorflow.keras.layers import Conv2D, MaxPool2D, Dense, Flatten, Dropout, AveragePooling2D, Activation, MaxPooling2D, BatchNormalization, Concatenate\n",
    "from tensorflow.keras import layers\n",
    "from tensorflow.keras import utils\n",
    "from tensorflow.keras import models\n",
    "from tensorflow.keras import callbacks"
   ]
  },
  {
   "cell_type": "code",
   "execution_count": 5,
   "metadata": {
    "colab": {
     "base_uri": "https://localhost:8080/"
    },
    "executionInfo": {
     "elapsed": 16741,
     "status": "ok",
     "timestamp": 1619173611834,
     "user": {
      "displayName": "Alexey Tankov",
      "photoUrl": "",
      "userId": "01729535101672247421"
     },
     "user_tz": -180
    },
    "id": "rusBenAnecx5",
    "outputId": "0f5a7241-eef6-45a7-ab1f-fc67c48c9a3b"
   },
   "outputs": [
    {
     "name": "stderr",
     "output_type": "stream",
     "text": [
      "[nltk_data] Downloading package punkt to\n",
      "[nltk_data]     C:\\Users\\Busi\\AppData\\Roaming\\nltk_data...\n",
      "[nltk_data]   Package punkt is already up-to-date!\n"
     ]
    },
    {
     "data": {
      "text/plain": [
       "True"
      ]
     },
     "execution_count": 5,
     "metadata": {},
     "output_type": "execute_result"
    }
   ],
   "source": [
    "nltk.download('punkt')"
   ]
  },
  {
   "cell_type": "code",
   "execution_count": 6,
   "metadata": {
    "executionInfo": {
     "elapsed": 16550,
     "status": "ok",
     "timestamp": 1619173611836,
     "user": {
      "displayName": "Alexey Tankov",
      "photoUrl": "",
      "userId": "01729535101672247421"
     },
     "user_tz": -180
    },
    "id": "X3KiW0lAqSQB"
   },
   "outputs": [],
   "source": [
    "plt.rcParams.update({'font.size': 14})\n",
    "pd.set_option('precision', 3)\n",
    "pd.set_option('max_columns', 100)\n",
    "pd.set_option('display.float_format', lambda x: '%.5f' % x)\n",
    "pd.set_option('display.max_columns', 500)\n",
    "pd.set_option('display.max_rows', 500)\n",
    "pd.set_option('max_colwidth', 300)"
   ]
  },
  {
   "cell_type": "code",
   "execution_count": 7,
   "metadata": {
    "executionInfo": {
     "elapsed": 16009,
     "status": "ok",
     "timestamp": 1619173611839,
     "user": {
      "displayName": "Alexey Tankov",
      "photoUrl": "",
      "userId": "01729535101672247421"
     },
     "user_tz": -180
    },
    "id": "E4Mkp0dtIXFw"
   },
   "outputs": [],
   "source": [
    "def plot_model(history): \n",
    "    fig, axs = plt.subplots(1, 2, figsize=(16, 5)) \n",
    "    # summarize history for accuracy\n",
    "    axs[0].plot(history.history['accuracy'], 'c') \n",
    "    axs[0].plot(history.history['val_accuracy'],'m') \n",
    "    axs[0].set_title('Accuracy of epochs')\n",
    "    axs[0].set_ylabel('Accuracy') \n",
    "    axs[0].set_xlabel('Epochs')\n",
    "    axs[0].legend(['train', 'validate'], loc='upper left')\n",
    "    # summarize history for loss\n",
    "    axs[1].plot(history.history['loss'], 'c') \n",
    "    axs[1].plot(history.history['val_loss'], 'm') \n",
    "    axs[1].set_title('Model Loss')\n",
    "    axs[1].set_ylabel('Loss') \n",
    "    axs[1].set_xlabel('Epochs')\n",
    "    axs[1].legend(['train', 'validate'], loc='upper left')\n",
    "    plt.show()"
   ]
  },
  {
   "cell_type": "markdown",
   "metadata": {
    "id": "WOstlOWEsCEO"
   },
   "source": [
    "### Tensorflow with GPU"
   ]
  },
  {
   "cell_type": "code",
   "execution_count": 8,
   "metadata": {
    "executionInfo": {
     "elapsed": 646,
     "status": "ok",
     "timestamp": 1619173620768,
     "user": {
      "displayName": "Alexey Tankov",
      "photoUrl": "",
      "userId": "01729535101672247421"
     },
     "user_tz": -180
    },
    "id": "63Fh5919DMp3"
   },
   "outputs": [],
   "source": [
    "# device_name = tf.test.gpu_device_name()\n",
    "# if device_name != '/device:GPU:0':\n",
    "#     raise SystemError('GPU device not found')\n",
    "# print('Found GPU at: {}'.format(device_name))"
   ]
  },
  {
   "cell_type": "markdown",
   "metadata": {
    "id": "sDheo-l_qr1w"
   },
   "source": [
    "### Загрузка данных"
   ]
  },
  {
   "cell_type": "code",
   "execution_count": 9,
   "metadata": {
    "colab": {
     "base_uri": "https://localhost:8080/"
    },
    "executionInfo": {
     "elapsed": 8177,
     "status": "ok",
     "timestamp": 1619173657646,
     "user": {
      "displayName": "Alexey Tankov",
      "photoUrl": "",
      "userId": "01729535101672247421"
     },
     "user_tz": -180
    },
    "id": "_9M2kdxGr7ZC",
    "outputId": "70708708-34e0-477c-e69a-fcd632a949c7"
   },
   "outputs": [],
   "source": [
    "# from google.colab import drive\n",
    "# drive.mount('/content/drive')"
   ]
  },
  {
   "cell_type": "code",
   "execution_count": 10,
   "metadata": {
    "executionInfo": {
     "elapsed": 7563,
     "status": "ok",
     "timestamp": 1619173697115,
     "user": {
      "displayName": "Alexey Tankov",
      "photoUrl": "",
      "userId": "01729535101672247421"
     },
     "user_tz": -180
    },
    "id": "l787K6shqzs3"
   },
   "outputs": [],
   "source": [
    "# df_train = pd.read_csv('/content/drive/MyDrive/Colab Notebooks/my_projects/data/train.csv')\n",
    "# df_test = pd.read_csv('/content/drive/MyDrive/Colab Notebooks/my_projects/data/test.csv')\n",
    "# df_val = pd.read_csv('/content/drive/MyDrive/Colab Notebooks/my_projects/data/val.csv')\n",
    "df_train = pd.read_csv('./data/train.csv')\n",
    "df_test = pd.read_csv('./data/test.csv')\n",
    "df_val = pd.read_csv('./data/val.csv')"
   ]
  },
  {
   "cell_type": "markdown",
   "metadata": {
    "id": "9moPFSBPrTIv"
   },
   "source": [
    "### Изучение датасета"
   ]
  },
  {
   "cell_type": "code",
   "execution_count": 11,
   "metadata": {
    "colab": {
     "base_uri": "https://localhost:8080/",
     "height": 204
    },
    "executionInfo": {
     "elapsed": 10639,
     "status": "ok",
     "timestamp": 1619173700765,
     "user": {
      "displayName": "Alexey Tankov",
      "photoUrl": "",
      "userId": "01729535101672247421"
     },
     "user_tz": -180
    },
    "id": "jgy70r96rYFE",
    "outputId": "e3f9f26d-76f8-497e-9164-a7014a8a9dd3"
   },
   "outputs": [
    {
     "data": {
      "text/html": [
       "<div>\n",
       "<style scoped>\n",
       "    .dataframe tbody tr th:only-of-type {\n",
       "        vertical-align: middle;\n",
       "    }\n",
       "\n",
       "    .dataframe tbody tr th {\n",
       "        vertical-align: top;\n",
       "    }\n",
       "\n",
       "    .dataframe thead th {\n",
       "        text-align: right;\n",
       "    }\n",
       "</style>\n",
       "<table border=\"1\" class=\"dataframe\">\n",
       "  <thead>\n",
       "    <tr style=\"text-align: right;\">\n",
       "      <th></th>\n",
       "      <th>id</th>\n",
       "      <th>text</th>\n",
       "      <th>class</th>\n",
       "    </tr>\n",
       "  </thead>\n",
       "  <tbody>\n",
       "    <tr>\n",
       "      <th>0</th>\n",
       "      <td>0</td>\n",
       "      <td>@alisachachka не уезжаааааааай. :(❤ я тоже не хочу, чтобы ты уезжала.</td>\n",
       "      <td>0</td>\n",
       "    </tr>\n",
       "    <tr>\n",
       "      <th>1</th>\n",
       "      <td>1</td>\n",
       "      <td>RT @GalyginVadim: Ребята и девчата!\\nВсе в кино!!! \"Вот Это Любовь!\"\\nСегодня! Завтра!  И потом!)))))\\n#вотэтолюбовь</td>\n",
       "      <td>1</td>\n",
       "    </tr>\n",
       "    <tr>\n",
       "      <th>2</th>\n",
       "      <td>2</td>\n",
       "      <td>RT @ARTEM_KLYUSHIN: Кто ненавидит пробки ретвит((((( RT</td>\n",
       "      <td>0</td>\n",
       "    </tr>\n",
       "    <tr>\n",
       "      <th>3</th>\n",
       "      <td>3</td>\n",
       "      <td>RT @epupybobv: Хочется котлету по-киевски. Запретный плод. :)</td>\n",
       "      <td>1</td>\n",
       "    </tr>\n",
       "    <tr>\n",
       "      <th>4</th>\n",
       "      <td>4</td>\n",
       "      <td>@KarineKurganova @Yess__Boss босапопа есбоса не боится мороза и .......))</td>\n",
       "      <td>1</td>\n",
       "    </tr>\n",
       "  </tbody>\n",
       "</table>\n",
       "</div>"
      ],
      "text/plain": [
       "   id  \\\n",
       "0   0   \n",
       "1   1   \n",
       "2   2   \n",
       "3   3   \n",
       "4   4   \n",
       "\n",
       "                                                                                                                   text  \\\n",
       "0                                                 @alisachachka не уезжаааааааай. :(❤ я тоже не хочу, чтобы ты уезжала.   \n",
       "1  RT @GalyginVadim: Ребята и девчата!\\nВсе в кино!!! \"Вот Это Любовь!\"\\nСегодня! Завтра!  И потом!)))))\\n#вотэтолюбовь   \n",
       "2                                                               RT @ARTEM_KLYUSHIN: Кто ненавидит пробки ретвит((((( RT   \n",
       "3                                                         RT @epupybobv: Хочется котлету по-киевски. Запретный плод. :)   \n",
       "4                                             @KarineKurganova @Yess__Boss босапопа есбоса не боится мороза и .......))   \n",
       "\n",
       "   class  \n",
       "0      0  \n",
       "1      1  \n",
       "2      0  \n",
       "3      1  \n",
       "4      1  "
      ]
     },
     "execution_count": 11,
     "metadata": {},
     "output_type": "execute_result"
    }
   ],
   "source": [
    "df_train.head()"
   ]
  },
  {
   "cell_type": "code",
   "execution_count": 12,
   "metadata": {
    "colab": {
     "base_uri": "https://localhost:8080/",
     "height": 204
    },
    "executionInfo": {
     "elapsed": 10466,
     "status": "ok",
     "timestamp": 1619173700767,
     "user": {
      "displayName": "Alexey Tankov",
      "photoUrl": "",
      "userId": "01729535101672247421"
     },
     "user_tz": -180
    },
    "id": "qXKD0fxG3R5C",
    "outputId": "edc2bedc-6c11-4816-dada-94fc852edd74"
   },
   "outputs": [
    {
     "data": {
      "text/html": [
       "<div>\n",
       "<style scoped>\n",
       "    .dataframe tbody tr th:only-of-type {\n",
       "        vertical-align: middle;\n",
       "    }\n",
       "\n",
       "    .dataframe tbody tr th {\n",
       "        vertical-align: top;\n",
       "    }\n",
       "\n",
       "    .dataframe thead th {\n",
       "        text-align: right;\n",
       "    }\n",
       "</style>\n",
       "<table border=\"1\" class=\"dataframe\">\n",
       "  <thead>\n",
       "    <tr style=\"text-align: right;\">\n",
       "      <th></th>\n",
       "      <th>id</th>\n",
       "      <th>text</th>\n",
       "    </tr>\n",
       "  </thead>\n",
       "  <tbody>\n",
       "    <tr>\n",
       "      <th>0</th>\n",
       "      <td>204150</td>\n",
       "      <td>Тектоника и рельеф-самое ужасное в мире мучение(</td>\n",
       "    </tr>\n",
       "    <tr>\n",
       "      <th>1</th>\n",
       "      <td>204151</td>\n",
       "      <td>Ходили запускать шар желаний, но у нас не получилось(( ну и хрен с ним</td>\n",
       "    </tr>\n",
       "    <tr>\n",
       "      <th>2</th>\n",
       "      <td>204152</td>\n",
       "      <td>Хочу лето только ради того, что бы направить ногти ярким лаком :)</td>\n",
       "    </tr>\n",
       "    <tr>\n",
       "      <th>3</th>\n",
       "      <td>204153</td>\n",
       "      <td>RT @RonyLiss: @colf_ne блин((\\nа я шипперила ФлораБлум\\nИ МузаТекна\\nА Стеллу.. не помню, ахах</td>\n",
       "    </tr>\n",
       "    <tr>\n",
       "      <th>4</th>\n",
       "      <td>204154</td>\n",
       "      <td>RT @anna_romt: @ZADROT_PO_IGRAM блин,каждое воскресенье утром выходит:( а сегодня ..какашка:(просто я иду человека фоткать и мне нужно солн…</td>\n",
       "    </tr>\n",
       "  </tbody>\n",
       "</table>\n",
       "</div>"
      ],
      "text/plain": [
       "       id  \\\n",
       "0  204150   \n",
       "1  204151   \n",
       "2  204152   \n",
       "3  204153   \n",
       "4  204154   \n",
       "\n",
       "                                                                                                                                           text  \n",
       "0                                                                                              Тектоника и рельеф-самое ужасное в мире мучение(  \n",
       "1                                                                        Ходили запускать шар желаний, но у нас не получилось(( ну и хрен с ним  \n",
       "2                                                                             Хочу лето только ради того, что бы направить ногти ярким лаком :)  \n",
       "3                                                RT @RonyLiss: @colf_ne блин((\\nа я шипперила ФлораБлум\\nИ МузаТекна\\nА Стеллу.. не помню, ахах  \n",
       "4  RT @anna_romt: @ZADROT_PO_IGRAM блин,каждое воскресенье утром выходит:( а сегодня ..какашка:(просто я иду человека фоткать и мне нужно солн…  "
      ]
     },
     "execution_count": 12,
     "metadata": {},
     "output_type": "execute_result"
    }
   ],
   "source": [
    "df_test.head()"
   ]
  },
  {
   "cell_type": "code",
   "execution_count": 13,
   "metadata": {
    "colab": {
     "base_uri": "https://localhost:8080/",
     "height": 204
    },
    "executionInfo": {
     "elapsed": 10257,
     "status": "ok",
     "timestamp": 1619173700770,
     "user": {
      "displayName": "Alexey Tankov",
      "photoUrl": "",
      "userId": "01729535101672247421"
     },
     "user_tz": -180
    },
    "id": "uekWFxr63r_9",
    "outputId": "3b59efec-d414-4ac8-d2ac-29a763a8a6de"
   },
   "outputs": [
    {
     "data": {
      "text/html": [
       "<div>\n",
       "<style scoped>\n",
       "    .dataframe tbody tr th:only-of-type {\n",
       "        vertical-align: middle;\n",
       "    }\n",
       "\n",
       "    .dataframe tbody tr th {\n",
       "        vertical-align: top;\n",
       "    }\n",
       "\n",
       "    .dataframe thead th {\n",
       "        text-align: right;\n",
       "    }\n",
       "</style>\n",
       "<table border=\"1\" class=\"dataframe\">\n",
       "  <thead>\n",
       "    <tr style=\"text-align: right;\">\n",
       "      <th></th>\n",
       "      <th>id</th>\n",
       "      <th>text</th>\n",
       "      <th>class</th>\n",
       "    </tr>\n",
       "  </thead>\n",
       "  <tbody>\n",
       "    <tr>\n",
       "      <th>0</th>\n",
       "      <td>181467</td>\n",
       "      <td>RT @TukvaSociopat: Максимальный репост! ))) #євромайдан http://t.co/wxtQ0xGVtp</td>\n",
       "      <td>1</td>\n",
       "    </tr>\n",
       "    <tr>\n",
       "      <th>1</th>\n",
       "      <td>181468</td>\n",
       "      <td>чтоб у меня з.п. ежегодно индексировали на индекс инфляции, как тарифы на автобусы! :(</td>\n",
       "      <td>0</td>\n",
       "    </tr>\n",
       "    <tr>\n",
       "      <th>2</th>\n",
       "      <td>181469</td>\n",
       "      <td>@chilyandlime нехуя мне не хорошо !!! :((((</td>\n",
       "      <td>0</td>\n",
       "    </tr>\n",
       "    <tr>\n",
       "      <th>3</th>\n",
       "      <td>181470</td>\n",
       "      <td>@inafish нее , когда ногами ахахах когда?ахаха честн не помню , я тебе завтра в шк покажу как меня прикона пиздят ~((((</td>\n",
       "      <td>0</td>\n",
       "    </tr>\n",
       "    <tr>\n",
       "      <th>4</th>\n",
       "      <td>181471</td>\n",
       "      <td>Хочу сделать как лучше,  а получаю как всегда. :(</td>\n",
       "      <td>0</td>\n",
       "    </tr>\n",
       "  </tbody>\n",
       "</table>\n",
       "</div>"
      ],
      "text/plain": [
       "       id  \\\n",
       "0  181467   \n",
       "1  181468   \n",
       "2  181469   \n",
       "3  181470   \n",
       "4  181471   \n",
       "\n",
       "                                                                                                                      text  \\\n",
       "0                                           RT @TukvaSociopat: Максимальный репост! ))) #євромайдан http://t.co/wxtQ0xGVtp   \n",
       "1                                   чтоб у меня з.п. ежегодно индексировали на индекс инфляции, как тарифы на автобусы! :(   \n",
       "2                                                                              @chilyandlime нехуя мне не хорошо !!! :((((   \n",
       "3  @inafish нее , когда ногами ахахах когда?ахаха честн не помню , я тебе завтра в шк покажу как меня прикона пиздят ~((((   \n",
       "4                                                                        Хочу сделать как лучше,  а получаю как всегда. :(   \n",
       "\n",
       "   class  \n",
       "0      1  \n",
       "1      0  \n",
       "2      0  \n",
       "3      0  \n",
       "4      0  "
      ]
     },
     "execution_count": 13,
     "metadata": {},
     "output_type": "execute_result"
    }
   ],
   "source": [
    "df_val.head()"
   ]
  },
  {
   "cell_type": "code",
   "execution_count": 14,
   "metadata": {
    "colab": {
     "base_uri": "https://localhost:8080/",
     "height": 204
    },
    "executionInfo": {
     "elapsed": 10096,
     "status": "ok",
     "timestamp": 1619173700773,
     "user": {
      "displayName": "Alexey Tankov",
      "photoUrl": "",
      "userId": "01729535101672247421"
     },
     "user_tz": -180
    },
    "id": "jiURDC6SrZBo",
    "outputId": "26d31bf4-746b-4c06-cb46-8886c72b1fd2"
   },
   "outputs": [
    {
     "data": {
      "text/html": [
       "<div>\n",
       "<style scoped>\n",
       "    .dataframe tbody tr th:only-of-type {\n",
       "        vertical-align: middle;\n",
       "    }\n",
       "\n",
       "    .dataframe tbody tr th {\n",
       "        vertical-align: top;\n",
       "    }\n",
       "\n",
       "    .dataframe thead th {\n",
       "        text-align: right;\n",
       "    }\n",
       "</style>\n",
       "<table border=\"1\" class=\"dataframe\">\n",
       "  <thead>\n",
       "    <tr style=\"text-align: right;\">\n",
       "      <th></th>\n",
       "      <th>id</th>\n",
       "      <th>text</th>\n",
       "      <th>class</th>\n",
       "    </tr>\n",
       "  </thead>\n",
       "  <tbody>\n",
       "    <tr>\n",
       "      <th>181462</th>\n",
       "      <td>181462</td>\n",
       "      <td>Классным будет новый год..( http://t.co/LejaGuXNwu</td>\n",
       "      <td>0</td>\n",
       "    </tr>\n",
       "    <tr>\n",
       "      <th>181463</th>\n",
       "      <td>181463</td>\n",
       "      <td>Видишь человека хочешь сказать ему привет . А он тебя игнорит :(</td>\n",
       "      <td>0</td>\n",
       "    </tr>\n",
       "    <tr>\n",
       "      <th>181464</th>\n",
       "      <td>181464</td>\n",
       "      <td>@Julia6_9Styles там длинный диагноз. Вкратце: аллергический отёк горла с осложнением в виде фолликулярной ангины :(</td>\n",
       "      <td>0</td>\n",
       "    </tr>\n",
       "    <tr>\n",
       "      <th>181465</th>\n",
       "      <td>181465</td>\n",
       "      <td>@technoslav ух ты, а кому тот серенький кнопочне телефон достанется ;)</td>\n",
       "      <td>1</td>\n",
       "    </tr>\n",
       "    <tr>\n",
       "      <th>181466</th>\n",
       "      <td>181466</td>\n",
       "      <td>@Kris1D_07 я тоже так собираюсь сделать:D навешаю фоток вандюх:D \\nобязательно выложи фотку, как нарядишь:3</td>\n",
       "      <td>1</td>\n",
       "    </tr>\n",
       "  </tbody>\n",
       "</table>\n",
       "</div>"
      ],
      "text/plain": [
       "            id  \\\n",
       "181462  181462   \n",
       "181463  181463   \n",
       "181464  181464   \n",
       "181465  181465   \n",
       "181466  181466   \n",
       "\n",
       "                                                                                                                       text  \\\n",
       "181462                                                                   Классным будет новый год..( http://t.co/LejaGuXNwu   \n",
       "181463                                                     Видишь человека хочешь сказать ему привет . А он тебя игнорит :(   \n",
       "181464  @Julia6_9Styles там длинный диагноз. Вкратце: аллергический отёк горла с осложнением в виде фолликулярной ангины :(   \n",
       "181465                                               @technoslav ух ты, а кому тот серенький кнопочне телефон достанется ;)   \n",
       "181466          @Kris1D_07 я тоже так собираюсь сделать:D навешаю фоток вандюх:D \\nобязательно выложи фотку, как нарядишь:3   \n",
       "\n",
       "        class  \n",
       "181462      0  \n",
       "181463      0  \n",
       "181464      0  \n",
       "181465      1  \n",
       "181466      1  "
      ]
     },
     "execution_count": 14,
     "metadata": {},
     "output_type": "execute_result"
    }
   ],
   "source": [
    "df_train.tail()"
   ]
  },
  {
   "cell_type": "code",
   "execution_count": 15,
   "metadata": {
    "colab": {
     "base_uri": "https://localhost:8080/",
     "height": 204
    },
    "executionInfo": {
     "elapsed": 9641,
     "status": "ok",
     "timestamp": 1619173700776,
     "user": {
      "displayName": "Alexey Tankov",
      "photoUrl": "",
      "userId": "01729535101672247421"
     },
     "user_tz": -180
    },
    "id": "GhgBe2sf4EGj",
    "outputId": "d98a583c-dd4d-4e87-ff4c-7c67670cd91e"
   },
   "outputs": [
    {
     "data": {
      "text/html": [
       "<div>\n",
       "<style scoped>\n",
       "    .dataframe tbody tr th:only-of-type {\n",
       "        vertical-align: middle;\n",
       "    }\n",
       "\n",
       "    .dataframe tbody tr th {\n",
       "        vertical-align: top;\n",
       "    }\n",
       "\n",
       "    .dataframe thead th {\n",
       "        text-align: right;\n",
       "    }\n",
       "</style>\n",
       "<table border=\"1\" class=\"dataframe\">\n",
       "  <thead>\n",
       "    <tr style=\"text-align: right;\">\n",
       "      <th></th>\n",
       "      <th>id</th>\n",
       "      <th>text</th>\n",
       "    </tr>\n",
       "  </thead>\n",
       "  <tbody>\n",
       "    <tr>\n",
       "      <th>22679</th>\n",
       "      <td>226829</td>\n",
       "      <td>RT @NickValuev: Небоскребы, небоскребы, а я маленький такой:) http://t.co/ZJ3H12KPPK</td>\n",
       "    </tr>\n",
       "    <tr>\n",
       "      <th>22680</th>\n",
       "      <td>226830</td>\n",
       "      <td>Первый день в школе в новом году;( 3 человека спросили: все ли у меня в порядке?.. Черный я любою, вот и все</td>\n",
       "    </tr>\n",
       "    <tr>\n",
       "      <th>22681</th>\n",
       "      <td>226831</td>\n",
       "      <td>RT @Killgay_slut: @Your_Novocaine привеееет муда... какой к черту Сэмми? (</td>\n",
       "    </tr>\n",
       "    <tr>\n",
       "      <th>22682</th>\n",
       "      <td>226832</td>\n",
       "      <td>Настроение вроде нормальное, но от чего плакать хочется(</td>\n",
       "    </tr>\n",
       "    <tr>\n",
       "      <th>22683</th>\n",
       "      <td>226833</td>\n",
       "      <td>зашла перед сном к девчонкам)пока они мыли посуду,Настя фоткалась) http://t.co/kiNexuDTuh</td>\n",
       "    </tr>\n",
       "  </tbody>\n",
       "</table>\n",
       "</div>"
      ],
      "text/plain": [
       "           id  \\\n",
       "22679  226829   \n",
       "22680  226830   \n",
       "22681  226831   \n",
       "22682  226832   \n",
       "22683  226833   \n",
       "\n",
       "                                                                                                               text  \n",
       "22679                          RT @NickValuev: Небоскребы, небоскребы, а я маленький такой:) http://t.co/ZJ3H12KPPK  \n",
       "22680  Первый день в школе в новом году;( 3 человека спросили: все ли у меня в порядке?.. Черный я любою, вот и все  \n",
       "22681                                    RT @Killgay_slut: @Your_Novocaine привеееет муда... какой к черту Сэмми? (  \n",
       "22682                                                      Настроение вроде нормальное, но от чего плакать хочется(  \n",
       "22683                     зашла перед сном к девчонкам)пока они мыли посуду,Настя фоткалась) http://t.co/kiNexuDTuh  "
      ]
     },
     "execution_count": 15,
     "metadata": {},
     "output_type": "execute_result"
    }
   ],
   "source": [
    "df_test.tail()"
   ]
  },
  {
   "cell_type": "code",
   "execution_count": 16,
   "metadata": {
    "colab": {
     "base_uri": "https://localhost:8080/",
     "height": 204
    },
    "executionInfo": {
     "elapsed": 9438,
     "status": "ok",
     "timestamp": 1619173700778,
     "user": {
      "displayName": "Alexey Tankov",
      "photoUrl": "",
      "userId": "01729535101672247421"
     },
     "user_tz": -180
    },
    "id": "oPR_mbc94Ev0",
    "outputId": "e5118a41-1c63-4b56-adcc-e827895606b1"
   },
   "outputs": [
    {
     "data": {
      "text/html": [
       "<div>\n",
       "<style scoped>\n",
       "    .dataframe tbody tr th:only-of-type {\n",
       "        vertical-align: middle;\n",
       "    }\n",
       "\n",
       "    .dataframe tbody tr th {\n",
       "        vertical-align: top;\n",
       "    }\n",
       "\n",
       "    .dataframe thead th {\n",
       "        text-align: right;\n",
       "    }\n",
       "</style>\n",
       "<table border=\"1\" class=\"dataframe\">\n",
       "  <thead>\n",
       "    <tr style=\"text-align: right;\">\n",
       "      <th></th>\n",
       "      <th>id</th>\n",
       "      <th>text</th>\n",
       "      <th>class</th>\n",
       "    </tr>\n",
       "  </thead>\n",
       "  <tbody>\n",
       "    <tr>\n",
       "      <th>22678</th>\n",
       "      <td>204145</td>\n",
       "      <td>А я знаю из-за кого такая паршивая погода была сегодня)))</td>\n",
       "      <td>1</td>\n",
       "    </tr>\n",
       "    <tr>\n",
       "      <th>22679</th>\n",
       "      <td>204146</td>\n",
       "      <td>ааа.... что с Гмейлом. не ужто он умер сегодня :( именно в тот день когда мне надо сдавать журнал в печать</td>\n",
       "      <td>0</td>\n",
       "    </tr>\n",
       "    <tr>\n",
       "      <th>22680</th>\n",
       "      <td>204147</td>\n",
       "      <td>в учебники химии написано \"Пруст Жозеф Луи\"\\nя явно подумала не о том Жозефе и не о том Луи:DD</td>\n",
       "      <td>1</td>\n",
       "    </tr>\n",
       "    <tr>\n",
       "      <th>22681</th>\n",
       "      <td>204148</td>\n",
       "      <td>Вот все любят,а я не люблю..как дура..говорю,что люблю..а сама..(</td>\n",
       "      <td>0</td>\n",
       "    </tr>\n",
       "    <tr>\n",
       "      <th>22682</th>\n",
       "      <td>204149</td>\n",
       "      <td>уххх спасибо дорогой Леле Евгеньевне и Штепуху за сегодняшний все было очень круто ,ну как обычно )))) нас даже научили как готовить бутеры</td>\n",
       "      <td>1</td>\n",
       "    </tr>\n",
       "  </tbody>\n",
       "</table>\n",
       "</div>"
      ],
      "text/plain": [
       "           id  \\\n",
       "22678  204145   \n",
       "22679  204146   \n",
       "22680  204147   \n",
       "22681  204148   \n",
       "22682  204149   \n",
       "\n",
       "                                                                                                                                              text  \\\n",
       "22678                                                                                    А я знаю из-за кого такая паршивая погода была сегодня)))   \n",
       "22679                                   ааа.... что с Гмейлом. не ужто он умер сегодня :( именно в тот день когда мне надо сдавать журнал в печать   \n",
       "22680                                               в учебники химии написано \"Пруст Жозеф Луи\"\\nя явно подумала не о том Жозефе и не о том Луи:DD   \n",
       "22681                                                                            Вот все любят,а я не люблю..как дура..говорю,что люблю..а сама..(   \n",
       "22682  уххх спасибо дорогой Леле Евгеньевне и Штепуху за сегодняшний все было очень круто ,ну как обычно )))) нас даже научили как готовить бутеры   \n",
       "\n",
       "       class  \n",
       "22678      1  \n",
       "22679      0  \n",
       "22680      1  \n",
       "22681      0  \n",
       "22682      1  "
      ]
     },
     "execution_count": 16,
     "metadata": {},
     "output_type": "execute_result"
    }
   ],
   "source": [
    "df_val.tail()"
   ]
  },
  {
   "cell_type": "code",
   "execution_count": 17,
   "metadata": {
    "colab": {
     "base_uri": "https://localhost:8080/"
    },
    "executionInfo": {
     "elapsed": 9273,
     "status": "ok",
     "timestamp": 1619173700782,
     "user": {
      "displayName": "Alexey Tankov",
      "photoUrl": "",
      "userId": "01729535101672247421"
     },
     "user_tz": -180
    },
    "id": "nV8HJfC_rfdR",
    "outputId": "142586f6-93c0-4946-8af5-0b2ad9a8df93"
   },
   "outputs": [
    {
     "name": "stdout",
     "output_type": "stream",
     "text": [
      "(181467, 3) (22684, 2) (22683, 3)\n"
     ]
    }
   ],
   "source": [
    "print(df_train.shape, df_test.shape, df_val.shape)"
   ]
  },
  {
   "cell_type": "code",
   "execution_count": 18,
   "metadata": {
    "colab": {
     "base_uri": "https://localhost:8080/"
    },
    "executionInfo": {
     "elapsed": 9135,
     "status": "ok",
     "timestamp": 1619173700796,
     "user": {
      "displayName": "Alexey Tankov",
      "photoUrl": "",
      "userId": "01729535101672247421"
     },
     "user_tz": -180
    },
    "id": "DV7mX8C3fDpd",
    "outputId": "32917deb-3a37-487e-c950-e79389c5dfa1"
   },
   "outputs": [
    {
     "name": "stdout",
     "output_type": "stream",
     "text": [
      "<class 'pandas.core.frame.DataFrame'>\n",
      "RangeIndex: 181467 entries, 0 to 181466\n",
      "Data columns (total 3 columns):\n",
      " #   Column  Non-Null Count   Dtype \n",
      "---  ------  --------------   ----- \n",
      " 0   id      181467 non-null  int64 \n",
      " 1   text    181467 non-null  object\n",
      " 2   class   181467 non-null  int64 \n",
      "dtypes: int64(2), object(1)\n",
      "memory usage: 4.2+ MB\n"
     ]
    }
   ],
   "source": [
    "df_train.info()"
   ]
  },
  {
   "cell_type": "code",
   "execution_count": 19,
   "metadata": {
    "colab": {
     "base_uri": "https://localhost:8080/"
    },
    "executionInfo": {
     "elapsed": 8700,
     "status": "ok",
     "timestamp": 1619173700798,
     "user": {
      "displayName": "Alexey Tankov",
      "photoUrl": "",
      "userId": "01729535101672247421"
     },
     "user_tz": -180
    },
    "id": "7-J0eqf7e87l",
    "outputId": "65ce62eb-5278-41f2-b4e2-8b0014c15530"
   },
   "outputs": [
    {
     "data": {
      "text/plain": [
       "id       0\n",
       "text     0\n",
       "class    0\n",
       "dtype: int64"
      ]
     },
     "execution_count": 19,
     "metadata": {},
     "output_type": "execute_result"
    }
   ],
   "source": [
    "df_train.isnull().sum()"
   ]
  },
  {
   "cell_type": "code",
   "execution_count": 20,
   "metadata": {
    "colab": {
     "base_uri": "https://localhost:8080/"
    },
    "executionInfo": {
     "elapsed": 8493,
     "status": "ok",
     "timestamp": 1619173700802,
     "user": {
      "displayName": "Alexey Tankov",
      "photoUrl": "",
      "userId": "01729535101672247421"
     },
     "user_tz": -180
    },
    "id": "r59KCqx-3hJC",
    "outputId": "badcbc7c-b752-4aac-a774-b82ab5225ed0"
   },
   "outputs": [
    {
     "data": {
      "text/plain": [
       "id      0\n",
       "text    0\n",
       "dtype: int64"
      ]
     },
     "execution_count": 20,
     "metadata": {},
     "output_type": "execute_result"
    }
   ],
   "source": [
    "df_test.isnull().sum()"
   ]
  },
  {
   "cell_type": "code",
   "execution_count": 21,
   "metadata": {
    "colab": {
     "base_uri": "https://localhost:8080/"
    },
    "executionInfo": {
     "elapsed": 8321,
     "status": "ok",
     "timestamp": 1619173700806,
     "user": {
      "displayName": "Alexey Tankov",
      "photoUrl": "",
      "userId": "01729535101672247421"
     },
     "user_tz": -180
    },
    "id": "oxaPCXqe3jVG",
    "outputId": "e22a4a18-087d-4d31-a9e7-46d6f8d75863"
   },
   "outputs": [
    {
     "data": {
      "text/plain": [
       "id       0\n",
       "text     0\n",
       "class    0\n",
       "dtype: int64"
      ]
     },
     "execution_count": 21,
     "metadata": {},
     "output_type": "execute_result"
    }
   ],
   "source": [
    "df_val.isnull().sum()"
   ]
  },
  {
   "cell_type": "markdown",
   "metadata": {
    "id": "jXuCJqqH_vO9"
   },
   "source": [
    "### Предобработка"
   ]
  },
  {
   "cell_type": "code",
   "execution_count": 22,
   "metadata": {
    "executionInfo": {
     "elapsed": 7779,
     "status": "ok",
     "timestamp": 1619173700808,
     "user": {
      "displayName": "Alexey Tankov",
      "photoUrl": "",
      "userId": "01729535101672247421"
     },
     "user_tz": -180
    },
    "id": "MPiThFwD-YqH"
   },
   "outputs": [],
   "source": [
    "sw = set(get_stop_words('ru'))\n",
    "exclude = set(punctuation)\n",
    "morpher = MorphAnalyzer()"
   ]
  },
  {
   "cell_type": "code",
   "execution_count": 23,
   "metadata": {
    "executionInfo": {
     "elapsed": 7344,
     "status": "ok",
     "timestamp": 1619173700811,
     "user": {
      "displayName": "Alexey Tankov",
      "photoUrl": "",
      "userId": "01729535101672247421"
     },
     "user_tz": -180
    },
    "id": "799ZNgan_4vt"
   },
   "outputs": [],
   "source": [
    "def preprocess_reviews(reviews):\n",
    "    reviews = str(reviews)\n",
    "    reviews = ''.join(c for c in reviews if c not in exclude)\n",
    "    reviews = reviews.lower()\n",
    "    reviews = re.sub(\"\\sне\", \"не\", reviews)\n",
    "    reviews = [morpher.parse(word)[0].normal_form for word in reviews.split() if word not in sw]\n",
    "    return \" \".join(reviews)"
   ]
  },
  {
   "cell_type": "code",
   "execution_count": 24,
   "metadata": {
    "executionInfo": {
     "elapsed": 335748,
     "status": "ok",
     "timestamp": 1619174029383,
     "user": {
      "displayName": "Alexey Tankov",
      "photoUrl": "",
      "userId": "01729535101672247421"
     },
     "user_tz": -180
    },
    "id": "t5Ydgk2fCiQd"
   },
   "outputs": [],
   "source": [
    "df_train['text'] = df_train['text'].apply(preprocess_reviews)\n",
    "df_test['text'] = df_test['text'].apply(preprocess_reviews)\n",
    "df_val['text'] = df_val['text'].apply(preprocess_reviews)"
   ]
  },
  {
   "cell_type": "code",
   "execution_count": 25,
   "metadata": {
    "colab": {
     "base_uri": "https://localhost:8080/",
     "height": 142
    },
    "executionInfo": {
     "elapsed": 335586,
     "status": "ok",
     "timestamp": 1619174029387,
     "user": {
      "displayName": "Alexey Tankov",
      "photoUrl": "",
      "userId": "01729535101672247421"
     },
     "user_tz": -180
    },
    "id": "g15tEuvMcLta",
    "outputId": "bc62dac8-fc33-4940-b1b0-8275abf6d213"
   },
   "outputs": [
    {
     "data": {
      "text/html": [
       "<div>\n",
       "<style scoped>\n",
       "    .dataframe tbody tr th:only-of-type {\n",
       "        vertical-align: middle;\n",
       "    }\n",
       "\n",
       "    .dataframe tbody tr th {\n",
       "        vertical-align: top;\n",
       "    }\n",
       "\n",
       "    .dataframe thead th {\n",
       "        text-align: right;\n",
       "    }\n",
       "</style>\n",
       "<table border=\"1\" class=\"dataframe\">\n",
       "  <thead>\n",
       "    <tr style=\"text-align: right;\">\n",
       "      <th></th>\n",
       "      <th>id</th>\n",
       "      <th>text</th>\n",
       "      <th>class</th>\n",
       "    </tr>\n",
       "  </thead>\n",
       "  <tbody>\n",
       "    <tr>\n",
       "      <th>0</th>\n",
       "      <td>0</td>\n",
       "      <td>alisachachkaич уезжаааааааать ❤ тожена хотеть уезжать</td>\n",
       "      <td>0</td>\n",
       "    </tr>\n",
       "    <tr>\n",
       "      <th>1</th>\n",
       "      <td>1</td>\n",
       "      <td>rt galyginvadim ребята девчата кино любовь завтра вотэтолюбовь</td>\n",
       "      <td>1</td>\n",
       "    </tr>\n",
       "    <tr>\n",
       "      <th>2</th>\n",
       "      <td>2</td>\n",
       "      <td>rt artemklyushin ктоненавидеть пробка ретвит rt</td>\n",
       "      <td>0</td>\n",
       "    </tr>\n",
       "  </tbody>\n",
       "</table>\n",
       "</div>"
      ],
      "text/plain": [
       "   id                                                            text  class\n",
       "0   0           alisachachkaич уезжаааааааать ❤ тожена хотеть уезжать      0\n",
       "1   1  rt galyginvadim ребята девчата кино любовь завтра вотэтолюбовь      1\n",
       "2   2                 rt artemklyushin ктоненавидеть пробка ретвит rt      0"
      ]
     },
     "execution_count": 25,
     "metadata": {},
     "output_type": "execute_result"
    }
   ],
   "source": [
    "df_train.head(3)"
   ]
  },
  {
   "cell_type": "code",
   "execution_count": 26,
   "metadata": {
    "colab": {
     "base_uri": "https://localhost:8080/",
     "height": 142
    },
    "executionInfo": {
     "elapsed": 335198,
     "status": "ok",
     "timestamp": 1619174029389,
     "user": {
      "displayName": "Alexey Tankov",
      "photoUrl": "",
      "userId": "01729535101672247421"
     },
     "user_tz": -180
    },
    "id": "Z7LZNhkOF-no",
    "outputId": "62b80ceb-3cad-43c3-bc24-917504f16170"
   },
   "outputs": [
    {
     "data": {
      "text/html": [
       "<div>\n",
       "<style scoped>\n",
       "    .dataframe tbody tr th:only-of-type {\n",
       "        vertical-align: middle;\n",
       "    }\n",
       "\n",
       "    .dataframe tbody tr th {\n",
       "        vertical-align: top;\n",
       "    }\n",
       "\n",
       "    .dataframe thead th {\n",
       "        text-align: right;\n",
       "    }\n",
       "</style>\n",
       "<table border=\"1\" class=\"dataframe\">\n",
       "  <thead>\n",
       "    <tr style=\"text-align: right;\">\n",
       "      <th></th>\n",
       "      <th>id</th>\n",
       "      <th>text</th>\n",
       "    </tr>\n",
       "  </thead>\n",
       "  <tbody>\n",
       "    <tr>\n",
       "      <th>0</th>\n",
       "      <td>204150</td>\n",
       "      <td>тектоника рельефсамый ужасный мир мучение</td>\n",
       "    </tr>\n",
       "    <tr>\n",
       "      <th>1</th>\n",
       "      <td>204151</td>\n",
       "      <td>ходить запускать шар желание насна получиться хрен они</td>\n",
       "    </tr>\n",
       "    <tr>\n",
       "      <th>2</th>\n",
       "      <td>204152</td>\n",
       "      <td>хотеть лето ради направить ноготь яркий лак</td>\n",
       "    </tr>\n",
       "  </tbody>\n",
       "</table>\n",
       "</div>"
      ],
      "text/plain": [
       "       id                                                    text\n",
       "0  204150               тектоника рельефсамый ужасный мир мучение\n",
       "1  204151  ходить запускать шар желание насна получиться хрен они\n",
       "2  204152             хотеть лето ради направить ноготь яркий лак"
      ]
     },
     "execution_count": 26,
     "metadata": {},
     "output_type": "execute_result"
    }
   ],
   "source": [
    "df_test.head(3)"
   ]
  },
  {
   "cell_type": "code",
   "execution_count": 27,
   "metadata": {
    "colab": {
     "base_uri": "https://localhost:8080/",
     "height": 142
    },
    "executionInfo": {
     "elapsed": 335011,
     "status": "ok",
     "timestamp": 1619174029392,
     "user": {
      "displayName": "Alexey Tankov",
      "photoUrl": "",
      "userId": "01729535101672247421"
     },
     "user_tz": -180
    },
    "id": "tc12XH3CF59S",
    "outputId": "fb9e6511-085c-46fa-f036-1bf3f25baf88"
   },
   "outputs": [
    {
     "data": {
      "text/html": [
       "<div>\n",
       "<style scoped>\n",
       "    .dataframe tbody tr th:only-of-type {\n",
       "        vertical-align: middle;\n",
       "    }\n",
       "\n",
       "    .dataframe tbody tr th {\n",
       "        vertical-align: top;\n",
       "    }\n",
       "\n",
       "    .dataframe thead th {\n",
       "        text-align: right;\n",
       "    }\n",
       "</style>\n",
       "<table border=\"1\" class=\"dataframe\">\n",
       "  <thead>\n",
       "    <tr style=\"text-align: right;\">\n",
       "      <th></th>\n",
       "      <th>id</th>\n",
       "      <th>text</th>\n",
       "      <th>class</th>\n",
       "    </tr>\n",
       "  </thead>\n",
       "  <tbody>\n",
       "    <tr>\n",
       "      <th>0</th>\n",
       "      <td>181467</td>\n",
       "      <td>rt tukvasociopat максимальный репост євромайдан httptcowxtq0xgvtp</td>\n",
       "      <td>1</td>\n",
       "    </tr>\n",
       "    <tr>\n",
       "      <th>1</th>\n",
       "      <td>181468</td>\n",
       "      <td>зп ежегодно индексировать индекс инфляция тариф автобус</td>\n",
       "      <td>0</td>\n",
       "    </tr>\n",
       "    <tr>\n",
       "      <th>2</th>\n",
       "      <td>181469</td>\n",
       "      <td>chilyandlimeнеховать мнен</td>\n",
       "      <td>0</td>\n",
       "    </tr>\n",
       "  </tbody>\n",
       "</table>\n",
       "</div>"
      ],
      "text/plain": [
       "       id                                                               text  \\\n",
       "0  181467  rt tukvasociopat максимальный репост євромайдан httptcowxtq0xgvtp   \n",
       "1  181468            зп ежегодно индексировать индекс инфляция тариф автобус   \n",
       "2  181469                                          chilyandlimeнеховать мнен   \n",
       "\n",
       "   class  \n",
       "0      1  \n",
       "1      0  \n",
       "2      0  "
      ]
     },
     "execution_count": 27,
     "metadata": {},
     "output_type": "execute_result"
    }
   ],
   "source": [
    "df_val.head(3)"
   ]
  },
  {
   "cell_type": "markdown",
   "metadata": {
    "id": "-tWF7WDABh50"
   },
   "source": [
    "### 0. Baseline"
   ]
  },
  {
   "cell_type": "code",
   "execution_count": 28,
   "metadata": {
    "executionInfo": {
     "elapsed": 334238,
     "status": "ok",
     "timestamp": 1619174029396,
     "user": {
      "displayName": "Alexey Tankov",
      "photoUrl": "",
      "userId": "01729535101672247421"
     },
     "user_tz": -180
    },
    "id": "9OLtBVETMlwh"
   },
   "outputs": [],
   "source": [
    "X_train = df_train['text']\n",
    "y_train = df_train['class']\n",
    "X_test = df_val['text']\n",
    "y_test = df_val['class']"
   ]
  },
  {
   "cell_type": "code",
   "execution_count": 29,
   "metadata": {
    "executionInfo": {
     "elapsed": 334047,
     "status": "ok",
     "timestamp": 1619174029398,
     "user": {
      "displayName": "Alexey Tankov",
      "photoUrl": "",
      "userId": "01729535101672247421"
     },
     "user_tz": -180
    },
    "id": "pVPzctgpHGok"
   },
   "outputs": [],
   "source": [
    "# # labelEncode целевую переменную\n",
    "# encoder = preprocessing.LabelEncoder()\n",
    "# y_train = encoder.fit_transform(y_train)\n",
    "# y_test = encoder.fit_transform(y_test)"
   ]
  },
  {
   "cell_type": "code",
   "execution_count": 30,
   "metadata": {
    "executionInfo": {
     "elapsed": 333897,
     "status": "ok",
     "timestamp": 1619174029400,
     "user": {
      "displayName": "Alexey Tankov",
      "photoUrl": "",
      "userId": "01729535101672247421"
     },
     "user_tz": -180
    },
    "id": "F972PzpLBmcx"
   },
   "outputs": [],
   "source": [
    "models = []\n",
    "\n",
    "models.append(('CountVectorizer_LR', CountVectorizer()))\n",
    "models.append(('TfidfVectorizer_LR', TfidfVectorizer()))\n",
    "models.append(('HashingVectorizer_LR', HashingVectorizer()))"
   ]
  },
  {
   "cell_type": "code",
   "execution_count": 31,
   "metadata": {
    "executionInfo": {
     "elapsed": 400154,
     "status": "ok",
     "timestamp": 1619174096101,
     "user": {
      "displayName": "Alexey Tankov",
      "photoUrl": "",
      "userId": "01729535101672247421"
     },
     "user_tz": -180
    },
    "id": "HBjhW5f2G7c5"
   },
   "outputs": [],
   "source": [
    "# Logistic Regression\n",
    "start_time = time.time()\n",
    "classifier = linear_model.LogisticRegression()\n",
    "\n",
    "results = []\n",
    "\n",
    "for name, model in models:\n",
    "    model.fit(X_train)\n",
    "    X_train_count = model.transform(X_train)\n",
    "    X_test_count = model.transform(X_test)\n",
    "    \n",
    "    classifier.fit(X_train_count, y_train)\n",
    "    predictions_train = classifier.predict(X_train_count)\n",
    "    predictions_test = classifier.predict(X_test_count)\n",
    "    \n",
    "    train_accuracy = accuracy_score(y_train, predictions_train)\n",
    "    test_accuracy = accuracy_score(y_test, predictions_test)\n",
    "\n",
    "    results.append((name, train_accuracy, test_accuracy))\n",
    "    \n",
    "baseline_lr = pd.DataFrame(results, columns = ['model', 'train_accuracy', 'test_accuracy'])\n",
    "baseline_lr.sort_values('test_accuracy', ascending=False)\n",
    "lr_time = (time.time() - start_time)"
   ]
  },
  {
   "cell_type": "code",
   "execution_count": 32,
   "metadata": {
    "colab": {
     "base_uri": "https://localhost:8080/"
    },
    "executionInfo": {
     "elapsed": 399136,
     "status": "ok",
     "timestamp": 1619174096113,
     "user": {
      "displayName": "Alexey Tankov",
      "photoUrl": "",
      "userId": "01729535101672247421"
     },
     "user_tz": -180
    },
    "id": "EJ1E-sSpAZKA",
    "outputId": "9b15dfd7-700d-4632-eeec-c75bdfc3bbfd"
   },
   "outputs": [
    {
     "data": {
      "text/plain": [
       "41.84994721412659"
      ]
     },
     "execution_count": 32,
     "metadata": {},
     "output_type": "execute_result"
    }
   ],
   "source": [
    "lr_time"
   ]
  },
  {
   "cell_type": "code",
   "execution_count": 33,
   "metadata": {
    "executionInfo": {
     "elapsed": 398425,
     "status": "ok",
     "timestamp": 1619174096116,
     "user": {
      "displayName": "Alexey Tankov",
      "photoUrl": "",
      "userId": "01729535101672247421"
     },
     "user_tz": -180
    },
    "id": "FT0lJe9BA1bW"
   },
   "outputs": [],
   "source": [
    "models = []\n",
    "\n",
    "models.append(('CountVectorizer_LSVC', CountVectorizer()))\n",
    "models.append(('TfidfVectorizer_LSVC', TfidfVectorizer()))\n",
    "models.append(('HashingVectorizer_LSVC', HashingVectorizer()))"
   ]
  },
  {
   "cell_type": "code",
   "execution_count": 34,
   "metadata": {
    "executionInfo": {
     "elapsed": 461786,
     "status": "ok",
     "timestamp": 1619174160384,
     "user": {
      "displayName": "Alexey Tankov",
      "photoUrl": "",
      "userId": "01729535101672247421"
     },
     "user_tz": -180
    },
    "id": "cvuEVoz9RINg"
   },
   "outputs": [],
   "source": [
    "# LinearSVC\n",
    "start_time = time.time()\n",
    "classifier = LinearSVC()\n",
    "\n",
    "results = []\n",
    "\n",
    "for name, model in models:\n",
    "    model.fit(X_train)\n",
    "    X_train_count = model.transform(X_train)\n",
    "    X_test_count = model.transform(X_test)\n",
    "    \n",
    "    classifier.fit(X_train_count, y_train)\n",
    "    predictions_train = classifier.predict(X_train_count)\n",
    "    predictions_test = classifier.predict(X_test_count)\n",
    "    \n",
    "    train_accuracy = accuracy_score(y_train, predictions_train)\n",
    "    test_accuracy = accuracy_score(y_test, predictions_test)\n",
    "\n",
    "    results.append((name, train_accuracy, test_accuracy))\n",
    "    \n",
    "baseline_lsvc = pd.DataFrame(results, columns = ['model', 'train_accuracy', 'test_accuracy'])\n",
    "baseline_lsvc.sort_values('test_accuracy', ascending=False)\n",
    "lsvc_time = (time.time() - start_time)"
   ]
  },
  {
   "cell_type": "code",
   "execution_count": 35,
   "metadata": {
    "colab": {
     "base_uri": "https://localhost:8080/"
    },
    "executionInfo": {
     "elapsed": 461117,
     "status": "ok",
     "timestamp": 1619174160385,
     "user": {
      "displayName": "Alexey Tankov",
      "photoUrl": "",
      "userId": "01729535101672247421"
     },
     "user_tz": -180
    },
    "id": "TMbbIIgJDaS5",
    "outputId": "fa239878-0fdd-47f1-bb56-e8ae23c5fcf7"
   },
   "outputs": [
    {
     "data": {
      "text/plain": [
       "47.59124708175659"
      ]
     },
     "execution_count": 35,
     "metadata": {},
     "output_type": "execute_result"
    }
   ],
   "source": [
    "lsvc_time"
   ]
  },
  {
   "cell_type": "markdown",
   "metadata": {
    "id": "ldPJGJlpnrwe"
   },
   "source": [
    "### Word Embeddings"
   ]
  },
  {
   "cell_type": "code",
   "execution_count": 36,
   "metadata": {
    "executionInfo": {
     "elapsed": 460355,
     "status": "ok",
     "timestamp": 1619174160386,
     "user": {
      "displayName": "Alexey Tankov",
      "photoUrl": "",
      "userId": "01729535101672247421"
     },
     "user_tz": -180
    },
    "id": "E3T8eNiSIG17"
   },
   "outputs": [],
   "source": [
    "text_corpus_train = df_train['text'].values\n",
    "text_corpus_valid = df_val['text'].values\n",
    "text_corpus_test = df_test['text'].values"
   ]
  },
  {
   "cell_type": "code",
   "execution_count": 37,
   "metadata": {
    "executionInfo": {
     "elapsed": 458063,
     "status": "ok",
     "timestamp": 1619174160389,
     "user": {
      "displayName": "Alexey Tankov",
      "photoUrl": "",
      "userId": "01729535101672247421"
     },
     "user_tz": -180
    },
    "id": "WQbXSpS2ZGEn"
   },
   "outputs": [],
   "source": [
    "from keras.preprocessing.text import Tokenizer\n",
    "from keras.preprocessing.sequence import pad_sequences"
   ]
  },
  {
   "cell_type": "code",
   "execution_count": 38,
   "metadata": {
    "executionInfo": {
     "elapsed": 467403,
     "status": "ok",
     "timestamp": 1619174169902,
     "user": {
      "displayName": "Alexey Tankov",
      "photoUrl": "",
      "userId": "01729535101672247421"
     },
     "user_tz": -180
    },
    "id": "FZLqaB_AYvoj"
   },
   "outputs": [],
   "source": [
    "tokenizer = Tokenizer(num_words=None, \n",
    "                     filters='#$%&()*+-<=>@[\\\\]^_`{|}~\\t\\n',\n",
    "                     lower = False, split = ' ')\n",
    "tokenizer.fit_on_texts(text_corpus_train)\n",
    "\n",
    "sequences_train = tokenizer.texts_to_sequences(text_corpus_train)\n",
    "sequences_val = tokenizer.texts_to_sequences(text_corpus_valid)\n",
    "sequences_test = tokenizer.texts_to_sequences(text_corpus_test)\n",
    "\n",
    "word_count = len(tokenizer.index_word) + 1 # Adding 1 because of reserved 0 index\n",
    "training_length = max([len(i.split()) for i in text_corpus_train])\n",
    "\n",
    "X_train = pad_sequences(sequences_train, maxlen=training_length)\n",
    "X_valid = pad_sequences(sequences_val, maxlen=training_length)"
   ]
  },
  {
   "cell_type": "code",
   "execution_count": 39,
   "metadata": {
    "executionInfo": {
     "elapsed": 466995,
     "status": "ok",
     "timestamp": 1619174169904,
     "user": {
      "displayName": "Alexey Tankov",
      "photoUrl": "",
      "userId": "01729535101672247421"
     },
     "user_tz": -180
    },
    "id": "jO-oIFQTZOh6"
   },
   "outputs": [],
   "source": [
    "y_train = df_train['class'].values\n",
    "y_val = df_val['class'].values"
   ]
  },
  {
   "cell_type": "markdown",
   "metadata": {
    "id": "B07MLBaFXn-6"
   },
   "source": [
    "### Simple model"
   ]
  },
  {
   "cell_type": "code",
   "execution_count": 40,
   "metadata": {
    "executionInfo": {
     "elapsed": 465247,
     "status": "ok",
     "timestamp": 1619174169906,
     "user": {
      "displayName": "Alexey Tankov",
      "photoUrl": "",
      "userId": "01729535101672247421"
     },
     "user_tz": -180
    },
    "id": "yIL34vZpxZFd"
   },
   "outputs": [],
   "source": [
    "# Training\n",
    "epochs = 5\n",
    "batch_size = 64"
   ]
  },
  {
   "cell_type": "code",
   "execution_count": 41,
   "metadata": {
    "executionInfo": {
     "elapsed": 464298,
     "status": "ok",
     "timestamp": 1619174169906,
     "user": {
      "displayName": "Alexey Tankov",
      "photoUrl": "",
      "userId": "01729535101672247421"
     },
     "user_tz": -180
    },
    "id": "SGY7la4toJe_"
   },
   "outputs": [],
   "source": [
    "input_dim = X_train.shape[1]  # Number of features"
   ]
  },
  {
   "cell_type": "code",
   "execution_count": 42,
   "metadata": {
    "executionInfo": {
     "elapsed": 463174,
     "status": "ok",
     "timestamp": 1619174169908,
     "user": {
      "displayName": "Alexey Tankov",
      "photoUrl": "",
      "userId": "01729535101672247421"
     },
     "user_tz": -180
    },
    "id": "ybS3dxjgoJjU"
   },
   "outputs": [],
   "source": [
    "model_1 = Sequential([\n",
    "    layers.Dense(10, input_dim=input_dim, activation='relu'),\n",
    "    layers.Dense(1, activation='sigmoid')\n",
    "])"
   ]
  },
  {
   "cell_type": "code",
   "execution_count": 43,
   "metadata": {
    "executionInfo": {
     "elapsed": 462346,
     "status": "ok",
     "timestamp": 1619174169909,
     "user": {
      "displayName": "Alexey Tankov",
      "photoUrl": "",
      "userId": "01729535101672247421"
     },
     "user_tz": -180
    },
    "id": "526-cnusoJmV"
   },
   "outputs": [],
   "source": [
    "model_1.compile(optimizer='adam',\n",
    "                     loss='binary_crossentropy',\n",
    "                     metrics=['accuracy'])"
   ]
  },
  {
   "cell_type": "code",
   "execution_count": 44,
   "metadata": {
    "colab": {
     "base_uri": "https://localhost:8080/"
    },
    "executionInfo": {
     "elapsed": 481983,
     "status": "ok",
     "timestamp": 1619174190418,
     "user": {
      "displayName": "Alexey Tankov",
      "photoUrl": "",
      "userId": "01729535101672247421"
     },
     "user_tz": -180
    },
    "id": "lz-unWxQoJpL",
    "outputId": "f6e78d2f-c8e8-456c-d4bb-192b1d16f55d"
   },
   "outputs": [
    {
     "name": "stdout",
     "output_type": "stream",
     "text": [
      "Epoch 1/5\n",
      "2836/2836 [==============================] - 3s 855us/step - loss: 2356.3279 - accuracy: 0.5111 - val_loss: 36.3851 - val_accuracy: 0.5209\n",
      "Epoch 2/5\n",
      "2836/2836 [==============================] - 2s 761us/step - loss: 90.6616 - accuracy: 0.5257 - val_loss: 24.1318 - val_accuracy: 0.5173\n",
      "Epoch 3/5\n",
      "2836/2836 [==============================] - 2s 729us/step - loss: 71.6450 - accuracy: 0.5263 - val_loss: 22.0210 - val_accuracy: 0.5295\n",
      "Epoch 4/5\n",
      "2836/2836 [==============================] - 2s 740us/step - loss: 71.2998 - accuracy: 0.5245 - val_loss: 34.7786 - val_accuracy: 0.5070\n",
      "Epoch 5/5\n",
      "2836/2836 [==============================] - 2s 753us/step - loss: 65.8947 - accuracy: 0.5329 - val_loss: 27.1938 - val_accuracy: 0.5244\n"
     ]
    }
   ],
   "source": [
    "start_time = time.time()\n",
    "history_1 = model_1.fit(X_train, y_train, batch_size=batch_size, epochs=epochs, validation_data=(X_valid, y_val))\n",
    "model_time1 = (time.time() - start_time)"
   ]
  },
  {
   "cell_type": "code",
   "execution_count": 45,
   "metadata": {
    "colab": {
     "base_uri": "https://localhost:8080/"
    },
    "executionInfo": {
     "elapsed": 480930,
     "status": "ok",
     "timestamp": 1619174190421,
     "user": {
      "displayName": "Alexey Tankov",
      "photoUrl": "",
      "userId": "01729535101672247421"
     },
     "user_tz": -180
    },
    "id": "yl6Mr5NJoJr7",
    "outputId": "34ff4708-da1f-496d-aebe-4dba05a3558e"
   },
   "outputs": [
    {
     "data": {
      "text/plain": [
       "11.403963565826416"
      ]
     },
     "execution_count": 45,
     "metadata": {},
     "output_type": "execute_result"
    }
   ],
   "source": [
    "model_time1"
   ]
  },
  {
   "cell_type": "code",
   "execution_count": 46,
   "metadata": {
    "executionInfo": {
     "elapsed": 483593,
     "status": "ok",
     "timestamp": 1619174194746,
     "user": {
      "displayName": "Alexey Tankov",
      "photoUrl": "",
      "userId": "01729535101672247421"
     },
     "user_tz": -180
    },
    "id": "FnmzrKsctsG5"
   },
   "outputs": [],
   "source": [
    "score_train1 = model_1.evaluate(X_train, y_train, verbose=0)\n",
    "score_test1 = model_1.evaluate(X_valid, y_val, verbose=0)"
   ]
  },
  {
   "cell_type": "code",
   "execution_count": 47,
   "metadata": {
    "colab": {
     "base_uri": "https://localhost:8080/"
    },
    "executionInfo": {
     "elapsed": 482805,
     "status": "ok",
     "timestamp": 1619174194752,
     "user": {
      "displayName": "Alexey Tankov",
      "photoUrl": "",
      "userId": "01729535101672247421"
     },
     "user_tz": -180
    },
    "id": "tKxYKJpAtsG6",
    "outputId": "ba43992e-8028-40a8-d79e-6abceba6dfa4"
   },
   "outputs": [
    {
     "name": "stdout",
     "output_type": "stream",
     "text": [
      "Train loss: 59.77468490600586\n",
      "Train accuracy: 0.5263161063194275\n",
      "Test loss: 27.193832397460938\n",
      "Test accuracy: 0.52448970079422\n"
     ]
    }
   ],
   "source": [
    "print('Train loss:', score_train1[0])\n",
    "print('Train accuracy:', score_train1[1])\n",
    "print('Test loss:', score_test1[0])\n",
    "print('Test accuracy:', score_test1[1])"
   ]
  },
  {
   "cell_type": "code",
   "execution_count": 48,
   "metadata": {
    "colab": {
     "base_uri": "https://localhost:8080/",
     "height": 362
    },
    "executionInfo": {
     "elapsed": 483002,
     "status": "ok",
     "timestamp": 1619174195335,
     "user": {
      "displayName": "Alexey Tankov",
      "photoUrl": "",
      "userId": "01729535101672247421"
     },
     "user_tz": -180
    },
    "id": "5kT3FZcTohZy",
    "outputId": "9ea743f6-41a3-4dc3-8a4c-e08c515004c3"
   },
   "outputs": [
    {
     "data": {
      "image/png": "[encoded data removed]",
      "text/plain": [
       "<Figure size 1152x360 with 2 Axes>"
      ]
     },
     "metadata": {
      "needs_background": "light"
     },
     "output_type": "display_data"
    }
   ],
   "source": [
    "plot_model(history_1)"
   ]
  },
  {
   "cell_type": "code",
   "execution_count": 49,
   "metadata": {},
   "outputs": [],
   "source": [
    "result_1 = pd.DataFrame((score_train1[1], score_test1[1], score_train1[0], score_test1[0])).T\n",
    "result_1.columns=['train_accuracy', 'test_accuracy', 'train_loss', 'test_loss']\n",
    "result_1['model'] = 'Simple model'"
   ]
  },
  {
   "cell_type": "markdown",
   "metadata": {
    "id": "kvRsf_rZvexe"
   },
   "source": [
    "### Embedding Layer"
   ]
  },
  {
   "cell_type": "code",
   "execution_count": 51,
   "metadata": {
    "executionInfo": {
     "elapsed": 482488,
     "status": "ok",
     "timestamp": 1619174195337,
     "user": {
      "displayName": "Alexey Tankov",
      "photoUrl": "",
      "userId": "01729535101672247421"
     },
     "user_tz": -180
    },
    "id": "vjLmjEMPv1NO"
   },
   "outputs": [],
   "source": [
    "embedding_dim = 50"
   ]
  },
  {
   "cell_type": "code",
   "execution_count": 52,
   "metadata": {
    "executionInfo": {
     "elapsed": 481967,
     "status": "ok",
     "timestamp": 1619174195339,
     "user": {
      "displayName": "Alexey Tankov",
      "photoUrl": "",
      "userId": "01729535101672247421"
     },
     "user_tz": -180
    },
    "id": "q-ca4dX3vo9y"
   },
   "outputs": [],
   "source": [
    "model_2 = Sequential([\n",
    "    layers.Embedding(input_dim=word_count, output_dim=embedding_dim, input_length=training_length),\n",
    "    layers.Flatten(),\n",
    "    layers.Dense(10, activation='relu'),\n",
    "    layers.Dense(1, activation='sigmoid')\n",
    "])"
   ]
  },
  {
   "cell_type": "code",
   "execution_count": 53,
   "metadata": {
    "executionInfo": {
     "elapsed": 481757,
     "status": "ok",
     "timestamp": 1619174195341,
     "user": {
      "displayName": "Alexey Tankov",
      "photoUrl": "",
      "userId": "01729535101672247421"
     },
     "user_tz": -180
    },
    "id": "8ZqEYjfcvo90"
   },
   "outputs": [],
   "source": [
    "model_2.compile(optimizer='adam',\n",
    "                     loss='binary_crossentropy',\n",
    "                     metrics=['accuracy'])"
   ]
  },
  {
   "cell_type": "code",
   "execution_count": 54,
   "metadata": {
    "colab": {
     "base_uri": "https://localhost:8080/"
    },
    "id": "7vWguG3lvo90",
    "outputId": "2f19d473-59db-4017-99c9-07c41daad349"
   },
   "outputs": [
    {
     "name": "stdout",
     "output_type": "stream",
     "text": [
      "Epoch 1/5\n",
      "2836/2836 [==============================] - 418s 147ms/step - loss: 0.5650 - accuracy: 0.6893 - val_loss: 0.4958 - val_accuracy: 0.7496\n",
      "Epoch 2/5\n",
      "2836/2836 [==============================] - 478s 169ms/step - loss: 0.2271 - accuracy: 0.9128 - val_loss: 0.6200 - val_accuracy: 0.7323\n",
      "Epoch 3/5\n",
      "2836/2836 [==============================] - 444s 156ms/step - loss: 0.0549 - accuracy: 0.9809 - val_loss: 0.8680 - val_accuracy: 0.7171\n",
      "Epoch 4/5\n",
      "2836/2836 [==============================] - 413s 146ms/step - loss: 0.0227 - accuracy: 0.9926 - val_loss: 0.9871 - val_accuracy: 0.7141\n",
      "Epoch 5/5\n",
      "2836/2836 [==============================] - 444s 156ms/step - loss: 0.0126 - accuracy: 0.9958 - val_loss: 1.1439 - val_accuracy: 0.7109\n"
     ]
    }
   ],
   "source": [
    "start_time = time.time()\n",
    "history_2 = model_2.fit(X_train, y_train, batch_size=batch_size, epochs=epochs, validation_data=(X_valid, y_val))\n",
    "model_time2 = (time.time() - start_time)"
   ]
  },
  {
   "cell_type": "code",
   "execution_count": 55,
   "metadata": {
    "id": "aBLj0avmvo91"
   },
   "outputs": [
    {
     "data": {
      "text/plain": [
       "2196.6105494499207"
      ]
     },
     "execution_count": 55,
     "metadata": {},
     "output_type": "execute_result"
    }
   ],
   "source": [
    "model_time2"
   ]
  },
  {
   "cell_type": "code",
   "execution_count": 56,
   "metadata": {
    "id": "VRdotQyYvo91"
   },
   "outputs": [],
   "source": [
    "score_train2 = model_2.evaluate(X_train, y_train, verbose=0)\n",
    "score_test2 = model_2.evaluate(X_valid, y_val, verbose=0)"
   ]
  },
  {
   "cell_type": "code",
   "execution_count": 57,
   "metadata": {
    "id": "5HaPq9mCvo92"
   },
   "outputs": [
    {
     "name": "stdout",
     "output_type": "stream",
     "text": [
      "Train loss: 0.006961461156606674\n",
      "Train accuracy: 0.9979224801063538\n",
      "Test loss: 1.1439180374145508\n",
      "Test accuracy: 0.7108848094940186\n"
     ]
    }
   ],
   "source": [
    "print('Train loss:', score_train2[0])\n",
    "print('Train accuracy:', score_train2[1])\n",
    "print('Test loss:', score_test2[0])\n",
    "print('Test accuracy:', score_test2[1])"
   ]
  },
  {
   "cell_type": "code",
   "execution_count": 58,
   "metadata": {
    "id": "pfNeeTL9vo92"
   },
   "outputs": [
    {
     "data": {
      "image/png": "[encoded data removed]",
      "text/plain": [
       "<Figure size 1152x360 with 2 Axes>"
      ]
     },
     "metadata": {
      "needs_background": "light"
     },
     "output_type": "display_data"
    }
   ],
   "source": [
    "plot_model(history_2)"
   ]
  },
  {
   "cell_type": "code",
   "execution_count": 59,
   "metadata": {},
   "outputs": [],
   "source": [
    "result_2 = pd.DataFrame((score_train2[1], score_test2[1], score_train2[0], score_test2[0])).T\n",
    "result_2.columns=['train_accuracy', 'test_accuracy', 'train_loss', 'test_loss']\n",
    "result_2['model'] = 'Embedding Layer'"
   ]
  },
  {
   "cell_type": "markdown",
   "metadata": {
    "id": "z8uWEZ1SxuGG"
   },
   "source": [
    "### Add GlobalMaxPool1D"
   ]
  },
  {
   "cell_type": "code",
   "execution_count": 60,
   "metadata": {
    "id": "97fl3PNexzDg"
   },
   "outputs": [],
   "source": [
    "model_3 = Sequential([\n",
    "    layers.Embedding(input_dim=word_count, output_dim=embedding_dim, input_length=training_length),\n",
    "    layers.GlobalMaxPool1D(),\n",
    "    layers.Dense(10, activation='relu'),\n",
    "    layers.Dense(1, activation='sigmoid')\n",
    "])"
   ]
  },
  {
   "cell_type": "code",
   "execution_count": 61,
   "metadata": {
    "id": "I3K9GleSxzDg"
   },
   "outputs": [],
   "source": [
    "model_3.compile(optimizer='adam',\n",
    "                     loss='binary_crossentropy',\n",
    "                     metrics=['accuracy'])"
   ]
  },
  {
   "cell_type": "code",
   "execution_count": 62,
   "metadata": {
    "id": "BmjmU4tdxzDh"
   },
   "outputs": [
    {
     "name": "stdout",
     "output_type": "stream",
     "text": [
      "Epoch 1/5\n",
      "2836/2836 [==============================] - 479s 169ms/step - loss: 0.0100 - accuracy: 0.9967 - val_loss: 1.2728 - val_accuracy: 0.7076\n",
      "Epoch 2/5\n",
      "2836/2836 [==============================] - 441s 155ms/step - loss: 0.0068 - accuracy: 0.9976 - val_loss: 1.4271 - val_accuracy: 0.7041\n",
      "Epoch 3/5\n",
      "2836/2836 [==============================] - 416s 147ms/step - loss: 0.0049 - accuracy: 0.9983 - val_loss: 1.5420 - val_accuracy: 0.7001\n",
      "Epoch 4/5\n",
      "2836/2836 [==============================] - 413s 146ms/step - loss: 0.0034 - accuracy: 0.9989 - val_loss: 1.6844 - val_accuracy: 0.6957\n",
      "Epoch 5/5\n",
      "2836/2836 [==============================] - 469s 166ms/step - loss: 0.0025 - accuracy: 0.9991 - val_loss: 1.7464 - val_accuracy: 0.6989\n"
     ]
    }
   ],
   "source": [
    "start_time = time.time()\n",
    "history_3 = model_2.fit(X_train, y_train, batch_size=batch_size, epochs=epochs, validation_data=(X_valid, y_val))\n",
    "model_time3 = (time.time() - start_time)"
   ]
  },
  {
   "cell_type": "code",
   "execution_count": 63,
   "metadata": {
    "id": "GTZCR0scxzDi"
   },
   "outputs": [
    {
     "data": {
      "text/plain": [
       "2217.8602900505066"
      ]
     },
     "execution_count": 63,
     "metadata": {},
     "output_type": "execute_result"
    }
   ],
   "source": [
    "model_time3"
   ]
  },
  {
   "cell_type": "code",
   "execution_count": 64,
   "metadata": {
    "id": "NrlkyDBwxzDj"
   },
   "outputs": [],
   "source": [
    "score_train3 = model_3.evaluate(X_train, y_train, verbose=0)\n",
    "score_test3 = model_3.evaluate(X_valid, y_val, verbose=0)"
   ]
  },
  {
   "cell_type": "code",
   "execution_count": 65,
   "metadata": {
    "id": "Rlw7TXZwxzDj"
   },
   "outputs": [
    {
     "name": "stdout",
     "output_type": "stream",
     "text": [
      "Train loss: 0.6932280659675598\n",
      "Train accuracy: 0.485206663608551\n",
      "Test loss: 0.6932350993156433\n",
      "Test accuracy: 0.48604682087898254\n"
     ]
    }
   ],
   "source": [
    "print('Train loss:', score_train3[0])\n",
    "print('Train accuracy:', score_train3[1])\n",
    "print('Test loss:', score_test3[0])\n",
    "print('Test accuracy:', score_test3[1])"
   ]
  },
  {
   "cell_type": "code",
   "execution_count": 66,
   "metadata": {
    "id": "g7tZrkXyxzDn"
   },
   "outputs": [
    {
     "data": {
      "image/png": "[encoded data removed]",
      "text/plain": [
       "<Figure size 1152x360 with 2 Axes>"
      ]
     },
     "metadata": {
      "needs_background": "light"
     },
     "output_type": "display_data"
    }
   ],
   "source": [
    "plot_model(history_3)"
   ]
  },
  {
   "cell_type": "code",
   "execution_count": 67,
   "metadata": {},
   "outputs": [],
   "source": [
    "result_3 = pd.DataFrame((score_train3[1], score_test3[1], score_train3[0], score_test3[0])).T\n",
    "result_3.columns=['train_accuracy', 'test_accuracy', 'train_loss', 'test_loss']\n",
    "result_3['model'] = 'Add GlobalMaxPool1D'"
   ]
  },
  {
   "cell_type": "markdown",
   "metadata": {
    "id": "0Hpc2rV05AF_"
   },
   "source": [
    "### Convolutional Neural Networks (CNN)"
   ]
  },
  {
   "cell_type": "code",
   "execution_count": 52,
   "metadata": {
    "id": "9cQCYeGI630M"
   },
   "outputs": [],
   "source": [
    "embedding_dim = 100"
   ]
  },
  {
   "cell_type": "code",
   "execution_count": 69,
   "metadata": {
    "id": "9x8SRUlp5AGD"
   },
   "outputs": [],
   "source": [
    "model_4 = Sequential([\n",
    "    layers.Embedding(input_dim=word_count, output_dim=embedding_dim, input_length=training_length),\n",
    "    layers.Conv1D(128, 5, activation='relu'),\n",
    "    layers.GlobalMaxPool1D(),\n",
    "    layers.Dense(10, activation='relu'),\n",
    "    layers.Dense(1, activation='sigmoid')\n",
    "])"
   ]
  },
  {
   "cell_type": "code",
   "execution_count": 70,
   "metadata": {
    "id": "egn5shq55AGF"
   },
   "outputs": [],
   "source": [
    "model_4.compile(optimizer='adam',\n",
    "                     loss='binary_crossentropy',\n",
    "                     metrics=['accuracy'])"
   ]
  },
  {
   "cell_type": "code",
   "execution_count": 71,
   "metadata": {
    "id": "6zok19tZ5AGG"
   },
   "outputs": [
    {
     "name": "stdout",
     "output_type": "stream",
     "text": [
      "Epoch 1/5\n",
      "2836/2836 [==============================] - 918s 324ms/step - loss: 0.5532 - accuracy: 0.7020 - val_loss: 0.4939 - val_accuracy: 0.7478\n",
      "Epoch 2/5\n",
      "2836/2836 [==============================] - 904s 319ms/step - loss: 0.1994 - accuracy: 0.9222 - val_loss: 0.6523 - val_accuracy: 0.7274\n",
      "Epoch 3/5\n",
      "2836/2836 [==============================] - 906s 319ms/step - loss: 0.0405 - accuracy: 0.9866 - val_loss: 0.9026 - val_accuracy: 0.7268\n",
      "Epoch 4/5\n",
      "2836/2836 [==============================] - 895s 316ms/step - loss: 0.0127 - accuracy: 0.9959 - val_loss: 1.1962 - val_accuracy: 0.7288\n",
      "Epoch 5/5\n",
      "2836/2836 [==============================] - 947s 334ms/step - loss: 0.0055 - accuracy: 0.9982 - val_loss: 1.4130 - val_accuracy: 0.7204\n"
     ]
    }
   ],
   "source": [
    "start_time = time.time()\n",
    "history_4 = model_4.fit(X_train, y_train, batch_size=batch_size, epochs=epochs, validation_data=(X_valid, y_val))\n",
    "model_time4 = (time.time() - start_time)"
   ]
  },
  {
   "cell_type": "code",
   "execution_count": 72,
   "metadata": {
    "id": "NDZRreJC5AGH"
   },
   "outputs": [
    {
     "data": {
      "text/plain": [
       "4570.4806163311005"
      ]
     },
     "execution_count": 72,
     "metadata": {},
     "output_type": "execute_result"
    }
   ],
   "source": [
    "model_time4"
   ]
  },
  {
   "cell_type": "code",
   "execution_count": 73,
   "metadata": {
    "id": "dn__icmZ5AGH"
   },
   "outputs": [],
   "source": [
    "score_train4 = model_4.evaluate(X_train, y_train, verbose=0)\n",
    "score_test4 = model_4.evaluate(X_valid, y_val, verbose=0)"
   ]
  },
  {
   "cell_type": "code",
   "execution_count": 74,
   "metadata": {
    "id": "A3hHyGO15AGI"
   },
   "outputs": [
    {
     "name": "stdout",
     "output_type": "stream",
     "text": [
      "Train loss: 0.6932280659675598\n",
      "Train accuracy: 0.485206663608551\n",
      "Test loss: 0.6932350993156433\n",
      "Test accuracy: 0.48604682087898254\n"
     ]
    }
   ],
   "source": [
    "print('Train loss:', score_train3[0])\n",
    "print('Train accuracy:', score_train3[1])\n",
    "print('Test loss:', score_test3[0])\n",
    "print('Test accuracy:', score_test3[1])"
   ]
  },
  {
   "cell_type": "code",
   "execution_count": 75,
   "metadata": {
    "id": "ntwCBN-X5AGK"
   },
   "outputs": [
    {
     "data": {
      "image/png": "[encoded data removed]",
      "text/plain": [
       "<Figure size 1152x360 with 2 Axes>"
      ]
     },
     "metadata": {
      "needs_background": "light"
     },
     "output_type": "display_data"
    }
   ],
   "source": [
    "plot_model(history_4)"
   ]
  },
  {
   "cell_type": "code",
   "execution_count": 76,
   "metadata": {},
   "outputs": [],
   "source": [
    "result_4 = pd.DataFrame((score_train4[1], score_test4[1], score_train4[0], score_test4[0])).T\n",
    "result_4.columns=['train_accuracy', 'test_accuracy', 'train_loss', 'test_loss']\n",
    "result_4['model'] = 'CNN'"
   ]
  },
  {
   "cell_type": "markdown",
   "metadata": {
    "id": "hVkXeHoiIxuR"
   },
   "source": [
    "### Add Dropout"
   ]
  },
  {
   "cell_type": "code",
   "execution_count": 77,
   "metadata": {
    "id": "OxLSzVg_IBHh"
   },
   "outputs": [],
   "source": [
    "model_5 = Sequential([\n",
    "    layers.Embedding(input_dim=word_count, output_dim=embedding_dim, input_length=training_length),\n",
    "    layers.Dropout(0.2),\n",
    "    layers.Conv1D(128, 5, activation='relu'),\n",
    "    layers.GlobalMaxPool1D(),\n",
    "    layers.Dense(10, activation='relu'),\n",
    "    layers.Dropout(0.2),\n",
    "    layers.Dense(1, activation='sigmoid')\n",
    "])"
   ]
  },
  {
   "cell_type": "code",
   "execution_count": 78,
   "metadata": {
    "id": "DvI5JYOVIBHi"
   },
   "outputs": [],
   "source": [
    "model_5.compile(optimizer='adam',\n",
    "                     loss='binary_crossentropy',\n",
    "                     metrics=['accuracy'])"
   ]
  },
  {
   "cell_type": "code",
   "execution_count": 79,
   "metadata": {
    "id": "putSSunJIBHj"
   },
   "outputs": [
    {
     "name": "stdout",
     "output_type": "stream",
     "text": [
      "Epoch 1/5\n",
      "2836/2836 [==============================] - 940s 331ms/step - loss: 0.5676 - accuracy: 0.6895 - val_loss: 0.5091 - val_accuracy: 0.7428\n",
      "Epoch 2/5\n",
      "2836/2836 [==============================] - 952s 336ms/step - loss: 0.2551 - accuracy: 0.8997 - val_loss: 0.5976 - val_accuracy: 0.7441\n",
      "Epoch 3/5\n",
      "2836/2836 [==============================] - 955s 337ms/step - loss: 0.0749 - accuracy: 0.9754 - val_loss: 0.8258 - val_accuracy: 0.7387\n",
      "Epoch 4/5\n",
      "2836/2836 [==============================] - 839s 296ms/step - loss: 0.0315 - accuracy: 0.9901 - val_loss: 1.0705 - val_accuracy: 0.7357\n",
      "Epoch 5/5\n",
      "2836/2836 [==============================] - 867s 306ms/step - loss: 0.0182 - accuracy: 0.9942 - val_loss: 1.1776 - val_accuracy: 0.7197\n"
     ]
    }
   ],
   "source": [
    "start_time = time.time()\n",
    "history_5 = model_5.fit(X_train, y_train, batch_size=batch_size, epochs=epochs, validation_data=(X_valid, y_val))\n",
    "model_time5 = (time.time() - start_time)"
   ]
  },
  {
   "cell_type": "code",
   "execution_count": 80,
   "metadata": {
    "id": "ibM7D5J9IBHk"
   },
   "outputs": [
    {
     "data": {
      "text/plain": [
       "4552.411277294159"
      ]
     },
     "execution_count": 80,
     "metadata": {},
     "output_type": "execute_result"
    }
   ],
   "source": [
    "model_time5"
   ]
  },
  {
   "cell_type": "code",
   "execution_count": 81,
   "metadata": {
    "id": "QsUSG7YvIBHl"
   },
   "outputs": [],
   "source": [
    "score_train5 = model_5.evaluate(X_train, y_train, verbose=0)\n",
    "score_test5 = model_5.evaluate(X_valid, y_val, verbose=0)"
   ]
  },
  {
   "cell_type": "code",
   "execution_count": 82,
   "metadata": {
    "id": "MNz0ZGvCIBHm"
   },
   "outputs": [
    {
     "name": "stdout",
     "output_type": "stream",
     "text": [
      "Train loss: 0.6932280659675598\n",
      "Train accuracy: 0.485206663608551\n",
      "Test loss: 0.6932350993156433\n",
      "Test accuracy: 0.48604682087898254\n"
     ]
    }
   ],
   "source": [
    "print('Train loss:', score_train3[0])\n",
    "print('Train accuracy:', score_train3[1])\n",
    "print('Test loss:', score_test3[0])\n",
    "print('Test accuracy:', score_test3[1])"
   ]
  },
  {
   "cell_type": "code",
   "execution_count": 83,
   "metadata": {
    "id": "rsjn7T_sIBHo"
   },
   "outputs": [
    {
     "data": {
      "image/png": "[encoded data removed]",
      "text/plain": [
       "<Figure size 1152x360 with 2 Axes>"
      ]
     },
     "metadata": {
      "needs_background": "light"
     },
     "output_type": "display_data"
    }
   ],
   "source": [
    "plot_model(history_5)"
   ]
  },
  {
   "cell_type": "code",
   "execution_count": 84,
   "metadata": {},
   "outputs": [],
   "source": [
    "result_5 = pd.DataFrame((score_train5[1], score_test5[1], score_train5[0], score_test5[0])).T\n",
    "result_5.columns=['train_accuracy', 'test_accuracy', 'train_loss', 'test_loss']\n",
    "result_5['model'] = 'Add Dropout'"
   ]
  },
  {
   "cell_type": "markdown",
   "metadata": {
    "id": "lPDaMnaLJFci"
   },
   "source": [
    "### CNN + LSTM"
   ]
  },
  {
   "cell_type": "code",
   "execution_count": 87,
   "metadata": {
    "id": "tZ57s6L5JKEz"
   },
   "outputs": [],
   "source": [
    "model_6 = Sequential([\n",
    "    layers.Embedding(input_dim=word_count, output_dim=embedding_dim, input_length=training_length),\n",
    "    layers.Dropout(0.2),\n",
    "    layers.Conv1D(128, 5, activation='relu'),\n",
    "    layers.LSTM(64),\n",
    "    layers.Dense(10, activation='relu'),\n",
    "    layers.Dropout(0.2),\n",
    "    layers.Dense(1, activation='sigmoid')\n",
    "])"
   ]
  },
  {
   "cell_type": "code",
   "execution_count": 88,
   "metadata": {
    "id": "edtTpDLDJKE0"
   },
   "outputs": [],
   "source": [
    "model_6.compile(optimizer='adam',\n",
    "                     loss='binary_crossentropy',\n",
    "                     metrics=['accuracy'])"
   ]
  },
  {
   "cell_type": "code",
   "execution_count": 89,
   "metadata": {
    "id": "821q6K53JKE1"
   },
   "outputs": [
    {
     "name": "stdout",
     "output_type": "stream",
     "text": [
      "Epoch 1/5\n",
      "2836/2836 [==============================] - 922s 325ms/step - loss: 0.5594 - accuracy: 0.7010 - val_loss: 0.4985 - val_accuracy: 0.7505\n",
      "Epoch 2/5\n",
      "2836/2836 [==============================] - 868s 306ms/step - loss: 0.2374 - accuracy: 0.9063 - val_loss: 0.5928 - val_accuracy: 0.7349\n",
      "Epoch 3/5\n",
      "2836/2836 [==============================] - 817s 288ms/step - loss: 0.0717 - accuracy: 0.9752 - val_loss: 0.9828 - val_accuracy: 0.7318\n",
      "Epoch 4/5\n",
      "2836/2836 [==============================] - 815s 287ms/step - loss: 0.0285 - accuracy: 0.9900 - val_loss: 1.0672 - val_accuracy: 0.7279\n",
      "Epoch 5/5\n",
      "2836/2836 [==============================] - 813s 287ms/step - loss: 0.0171 - accuracy: 0.9942 - val_loss: 1.3145 - val_accuracy: 0.7186\n"
     ]
    }
   ],
   "source": [
    "start_time = time.time()\n",
    "history_6 = model_6.fit(X_train, y_train, batch_size=batch_size, epochs=epochs, validation_data=(X_valid, y_val))\n",
    "model_time6 = (time.time() - start_time)"
   ]
  },
  {
   "cell_type": "code",
   "execution_count": 90,
   "metadata": {
    "id": "2upevqm0JKE1"
   },
   "outputs": [
    {
     "data": {
      "text/plain": [
       "4234.83891415596"
      ]
     },
     "execution_count": 90,
     "metadata": {},
     "output_type": "execute_result"
    }
   ],
   "source": [
    "model_time6"
   ]
  },
  {
   "cell_type": "code",
   "execution_count": 91,
   "metadata": {
    "id": "PPF8utPwJKE2"
   },
   "outputs": [],
   "source": [
    "score_train6 = model_6.evaluate(X_train, y_train, verbose=0)\n",
    "score_test6 = model_6.evaluate(X_valid, y_val, verbose=0)"
   ]
  },
  {
   "cell_type": "code",
   "execution_count": 92,
   "metadata": {
    "id": "ijnAUUkVJKE2"
   },
   "outputs": [
    {
     "name": "stdout",
     "output_type": "stream",
     "text": [
      "Train loss: 0.008386129513382912\n",
      "Train accuracy: 0.9970187544822693\n",
      "Test loss: 1.3144868612289429\n",
      "Test accuracy: 0.718555748462677\n"
     ]
    }
   ],
   "source": [
    "print('Train loss:', score_train6[0])\n",
    "print('Train accuracy:', score_train6[1])\n",
    "print('Test loss:', score_test6[0])\n",
    "print('Test accuracy:', score_test6[1])"
   ]
  },
  {
   "cell_type": "code",
   "execution_count": 93,
   "metadata": {
    "id": "1q3Gioo6JKE4"
   },
   "outputs": [
    {
     "data": {
      "image/png": "[encoded data removed]",
      "text/plain": [
       "<Figure size 1152x360 with 2 Axes>"
      ]
     },
     "metadata": {
      "needs_background": "light"
     },
     "output_type": "display_data"
    }
   ],
   "source": [
    "plot_model(history_6)"
   ]
  },
  {
   "cell_type": "code",
   "execution_count": 94,
   "metadata": {
    "id": "KWLvNTCcXX5S"
   },
   "outputs": [],
   "source": [
    "result_6 = pd.DataFrame((score_train6[1], score_test6[1], score_train6[0], score_test6[0])).T\n",
    "result_6.columns=['train_accuracy', 'test_accuracy', 'train_loss', 'test_loss']\n",
    "result_6['model'] = 'CNN + LSTM'"
   ]
  },
  {
   "cell_type": "markdown",
   "metadata": {
    "id": "CKLcoH3fKJUS"
   },
   "source": [
    "### GRU + CNN"
   ]
  },
  {
   "cell_type": "code",
   "execution_count": 145,
   "metadata": {
    "id": "UibwMaBkKJUT"
   },
   "outputs": [],
   "source": [
    "model_15 = Sequential([\n",
    "    layers.Embedding(input_dim=word_count, output_dim=embedding_dim, input_length=training_length),\n",
    "    layers.Dropout(0.2),\n",
    "    layers.Conv1D(128, 5, activation='relu'),\n",
    "    layers.LSTM(64),\n",
    "    layers.Dense(10, activation='relu'),\n",
    "    layers.Dropout(0.2),\n",
    "    layers.Dense(1, activation='sigmoid')\n",
    "])"
   ]
  },
  {
   "cell_type": "code",
   "execution_count": 146,
   "metadata": {
    "id": "UfudEe9PKJUT"
   },
   "outputs": [],
   "source": [
    "model_15.compile(optimizer='RMSprop',\n",
    "                     loss='huber_loss',\n",
    "                     metrics=['accuracy'])"
   ]
  },
  {
   "cell_type": "code",
   "execution_count": 147,
   "metadata": {
    "id": "hMCZYczVKJUU"
   },
   "outputs": [
    {
     "name": "stdout",
     "output_type": "stream",
     "text": [
      "Epoch 1/5\n",
      "1744/2836 [=================>............] - ETA: 2:14 - loss: 0.1032 - accuracy: 0.6641"
     ]
    },
    {
     "ename": "KeyboardInterrupt",
     "evalue": "",
     "output_type": "error",
     "traceback": [
      "\u001b[1;31m---------------------------------------------------------------------------\u001b[0m",
      "\u001b[1;31mKeyboardInterrupt\u001b[0m                         Traceback (most recent call last)",
      "\u001b[1;32m<ipython-input-147-e1c03ad64fc2>\u001b[0m in \u001b[0;36m<module>\u001b[1;34m\u001b[0m\n\u001b[0;32m      1\u001b[0m \u001b[0mstart_time\u001b[0m \u001b[1;33m=\u001b[0m \u001b[0mtime\u001b[0m\u001b[1;33m.\u001b[0m\u001b[0mtime\u001b[0m\u001b[1;33m(\u001b[0m\u001b[1;33m)\u001b[0m\u001b[1;33m\u001b[0m\u001b[1;33m\u001b[0m\u001b[0m\n\u001b[1;32m----> 2\u001b[1;33m \u001b[0mhistory_15\u001b[0m \u001b[1;33m=\u001b[0m \u001b[0mmodel_15\u001b[0m\u001b[1;33m.\u001b[0m\u001b[0mfit\u001b[0m\u001b[1;33m(\u001b[0m\u001b[0mX_train\u001b[0m\u001b[1;33m,\u001b[0m \u001b[0my_train\u001b[0m\u001b[1;33m,\u001b[0m \u001b[0mbatch_size\u001b[0m\u001b[1;33m=\u001b[0m\u001b[0mbatch_size\u001b[0m\u001b[1;33m,\u001b[0m \u001b[0mepochs\u001b[0m\u001b[1;33m=\u001b[0m\u001b[0mepochs\u001b[0m\u001b[1;33m,\u001b[0m \u001b[0mvalidation_data\u001b[0m\u001b[1;33m=\u001b[0m\u001b[1;33m(\u001b[0m\u001b[0mX_valid\u001b[0m\u001b[1;33m,\u001b[0m \u001b[0my_val\u001b[0m\u001b[1;33m)\u001b[0m\u001b[1;33m)\u001b[0m\u001b[1;33m\u001b[0m\u001b[1;33m\u001b[0m\u001b[0m\n\u001b[0m\u001b[0;32m      3\u001b[0m \u001b[0mmodel_time7\u001b[0m \u001b[1;33m=\u001b[0m \u001b[1;33m(\u001b[0m\u001b[0mtime\u001b[0m\u001b[1;33m.\u001b[0m\u001b[0mtime\u001b[0m\u001b[1;33m(\u001b[0m\u001b[1;33m)\u001b[0m \u001b[1;33m-\u001b[0m \u001b[0mstart_time\u001b[0m\u001b[1;33m)\u001b[0m\u001b[1;33m\u001b[0m\u001b[1;33m\u001b[0m\u001b[0m\n",
      "\u001b[1;32mC:\\ProgramData\\Anaconda3\\lib\\site-packages\\tensorflow\\python\\keras\\engine\\training.py\u001b[0m in \u001b[0;36mfit\u001b[1;34m(self, x, y, batch_size, epochs, verbose, callbacks, validation_split, validation_data, shuffle, class_weight, sample_weight, initial_epoch, steps_per_epoch, validation_steps, validation_batch_size, validation_freq, max_queue_size, workers, use_multiprocessing)\u001b[0m\n\u001b[0;32m   1098\u001b[0m                 _r=1):\n\u001b[0;32m   1099\u001b[0m               \u001b[0mcallbacks\u001b[0m\u001b[1;33m.\u001b[0m\u001b[0mon_train_batch_begin\u001b[0m\u001b[1;33m(\u001b[0m\u001b[0mstep\u001b[0m\u001b[1;33m)\u001b[0m\u001b[1;33m\u001b[0m\u001b[1;33m\u001b[0m\u001b[0m\n\u001b[1;32m-> 1100\u001b[1;33m               \u001b[0mtmp_logs\u001b[0m \u001b[1;33m=\u001b[0m \u001b[0mself\u001b[0m\u001b[1;33m.\u001b[0m\u001b[0mtrain_function\u001b[0m\u001b[1;33m(\u001b[0m\u001b[0miterator\u001b[0m\u001b[1;33m)\u001b[0m\u001b[1;33m\u001b[0m\u001b[1;33m\u001b[0m\u001b[0m\n\u001b[0m\u001b[0;32m   1101\u001b[0m               \u001b[1;32mif\u001b[0m \u001b[0mdata_handler\u001b[0m\u001b[1;33m.\u001b[0m\u001b[0mshould_sync\u001b[0m\u001b[1;33m:\u001b[0m\u001b[1;33m\u001b[0m\u001b[1;33m\u001b[0m\u001b[0m\n\u001b[0;32m   1102\u001b[0m                 \u001b[0mcontext\u001b[0m\u001b[1;33m.\u001b[0m\u001b[0masync_wait\u001b[0m\u001b[1;33m(\u001b[0m\u001b[1;33m)\u001b[0m\u001b[1;33m\u001b[0m\u001b[1;33m\u001b[0m\u001b[0m\n",
      "\u001b[1;32mC:\\ProgramData\\Anaconda3\\lib\\site-packages\\tensorflow\\python\\eager\\def_function.py\u001b[0m in \u001b[0;36m__call__\u001b[1;34m(self, *args, **kwds)\u001b[0m\n\u001b[0;32m    826\u001b[0m     \u001b[0mtracing_count\u001b[0m \u001b[1;33m=\u001b[0m \u001b[0mself\u001b[0m\u001b[1;33m.\u001b[0m\u001b[0mexperimental_get_tracing_count\u001b[0m\u001b[1;33m(\u001b[0m\u001b[1;33m)\u001b[0m\u001b[1;33m\u001b[0m\u001b[1;33m\u001b[0m\u001b[0m\n\u001b[0;32m    827\u001b[0m     \u001b[1;32mwith\u001b[0m \u001b[0mtrace\u001b[0m\u001b[1;33m.\u001b[0m\u001b[0mTrace\u001b[0m\u001b[1;33m(\u001b[0m\u001b[0mself\u001b[0m\u001b[1;33m.\u001b[0m\u001b[0m_name\u001b[0m\u001b[1;33m)\u001b[0m \u001b[1;32mas\u001b[0m \u001b[0mtm\u001b[0m\u001b[1;33m:\u001b[0m\u001b[1;33m\u001b[0m\u001b[1;33m\u001b[0m\u001b[0m\n\u001b[1;32m--> 828\u001b[1;33m       \u001b[0mresult\u001b[0m \u001b[1;33m=\u001b[0m \u001b[0mself\u001b[0m\u001b[1;33m.\u001b[0m\u001b[0m_call\u001b[0m\u001b[1;33m(\u001b[0m\u001b[1;33m*\u001b[0m\u001b[0margs\u001b[0m\u001b[1;33m,\u001b[0m \u001b[1;33m**\u001b[0m\u001b[0mkwds\u001b[0m\u001b[1;33m)\u001b[0m\u001b[1;33m\u001b[0m\u001b[1;33m\u001b[0m\u001b[0m\n\u001b[0m\u001b[0;32m    829\u001b[0m       \u001b[0mcompiler\u001b[0m \u001b[1;33m=\u001b[0m \u001b[1;34m\"xla\"\u001b[0m \u001b[1;32mif\u001b[0m \u001b[0mself\u001b[0m\u001b[1;33m.\u001b[0m\u001b[0m_experimental_compile\u001b[0m \u001b[1;32melse\u001b[0m \u001b[1;34m\"nonXla\"\u001b[0m\u001b[1;33m\u001b[0m\u001b[1;33m\u001b[0m\u001b[0m\n\u001b[0;32m    830\u001b[0m       \u001b[0mnew_tracing_count\u001b[0m \u001b[1;33m=\u001b[0m \u001b[0mself\u001b[0m\u001b[1;33m.\u001b[0m\u001b[0mexperimental_get_tracing_count\u001b[0m\u001b[1;33m(\u001b[0m\u001b[1;33m)\u001b[0m\u001b[1;33m\u001b[0m\u001b[1;33m\u001b[0m\u001b[0m\n",
      "\u001b[1;32mC:\\ProgramData\\Anaconda3\\lib\\site-packages\\tensorflow\\python\\eager\\def_function.py\u001b[0m in \u001b[0;36m_call\u001b[1;34m(self, *args, **kwds)\u001b[0m\n\u001b[0;32m    853\u001b[0m       \u001b[1;31m# In this case we have created variables on the first call, so we run the\u001b[0m\u001b[1;33m\u001b[0m\u001b[1;33m\u001b[0m\u001b[1;33m\u001b[0m\u001b[0m\n\u001b[0;32m    854\u001b[0m       \u001b[1;31m# defunned version which is guaranteed to never create variables.\u001b[0m\u001b[1;33m\u001b[0m\u001b[1;33m\u001b[0m\u001b[1;33m\u001b[0m\u001b[0m\n\u001b[1;32m--> 855\u001b[1;33m       \u001b[1;32mreturn\u001b[0m \u001b[0mself\u001b[0m\u001b[1;33m.\u001b[0m\u001b[0m_stateless_fn\u001b[0m\u001b[1;33m(\u001b[0m\u001b[1;33m*\u001b[0m\u001b[0margs\u001b[0m\u001b[1;33m,\u001b[0m \u001b[1;33m**\u001b[0m\u001b[0mkwds\u001b[0m\u001b[1;33m)\u001b[0m  \u001b[1;31m# pylint: disable=not-callable\u001b[0m\u001b[1;33m\u001b[0m\u001b[1;33m\u001b[0m\u001b[0m\n\u001b[0m\u001b[0;32m    856\u001b[0m     \u001b[1;32melif\u001b[0m \u001b[0mself\u001b[0m\u001b[1;33m.\u001b[0m\u001b[0m_stateful_fn\u001b[0m \u001b[1;32mis\u001b[0m \u001b[1;32mnot\u001b[0m \u001b[1;32mNone\u001b[0m\u001b[1;33m:\u001b[0m\u001b[1;33m\u001b[0m\u001b[1;33m\u001b[0m\u001b[0m\n\u001b[0;32m    857\u001b[0m       \u001b[1;31m# Release the lock early so that multiple threads can perform the call\u001b[0m\u001b[1;33m\u001b[0m\u001b[1;33m\u001b[0m\u001b[1;33m\u001b[0m\u001b[0m\n",
      "\u001b[1;32mC:\\ProgramData\\Anaconda3\\lib\\site-packages\\tensorflow\\python\\eager\\function.py\u001b[0m in \u001b[0;36m__call__\u001b[1;34m(self, *args, **kwargs)\u001b[0m\n\u001b[0;32m   2941\u001b[0m        filtered_flat_args) = self._maybe_define_function(args, kwargs)\n\u001b[0;32m   2942\u001b[0m     return graph_function._call_flat(\n\u001b[1;32m-> 2943\u001b[1;33m         filtered_flat_args, captured_inputs=graph_function.captured_inputs)  # pylint: disable=protected-access\n\u001b[0m\u001b[0;32m   2944\u001b[0m \u001b[1;33m\u001b[0m\u001b[0m\n\u001b[0;32m   2945\u001b[0m   \u001b[1;33m@\u001b[0m\u001b[0mproperty\u001b[0m\u001b[1;33m\u001b[0m\u001b[1;33m\u001b[0m\u001b[0m\n",
      "\u001b[1;32mC:\\ProgramData\\Anaconda3\\lib\\site-packages\\tensorflow\\python\\eager\\function.py\u001b[0m in \u001b[0;36m_call_flat\u001b[1;34m(self, args, captured_inputs, cancellation_manager)\u001b[0m\n\u001b[0;32m   1917\u001b[0m       \u001b[1;31m# No tape is watching; skip to running the function.\u001b[0m\u001b[1;33m\u001b[0m\u001b[1;33m\u001b[0m\u001b[1;33m\u001b[0m\u001b[0m\n\u001b[0;32m   1918\u001b[0m       return self._build_call_outputs(self._inference_function.call(\n\u001b[1;32m-> 1919\u001b[1;33m           ctx, args, cancellation_manager=cancellation_manager))\n\u001b[0m\u001b[0;32m   1920\u001b[0m     forward_backward = self._select_forward_and_backward_functions(\n\u001b[0;32m   1921\u001b[0m         \u001b[0margs\u001b[0m\u001b[1;33m,\u001b[0m\u001b[1;33m\u001b[0m\u001b[1;33m\u001b[0m\u001b[0m\n",
      "\u001b[1;32mC:\\ProgramData\\Anaconda3\\lib\\site-packages\\tensorflow\\python\\eager\\function.py\u001b[0m in \u001b[0;36mcall\u001b[1;34m(self, ctx, args, cancellation_manager)\u001b[0m\n\u001b[0;32m    558\u001b[0m               \u001b[0minputs\u001b[0m\u001b[1;33m=\u001b[0m\u001b[0margs\u001b[0m\u001b[1;33m,\u001b[0m\u001b[1;33m\u001b[0m\u001b[1;33m\u001b[0m\u001b[0m\n\u001b[0;32m    559\u001b[0m               \u001b[0mattrs\u001b[0m\u001b[1;33m=\u001b[0m\u001b[0mattrs\u001b[0m\u001b[1;33m,\u001b[0m\u001b[1;33m\u001b[0m\u001b[1;33m\u001b[0m\u001b[0m\n\u001b[1;32m--> 560\u001b[1;33m               ctx=ctx)\n\u001b[0m\u001b[0;32m    561\u001b[0m         \u001b[1;32melse\u001b[0m\u001b[1;33m:\u001b[0m\u001b[1;33m\u001b[0m\u001b[1;33m\u001b[0m\u001b[0m\n\u001b[0;32m    562\u001b[0m           outputs = execute.execute_with_cancellation(\n",
      "\u001b[1;32mC:\\ProgramData\\Anaconda3\\lib\\site-packages\\tensorflow\\python\\eager\\execute.py\u001b[0m in \u001b[0;36mquick_execute\u001b[1;34m(op_name, num_outputs, inputs, attrs, ctx, name)\u001b[0m\n\u001b[0;32m     58\u001b[0m     \u001b[0mctx\u001b[0m\u001b[1;33m.\u001b[0m\u001b[0mensure_initialized\u001b[0m\u001b[1;33m(\u001b[0m\u001b[1;33m)\u001b[0m\u001b[1;33m\u001b[0m\u001b[1;33m\u001b[0m\u001b[0m\n\u001b[0;32m     59\u001b[0m     tensors = pywrap_tfe.TFE_Py_Execute(ctx._handle, device_name, op_name,\n\u001b[1;32m---> 60\u001b[1;33m                                         inputs, attrs, num_outputs)\n\u001b[0m\u001b[0;32m     61\u001b[0m   \u001b[1;32mexcept\u001b[0m \u001b[0mcore\u001b[0m\u001b[1;33m.\u001b[0m\u001b[0m_NotOkStatusException\u001b[0m \u001b[1;32mas\u001b[0m \u001b[0me\u001b[0m\u001b[1;33m:\u001b[0m\u001b[1;33m\u001b[0m\u001b[1;33m\u001b[0m\u001b[0m\n\u001b[0;32m     62\u001b[0m     \u001b[1;32mif\u001b[0m \u001b[0mname\u001b[0m \u001b[1;32mis\u001b[0m \u001b[1;32mnot\u001b[0m \u001b[1;32mNone\u001b[0m\u001b[1;33m:\u001b[0m\u001b[1;33m\u001b[0m\u001b[1;33m\u001b[0m\u001b[0m\n",
      "\u001b[1;31mKeyboardInterrupt\u001b[0m: "
     ]
    }
   ],
   "source": [
    "start_time = time.time()\n",
    "history_15 = model_15.fit(X_train, y_train, batch_size=batch_size, epochs=epochs, validation_data=(X_valid, y_val))\n",
    "model_time7 = (time.time() - start_time)"
   ]
  },
  {
   "cell_type": "code",
   "execution_count": null,
   "metadata": {
    "id": "TP4hyKU-KJUV"
   },
   "outputs": [],
   "source": [
    "model_time7"
   ]
  },
  {
   "cell_type": "code",
   "execution_count": null,
   "metadata": {
    "id": "4ZP5qV5UKJUW"
   },
   "outputs": [],
   "source": [
    "score_train7 = model_14.evaluate(X_train, y_train, verbose=0)\n",
    "score_test7 = model_14.evaluate(X_valid, y_val, verbose=0)"
   ]
  },
  {
   "cell_type": "code",
   "execution_count": null,
   "metadata": {},
   "outputs": [],
   "source": [
    "print('Train loss:', score_train7[0]) # SGD  epochs - 15\n",
    "print('Train accuracy:', score_train7[1])\n",
    "print('Test loss:', score_test7[0])\n",
    "print('Test accuracy:', score_test7[1])"
   ]
  },
  {
   "cell_type": "code",
   "execution_count": 94,
   "metadata": {},
   "outputs": [
    {
     "name": "stdout",
     "output_type": "stream",
     "text": [
      "Train loss: 0.016201043501496315\n",
      "Train accuracy: 0.9952112436294556\n",
      "Test loss: 1.5326347351074219\n",
      "Test accuracy: 0.7227879762649536\n"
     ]
    }
   ],
   "source": [
    "print('Train loss:', score_train7[0]) # 600 Adamax epochs - 15\n",
    "print('Train accuracy:', score_train7[1])\n",
    "print('Test loss:', score_test7[0])\n",
    "print('Test accuracy:', score_test7[1])"
   ]
  },
  {
   "cell_type": "code",
   "execution_count": 71,
   "metadata": {},
   "outputs": [
    {
     "name": "stdout",
     "output_type": "stream",
     "text": [
      "Train loss: 0.009484490379691124\n",
      "Train accuracy: 0.9973383545875549\n",
      "Test loss: 1.3493622541427612\n",
      "Test accuracy: 0.7296653985977173\n"
     ]
    }
   ],
   "source": [
    "print('Train loss:', score_train7[0]) # 2389.518482208252 Nadam\n",
    "print('Train accuracy:', score_train7[1])\n",
    "print('Test loss:', score_test7[0])\n",
    "print('Test accuracy:', score_test7[1])"
   ]
  },
  {
   "cell_type": "code",
   "execution_count": 59,
   "metadata": {
    "id": "wHBEjFydKJUW"
   },
   "outputs": [
    {
     "name": "stdout",
     "output_type": "stream",
     "text": [
      "Train loss: 0.12452183663845062\n",
      "Train accuracy: 0.9594085812568665\n",
      "Test loss: 0.6603128910064697\n",
      "Test accuracy: 0.7361019253730774\n"
     ]
    }
   ],
   "source": [
    "print('Train loss:', score_train7[0]) # 1502.3536627292633 RMSprop \n",
    "print('Train accuracy:', score_train7[1])\n",
    "print('Test loss:', score_test7[0])\n",
    "print('Test accuracy:', score_test7[1])"
   ]
  },
  {
   "cell_type": "code",
   "execution_count": 60,
   "metadata": {
    "id": "sDwrINRaKJUZ"
   },
   "outputs": [
    {
     "data": {
      "image/png": "[encoded data removed]",
      "text/plain": [
       "<Figure size 1152x360 with 2 Axes>"
      ]
     },
     "metadata": {
      "needs_background": "light"
     },
     "output_type": "display_data"
    }
   ],
   "source": [
    "plot_model(history_7)"
   ]
  },
  {
   "cell_type": "code",
   "execution_count": 61,
   "metadata": {
    "id": "jrH9Wa8F29Zb"
   },
   "outputs": [],
   "source": [
    "result_7 = pd.DataFrame((score_train7[1], score_test7[1], score_train7[0], score_test7[0])).T\n",
    "result_7.columns=['train_accuracy', 'test_accuracy', 'train_loss', 'test_loss']\n",
    "result_7['model'] = 'GRU + CNN'"
   ]
  },
  {
   "cell_type": "markdown",
   "metadata": {
    "id": "Q_LxO1XS2t6W"
   },
   "source": [
    "### Results"
   ]
  },
  {
   "cell_type": "code",
   "execution_count": 96,
   "metadata": {
    "id": "_rajPRoIfv_f"
   },
   "outputs": [],
   "source": [
    "final_results = pd.concat([baseline_lr, baseline_lsvc, result_1, result_2, result_3, result_4, result_5, result_6], axis=0)"
   ]
  },
  {
   "cell_type": "code",
   "execution_count": 97,
   "metadata": {
    "colab": {
     "base_uri": "https://localhost:8080/",
     "height": 545
    },
    "executionInfo": {
     "elapsed": 714,
     "status": "ok",
     "timestamp": 1618917857320,
     "user": {
      "displayName": "Alexey Tankov",
      "photoUrl": "",
      "userId": "01729535101672247421"
     },
     "user_tz": -180
    },
    "id": "ykqnotaEnzfI",
    "outputId": "5e8558b6-1bb2-4b75-8259-2a0e2cf56dc0"
   },
   "outputs": [
    {
     "data": {
      "text/html": [
       "<div>\n",
       "<style scoped>\n",
       "    .dataframe tbody tr th:only-of-type {\n",
       "        vertical-align: middle;\n",
       "    }\n",
       "\n",
       "    .dataframe tbody tr th {\n",
       "        vertical-align: top;\n",
       "    }\n",
       "\n",
       "    .dataframe thead th {\n",
       "        text-align: right;\n",
       "    }\n",
       "</style>\n",
       "<table border=\"1\" class=\"dataframe\">\n",
       "  <thead>\n",
       "    <tr style=\"text-align: right;\">\n",
       "      <th></th>\n",
       "      <th>model</th>\n",
       "      <th>train_accuracy</th>\n",
       "      <th>test_accuracy</th>\n",
       "      <th>train_loss</th>\n",
       "      <th>test_loss</th>\n",
       "    </tr>\n",
       "  </thead>\n",
       "  <tbody>\n",
       "    <tr>\n",
       "      <th>0</th>\n",
       "      <td>CountVectorizer_LR</td>\n",
       "      <td>0.90714</td>\n",
       "      <td>0.74064</td>\n",
       "      <td>NaN</td>\n",
       "      <td>NaN</td>\n",
       "    </tr>\n",
       "    <tr>\n",
       "      <th>1</th>\n",
       "      <td>TfidfVectorizer_LSVC</td>\n",
       "      <td>0.96288</td>\n",
       "      <td>0.73884</td>\n",
       "      <td>NaN</td>\n",
       "      <td>NaN</td>\n",
       "    </tr>\n",
       "    <tr>\n",
       "      <th>2</th>\n",
       "      <td>HashingVectorizer_LSVC</td>\n",
       "      <td>0.93230</td>\n",
       "      <td>0.73791</td>\n",
       "      <td>NaN</td>\n",
       "      <td>NaN</td>\n",
       "    </tr>\n",
       "    <tr>\n",
       "      <th>1</th>\n",
       "      <td>TfidfVectorizer_LR</td>\n",
       "      <td>0.84481</td>\n",
       "      <td>0.73703</td>\n",
       "      <td>NaN</td>\n",
       "      <td>NaN</td>\n",
       "    </tr>\n",
       "    <tr>\n",
       "      <th>0</th>\n",
       "      <td>CountVectorizer_LSVC</td>\n",
       "      <td>0.97984</td>\n",
       "      <td>0.72764</td>\n",
       "      <td>NaN</td>\n",
       "      <td>NaN</td>\n",
       "    </tr>\n",
       "    <tr>\n",
       "      <th>2</th>\n",
       "      <td>HashingVectorizer_LR</td>\n",
       "      <td>0.80847</td>\n",
       "      <td>0.72636</td>\n",
       "      <td>NaN</td>\n",
       "      <td>NaN</td>\n",
       "    </tr>\n",
       "    <tr>\n",
       "      <th>0</th>\n",
       "      <td>CNN</td>\n",
       "      <td>0.99901</td>\n",
       "      <td>0.72041</td>\n",
       "      <td>0.00309</td>\n",
       "      <td>1.41303</td>\n",
       "    </tr>\n",
       "    <tr>\n",
       "      <th>0</th>\n",
       "      <td>Add Dropout</td>\n",
       "      <td>0.99803</td>\n",
       "      <td>0.71975</td>\n",
       "      <td>0.00647</td>\n",
       "      <td>1.17763</td>\n",
       "    </tr>\n",
       "    <tr>\n",
       "      <th>0</th>\n",
       "      <td>CNN + LSTM</td>\n",
       "      <td>0.99702</td>\n",
       "      <td>0.71856</td>\n",
       "      <td>0.00839</td>\n",
       "      <td>1.31449</td>\n",
       "    </tr>\n",
       "    <tr>\n",
       "      <th>0</th>\n",
       "      <td>Embedding Layer</td>\n",
       "      <td>0.99792</td>\n",
       "      <td>0.71088</td>\n",
       "      <td>0.00696</td>\n",
       "      <td>1.14392</td>\n",
       "    </tr>\n",
       "    <tr>\n",
       "      <th>0</th>\n",
       "      <td>Simple model</td>\n",
       "      <td>0.56664</td>\n",
       "      <td>0.53132</td>\n",
       "      <td>13.43718</td>\n",
       "      <td>6.26812</td>\n",
       "    </tr>\n",
       "    <tr>\n",
       "      <th>0</th>\n",
       "      <td>Add GlobalMaxPool1D</td>\n",
       "      <td>0.48521</td>\n",
       "      <td>0.48605</td>\n",
       "      <td>0.69323</td>\n",
       "      <td>0.69324</td>\n",
       "    </tr>\n",
       "  </tbody>\n",
       "</table>\n",
       "</div>"
      ],
      "text/plain": [
       "                    model  train_accuracy  test_accuracy  train_loss  \\\n",
       "0      CountVectorizer_LR         0.90714        0.74064         NaN   \n",
       "1    TfidfVectorizer_LSVC         0.96288        0.73884         NaN   \n",
       "2  HashingVectorizer_LSVC         0.93230        0.73791         NaN   \n",
       "1      TfidfVectorizer_LR         0.84481        0.73703         NaN   \n",
       "0    CountVectorizer_LSVC         0.97984        0.72764         NaN   \n",
       "2    HashingVectorizer_LR         0.80847        0.72636         NaN   \n",
       "0                     CNN         0.99901        0.72041     0.00309   \n",
       "0             Add Dropout         0.99803        0.71975     0.00647   \n",
       "0              CNN + LSTM         0.99702        0.71856     0.00839   \n",
       "0         Embedding Layer         0.99792        0.71088     0.00696   \n",
       "0            Simple model         0.56664        0.53132    13.43718   \n",
       "0     Add GlobalMaxPool1D         0.48521        0.48605     0.69323   \n",
       "\n",
       "   test_loss  \n",
       "0        NaN  \n",
       "1        NaN  \n",
       "2        NaN  \n",
       "1        NaN  \n",
       "0        NaN  \n",
       "2        NaN  \n",
       "0    1.41303  \n",
       "0    1.17763  \n",
       "0    1.31449  \n",
       "0    1.14392  \n",
       "0    6.26812  \n",
       "0    0.69324  "
      ]
     },
     "execution_count": 97,
     "metadata": {},
     "output_type": "execute_result"
    }
   ],
   "source": [
    "final_results.sort_values('test_accuracy', ascending=False)"
   ]
  },
  {
   "cell_type": "code",
   "execution_count": 100,
   "metadata": {
    "colab": {
     "base_uri": "https://localhost:8080/",
     "height": 688
    },
    "executionInfo": {
     "elapsed": 493441,
     "status": "ok",
     "timestamp": 1618917579059,
     "user": {
      "displayName": "Alexey Tankov",
      "photoUrl": "",
      "userId": "01729535101672247421"
     },
     "user_tz": -180
    },
    "id": "X7Ue_0_qIuXE",
    "outputId": "0ef07180-8562-46f4-b1f2-aa7cbd2c71b0"
   },
   "outputs": [
    {
     "data": {
      "image/png": "[encoded data removed]",
      "text/plain": [
       "<Figure size 1296x792 with 1 Axes>"
      ]
     },
     "metadata": {
      "needs_background": "light"
     },
     "output_type": "display_data"
    }
   ],
   "source": [
    "plt.figure(figsize=(18, 11))\n",
    "plt.plot(history_1.history['accuracy'], label='Simple model')\n",
    "plt.plot(history_2.history['accuracy'], label='Embedding Layer')\n",
    "plt.plot(history_3.history['accuracy'], label='Add GlobalMaxPool1D')\n",
    "plt.plot(history_4.history['accuracy'], label='CNN')\n",
    "plt.plot(history_5.history['accuracy'], label='Add Dropout')\n",
    "plt.plot(history_6.history['accuracy'], label='CNN + LSTM')\n",
    "plt.legend()\n",
    "plt.xlabel('Epochs')\n",
    "plt.ylabel('Accuracy')\n",
    "plt.title('Accuracy of epochs')\n",
    "plt.show()"
   ]
  },
  {
   "cell_type": "code",
   "execution_count": 101,
   "metadata": {
    "colab": {
     "base_uri": "https://localhost:8080/",
     "height": 688
    },
    "executionInfo": {
     "elapsed": 494325,
     "status": "ok",
     "timestamp": 1618917579956,
     "user": {
      "displayName": "Alexey Tankov",
      "photoUrl": "",
      "userId": "01729535101672247421"
     },
     "user_tz": -180
    },
    "id": "NZQss6tNIuZt",
    "outputId": "a9960d4b-b225-492a-e98b-a60b29f16f7c"
   },
   "outputs": [
    {
     "data": {
      "image/png": "[encoded data removed]",
      "text/plain": [
       "<Figure size 1296x792 with 1 Axes>"
      ]
     },
     "metadata": {
      "needs_background": "light"
     },
     "output_type": "display_data"
    }
   ],
   "source": [
    "plt.figure(figsize=(18, 11))\n",
    "plt.plot(history_1.history['val_accuracy'], label='Simple model')\n",
    "plt.plot(history_2.history['val_accuracy'], label='Embedding Layer')\n",
    "plt.plot(history_3.history['val_accuracy'], label='Add GlobalMaxPool1D')\n",
    "plt.plot(history_4.history['val_accuracy'], label='CNN')\n",
    "plt.plot(history_5.history['val_accuracy'], label='Add Dropout')\n",
    "plt.plot(history_6.history['val_accuracy'], label='CNN + LSTM')\n",
    "plt.legend()\n",
    "plt.xlabel('Epochs')\n",
    "plt.ylabel('Accuracy')\n",
    "plt.title('Val_accuracy of epochs')\n",
    "plt.show()"
   ]
  },
  {
   "cell_type": "code",
   "execution_count": null,
   "metadata": {
    "id": "8cm-EliBIucQ"
   },
   "outputs": [],
   "source": []
  },
  {
   "cell_type": "code",
   "execution_count": null,
   "metadata": {
    "id": "VHpkGs-1loki"
   },
   "outputs": [],
   "source": []
  },
  {
   "cell_type": "code",
   "execution_count": null,
   "metadata": {
    "id": "ig4wV62d3Obt"
   },
   "outputs": [],
   "source": []
  }
 ],
 "metadata": {
  "accelerator": "GPU",
  "colab": {
   "collapsed_sections": [],
   "name": "hw_08.ipynb",
   "provenance": []
  },
  "kernelspec": {
   "display_name": "Python 3",
   "language": "python",
   "name": "python3"
  },
  "language_info": {
   "codemirror_mode": {
    "name": "ipython",
    "version": 3
   },
   "file_extension": ".py",
   "mimetype": "text/x-python",
   "name": "python",
   "nbconvert_exporter": "python",
   "pygments_lexer": "ipython3",
   "version": "3.7.10"
  }
 },
 "nbformat": 4,
 "nbformat_minor": 1
}
