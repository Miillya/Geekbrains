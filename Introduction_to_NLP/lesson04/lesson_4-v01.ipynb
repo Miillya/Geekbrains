{
 "cells": [
  {
   "cell_type": "markdown",
   "metadata": {
    "id": "x4YvLnVbH91O"
   },
   "source": [
    "# Тематическое моделирование\n",
    "\n",
    "<img src='image/tm.webp'>\n"
   ]
  },
  {
   "cell_type": "code",
   "execution_count": null,
   "metadata": {
    "id": "GEPI9rGgH91T",
    "outputId": "cf749ba3-bede-4bb7-8395-f29afeb31a4b"
   },
   "outputs": [
    {
     "name": "stderr",
     "output_type": "stream",
     "text": [
      "/home/rzaharov@mvs.local/.local/share/virtualenvs/nlp-course-A3nIyBIP/lib/python3.8/site-packages/sklearn/datasets/lfw.py:178: SyntaxWarning: \"is\" with a literal. Did you mean \"==\"?\n",
      "  if img.ndim is 0:\n"
     ]
    },
    {
     "name": "stdout",
     "output_type": "stream",
     "text": [
      "['rec.autos' 'comp.sys.mac.hardware' 'comp.graphics' 'sci.space'\n",
      " 'talk.politics.guns' 'sci.med' 'comp.sys.ibm.pc.hardware'\n",
      " 'comp.os.ms-windows.misc' 'rec.motorcycles' 'talk.religion.misc'\n",
      " 'misc.forsale' 'alt.atheism' 'sci.electronics' 'comp.windows.x'\n",
      " 'rec.sport.hockey' 'rec.sport.baseball' 'soc.religion.christian'\n",
      " 'talk.politics.mideast' 'talk.politics.misc' 'sci.crypt']\n"
     ]
    }
   ],
   "source": [
    "import re\n",
    "import numpy as np\n",
    "import pandas as pd\n",
    "import gensim\n",
    "import gensim.corpora as corpora\n",
    "from gensim.utils import simple_preprocess\n",
    "from gensim.models import CoherenceModel\n",
    "import matplotlib.pyplot as plt\n",
    "%matplotlib inline\n",
    "from nltk.corpus import stopwords\n",
    "\n",
    "\n",
    "df = pd.read_json('https://raw.githubusercontent.com/selva86/datasets/master/newsgroups.json')\n",
    "print(df.target_names.unique())\n",
    "stop_words = stopwords.words('english')\n",
    "stop_words.extend(['from', 'subject', 're', 'edu', 'use'])"
   ]
  },
  {
   "cell_type": "code",
   "execution_count": null,
   "metadata": {
    "id": "R7hsRwRdH91U",
    "outputId": "04e38c91-ee4c-43a8-feba-af1d23756356"
   },
   "outputs": [
    {
     "data": {
      "text/plain": [
       "\"From: lerxst@wam.umd.edu (where's my thing)\\nSubject: WHAT car is this!?\\nNntp-Posting-Host: rac3.wam.umd.edu\\nOrganization: University of Maryland, College Park\\nLines: 15\\n\\n I was wondering if anyone out there could enlighten me on this car I saw\\nthe other day. It was a 2-door sports car, looked to be from the late 60s/\\nearly 70s. It was called a Bricklin. The doors were really small. In addition,\\nthe front bumper was separate from the rest of the body. This is \\nall I know. If anyone can tellme a model name, engine specs, years\\nof production, where this car is made, history, or whatever info you\\nhave on this funky looking car, please e-mail.\\n\\nThanks,\\n- IL\\n   ---- brought to you by your neighborhood Lerxst ----\\n\\n\\n\\n\\n\""
      ]
     },
     "execution_count": 3,
     "metadata": {
      "tags": []
     },
     "output_type": "execute_result"
    }
   ],
   "source": [
    "df['content'][0]"
   ]
  },
  {
   "cell_type": "code",
   "execution_count": null,
   "metadata": {
    "id": "Sc-Tv-RbH91U"
   },
   "outputs": [],
   "source": [
    "data = df.content.values.tolist()\n",
    "\n",
    "data = [re.sub('\\S*@\\S*\\s?', '', sent) for sent in data]\n",
    "data = [re.sub('\\s+', ' ', sent) for sent in data]\n",
    "data = [re.sub(\"\\'\", \"\", sent) for sent in data]"
   ]
  },
  {
   "cell_type": "code",
   "execution_count": null,
   "metadata": {
    "id": "8ghJV77NH91V",
    "outputId": "54fc5a81-a7eb-475b-99d6-fd4ad1c4a4ae"
   },
   "outputs": [
    {
     "name": "stdout",
     "output_type": "stream",
     "text": [
      "['from', 'wheres', 'my', 'thing', 'subject', 'what', 'car', 'is', 'this', 'nntp_posting_host', 'rac_wam_umd_edu', 'organization', 'university', 'of', 'maryland_college_park', 'lines', 'was', 'wondering', 'if', 'anyone', 'out', 'there', 'could', 'enlighten', 'me', 'on', 'this', 'car', 'saw', 'the', 'other', 'day', 'it', 'was', 'door', 'sports', 'car', 'looked', 'to', 'be', 'from', 'the', 'late', 'early', 'it', 'was', 'called', 'bricklin', 'the', 'doors', 'were', 'really', 'small', 'in', 'addition', 'the', 'front_bumper', 'was', 'separate', 'from', 'the', 'rest', 'of', 'the', 'body', 'this', 'is', 'all', 'know', 'if', 'anyone', 'can', 'tellme', 'model', 'name', 'engine', 'specs', 'years', 'of', 'production', 'where', 'this', 'car', 'is', 'made', 'history', 'or', 'whatever', 'info', 'you', 'have', 'on', 'this', 'funky', 'looking', 'car', 'please', 'mail', 'thanks', 'il', 'brought', 'to', 'you', 'by', 'your', 'neighborhood', 'lerxst']\n"
     ]
    }
   ],
   "source": [
    "def sent_to_words(sentences):\n",
    "    for sentence in sentences:\n",
    "        yield(gensim.utils.simple_preprocess(str(sentence), deacc=True))\n",
    "\n",
    "data_words = list(sent_to_words(data))\n",
    "bigram = gensim.models.Phrases(data_words, min_count=5, threshold=100)\n",
    "trigram = gensim.models.Phrases(bigram[data_words], threshold=100)  \n",
    "bigram_mod = gensim.models.phrases.Phraser(bigram)\n",
    "trigram_mod = gensim.models.phrases.Phraser(trigram)\n",
    "print(trigram_mod[bigram_mod[data_words[0]]])"
   ]
  },
  {
   "cell_type": "code",
   "execution_count": null,
   "metadata": {
    "id": "0ZbdCUPVH91V"
   },
   "outputs": [],
   "source": [
    "def remove_stopwords(texts):\n",
    "    return [[word for word in simple_preprocess(str(doc)) if word not in stop_words] for doc in texts]\n",
    "\n",
    "def make_bigrams(texts):\n",
    "    return [bigram_mod[doc] for doc in texts]\n",
    "\n",
    "def make_trigrams(texts):\n",
    "    return [trigram_mod[bigram_mod[doc]] for doc in texts]"
   ]
  },
  {
   "cell_type": "code",
   "execution_count": null,
   "metadata": {
    "id": "E6urKwjdH91W"
   },
   "outputs": [],
   "source": [
    "data_words_nostops = remove_stopwords(data_words)\n",
    "data_words_bigrams = make_bigrams(data_words_nostops)"
   ]
  },
  {
   "cell_type": "code",
   "execution_count": null,
   "metadata": {
    "id": "w91aYjnUH91W"
   },
   "outputs": [],
   "source": [
    "id2word = corpora.Dictionary(data_words_bigrams)\n",
    "texts = data_words_bigrams\n",
    "corpus = [id2word.doc2bow(text) for text in texts]"
   ]
  },
  {
   "cell_type": "code",
   "execution_count": null,
   "metadata": {
    "id": "P__rEezJH91X"
   },
   "outputs": [],
   "source": [
    "lda_model = gensim.models.ldamodel.LdaModel(corpus=corpus,\n",
    "                                           id2word=id2word,\n",
    "                                           num_topics=20, \n",
    "                                           random_state=100,\n",
    "                                           update_every=1,\n",
    "                                           chunksize=100,\n",
    "                                           passes=1,\n",
    "                                           alpha='auto',\n",
    "                                           per_word_topics=True)"
   ]
  },
  {
   "cell_type": "code",
   "execution_count": null,
   "metadata": {
    "id": "_7GwRk5nH91X",
    "outputId": "43c28735-6684-406e-d637-3b1b0ab7c5d4"
   },
   "outputs": [
    {
     "name": "stdout",
     "output_type": "stream",
     "text": [
      "[(0, '0.079*\"jesus\" + 0.079*\"faith\" + 0.079*\"god\" + 0.064*\"christians\" + 0.059*\"bible\" + 0.045*\"christian\" + 0.038*\"church\" + 0.029*\"christ\" + 0.014*\"indeed\" + 0.013*\"jewish\"'), (1, '0.050*\"newsreader_tin\" + 0.042*\"self\" + 0.039*\"la\" + 0.039*\"version_pl\" + 0.034*\"motif\" + 0.031*\"al\" + 0.017*\"blue\" + 0.017*\"helmet\" + 0.016*\"activity\" + 0.014*\"levels\"'), (2, '0.010*\"time\" + 0.009*\"us\" + 0.008*\"may\" + 0.008*\"first\" + 0.007*\"two\" + 0.007*\"help\" + 0.006*\"day\" + 0.006*\"said\" + 0.005*\"new\" + 0.005*\"one\"'), (3, '0.060*\"senses\" + 0.031*\"bike\" + 0.026*\"speak\" + 0.024*\"engine\" + 0.019*\"dod\" + 0.018*\"power\" + 0.017*\"picture\" + 0.015*\"stolen\" + 0.015*\"disagree\" + 0.011*\"owner\"'), (4, '0.112*\"physical\" + 0.031*\"dc\" + 0.031*\"direct\" + 0.021*\"ac\" + 0.018*\"oo\" + 0.018*\"ab\" + 0.018*\"gov\" + 0.017*\"spacecraft\" + 0.016*\"vms_vnews\" + 0.016*\"software_vax\"'), (5, '0.050*\"team\" + 0.045*\"game\" + 0.036*\"sale\" + 0.030*\"year\" + 0.027*\"games\" + 0.026*\"points\" + 0.023*\"win\" + 0.022*\"teams\" + 0.021*\"color\" + 0.021*\"play\"'), (6, '0.042*\"key\" + 0.018*\"system\" + 0.016*\"israel\" + 0.016*\"distribution_na\" + 0.015*\"keys\" + 0.014*\"master\" + 0.014*\"encryption\" + 0.014*\"mr\" + 0.014*\"security\" + 0.013*\"public\"'), (7, '0.693*\"ax\" + 0.056*\"max\" + 0.011*\"el\" + 0.010*\"mu\" + 0.008*\"saturn\" + 0.006*\"mr\" + 0.006*\"rt\" + 0.005*\"vw\" + 0.004*\"ft\" + 0.003*\"gt\"'), (8, '0.027*\"lines\" + 0.026*\"organization\" + 0.017*\"writes\" + 0.016*\"article\" + 0.015*\"would\" + 0.014*\"like\" + 0.013*\"one\" + 0.011*\"nntp_posting\" + 0.011*\"dont\" + 0.011*\"know\"'), (9, '0.020*\"israel\" + 0.015*\"war\" + 0.014*\"soldiers\" + 0.013*\"israeli\" + 0.013*\"jews\" + 0.012*\"killed\" + 0.011*\"people\" + 0.011*\"said\" + 0.010*\"women\" + 0.010*\"government\"'), (10, '0.085*\"space\" + 0.029*\"research\" + 0.028*\"patient\" + 0.027*\"talking\" + 0.024*\"die\" + 0.023*\"health\" + 0.020*\"nasa\" + 0.018*\"ground\" + 0.017*\"patients\" + 0.017*\"orbit\"'), (11, '0.026*\"people\" + 0.018*\"god\" + 0.017*\"evidence\" + 0.013*\"believe\" + 0.013*\"reason\" + 0.012*\"one\" + 0.012*\"would\" + 0.011*\"say\" + 0.011*\"us\" + 0.010*\"think\"'), (12, '0.026*\"system\" + 0.024*\"drive\" + 0.017*\"software\" + 0.016*\"data\" + 0.014*\"card\" + 0.014*\"mac\" + 0.013*\"computer\" + 0.013*\"using\" + 0.012*\"cpu\" + 0.012*\"mb\"'), (13, '0.026*\"faq\" + 0.020*\"events\" + 0.018*\"function\" + 0.015*\"mit\" + 0.011*\"ice\" + 0.011*\"joseph\" + 0.010*\"ltd\" + 0.010*\"object\" + 0.010*\"copies\" + 0.010*\"terms\"'), (14, '0.035*\"switch\" + 0.028*\"nec\" + 0.024*\"mw\" + 0.020*\"cable\" + 0.019*\"pack\" + 0.017*\"finland\" + 0.016*\"cap\" + 0.014*\"circuits\" + 0.013*\"sgi\" + 0.013*\"bj\"'), (15, '0.062*\"rsa\" + 0.039*\"update\" + 0.026*\"load\" + 0.015*\"allen\" + 0.012*\"mets\" + 0.011*\"ms_windows\" + 0.009*\"ratio\" + 0.009*\"click\" + 0.007*\"eff\" + 0.006*\"maryland_college\"'), (16, '0.066*\"pin\" + 0.044*\"disk\" + 0.044*\"telnet\" + 0.040*\"period\" + 0.031*\"processor\" + 0.022*\"kevin\" + 0.021*\"doug\" + 0.018*\"ns\" + 0.014*\"configuration\" + 0.012*\"fl\"'), (17, '0.052*\"windows\" + 0.042*\"file\" + 0.032*\"files\" + 0.029*\"program\" + 0.026*\"dos\" + 0.025*\"graphics\" + 0.025*\"entry\" + 0.021*\"md\" + 0.020*\"window\" + 0.017*\"unix\"'), (18, '0.026*\"st\" + 0.025*\"season\" + 0.021*\"vs\" + 0.021*\"scott\" + 0.019*\"wings\" + 0.018*\"dave\" + 0.018*\"boston\" + 0.017*\"ed\" + 0.016*\"em\" + 0.016*\"van\"'), (19, '0.039*\"government\" + 0.032*\"public\" + 0.030*\"gun\" + 0.020*\"state\" + 0.019*\"president\" + 0.019*\"guns\" + 0.015*\"clinton\" + 0.014*\"rights\" + 0.012*\"crime\" + 0.012*\"safety\"')]\n"
     ]
    }
   ],
   "source": [
    "print(lda_model.print_topics())\n",
    "doc_lda = lda_model[corpus]"
   ]
  },
  {
   "cell_type": "code",
   "execution_count": null,
   "metadata": {
    "id": "fxXLWLfNH91Y"
   },
   "outputs": [],
   "source": []
  }
 ],
 "metadata": {
  "colab": {
   "name": "Копия блокнота \"lesson_3-v01.ipynb\"",
   "provenance": [
    {
     "file_id": "1MnuFcuy0I8gwhogpOoj1g1WwmgzxCsQC",
     "timestamp": 1617392837200
    }
   ]
  },
  "kernelspec": {
   "display_name": "Python 3",
   "language": "python",
   "name": "python3"
  },
  "language_info": {
   "codemirror_mode": {
    "name": "ipython",
    "version": 3
   },
   "file_extension": ".py",
   "mimetype": "text/x-python",
   "name": "python",
   "nbconvert_exporter": "python",
   "pygments_lexer": "ipython3",
   "version": "3.7.10"
  }
 },
 "nbformat": 4,
 "nbformat_minor": 1
}
