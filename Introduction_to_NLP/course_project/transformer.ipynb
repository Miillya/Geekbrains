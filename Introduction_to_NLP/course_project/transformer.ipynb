{
 "cells": [
  {
   "cell_type": "markdown",
   "id": "dried-louisville",
   "metadata": {
    "id": "dried-louisville"
   },
   "source": [
    "### Setup libraries"
   ]
  },
  {
   "cell_type": "code",
   "execution_count": 91,
   "id": "ortbQg9AP2m4",
   "metadata": {
    "executionInfo": {
     "elapsed": 7,
     "status": "ok",
     "timestamp": 1622545033585,
     "user": {
      "displayName": "Alexey Tankov",
      "photoUrl": "",
      "userId": "01729535101672247421"
     },
     "user_tz": -180
    },
    "id": "ortbQg9AP2m4"
   },
   "outputs": [],
   "source": [
    "# pip install python-telegram-bot --upgrade"
   ]
  },
  {
   "cell_type": "markdown",
   "id": "unsigned-court",
   "metadata": {
    "id": "unsigned-court"
   },
   "source": [
    "### Import libraries"
   ]
  },
  {
   "cell_type": "code",
   "execution_count": 1,
   "id": "phantom-guatemala",
   "metadata": {
    "colab": {
     "base_uri": "https://localhost:8080/",
     "height": 17
    },
    "executionInfo": {
     "elapsed": 361,
     "status": "ok",
     "timestamp": 1622525729242,
     "user": {
      "displayName": "Alexey Tankov",
      "photoUrl": "",
      "userId": "01729535101672247421"
     },
     "user_tz": -180
    },
    "id": "phantom-guatemala",
    "outputId": "6835eab2-4f98-4be9-f392-4f3c89f72758"
   },
   "outputs": [
    {
     "data": {
      "text/html": [
       "<style>.container { width:72.5% !important; }</style>"
      ],
      "text/plain": [
       "<IPython.core.display.HTML object>"
      ]
     },
     "metadata": {},
     "output_type": "display_data"
    }
   ],
   "source": [
    "from IPython.core.display import display, HTML\n",
    "display(HTML(\"<style>.container { width:72.5% !important; }</style>\"))"
   ]
  },
  {
   "cell_type": "code",
   "execution_count": 2,
   "id": "cordless-colorado",
   "metadata": {
    "executionInfo": {
     "elapsed": 491,
     "status": "ok",
     "timestamp": 1622553883158,
     "user": {
      "displayName": "Alexey Tankov",
      "photoUrl": "",
      "userId": "01729535101672247421"
     },
     "user_tz": -180
    },
    "id": "cordless-colorado"
   },
   "outputs": [],
   "source": [
    "import tensorflow as tf\n",
    "\n",
    "import numpy as np\n",
    "import pandas as pd\n",
    "from sklearn.model_selection import train_test_split\n",
    "\n",
    "import os\n",
    "import io\n",
    "import re\n",
    "import time\n",
    "import unicodedata\n",
    "from tqdm.notebook import tqdm\n",
    "\n",
    "from tensorflow.keras import layers\n",
    "import matplotlib.pyplot as plt\n",
    "import matplotlib.ticker as ticker\n",
    "import tensorflow_datasets as tfds\n",
    "\n",
    "# telegram\n",
    "from telegram.ext import Updater, CommandHandler, MessageHandler, Filters"
   ]
  },
  {
   "cell_type": "code",
   "execution_count": 3,
   "id": "a805da12",
   "metadata": {
    "executionInfo": {
     "elapsed": 16,
     "status": "ok",
     "timestamp": 1622525736681,
     "user": {
      "displayName": "Alexey Tankov",
      "photoUrl": "",
      "userId": "01729535101672247421"
     },
     "user_tz": -180
    },
    "id": "a805da12"
   },
   "outputs": [],
   "source": [
    "plt.rcParams.update({'font.size': 14})\n",
    "pd.set_option('precision', 3)\n",
    "pd.set_option('max_columns', 100)\n",
    "pd.set_option('display.float_format', lambda x: '%.5f' % x)\n",
    "pd.set_option('display.max_columns', 500)\n",
    "pd.set_option('display.max_rows', 500)\n",
    "pd.set_option('max_colwidth', 300)"
   ]
  },
  {
   "cell_type": "code",
   "execution_count": 4,
   "id": "3185cda5",
   "metadata": {
    "colab": {
     "base_uri": "https://localhost:8080/"
    },
    "executionInfo": {
     "elapsed": 333,
     "status": "ok",
     "timestamp": 1622525742031,
     "user": {
      "displayName": "Alexey Tankov",
      "photoUrl": "",
      "userId": "01729535101672247421"
     },
     "user_tz": -180
    },
    "id": "3185cda5",
    "outputId": "928baa90-0e3e-4e09-9790-e6c9dc3f0abd"
   },
   "outputs": [],
   "source": [
    "# %tensorflow_version 2.x\n",
    "# import tensorflow as tf\n",
    "# device_name = tf.test.gpu_device_name()\n",
    "# if device_name != '/device:GPU:0':\n",
    "#     raise SystemError('GPU device not found')\n",
    "# print('Found GPU at: {}'.format(device_name))"
   ]
  },
  {
   "cell_type": "markdown",
   "id": "9985f75f",
   "metadata": {
    "id": "9985f75f"
   },
   "source": [
    "### Paths to directories and files"
   ]
  },
  {
   "cell_type": "code",
   "execution_count": 5,
   "id": "0hJ1SN7Tw4lh",
   "metadata": {
    "colab": {
     "base_uri": "https://localhost:8080/"
    },
    "executionInfo": {
     "elapsed": 26,
     "status": "ok",
     "timestamp": 1622525742032,
     "user": {
      "displayName": "Alexey Tankov",
      "photoUrl": "",
      "userId": "01729535101672247421"
     },
     "user_tz": -180
    },
    "id": "0hJ1SN7Tw4lh",
    "outputId": "efc609f2-86a0-4530-ee4f-aad8f41bbf94"
   },
   "outputs": [],
   "source": [
    "# from google.colab import drive\n",
    "# drive.mount('/content/gdrive')"
   ]
  },
  {
   "cell_type": "code",
   "execution_count": 6,
   "id": "530902aa",
   "metadata": {
    "executionInfo": {
     "elapsed": 22,
     "status": "ok",
     "timestamp": 1622525742033,
     "user": {
      "displayName": "Alexey Tankov",
      "photoUrl": "",
      "userId": "01729535101672247421"
     },
     "user_tz": -180
    },
    "id": "530902aa"
   },
   "outputs": [],
   "source": [
    "DRAFT_DATASET_PATH = 'E:/kaggle/mailru/Otvety.txt'\n",
    "# DRAFT_DATASET_PATH = '/content/gdrive/MyDrive/Colab Notebooks/my_projects/Otvety.txt'"
   ]
  },
  {
   "cell_type": "markdown",
   "id": "ec970111",
   "metadata": {
    "id": "ec970111"
   },
   "source": [
    "### Loading data"
   ]
  },
  {
   "cell_type": "code",
   "execution_count": 7,
   "id": "destroyed-limit",
   "metadata": {
    "executionInfo": {
     "elapsed": 62649,
     "status": "ok",
     "timestamp": 1622525804662,
     "user": {
      "displayName": "Alexey Tankov",
      "photoUrl": "",
      "userId": "01729535101672247421"
     },
     "user_tz": -180
    },
    "id": "destroyed-limit"
   },
   "outputs": [],
   "source": [
    "lines = io.open(DRAFT_DATASET_PATH, encoding='UTF-8').read()#.strip().split('\\n')"
   ]
  },
  {
   "cell_type": "markdown",
   "id": "wicked-resistance",
   "metadata": {
    "id": "wicked-resistance"
   },
   "source": [
    "### Preprocessing data"
   ]
  },
  {
   "cell_type": "code",
   "execution_count": 8,
   "id": "11da6113",
   "metadata": {
    "executionInfo": {
     "elapsed": 230,
     "status": "ok",
     "timestamp": 1622525816546,
     "user": {
      "displayName": "Alexey Tankov",
      "photoUrl": "",
      "userId": "01729535101672247421"
     },
     "user_tz": -180
    },
    "id": "11da6113"
   },
   "outputs": [],
   "source": [
    "def preprocess_text(w):\n",
    "    w = re.sub(':\\)', '', w)\n",
    "    w = re.sub('[)\"]', '', w)\n",
    "    w = re.sub('<[^>]+>', ' ', w)\n",
    "    \n",
    "    w = re.sub('\\s*\\?\\s*\\.', '?', w)\n",
    "    w = re.sub('\\s*\\!\\s*\\.', '!', w)\n",
    "    w = re.sub('\\s*\\.', '.', w)\n",
    "    w = re.sub('\\.+', '.', w)\n",
    "    \n",
    "    #     w = w.lower().strip()\n",
    "    w = re.sub('---', 'QUESTION', w)\n",
    "    \n",
    "    return w"
   ]
  },
  {
   "cell_type": "code",
   "execution_count": 9,
   "id": "28c5686a",
   "metadata": {
    "colab": {
     "base_uri": "https://localhost:8080/"
    },
    "executionInfo": {
     "elapsed": 261,
     "status": "ok",
     "timestamp": 1622525820285,
     "user": {
      "displayName": "Alexey Tankov",
      "photoUrl": "",
      "userId": "01729535101672247421"
     },
     "user_tz": -180
    },
    "id": "28c5686a",
    "outputId": "522599cd-51f4-4b67-e2ba-6345bd45b91a"
   },
   "outputs": [
    {
     "name": "stdout",
     "output_type": "stream",
     "text": [
      "1072593541\n"
     ]
    }
   ],
   "source": [
    "# print(type(lines))\n",
    "print(len(lines))"
   ]
  },
  {
   "cell_type": "code",
   "execution_count": 10,
   "id": "e4589fc1",
   "metadata": {
    "colab": {
     "base_uri": "https://localhost:8080/"
    },
    "executionInfo": {
     "elapsed": 1920,
     "status": "ok",
     "timestamp": 1622525823178,
     "user": {
      "displayName": "Alexey Tankov",
      "photoUrl": "",
      "userId": "01729535101672247421"
     },
     "user_tz": -180
    },
    "id": "e4589fc1",
    "outputId": "76c39d53-63a0-4b41-f591-15610b1ef13c"
   },
   "outputs": [
    {
     "name": "stdout",
     "output_type": "stream",
     "text": [
      "\n",
      "QUESTION\n",
      "вопрос о ТДВ давно и хорошо отдыхаем ЛИЧНО ВАМ здесь кого советовали завести? \n",
      "хомячка. \n",
      "мужика, йопаря, собачку и 50 кошек. \n",
      "Общение! \n",
      "паучка. \n",
      "Да пол мне бы памыть! А таг то ни чо. Типа ни каво! \n",
      "я тут вообще что бы пообщаться. \n",
      "А мне советовали сиси завести. \n",
      "Ну, слава богу, мужика завести ещё не советовали А вот сватать к кому только не сватали. \n",
      "мне тут советовали завести любовника, мужа и много кошек  приветик. \n",
      "QUESTION\n",
      "Как парни относятся к цветным линзам? Если у девушки то зеленые глаза, то голубые. \n",
      "меня вобще прикалывает эта тема. \n",
      "когда этобыло редкость - было забавно, а когда все знают, что эта фальшивка, то уже не прикольно, как силиконовые сиськи или как налепленные синтетические волосы. \n",
      "QUESTION\n",
      "Что делать, сегодня нашёл 2 миллиона рублей? \n",
      "Если это счастье  действительно на вас свалилось, лучше пойти в милицию и заявить о находке. Такие деньги просто так не терют, а что самое интересное их неприменно будут искать и поверьте мне найдут, видел подобное в жизни\n"
     ]
    }
   ],
   "source": [
    "NUM_EXAMPLES = 12500000\n",
    "text = preprocess_text(str(lines[:NUM_EXAMPLES]))\n",
    "print(text[:1000])"
   ]
  },
  {
   "cell_type": "code",
   "execution_count": 11,
   "id": "a1684fbb",
   "metadata": {},
   "outputs": [],
   "source": [
    "import string\n",
    "from pymorphy2 import MorphAnalyzer\n",
    "from stop_words import get_stop_words\n",
    "\n",
    "\n",
    "morpher = MorphAnalyzer()\n",
    "sw = set(get_stop_words('ru'))"
   ]
  },
  {
   "cell_type": "code",
   "execution_count": 12,
   "id": "little-builder",
   "metadata": {
    "executionInfo": {
     "elapsed": 225,
     "status": "ok",
     "timestamp": 1622525825160,
     "user": {
      "displayName": "Alexey Tankov",
      "photoUrl": "",
      "userId": "01729535101672247421"
     },
     "user_tz": -180
    },
    "id": "little-builder"
   },
   "outputs": [],
   "source": [
    "def split_by_sentence(sent):\n",
    "    sent = text.split('\\nQUESTION\\n')[1:]\n",
    "    \n",
    "    question = []\n",
    "    answer = []\n",
    "\n",
    "    for se in sent:\n",
    "        se = se.split('\\n')\n",
    "        se = [i for i in se if (i not in string.punctuation)]\n",
    "        se = [morpher.parse(i.lower())[0].normal_form for i in se]\n",
    "        # deleting stop_words\n",
    "        se = [i for i in se if i not in sw and i != \"\"]\n",
    "        \n",
    "        question.append(se[0].strip())\n",
    "#         question.append(se[0])\n",
    "#         answer.append(' '.join([f'<start_answers> {s}<stop_answers>' for s in se[1:]]))\n",
    "#         answer.append(' '.join([f'<start> {s}<stop>' for s in se[1:]]))\n",
    "        answer.append(' '.join([f' {s}' for s in se[1:]]))\n",
    "    \n",
    "    return question, answer"
   ]
  },
  {
   "cell_type": "code",
   "execution_count": 13,
   "id": "handed-perception",
   "metadata": {
    "colab": {
     "base_uri": "https://localhost:8080/"
    },
    "executionInfo": {
     "elapsed": 393,
     "status": "ok",
     "timestamp": 1622525827913,
     "user": {
      "displayName": "Alexey Tankov",
      "photoUrl": "",
      "userId": "01729535101672247421"
     },
     "user_tz": -180
    },
    "id": "handed-perception",
    "outputId": "6eb484e0-bc27-4683-9e56-8731e139183f"
   },
   "outputs": [
    {
     "data": {
      "text/plain": [
       "('вопрос о тдв давно и хорошо отдыхаем лично вам здесь кого советовали завести?',\n",
       " ' хомячка.   мужика, йопаря, собачку и 50 кошек.   общение!   паучка.   да пол мне бы памыть! а таг то ни чо. типа ни каво!   я тут вообще что бы пообщаться.   а мне советовали сиси завести.   ну, слава богу, мужика завести ещё не советовали а вот сватать к кому только не сватали.   мне тут советовали завести любовника, мужа и много кошек  приветик. ')"
      ]
     },
     "execution_count": 13,
     "metadata": {},
     "output_type": "execute_result"
    }
   ],
   "source": [
    "question, answer = split_by_sentence(text)\n",
    "question[0], answer[0]"
   ]
  },
  {
   "cell_type": "code",
   "execution_count": 14,
   "id": "6c15ca0a",
   "metadata": {
    "executionInfo": {
     "elapsed": 4,
     "status": "ok",
     "timestamp": 1622525828840,
     "user": {
      "displayName": "Alexey Tankov",
      "photoUrl": "",
      "userId": "01729535101672247421"
     },
     "user_tz": -180
    },
    "id": "6c15ca0a"
   },
   "outputs": [],
   "source": [
    "# df = pd.DataFrame({'questions':question, 'answers':answer})"
   ]
  },
  {
   "cell_type": "code",
   "execution_count": 15,
   "id": "254e329c",
   "metadata": {
    "executionInfo": {
     "elapsed": 2,
     "status": "ok",
     "timestamp": 1622525829223,
     "user": {
      "displayName": "Alexey Tankov",
      "photoUrl": "",
      "userId": "01729535101672247421"
     },
     "user_tz": -180
    },
    "id": "254e329c"
   },
   "outputs": [],
   "source": [
    "# df.head()"
   ]
  },
  {
   "cell_type": "code",
   "execution_count": 16,
   "id": "color-outside",
   "metadata": {
    "executionInfo": {
     "elapsed": 7,
     "status": "ok",
     "timestamp": 1622525830177,
     "user": {
      "displayName": "Alexey Tankov",
      "photoUrl": "",
      "userId": "01729535101672247421"
     },
     "user_tz": -180
    },
    "id": "color-outside"
   },
   "outputs": [],
   "source": [
    "# for w in df['questions']:\n",
    "#     re.sub('[^a-zA-Zа-яА-Я,.!?]+', ' ', w)\n",
    "\n",
    "# for w in df['answers']:\n",
    "#     re.sub('[^a-zA-Zа-яА-Я,.!?]+', ' ', w)"
   ]
  },
  {
   "cell_type": "markdown",
   "id": "a4b00234",
   "metadata": {
    "id": "a4b00234"
   },
   "source": [
    "### Tokenizer"
   ]
  },
  {
   "cell_type": "code",
   "execution_count": 17,
   "id": "74b90699",
   "metadata": {
    "executionInfo": {
     "elapsed": 240,
     "status": "ok",
     "timestamp": 1622525831559,
     "user": {
      "displayName": "Alexey Tankov",
      "photoUrl": "",
      "userId": "01729535101672247421"
     },
     "user_tz": -180
    },
    "id": "74b90699"
   },
   "outputs": [],
   "source": [
    "def split_by_subwords(corpus_generator, file_name=None):\n",
    "    start = time.time()\n",
    "    tokenizer = tfds.deprecated.text.SubwordTextEncoder.build_from_corpus(\n",
    "        corpus_generator = corpus_generator, \n",
    "        target_vocab_size = 2**13)\n",
    "    if file_name:\n",
    "        tokenizer.save_to_file(file_name)\n",
    "        \n",
    "    print(f'in {round(time.time() - start)} sec.')\n",
    "    return tokenizer"
   ]
  },
  {
   "cell_type": "code",
   "execution_count": 18,
   "id": "95c0bdea",
   "metadata": {
    "colab": {
     "base_uri": "https://localhost:8080/"
    },
    "executionInfo": {
     "elapsed": 638,
     "status": "ok",
     "timestamp": 1622525836167,
     "user": {
      "displayName": "Alexey Tankov",
      "photoUrl": "",
      "userId": "01729535101672247421"
     },
     "user_tz": -180
    },
    "id": "95c0bdea",
    "outputId": "0f209567-2ac1-4c1c-a5c9-f4ec322c02f3"
   },
   "outputs": [
    {
     "name": "stdout",
     "output_type": "stream",
     "text": [
      "in 398 sec.\n"
     ]
    }
   ],
   "source": [
    "try:\n",
    "    tokenizer_en = tfds.deprecated.text.SubwordTextEncoder.load_from_file('./tokenizer_en')\n",
    "    print('tokenizer_en loaded')\n",
    "except UnicodeDecodeError:\n",
    "    tokenizer_en = split_by_subwords(\n",
    "        corpus_generator = (sent for sent in question + answer),\n",
    "        file_name='tokenizer_en')"
   ]
  },
  {
   "cell_type": "markdown",
   "id": "ba06af2d",
   "metadata": {
    "id": "ba06af2d"
   },
   "source": [
    "### Prep datasets"
   ]
  },
  {
   "cell_type": "code",
   "execution_count": 19,
   "id": "3c71a6ef",
   "metadata": {
    "colab": {
     "base_uri": "https://localhost:8080/"
    },
    "executionInfo": {
     "elapsed": 9292,
     "status": "ok",
     "timestamp": 1622525848842,
     "user": {
      "displayName": "Alexey Tankov",
      "photoUrl": "",
      "userId": "01729535101672247421"
     },
     "user_tz": -180
    },
    "id": "3c71a6ef",
    "outputId": "ed310b74-0522-4104-fbd9-0eb3ba5bd6b2"
   },
   "outputs": [
    {
     "name": "stdout",
     "output_type": "stream",
     "text": [
      "(13766, 40) (13766, 40)\n"
     ]
    },
    {
     "data": {
      "text/plain": [
       "(array([[ 502,   27, 7232, ...,    0,    0,    0],\n",
       "        [  22, 2727,    3, ...,    0,    0,    0],\n",
       "        [  13,  578,    1, ...,    0,    0,    0],\n",
       "        ...,\n",
       "        [  13,  578,    1, ...,    0,    0,    0],\n",
       "        [ 221, 1515,    6, ...,    0,    0,    0],\n",
       "        [  89, 5433, 7921, ..., 2768, 6140, 7935]], dtype=int64),\n",
       " array([[   1, 1556,    6, ..., 1397,  399,    2],\n",
       "        [ 148, 6600, 1485, ..., 1079,   30,    2],\n",
       "        [1324,  387,    1, ..., 1603, 1327,    2],\n",
       "        ...,\n",
       "        [ 589,    5, 1629, ..., 5391, 2201,    2],\n",
       "        [5263, 7921, 6098, ..., 2615,  152,    2],\n",
       "        [   8, 3216,    9, ...,   70, 6813,   68]], dtype=int64))"
      ]
     },
     "execution_count": 19,
     "metadata": {},
     "output_type": "execute_result"
    }
   ],
   "source": [
    "MAX_LEN = 40\n",
    "\n",
    "token_inp = [tokenizer_en.encode(q) for q in question]\n",
    "token_tar = [tokenizer_en.encode(a) for a in answer]\n",
    "\n",
    "token_inp = tf.keras.preprocessing.sequence.pad_sequences(token_inp, maxlen=MAX_LEN, padding='post', dtype='int64')\n",
    "token_tar = tf.keras.preprocessing.sequence.pad_sequences(token_tar, maxlen=MAX_LEN, padding='post', dtype='int64')\n",
    "\n",
    "print(token_inp.shape, token_tar.shape)\n",
    "token_inp, token_tar"
   ]
  },
  {
   "cell_type": "code",
   "execution_count": 20,
   "id": "b377be76",
   "metadata": {
    "executionInfo": {
     "elapsed": 22,
     "status": "ok",
     "timestamp": 1622525848843,
     "user": {
      "displayName": "Alexey Tankov",
      "photoUrl": "",
      "userId": "01729535101672247421"
     },
     "user_tz": -180
    },
    "id": "b377be76"
   },
   "outputs": [],
   "source": [
    "def encode(answer, question):\n",
    "    answer = [tokenizer_en.vocab_size] + list(answer.numpy()) + [tokenizer_en.vocab_size + 1]\n",
    "    question = [tokenizer_en.vocab_size] + list(question.numpy()) + [tokenizer_en.vocab_size + 1]\n",
    "    return answer, question\n",
    "\n",
    "def tf_encode(answer, question):\n",
    "    answer, question = tf.py_function(func=encode, inp=[answer, question], Tout=[tf.int64, tf.int64])\n",
    "    answer.set_shape([None])\n",
    "    question.set_shape([None])\n",
    "    return answer, question"
   ]
  },
  {
   "cell_type": "code",
   "execution_count": 21,
   "id": "08848544",
   "metadata": {
    "colab": {
     "base_uri": "https://localhost:8080/"
    },
    "executionInfo": {
     "elapsed": 4541,
     "status": "ok",
     "timestamp": 1622525853364,
     "user": {
      "displayName": "Alexey Tankov",
      "photoUrl": "",
      "userId": "01729535101672247421"
     },
     "user_tz": -180
    },
    "id": "08848544",
    "outputId": "1376d5db-91bb-400b-d938-99acb537a3e6"
   },
   "outputs": [
    {
     "name": "stdout",
     "output_type": "stream",
     "text": [
      "(<tf.Tensor: shape=(64, 42), dtype=int64, numpy=\n",
      "array([[8145, 3082,  381, ...,    0,    0, 8146],\n",
      "       [8145, 5312, 2855, ...,    0,    0, 8146],\n",
      "       [8145,  169, 7526, ...,    0,    0, 8146],\n",
      "       ...,\n",
      "       [8145,  173,    3, ...,    0,    0, 8146],\n",
      "       [8145,   22,   67, ...,    0,    0, 8146],\n",
      "       [8145, 1157, 7264, ...,    0,    0, 8146]], dtype=int64)>, <tf.Tensor: shape=(64, 42), dtype=int64, numpy=\n",
      "array([[8145,    1,    3, ...,   18,    2, 8146],\n",
      "       [8145, 7921,  123, ...,    0,    0, 8146],\n",
      "       [8145,   41,  876, ...,    0,    0, 8146],\n",
      "       ...,\n",
      "       [8145,    0,    0, ...,    0,    0, 8146],\n",
      "       [8145, 7921,  116, ...,    0,    0, 8146],\n",
      "       [8145,  172,   66, ...,  114,    2, 8146]], dtype=int64)>)\n",
      "in 3 sec.\n"
     ]
    }
   ],
   "source": [
    "BUFFER_SIZE = 20000\n",
    "BATCH_SIZE = 64\n",
    "\n",
    "start = time.time()\n",
    "\n",
    "dataset = tf.data.Dataset.from_tensor_slices((token_inp, token_tar))\n",
    "dataset = dataset.map(tf_encode)\n",
    "dataset = dataset.cache()\n",
    "dataset = dataset.shuffle(BUFFER_SIZE)\n",
    "dataset = dataset.padded_batch(BATCH_SIZE)\n",
    "dataset = dataset.prefetch(tf.data.experimental.AUTOTUNE)\n",
    "\n",
    "print(next(iter(dataset)))\n",
    "print(f'in {round(time.time() - start)} sec.')"
   ]
  },
  {
   "cell_type": "code",
   "execution_count": 22,
   "id": "e6793f2d",
   "metadata": {
    "colab": {
     "base_uri": "https://localhost:8080/"
    },
    "executionInfo": {
     "elapsed": 224,
     "status": "ok",
     "timestamp": 1622525865124,
     "user": {
      "displayName": "Alexey Tankov",
      "photoUrl": "",
      "userId": "01729535101672247421"
     },
     "user_tz": -180
    },
    "id": "e6793f2d",
    "outputId": "d73d272d-3eb0-4b85-8adf-8b396ac2863f"
   },
   "outputs": [
    {
     "name": "stdout",
     "output_type": "stream",
     "text": [
      "input: 4,2*(0,25+x=1,47 помогите пожалуйста.\n",
      "target: 1,47-1,05 х=0,42.   1,05+х=1,47 х=1,47-1,05 х=0,42\n"
     ]
    }
   ],
   "source": [
    "for inp, tar in dataset.take(1):\n",
    "    print('input: ' + tokenizer_en.decode(inp[0][1:-2]))\n",
    "    print('target: ' + tokenizer_en.decode(tar[0][1:-2]))"
   ]
  },
  {
   "cell_type": "markdown",
   "id": "1ff400f8",
   "metadata": {
    "id": "1ff400f8"
   },
   "source": [
    "### Positional encoding"
   ]
  },
  {
   "cell_type": "code",
   "execution_count": 23,
   "id": "899de452",
   "metadata": {
    "executionInfo": {
     "elapsed": 5,
     "status": "ok",
     "timestamp": 1622525854800,
     "user": {
      "displayName": "Alexey Tankov",
      "photoUrl": "",
      "userId": "01729535101672247421"
     },
     "user_tz": -180
    },
    "id": "899de452"
   },
   "outputs": [],
   "source": [
    "def get_angles(pos, i, d_model):\n",
    "    angle_rates = pos * (1 / np.power(10_000, (2 * (i // 2)) / np.float32(d_model)))\n",
    "    return angle_rates\n",
    "\n",
    "def positional_encoding(position, d_model):\n",
    "    angle_rads = get_angles(\n",
    "        np.arange(position)[:, np.newaxis],\n",
    "        np.arange(d_model)[np.newaxis, :],\n",
    "        d_model\n",
    "    )\n",
    "    angle_rads[:, 0::2] = np.sin(angle_rads[:, 0::2])\n",
    "    angle_rads[:, 1::2] = np.cos(angle_rads[:, 1::2])\n",
    "\n",
    "    pos_encoding = angle_rads[np.newaxis, ...]\n",
    "    pos_encoding = tf.cast(pos_encoding, dtype=tf.float32)\n",
    "    return pos_encoding"
   ]
  },
  {
   "cell_type": "code",
   "execution_count": 24,
   "id": "6a93e95e",
   "metadata": {
    "colab": {
     "base_uri": "https://localhost:8080/",
     "height": 310
    },
    "executionInfo": {
     "elapsed": 674,
     "status": "ok",
     "timestamp": 1622525856312,
     "user": {
      "displayName": "Alexey Tankov",
      "photoUrl": "",
      "userId": "01729535101672247421"
     },
     "user_tz": -180
    },
    "id": "6a93e95e",
    "outputId": "02b286b8-c893-4ee5-9f56-b77cdffcc194"
   },
   "outputs": [
    {
     "name": "stdout",
     "output_type": "stream",
     "text": [
      "(1, 50, 512)\n"
     ]
    },
    {
     "data": {
      "image/png": "[encoded data removed]",
      "text/plain": [
       "<Figure size 432x288 with 2 Axes>"
      ]
     },
     "metadata": {
      "needs_background": "light"
     },
     "output_type": "display_data"
    }
   ],
   "source": [
    "pos_encoding = positional_encoding(50, 512)\n",
    "print(pos_encoding.shape)\n",
    "\n",
    "plt.pcolormesh(pos_encoding[0])\n",
    "plt.xlabel('Depth')\n",
    "plt.ylabel('Position')\n",
    "plt.colorbar()\n",
    "plt.show()"
   ]
  },
  {
   "cell_type": "markdown",
   "id": "31df2ee5",
   "metadata": {
    "id": "31df2ee5"
   },
   "source": [
    "### Masking"
   ]
  },
  {
   "cell_type": "code",
   "execution_count": 25,
   "id": "dff25ac1",
   "metadata": {
    "executionInfo": {
     "elapsed": 217,
     "status": "ok",
     "timestamp": 1622525857863,
     "user": {
      "displayName": "Alexey Tankov",
      "photoUrl": "",
      "userId": "01729535101672247421"
     },
     "user_tz": -180
    },
    "id": "dff25ac1"
   },
   "outputs": [],
   "source": [
    "def create_padding_mask(seq):\n",
    "    seq = tf.cast(tf.math.equal(seq, 0), tf.float32)\n",
    "    seq = seq[:, tf.newaxis, tf.newaxis, :]\n",
    "    return seq\n",
    "\n",
    "def create_look_ahead_mask(size):\n",
    "    mask = 1 - tf.linalg.band_part(tf.ones((size, size)), -1, 0)\n",
    "    return mask\n",
    "\n",
    "def create_masks(inp, tar):\n",
    "    enc_padding_mask = create_padding_mask(inp)\n",
    "    dec_padding_mask = create_padding_mask(inp)\n",
    "    \n",
    "    look_ahead_mask = create_look_ahead_mask(tf.shape(tar)[1])\n",
    "    dec_target_padding_mask = create_padding_mask(tar)\n",
    "    combined_mask = tf.maximum(dec_target_padding_mask, look_ahead_mask)\n",
    "    return enc_padding_mask, combined_mask, dec_padding_mask"
   ]
  },
  {
   "cell_type": "markdown",
   "id": "6c822c0d",
   "metadata": {
    "id": "6c822c0d"
   },
   "source": [
    "### Scaled dot product attention"
   ]
  },
  {
   "cell_type": "code",
   "execution_count": 26,
   "id": "05c95fe1",
   "metadata": {
    "executionInfo": {
     "elapsed": 232,
     "status": "ok",
     "timestamp": 1622525880129,
     "user": {
      "displayName": "Alexey Tankov",
      "photoUrl": "",
      "userId": "01729535101672247421"
     },
     "user_tz": -180
    },
    "id": "05c95fe1"
   },
   "outputs": [],
   "source": [
    "def scaled_dot_product_attention(q, k, v, mask):\n",
    "    matmul_qk = tf.matmul(q, k, transpose_b=True)\n",
    "    \n",
    "    dk = tf.cast(tf.shape(k)[-1], tf.float32)\n",
    "    dk = tf.math.sqrt(dk)\n",
    "    \n",
    "    scaled_attention_logits = matmul_qk / dk\n",
    "\n",
    "    if mask is not None:\n",
    "        scaled_attention_logits += (mask * -1e9)  \n",
    "\n",
    "    attention_weights = tf.nn.softmax(scaled_attention_logits, axis=-1)\n",
    "    output = tf.matmul(attention_weights, v)\n",
    "    return output, attention_weights"
   ]
  },
  {
   "cell_type": "markdown",
   "id": "a52734d2",
   "metadata": {
    "id": "a52734d2"
   },
   "source": [
    "### Multi-head attention"
   ]
  },
  {
   "cell_type": "code",
   "execution_count": 27,
   "id": "0a77d920",
   "metadata": {
    "executionInfo": {
     "elapsed": 220,
     "status": "ok",
     "timestamp": 1622525881515,
     "user": {
      "displayName": "Alexey Tankov",
      "photoUrl": "",
      "userId": "01729535101672247421"
     },
     "user_tz": -180
    },
    "id": "0a77d920"
   },
   "outputs": [],
   "source": [
    "class MultiHeadAttention(layers.Layer):\n",
    "    def __init__(self, d_model, num_heads):\n",
    "        super(MultiHeadAttention, self).__init__()\n",
    "        \n",
    "        self.num_heads = num_heads\n",
    "        self.d_model = d_model\n",
    "        \n",
    "        assert d_model % self.num_heads == 0\n",
    "        \n",
    "        self.depth = d_model // self.num_heads\n",
    "        \n",
    "        self.wq = layers.Dense(d_model)\n",
    "        self.wk = layers.Dense(d_model)\n",
    "        self.wv = layers.Dense(d_model)\n",
    "        \n",
    "        self.dense = layers.Dense(d_model)\n",
    "        \n",
    "    def split_heads(self, x, batch_size):\n",
    "        x = tf.reshape(x, (batch_size, -1, self.num_heads, self.depth))\n",
    "        x = tf.transpose(x, perm=[0, 2, 1, 3])\n",
    "        return x\n",
    "    \n",
    "    def call(self, v, k, q, mask):\n",
    "        batch_size = tf.shape(q)[0]\n",
    "        \n",
    "        q = self.wq(q)\n",
    "        k = self.wk(k)\n",
    "        v = self.wv(v)\n",
    "        \n",
    "        q = self.split_heads(q, batch_size)\n",
    "        k = self.split_heads(k, batch_size)\n",
    "        v = self.split_heads(v, batch_size)\n",
    "        \n",
    "        output, weight = scaled_dot_product_attention(q, k, v, mask)\n",
    "        \n",
    "        output = tf.transpose(output, perm=[0, 2, 1, 3])\n",
    "        output = tf.reshape(output, (batch_size, -1, self.d_model))\n",
    "        output = self.dense(output)\n",
    "        return output, weight"
   ]
  },
  {
   "cell_type": "markdown",
   "id": "5c7eb935",
   "metadata": {
    "id": "5c7eb935"
   },
   "source": [
    "### Point wise feed forward network"
   ]
  },
  {
   "cell_type": "code",
   "execution_count": 28,
   "id": "b18ab412",
   "metadata": {
    "executionInfo": {
     "elapsed": 235,
     "status": "ok",
     "timestamp": 1622525883620,
     "user": {
      "displayName": "Alexey Tankov",
      "photoUrl": "",
      "userId": "01729535101672247421"
     },
     "user_tz": -180
    },
    "id": "b18ab412"
   },
   "outputs": [],
   "source": [
    "def point_wise_feed_forward_network(d_model, dff):\n",
    "    seq = tf.keras.Sequential([\n",
    "        layers.Dense(dff, activation='relu'),\n",
    "        layers.Dense(d_model)\n",
    "    ])\n",
    "    return seq"
   ]
  },
  {
   "cell_type": "markdown",
   "id": "fdea9c99",
   "metadata": {
    "id": "fdea9c99"
   },
   "source": [
    "### Encoder layer"
   ]
  },
  {
   "cell_type": "code",
   "execution_count": 29,
   "id": "40ed052e",
   "metadata": {
    "executionInfo": {
     "elapsed": 231,
     "status": "ok",
     "timestamp": 1622525885923,
     "user": {
      "displayName": "Alexey Tankov",
      "photoUrl": "",
      "userId": "01729535101672247421"
     },
     "user_tz": -180
    },
    "id": "40ed052e"
   },
   "outputs": [],
   "source": [
    "class EncoderLayer(layers.Layer):\n",
    "    def __init__(self, d_model, num_heads, dff, rate=0.1):\n",
    "        super(EncoderLayer, self).__init__()\n",
    "        \n",
    "        self.mha = MultiHeadAttention(d_model, num_heads)\n",
    "        self.ffn = point_wise_feed_forward_network(d_model, dff)\n",
    "        \n",
    "        self.layernorm1 = layers.LayerNormalization(epsilon=1e-6)\n",
    "        self.layernorm2 = layers.LayerNormalization(epsilon=1e-6)\n",
    "        \n",
    "        self.dropout1 = layers.Dropout(rate)\n",
    "        self.dropout2 = layers.Dropout(rate)\n",
    "        \n",
    "    def call(self, x, training, mask):\n",
    "        attn_output, _ = self.mha(x, x, x, mask)\n",
    "        attn_output = self.dropout1(attn_output, training=training)\n",
    "        out1 = self.layernorm1(x + attn_output)\n",
    "        \n",
    "        ffn_output = self.ffn(out1)\n",
    "        ffn_output = self.dropout2(ffn_output, training=training)\n",
    "        out2 = self.layernorm2(out1 + ffn_output)\n",
    "        return out2"
   ]
  },
  {
   "cell_type": "markdown",
   "id": "ffded9e0",
   "metadata": {
    "id": "ffded9e0"
   },
   "source": [
    "### Decoder layer"
   ]
  },
  {
   "cell_type": "code",
   "execution_count": 30,
   "id": "c5f3d86d",
   "metadata": {
    "executionInfo": {
     "elapsed": 282,
     "status": "ok",
     "timestamp": 1622525887632,
     "user": {
      "displayName": "Alexey Tankov",
      "photoUrl": "",
      "userId": "01729535101672247421"
     },
     "user_tz": -180
    },
    "id": "c5f3d86d"
   },
   "outputs": [],
   "source": [
    "class DecoderLayer(layers.Layer):\n",
    "    def __init__(self, d_model, num_heads, dff, rate=0.1):\n",
    "        super(DecoderLayer, self).__init__()\n",
    "        \n",
    "        self.mha1 = MultiHeadAttention(d_model, num_heads)\n",
    "        self.mha2 = MultiHeadAttention(d_model, num_heads)\n",
    "        \n",
    "        self.ffn = point_wise_feed_forward_network(d_model, dff)\n",
    "        \n",
    "        self.layernorm1 = layers.LayerNormalization(epsilon=1e-6)\n",
    "        self.layernorm2 = layers.LayerNormalization(epsilon=1e-6)\n",
    "        self.layernorm3 = layers.LayerNormalization(epsilon=1e-6)\n",
    "        \n",
    "        self.dropout1 = layers.Dropout(rate)\n",
    "        self.dropout2 = layers.Dropout(rate)\n",
    "        self.dropout3 = layers.Dropout(rate)\n",
    "        \n",
    "    def call(self, x, enc_output, training, look_ahead_mask, padding_mask):\n",
    "        attn1, attn_weights_block1 = self.mha1(x, x, x, look_ahead_mask)\n",
    "        attn1 = self.dropout1(attn1, training=training)\n",
    "        out1 = self.layernorm1(attn1 + x)\n",
    "        \n",
    "        attn2, attn_weights_block2 = self.mha2(enc_output, enc_output, out1, padding_mask)\n",
    "        attn2 = self.dropout2(attn2, training=training)\n",
    "        out2 = self.layernorm2(attn2 + out1)\n",
    "        \n",
    "        ffn_output = self.ffn(out2)\n",
    "        ffn_output = self.dropout3(ffn_output, training=training)\n",
    "        out3 = self.layernorm3(ffn_output + out2)\n",
    "        return out3, attn_weights_block1, attn_weights_block2"
   ]
  },
  {
   "cell_type": "markdown",
   "id": "507d33ab",
   "metadata": {
    "id": "507d33ab"
   },
   "source": [
    "### Encoder"
   ]
  },
  {
   "cell_type": "code",
   "execution_count": 31,
   "id": "69578bf0",
   "metadata": {
    "executionInfo": {
     "elapsed": 224,
     "status": "ok",
     "timestamp": 1622525889260,
     "user": {
      "displayName": "Alexey Tankov",
      "photoUrl": "",
      "userId": "01729535101672247421"
     },
     "user_tz": -180
    },
    "id": "69578bf0"
   },
   "outputs": [],
   "source": [
    "class Encoder(layers.Layer):\n",
    "    def __init__(self, num_layers, d_model, num_heads, dff, input_vocab_size, maximum_position_encoding, rate=0.1):\n",
    "        super(Encoder, self).__init__()\n",
    "        \n",
    "        self.d_model = d_model\n",
    "        self.num_layers = num_layers\n",
    "        \n",
    "        self.embedding = layers.Embedding(input_vocab_size, d_model)\n",
    "        self.pos_encoding = positional_encoding(maximum_position_encoding, self.d_model)\n",
    "        \n",
    "        self.enc_layers = [EncoderLayer(d_model, num_heads, dff, rate) for _ in range(num_layers)]\n",
    "        self.dropout = layers.Dropout(rate)\n",
    "        \n",
    "    def call(self, x, training, mask):\n",
    "        seq_len = tf.shape(x)[1]\n",
    "        \n",
    "        x = self.embedding(x)\n",
    "        x *= tf.math.sqrt(tf.cast(self.d_model, tf.float32))\n",
    "        x += self.pos_encoding[:, :seq_len, :]\n",
    "        x = self.dropout(x, training=training)\n",
    "        \n",
    "        for i in range(self.num_layers):\n",
    "            x = self.enc_layers[i](x, training, mask)\n",
    "        return x"
   ]
  },
  {
   "cell_type": "markdown",
   "id": "85acdc66",
   "metadata": {
    "id": "85acdc66"
   },
   "source": [
    "### Decoder"
   ]
  },
  {
   "cell_type": "code",
   "execution_count": 32,
   "id": "1e305c9c",
   "metadata": {
    "executionInfo": {
     "elapsed": 225,
     "status": "ok",
     "timestamp": 1622525891581,
     "user": {
      "displayName": "Alexey Tankov",
      "photoUrl": "",
      "userId": "01729535101672247421"
     },
     "user_tz": -180
    },
    "id": "1e305c9c"
   },
   "outputs": [],
   "source": [
    "class Decoder(layers.Layer):\n",
    "    def __init__(self, num_layers, d_model, num_heads, dff, target_vocab_size, maximum_position_encoding, rate=0.1):\n",
    "        super(Decoder, self).__init__()\n",
    "        \n",
    "        self.d_model = d_model\n",
    "        self.num_layers = num_layers\n",
    "        \n",
    "        self.embedding = layers.Embedding(target_vocab_size, d_model)\n",
    "        self.pos_encoding = positional_encoding(maximum_position_encoding, d_model)\n",
    "        \n",
    "        self.dec_layers = [DecoderLayer(d_model, num_heads, dff, rate) for _ in range(num_layers)]\n",
    "        self.dropout = layers.Dropout(rate)\n",
    "        \n",
    "    def call(self, x, enc_output, training, look_ahead_mask, padding_mask):\n",
    "        seq_len = tf.shape(x)[1]\n",
    "        attention_weights = {}\n",
    "        \n",
    "        x = self.embedding(x)\n",
    "        x *= tf.math.sqrt(tf.cast(self.d_model, tf.float32))\n",
    "        x += self.pos_encoding[:, :seq_len, :]\n",
    "        x = self.dropout(x, training=training)\n",
    "        \n",
    "        for i in range(self.num_layers):\n",
    "            x, block1, block2 = self.dec_layers[i](x, enc_output, training, look_ahead_mask, padding_mask)\n",
    "            attention_weights[f'decoder_layer{i+1}_block1'] = block1\n",
    "            attention_weights[f'decoder_layer{i+1}_block2'] = block2\n",
    "            \n",
    "        return x, attention_weights"
   ]
  },
  {
   "cell_type": "code",
   "execution_count": 33,
   "id": "b2844e59",
   "metadata": {
    "executionInfo": {
     "elapsed": 356,
     "status": "ok",
     "timestamp": 1622525893063,
     "user": {
      "displayName": "Alexey Tankov",
      "photoUrl": "",
      "userId": "01729535101672247421"
     },
     "user_tz": -180
    },
    "id": "b2844e59"
   },
   "outputs": [],
   "source": [
    "class Transformer(tf.keras.Model):\n",
    "    def __init__(self, num_layers, d_model, num_heads, dff, input_vocab_size, target_vocab_size, pe_input, pe_target, rate=0.1):\n",
    "        super(Transformer, self).__init__()\n",
    "        \n",
    "        self.encoder = Encoder(num_layers, d_model, num_heads, dff, input_vocab_size, pe_input, rate)\n",
    "        self.decoder = Decoder(num_layers, d_model, num_heads, dff, target_vocab_size, pe_input, rate)\n",
    "        \n",
    "        self.final_layer = layers.Dense(target_vocab_size)\n",
    "        \n",
    "    def call(self, inp, tar, training, enc_padding_mask, look_ahead_mask, dec_padding_mask):\n",
    "        enc_output = self.encoder(inp, training, enc_padding_mask)\n",
    "        dec_output, attention_weights = self.decoder(tar, enc_output, training, look_ahead_mask, dec_padding_mask)\n",
    "        final_output = self.final_layer(dec_output)\n",
    "        return final_output, attention_weights"
   ]
  },
  {
   "cell_type": "markdown",
   "id": "57ef97a5",
   "metadata": {
    "id": "57ef97a5"
   },
   "source": [
    "### Hyperparameters"
   ]
  },
  {
   "cell_type": "code",
   "execution_count": 34,
   "id": "5cd189fb",
   "metadata": {
    "executionInfo": {
     "elapsed": 694,
     "status": "ok",
     "timestamp": 1622525894977,
     "user": {
      "displayName": "Alexey Tankov",
      "photoUrl": "",
      "userId": "01729535101672247421"
     },
     "user_tz": -180
    },
    "id": "5cd189fb"
   },
   "outputs": [],
   "source": [
    "num_layers = 4\n",
    "d_model = 128\n",
    "dff = 512\n",
    "num_heads = 8\n",
    "\n",
    "input_vocab_size = tokenizer_en.vocab_size + 2\n",
    "target_vocab_size = tokenizer_en.vocab_size + 2\n",
    "dropout_rate = 0.1"
   ]
  },
  {
   "cell_type": "markdown",
   "id": "ce18f13d",
   "metadata": {
    "id": "ce18f13d"
   },
   "source": [
    "### Optimizer"
   ]
  },
  {
   "cell_type": "code",
   "execution_count": 35,
   "id": "b27ea8a7",
   "metadata": {
    "executionInfo": {
     "elapsed": 217,
     "status": "ok",
     "timestamp": 1622525899459,
     "user": {
      "displayName": "Alexey Tankov",
      "photoUrl": "",
      "userId": "01729535101672247421"
     },
     "user_tz": -180
    },
    "id": "b27ea8a7"
   },
   "outputs": [],
   "source": [
    "class CustomSchedule(tf.keras.optimizers.schedules.LearningRateSchedule):\n",
    "    def __init__(self, d_model, warmup_steps=4_000):\n",
    "        super(CustomSchedule, self).__init__()\n",
    "        \n",
    "        self.d_model = d_model\n",
    "        self.d_model = tf.cast(self.d_model, tf.float32)\n",
    "\n",
    "        self.warmup_steps = warmup_steps\n",
    "        \n",
    "    def __call__(self, step):\n",
    "        arg1 = tf.math.rsqrt(step)\n",
    "        arg2 = step * (self.warmup_steps ** -1.5)\n",
    "        return tf.math.rsqrt(self.d_model) * tf.math.minimum(arg1, arg2)"
   ]
  },
  {
   "cell_type": "code",
   "execution_count": 36,
   "id": "94cff202",
   "metadata": {
    "executionInfo": {
     "elapsed": 273,
     "status": "ok",
     "timestamp": 1622525900698,
     "user": {
      "displayName": "Alexey Tankov",
      "photoUrl": "",
      "userId": "01729535101672247421"
     },
     "user_tz": -180
    },
    "id": "94cff202"
   },
   "outputs": [],
   "source": [
    "learning_rate = CustomSchedule(d_model)\n",
    "optimizer = tf.keras.optimizers.Adam(learning_rate, beta_1=0.9, beta_2=0.98, epsilon=1e-9)"
   ]
  },
  {
   "cell_type": "markdown",
   "id": "dbe173dc",
   "metadata": {
    "id": "dbe173dc"
   },
   "source": [
    "### Loss and metrics"
   ]
  },
  {
   "cell_type": "code",
   "execution_count": 37,
   "id": "8aca673f",
   "metadata": {
    "executionInfo": {
     "elapsed": 240,
     "status": "ok",
     "timestamp": 1622525904986,
     "user": {
      "displayName": "Alexey Tankov",
      "photoUrl": "",
      "userId": "01729535101672247421"
     },
     "user_tz": -180
    },
    "id": "8aca673f"
   },
   "outputs": [],
   "source": [
    "train_loss = tf.keras.metrics.Mean(name='train_loss')\n",
    "train_accuracy = tf.keras.metrics.Mean(name='train_accuracy')"
   ]
  },
  {
   "cell_type": "code",
   "execution_count": 38,
   "id": "9f585799",
   "metadata": {
    "executionInfo": {
     "elapsed": 4,
     "status": "ok",
     "timestamp": 1622525905471,
     "user": {
      "displayName": "Alexey Tankov",
      "photoUrl": "",
      "userId": "01729535101672247421"
     },
     "user_tz": -180
    },
    "id": "9f585799"
   },
   "outputs": [],
   "source": [
    "def loss_function(real, pred):\n",
    "    loss_object = tf.keras.losses.SparseCategoricalCrossentropy(from_logits=True, reduction='none')\n",
    "    loss = loss_object(real, pred)\n",
    "    \n",
    "    mask = tf.math.logical_not(tf.math.equal(real, 0))\n",
    "    mask = tf.cast(mask, dtype=loss.dtype)\n",
    "    \n",
    "    loss *= mask\n",
    "    loss = tf.reduce_sum(loss) / tf.reduce_sum(mask)\n",
    "    return loss\n",
    "\n",
    "def accuracy_function(real, pred):\n",
    "    acc = tf.equal(real, tf.argmax(pred, axis=2))\n",
    "    mask = tf.math.logical_not(tf.math.equal(real, 0))\n",
    "    \n",
    "    acc = tf.math.logical_and(mask, acc)\n",
    "    acc = tf.cast(acc, dtype=tf.float32)\n",
    "    mask = tf.cast(mask, dtype=tf.float32)\n",
    "    \n",
    "    acc = tf.reduce_sum(acc) / tf.reduce_sum(mask)\n",
    "    return acc"
   ]
  },
  {
   "cell_type": "markdown",
   "id": "9d4b59b9",
   "metadata": {
    "id": "9d4b59b9"
   },
   "source": [
    "### Model init"
   ]
  },
  {
   "cell_type": "code",
   "execution_count": 39,
   "id": "24b1dbaf",
   "metadata": {
    "executionInfo": {
     "elapsed": 228,
     "status": "ok",
     "timestamp": 1622525907544,
     "user": {
      "displayName": "Alexey Tankov",
      "photoUrl": "",
      "userId": "01729535101672247421"
     },
     "user_tz": -180
    },
    "id": "24b1dbaf"
   },
   "outputs": [],
   "source": [
    "transformer = Transformer(\n",
    "    num_layers, d_model, num_heads, dff,\n",
    "    input_vocab_size, target_vocab_size, \n",
    "    pe_input=input_vocab_size,\n",
    "    pe_target=target_vocab_size,\n",
    "    rate=dropout_rate\n",
    ")"
   ]
  },
  {
   "cell_type": "markdown",
   "id": "300d2f86",
   "metadata": {
    "id": "300d2f86"
   },
   "source": [
    "### Checkpointing"
   ]
  },
  {
   "cell_type": "code",
   "execution_count": 40,
   "id": "c8b62756",
   "metadata": {
    "executionInfo": {
     "elapsed": 6,
     "status": "ok",
     "timestamp": 1622545093285,
     "user": {
      "displayName": "Alexey Tankov",
      "photoUrl": "",
      "userId": "01729535101672247421"
     },
     "user_tz": -180
    },
    "id": "c8b62756"
   },
   "outputs": [],
   "source": [
    "# checkpoint_path = './checkpoints/train'\n",
    "checkpoint_path = './checkpoint'\n",
    "\n",
    "ckpt = tf.train.Checkpoint(\n",
    "    transformer=transformer,\n",
    "    optimizer=optimizer\n",
    ")\n",
    "ckpt_manager = tf.train.CheckpointManager(ckpt, checkpoint_path, max_to_keep=3)\n",
    "\n",
    "if ckpt_manager.latest_checkpoint:\n",
    "    ckpt.restore(ckpt_manager.latest_checkpoint)\n",
    "    print ('Latest checkpoint restored!!')"
   ]
  },
  {
   "cell_type": "markdown",
   "id": "74fb2582",
   "metadata": {
    "id": "74fb2582"
   },
   "source": [
    "### Training"
   ]
  },
  {
   "cell_type": "code",
   "execution_count": 41,
   "id": "af5a3902",
   "metadata": {
    "executionInfo": {
     "elapsed": 229,
     "status": "ok",
     "timestamp": 1622543355369,
     "user": {
      "displayName": "Alexey Tankov",
      "photoUrl": "",
      "userId": "01729535101672247421"
     },
     "user_tz": -180
    },
    "id": "af5a3902"
   },
   "outputs": [],
   "source": [
    "# train_step_signature = [\n",
    "#     tf.TensorSpec(shape=(None, None), dtype=tf.int64),\n",
    "#     tf.TensorSpec(shape=(None, None), dtype=tf.int64)\n",
    "# ]\n",
    "\n",
    "# @tf.function(input_signature=train_step_signature)\n",
    "def train_step(inp, tar):\n",
    "    tar_inp = tar[:, :-1]\n",
    "    tar_real = tar[:, 1:]\n",
    "    \n",
    "    enc_padding_mask, combine_mask, dec_padding_mask = create_masks(inp, tar_inp)\n",
    "\n",
    "    with tf.GradientTape() as tape:\n",
    "        pred, _ = transformer(\n",
    "            inp, tar_inp, True,\n",
    "            enc_padding_mask,\n",
    "            combine_mask,\n",
    "            dec_padding_mask\n",
    "        )\n",
    "        loss = loss_function(tar_real, pred)\n",
    "        \n",
    "    grad = tape.gradient(loss, transformer.trainable_variables)\n",
    "    optimizer.apply_gradients(zip(grad, transformer.trainable_variables))\n",
    "    \n",
    "    train_loss(loss)\n",
    "    train_accuracy(accuracy_function(tar_real, pred))"
   ]
  },
  {
   "cell_type": "code",
   "execution_count": 43,
   "id": "e136e635",
   "metadata": {
    "colab": {
     "base_uri": "https://localhost:8080/"
    },
    "executionInfo": {
     "elapsed": 1632615,
     "status": "ok",
     "timestamp": 1622553572048,
     "user": {
      "displayName": "Alexey Tankov",
      "photoUrl": "",
      "userId": "01729535101672247421"
     },
     "user_tz": -180
    },
    "id": "e136e635",
    "outputId": "3b1424df-0c3b-4728-a727-cd1354924946"
   },
   "outputs": [],
   "source": [
    "# EPOCHS = 5\n",
    "# training = True\n",
    "\n",
    "# if training:\n",
    "#     for epoch in range(EPOCHS):\n",
    "#         start = time.time()\n",
    "\n",
    "#         train_loss.reset_states()\n",
    "#         train_accuracy.reset_states()\n",
    "\n",
    "#         for batch, (inp, tar) in enumerate(dataset):\n",
    "#             train_step(inp, tar)\n",
    "        \n",
    "#         print (f'Epoch {epoch + 1} Loss {train_loss.result():.4f} Accuracy {train_accuracy.result():.4f}')\n",
    "#         print (f'Time taken for 1 epoch: {round(time.time() - start)} secs')\n",
    "#         ckpt_manager.save()\n",
    "#         print (f'Saving checkpoint for epoch {epoch + 1}\\n')"
   ]
  },
  {
   "cell_type": "markdown",
   "id": "1720fdbf",
   "metadata": {
    "id": "1720fdbf"
   },
   "source": [
    "### Evaluate"
   ]
  },
  {
   "cell_type": "code",
   "execution_count": 56,
   "id": "0821005f",
   "metadata": {
    "executionInfo": {
     "elapsed": 803,
     "status": "ok",
     "timestamp": 1622529428626,
     "user": {
      "displayName": "Alexey Tankov",
      "photoUrl": "",
      "userId": "01729535101672247421"
     },
     "user_tz": -180
    },
    "id": "0821005f"
   },
   "outputs": [],
   "source": [
    "def evaluate(inp_sentence):\n",
    "    start_token = [tokenizer_en.vocab_size]\n",
    "    end_token = [tokenizer_en.vocab_size + 1]\n",
    "    \n",
    "    inp_sentence = start_token + tokenizer_en.encode(inp_sentence) + end_token\n",
    "    encoder_input = tf.expand_dims(inp_sentence, 0)\n",
    "\n",
    "    decoder_input = [tokenizer_en.vocab_size]\n",
    "    output = tf.expand_dims(decoder_input, 0)\n",
    "\n",
    "    for i in range(MAX_LEN):\n",
    "        enc_padding_mask, combined_mask, dec_padding_mask = create_masks(encoder_input, output)\n",
    "\n",
    "        predictions, attention_weights = transformer(\n",
    "            encoder_input, output, False,\n",
    "            enc_padding_mask, combined_mask, dec_padding_mask\n",
    "        )\n",
    "        predictions = predictions[:, -1:, :]\n",
    "        predicted_id = tf.cast(tf.argmax(predictions, axis=-1), tf.int32)\n",
    "\n",
    "        if predicted_id == tokenizer_en.vocab_size+1:\n",
    "            return tf.squeeze(output, axis=0), attention_weights\n",
    "\n",
    "        output = tf.concat([output, predicted_id], axis=-1)\n",
    "\n",
    "    return tf.squeeze(output, axis=0), attention_weights"
   ]
  },
  {
   "cell_type": "code",
   "execution_count": 66,
   "id": "80d43cc6",
   "metadata": {
    "executionInfo": {
     "elapsed": 672,
     "status": "ok",
     "timestamp": 1622533061903,
     "user": {
      "displayName": "Alexey Tankov",
      "photoUrl": "",
      "userId": "01729535101672247421"
     },
     "user_tz": -180
    },
    "id": "80d43cc6"
   },
   "outputs": [],
   "source": [
    "def text_generator(sentence):\n",
    "    result, attention_weights = evaluate(sentence)\n",
    "    predicted_sentence = tokenizer_en.decode([i for i in result if i < tokenizer_en.vocab_size - 1])\n",
    "    \n",
    "    print(f'Input: {sentence}')\n",
    "    # print(f'Predicted message: {predicted_sentence}')\n",
    "    return predicted_sentence"
   ]
  },
  {
   "cell_type": "code",
   "execution_count": 108,
   "id": "f2afb7b1",
   "metadata": {
    "colab": {
     "base_uri": "https://localhost:8080/",
     "height": 52
    },
    "executionInfo": {
     "elapsed": 4532,
     "status": "ok",
     "timestamp": 1622553589673,
     "user": {
      "displayName": "Alexey Tankov",
      "photoUrl": "",
      "userId": "01729535101672247421"
     },
     "user_tz": -180
    },
    "id": "f2afb7b1",
    "outputId": "8993d0c8-1a15-450d-91f9-be0ff7e83fb5"
   },
   "outputs": [
    {
     "name": "stdout",
     "output_type": "stream",
     "text": [
      "Input: Что такое ЭБУ?\n"
     ]
    },
    {
     "data": {
      "application/vnd.google.colaboratory.intrinsic+json": {
       "type": "string"
      },
      "text/plain": [
       "' какой нительно.   Если не найдешь там точно лицензия ензиров на какой сайт. Только на чем, то только там.   забирает инфу. А ты придур'"
      ]
     },
     "execution_count": 108,
     "metadata": {
      "tags": []
     },
     "output_type": "execute_result"
    }
   ],
   "source": [
    "text_generator('Что такое ЭБУ?')"
   ]
  },
  {
   "cell_type": "code",
   "execution_count": 109,
   "id": "188c0898",
   "metadata": {
    "colab": {
     "base_uri": "https://localhost:8080/",
     "height": 52
    },
    "executionInfo": {
     "elapsed": 4273,
     "status": "ok",
     "timestamp": 1622553593939,
     "user": {
      "displayName": "Alexey Tankov",
      "photoUrl": "",
      "userId": "01729535101672247421"
     },
     "user_tz": -180
    },
    "id": "188c0898",
    "outputId": "35bad333-35ad-4423-ec91-c6b28b888e59"
   },
   "outputs": [
    {
     "name": "stdout",
     "output_type": "stream",
     "text": [
      "Input: Чем заняться?\n"
     ]
    },
    {
     "data": {
      "application/vnd.google.colaboratory.intrinsic+json": {
       "type": "string"
      },
      "text/plain": [
       "'.   Лохотрон.   чтобы открыто в Баране.   не дурачок.   нет.что удется.   Ильяк нам.   Убери ммм. Франция Хитк. '"
      ]
     },
     "execution_count": 109,
     "metadata": {
      "tags": []
     },
     "output_type": "execute_result"
    }
   ],
   "source": [
    "text_generator('Чем заняться?')"
   ]
  },
  {
   "cell_type": "code",
   "execution_count": 110,
   "id": "bOtl1vRtKH7z",
   "metadata": {
    "colab": {
     "base_uri": "https://localhost:8080/",
     "height": 52
    },
    "executionInfo": {
     "elapsed": 4331,
     "status": "ok",
     "timestamp": 1622553598252,
     "user": {
      "displayName": "Alexey Tankov",
      "photoUrl": "",
      "userId": "01729535101672247421"
     },
     "user_tz": -180
    },
    "id": "bOtl1vRtKH7z",
    "outputId": "3736247f-be69-434d-e4d7-22455063a926"
   },
   "outputs": [
    {
     "name": "stdout",
     "output_type": "stream",
     "text": [
      "Input: Что приготовить?\n"
     ]
    },
    {
     "data": {
      "application/vnd.google.colaboratory.intrinsic+json": {
       "type": "string"
      },
      "text/plain": [
       "'всего не скажешь, а выйти из клубником, снеживайте в клубником, ветренный слой и во сне больше шампанское.   обопасник. '"
      ]
     },
     "execution_count": 110,
     "metadata": {
      "tags": []
     },
     "output_type": "execute_result"
    }
   ],
   "source": [
    "text_generator('Что приготовить?')"
   ]
  },
  {
   "cell_type": "code",
   "execution_count": 111,
   "id": "FbBrodlRKVsL",
   "metadata": {
    "colab": {
     "base_uri": "https://localhost:8080/",
     "height": 52
    },
    "executionInfo": {
     "elapsed": 4258,
     "status": "ok",
     "timestamp": 1622553602499,
     "user": {
      "displayName": "Alexey Tankov",
      "photoUrl": "",
      "userId": "01729535101672247421"
     },
     "user_tz": -180
    },
    "id": "FbBrodlRKVsL",
    "outputId": "43864b41-8908-406b-a9ba-c9b3ad1e49d5"
   },
   "outputs": [
    {
     "name": "stdout",
     "output_type": "stream",
     "text": [
      "Input: Одиноки ли мы во Вселенной?\n"
     ]
    },
    {
     "data": {
      "application/vnd.google.colaboratory.intrinsic+json": {
       "type": "string"
      },
      "text/plain": [
       "'чем выше каблук и тем задолять нивающимся.   Ну а вот так жется в фектоже. снова укатилось спокойно ведь дикадут вдохоту. '"
      ]
     },
     "execution_count": 111,
     "metadata": {
      "tags": []
     },
     "output_type": "execute_result"
    }
   ],
   "source": [
    "text_generator('Одиноки ли мы во Вселенной?')"
   ]
  },
  {
   "cell_type": "code",
   "execution_count": 112,
   "id": "vwgRgF2-NPmx",
   "metadata": {
    "colab": {
     "base_uri": "https://localhost:8080/",
     "height": 52
    },
    "executionInfo": {
     "elapsed": 4535,
     "status": "ok",
     "timestamp": 1622553607026,
     "user": {
      "displayName": "Alexey Tankov",
      "photoUrl": "",
      "userId": "01729535101672247421"
     },
     "user_tz": -180
    },
    "id": "vwgRgF2-NPmx",
    "outputId": "9e8274a9-574b-43f5-ad5e-8cfd41e91928"
   },
   "outputs": [
    {
     "name": "stdout",
     "output_type": "stream",
     "text": [
      "Input: Что посмотреть?\n"
     ]
    },
    {
     "data": {
      "application/vnd.google.colaboratory.intrinsic+json": {
       "type": "string"
      },
      "text/plain": [
       "'         Ссылки     Тардый человеке на русском языке. Википедия - Колец, которые исполняете на котором скачать   Поздравляющий вид Виморе. '"
      ]
     },
     "execution_count": 112,
     "metadata": {
      "tags": []
     },
     "output_type": "execute_result"
    }
   ],
   "source": [
    "text_generator('Что посмотреть?')"
   ]
  },
  {
   "cell_type": "markdown",
   "id": "J0A33pg3Cy3v",
   "metadata": {
    "id": "J0A33pg3Cy3v"
   },
   "source": [
    "### python-telegram-bot"
   ]
  },
  {
   "cell_type": "code",
   "execution_count": 114,
   "id": "8e2ecdaf",
   "metadata": {
    "executionInfo": {
     "elapsed": 4,
     "status": "ok",
     "timestamp": 1622553732037,
     "user": {
      "displayName": "Alexey Tankov",
      "photoUrl": "",
      "userId": "01729535101672247421"
     },
     "user_tz": -180
    },
    "id": "8e2ecdaf"
   },
   "outputs": [],
   "source": [
    "updater = Updater(token='')\n",
    "dispatcher = updater.dispatcher"
   ]
  },
  {
   "cell_type": "code",
   "execution_count": 117,
   "id": "b12b29cf",
   "metadata": {
    "executionInfo": {
     "elapsed": 254,
     "status": "ok",
     "timestamp": 1622553889576,
     "user": {
      "displayName": "Alexey Tankov",
      "photoUrl": "",
      "userId": "01729535101672247421"
     },
     "user_tz": -180
    },
    "id": "b12b29cf"
   },
   "outputs": [],
   "source": [
    "def answer(update, context):\n",
    "    context.bot.send_message(chat_id=update.effective_chat.id, text=text_generator(update.message.text))\n",
    "    \n",
    "answer_handler = MessageHandler(Filters.text, answer)\n",
    "dispatcher.add_handler(answer_handler)"
   ]
  },
  {
   "cell_type": "code",
   "execution_count": 118,
   "id": "08da6a6c",
   "metadata": {
    "colab": {
     "base_uri": "https://localhost:8080/"
    },
    "executionInfo": {
     "elapsed": 872,
     "status": "ok",
     "timestamp": 1622553893469,
     "user": {
      "displayName": "Alexey Tankov",
      "photoUrl": "",
      "userId": "01729535101672247421"
     },
     "user_tz": -180
    },
    "id": "08da6a6c",
    "outputId": "c123e4d5-b23a-4c7e-edb5-59fad975a338"
   },
   "outputs": [
    {
     "name": "stdout",
     "output_type": "stream",
     "text": [
      "@MyPersonalAssistanBot - online\n"
     ]
    }
   ],
   "source": [
    "chat = True\n",
    "\n",
    "if chat:\n",
    "    updater.start_polling()\n",
    "    print('@MyPersonalAssistanBot - online')\n",
    "else:\n",
    "    updater.stop()\n",
    "    print('@MyPersonalAssistanBot - offline')"
   ]
  },
  {
   "cell_type": "code",
   "execution_count": null,
   "id": "18mjnNHPv5UN",
   "metadata": {
    "id": "18mjnNHPv5UN"
   },
   "outputs": [],
   "source": []
  }
 ],
 "metadata": {
  "accelerator": "GPU",
  "colab": {
   "collapsed_sections": [],
   "name": "transformer.ipynb",
   "provenance": [],
   "toc_visible": true
  },
  "kernelspec": {
   "display_name": "Python 3",
   "language": "python",
   "name": "python3"
  },
  "language_info": {
   "codemirror_mode": {
    "name": "ipython",
    "version": 3
   },
   "file_extension": ".py",
   "mimetype": "text/x-python",
   "name": "python",
   "nbconvert_exporter": "python",
   "pygments_lexer": "ipython3",
   "version": "3.7.10"
  }
 },
 "nbformat": 4,
 "nbformat_minor": 5
}
