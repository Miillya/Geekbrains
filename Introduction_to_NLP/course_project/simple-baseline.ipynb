{
 "cells": [
  {
   "cell_type": "markdown",
   "id": "dried-louisville",
   "metadata": {
    "id": "dried-louisville"
   },
   "source": [
    "### Setup libraries"
   ]
  },
  {
   "cell_type": "code",
   "execution_count": 5,
   "id": "ortbQg9AP2m4",
   "metadata": {
    "executionInfo": {
     "elapsed": 7,
     "status": "ok",
     "timestamp": 1622545033585,
     "user": {
      "displayName": "Alexey Tankov",
      "photoUrl": "",
      "userId": "01729535101672247421"
     },
     "user_tz": -180
    },
    "id": "ortbQg9AP2m4"
   },
   "outputs": [],
   "source": [
    "# pip install annoy # conda install -c conda-forge python-annoy\n",
    "# pip install compress_fasttext\n",
    "# pip install python-telegram-bot --upgrade\n",
    "# pip install pymorphy2\n",
    "# pip install stop_words"
   ]
  },
  {
   "cell_type": "markdown",
   "id": "unsigned-court",
   "metadata": {
    "id": "unsigned-court"
   },
   "source": [
    "### Import libraries"
   ]
  },
  {
   "cell_type": "code",
   "execution_count": 1,
   "id": "phantom-guatemala",
   "metadata": {
    "colab": {
     "base_uri": "https://localhost:8080/",
     "height": 17
    },
    "executionInfo": {
     "elapsed": 361,
     "status": "ok",
     "timestamp": 1622525729242,
     "user": {
      "displayName": "Alexey Tankov",
      "photoUrl": "",
      "userId": "01729535101672247421"
     },
     "user_tz": -180
    },
    "id": "phantom-guatemala",
    "outputId": "6835eab2-4f98-4be9-f392-4f3c89f72758"
   },
   "outputs": [
    {
     "data": {
      "text/html": [
       "<style>.container { width:72.5% !important; }</style>"
      ],
      "text/plain": [
       "<IPython.core.display.HTML object>"
      ]
     },
     "metadata": {},
     "output_type": "display_data"
    }
   ],
   "source": [
    "from IPython.core.display import display, HTML\n",
    "display(HTML(\"<style>.container { width:72.5% !important; }</style>\"))"
   ]
  },
  {
   "cell_type": "code",
   "execution_count": 2,
   "id": "cordless-colorado",
   "metadata": {
    "executionInfo": {
     "elapsed": 491,
     "status": "ok",
     "timestamp": 1622553883158,
     "user": {
      "displayName": "Alexey Tankov",
      "photoUrl": "",
      "userId": "01729535101672247421"
     },
     "user_tz": -180
    },
    "id": "cordless-colorado"
   },
   "outputs": [],
   "source": [
    "import numpy as np\n",
    "import pandas as pd\n",
    "\n",
    "import io\n",
    "import re\n",
    "import time\n",
    "import unicodedata\n",
    "from pathlib import Path\n",
    "from linecache import getline\n",
    "from tqdm.notebook import tqdm\n",
    "\n",
    "import annoy\n",
    "import string\n",
    "from pymorphy2 import MorphAnalyzer\n",
    "from stop_words import get_stop_words\n",
    "import compress_fasttext\n",
    "from gensim.models import FastText, KeyedVectors\n",
    "from gensim.models.fasttext import FastTextKeyedVectors\n",
    "\n",
    "\n",
    "from telegram.ext import Updater, CommandHandler, MessageHandler, Filters\n",
    "\n",
    "import matplotlib.pyplot as plt"
   ]
  },
  {
   "cell_type": "code",
   "execution_count": 3,
   "id": "a805da12",
   "metadata": {
    "executionInfo": {
     "elapsed": 16,
     "status": "ok",
     "timestamp": 1622525736681,
     "user": {
      "displayName": "Alexey Tankov",
      "photoUrl": "",
      "userId": "01729535101672247421"
     },
     "user_tz": -180
    },
    "id": "a805da12"
   },
   "outputs": [],
   "source": [
    "plt.rcParams.update({'font.size': 14})\n",
    "pd.set_option('precision', 3)\n",
    "pd.set_option('max_columns', 100)\n",
    "pd.set_option('display.float_format', lambda x: '%.5f' % x)\n",
    "pd.set_option('display.max_columns', 500)\n",
    "pd.set_option('display.max_rows', 500)\n",
    "pd.set_option('max_colwidth', 300)"
   ]
  },
  {
   "cell_type": "code",
   "execution_count": 4,
   "id": "3185cda5",
   "metadata": {
    "colab": {
     "base_uri": "https://localhost:8080/"
    },
    "executionInfo": {
     "elapsed": 333,
     "status": "ok",
     "timestamp": 1622525742031,
     "user": {
      "displayName": "Alexey Tankov",
      "photoUrl": "",
      "userId": "01729535101672247421"
     },
     "user_tz": -180
    },
    "id": "3185cda5",
    "outputId": "928baa90-0e3e-4e09-9790-e6c9dc3f0abd"
   },
   "outputs": [],
   "source": [
    "# device_name = tf.test.gpu_device_name()\n",
    "# if device_name != '/device:GPU:0':\n",
    "#     raise SystemError('GPU device not found')\n",
    "# print('Found GPU at: {}'.format(device_name))"
   ]
  },
  {
   "cell_type": "markdown",
   "id": "9985f75f",
   "metadata": {
    "id": "9985f75f"
   },
   "source": [
    "### Paths to directories and files"
   ]
  },
  {
   "cell_type": "code",
   "execution_count": 5,
   "id": "0hJ1SN7Tw4lh",
   "metadata": {
    "colab": {
     "base_uri": "https://localhost:8080/"
    },
    "executionInfo": {
     "elapsed": 26,
     "status": "ok",
     "timestamp": 1622525742032,
     "user": {
      "displayName": "Alexey Tankov",
      "photoUrl": "",
      "userId": "01729535101672247421"
     },
     "user_tz": -180
    },
    "id": "0hJ1SN7Tw4lh",
    "outputId": "efc609f2-86a0-4530-ee4f-aad8f41bbf94"
   },
   "outputs": [],
   "source": [
    "# from google.colab import drive\n",
    "# drive.mount('/content/gdrive')"
   ]
  },
  {
   "cell_type": "code",
   "execution_count": 6,
   "id": "530902aa",
   "metadata": {
    "executionInfo": {
     "elapsed": 22,
     "status": "ok",
     "timestamp": 1622525742033,
     "user": {
      "displayName": "Alexey Tankov",
      "photoUrl": "",
      "userId": "01729535101672247421"
     },
     "user_tz": -180
    },
    "id": "530902aa"
   },
   "outputs": [],
   "source": [
    "DRAFT_DATASET_PATH = 'E:/kaggle/mailru/Otvety.txt'\n",
    "# DRAFT_DATASET_PATH = '/content/gdrive/MyDrive/Colab Notebooks/my_projects/Otvety.txt'"
   ]
  },
  {
   "cell_type": "markdown",
   "id": "ec970111",
   "metadata": {
    "id": "ec970111"
   },
   "source": [
    "### Loading data"
   ]
  },
  {
   "cell_type": "code",
   "execution_count": 7,
   "id": "destroyed-limit",
   "metadata": {
    "executionInfo": {
     "elapsed": 62649,
     "status": "ok",
     "timestamp": 1622525804662,
     "user": {
      "displayName": "Alexey Tankov",
      "photoUrl": "",
      "userId": "01729535101672247421"
     },
     "user_tz": -180
    },
    "id": "destroyed-limit"
   },
   "outputs": [],
   "source": [
    "lines = io.open(DRAFT_DATASET_PATH, encoding='UTF-8').read()"
   ]
  },
  {
   "cell_type": "markdown",
   "id": "wicked-resistance",
   "metadata": {
    "id": "wicked-resistance"
   },
   "source": [
    "### Preprocessing data"
   ]
  },
  {
   "cell_type": "code",
   "execution_count": 8,
   "id": "11da6113",
   "metadata": {
    "executionInfo": {
     "elapsed": 230,
     "status": "ok",
     "timestamp": 1622525816546,
     "user": {
      "displayName": "Alexey Tankov",
      "photoUrl": "",
      "userId": "01729535101672247421"
     },
     "user_tz": -180
    },
    "id": "11da6113"
   },
   "outputs": [],
   "source": [
    "def preprocess_text(w):\n",
    "    w = re.sub(':\\)', '', w)\n",
    "    w = re.sub('[)\"]', '', w)\n",
    "    w = re.sub('<[^>]+>', ' ', w)\n",
    "    \n",
    "    w = re.sub('\\s*\\?\\s*\\.', '?', w)\n",
    "    w = re.sub('\\s*\\!\\s*\\.', '!', w)\n",
    "    w = re.sub('\\s*\\.', '.', w)\n",
    "    w = re.sub('\\.+', '.', w)\n",
    "    \n",
    "    w = re.sub('---', 'QUESTION', w)\n",
    "    \n",
    "    return w"
   ]
  },
  {
   "cell_type": "code",
   "execution_count": 9,
   "id": "28c5686a",
   "metadata": {
    "colab": {
     "base_uri": "https://localhost:8080/"
    },
    "executionInfo": {
     "elapsed": 261,
     "status": "ok",
     "timestamp": 1622525820285,
     "user": {
      "displayName": "Alexey Tankov",
      "photoUrl": "",
      "userId": "01729535101672247421"
     },
     "user_tz": -180
    },
    "id": "28c5686a",
    "outputId": "522599cd-51f4-4b67-e2ba-6345bd45b91a"
   },
   "outputs": [
    {
     "name": "stdout",
     "output_type": "stream",
     "text": [
      "1072593541\n"
     ]
    }
   ],
   "source": [
    "# print(type(lines))\n",
    "print(len(lines))"
   ]
  },
  {
   "cell_type": "code",
   "execution_count": 10,
   "id": "e4589fc1",
   "metadata": {
    "colab": {
     "base_uri": "https://localhost:8080/"
    },
    "executionInfo": {
     "elapsed": 1920,
     "status": "ok",
     "timestamp": 1622525823178,
     "user": {
      "displayName": "Alexey Tankov",
      "photoUrl": "",
      "userId": "01729535101672247421"
     },
     "user_tz": -180
    },
    "id": "e4589fc1",
    "outputId": "76c39d53-63a0-4b41-f591-15610b1ef13c"
   },
   "outputs": [
    {
     "name": "stdout",
     "output_type": "stream",
     "text": [
      "\n",
      "QUESTION\n",
      "вопрос о ТДВ давно и хорошо отдыхаем ЛИЧНО ВАМ здесь кого советовали завести? \n",
      "хомячка. \n",
      "мужика, йопаря, собачку и 50 кошек. \n",
      "Общение! \n",
      "паучка. \n",
      "Да пол мне бы памыть! А таг то ни чо. Типа ни каво! \n",
      "я тут вообще что бы пообщаться. \n",
      "А мне советовали сиси завести. \n",
      "Ну, слава богу, мужика завести ещё не советовали А вот сватать к кому только не сватали. \n",
      "мне тут советовали завести любовника, мужа и много кошек  приветик. \n",
      "QUESTION\n",
      "Как парни относятся к цветным линзам? Если у девушки то зеленые глаза, то голубые. \n",
      "меня вобще прикалывает эта тема. \n",
      "когда этобыло редкость - было забавно, а когда все знают, что эта фальшивка, то уже не прикольно, как силиконовые сиськи или как налепленные синтетические волосы. \n",
      "QUESTION\n",
      "Что делать, сегодня нашёл 2 миллиона рублей? \n",
      "Если это счастье  действительно на вас свалилось, лучше пойти в милицию и заявить о находке. Такие деньги просто так не терют, а что самое интересное их неприменно будут искать и поверьте мне найдут, видел подобное в жизни\n"
     ]
    }
   ],
   "source": [
    "NUM_EXAMPLES = 7777777\n",
    "text = preprocess_text(str(lines[:NUM_EXAMPLES]))\n",
    "print(text[:1000])"
   ]
  },
  {
   "cell_type": "code",
   "execution_count": 11,
   "id": "based-forward",
   "metadata": {},
   "outputs": [
    {
     "name": "stdout",
     "output_type": "stream",
     "text": [
      "7540254\n"
     ]
    }
   ],
   "source": [
    "print(len(text))"
   ]
  },
  {
   "cell_type": "code",
   "execution_count": 12,
   "id": "a1684fbb",
   "metadata": {},
   "outputs": [],
   "source": [
    "morpher = MorphAnalyzer()\n",
    "sw = set(get_stop_words('ru'))"
   ]
  },
  {
   "cell_type": "code",
   "execution_count": 13,
   "id": "little-builder",
   "metadata": {
    "executionInfo": {
     "elapsed": 225,
     "status": "ok",
     "timestamp": 1622525825160,
     "user": {
      "displayName": "Alexey Tankov",
      "photoUrl": "",
      "userId": "01729535101672247421"
     },
     "user_tz": -180
    },
    "id": "little-builder"
   },
   "outputs": [],
   "source": [
    "def split_by_sentence(sent):\n",
    "    sent = text.split('\\nQUESTION\\n')[1:]\n",
    "    \n",
    "    questions = []\n",
    "    contexts = []\n",
    "\n",
    "    for se in sent:\n",
    "        se = se.split('\\n')\n",
    "#         se = [i for i in se if (i not in string.punctuation)]\n",
    "        se = [morpher.parse(i.lower())[0].normal_form for i in se]\n",
    "#         se = [i for i in se if i not in sw and i != '']\n",
    "\n",
    "        questions.append(se[0].strip())\n",
    "        contexts.append(' '.join([f' {s}' for s in se[1:]]))\n",
    "    \n",
    "    return questions, contexts"
   ]
  },
  {
   "cell_type": "code",
   "execution_count": 14,
   "id": "handed-perception",
   "metadata": {
    "colab": {
     "base_uri": "https://localhost:8080/"
    },
    "executionInfo": {
     "elapsed": 393,
     "status": "ok",
     "timestamp": 1622525827913,
     "user": {
      "displayName": "Alexey Tankov",
      "photoUrl": "",
      "userId": "01729535101672247421"
     },
     "user_tz": -180
    },
    "id": "handed-perception",
    "outputId": "6eb484e0-bc27-4683-9e56-8731e139183f"
   },
   "outputs": [
    {
     "data": {
      "text/plain": [
       "('вопрос о тдв давно и хорошо отдыхаем лично вам здесь кого советовали завести?',\n",
       " ' хомячка.   мужика, йопаря, собачку и 50 кошек.   общение!   паучка.   да пол мне бы памыть! а таг то ни чо. типа ни каво!   я тут вообще что бы пообщаться.   а мне советовали сиси завести.   ну, слава богу, мужика завести ещё не советовали а вот сватать к кому только не сватали.   мне тут советовали завести любовника, мужа и много кошек  приветик. ')"
      ]
     },
     "execution_count": 14,
     "metadata": {},
     "output_type": "execute_result"
    }
   ],
   "source": [
    "questions, contexts = split_by_sentence(text)\n",
    "questions[0], contexts[0]"
   ]
  },
  {
   "cell_type": "code",
   "execution_count": 15,
   "id": "e0a3509e",
   "metadata": {},
   "outputs": [
    {
     "name": "stdout",
     "output_type": "stream",
     "text": [
      "102\n",
      "2694\n"
     ]
    },
    {
     "data": {
      "text/plain": [
       "(None, None)"
      ]
     },
     "execution_count": 15,
     "metadata": {},
     "output_type": "execute_result"
    }
   ],
   "source": [
    "print(len(questions[-1])), print(len(contexts[-1]))"
   ]
  },
  {
   "cell_type": "code",
   "execution_count": 47,
   "id": "6c15ca0a",
   "metadata": {
    "executionInfo": {
     "elapsed": 4,
     "status": "ok",
     "timestamp": 1622525828840,
     "user": {
      "displayName": "Alexey Tankov",
      "photoUrl": "",
      "userId": "01729535101672247421"
     },
     "user_tz": -180
    },
    "id": "6c15ca0a"
   },
   "outputs": [],
   "source": [
    "df = pd.DataFrame({'questions':questions, 'contexts':contexts})"
   ]
  },
  {
   "cell_type": "code",
   "execution_count": 48,
   "id": "135ae8df",
   "metadata": {},
   "outputs": [
    {
     "data": {
      "text/plain": [
       "questions    0\n",
       "contexts     0\n",
       "dtype: int64"
      ]
     },
     "execution_count": 48,
     "metadata": {},
     "output_type": "execute_result"
    }
   ],
   "source": [
    "df.isnull().sum()"
   ]
  },
  {
   "cell_type": "code",
   "execution_count": 49,
   "id": "254e329c",
   "metadata": {
    "executionInfo": {
     "elapsed": 2,
     "status": "ok",
     "timestamp": 1622525829223,
     "user": {
      "displayName": "Alexey Tankov",
      "photoUrl": "",
      "userId": "01729535101672247421"
     },
     "user_tz": -180
    },
    "id": "254e329c"
   },
   "outputs": [
    {
     "data": {
      "text/html": [
       "<div>\n",
       "<style scoped>\n",
       "    .dataframe tbody tr th:only-of-type {\n",
       "        vertical-align: middle;\n",
       "    }\n",
       "\n",
       "    .dataframe tbody tr th {\n",
       "        vertical-align: top;\n",
       "    }\n",
       "\n",
       "    .dataframe thead th {\n",
       "        text-align: right;\n",
       "    }\n",
       "</style>\n",
       "<table border=\"1\" class=\"dataframe\">\n",
       "  <thead>\n",
       "    <tr style=\"text-align: right;\">\n",
       "      <th></th>\n",
       "      <th>questions</th>\n",
       "      <th>contexts</th>\n",
       "    </tr>\n",
       "  </thead>\n",
       "  <tbody>\n",
       "    <tr>\n",
       "      <th>0</th>\n",
       "      <td>вопрос о тдв давно и хорошо отдыхаем лично вам здесь кого советовали завести?</td>\n",
       "      <td>хомячка.   мужика, йопаря, собачку и 50 кошек.   общение!   паучка.   да пол мне бы памыть! а таг то ни чо. типа ни каво!   я тут вообще что бы пообщаться.   а мне советовали сиси завести.   ну, слава богу, мужика завести ещё не советовали а вот сватать к кому только не сватали.   мне тут совет...</td>\n",
       "    </tr>\n",
       "    <tr>\n",
       "      <th>1</th>\n",
       "      <td>как парни относятся к цветным линзам? если у девушки то зеленые глаза, то голубые.</td>\n",
       "      <td>меня вобще прикалывает эта тема.   когда этобыло редкость - было забавно, а когда все знают, что эта фальшивка, то уже не прикольно, как силиконовые сиськи или как налепленные синтетические волосы.</td>\n",
       "    </tr>\n",
       "    <tr>\n",
       "      <th>2</th>\n",
       "      <td>что делать, сегодня нашёл 2 миллиона рублей?</td>\n",
       "      <td>если это счастье  действительно на вас свалилось, лучше пойти в милицию и заявить о находке. такие деньги просто так не терют, а что самое интересное их неприменно будут искать и поверьте мне найдут, видел подобное в жизни. можно нарваться на бабушку конечно, которая хотела помоч внуку с покупк...</td>\n",
       "    </tr>\n",
       "    <tr>\n",
       "      <th>3</th>\n",
       "      <td>эбу в двенашке называется итэлма что за эбу?</td>\n",
       "      <td>эбу — электронный блок управления двигателем автомобиля, его другое название — контроллер. он принимает информацию от многочисленных датчиков, обрабатывает ее по особым алгоритмам и, отталкиваясь от полученных данных, отдает команды исполнительным устройствам системы.   это завод. а эбу может и...</td>\n",
       "    </tr>\n",
       "    <tr>\n",
       "      <th>4</th>\n",
       "      <td>академия вампиров. сколько на даный момент частей книги академия вампиров?</td>\n",
       "      <td>4. охотники и жертвы, ледяной укус, поцелуй тьмы, кровная клятва.   на данное время их 6. часть 5- оковы для призрака (духовная связь часть 6-последняя жертва.</td>\n",
       "    </tr>\n",
       "  </tbody>\n",
       "</table>\n",
       "</div>"
      ],
      "text/plain": [
       "                                                                            questions  \\\n",
       "0       вопрос о тдв давно и хорошо отдыхаем лично вам здесь кого советовали завести?   \n",
       "1  как парни относятся к цветным линзам? если у девушки то зеленые глаза, то голубые.   \n",
       "2                                        что делать, сегодня нашёл 2 миллиона рублей?   \n",
       "3                                        эбу в двенашке называется итэлма что за эбу?   \n",
       "4          академия вампиров. сколько на даный момент частей книги академия вампиров?   \n",
       "\n",
       "                                                                                                                                                                                                                                                                                                      contexts  \n",
       "0   хомячка.   мужика, йопаря, собачку и 50 кошек.   общение!   паучка.   да пол мне бы памыть! а таг то ни чо. типа ни каво!   я тут вообще что бы пообщаться.   а мне советовали сиси завести.   ну, слава богу, мужика завести ещё не советовали а вот сватать к кому только не сватали.   мне тут совет...  \n",
       "1                                                                                                       меня вобще прикалывает эта тема.   когда этобыло редкость - было забавно, а когда все знают, что эта фальшивка, то уже не прикольно, как силиконовые сиськи или как налепленные синтетические волосы.   \n",
       "2   если это счастье  действительно на вас свалилось, лучше пойти в милицию и заявить о находке. такие деньги просто так не терют, а что самое интересное их неприменно будут искать и поверьте мне найдут, видел подобное в жизни. можно нарваться на бабушку конечно, которая хотела помоч внуку с покупк...  \n",
       "3   эбу — электронный блок управления двигателем автомобиля, его другое название — контроллер. он принимает информацию от многочисленных датчиков, обрабатывает ее по особым алгоритмам и, отталкиваясь от полученных данных, отдает команды исполнительным устройствам системы.   это завод. а эбу может и...  \n",
       "4                                                                                                                                             4. охотники и жертвы, ледяной укус, поцелуй тьмы, кровная клятва.   на данное время их 6. часть 5- оковы для призрака (духовная связь часть 6-последняя жертва.   "
      ]
     },
     "execution_count": 49,
     "metadata": {},
     "output_type": "execute_result"
    }
   ],
   "source": [
    "df.head()"
   ]
  },
  {
   "cell_type": "markdown",
   "id": "a4b00234",
   "metadata": {
    "id": "a4b00234"
   },
   "source": [
    "### simple-baseline"
   ]
  },
  {
   "cell_type": "code",
   "execution_count": 50,
   "id": "former-bedroom",
   "metadata": {},
   "outputs": [],
   "source": [
    "def normalize_answer(text):\n",
    "    \"\"\"Lower text and remove punctuation and extra whitespace.\"\"\"\n",
    "    return ' '.join(re.findall(r\"\\w+\", text)).lower()"
   ]
  },
  {
   "cell_type": "code",
   "execution_count": 51,
   "id": "74b90699",
   "metadata": {
    "executionInfo": {
     "elapsed": 240,
     "status": "ok",
     "timestamp": 1622525831559,
     "user": {
      "displayName": "Alexey Tankov",
      "photoUrl": "",
      "userId": "01729535101672247421"
     },
     "user_tz": -180
    },
    "id": "74b90699"
   },
   "outputs": [],
   "source": [
    "def sentence_to_word(sentences):\n",
    "    sentences_in_words = list()\n",
    "    for sentence in sentences:\n",
    "        sentences_in_words.append(normalize_answer(sentence).split())\n",
    "    return sentences_in_words"
   ]
  },
  {
   "cell_type": "code",
   "execution_count": 52,
   "id": "bf2250a1",
   "metadata": {},
   "outputs": [],
   "source": [
    "def text_to_sentence(text):\n",
    "    sentences = text.split(\".\")\n",
    "    return [s.strip() for s in sentences if s.strip() != '']"
   ]
  },
  {
   "cell_type": "code",
   "execution_count": 68,
   "id": "c7366834",
   "metadata": {},
   "outputs": [],
   "source": [
    "def get_max_match_sentance(data_row, input_question):\n",
    "    sentences = text_to_sentence(data_row[\"contexts\"])\n",
    "    sentences_in_words = sentence_to_word(sentences)\n",
    "    question_in_words = sentence_to_word([data_row[\"questions\"]])[0]\n",
    "\n",
    "    max_overlap = None\n",
    "    max_match_sentance_id = None\n",
    "\n",
    "    question_words = set(question_in_words)\n",
    "    for sentance_id in range(len(sentences_in_words)):\n",
    "        sentence_words = set(sentences_in_words[sentance_id])\n",
    "        overlap = len(sentence_words.intersection(question_words))\n",
    "        if max_overlap is None or overlap > max_overlap:\n",
    "            max_overlap = overlap\n",
    "            max_match_sentance_id = sentance_id\n",
    "\n",
    "        return sentences[max_match_sentance_id]"
   ]
  },
  {
   "cell_type": "code",
   "execution_count": 69,
   "id": "fb0a4907",
   "metadata": {},
   "outputs": [],
   "source": [
    "# def text_generator(sentence):\n",
    "#     result, attention_weights = evaluate(sentence)\n",
    "#     predicted_sentence = tokenizer_en.decode([i for i in result if i < tokenizer_en.vocab_size - 1])\n",
    "    \n",
    "#     print(f'Input: {sentence}')\n",
    "#     # print(f'Predicted message: {predicted_sentence}')\n",
    "#     return predicted_sentence"
   ]
  },
  {
   "cell_type": "code",
   "execution_count": 81,
   "id": "8232f48f",
   "metadata": {},
   "outputs": [],
   "source": [
    "def get_response(input_question):   \n",
    "    df['predictions'] = None\n",
    "    for data_ind in df.index.values:\n",
    "        predicted_sentence = get_max_match_sentance(df.loc[data_ind], input_question)\n",
    "        df.loc[data_ind,('predictions')] = predicted_sentence\n",
    "        \n",
    "        if input_question == predicted_sentence:\n",
    "            print(f'Input: {input_question}')\n",
    "            print(f'Predicted message: {predicted_sentence}')\n",
    "            return predicted_sentence\n",
    "            \n",
    "    \n",
    "#     print(f'Input: {input_question}')\n",
    "#     # print(f'Predicted message: {predicted_sentence}')\n",
    "#     return predicted_sentence"
   ]
  },
  {
   "cell_type": "code",
   "execution_count": 82,
   "id": "5d04ab0c",
   "metadata": {},
   "outputs": [],
   "source": [
    "get_response('плод добродетели.')"
   ]
  },
  {
   "cell_type": "code",
   "execution_count": 57,
   "id": "b1478f79",
   "metadata": {},
   "outputs": [],
   "source": [
    "# questions, contexts"
   ]
  },
  {
   "cell_type": "code",
   "execution_count": 58,
   "id": "6e69c2ec",
   "metadata": {},
   "outputs": [],
   "source": [
    "# question_in_words"
   ]
  },
  {
   "cell_type": "code",
   "execution_count": 59,
   "id": "6a2daf07",
   "metadata": {},
   "outputs": [],
   "source": [
    "# sentences_in_words"
   ]
  },
  {
   "cell_type": "code",
   "execution_count": 61,
   "id": "c6295d37",
   "metadata": {},
   "outputs": [],
   "source": [
    "df['predictions'] = None\n",
    "for data_ind in df.index.values:\n",
    "    full_sentance = get_max_match_sentance(df.loc[data_ind])\n",
    "    df.loc[data_ind,('predictions')] = full_sentance"
   ]
  },
  {
   "cell_type": "code",
   "execution_count": 83,
   "id": "4e90cd1c",
   "metadata": {},
   "outputs": [
    {
     "data": {
      "text/html": [
       "<div>\n",
       "<style scoped>\n",
       "    .dataframe tbody tr th:only-of-type {\n",
       "        vertical-align: middle;\n",
       "    }\n",
       "\n",
       "    .dataframe tbody tr th {\n",
       "        vertical-align: top;\n",
       "    }\n",
       "\n",
       "    .dataframe thead th {\n",
       "        text-align: right;\n",
       "    }\n",
       "</style>\n",
       "<table border=\"1\" class=\"dataframe\">\n",
       "  <thead>\n",
       "    <tr style=\"text-align: right;\">\n",
       "      <th></th>\n",
       "      <th>questions</th>\n",
       "      <th>contexts</th>\n",
       "      <th>predictions</th>\n",
       "    </tr>\n",
       "  </thead>\n",
       "  <tbody>\n",
       "    <tr>\n",
       "      <th>0</th>\n",
       "      <td>вопрос о тдв давно и хорошо отдыхаем лично вам здесь кого советовали завести?</td>\n",
       "      <td>хомячка.   мужика, йопаря, собачку и 50 кошек.   общение!   паучка.   да пол мне бы памыть! а таг то ни чо. типа ни каво!   я тут вообще что бы пообщаться.   а мне советовали сиси завести.   ну, слава богу, мужика завести ещё не советовали а вот сватать к кому только не сватали.   мне тут совет...</td>\n",
       "      <td>хомячка</td>\n",
       "    </tr>\n",
       "    <tr>\n",
       "      <th>1</th>\n",
       "      <td>как парни относятся к цветным линзам? если у девушки то зеленые глаза, то голубые.</td>\n",
       "      <td>меня вобще прикалывает эта тема.   когда этобыло редкость - было забавно, а когда все знают, что эта фальшивка, то уже не прикольно, как силиконовые сиськи или как налепленные синтетические волосы.</td>\n",
       "      <td>меня вобще прикалывает эта тема</td>\n",
       "    </tr>\n",
       "    <tr>\n",
       "      <th>2</th>\n",
       "      <td>что делать, сегодня нашёл 2 миллиона рублей?</td>\n",
       "      <td>если это счастье  действительно на вас свалилось, лучше пойти в милицию и заявить о находке. такие деньги просто так не терют, а что самое интересное их неприменно будут искать и поверьте мне найдут, видел подобное в жизни. можно нарваться на бабушку конечно, которая хотела помоч внуку с покупк...</td>\n",
       "      <td>если это счастье  действительно на вас свалилось, лучше пойти в милицию и заявить о находке</td>\n",
       "    </tr>\n",
       "    <tr>\n",
       "      <th>3</th>\n",
       "      <td>эбу в двенашке называется итэлма что за эбу?</td>\n",
       "      <td>эбу — электронный блок управления двигателем автомобиля, его другое название — контроллер. он принимает информацию от многочисленных датчиков, обрабатывает ее по особым алгоритмам и, отталкиваясь от полученных данных, отдает команды исполнительным устройствам системы.   это завод. а эбу может и...</td>\n",
       "      <td>эбу — электронный блок управления двигателем автомобиля, его другое название — контроллер</td>\n",
       "    </tr>\n",
       "    <tr>\n",
       "      <th>4</th>\n",
       "      <td>академия вампиров. сколько на даный момент частей книги академия вампиров?</td>\n",
       "      <td>4. охотники и жертвы, ледяной укус, поцелуй тьмы, кровная клятва.   на данное время их 6. часть 5- оковы для призрака (духовная связь часть 6-последняя жертва.</td>\n",
       "      <td>4</td>\n",
       "    </tr>\n",
       "  </tbody>\n",
       "</table>\n",
       "</div>"
      ],
      "text/plain": [
       "                                                                            questions  \\\n",
       "0       вопрос о тдв давно и хорошо отдыхаем лично вам здесь кого советовали завести?   \n",
       "1  как парни относятся к цветным линзам? если у девушки то зеленые глаза, то голубые.   \n",
       "2                                        что делать, сегодня нашёл 2 миллиона рублей?   \n",
       "3                                        эбу в двенашке называется итэлма что за эбу?   \n",
       "4          академия вампиров. сколько на даный момент частей книги академия вампиров?   \n",
       "\n",
       "                                                                                                                                                                                                                                                                                                      contexts  \\\n",
       "0   хомячка.   мужика, йопаря, собачку и 50 кошек.   общение!   паучка.   да пол мне бы памыть! а таг то ни чо. типа ни каво!   я тут вообще что бы пообщаться.   а мне советовали сиси завести.   ну, слава богу, мужика завести ещё не советовали а вот сватать к кому только не сватали.   мне тут совет...   \n",
       "1                                                                                                       меня вобще прикалывает эта тема.   когда этобыло редкость - было забавно, а когда все знают, что эта фальшивка, то уже не прикольно, как силиконовые сиськи или как налепленные синтетические волосы.    \n",
       "2   если это счастье  действительно на вас свалилось, лучше пойти в милицию и заявить о находке. такие деньги просто так не терют, а что самое интересное их неприменно будут искать и поверьте мне найдут, видел подобное в жизни. можно нарваться на бабушку конечно, которая хотела помоч внуку с покупк...   \n",
       "3   эбу — электронный блок управления двигателем автомобиля, его другое название — контроллер. он принимает информацию от многочисленных датчиков, обрабатывает ее по особым алгоритмам и, отталкиваясь от полученных данных, отдает команды исполнительным устройствам системы.   это завод. а эбу может и...   \n",
       "4                                                                                                                                             4. охотники и жертвы, ледяной укус, поцелуй тьмы, кровная клятва.   на данное время их 6. часть 5- оковы для призрака (духовная связь часть 6-последняя жертва.    \n",
       "\n",
       "                                                                                   predictions  \n",
       "0                                                                                      хомячка  \n",
       "1                                                              меня вобще прикалывает эта тема  \n",
       "2  если это счастье  действительно на вас свалилось, лучше пойти в милицию и заявить о находке  \n",
       "3    эбу — электронный блок управления двигателем автомобиля, его другое название — контроллер  \n",
       "4                                                                                            4  "
      ]
     },
     "execution_count": 83,
     "metadata": {},
     "output_type": "execute_result"
    }
   ],
   "source": [
    "df.head()"
   ]
  },
  {
   "cell_type": "code",
   "execution_count": 33,
   "id": "b3b83bd1",
   "metadata": {},
   "outputs": [],
   "source": [
    "def f1_score(prediction, ground_truth):\n",
    "    prediction_tokens = normalize_answer(prediction).split()\n",
    "    ground_truth_tokens = normalize_answer(ground_truth).split()\n",
    "    common = Counter(prediction_tokens) & Counter(ground_truth_tokens)\n",
    "    num_same = sum(common.values())\n",
    "    if num_same == 0:\n",
    "        return 0\n",
    "    precision = 1.0 * num_same / len(prediction_tokens)\n",
    "    recall = 1.0 * num_same / len(ground_truth_tokens)\n",
    "    f1 = (2 * precision * recall) / (precision + recall)\n",
    "    return f1"
   ]
  },
  {
   "cell_type": "code",
   "execution_count": 34,
   "id": "c57a5945",
   "metadata": {},
   "outputs": [],
   "source": [
    "def get_score(df_solution, df_predictions):\n",
    "    score = {\n",
    "        'f1':\n",
    "        np.mean([\n",
    "            f1_score(prediction, answer) for answer, prediction in zip(df_solution, df_predictions)\n",
    "        ]),\n",
    "    }\n",
    "    return score"
   ]
  },
  {
   "cell_type": "code",
   "execution_count": 35,
   "id": "abf621c9",
   "metadata": {},
   "outputs": [],
   "source": [
    "# from collections import Counter"
   ]
  },
  {
   "cell_type": "code",
   "execution_count": 114,
   "id": "10f10601",
   "metadata": {},
   "outputs": [],
   "source": [
    "# df['answer'] = df['predictions']"
   ]
  },
  {
   "cell_type": "code",
   "execution_count": 115,
   "id": "53e30da3",
   "metadata": {},
   "outputs": [],
   "source": [
    "# del df['answer']"
   ]
  },
  {
   "cell_type": "code",
   "execution_count": 116,
   "id": "e96b2feb",
   "metadata": {},
   "outputs": [],
   "source": [
    "# if 'answer' in df.columns.values:\n",
    "#     print(get_score(df['predictions'].values, df['answer'].values))"
   ]
  },
  {
   "cell_type": "code",
   "execution_count": 118,
   "id": "311ad7bc",
   "metadata": {},
   "outputs": [],
   "source": [
    "# df.columns.values"
   ]
  },
  {
   "cell_type": "code",
   "execution_count": 119,
   "id": "bafeb273",
   "metadata": {},
   "outputs": [
    {
     "data": {
      "text/html": [
       "<div>\n",
       "<style scoped>\n",
       "    .dataframe tbody tr th:only-of-type {\n",
       "        vertical-align: middle;\n",
       "    }\n",
       "\n",
       "    .dataframe tbody tr th {\n",
       "        vertical-align: top;\n",
       "    }\n",
       "\n",
       "    .dataframe thead th {\n",
       "        text-align: right;\n",
       "    }\n",
       "</style>\n",
       "<table border=\"1\" class=\"dataframe\">\n",
       "  <thead>\n",
       "    <tr style=\"text-align: right;\">\n",
       "      <th></th>\n",
       "      <th>questions</th>\n",
       "      <th>contexts</th>\n",
       "      <th>predictions</th>\n",
       "      <th>answer</th>\n",
       "    </tr>\n",
       "  </thead>\n",
       "  <tbody>\n",
       "    <tr>\n",
       "      <th>0</th>\n",
       "      <td>вопрос о тдв давно и хорошо отдыхаем лично вам здесь кого советовали завести?</td>\n",
       "      <td>хомячка.   мужика, йопаря, собачку и 50 кошек.   общение!   паучка.   да пол мне бы памыть! а таг то ни чо. типа ни каво!   я тут вообще что бы пообщаться.   а мне советовали сиси завести.   ну, слава богу, мужика завести ещё не советовали а вот сватать к кому только не сватали.   мне тут совет...</td>\n",
       "      <td>хомячка</td>\n",
       "      <td>хомячка</td>\n",
       "    </tr>\n",
       "    <tr>\n",
       "      <th>1</th>\n",
       "      <td>как парни относятся к цветным линзам? если у девушки то зеленые глаза, то голубые.</td>\n",
       "      <td>меня вобще прикалывает эта тема.   когда этобыло редкость - было забавно, а когда все знают, что эта фальшивка, то уже не прикольно, как силиконовые сиськи или как налепленные синтетические волосы.</td>\n",
       "      <td>меня вобще прикалывает эта тема</td>\n",
       "      <td>меня вобще прикалывает эта тема</td>\n",
       "    </tr>\n",
       "    <tr>\n",
       "      <th>2</th>\n",
       "      <td>что делать, сегодня нашёл 2 миллиона рублей?</td>\n",
       "      <td>если это счастье  действительно на вас свалилось, лучше пойти в милицию и заявить о находке. такие деньги просто так не терют, а что самое интересное их неприменно будут искать и поверьте мне найдут, видел подобное в жизни. можно нарваться на бабушку конечно, которая хотела помоч внуку с покупк...</td>\n",
       "      <td>если это счастье  действительно на вас свалилось, лучше пойти в милицию и заявить о находке</td>\n",
       "      <td>если это счастье  действительно на вас свалилось, лучше пойти в милицию и заявить о находке</td>\n",
       "    </tr>\n",
       "    <tr>\n",
       "      <th>3</th>\n",
       "      <td>эбу в двенашке называется итэлма что за эбу?</td>\n",
       "      <td>эбу — электронный блок управления двигателем автомобиля, его другое название — контроллер. он принимает информацию от многочисленных датчиков, обрабатывает ее по особым алгоритмам и, отталкиваясь от полученных данных, отдает команды исполнительным устройствам системы.   это завод. а эбу может и...</td>\n",
       "      <td>эбу — электронный блок управления двигателем автомобиля, его другое название — контроллер</td>\n",
       "      <td>эбу — электронный блок управления двигателем автомобиля, его другое название — контроллер</td>\n",
       "    </tr>\n",
       "    <tr>\n",
       "      <th>4</th>\n",
       "      <td>академия вампиров. сколько на даный момент частей книги академия вампиров?</td>\n",
       "      <td>4. охотники и жертвы, ледяной укус, поцелуй тьмы, кровная клятва.   на данное время их 6. часть 5- оковы для призрака (духовная связь часть 6-последняя жертва.</td>\n",
       "      <td>4</td>\n",
       "      <td>4</td>\n",
       "    </tr>\n",
       "  </tbody>\n",
       "</table>\n",
       "</div>"
      ],
      "text/plain": [
       "                                                                            questions  \\\n",
       "0       вопрос о тдв давно и хорошо отдыхаем лично вам здесь кого советовали завести?   \n",
       "1  как парни относятся к цветным линзам? если у девушки то зеленые глаза, то голубые.   \n",
       "2                                        что делать, сегодня нашёл 2 миллиона рублей?   \n",
       "3                                        эбу в двенашке называется итэлма что за эбу?   \n",
       "4          академия вампиров. сколько на даный момент частей книги академия вампиров?   \n",
       "\n",
       "                                                                                                                                                                                                                                                                                                      contexts  \\\n",
       "0   хомячка.   мужика, йопаря, собачку и 50 кошек.   общение!   паучка.   да пол мне бы памыть! а таг то ни чо. типа ни каво!   я тут вообще что бы пообщаться.   а мне советовали сиси завести.   ну, слава богу, мужика завести ещё не советовали а вот сватать к кому только не сватали.   мне тут совет...   \n",
       "1                                                                                                       меня вобще прикалывает эта тема.   когда этобыло редкость - было забавно, а когда все знают, что эта фальшивка, то уже не прикольно, как силиконовые сиськи или как налепленные синтетические волосы.    \n",
       "2   если это счастье  действительно на вас свалилось, лучше пойти в милицию и заявить о находке. такие деньги просто так не терют, а что самое интересное их неприменно будут искать и поверьте мне найдут, видел подобное в жизни. можно нарваться на бабушку конечно, которая хотела помоч внуку с покупк...   \n",
       "3   эбу — электронный блок управления двигателем автомобиля, его другое название — контроллер. он принимает информацию от многочисленных датчиков, обрабатывает ее по особым алгоритмам и, отталкиваясь от полученных данных, отдает команды исполнительным устройствам системы.   это завод. а эбу может и...   \n",
       "4                                                                                                                                             4. охотники и жертвы, ледяной укус, поцелуй тьмы, кровная клятва.   на данное время их 6. часть 5- оковы для призрака (духовная связь часть 6-последняя жертва.    \n",
       "\n",
       "                                                                                   predictions  \\\n",
       "0                                                                                      хомячка   \n",
       "1                                                              меня вобще прикалывает эта тема   \n",
       "2  если это счастье  действительно на вас свалилось, лучше пойти в милицию и заявить о находке   \n",
       "3    эбу — электронный блок управления двигателем автомобиля, его другое название — контроллер   \n",
       "4                                                                                            4   \n",
       "\n",
       "                                                                                        answer  \n",
       "0                                                                                      хомячка  \n",
       "1                                                              меня вобще прикалывает эта тема  \n",
       "2  если это счастье  действительно на вас свалилось, лучше пойти в милицию и заявить о находке  \n",
       "3    эбу — электронный блок управления двигателем автомобиля, его другое название — контроллер  \n",
       "4                                                                                            4  "
      ]
     },
     "execution_count": 119,
     "metadata": {},
     "output_type": "execute_result"
    }
   ],
   "source": [
    "df.head()"
   ]
  },
  {
   "cell_type": "code",
   "execution_count": null,
   "id": "f25d15ff",
   "metadata": {},
   "outputs": [],
   "source": [
    "def evaluate(inp_sentence):\n",
    "    start_token = [tokenizer_en.vocab_size]\n",
    "    end_token = [tokenizer_en.vocab_size + 1]\n",
    "    \n",
    "    inp_sentence = start_token + tokenizer_en.encode(inp_sentence) + end_token\n",
    "    encoder_input = tf.expand_dims(inp_sentence, 0)\n",
    "\n",
    "    decoder_input = [tokenizer_en.vocab_size]\n",
    "    output = tf.expand_dims(decoder_input, 0)\n",
    "\n",
    "    for i in range(MAX_LEN):\n",
    "        enc_padding_mask, combined_mask, dec_padding_mask = create_masks(encoder_input, output)\n",
    "\n",
    "        predictions, attention_weights = transformer(\n",
    "            encoder_input, output, False,\n",
    "            enc_padding_mask, combined_mask, dec_padding_mask\n",
    "        )\n",
    "        predictions = predictions[:, -1:, :]\n",
    "        predicted_id = tf.cast(tf.argmax(predictions, axis=-1), tf.int32)\n",
    "\n",
    "        if predicted_id == tokenizer_en.vocab_size+1:\n",
    "            return tf.squeeze(output, axis=0), attention_weights\n",
    "\n",
    "        output = tf.concat([output, predicted_id], axis=-1)\n",
    "\n",
    "    return tf.squeeze(output, axis=0), attention_weights"
   ]
  },
  {
   "cell_type": "code",
   "execution_count": null,
   "id": "e38602a5",
   "metadata": {},
   "outputs": [],
   "source": [
    "def text_generator(sentence):\n",
    "    result, attention_weights = evaluate(sentence)\n",
    "    predicted_sentence = tokenizer_en.decode([i for i in result if i < tokenizer_en.vocab_size - 1])\n",
    "    \n",
    "    print(f'Input: {sentence}')\n",
    "    # print(f'Predicted message: {predicted_sentence}')\n",
    "    return predicted_sentence"
   ]
  },
  {
   "cell_type": "markdown",
   "id": "683b6d11",
   "metadata": {},
   "source": [
    "### Evaluate"
   ]
  },
  {
   "cell_type": "code",
   "execution_count": 10,
   "id": "f2afb7b1",
   "metadata": {
    "colab": {
     "base_uri": "https://localhost:8080/",
     "height": 52
    },
    "executionInfo": {
     "elapsed": 4532,
     "status": "ok",
     "timestamp": 1622553589673,
     "user": {
      "displayName": "Alexey Tankov",
      "photoUrl": "",
      "userId": "01729535101672247421"
     },
     "user_tz": -180
    },
    "id": "f2afb7b1",
    "outputId": "8993d0c8-1a15-450d-91f9-be0ff7e83fb5"
   },
   "outputs": [],
   "source": [
    "# text_generator('Что такое ЭБУ?')"
   ]
  },
  {
   "cell_type": "code",
   "execution_count": 11,
   "id": "188c0898",
   "metadata": {
    "colab": {
     "base_uri": "https://localhost:8080/",
     "height": 52
    },
    "executionInfo": {
     "elapsed": 4273,
     "status": "ok",
     "timestamp": 1622553593939,
     "user": {
      "displayName": "Alexey Tankov",
      "photoUrl": "",
      "userId": "01729535101672247421"
     },
     "user_tz": -180
    },
    "id": "188c0898",
    "outputId": "35bad333-35ad-4423-ec91-c6b28b888e59"
   },
   "outputs": [],
   "source": [
    "# text_generator('Чем заняться?')"
   ]
  },
  {
   "cell_type": "code",
   "execution_count": 12,
   "id": "bOtl1vRtKH7z",
   "metadata": {
    "colab": {
     "base_uri": "https://localhost:8080/",
     "height": 52
    },
    "executionInfo": {
     "elapsed": 4331,
     "status": "ok",
     "timestamp": 1622553598252,
     "user": {
      "displayName": "Alexey Tankov",
      "photoUrl": "",
      "userId": "01729535101672247421"
     },
     "user_tz": -180
    },
    "id": "bOtl1vRtKH7z",
    "outputId": "3736247f-be69-434d-e4d7-22455063a926"
   },
   "outputs": [],
   "source": [
    "# text_generator('Что приготовить?')"
   ]
  },
  {
   "cell_type": "code",
   "execution_count": null,
   "id": "c25fb02d",
   "metadata": {},
   "outputs": [],
   "source": [
    "# text_generator('Что посмотреть?')"
   ]
  },
  {
   "cell_type": "code",
   "execution_count": null,
   "id": "dbb290dc",
   "metadata": {},
   "outputs": [],
   "source": [
    "# text_generator('Что послушать?')"
   ]
  },
  {
   "cell_type": "code",
   "execution_count": null,
   "id": "9fff3ea2",
   "metadata": {},
   "outputs": [],
   "source": [
    "# text_generator('Что почитать?')"
   ]
  },
  {
   "cell_type": "code",
   "execution_count": null,
   "id": "68ab6de8",
   "metadata": {},
   "outputs": [],
   "source": [
    "# text_generator('Как подключить интернет?')"
   ]
  },
  {
   "cell_type": "code",
   "execution_count": 13,
   "id": "vwgRgF2-NPmx",
   "metadata": {
    "colab": {
     "base_uri": "https://localhost:8080/",
     "height": 52
    },
    "executionInfo": {
     "elapsed": 4535,
     "status": "ok",
     "timestamp": 1622553607026,
     "user": {
      "displayName": "Alexey Tankov",
      "photoUrl": "",
      "userId": "01729535101672247421"
     },
     "user_tz": -180
    },
    "id": "vwgRgF2-NPmx",
    "outputId": "9e8274a9-574b-43f5-ad5e-8cfd41e91928"
   },
   "outputs": [],
   "source": [
    "# text_generator('Как починить машину?')"
   ]
  },
  {
   "cell_type": "markdown",
   "id": "J0A33pg3Cy3v",
   "metadata": {
    "id": "J0A33pg3Cy3v"
   },
   "source": [
    "### python-telegram-bot"
   ]
  },
  {
   "cell_type": "code",
   "execution_count": 114,
   "id": "8e2ecdaf",
   "metadata": {
    "executionInfo": {
     "elapsed": 4,
     "status": "ok",
     "timestamp": 1622553732037,
     "user": {
      "displayName": "Alexey Tankov",
      "photoUrl": "",
      "userId": "01729535101672247421"
     },
     "user_tz": -180
    },
    "id": "8e2ecdaf"
   },
   "outputs": [],
   "source": [
    "updater = Updater(token='')\n",
    "dispatcher = updater.dispatcher"
   ]
  },
  {
   "cell_type": "code",
   "execution_count": 117,
   "id": "b12b29cf",
   "metadata": {
    "executionInfo": {
     "elapsed": 254,
     "status": "ok",
     "timestamp": 1622553889576,
     "user": {
      "displayName": "Alexey Tankov",
      "photoUrl": "",
      "userId": "01729535101672247421"
     },
     "user_tz": -180
    },
    "id": "b12b29cf"
   },
   "outputs": [],
   "source": [
    "def answer(update, context):\n",
    "    context.bot.send_message(chat_id=update.effective_chat.id, text=text_generator(update.message.text))\n",
    "    \n",
    "answer_handler = MessageHandler(Filters.text, answer)\n",
    "dispatcher.add_handler(answer_handler)"
   ]
  },
  {
   "cell_type": "code",
   "execution_count": 118,
   "id": "08da6a6c",
   "metadata": {
    "colab": {
     "base_uri": "https://localhost:8080/"
    },
    "executionInfo": {
     "elapsed": 872,
     "status": "ok",
     "timestamp": 1622553893469,
     "user": {
      "displayName": "Alexey Tankov",
      "photoUrl": "",
      "userId": "01729535101672247421"
     },
     "user_tz": -180
    },
    "id": "08da6a6c",
    "outputId": "c123e4d5-b23a-4c7e-edb5-59fad975a338"
   },
   "outputs": [
    {
     "name": "stdout",
     "output_type": "stream",
     "text": [
      "@MyPersonalAssistanBot - online\n"
     ]
    }
   ],
   "source": [
    "chat = True\n",
    "\n",
    "if chat:\n",
    "    updater.start_polling()\n",
    "    print('@MyPersonalAssistanBot - online')\n",
    "else:\n",
    "    updater.stop()\n",
    "    print('@MyPersonalAssistanBot - offline')"
   ]
  },
  {
   "cell_type": "code",
   "execution_count": null,
   "id": "18mjnNHPv5UN",
   "metadata": {
    "id": "18mjnNHPv5UN"
   },
   "outputs": [],
   "source": []
  }
 ],
 "metadata": {
  "accelerator": "GPU",
  "colab": {
   "collapsed_sections": [],
   "name": "transformer.ipynb",
   "provenance": [],
   "toc_visible": true
  },
  "kernelspec": {
   "display_name": "Python 3",
   "language": "python",
   "name": "python3"
  },
  "language_info": {
   "codemirror_mode": {
    "name": "ipython",
    "version": 3
   },
   "file_extension": ".py",
   "mimetype": "text/x-python",
   "name": "python",
   "nbconvert_exporter": "python",
   "pygments_lexer": "ipython3",
   "version": "3.7.10"
  }
 },
 "nbformat": 4,
 "nbformat_minor": 5
}
