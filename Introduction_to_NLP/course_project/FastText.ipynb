{
 "cells": [
  {
   "cell_type": "markdown",
   "id": "dried-louisville",
   "metadata": {
    "id": "dried-louisville"
   },
   "source": [
    "### Setup libraries"
   ]
  },
  {
   "cell_type": "code",
   "execution_count": 5,
   "id": "ortbQg9AP2m4",
   "metadata": {
    "executionInfo": {
     "elapsed": 7,
     "status": "ok",
     "timestamp": 1622545033585,
     "user": {
      "displayName": "Alexey Tankov",
      "photoUrl": "",
      "userId": "01729535101672247421"
     },
     "user_tz": -180
    },
    "id": "ortbQg9AP2m4"
   },
   "outputs": [],
   "source": [
    "# pip install annoy # conda install -c conda-forge python-annoy\n",
    "# pip install compress_fasttext\n",
    "# pip install python-telegram-bot --upgrade\n",
    "# pip install pymorphy2\n",
    "# pip install stop_words"
   ]
  },
  {
   "cell_type": "markdown",
   "id": "unsigned-court",
   "metadata": {
    "id": "unsigned-court"
   },
   "source": [
    "### Import libraries"
   ]
  },
  {
   "cell_type": "code",
   "execution_count": 1,
   "id": "phantom-guatemala",
   "metadata": {
    "colab": {
     "base_uri": "https://localhost:8080/",
     "height": 17
    },
    "executionInfo": {
     "elapsed": 361,
     "status": "ok",
     "timestamp": 1622525729242,
     "user": {
      "displayName": "Alexey Tankov",
      "photoUrl": "",
      "userId": "01729535101672247421"
     },
     "user_tz": -180
    },
    "id": "phantom-guatemala",
    "outputId": "6835eab2-4f98-4be9-f392-4f3c89f72758"
   },
   "outputs": [
    {
     "data": {
      "text/html": [
       "<style>.container { width:72.5% !important; }</style>"
      ],
      "text/plain": [
       "<IPython.core.display.HTML object>"
      ]
     },
     "metadata": {},
     "output_type": "display_data"
    }
   ],
   "source": [
    "from IPython.core.display import display, HTML\n",
    "display(HTML(\"<style>.container { width:72.5% !important; }</style>\"))"
   ]
  },
  {
   "cell_type": "code",
   "execution_count": 2,
   "id": "cordless-colorado",
   "metadata": {
    "executionInfo": {
     "elapsed": 491,
     "status": "ok",
     "timestamp": 1622553883158,
     "user": {
      "displayName": "Alexey Tankov",
      "photoUrl": "",
      "userId": "01729535101672247421"
     },
     "user_tz": -180
    },
    "id": "cordless-colorado"
   },
   "outputs": [],
   "source": [
    "import numpy as np\n",
    "import pandas as pd\n",
    "\n",
    "import io\n",
    "import re\n",
    "import time\n",
    "import unicodedata\n",
    "from pathlib import Path\n",
    "from linecache import getline\n",
    "from tqdm.notebook import tqdm\n",
    "\n",
    "import annoy\n",
    "import string\n",
    "from pymorphy2 import MorphAnalyzer\n",
    "from stop_words import get_stop_words\n",
    "import compress_fasttext\n",
    "from gensim.models import FastText, KeyedVectors\n",
    "from gensim.models.fasttext import FastTextKeyedVectors\n",
    "\n",
    "import tensorflow as tf\n",
    "from tensorflow.keras import layers\n",
    "from tensorflow.keras.layers import Input, Dense\n",
    "import tensorflow_datasets as tfds\n",
    "\n",
    "from telegram.ext import Updater, CommandHandler, MessageHandler, Filters\n",
    "\n",
    "import matplotlib.pyplot as plt"
   ]
  },
  {
   "cell_type": "code",
   "execution_count": 3,
   "id": "a805da12",
   "metadata": {
    "executionInfo": {
     "elapsed": 16,
     "status": "ok",
     "timestamp": 1622525736681,
     "user": {
      "displayName": "Alexey Tankov",
      "photoUrl": "",
      "userId": "01729535101672247421"
     },
     "user_tz": -180
    },
    "id": "a805da12"
   },
   "outputs": [],
   "source": [
    "plt.rcParams.update({'font.size': 14})\n",
    "pd.set_option('precision', 3)\n",
    "pd.set_option('max_columns', 100)\n",
    "pd.set_option('display.float_format', lambda x: '%.5f' % x)\n",
    "pd.set_option('display.max_columns', 500)\n",
    "pd.set_option('display.max_rows', 500)\n",
    "pd.set_option('max_colwidth', 300)"
   ]
  },
  {
   "cell_type": "code",
   "execution_count": 4,
   "id": "3185cda5",
   "metadata": {
    "colab": {
     "base_uri": "https://localhost:8080/"
    },
    "executionInfo": {
     "elapsed": 333,
     "status": "ok",
     "timestamp": 1622525742031,
     "user": {
      "displayName": "Alexey Tankov",
      "photoUrl": "",
      "userId": "01729535101672247421"
     },
     "user_tz": -180
    },
    "id": "3185cda5",
    "outputId": "928baa90-0e3e-4e09-9790-e6c9dc3f0abd"
   },
   "outputs": [],
   "source": [
    "# device_name = tf.test.gpu_device_name()\n",
    "# if device_name != '/device:GPU:0':\n",
    "#     raise SystemError('GPU device not found')\n",
    "# print('Found GPU at: {}'.format(device_name))"
   ]
  },
  {
   "cell_type": "markdown",
   "id": "9985f75f",
   "metadata": {
    "id": "9985f75f"
   },
   "source": [
    "### Paths to directories and files"
   ]
  },
  {
   "cell_type": "code",
   "execution_count": 5,
   "id": "0hJ1SN7Tw4lh",
   "metadata": {
    "colab": {
     "base_uri": "https://localhost:8080/"
    },
    "executionInfo": {
     "elapsed": 26,
     "status": "ok",
     "timestamp": 1622525742032,
     "user": {
      "displayName": "Alexey Tankov",
      "photoUrl": "",
      "userId": "01729535101672247421"
     },
     "user_tz": -180
    },
    "id": "0hJ1SN7Tw4lh",
    "outputId": "efc609f2-86a0-4530-ee4f-aad8f41bbf94"
   },
   "outputs": [],
   "source": [
    "# from google.colab import drive\n",
    "# drive.mount('/content/gdrive')"
   ]
  },
  {
   "cell_type": "code",
   "execution_count": 6,
   "id": "530902aa",
   "metadata": {
    "executionInfo": {
     "elapsed": 22,
     "status": "ok",
     "timestamp": 1622525742033,
     "user": {
      "displayName": "Alexey Tankov",
      "photoUrl": "",
      "userId": "01729535101672247421"
     },
     "user_tz": -180
    },
    "id": "530902aa"
   },
   "outputs": [],
   "source": [
    "DRAFT_DATASET_PATH = 'D:/kaggle/mailru/Otvety.txt'\n",
    "# DRAFT_DATASET_PATH = '/content/gdrive/MyDrive/Colab Notebooks/my_projects/Otvety.txt'"
   ]
  },
  {
   "cell_type": "markdown",
   "id": "ec970111",
   "metadata": {
    "id": "ec970111"
   },
   "source": [
    "### Loading data"
   ]
  },
  {
   "cell_type": "code",
   "execution_count": 8,
   "id": "destroyed-limit",
   "metadata": {
    "executionInfo": {
     "elapsed": 62649,
     "status": "ok",
     "timestamp": 1622525804662,
     "user": {
      "displayName": "Alexey Tankov",
      "photoUrl": "",
      "userId": "01729535101672247421"
     },
     "user_tz": -180
    },
    "id": "destroyed-limit"
   },
   "outputs": [],
   "source": [
    "lines = io.open(DRAFT_DATASET_PATH, encoding='UTF-8').read()"
   ]
  },
  {
   "cell_type": "markdown",
   "id": "wicked-resistance",
   "metadata": {
    "id": "wicked-resistance"
   },
   "source": [
    "### Preprocessing data"
   ]
  },
  {
   "cell_type": "code",
   "execution_count": 26,
   "id": "11da6113",
   "metadata": {
    "executionInfo": {
     "elapsed": 230,
     "status": "ok",
     "timestamp": 1622525816546,
     "user": {
      "displayName": "Alexey Tankov",
      "photoUrl": "",
      "userId": "01729535101672247421"
     },
     "user_tz": -180
    },
    "id": "11da6113"
   },
   "outputs": [],
   "source": [
    "def preprocess_text(w):\n",
    "    w = re.sub(':\\)', '', w)\n",
    "    w = re.sub('[)\"]', '', w)\n",
    "    w = re.sub('<[^>]+>', ' ', w)\n",
    "    \n",
    "    w = re.sub('\\s*\\?\\s*\\.', '?', w)\n",
    "    w = re.sub('\\s*\\!\\s*\\.', '!', w)\n",
    "    w = re.sub('\\s*\\.', '.', w)\n",
    "    w = re.sub('\\.+', '.', w)\n",
    "    \n",
    "    w = re.sub('---', 'QUESTION', w)\n",
    "    \n",
    "    return w"
   ]
  },
  {
   "cell_type": "code",
   "execution_count": 27,
   "id": "28c5686a",
   "metadata": {
    "colab": {
     "base_uri": "https://localhost:8080/"
    },
    "executionInfo": {
     "elapsed": 261,
     "status": "ok",
     "timestamp": 1622525820285,
     "user": {
      "displayName": "Alexey Tankov",
      "photoUrl": "",
      "userId": "01729535101672247421"
     },
     "user_tz": -180
    },
    "id": "28c5686a",
    "outputId": "522599cd-51f4-4b67-e2ba-6345bd45b91a"
   },
   "outputs": [
    {
     "name": "stdout",
     "output_type": "stream",
     "text": [
      "1072593541\n"
     ]
    }
   ],
   "source": [
    "# print(type(lines))\n",
    "print(len(lines))"
   ]
  },
  {
   "cell_type": "code",
   "execution_count": 9,
   "id": "e4589fc1",
   "metadata": {
    "colab": {
     "base_uri": "https://localhost:8080/"
    },
    "executionInfo": {
     "elapsed": 1920,
     "status": "ok",
     "timestamp": 1622525823178,
     "user": {
      "displayName": "Alexey Tankov",
      "photoUrl": "",
      "userId": "01729535101672247421"
     },
     "user_tz": -180
    },
    "id": "e4589fc1",
    "outputId": "76c39d53-63a0-4b41-f591-15610b1ef13c"
   },
   "outputs": [],
   "source": [
    "NUM_EXAMPLES = 12500000\n",
    "text = preprocess_text(str(lines))\n",
    "print(text[:1000])"
   ]
  },
  {
   "cell_type": "code",
   "execution_count": null,
   "id": "based-forward",
   "metadata": {},
   "outputs": [],
   "source": [
    "print(len(text))"
   ]
  },
  {
   "cell_type": "code",
   "execution_count": null,
   "id": "a1684fbb",
   "metadata": {},
   "outputs": [],
   "source": [
    "morpher = MorphAnalyzer()\n",
    "sw = set(get_stop_words('ru'))"
   ]
  },
  {
   "cell_type": "code",
   "execution_count": null,
   "id": "little-builder",
   "metadata": {
    "executionInfo": {
     "elapsed": 225,
     "status": "ok",
     "timestamp": 1622525825160,
     "user": {
      "displayName": "Alexey Tankov",
      "photoUrl": "",
      "userId": "01729535101672247421"
     },
     "user_tz": -180
    },
    "id": "little-builder"
   },
   "outputs": [],
   "source": [
    "def split_by_sentence(sent):\n",
    "    sent = text.split('\\nQUESTION\\n')[1:]\n",
    "    \n",
    "    question = []\n",
    "    answer = []\n",
    "\n",
    "    for se in sent:\n",
    "        se = se.split('\\n')\n",
    "        se = [i for i in se if (i not in string.punctuation)]\n",
    "        se = [morpher.parse(i.lower())[0].normal_form for i in se]\n",
    "        se = [i for i in se if i not in sw and i != '']\n",
    "\n",
    "        question.append(se[0].strip())\n",
    "        answer.append(' '.join([f' {s}' for s in se[1:]]))\n",
    "    \n",
    "    return question, answer"
   ]
  },
  {
   "cell_type": "code",
   "execution_count": null,
   "id": "handed-perception",
   "metadata": {
    "colab": {
     "base_uri": "https://localhost:8080/"
    },
    "executionInfo": {
     "elapsed": 393,
     "status": "ok",
     "timestamp": 1622525827913,
     "user": {
      "displayName": "Alexey Tankov",
      "photoUrl": "",
      "userId": "01729535101672247421"
     },
     "user_tz": -180
    },
    "id": "handed-perception",
    "outputId": "6eb484e0-bc27-4683-9e56-8731e139183f"
   },
   "outputs": [],
   "source": [
    "question, answer = split_by_sentence(text)\n",
    "question[0], answer[0]"
   ]
  },
  {
   "cell_type": "code",
   "execution_count": null,
   "id": "6c15ca0a",
   "metadata": {
    "executionInfo": {
     "elapsed": 4,
     "status": "ok",
     "timestamp": 1622525828840,
     "user": {
      "displayName": "Alexey Tankov",
      "photoUrl": "",
      "userId": "01729535101672247421"
     },
     "user_tz": -180
    },
    "id": "6c15ca0a"
   },
   "outputs": [],
   "source": [
    "# df = pd.DataFrame({'questions':question, 'answers':answer})"
   ]
  },
  {
   "cell_type": "code",
   "execution_count": null,
   "id": "254e329c",
   "metadata": {
    "executionInfo": {
     "elapsed": 2,
     "status": "ok",
     "timestamp": 1622525829223,
     "user": {
      "displayName": "Alexey Tankov",
      "photoUrl": "",
      "userId": "01729535101672247421"
     },
     "user_tz": -180
    },
    "id": "254e329c"
   },
   "outputs": [],
   "source": [
    "# df.head()"
   ]
  },
  {
   "cell_type": "code",
   "execution_count": 17,
   "id": "color-outside",
   "metadata": {
    "executionInfo": {
     "elapsed": 7,
     "status": "ok",
     "timestamp": 1622525830177,
     "user": {
      "displayName": "Alexey Tankov",
      "photoUrl": "",
      "userId": "01729535101672247421"
     },
     "user_tz": -180
    },
    "id": "color-outside"
   },
   "outputs": [],
   "source": [
    "# for w in df['questions']:\n",
    "#     re.sub('[^a-zA-Zа-яА-Я,.!?]+', ' ', w)\n",
    "\n",
    "# for w in df['answers']:\n",
    "#     re.sub('[^a-zA-Zа-яА-Я,.!?]+', ' ', w)"
   ]
  },
  {
   "cell_type": "markdown",
   "id": "a4b00234",
   "metadata": {
    "id": "a4b00234"
   },
   "source": [
    "### FastText Model"
   ]
  },
  {
   "cell_type": "code",
   "execution_count": 16,
   "id": "former-bedroom",
   "metadata": {},
   "outputs": [],
   "source": [
    "core_numbers = 4\n",
    "ft_width = 300"
   ]
  },
  {
   "cell_type": "code",
   "execution_count": 17,
   "id": "74b90699",
   "metadata": {
    "executionInfo": {
     "elapsed": 240,
     "status": "ok",
     "timestamp": 1622525831559,
     "user": {
      "displayName": "Alexey Tankov",
      "photoUrl": "",
      "userId": "01729535101672247421"
     },
     "user_tz": -180
    },
    "id": "74b90699"
   },
   "outputs": [],
   "source": [
    "flag_ft = False\n",
    "\n",
    "ft_file = Path('cc.ru.300.bin')\n",
    "if ft_file.is_file():\n",
    "    model_ft_wv = FastTextKeyedVectors.load('cc.ru.300.bin')\n",
    "    flag_ft = True"
   ]
  },
  {
   "cell_type": "markdown",
   "id": "683b6d11",
   "metadata": {},
   "source": [
    "### Evaluate"
   ]
  },
  {
   "cell_type": "code",
   "execution_count": 10,
   "id": "f2afb7b1",
   "metadata": {
    "colab": {
     "base_uri": "https://localhost:8080/",
     "height": 52
    },
    "executionInfo": {
     "elapsed": 4532,
     "status": "ok",
     "timestamp": 1622553589673,
     "user": {
      "displayName": "Alexey Tankov",
      "photoUrl": "",
      "userId": "01729535101672247421"
     },
     "user_tz": -180
    },
    "id": "f2afb7b1",
    "outputId": "8993d0c8-1a15-450d-91f9-be0ff7e83fb5"
   },
   "outputs": [],
   "source": [
    "# text_generator('Что такое ЭБУ?')"
   ]
  },
  {
   "cell_type": "code",
   "execution_count": 11,
   "id": "188c0898",
   "metadata": {
    "colab": {
     "base_uri": "https://localhost:8080/",
     "height": 52
    },
    "executionInfo": {
     "elapsed": 4273,
     "status": "ok",
     "timestamp": 1622553593939,
     "user": {
      "displayName": "Alexey Tankov",
      "photoUrl": "",
      "userId": "01729535101672247421"
     },
     "user_tz": -180
    },
    "id": "188c0898",
    "outputId": "35bad333-35ad-4423-ec91-c6b28b888e59"
   },
   "outputs": [],
   "source": [
    "# text_generator('Чем заняться?')"
   ]
  },
  {
   "cell_type": "code",
   "execution_count": 12,
   "id": "bOtl1vRtKH7z",
   "metadata": {
    "colab": {
     "base_uri": "https://localhost:8080/",
     "height": 52
    },
    "executionInfo": {
     "elapsed": 4331,
     "status": "ok",
     "timestamp": 1622553598252,
     "user": {
      "displayName": "Alexey Tankov",
      "photoUrl": "",
      "userId": "01729535101672247421"
     },
     "user_tz": -180
    },
    "id": "bOtl1vRtKH7z",
    "outputId": "3736247f-be69-434d-e4d7-22455063a926"
   },
   "outputs": [],
   "source": [
    "# text_generator('Что приготовить?')"
   ]
  },
  {
   "cell_type": "code",
   "execution_count": null,
   "id": "c25fb02d",
   "metadata": {},
   "outputs": [],
   "source": [
    "# text_generator('Что посмотреть?')"
   ]
  },
  {
   "cell_type": "code",
   "execution_count": null,
   "id": "dbb290dc",
   "metadata": {},
   "outputs": [],
   "source": [
    "# text_generator('Что послушать?')"
   ]
  },
  {
   "cell_type": "code",
   "execution_count": null,
   "id": "9fff3ea2",
   "metadata": {},
   "outputs": [],
   "source": [
    "# text_generator('Что почитать?')"
   ]
  },
  {
   "cell_type": "code",
   "execution_count": null,
   "id": "68ab6de8",
   "metadata": {},
   "outputs": [],
   "source": [
    "# text_generator('Как подключить интернет?')"
   ]
  },
  {
   "cell_type": "code",
   "execution_count": 13,
   "id": "vwgRgF2-NPmx",
   "metadata": {
    "colab": {
     "base_uri": "https://localhost:8080/",
     "height": 52
    },
    "executionInfo": {
     "elapsed": 4535,
     "status": "ok",
     "timestamp": 1622553607026,
     "user": {
      "displayName": "Alexey Tankov",
      "photoUrl": "",
      "userId": "01729535101672247421"
     },
     "user_tz": -180
    },
    "id": "vwgRgF2-NPmx",
    "outputId": "9e8274a9-574b-43f5-ad5e-8cfd41e91928"
   },
   "outputs": [],
   "source": [
    "# text_generator('Как починить машину?')"
   ]
  },
  {
   "cell_type": "markdown",
   "id": "J0A33pg3Cy3v",
   "metadata": {
    "id": "J0A33pg3Cy3v"
   },
   "source": [
    "### python-telegram-bot"
   ]
  },
  {
   "cell_type": "code",
   "execution_count": 114,
   "id": "8e2ecdaf",
   "metadata": {
    "executionInfo": {
     "elapsed": 4,
     "status": "ok",
     "timestamp": 1622553732037,
     "user": {
      "displayName": "Alexey Tankov",
      "photoUrl": "",
      "userId": "01729535101672247421"
     },
     "user_tz": -180
    },
    "id": "8e2ecdaf"
   },
   "outputs": [],
   "source": [
    "updater = Updater(token='')\n",
    "dispatcher = updater.dispatcher"
   ]
  },
  {
   "cell_type": "code",
   "execution_count": 117,
   "id": "b12b29cf",
   "metadata": {
    "executionInfo": {
     "elapsed": 254,
     "status": "ok",
     "timestamp": 1622553889576,
     "user": {
      "displayName": "Alexey Tankov",
      "photoUrl": "",
      "userId": "01729535101672247421"
     },
     "user_tz": -180
    },
    "id": "b12b29cf"
   },
   "outputs": [],
   "source": [
    "def answer(update, context):\n",
    "    context.bot.send_message(chat_id=update.effective_chat.id, text=text_generator(update.message.text))\n",
    "    \n",
    "answer_handler = MessageHandler(Filters.text, answer)\n",
    "dispatcher.add_handler(answer_handler)"
   ]
  },
  {
   "cell_type": "code",
   "execution_count": 118,
   "id": "08da6a6c",
   "metadata": {
    "colab": {
     "base_uri": "https://localhost:8080/"
    },
    "executionInfo": {
     "elapsed": 872,
     "status": "ok",
     "timestamp": 1622553893469,
     "user": {
      "displayName": "Alexey Tankov",
      "photoUrl": "",
      "userId": "01729535101672247421"
     },
     "user_tz": -180
    },
    "id": "08da6a6c",
    "outputId": "c123e4d5-b23a-4c7e-edb5-59fad975a338"
   },
   "outputs": [
    {
     "name": "stdout",
     "output_type": "stream",
     "text": [
      "@MyPersonalAssistanBot - online\n"
     ]
    }
   ],
   "source": [
    "chat = True\n",
    "\n",
    "if chat:\n",
    "    updater.start_polling()\n",
    "    print('@MyPersonalAssistanBot - online')\n",
    "else:\n",
    "    updater.stop()\n",
    "    print('@MyPersonalAssistanBot - offline')"
   ]
  },
  {
   "cell_type": "code",
   "execution_count": null,
   "id": "18mjnNHPv5UN",
   "metadata": {
    "id": "18mjnNHPv5UN"
   },
   "outputs": [],
   "source": []
  }
 ],
 "metadata": {
  "accelerator": "GPU",
  "colab": {
   "collapsed_sections": [],
   "name": "transformer.ipynb",
   "provenance": [],
   "toc_visible": true
  },
  "kernelspec": {
   "display_name": "Python 3",
   "language": "python",
   "name": "python3"
  },
  "language_info": {
   "codemirror_mode": {
    "name": "ipython",
    "version": 3
   },
   "file_extension": ".py",
   "mimetype": "text/x-python",
   "name": "python",
   "nbconvert_exporter": "python",
   "pygments_lexer": "ipython3",
   "version": "3.8.10"
  }
 },
 "nbformat": 4,
 "nbformat_minor": 5
}
