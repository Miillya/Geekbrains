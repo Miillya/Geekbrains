{
 "cells": [
  {
   "cell_type": "markdown",
   "id": "dried-louisville",
   "metadata": {
    "id": "dried-louisville"
   },
   "source": [
    "### Setup libraries"
   ]
  },
  {
   "cell_type": "code",
   "execution_count": 5,
   "id": "ortbQg9AP2m4",
   "metadata": {
    "executionInfo": {
     "elapsed": 7,
     "status": "ok",
     "timestamp": 1622545033585,
     "user": {
      "displayName": "Alexey Tankov",
      "photoUrl": "",
      "userId": "01729535101672247421"
     },
     "user_tz": -180
    },
    "id": "ortbQg9AP2m4"
   },
   "outputs": [],
   "source": [
    "# pip install annoy # conda install -c conda-forge python-annoy\n",
    "# pip install compress_fasttext\n",
    "# pip install python-telegram-bot --upgrade\n",
    "# pip install pymorphy2\n",
    "# pip install stop_words"
   ]
  },
  {
   "cell_type": "markdown",
   "id": "unsigned-court",
   "metadata": {
    "id": "unsigned-court"
   },
   "source": [
    "### Import libraries"
   ]
  },
  {
   "cell_type": "code",
   "execution_count": 1,
   "id": "phantom-guatemala",
   "metadata": {
    "colab": {
     "base_uri": "https://localhost:8080/",
     "height": 17
    },
    "executionInfo": {
     "elapsed": 361,
     "status": "ok",
     "timestamp": 1622525729242,
     "user": {
      "displayName": "Alexey Tankov",
      "photoUrl": "",
      "userId": "01729535101672247421"
     },
     "user_tz": -180
    },
    "id": "phantom-guatemala",
    "outputId": "6835eab2-4f98-4be9-f392-4f3c89f72758"
   },
   "outputs": [
    {
     "data": {
      "text/html": [
       "<style>.container { width:72.5% !important; }</style>"
      ],
      "text/plain": [
       "<IPython.core.display.HTML object>"
      ]
     },
     "metadata": {},
     "output_type": "display_data"
    }
   ],
   "source": [
    "from IPython.core.display import display, HTML\n",
    "display(HTML(\"<style>.container { width:72.5% !important; }</style>\"))"
   ]
  },
  {
   "cell_type": "code",
   "execution_count": 2,
   "id": "cordless-colorado",
   "metadata": {
    "executionInfo": {
     "elapsed": 491,
     "status": "ok",
     "timestamp": 1622553883158,
     "user": {
      "displayName": "Alexey Tankov",
      "photoUrl": "",
      "userId": "01729535101672247421"
     },
     "user_tz": -180
    },
    "id": "cordless-colorado"
   },
   "outputs": [],
   "source": [
    "import numpy as np\n",
    "import pandas as pd\n",
    "\n",
    "import io\n",
    "import re\n",
    "import time\n",
    "import unicodedata\n",
    "from pathlib import Path\n",
    "from linecache import getline\n",
    "from tqdm.notebook import tqdm\n",
    "from collections import Counter\n",
    "import functools\n",
    "\n",
    "import annoy\n",
    "import string\n",
    "from pymorphy2 import MorphAnalyzer\n",
    "from stop_words import get_stop_words\n",
    "import compress_fasttext\n",
    "from gensim.models import FastText, KeyedVectors\n",
    "from gensim.models.fasttext import FastTextKeyedVectors\n",
    "\n",
    "\n",
    "from telegram.ext import Updater, CommandHandler, MessageHandler, Filters\n",
    "\n",
    "import matplotlib.pyplot as plt"
   ]
  },
  {
   "cell_type": "code",
   "execution_count": 3,
   "id": "a805da12",
   "metadata": {
    "executionInfo": {
     "elapsed": 16,
     "status": "ok",
     "timestamp": 1622525736681,
     "user": {
      "displayName": "Alexey Tankov",
      "photoUrl": "",
      "userId": "01729535101672247421"
     },
     "user_tz": -180
    },
    "id": "a805da12"
   },
   "outputs": [],
   "source": [
    "plt.rcParams.update({'font.size': 14})\n",
    "pd.set_option('precision', 3)\n",
    "pd.set_option('max_columns', 100)\n",
    "pd.set_option('display.float_format', lambda x: '%.5f' % x)\n",
    "pd.set_option('display.max_columns', 500)\n",
    "pd.set_option('display.max_rows', 500)\n",
    "pd.set_option('max_colwidth', 300)"
   ]
  },
  {
   "cell_type": "code",
   "execution_count": 4,
   "id": "3185cda5",
   "metadata": {
    "colab": {
     "base_uri": "https://localhost:8080/"
    },
    "executionInfo": {
     "elapsed": 333,
     "status": "ok",
     "timestamp": 1622525742031,
     "user": {
      "displayName": "Alexey Tankov",
      "photoUrl": "",
      "userId": "01729535101672247421"
     },
     "user_tz": -180
    },
    "id": "3185cda5",
    "outputId": "928baa90-0e3e-4e09-9790-e6c9dc3f0abd"
   },
   "outputs": [],
   "source": [
    "# device_name = tf.test.gpu_device_name()\n",
    "# if device_name != '/device:GPU:0':\n",
    "#     raise SystemError('GPU device not found')\n",
    "# print('Found GPU at: {}'.format(device_name))"
   ]
  },
  {
   "cell_type": "markdown",
   "id": "9985f75f",
   "metadata": {
    "id": "9985f75f"
   },
   "source": [
    "### Paths to directories and files"
   ]
  },
  {
   "cell_type": "code",
   "execution_count": 5,
   "id": "0hJ1SN7Tw4lh",
   "metadata": {
    "colab": {
     "base_uri": "https://localhost:8080/"
    },
    "executionInfo": {
     "elapsed": 26,
     "status": "ok",
     "timestamp": 1622525742032,
     "user": {
      "displayName": "Alexey Tankov",
      "photoUrl": "",
      "userId": "01729535101672247421"
     },
     "user_tz": -180
    },
    "id": "0hJ1SN7Tw4lh",
    "outputId": "efc609f2-86a0-4530-ee4f-aad8f41bbf94"
   },
   "outputs": [],
   "source": [
    "# from google.colab import drive\n",
    "# drive.mount('/content/gdrive')"
   ]
  },
  {
   "cell_type": "code",
   "execution_count": 6,
   "id": "530902aa",
   "metadata": {
    "executionInfo": {
     "elapsed": 22,
     "status": "ok",
     "timestamp": 1622525742033,
     "user": {
      "displayName": "Alexey Tankov",
      "photoUrl": "",
      "userId": "01729535101672247421"
     },
     "user_tz": -180
    },
    "id": "530902aa"
   },
   "outputs": [],
   "source": [
    "DRAFT_DATASET_PATH = 'E:/kaggle/mailru/Otvety.txt'\n",
    "# DRAFT_DATASET_PATH = '/content/gdrive/MyDrive/Colab Notebooks/my_projects/Otvety.txt'"
   ]
  },
  {
   "cell_type": "markdown",
   "id": "ec970111",
   "metadata": {
    "id": "ec970111"
   },
   "source": [
    "### Loading data"
   ]
  },
  {
   "cell_type": "code",
   "execution_count": 7,
   "id": "destroyed-limit",
   "metadata": {
    "executionInfo": {
     "elapsed": 62649,
     "status": "ok",
     "timestamp": 1622525804662,
     "user": {
      "displayName": "Alexey Tankov",
      "photoUrl": "",
      "userId": "01729535101672247421"
     },
     "user_tz": -180
    },
    "id": "destroyed-limit"
   },
   "outputs": [],
   "source": [
    "lines = io.open(DRAFT_DATASET_PATH, encoding='UTF-8').read()"
   ]
  },
  {
   "cell_type": "markdown",
   "id": "wicked-resistance",
   "metadata": {
    "id": "wicked-resistance"
   },
   "source": [
    "### Preprocessing data"
   ]
  },
  {
   "cell_type": "code",
   "execution_count": 8,
   "id": "11da6113",
   "metadata": {
    "executionInfo": {
     "elapsed": 230,
     "status": "ok",
     "timestamp": 1622525816546,
     "user": {
      "displayName": "Alexey Tankov",
      "photoUrl": "",
      "userId": "01729535101672247421"
     },
     "user_tz": -180
    },
    "id": "11da6113"
   },
   "outputs": [],
   "source": [
    "def preprocess_text(w):\n",
    "    w = re.sub(':\\)', '', w)\n",
    "    w = re.sub('[)\"]', '', w)\n",
    "    w = re.sub('<[^>]+>', ' ', w)\n",
    "    \n",
    "    w = re.sub('\\s*\\?\\s*\\.', '?', w)\n",
    "    w = re.sub('\\s*\\!\\s*\\.', '!', w)\n",
    "    w = re.sub('\\s*\\.', '.', w)\n",
    "    w = re.sub('\\.+', '.', w)\n",
    "    \n",
    "    w = re.sub('---', 'QUESTION', w)\n",
    "    \n",
    "    return w"
   ]
  },
  {
   "cell_type": "code",
   "execution_count": 9,
   "id": "28c5686a",
   "metadata": {
    "colab": {
     "base_uri": "https://localhost:8080/"
    },
    "executionInfo": {
     "elapsed": 261,
     "status": "ok",
     "timestamp": 1622525820285,
     "user": {
      "displayName": "Alexey Tankov",
      "photoUrl": "",
      "userId": "01729535101672247421"
     },
     "user_tz": -180
    },
    "id": "28c5686a",
    "outputId": "522599cd-51f4-4b67-e2ba-6345bd45b91a"
   },
   "outputs": [
    {
     "name": "stdout",
     "output_type": "stream",
     "text": [
      "1072593541\n"
     ]
    }
   ],
   "source": [
    "# print(type(lines))\n",
    "print(len(lines))"
   ]
  },
  {
   "cell_type": "code",
   "execution_count": 10,
   "id": "e4589fc1",
   "metadata": {
    "colab": {
     "base_uri": "https://localhost:8080/"
    },
    "executionInfo": {
     "elapsed": 1920,
     "status": "ok",
     "timestamp": 1622525823178,
     "user": {
      "displayName": "Alexey Tankov",
      "photoUrl": "",
      "userId": "01729535101672247421"
     },
     "user_tz": -180
    },
    "id": "e4589fc1",
    "outputId": "76c39d53-63a0-4b41-f591-15610b1ef13c"
   },
   "outputs": [
    {
     "name": "stdout",
     "output_type": "stream",
     "text": [
      "\n",
      "QUESTION\n",
      "вопрос о ТДВ давно и хорошо отдыхаем ЛИЧНО ВАМ здесь кого советовали завести? \n",
      "хомячка. \n",
      "мужика, йопаря, собачку и 50 кошек. \n",
      "Общение! \n",
      "паучка. \n",
      "Да пол мне бы памыть! А таг то ни чо. Типа ни каво! \n",
      "я тут вообще что бы пообщаться. \n",
      "А мне советовали сиси завести. \n",
      "Ну, слава богу, мужика завести ещё не советовали А вот сватать к кому только не сватали. \n",
      "мне тут советовали завести любовника, мужа и много кошек  приветик. \n",
      "QUESTION\n",
      "Как парни относятся к цветным линзам? Если у девушки то зеленые глаза, то голубые. \n",
      "меня вобще прикалывает эта тема. \n",
      "когда этобыло редкость - было забавно, а когда все знают, что эта фальшивка, то уже не прикольно, как силиконовые сиськи или как налепленные синтетические волосы. \n",
      "QUESTION\n",
      "Что делать, сегодня нашёл 2 миллиона рублей? \n",
      "Если это счастье  действительно на вас свалилось, лучше пойти в милицию и заявить о находке. Такие деньги просто так не терют, а что самое интересное их неприменно будут искать и поверьте мне найдут, видел подобное в жизни\n"
     ]
    }
   ],
   "source": [
    "NUM_EXAMPLES = 7777777\n",
    "text = preprocess_text(str(lines[:NUM_EXAMPLES]))\n",
    "print(text[:1000])"
   ]
  },
  {
   "cell_type": "code",
   "execution_count": 11,
   "id": "based-forward",
   "metadata": {},
   "outputs": [
    {
     "name": "stdout",
     "output_type": "stream",
     "text": [
      "7540254\n"
     ]
    }
   ],
   "source": [
    "print(len(text))"
   ]
  },
  {
   "cell_type": "code",
   "execution_count": 12,
   "id": "a1684fbb",
   "metadata": {},
   "outputs": [],
   "source": [
    "morpher = MorphAnalyzer()\n",
    "sw = set(get_stop_words('ru'))"
   ]
  },
  {
   "cell_type": "code",
   "execution_count": 13,
   "id": "little-builder",
   "metadata": {
    "executionInfo": {
     "elapsed": 225,
     "status": "ok",
     "timestamp": 1622525825160,
     "user": {
      "displayName": "Alexey Tankov",
      "photoUrl": "",
      "userId": "01729535101672247421"
     },
     "user_tz": -180
    },
    "id": "little-builder"
   },
   "outputs": [],
   "source": [
    "def split_by_sentence(sent):\n",
    "    sent = text.split('\\nQUESTION\\n')[1:]\n",
    "    \n",
    "    questions = []\n",
    "    contexts = []\n",
    "\n",
    "    for se in sent:\n",
    "        se = se.split('\\n')\n",
    "#         se = [i for i in se if (i not in string.punctuation)]\n",
    "        se = [morpher.parse(i.lower())[0].normal_form for i in se]\n",
    "#         se = [i for i in se if i not in sw and i != '']\n",
    "\n",
    "        questions.append(se[0].strip())\n",
    "        contexts.append(' '.join([f' {s}' for s in se[1:]]))\n",
    "    \n",
    "    return questions, contexts"
   ]
  },
  {
   "cell_type": "code",
   "execution_count": 14,
   "id": "handed-perception",
   "metadata": {
    "colab": {
     "base_uri": "https://localhost:8080/"
    },
    "executionInfo": {
     "elapsed": 393,
     "status": "ok",
     "timestamp": 1622525827913,
     "user": {
      "displayName": "Alexey Tankov",
      "photoUrl": "",
      "userId": "01729535101672247421"
     },
     "user_tz": -180
    },
    "id": "handed-perception",
    "outputId": "6eb484e0-bc27-4683-9e56-8731e139183f"
   },
   "outputs": [
    {
     "data": {
      "text/plain": [
       "('вопрос о тдв давно и хорошо отдыхаем лично вам здесь кого советовали завести?',\n",
       " ' хомячка.   мужика, йопаря, собачку и 50 кошек.   общение!   паучка.   да пол мне бы памыть! а таг то ни чо. типа ни каво!   я тут вообще что бы пообщаться.   а мне советовали сиси завести.   ну, слава богу, мужика завести ещё не советовали а вот сватать к кому только не сватали.   мне тут советовали завести любовника, мужа и много кошек  приветик. ')"
      ]
     },
     "execution_count": 14,
     "metadata": {},
     "output_type": "execute_result"
    }
   ],
   "source": [
    "questions, contexts = split_by_sentence(text)\n",
    "questions[0], contexts[0]"
   ]
  },
  {
   "cell_type": "code",
   "execution_count": 15,
   "id": "e0a3509e",
   "metadata": {},
   "outputs": [
    {
     "name": "stdout",
     "output_type": "stream",
     "text": [
      "102\n",
      "2694\n"
     ]
    },
    {
     "data": {
      "text/plain": [
       "(None, None)"
      ]
     },
     "execution_count": 15,
     "metadata": {},
     "output_type": "execute_result"
    }
   ],
   "source": [
    "print(len(questions[-1])), print(len(contexts[-1]))"
   ]
  },
  {
   "cell_type": "code",
   "execution_count": 16,
   "id": "6c15ca0a",
   "metadata": {
    "executionInfo": {
     "elapsed": 4,
     "status": "ok",
     "timestamp": 1622525828840,
     "user": {
      "displayName": "Alexey Tankov",
      "photoUrl": "",
      "userId": "01729535101672247421"
     },
     "user_tz": -180
    },
    "id": "6c15ca0a"
   },
   "outputs": [],
   "source": [
    "df = pd.DataFrame({'questions':questions, 'contexts':contexts})"
   ]
  },
  {
   "cell_type": "code",
   "execution_count": 17,
   "id": "135ae8df",
   "metadata": {},
   "outputs": [
    {
     "data": {
      "text/plain": [
       "questions    0\n",
       "contexts     0\n",
       "dtype: int64"
      ]
     },
     "execution_count": 17,
     "metadata": {},
     "output_type": "execute_result"
    }
   ],
   "source": [
    "df.isnull().sum()"
   ]
  },
  {
   "cell_type": "code",
   "execution_count": 18,
   "id": "254e329c",
   "metadata": {
    "executionInfo": {
     "elapsed": 2,
     "status": "ok",
     "timestamp": 1622525829223,
     "user": {
      "displayName": "Alexey Tankov",
      "photoUrl": "",
      "userId": "01729535101672247421"
     },
     "user_tz": -180
    },
    "id": "254e329c"
   },
   "outputs": [
    {
     "data": {
      "text/html": [
       "<div>\n",
       "<style scoped>\n",
       "    .dataframe tbody tr th:only-of-type {\n",
       "        vertical-align: middle;\n",
       "    }\n",
       "\n",
       "    .dataframe tbody tr th {\n",
       "        vertical-align: top;\n",
       "    }\n",
       "\n",
       "    .dataframe thead th {\n",
       "        text-align: right;\n",
       "    }\n",
       "</style>\n",
       "<table border=\"1\" class=\"dataframe\">\n",
       "  <thead>\n",
       "    <tr style=\"text-align: right;\">\n",
       "      <th></th>\n",
       "      <th>questions</th>\n",
       "      <th>contexts</th>\n",
       "    </tr>\n",
       "  </thead>\n",
       "  <tbody>\n",
       "    <tr>\n",
       "      <th>0</th>\n",
       "      <td>вопрос о тдв давно и хорошо отдыхаем лично вам здесь кого советовали завести?</td>\n",
       "      <td>хомячка.   мужика, йопаря, собачку и 50 кошек.   общение!   паучка.   да пол мне бы памыть! а таг то ни чо. типа ни каво!   я тут вообще что бы пообщаться.   а мне советовали сиси завести.   ну, слава богу, мужика завести ещё не советовали а вот сватать к кому только не сватали.   мне тут совет...</td>\n",
       "    </tr>\n",
       "    <tr>\n",
       "      <th>1</th>\n",
       "      <td>как парни относятся к цветным линзам? если у девушки то зеленые глаза, то голубые.</td>\n",
       "      <td>меня вобще прикалывает эта тема.   когда этобыло редкость - было забавно, а когда все знают, что эта фальшивка, то уже не прикольно, как силиконовые сиськи или как налепленные синтетические волосы.</td>\n",
       "    </tr>\n",
       "    <tr>\n",
       "      <th>2</th>\n",
       "      <td>что делать, сегодня нашёл 2 миллиона рублей?</td>\n",
       "      <td>если это счастье  действительно на вас свалилось, лучше пойти в милицию и заявить о находке. такие деньги просто так не терют, а что самое интересное их неприменно будут искать и поверьте мне найдут, видел подобное в жизни. можно нарваться на бабушку конечно, которая хотела помоч внуку с покупк...</td>\n",
       "    </tr>\n",
       "    <tr>\n",
       "      <th>3</th>\n",
       "      <td>эбу в двенашке называется итэлма что за эбу?</td>\n",
       "      <td>эбу — электронный блок управления двигателем автомобиля, его другое название — контроллер. он принимает информацию от многочисленных датчиков, обрабатывает ее по особым алгоритмам и, отталкиваясь от полученных данных, отдает команды исполнительным устройствам системы.   это завод. а эбу может и...</td>\n",
       "    </tr>\n",
       "    <tr>\n",
       "      <th>4</th>\n",
       "      <td>академия вампиров. сколько на даный момент частей книги академия вампиров?</td>\n",
       "      <td>4. охотники и жертвы, ледяной укус, поцелуй тьмы, кровная клятва.   на данное время их 6. часть 5- оковы для призрака (духовная связь часть 6-последняя жертва.</td>\n",
       "    </tr>\n",
       "  </tbody>\n",
       "</table>\n",
       "</div>"
      ],
      "text/plain": [
       "                                                                            questions  \\\n",
       "0       вопрос о тдв давно и хорошо отдыхаем лично вам здесь кого советовали завести?   \n",
       "1  как парни относятся к цветным линзам? если у девушки то зеленые глаза, то голубые.   \n",
       "2                                        что делать, сегодня нашёл 2 миллиона рублей?   \n",
       "3                                        эбу в двенашке называется итэлма что за эбу?   \n",
       "4          академия вампиров. сколько на даный момент частей книги академия вампиров?   \n",
       "\n",
       "                                                                                                                                                                                                                                                                                                      contexts  \n",
       "0   хомячка.   мужика, йопаря, собачку и 50 кошек.   общение!   паучка.   да пол мне бы памыть! а таг то ни чо. типа ни каво!   я тут вообще что бы пообщаться.   а мне советовали сиси завести.   ну, слава богу, мужика завести ещё не советовали а вот сватать к кому только не сватали.   мне тут совет...  \n",
       "1                                                                                                       меня вобще прикалывает эта тема.   когда этобыло редкость - было забавно, а когда все знают, что эта фальшивка, то уже не прикольно, как силиконовые сиськи или как налепленные синтетические волосы.   \n",
       "2   если это счастье  действительно на вас свалилось, лучше пойти в милицию и заявить о находке. такие деньги просто так не терют, а что самое интересное их неприменно будут искать и поверьте мне найдут, видел подобное в жизни. можно нарваться на бабушку конечно, которая хотела помоч внуку с покупк...  \n",
       "3   эбу — электронный блок управления двигателем автомобиля, его другое название — контроллер. он принимает информацию от многочисленных датчиков, обрабатывает ее по особым алгоритмам и, отталкиваясь от полученных данных, отдает команды исполнительным устройствам системы.   это завод. а эбу может и...  \n",
       "4                                                                                                                                             4. охотники и жертвы, ледяной укус, поцелуй тьмы, кровная клятва.   на данное время их 6. часть 5- оковы для призрака (духовная связь часть 6-последняя жертва.   "
      ]
     },
     "execution_count": 18,
     "metadata": {},
     "output_type": "execute_result"
    }
   ],
   "source": [
    "df.head()"
   ]
  },
  {
   "cell_type": "markdown",
   "id": "a4b00234",
   "metadata": {
    "id": "a4b00234"
   },
   "source": [
    "### ml_baseline"
   ]
  },
  {
   "cell_type": "code",
   "execution_count": 19,
   "id": "former-bedroom",
   "metadata": {},
   "outputs": [],
   "source": [
    "def normalize_answer(text):\n",
    "    \"\"\"Lower text and remove punctuation and extra whitespace.\"\"\"\n",
    "    return ' '.join(re.findall(r\"\\w+\", text)).lower()"
   ]
  },
  {
   "cell_type": "code",
   "execution_count": 20,
   "id": "74b90699",
   "metadata": {
    "executionInfo": {
     "elapsed": 240,
     "status": "ok",
     "timestamp": 1622525831559,
     "user": {
      "displayName": "Alexey Tankov",
      "photoUrl": "",
      "userId": "01729535101672247421"
     },
     "user_tz": -180
    },
    "id": "74b90699"
   },
   "outputs": [],
   "source": [
    "def f1_score(prediction, ground_truth):\n",
    "    prediction_tokens = normalize_answer(prediction).split()\n",
    "    ground_truth_tokens = normalize_answer(ground_truth).split()\n",
    "    common = Counter(prediction_tokens) & Counter(ground_truth_tokens)\n",
    "    num_same = len(common)\n",
    "    if num_same == 0:\n",
    "        return 0.0\n",
    "    precision = 1.0 * num_same / len(prediction_tokens)\n",
    "    recall = 1.0 * num_same / len(ground_truth_tokens)\n",
    "    f1 = (2 * precision * recall) / (precision + recall)\n",
    "    return f1"
   ]
  },
  {
   "cell_type": "code",
   "execution_count": 21,
   "id": "bf2250a1",
   "metadata": {},
   "outputs": [],
   "source": [
    "def sentence_to_word(sentences):\n",
    "    sentences_in_words = list()\n",
    "    for sentence in sentences:\n",
    "        sentences_in_words.append(tuple(normalize_answer(sentence).split()))\n",
    "    return sentences_in_words"
   ]
  },
  {
   "cell_type": "code",
   "execution_count": 22,
   "id": "c7366834",
   "metadata": {},
   "outputs": [],
   "source": [
    "def text_to_sentence(text):\n",
    "    sentences = text.split(\".\")\n",
    "    return [s.strip() for s in sentences if s.strip() != '']"
   ]
  },
  {
   "cell_type": "code",
   "execution_count": 23,
   "id": "fb0a4907",
   "metadata": {},
   "outputs": [],
   "source": [
    "def uniq_words(text):\n",
    "    return set(re.findall(\"\\w+\", text))"
   ]
  },
  {
   "cell_type": "code",
   "execution_count": 30,
   "id": "8232f48f",
   "metadata": {},
   "outputs": [],
   "source": [
    "def calculate_idfs(data):\n",
    "    counter_context = Counter()\n",
    "    uniq_contexts = data['contexts'].unique()\n",
    "    for contexts in tqdm(uniq_contexts, desc=\"calc idf\"):\n",
    "        set_words = uniq_words(contexts)\n",
    "        counter_context.update(set_words)\n",
    "\n",
    "    num_docs = uniq_contexts.shape[0]\n",
    "    idfs = {}\n",
    "    for word in counter_context:\n",
    "        idfs[word] = np.log(num_docs / counter_context[word])\n",
    "    return idfs"
   ]
  },
  {
   "cell_type": "code",
   "execution_count": 45,
   "id": "5d04ab0c",
   "metadata": {},
   "outputs": [],
   "source": [
    "class FeatureMaker(object):\n",
    "\n",
    "    \"\"\"\n",
    "    Класс для построения признаков из текста\n",
    "    Если есть колонка answer, то добавляется колонка target, если нет, то не добавляется.\n",
    "    \"\"\"\n",
    "\n",
    "    def __init__(self, dataframe, idfs):\n",
    "        self.data = dataframe.sort_values('contexts')\n",
    "        self.idfs = idfs\n",
    "\n",
    "        self.result = {}\n",
    "        self.keys = {}\n",
    "        self.rev_keys = {}\n",
    "        self.max_key = 0\n",
    "\n",
    "        self.morph = pymorphy2.MorphAnalyzer()\n",
    "        # Максимальная длинна в словах кандидатов\n",
    "        self.MAX_SPAN_LEN = 5\n",
    "        self.MORPH_TAGS = {\n",
    "            'NOUN', 'VERB', 'ADJF', 'ADJS', 'NUMR', 'PREP', 'CONJ', 'PRCL',\n",
    "            'INTJ', 'GRND', 'COMP', 'INFN', 'PRTF', 'PRTS', 'ADVB', 'NPRO',\n",
    "            'PRED', 'LATN', 'ROMN', 'UNKN'\n",
    "        }\n",
    "        columns = ['ADJF', 'ADJS', 'ADVB', 'COMP', 'CONJ', 'GRND', 'IDF (Span)', 'INFN',\n",
    "                   'INTJ', 'LATN', 'Left Length', 'Match IDF  (Span)',\n",
    "                   'Match IDF (Right of Span)', 'Match IDF (Whole Sentence)',\n",
    "                   'Match TF IDF (Left of Span)', 'NOUN', 'NPRO', 'NUMR', 'PRCL', 'PRED',\n",
    "                   'PREP', 'PRTF', 'PRTS', 'ROMN', 'Right Length', 'Sentence Length',\n",
    "                   'Span Length', 'UNKN', 'VERB']\n",
    "        if 'answer' in self.data.columns:\n",
    "            columns += ['target']\n",
    "        self.columns = columns\n",
    "        # preallocate data\n",
    "        for key in columns:\n",
    "            self.result[key] = [None] * self.data.shape[0] * 100\n",
    "\n",
    "    def make(self):\n",
    "        for data_ind in tqdm(self.data.index.values, desc=\"calc features\"):\n",
    "            self.generate_candidates_with_features(self.data.loc[data_ind])\n",
    "        for col_name in self.result:\n",
    "            self.result[col_name] = self.result[col_name][:self.max_key]\n",
    "        return pd.DataFrame.from_dict(self.result).fillna(0, inplace=False)\n",
    "\n",
    "    def generate_candidates_with_features(self, data_row):\n",
    "        contexts = data_row[\"contexts\"]\n",
    "        questions = data_row[\"questions\"]\n",
    "        if 'answer' in data_row:\n",
    "            answer = data_row[\"answer\"]\n",
    "        else:\n",
    "            answer = None\n",
    "        sentences = text_to_sentence(contexts)\n",
    "        sentences_in_words = sentence_to_word(sentences)\n",
    "        question_in_words = sentence_to_word([questions])[0]\n",
    "\n",
    "        # определение предложения для поиска ответа\n",
    "        # выбираем такое предложение, которое сильнее всего пересекается с вопросом\n",
    "        # это эвристика для уменьшения числа кандидатов\n",
    "        sentence_id = self.get_max_match_sentance_id(sentences_in_words,\n",
    "                                                     question_in_words)\n",
    "        sentence = sentences_in_words[sentence_id]\n",
    "        sentenceMorphy = self.convert_morphy(sentence)\n",
    "\n",
    "        # генерируем все воможные кандидаты для выбранного предложения и строим для них признаки\n",
    "        for i in range(len(sentence)):\n",
    "            for j in range(i + 1, min(i + 1 + self.MAX_SPAN_LEN, len(sentence) + 1)):\n",
    "                span_hash = self.calculate_key(sentence_id, (i, j))\n",
    "                self.generate_features_for_span(\n",
    "                    span_hash, sentence, question_in_words, (i, j),\n",
    "                    sentenceMorphy, answer)\n",
    "\n",
    "        # добавляем еще одного кандидата - все предложение\n",
    "        span = (0, len(sentence))\n",
    "        span_hash = self.calculate_key(sentence_id, span)\n",
    "        self.generate_features_for_span(span_hash, sentence, question_in_words,\n",
    "                                        span, sentenceMorphy, answer)\n",
    "\n",
    "    def generate_features_for_span(self, key, sentence, questions, span,\n",
    "                                   sentenceMorphy, answer):\n",
    "        \"\"\"\n",
    "        Метод для генерации признаков для ответа-кандидата\n",
    "        \"\"\"\n",
    "        self.add_column(key, 'Left Length', span[0])\n",
    "        self.add_column(key, 'Right Length', len(sentence) - span[1])\n",
    "        self.add_column(key, 'Sentence Length', len(sentence))\n",
    "        self.add_column(key, 'Span Length', span[1] - span[0])\n",
    "\n",
    "        self.add_idf_feature(key, 'IDF (Span)', sentence, span)\n",
    "\n",
    "        self.add_idf_match_feature(key, 'Match TF IDF (Left of Span)',\n",
    "                                   sentence, questions, (0, span[0]))\n",
    "        self.add_idf_match_feature(key, 'Match IDF (Right of Span)', sentence,\n",
    "                                   questions, (span[1], len(sentence)))\n",
    "        self.add_idf_match_feature(key, 'Match IDF (Whole Sentence)', sentence,\n",
    "                                   questions, (0, len(sentence)))\n",
    "        self.add_idf_match_feature(key, 'Match IDF  (Span)', sentence,\n",
    "                                   questions, span)\n",
    "\n",
    "        # добавляем признаки на основе частей речи слов\n",
    "        self.add_morph_tag_feature(key, sentenceMorphy, span)\n",
    "\n",
    "        if answer is not None:\n",
    "            self.add_column(key, 'target', f1_score(' '.join(sentence[span[0]:span[1]]), answer))\n",
    "\n",
    "    def get_max_match_sentance_id(self, sentences_in_words, question_in_words):\n",
    "        \"\"\"\n",
    "        поиск предложения в параграфе, которое сильнее всего пересекается с вопросом\n",
    "        \"\"\"\n",
    "        max_overlap = -1\n",
    "        max_match_sentance_id = None\n",
    "\n",
    "        question_words = set(question_in_words)\n",
    "        for sentance_id in range(len(sentences_in_words)):\n",
    "            overlap = len(set(sentences_in_words[sentance_id]) & question_words)\n",
    "            if overlap > max_overlap:\n",
    "                max_overlap = overlap\n",
    "                max_match_sentance_id = sentance_id\n",
    "\n",
    "        return max_match_sentance_id\n",
    "\n",
    "    def add_column(self, key, name, value):\n",
    "        \"\"\"\n",
    "        метод для добавления колонки в результирующие данные\n",
    "        \"\"\"\n",
    "        if len(self.result[name]) <= key:\n",
    "            self.result[name] += [None] * (key + 1 - len(self.result[name]))\n",
    "        self.result[name][key] = value\n",
    "\n",
    "    def add_idf_feature(self, key, name, sentence, span):\n",
    "        \"\"\"\n",
    "        добавление признаков вида \\sum_{w in span} idf[w]\n",
    "        \"\"\"\n",
    "        self.add_column(key, name, self.calculate_sum_idf_sentence(sentence, span))\n",
    "\n",
    "    @functools.lru_cache(maxsize=2 ** 14)\n",
    "    def calculate_sum_idf_sentence(self, sentence, span):\n",
    "        sum_idf = 0.0\n",
    "        for w in sentence[span[0]:span[1]]:\n",
    "            if w in self.idfs:\n",
    "                sum_idf += self.idfs[w]\n",
    "        return sum_idf\n",
    "\n",
    "    @functools.lru_cache(maxsize=2 ** 14)\n",
    "    def calculate_sum_idf_sentence_question(self, sentence, questions, span):\n",
    "        sum_idf = 0.0\n",
    "        for w in sentence[span[0]:span[1]]:\n",
    "            if w in questions and w in self.idfs:\n",
    "                sum_idf += self.idfs[w]\n",
    "        return sum_idf\n",
    "\n",
    "    def add_idf_match_feature(self, key, name, sentence, questions, span):\n",
    "        \"\"\"\n",
    "        добавление признаков вида \\sum_{w in span and w in question} idf[w]\n",
    "        \"\"\"\n",
    "        self.add_column(key, name,\n",
    "                        self.calculate_sum_idf_sentence_question(sentence, questions, span))\n",
    "\n",
    "    def calculate_key(self, sentence_id, span):\n",
    "        \"\"\"\n",
    "        метод для генерации уникального ключа в результирующей таблице\n",
    "        \"\"\"\n",
    "        key_tuple = (sentence_id, span[0], span[1])\n",
    "        if key_tuple not in self.keys:\n",
    "            self.keys[key_tuple] = self.max_key\n",
    "            self.rev_keys[self.max_key] = key_tuple\n",
    "            self.max_key += 1\n",
    "        return self.keys[key_tuple]\n",
    "\n",
    "    @functools.lru_cache(maxsize=2 ** 17)\n",
    "    def morphize(self, word):\n",
    "        return self.morph.parse(word)[0].tag.grammemes & self.MORPH_TAGS\n",
    "\n",
    "    @functools.lru_cache(maxsize=2 ** 4)\n",
    "    def convert_morphy(self, sentence):\n",
    "        return tuple((self.morphize(word) for word in sentence))\n",
    "\n",
    "    @functools.lru_cache(maxsize=2 ** 8)\n",
    "    def get_morph_counter(self, sentenceMorphy, span):\n",
    "        count_grammes = Counter((grammem for grammems in sentenceMorphy[span[0]:span[1]]\n",
    "                                 for grammem in grammems))\n",
    "        return count_grammes\n",
    "\n",
    "    def add_morph_tag_feature(self, key, sentenceMorphy, span):\n",
    "        count_grammes = self.get_morph_counter(sentenceMorphy, span)\n",
    "        for k in self.MORPH_TAGS:\n",
    "            self.add_column(key, k, count_grammes.get(k, 0))\n",
    "\n",
    "    def get_span(self, key):\n",
    "        \"\"\"\n",
    "        reverse opeartion for found selected answer\n",
    "        \"\"\"\n",
    "        sentence_id, i, j = self.rev_keys[key]\n",
    "#         contexts = self.data[(self.data[\"question_id\"] == question_id) & (self.data['paragraph_id'] == paragraph_id)].iloc[0][\"paragraph\"]\n",
    "\n",
    "        sentences = text_to_sentence(contexts)\n",
    "        sentences_in_words = sentence_to_word(sentences)\n",
    "        return ' '.join(sentences_in_words[sentence_id][i:j])"
   ]
  },
  {
   "cell_type": "code",
   "execution_count": 39,
   "id": "b1478f79",
   "metadata": {},
   "outputs": [
    {
     "data": {
      "application/vnd.jupyter.widget-view+json": {
       "model_id": "1be499f51511416a9e8030fe7f0b5bcc",
       "version_major": 2,
       "version_minor": 0
      },
      "text/plain": [
       "HBox(children=(FloatProgress(value=0.0, description='calc idf', max=8526.0, style=ProgressStyle(description_wi…"
      ]
     },
     "metadata": {},
     "output_type": "display_data"
    },
    {
     "name": "stdout",
     "output_type": "stream",
     "text": [
      "\n"
     ]
    }
   ],
   "source": [
    "idfs = calculate_idfs(df)"
   ]
  },
  {
   "cell_type": "code",
   "execution_count": 43,
   "id": "a3e35791",
   "metadata": {},
   "outputs": [],
   "source": [
    "import pymorphy2"
   ]
  },
  {
   "cell_type": "code",
   "execution_count": 46,
   "id": "d04d01af",
   "metadata": {},
   "outputs": [
    {
     "data": {
      "application/vnd.jupyter.widget-view+json": {
       "model_id": "fedc78d60cf64f798b2be5849960d0de",
       "version_major": 2,
       "version_minor": 0
      },
      "text/plain": [
       "HBox(children=(FloatProgress(value=0.0, description='calc features', max=8603.0, style=ProgressStyle(descripti…"
      ]
     },
     "metadata": {},
     "output_type": "display_data"
    },
    {
     "ename": "TypeError",
     "evalue": "list indices must be integers or slices, not NoneType",
     "output_type": "error",
     "traceback": [
      "\u001b[1;31m---------------------------------------------------------------------------\u001b[0m",
      "\u001b[1;31mTypeError\u001b[0m                                 Traceback (most recent call last)",
      "\u001b[1;32m<ipython-input-46-a56465eecef0>\u001b[0m in \u001b[0;36m<module>\u001b[1;34m\u001b[0m\n\u001b[0;32m      1\u001b[0m \u001b[0mmaker\u001b[0m \u001b[1;33m=\u001b[0m \u001b[0mFeatureMaker\u001b[0m\u001b[1;33m(\u001b[0m\u001b[0mdf\u001b[0m\u001b[1;33m.\u001b[0m\u001b[0mhead\u001b[0m\u001b[1;33m(\u001b[0m\u001b[1;36m10000\u001b[0m\u001b[1;33m)\u001b[0m\u001b[1;33m,\u001b[0m \u001b[0midfs\u001b[0m\u001b[1;33m)\u001b[0m\u001b[1;33m\u001b[0m\u001b[1;33m\u001b[0m\u001b[0m\n\u001b[1;32m----> 2\u001b[1;33m \u001b[0mtrain\u001b[0m \u001b[1;33m=\u001b[0m \u001b[0mmaker\u001b[0m\u001b[1;33m.\u001b[0m\u001b[0mmake\u001b[0m\u001b[1;33m(\u001b[0m\u001b[1;33m)\u001b[0m\u001b[1;33m\u001b[0m\u001b[1;33m\u001b[0m\u001b[0m\n\u001b[0m",
      "\u001b[1;32m<ipython-input-45-89e9dce7e02a>\u001b[0m in \u001b[0;36mmake\u001b[1;34m(self)\u001b[0m\n\u001b[0;32m     38\u001b[0m     \u001b[1;32mdef\u001b[0m \u001b[0mmake\u001b[0m\u001b[1;33m(\u001b[0m\u001b[0mself\u001b[0m\u001b[1;33m)\u001b[0m\u001b[1;33m:\u001b[0m\u001b[1;33m\u001b[0m\u001b[1;33m\u001b[0m\u001b[0m\n\u001b[0;32m     39\u001b[0m         \u001b[1;32mfor\u001b[0m \u001b[0mdata_ind\u001b[0m \u001b[1;32min\u001b[0m \u001b[0mtqdm\u001b[0m\u001b[1;33m(\u001b[0m\u001b[0mself\u001b[0m\u001b[1;33m.\u001b[0m\u001b[0mdata\u001b[0m\u001b[1;33m.\u001b[0m\u001b[0mindex\u001b[0m\u001b[1;33m.\u001b[0m\u001b[0mvalues\u001b[0m\u001b[1;33m,\u001b[0m \u001b[0mdesc\u001b[0m\u001b[1;33m=\u001b[0m\u001b[1;34m\"calc features\"\u001b[0m\u001b[1;33m)\u001b[0m\u001b[1;33m:\u001b[0m\u001b[1;33m\u001b[0m\u001b[1;33m\u001b[0m\u001b[0m\n\u001b[1;32m---> 40\u001b[1;33m             \u001b[0mself\u001b[0m\u001b[1;33m.\u001b[0m\u001b[0mgenerate_candidates_with_features\u001b[0m\u001b[1;33m(\u001b[0m\u001b[0mself\u001b[0m\u001b[1;33m.\u001b[0m\u001b[0mdata\u001b[0m\u001b[1;33m.\u001b[0m\u001b[0mloc\u001b[0m\u001b[1;33m[\u001b[0m\u001b[0mdata_ind\u001b[0m\u001b[1;33m]\u001b[0m\u001b[1;33m)\u001b[0m\u001b[1;33m\u001b[0m\u001b[1;33m\u001b[0m\u001b[0m\n\u001b[0m\u001b[0;32m     41\u001b[0m         \u001b[1;32mfor\u001b[0m \u001b[0mcol_name\u001b[0m \u001b[1;32min\u001b[0m \u001b[0mself\u001b[0m\u001b[1;33m.\u001b[0m\u001b[0mresult\u001b[0m\u001b[1;33m:\u001b[0m\u001b[1;33m\u001b[0m\u001b[1;33m\u001b[0m\u001b[0m\n\u001b[0;32m     42\u001b[0m             \u001b[0mself\u001b[0m\u001b[1;33m.\u001b[0m\u001b[0mresult\u001b[0m\u001b[1;33m[\u001b[0m\u001b[0mcol_name\u001b[0m\u001b[1;33m]\u001b[0m \u001b[1;33m=\u001b[0m \u001b[0mself\u001b[0m\u001b[1;33m.\u001b[0m\u001b[0mresult\u001b[0m\u001b[1;33m[\u001b[0m\u001b[0mcol_name\u001b[0m\u001b[1;33m]\u001b[0m\u001b[1;33m[\u001b[0m\u001b[1;33m:\u001b[0m\u001b[0mself\u001b[0m\u001b[1;33m.\u001b[0m\u001b[0mmax_key\u001b[0m\u001b[1;33m]\u001b[0m\u001b[1;33m\u001b[0m\u001b[1;33m\u001b[0m\u001b[0m\n",
      "\u001b[1;32m<ipython-input-45-89e9dce7e02a>\u001b[0m in \u001b[0;36mgenerate_candidates_with_features\u001b[1;34m(self, data_row)\u001b[0m\n\u001b[0;32m     59\u001b[0m         sentence_id = self.get_max_match_sentance_id(sentences_in_words,\n\u001b[0;32m     60\u001b[0m                                                      question_in_words)\n\u001b[1;32m---> 61\u001b[1;33m         \u001b[0msentence\u001b[0m \u001b[1;33m=\u001b[0m \u001b[0msentences_in_words\u001b[0m\u001b[1;33m[\u001b[0m\u001b[0msentence_id\u001b[0m\u001b[1;33m]\u001b[0m\u001b[1;33m\u001b[0m\u001b[1;33m\u001b[0m\u001b[0m\n\u001b[0m\u001b[0;32m     62\u001b[0m         \u001b[0msentenceMorphy\u001b[0m \u001b[1;33m=\u001b[0m \u001b[0mself\u001b[0m\u001b[1;33m.\u001b[0m\u001b[0mconvert_morphy\u001b[0m\u001b[1;33m(\u001b[0m\u001b[0msentence\u001b[0m\u001b[1;33m)\u001b[0m\u001b[1;33m\u001b[0m\u001b[1;33m\u001b[0m\u001b[0m\n\u001b[0;32m     63\u001b[0m \u001b[1;33m\u001b[0m\u001b[0m\n",
      "\u001b[1;31mTypeError\u001b[0m: list indices must be integers or slices, not NoneType"
     ]
    }
   ],
   "source": [
    "maker = FeatureMaker(df.head(10000), idfs)\n",
    "train = maker.make()"
   ]
  },
  {
   "cell_type": "code",
   "execution_count": 58,
   "id": "6e69c2ec",
   "metadata": {},
   "outputs": [],
   "source": [
    "# question_in_words"
   ]
  },
  {
   "cell_type": "code",
   "execution_count": 59,
   "id": "6a2daf07",
   "metadata": {},
   "outputs": [],
   "source": [
    "# sentences_in_words"
   ]
  },
  {
   "cell_type": "code",
   "execution_count": 61,
   "id": "c6295d37",
   "metadata": {},
   "outputs": [],
   "source": [
    "df['predictions'] = None\n",
    "for data_ind in df.index.values:\n",
    "    full_sentance = get_max_match_sentance(df.loc[data_ind])\n",
    "    df.loc[data_ind,('predictions')] = full_sentance"
   ]
  },
  {
   "cell_type": "code",
   "execution_count": 83,
   "id": "4e90cd1c",
   "metadata": {},
   "outputs": [
    {
     "data": {
      "text/html": [
       "<div>\n",
       "<style scoped>\n",
       "    .dataframe tbody tr th:only-of-type {\n",
       "        vertical-align: middle;\n",
       "    }\n",
       "\n",
       "    .dataframe tbody tr th {\n",
       "        vertical-align: top;\n",
       "    }\n",
       "\n",
       "    .dataframe thead th {\n",
       "        text-align: right;\n",
       "    }\n",
       "</style>\n",
       "<table border=\"1\" class=\"dataframe\">\n",
       "  <thead>\n",
       "    <tr style=\"text-align: right;\">\n",
       "      <th></th>\n",
       "      <th>questions</th>\n",
       "      <th>contexts</th>\n",
       "      <th>predictions</th>\n",
       "    </tr>\n",
       "  </thead>\n",
       "  <tbody>\n",
       "    <tr>\n",
       "      <th>0</th>\n",
       "      <td>вопрос о тдв давно и хорошо отдыхаем лично вам здесь кого советовали завести?</td>\n",
       "      <td>хомячка.   мужика, йопаря, собачку и 50 кошек.   общение!   паучка.   да пол мне бы памыть! а таг то ни чо. типа ни каво!   я тут вообще что бы пообщаться.   а мне советовали сиси завести.   ну, слава богу, мужика завести ещё не советовали а вот сватать к кому только не сватали.   мне тут совет...</td>\n",
       "      <td>хомячка</td>\n",
       "    </tr>\n",
       "    <tr>\n",
       "      <th>1</th>\n",
       "      <td>как парни относятся к цветным линзам? если у девушки то зеленые глаза, то голубые.</td>\n",
       "      <td>меня вобще прикалывает эта тема.   когда этобыло редкость - было забавно, а когда все знают, что эта фальшивка, то уже не прикольно, как силиконовые сиськи или как налепленные синтетические волосы.</td>\n",
       "      <td>меня вобще прикалывает эта тема</td>\n",
       "    </tr>\n",
       "    <tr>\n",
       "      <th>2</th>\n",
       "      <td>что делать, сегодня нашёл 2 миллиона рублей?</td>\n",
       "      <td>если это счастье  действительно на вас свалилось, лучше пойти в милицию и заявить о находке. такие деньги просто так не терют, а что самое интересное их неприменно будут искать и поверьте мне найдут, видел подобное в жизни. можно нарваться на бабушку конечно, которая хотела помоч внуку с покупк...</td>\n",
       "      <td>если это счастье  действительно на вас свалилось, лучше пойти в милицию и заявить о находке</td>\n",
       "    </tr>\n",
       "    <tr>\n",
       "      <th>3</th>\n",
       "      <td>эбу в двенашке называется итэлма что за эбу?</td>\n",
       "      <td>эбу — электронный блок управления двигателем автомобиля, его другое название — контроллер. он принимает информацию от многочисленных датчиков, обрабатывает ее по особым алгоритмам и, отталкиваясь от полученных данных, отдает команды исполнительным устройствам системы.   это завод. а эбу может и...</td>\n",
       "      <td>эбу — электронный блок управления двигателем автомобиля, его другое название — контроллер</td>\n",
       "    </tr>\n",
       "    <tr>\n",
       "      <th>4</th>\n",
       "      <td>академия вампиров. сколько на даный момент частей книги академия вампиров?</td>\n",
       "      <td>4. охотники и жертвы, ледяной укус, поцелуй тьмы, кровная клятва.   на данное время их 6. часть 5- оковы для призрака (духовная связь часть 6-последняя жертва.</td>\n",
       "      <td>4</td>\n",
       "    </tr>\n",
       "  </tbody>\n",
       "</table>\n",
       "</div>"
      ],
      "text/plain": [
       "                                                                            questions  \\\n",
       "0       вопрос о тдв давно и хорошо отдыхаем лично вам здесь кого советовали завести?   \n",
       "1  как парни относятся к цветным линзам? если у девушки то зеленые глаза, то голубые.   \n",
       "2                                        что делать, сегодня нашёл 2 миллиона рублей?   \n",
       "3                                        эбу в двенашке называется итэлма что за эбу?   \n",
       "4          академия вампиров. сколько на даный момент частей книги академия вампиров?   \n",
       "\n",
       "                                                                                                                                                                                                                                                                                                      contexts  \\\n",
       "0   хомячка.   мужика, йопаря, собачку и 50 кошек.   общение!   паучка.   да пол мне бы памыть! а таг то ни чо. типа ни каво!   я тут вообще что бы пообщаться.   а мне советовали сиси завести.   ну, слава богу, мужика завести ещё не советовали а вот сватать к кому только не сватали.   мне тут совет...   \n",
       "1                                                                                                       меня вобще прикалывает эта тема.   когда этобыло редкость - было забавно, а когда все знают, что эта фальшивка, то уже не прикольно, как силиконовые сиськи или как налепленные синтетические волосы.    \n",
       "2   если это счастье  действительно на вас свалилось, лучше пойти в милицию и заявить о находке. такие деньги просто так не терют, а что самое интересное их неприменно будут искать и поверьте мне найдут, видел подобное в жизни. можно нарваться на бабушку конечно, которая хотела помоч внуку с покупк...   \n",
       "3   эбу — электронный блок управления двигателем автомобиля, его другое название — контроллер. он принимает информацию от многочисленных датчиков, обрабатывает ее по особым алгоритмам и, отталкиваясь от полученных данных, отдает команды исполнительным устройствам системы.   это завод. а эбу может и...   \n",
       "4                                                                                                                                             4. охотники и жертвы, ледяной укус, поцелуй тьмы, кровная клятва.   на данное время их 6. часть 5- оковы для призрака (духовная связь часть 6-последняя жертва.    \n",
       "\n",
       "                                                                                   predictions  \n",
       "0                                                                                      хомячка  \n",
       "1                                                              меня вобще прикалывает эта тема  \n",
       "2  если это счастье  действительно на вас свалилось, лучше пойти в милицию и заявить о находке  \n",
       "3    эбу — электронный блок управления двигателем автомобиля, его другое название — контроллер  \n",
       "4                                                                                            4  "
      ]
     },
     "execution_count": 83,
     "metadata": {},
     "output_type": "execute_result"
    }
   ],
   "source": [
    "df.head()"
   ]
  },
  {
   "cell_type": "code",
   "execution_count": 33,
   "id": "b3b83bd1",
   "metadata": {},
   "outputs": [],
   "source": [
    "def f1_score(prediction, ground_truth):\n",
    "    prediction_tokens = normalize_answer(prediction).split()\n",
    "    ground_truth_tokens = normalize_answer(ground_truth).split()\n",
    "    common = Counter(prediction_tokens) & Counter(ground_truth_tokens)\n",
    "    num_same = sum(common.values())\n",
    "    if num_same == 0:\n",
    "        return 0\n",
    "    precision = 1.0 * num_same / len(prediction_tokens)\n",
    "    recall = 1.0 * num_same / len(ground_truth_tokens)\n",
    "    f1 = (2 * precision * recall) / (precision + recall)\n",
    "    return f1"
   ]
  },
  {
   "cell_type": "code",
   "execution_count": 34,
   "id": "c57a5945",
   "metadata": {},
   "outputs": [],
   "source": [
    "def get_score(df_solution, df_predictions):\n",
    "    score = {\n",
    "        'f1':\n",
    "        np.mean([\n",
    "            f1_score(prediction, answer) for answer, prediction in zip(df_solution, df_predictions)\n",
    "        ]),\n",
    "    }\n",
    "    return score"
   ]
  },
  {
   "cell_type": "code",
   "execution_count": 35,
   "id": "abf621c9",
   "metadata": {},
   "outputs": [],
   "source": [
    "# from collections import Counter"
   ]
  },
  {
   "cell_type": "code",
   "execution_count": 114,
   "id": "10f10601",
   "metadata": {},
   "outputs": [],
   "source": [
    "# df['answer'] = df['predictions']"
   ]
  },
  {
   "cell_type": "code",
   "execution_count": 115,
   "id": "53e30da3",
   "metadata": {},
   "outputs": [],
   "source": [
    "# del df['answer']"
   ]
  },
  {
   "cell_type": "code",
   "execution_count": 116,
   "id": "e96b2feb",
   "metadata": {},
   "outputs": [],
   "source": [
    "# if 'answer' in df.columns.values:\n",
    "#     print(get_score(df['predictions'].values, df['answer'].values))"
   ]
  },
  {
   "cell_type": "code",
   "execution_count": 118,
   "id": "311ad7bc",
   "metadata": {},
   "outputs": [],
   "source": [
    "# df.columns.values"
   ]
  },
  {
   "cell_type": "code",
   "execution_count": 119,
   "id": "bafeb273",
   "metadata": {},
   "outputs": [
    {
     "data": {
      "text/html": [
       "<div>\n",
       "<style scoped>\n",
       "    .dataframe tbody tr th:only-of-type {\n",
       "        vertical-align: middle;\n",
       "    }\n",
       "\n",
       "    .dataframe tbody tr th {\n",
       "        vertical-align: top;\n",
       "    }\n",
       "\n",
       "    .dataframe thead th {\n",
       "        text-align: right;\n",
       "    }\n",
       "</style>\n",
       "<table border=\"1\" class=\"dataframe\">\n",
       "  <thead>\n",
       "    <tr style=\"text-align: right;\">\n",
       "      <th></th>\n",
       "      <th>questions</th>\n",
       "      <th>contexts</th>\n",
       "      <th>predictions</th>\n",
       "      <th>answer</th>\n",
       "    </tr>\n",
       "  </thead>\n",
       "  <tbody>\n",
       "    <tr>\n",
       "      <th>0</th>\n",
       "      <td>вопрос о тдв давно и хорошо отдыхаем лично вам здесь кого советовали завести?</td>\n",
       "      <td>хомячка.   мужика, йопаря, собачку и 50 кошек.   общение!   паучка.   да пол мне бы памыть! а таг то ни чо. типа ни каво!   я тут вообще что бы пообщаться.   а мне советовали сиси завести.   ну, слава богу, мужика завести ещё не советовали а вот сватать к кому только не сватали.   мне тут совет...</td>\n",
       "      <td>хомячка</td>\n",
       "      <td>хомячка</td>\n",
       "    </tr>\n",
       "    <tr>\n",
       "      <th>1</th>\n",
       "      <td>как парни относятся к цветным линзам? если у девушки то зеленые глаза, то голубые.</td>\n",
       "      <td>меня вобще прикалывает эта тема.   когда этобыло редкость - было забавно, а когда все знают, что эта фальшивка, то уже не прикольно, как силиконовые сиськи или как налепленные синтетические волосы.</td>\n",
       "      <td>меня вобще прикалывает эта тема</td>\n",
       "      <td>меня вобще прикалывает эта тема</td>\n",
       "    </tr>\n",
       "    <tr>\n",
       "      <th>2</th>\n",
       "      <td>что делать, сегодня нашёл 2 миллиона рублей?</td>\n",
       "      <td>если это счастье  действительно на вас свалилось, лучше пойти в милицию и заявить о находке. такие деньги просто так не терют, а что самое интересное их неприменно будут искать и поверьте мне найдут, видел подобное в жизни. можно нарваться на бабушку конечно, которая хотела помоч внуку с покупк...</td>\n",
       "      <td>если это счастье  действительно на вас свалилось, лучше пойти в милицию и заявить о находке</td>\n",
       "      <td>если это счастье  действительно на вас свалилось, лучше пойти в милицию и заявить о находке</td>\n",
       "    </tr>\n",
       "    <tr>\n",
       "      <th>3</th>\n",
       "      <td>эбу в двенашке называется итэлма что за эбу?</td>\n",
       "      <td>эбу — электронный блок управления двигателем автомобиля, его другое название — контроллер. он принимает информацию от многочисленных датчиков, обрабатывает ее по особым алгоритмам и, отталкиваясь от полученных данных, отдает команды исполнительным устройствам системы.   это завод. а эбу может и...</td>\n",
       "      <td>эбу — электронный блок управления двигателем автомобиля, его другое название — контроллер</td>\n",
       "      <td>эбу — электронный блок управления двигателем автомобиля, его другое название — контроллер</td>\n",
       "    </tr>\n",
       "    <tr>\n",
       "      <th>4</th>\n",
       "      <td>академия вампиров. сколько на даный момент частей книги академия вампиров?</td>\n",
       "      <td>4. охотники и жертвы, ледяной укус, поцелуй тьмы, кровная клятва.   на данное время их 6. часть 5- оковы для призрака (духовная связь часть 6-последняя жертва.</td>\n",
       "      <td>4</td>\n",
       "      <td>4</td>\n",
       "    </tr>\n",
       "  </tbody>\n",
       "</table>\n",
       "</div>"
      ],
      "text/plain": [
       "                                                                            questions  \\\n",
       "0       вопрос о тдв давно и хорошо отдыхаем лично вам здесь кого советовали завести?   \n",
       "1  как парни относятся к цветным линзам? если у девушки то зеленые глаза, то голубые.   \n",
       "2                                        что делать, сегодня нашёл 2 миллиона рублей?   \n",
       "3                                        эбу в двенашке называется итэлма что за эбу?   \n",
       "4          академия вампиров. сколько на даный момент частей книги академия вампиров?   \n",
       "\n",
       "                                                                                                                                                                                                                                                                                                      contexts  \\\n",
       "0   хомячка.   мужика, йопаря, собачку и 50 кошек.   общение!   паучка.   да пол мне бы памыть! а таг то ни чо. типа ни каво!   я тут вообще что бы пообщаться.   а мне советовали сиси завести.   ну, слава богу, мужика завести ещё не советовали а вот сватать к кому только не сватали.   мне тут совет...   \n",
       "1                                                                                                       меня вобще прикалывает эта тема.   когда этобыло редкость - было забавно, а когда все знают, что эта фальшивка, то уже не прикольно, как силиконовые сиськи или как налепленные синтетические волосы.    \n",
       "2   если это счастье  действительно на вас свалилось, лучше пойти в милицию и заявить о находке. такие деньги просто так не терют, а что самое интересное их неприменно будут искать и поверьте мне найдут, видел подобное в жизни. можно нарваться на бабушку конечно, которая хотела помоч внуку с покупк...   \n",
       "3   эбу — электронный блок управления двигателем автомобиля, его другое название — контроллер. он принимает информацию от многочисленных датчиков, обрабатывает ее по особым алгоритмам и, отталкиваясь от полученных данных, отдает команды исполнительным устройствам системы.   это завод. а эбу может и...   \n",
       "4                                                                                                                                             4. охотники и жертвы, ледяной укус, поцелуй тьмы, кровная клятва.   на данное время их 6. часть 5- оковы для призрака (духовная связь часть 6-последняя жертва.    \n",
       "\n",
       "                                                                                   predictions  \\\n",
       "0                                                                                      хомячка   \n",
       "1                                                              меня вобще прикалывает эта тема   \n",
       "2  если это счастье  действительно на вас свалилось, лучше пойти в милицию и заявить о находке   \n",
       "3    эбу — электронный блок управления двигателем автомобиля, его другое название — контроллер   \n",
       "4                                                                                            4   \n",
       "\n",
       "                                                                                        answer  \n",
       "0                                                                                      хомячка  \n",
       "1                                                              меня вобще прикалывает эта тема  \n",
       "2  если это счастье  действительно на вас свалилось, лучше пойти в милицию и заявить о находке  \n",
       "3    эбу — электронный блок управления двигателем автомобиля, его другое название — контроллер  \n",
       "4                                                                                            4  "
      ]
     },
     "execution_count": 119,
     "metadata": {},
     "output_type": "execute_result"
    }
   ],
   "source": [
    "df.head()"
   ]
  },
  {
   "cell_type": "code",
   "execution_count": null,
   "id": "f25d15ff",
   "metadata": {},
   "outputs": [],
   "source": [
    "def evaluate(inp_sentence):\n",
    "    start_token = [tokenizer_en.vocab_size]\n",
    "    end_token = [tokenizer_en.vocab_size + 1]\n",
    "    \n",
    "    inp_sentence = start_token + tokenizer_en.encode(inp_sentence) + end_token\n",
    "    encoder_input = tf.expand_dims(inp_sentence, 0)\n",
    "\n",
    "    decoder_input = [tokenizer_en.vocab_size]\n",
    "    output = tf.expand_dims(decoder_input, 0)\n",
    "\n",
    "    for i in range(MAX_LEN):\n",
    "        enc_padding_mask, combined_mask, dec_padding_mask = create_masks(encoder_input, output)\n",
    "\n",
    "        predictions, attention_weights = transformer(\n",
    "            encoder_input, output, False,\n",
    "            enc_padding_mask, combined_mask, dec_padding_mask\n",
    "        )\n",
    "        predictions = predictions[:, -1:, :]\n",
    "        predicted_id = tf.cast(tf.argmax(predictions, axis=-1), tf.int32)\n",
    "\n",
    "        if predicted_id == tokenizer_en.vocab_size+1:\n",
    "            return tf.squeeze(output, axis=0), attention_weights\n",
    "\n",
    "        output = tf.concat([output, predicted_id], axis=-1)\n",
    "\n",
    "    return tf.squeeze(output, axis=0), attention_weights"
   ]
  },
  {
   "cell_type": "code",
   "execution_count": null,
   "id": "e38602a5",
   "metadata": {},
   "outputs": [],
   "source": [
    "def text_generator(sentence):\n",
    "    result, attention_weights = evaluate(sentence)\n",
    "    predicted_sentence = tokenizer_en.decode([i for i in result if i < tokenizer_en.vocab_size - 1])\n",
    "    \n",
    "    print(f'Input: {sentence}')\n",
    "    # print(f'Predicted message: {predicted_sentence}')\n",
    "    return predicted_sentence"
   ]
  },
  {
   "cell_type": "markdown",
   "id": "683b6d11",
   "metadata": {},
   "source": [
    "### Evaluate"
   ]
  },
  {
   "cell_type": "code",
   "execution_count": 10,
   "id": "f2afb7b1",
   "metadata": {
    "colab": {
     "base_uri": "https://localhost:8080/",
     "height": 52
    },
    "executionInfo": {
     "elapsed": 4532,
     "status": "ok",
     "timestamp": 1622553589673,
     "user": {
      "displayName": "Alexey Tankov",
      "photoUrl": "",
      "userId": "01729535101672247421"
     },
     "user_tz": -180
    },
    "id": "f2afb7b1",
    "outputId": "8993d0c8-1a15-450d-91f9-be0ff7e83fb5"
   },
   "outputs": [],
   "source": [
    "# text_generator('Что такое ЭБУ?')"
   ]
  },
  {
   "cell_type": "code",
   "execution_count": 11,
   "id": "188c0898",
   "metadata": {
    "colab": {
     "base_uri": "https://localhost:8080/",
     "height": 52
    },
    "executionInfo": {
     "elapsed": 4273,
     "status": "ok",
     "timestamp": 1622553593939,
     "user": {
      "displayName": "Alexey Tankov",
      "photoUrl": "",
      "userId": "01729535101672247421"
     },
     "user_tz": -180
    },
    "id": "188c0898",
    "outputId": "35bad333-35ad-4423-ec91-c6b28b888e59"
   },
   "outputs": [],
   "source": [
    "# text_generator('Чем заняться?')"
   ]
  },
  {
   "cell_type": "code",
   "execution_count": 12,
   "id": "bOtl1vRtKH7z",
   "metadata": {
    "colab": {
     "base_uri": "https://localhost:8080/",
     "height": 52
    },
    "executionInfo": {
     "elapsed": 4331,
     "status": "ok",
     "timestamp": 1622553598252,
     "user": {
      "displayName": "Alexey Tankov",
      "photoUrl": "",
      "userId": "01729535101672247421"
     },
     "user_tz": -180
    },
    "id": "bOtl1vRtKH7z",
    "outputId": "3736247f-be69-434d-e4d7-22455063a926"
   },
   "outputs": [],
   "source": [
    "# text_generator('Что приготовить?')"
   ]
  },
  {
   "cell_type": "code",
   "execution_count": null,
   "id": "c25fb02d",
   "metadata": {},
   "outputs": [],
   "source": [
    "# text_generator('Что посмотреть?')"
   ]
  },
  {
   "cell_type": "code",
   "execution_count": null,
   "id": "dbb290dc",
   "metadata": {},
   "outputs": [],
   "source": [
    "# text_generator('Что послушать?')"
   ]
  },
  {
   "cell_type": "code",
   "execution_count": null,
   "id": "9fff3ea2",
   "metadata": {},
   "outputs": [],
   "source": [
    "# text_generator('Что почитать?')"
   ]
  },
  {
   "cell_type": "code",
   "execution_count": null,
   "id": "68ab6de8",
   "metadata": {},
   "outputs": [],
   "source": [
    "# text_generator('Как подключить интернет?')"
   ]
  },
  {
   "cell_type": "code",
   "execution_count": 13,
   "id": "vwgRgF2-NPmx",
   "metadata": {
    "colab": {
     "base_uri": "https://localhost:8080/",
     "height": 52
    },
    "executionInfo": {
     "elapsed": 4535,
     "status": "ok",
     "timestamp": 1622553607026,
     "user": {
      "displayName": "Alexey Tankov",
      "photoUrl": "",
      "userId": "01729535101672247421"
     },
     "user_tz": -180
    },
    "id": "vwgRgF2-NPmx",
    "outputId": "9e8274a9-574b-43f5-ad5e-8cfd41e91928"
   },
   "outputs": [],
   "source": [
    "# text_generator('Как починить машину?')"
   ]
  },
  {
   "cell_type": "markdown",
   "id": "J0A33pg3Cy3v",
   "metadata": {
    "id": "J0A33pg3Cy3v"
   },
   "source": [
    "### python-telegram-bot"
   ]
  },
  {
   "cell_type": "code",
   "execution_count": 114,
   "id": "8e2ecdaf",
   "metadata": {
    "executionInfo": {
     "elapsed": 4,
     "status": "ok",
     "timestamp": 1622553732037,
     "user": {
      "displayName": "Alexey Tankov",
      "photoUrl": "",
      "userId": "01729535101672247421"
     },
     "user_tz": -180
    },
    "id": "8e2ecdaf"
   },
   "outputs": [],
   "source": [
    "updater = Updater(token='')\n",
    "dispatcher = updater.dispatcher"
   ]
  },
  {
   "cell_type": "code",
   "execution_count": 117,
   "id": "b12b29cf",
   "metadata": {
    "executionInfo": {
     "elapsed": 254,
     "status": "ok",
     "timestamp": 1622553889576,
     "user": {
      "displayName": "Alexey Tankov",
      "photoUrl": "",
      "userId": "01729535101672247421"
     },
     "user_tz": -180
    },
    "id": "b12b29cf"
   },
   "outputs": [],
   "source": [
    "def answer(update, context):\n",
    "    context.bot.send_message(chat_id=update.effective_chat.id, text=text_generator(update.message.text))\n",
    "    \n",
    "answer_handler = MessageHandler(Filters.text, answer)\n",
    "dispatcher.add_handler(answer_handler)"
   ]
  },
  {
   "cell_type": "code",
   "execution_count": 118,
   "id": "08da6a6c",
   "metadata": {
    "colab": {
     "base_uri": "https://localhost:8080/"
    },
    "executionInfo": {
     "elapsed": 872,
     "status": "ok",
     "timestamp": 1622553893469,
     "user": {
      "displayName": "Alexey Tankov",
      "photoUrl": "",
      "userId": "01729535101672247421"
     },
     "user_tz": -180
    },
    "id": "08da6a6c",
    "outputId": "c123e4d5-b23a-4c7e-edb5-59fad975a338"
   },
   "outputs": [
    {
     "name": "stdout",
     "output_type": "stream",
     "text": [
      "@MyPersonalAssistanBot - online\n"
     ]
    }
   ],
   "source": [
    "chat = True\n",
    "\n",
    "if chat:\n",
    "    updater.start_polling()\n",
    "    print('@MyPersonalAssistanBot - online')\n",
    "else:\n",
    "    updater.stop()\n",
    "    print('@MyPersonalAssistanBot - offline')"
   ]
  },
  {
   "cell_type": "code",
   "execution_count": null,
   "id": "18mjnNHPv5UN",
   "metadata": {
    "id": "18mjnNHPv5UN"
   },
   "outputs": [],
   "source": []
  }
 ],
 "metadata": {
  "accelerator": "GPU",
  "colab": {
   "collapsed_sections": [],
   "name": "transformer.ipynb",
   "provenance": [],
   "toc_visible": true
  },
  "kernelspec": {
   "display_name": "Python 3",
   "language": "python",
   "name": "python3"
  },
  "language_info": {
   "codemirror_mode": {
    "name": "ipython",
    "version": 3
   },
   "file_extension": ".py",
   "mimetype": "text/x-python",
   "name": "python",
   "nbconvert_exporter": "python",
   "pygments_lexer": "ipython3",
   "version": "3.7.10"
  }
 },
 "nbformat": 4,
 "nbformat_minor": 5
}
