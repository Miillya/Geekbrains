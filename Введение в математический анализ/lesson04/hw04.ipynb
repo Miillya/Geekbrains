{
 "cells": [
  {
   "cell_type": "code",
   "execution_count": 1,
   "metadata": {},
   "outputs": [],
   "source": [
    "import numpy as np\n",
    "import matplotlib.pyplot as plt\n",
    "\n",
    "import warnings\n",
    "warnings.filterwarnings('ignore')"
   ]
  },
  {
   "cell_type": "markdown",
   "metadata": {},
   "source": [
    "## Тема «Предел функции»"
   ]
  },
  {
   "cell_type": "markdown",
   "metadata": {},
   "source": [
    "#### 1. Предложить пример функции, не имеющей предела в нуле и в бесконечностях."
   ]
  },
  {
   "cell_type": "markdown",
   "metadata": {},
   "source": [
    "$\\lim_{x \\to 0} \\sin\\left(\\frac1x\\right)$\n",
    "\n",
    "$\\lim_{x \\to \\infty} \\sin(x)$\n",
    "\n",
    "$f(x) = \\sin(x) + \\sin\\left(\\frac1x\\right)$"
   ]
  },
  {
   "cell_type": "markdown",
   "metadata": {},
   "source": [
    "#### 2. Привести пример функции, не имеющей предела в точке, но определенной в ней."
   ]
  },
  {
   "cell_type": "markdown",
   "metadata": {},
   "source": [
    "## $f(x) = \\frac{|2x+5|}{2x+5}$\n",
    "\n",
    "\n",
    "Функция определена и непрерывна при всех x, за исключением точки $x = −\\frac52$, где существует разрыв."
   ]
  },
  {
   "cell_type": "markdown",
   "metadata": {},
   "source": [
    "#### 3. Исследовать функцию $f(x)=x^3-x^2$ по плану:\n",
    "  - Область задания и область значений.\n",
    "  - Нули функции и их кратность.\n",
    "  - Отрезки знакопостоянства.\n",
    "  - Интервалы монотонности.\n",
    "  - Четность функции.\n",
    "  - Ограниченность.\n",
    "  - Периодичность."
   ]
  },
  {
   "cell_type": "code",
   "execution_count": 2,
   "metadata": {},
   "outputs": [
    {
     "data": {
      "image/png": "[encoded data removed]",
      "text/plain": [
       "<Figure size 432x288 with 1 Axes>"
      ]
     },
     "metadata": {
      "needs_background": "light"
     },
     "output_type": "display_data"
    }
   ],
   "source": [
    "x = np.linspace(-0.5, 1.5, 101)\n",
    "\n",
    "y1 = x ** 2 * (x - 1)\n",
    "\n",
    "plt.plot(x, y1)\n",
    "\n",
    "plt.xlabel(\"x\")\n",
    "plt.ylabel(\"y\")\n",
    "plt.legend(labels=[\"$f(x) = x^3 - x^2$\"])\n",
    "\n",
    "plt.hlines(0, -0.5, 1.5, color='green')\n",
    "plt.vlines(0, -0.4, 1.1, color='green')\n",
    "\n",
    "plt.plot([0, 1], [0, 0], 'o')\n",
    "\n",
    "plt.grid()\n",
    "plt.show()"
   ]
  },
  {
   "cell_type": "markdown",
   "metadata": {},
   "source": [
    "- Область задания и область значений:\n",
    "\n",
    "$D(f) = \\mathbb{R}$\n",
    "\n",
    "$E(f) = \\mathbb{R}$\n",
    "- Нули функции и их кратность: $ x_0 = 0\\ $, $x_1 = 1 $ (корень 0 кратности 2 и корень 1 кратности 1)\n",
    "- Отрезки знакопостоянства: $ f(x) > 0 $ при $ x\\in(1,+\\infty) $, $ f(x) < 0 $ при $ x\\in(-\\infty,0)\\cup(0,1) $\n",
    "- Интервалы монотонности: $ f(x) $ не убывает при $ x\\in(-\\infty,0]\\cup[0.7,\\infty) $ , убывает при $ x\\in(0,0.7) $\n",
    "- Четность функции: не обладает свойством чётности\n",
    "- Ограниченность: не ограничена ни сверху, ни снизу\n",
    "- Периодичность: функция апериодична"
   ]
  },
  {
   "cell_type": "markdown",
   "metadata": {},
   "source": [
    "#### 4. Найти предел:"
   ]
  },
  {
   "cell_type": "markdown",
   "metadata": {},
   "source": [
    "a) $\\lim_{x \\to 0} (\\frac{3x^3-2x^2}{4x^2})=\\lim_{x \\to 0}(\\frac{x^2(3x-2)}{4x^2})=\\lim_{x \\to 0}(\\frac{3x}{4}-\\frac{1}{2})=-\\frac{1}{2}$"
   ]
  },
  {
   "cell_type": "markdown",
   "metadata": {},
   "source": [
    "b) $\\lim _{x \\rightarrow 0} \\frac{\\sqrt{1+x}-1}{\\sqrt[3]{1+x}-1} = \\frac00 = \\lim _{x \\rightarrow 0} \\frac{(\\sqrt{1+x}-1)'}{(\\sqrt[3]{1+x}-1)'} = \\lim _{x \\rightarrow 0} \\frac{\\frac{1}{2} (1+x)^{-\\frac{1}{2}}}{\\frac{1}{3} (1+x)^{-\\frac{2}{3}}} = \\frac{3}{2}$"
   ]
  },
  {
   "cell_type": "markdown",
   "metadata": {},
   "source": [
    "c) $\\lim _{x \\rightarrow \\infty}\\left(1+\\frac{k}{x}\\right)^{x}=e^{k}$\n",
    "\n",
    "$\\lim _{x \\rightarrow \\infty}\\left(\\frac{x+3}{x}\\right)^{4 x+1} = \\lim _{x \\rightarrow \\infty}\\left(1 + \\frac{3}{x}\\right)^{4 x}\\cdot \\lim _{x \\rightarrow \\infty}\\left(1 + \\frac{3}{x}\\right) = e^{12}$"
   ]
  },
  {
   "cell_type": "markdown",
   "metadata": {},
   "source": [
    "## Тема «Теоремы о пределах»"
   ]
  },
  {
   "cell_type": "markdown",
   "metadata": {},
   "source": [
    "#### Найти предел:"
   ]
  },
  {
   "cell_type": "markdown",
   "metadata": {},
   "source": [
    "a. Используем формулу первого замечательного предела\n",
    "\n",
    "$\\lim _{x \\rightarrow 0} \\frac{\\sin (2 x)}{4 x} = \\frac{1}{2} \\lim _{2x \\rightarrow 0} \\frac{\\sin (2 x)}{2 x} = \\frac{1}{2} \\cdot 1 = \\frac{1}{2}$"
   ]
  },
  {
   "cell_type": "markdown",
   "metadata": {},
   "source": [
    "b. Используем формулу первого замечательного предела\n",
    "\n",
    "$\\lim _{x \\rightarrow 0} \\frac{x}{\\sin x} = \\frac{\\lim _{x \\rightarrow 0} 1}{\\lim _{x \\rightarrow 0} \\frac{x}{\\sin x}} = \\frac{1}{1} = 1$"
   ]
  },
  {
   "cell_type": "markdown",
   "metadata": {},
   "source": [
    "c. Используем формулу первого замечательного предела и замену переменной $t=\\sin x$<br><br> $\\lim _{x \\rightarrow 0} \\frac{x}{\\arcsin x} = \\lim _{t \\rightarrow 0} \\frac{\\sin t}{t} = 1$"
   ]
  },
  {
   "cell_type": "markdown",
   "metadata": {},
   "source": [
    "d. Используем следствие из формулы второго замечательного предела и замену переменной $t = 4x - 3$<br><br>  $\\lim _{x \\rightarrow \\infty}\\left(1+\\frac{k}{x}\\right)^{x}=e^{k}$<br><br> $\\lim _{x \\rightarrow \\infty}\\left(\\frac{4 x+3}{4 x-3}\\right)^{6 x} = \\lim _{x \\rightarrow \\infty}\\left(1 + \\frac{6}{4 x-3}\\right)^{6 x} = \\lim _{t \\rightarrow \\infty}\\left(1 + \\frac{6}{t}\\right)^{\\frac{6}{4}t+\\frac{9}{2}} =\\lim _{t \\rightarrow \\infty}\\left(1 + \\frac{6}{t}\\right)^{\\frac{6}{4}t} \\cdot \\lim _{t \\rightarrow \\infty}\\left(1 + \\frac{6}{t}\\right)^{\\frac{9}{2}} = e^{6\\cdot\\frac{6}{4}} \\cdot 1 =  e^9$"
   ]
  },
  {
   "cell_type": "code",
   "execution_count": null,
   "metadata": {},
   "outputs": [],
   "source": []
  }
 ],
 "metadata": {
  "kernelspec": {
   "display_name": "Python 3",
   "language": "python",
   "name": "python3"
  },
  "language_info": {
   "codemirror_mode": {
    "name": "ipython",
    "version": 3
   },
   "file_extension": ".py",
   "mimetype": "text/x-python",
   "name": "python",
   "nbconvert_exporter": "python",
   "pygments_lexer": "ipython3",
   "version": "3.7.6"
  }
 },
 "nbformat": 4,
 "nbformat_minor": 2
}
