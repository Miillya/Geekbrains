{
 "cells": [
  {
   "cell_type": "code",
   "execution_count": 1,
   "metadata": {},
   "outputs": [],
   "source": [
    "import warnings\n",
    "warnings.filterwarnings('ignore')"
   ]
  },
  {
   "cell_type": "markdown",
   "metadata": {},
   "source": [
    "## Домашнее задание по теме «Производные функций нескольких переменных»."
   ]
  },
  {
   "cell_type": "markdown",
   "metadata": {},
   "source": [
    "### 1.       Найти область определения функции."
   ]
  },
  {
   "cell_type": "markdown",
   "metadata": {},
   "source": [
    "## $z=\\sqrt{1-x^{3}}+\\ln \\left(y^{2}-1\\right)$"
   ]
  },
  {
   "cell_type": "markdown",
   "metadata": {},
   "source": [
    "${x}\\;$: ${(1-x^{3}) \\geqslant 0 => 1\\geqslant x^{3} => x\\leqslant \\sqrt[3]{1} => x\\leqslant 1}$\n",
    "\n",
    "${y}\\;$: ${(y^{2}-1) > 0 => y^{2} > 1 => \\sqrt{y^{2}} > 1 => | y| > 1 => y < -1 || y > 1}$"
   ]
  },
  {
   "cell_type": "markdown",
   "metadata": {},
   "source": [
    "${D(f)\\;=\\left\\{\\begin{array}[c]{ll}x\\in[-\\infty;1]\\\\y\\in [-\\infty;-1] \\cup [1;+\\infty]\\end{array}\\right.}$"
   ]
  },
  {
   "cell_type": "markdown",
   "metadata": {},
   "source": [
    "### 2.       Найти производные 1-го порядка функции."
   ]
  },
  {
   "cell_type": "markdown",
   "metadata": {},
   "source": [
    "### $\\displaystyle z=\\left(1+\\frac{\\ln x}{\\ln y}\\right)^{3}$"
   ]
  },
  {
   "cell_type": "markdown",
   "metadata": {},
   "source": [
    "$\\displaystyle z'_x = 3\\left(1+\\frac{\\ln{x}}{\\ln{y}}\\right)^2\\left(1+\\frac{\\ln{x}}{\\ln{y}}\\right)'_x = 3\\left(1+\\frac{\\ln{x}}{\\ln{y}}\\right)^2\\cdot\\frac{1}{x\\ln{y}} = \\frac{3(\\ln{x}+\\ln{y})^2}{x\\ln^3 y}$"
   ]
  },
  {
   "cell_type": "markdown",
   "metadata": {},
   "source": [
    "$\\displaystyle z'_y = 3\\left(1+\\frac{\\ln{x}}{\\ln{y}}\\right)^2\\left(1+\\frac{\\ln{x}}{\\ln{y}}\\right)'_y =3\\left(1+\\frac{\\ln{x}}{\\ln{y}}\\right)^2 \\cdot \\ln x \\left(-\\frac{1}{\\ln^2 y}\\right)\\cdot (\\ln y)'_y = -3\\left(1+\\frac{\\ln{x}}{\\ln{y}}\\right)^2 \\cdot \\frac{\\ln x}{y \\ln^2 y} = -\\frac{3\\ln x (\\ln x + \\ln y)^2}{y\\ln^4 y}$"
   ]
  },
  {
   "cell_type": "markdown",
   "metadata": {},
   "source": [
    "### 3.       Найти полный дифференциал функции в точке (1;1)."
   ]
  },
  {
   "cell_type": "markdown",
   "metadata": {},
   "source": [
    "### $z=\\sqrt{2 x y+\\cos \\frac{x}{y}}$"
   ]
  },
  {
   "cell_type": "markdown",
   "metadata": {},
   "source": [
    "$\\displaystyle dz = \\frac{\\delta z}{\\delta x}dx + \\frac{\\delta z}{\\delta y}dy$"
   ]
  },
  {
   "cell_type": "markdown",
   "metadata": {},
   "source": [
    "$\\displaystyle {z^{\\prime }_{x}=\\left(\\frac{1}{2\\sqrt{2xy+\\cos\\left(\\frac{x}{y}\\right)}}\\right)\\cdot\\left ( 2y-\\sin\\left(\\frac{x}{y}\\right) \\cdot \\frac{1}{y}\\right) = \\frac{2y-\\frac{\\sin\\left(\\frac{x}{y}\\right)}{y}}{2\\sqrt{2xy+\\cos\\left(\\frac{x}{y}\\right)}} =\\frac{\\frac{2y^{2} -\\sin\\left(\\frac{x}{y}\\right)}{y}}{2\\sqrt{2xy+\\cos\\left(\\frac{x}{y}\\right)}} =\\frac{2y^{2} -\\sin\\left(\\frac{x}{y}\\right)}{2y\\sqrt{2xy+\\cos\\left(\\frac{x}{y}\\right)}}}$"
   ]
  },
  {
   "cell_type": "markdown",
   "metadata": {},
   "source": [
    "$\\displaystyle{z^{\\prime }_{y} =\\left(\\frac{1}{2\\sqrt{2xy+\\cos\\left(\\frac{x}{y}\\right)}}\\right)\\cdot\\left( 2x-\\sin\\left(\\frac{x}{y}\\right) \\cdot x\\cdot (-\\frac{1}{y^{2}})\\right) = \\frac{2x+\\frac{x\\sin\\left(\\frac{x}{y}\\right)}{y^{2}}}{2\\sqrt{2xy+\\cos\\left(\\frac{x}{y}\\right)}}= \\frac{\\frac{2xy^{2} +x\\sin\\left(\\frac{x}{y}\\right)}{y^{2}}}{2\\sqrt{2xy+\\cos\\left(\\frac{x}{y}\\right)}} =\\frac{2xy^{2} +x\\sin\\left(\\frac{x}{y}\\right)}{2y^{2}\\sqrt{2xy+\\cos\\left(\\frac{x}{y}\\right)}}}$"
   ]
  },
  {
   "cell_type": "markdown",
   "metadata": {},
   "source": [
    "$\\displaystyle {dz\\;( 1;1) =\\frac{2\\cdot 1^{2} -\\sin\\left(\\frac{1}{1}\\right)}{2\\cdot 1\\sqrt{2\\cdot 1\\cdot 1+\\cos\\left(\\frac{1}{1}\\right)}} dx+\\frac{2\\cdot 1\\cdot 1^{2} +1\\cdot \\sin\\left(\\frac{1}{1}\\right)}{2\\cdot 1^{2}\\sqrt{2\\cdot 1\\cdot 1+\\cos\\left(\\frac{1}{1}\\right)}} dy=\\frac{2 -\\sin( 1)}{2\\sqrt{2+\\cos( 1)}} dx+\\frac{2 +\\sin( 1)}{2\\sqrt{2+\\cos( 1)}} dy= 1.255}$"
   ]
  },
  {
   "cell_type": "markdown",
   "metadata": {},
   "source": [
    "### 4.       Исследовать на экстремум функцию"
   ]
  },
  {
   "cell_type": "markdown",
   "metadata": {},
   "source": [
    "### $z=x^{2}+x y+y^{2}-6 x-9 y$"
   ]
  },
  {
   "cell_type": "markdown",
   "metadata": {},
   "source": [
    "$\\displaystyle{\\frac{\\partial z}{\\partial x} = 2\\cdot x + y -6;\\; \\frac{\\partial z}{\\partial y} = x + 2\\cdot y -9}$"
   ]
  },
  {
   "cell_type": "markdown",
   "metadata": {},
   "source": [
    "$\\displaystyle{\\left\\{\\begin{array}[c]{ll}2\\cdot x+y-6 = 0\\\\x + 2\\cdot y -9=0 \\end{array}\\right.}$"
   ]
  },
  {
   "cell_type": "markdown",
   "metadata": {},
   "source": [
    "$\\displaystyle{x = (-2)\\cdot y+9\\; =>\\; (-3)\\cdot y+12 = 0\\; =>\\; y = 4\\; =>\\; x = 1}\\; =>\\; M_1(1;4)$ \n"
   ]
  },
  {
   "cell_type": "markdown",
   "metadata": {},
   "source": [
    "$\\displaystyle{\\frac{\\partial^2 z}{\\partial x \\partial y} = 1;\\; \\frac{\\partial^2 z}{\\partial x^2} = 2;\\;\\frac{\\partial^2 z}{\\partial y^2} = 2}$"
   ]
  },
  {
   "cell_type": "markdown",
   "metadata": {},
   "source": [
    "$\\displaystyle{A = \\frac{\\partial^2 z}{\\partial x^2(1;4)} = 2;\\; B = \\frac{\\partial^2 z}{\\partial x \\partial y (1;4)} = 1;\\; C = \\frac{\\partial^2 z}{\\partial y^2(1;4)} = 2 }$"
   ]
  },
  {
   "cell_type": "markdown",
   "metadata": {},
   "source": [
    "$\\displaystyle{A\\cdot C - B^2 = 3 > 0;\\; A > 0 => z_{min} = 1^2 + 1\\cdot 4 + 4^2 -6\\cdot 1 - 9\\cdot 4 = -21 }$"
   ]
  },
  {
   "cell_type": "code",
   "execution_count": null,
   "metadata": {},
   "outputs": [],
   "source": []
  }
 ],
 "metadata": {
  "kernelspec": {
   "display_name": "Python 3",
   "language": "python",
   "name": "python3"
  },
  "language_info": {
   "codemirror_mode": {
    "name": "ipython",
    "version": 3
   },
   "file_extension": ".py",
   "mimetype": "text/x-python",
   "name": "python",
   "nbconvert_exporter": "python",
   "pygments_lexer": "ipython3",
   "version": "3.7.6"
  }
 },
 "nbformat": 4,
 "nbformat_minor": 2
}
