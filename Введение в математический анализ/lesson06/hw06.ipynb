{
 "cells": [
  {
   "cell_type": "markdown",
   "metadata": {},
   "source": [
    "# Тема 6 «Понятие о производной»"
   ]
  },
  {
   "cell_type": "markdown",
   "metadata": {},
   "source": [
    "#### 1. Найти производную выражения:"
   ]
  },
  {
   "cell_type": "markdown",
   "metadata": {},
   "source": [
    "a) $(\\sin{x}\\cdot\\cos{x})' = \\sin'{x} \\cos{x} + \\sin{x}\\cos'{x} = \\cos^2{x} - \\sin^2{x}$"
   ]
  },
  {
   "cell_type": "markdown",
   "metadata": {},
   "source": [
    "b) $\\ln'(2x+1)^3 = \\frac{((2x+1)^3)'}{(2x+1)^3} = \\frac{6(2x+1)^2}{(2x+1)^3} = \\frac{6}{2x+1}$"
   ]
  },
  {
   "cell_type": "markdown",
   "metadata": {},
   "source": [
    "c) $\\left(\\sqrt{\\sin^2(\\ln x^3)}\\right)' = \\frac{(\\sin^2(\\ln x^3))'}{2\\sqrt{\\sin^2(\\ln x^3)}} = \\frac{2\\sin(\\ln x^3)\\sin'(\\ln x^3)}{2\\sqrt{\\sin^2(\\ln x^3)}} = \\frac{2\\sin(\\ln x^3)\\cos(\\ln x^3)\\ln' x^3}{2\\sqrt{\\sin^2(\\ln x^3)}} = \\frac{2\\sin(\\ln x^3)\\cos(\\ln x^3)\\cdot 3x^2}{2 x^3\\sqrt{\\sin^2(\\ln x^3)}} = $"
   ]
  },
  {
   "cell_type": "markdown",
   "metadata": {},
   "source": [
    "$=\\frac{2\\sin(\\ln x^3)\\cos(\\ln x^3)\\cdot 3x^2}{2 x^3\\sqrt{\\sin^2(\\ln x^3)}} = \\frac{3\\sin(\\ln x^3)\\cos(\\ln x^3) \\sqrt{\\sin^2(\\ln x^3)}}{x\\sin^2(\\ln x^3)} = \\frac{3 ctg(\\ln x^3)\\sqrt{\\sin^2(\\ln x^3)}}{x}$"
   ]
  },
  {
   "cell_type": "markdown",
   "metadata": {},
   "source": [
    "d) $\\left(\\frac{x^4}{\\ln x}\\right)' = \\frac{(x^4)'\\ln x - x^4 \\ln' x}{\\ln^2 x} = \\frac{3x^3\\ln x - x^3}{\\ln^2 x}$"
   ]
  },
  {
   "cell_type": "markdown",
   "metadata": {},
   "source": [
    "#### 2. Найти выражение производной функции и ее значение в точке:"
   ]
  },
  {
   "cell_type": "markdown",
   "metadata": {},
   "source": [
    "$f(x) = \\cos(x^2 + 3x)$, $x_0 = \\sqrt{\\pi}$"
   ]
  },
  {
   "cell_type": "markdown",
   "metadata": {},
   "source": [
    "$f'(x) = -\\sin(x^2 + 3x)\\cdot (x^2+3x)' = -\\sin(x^2 + 3x)\\cdot (2x+3)$"
   ]
  },
  {
   "cell_type": "markdown",
   "metadata": {},
   "source": [
    "$f'(\\sqrt{\\pi}) = -\\sin(\\pi + 3\\sqrt{\\pi})\\cdot (2\\sqrt{\\pi}+3)$"
   ]
  },
  {
   "cell_type": "code",
   "execution_count": 2,
   "metadata": {},
   "outputs": [
    {
     "data": {
      "text/plain": [
       "-5.383302410890619"
      ]
     },
     "execution_count": 2,
     "metadata": {},
     "output_type": "execute_result"
    }
   ],
   "source": [
    "import numpy as np\n",
    "-np.sin(np.pi + 3 * np.sqrt(np.pi)) * (2 * np.sqrt(np.pi) + 3)"
   ]
  },
  {
   "cell_type": "markdown",
   "metadata": {},
   "source": [
    "#### 3. * Найти значение производной функции в точке:"
   ]
  },
  {
   "cell_type": "markdown",
   "metadata": {},
   "source": [
    "$f(x)=\\displaystyle \\frac{x^{3}-x^{2}-x-1}{1+2 x+3 x^{2}-4 x^{3}}$, $x_{0}=0$"
   ]
  },
  {
   "cell_type": "markdown",
   "metadata": {},
   "source": [
    "$f^{\\prime}(x)=\\displaystyle \\left.\\frac{\\left(x^{3}-x^{2}-x-1\\right)'(1+2 x+3 x^{2}-4 x^{3}) - \\left(x^{3}-x^{2}-x-1\\right)(1+2 x+3 x^{2}-4 x^{3})'}{\\left(1+2 x+3 x^{2}-4 x^{3}\\right)^{2}}\\right|_{x=0} = $"
   ]
  },
  {
   "cell_type": "markdown",
   "metadata": {},
   "source": [
    "$=\\displaystyle \\left.\\frac{\\left(3x^{2}-2x^{}-1\\right)\\cdot 1 - (-1)\\cdot(2+6 x-12 x^{2})}{1^{2}}\\right|_{x=0} = -1 + 2 = 1$"
   ]
  },
  {
   "cell_type": "markdown",
   "metadata": {},
   "source": [
    "$f'(0) = 1$"
   ]
  },
  {
   "cell_type": "code",
   "execution_count": 3,
   "metadata": {},
   "outputs": [],
   "source": [
    "x = 0"
   ]
  },
  {
   "cell_type": "code",
   "execution_count": 4,
   "metadata": {},
   "outputs": [
    {
     "data": {
      "text/plain": [
       "1"
      ]
     },
     "execution_count": 4,
     "metadata": {},
     "output_type": "execute_result"
    }
   ],
   "source": [
    "chislitel =  (3*x**2 - 2*x - 1) * (1+2*x+3*x**2-4*x**3)-(x**3-x**2-x-1) * (2 + 6*x - 12 * x**2)\n",
    "chislitel"
   ]
  },
  {
   "cell_type": "code",
   "execution_count": 5,
   "metadata": {},
   "outputs": [
    {
     "data": {
      "text/plain": [
       "1"
      ]
     },
     "execution_count": 5,
     "metadata": {},
     "output_type": "execute_result"
    }
   ],
   "source": [
    "znamenatel = (1+2*x+3*x**2-4*x**3)**2\n",
    "znamenatel"
   ]
  },
  {
   "cell_type": "code",
   "execution_count": 6,
   "metadata": {},
   "outputs": [
    {
     "name": "stdout",
     "output_type": "stream",
     "text": [
      "Ответ: при х = 0 значение функции = 1.0\n"
     ]
    }
   ],
   "source": [
    "print(f'Ответ: при х = 0 значение функции = {chislitel / znamenatel}')"
   ]
  },
  {
   "cell_type": "markdown",
   "metadata": {},
   "source": [
    "#### 4. Найти угол наклона касательной к графику функции в точке:"
   ]
  },
  {
   "cell_type": "markdown",
   "metadata": {},
   "source": [
    "$f(x) = \\sqrt{3x} \\cdot \\ln x, x_0 = 1$"
   ]
  },
  {
   "cell_type": "markdown",
   "metadata": {},
   "source": [
    "$\\displaystyle f'(x) = (\\sqrt{3x})' \\cdot \\ln x + \\sqrt{3x} \\cdot \\ln' x = (\\sqrt{3x})' \\cdot \\ln x + \\frac{\\sqrt{3x}}{x}$"
   ]
  },
  {
   "cell_type": "markdown",
   "metadata": {},
   "source": [
    "$\\displaystyle f'(1) = 0 + \\frac{\\sqrt{3}}{1} = \\sqrt{3}$"
   ]
  },
  {
   "cell_type": "markdown",
   "metadata": {},
   "source": [
    "$\\displaystyle \\angle \\alpha=arctg \\sqrt{3}=\\frac{\\pi}{3} = 60^{\\circ}$"
   ]
  },
  {
   "cell_type": "code",
   "execution_count": 7,
   "metadata": {},
   "outputs": [],
   "source": [
    "import math"
   ]
  },
  {
   "cell_type": "code",
   "execution_count": 8,
   "metadata": {},
   "outputs": [],
   "source": [
    "x = 1\n",
    "a = 3/2*math.sqrt(3*x)*math.log(x) + math.sqrt(3*x) * 1/x"
   ]
  },
  {
   "cell_type": "code",
   "execution_count": 10,
   "metadata": {},
   "outputs": [
    {
     "name": "stdout",
     "output_type": "stream",
     "text": [
      "Ответ: угол наклона касательной равен 59.99999999999999\n"
     ]
    }
   ],
   "source": [
    "print(f'Ответ: угол наклона касательной равен {math.degrees(math.atan(a))}')"
   ]
  },
  {
   "cell_type": "code",
   "execution_count": null,
   "metadata": {},
   "outputs": [],
   "source": []
  }
 ],
 "metadata": {
  "kernelspec": {
   "display_name": "Python 3",
   "language": "python",
   "name": "python3"
  },
  "language_info": {
   "codemirror_mode": {
    "name": "ipython",
    "version": 3
   },
   "file_extension": ".py",
   "mimetype": "text/x-python",
   "name": "python",
   "nbconvert_exporter": "python",
   "pygments_lexer": "ipython3",
   "version": "3.7.6"
  }
 },
 "nbformat": 4,
 "nbformat_minor": 2
}
