{
 "cells": [
  {
   "cell_type": "markdown",
   "metadata": {},
   "source": [
    "### Теория вероятностей и математическая статистика.\n",
    "### Урок 3. Описательная статистика. Качественные и количественные характеристики популяции. Графическое представление данных."
   ]
  },
  {
   "cell_type": "code",
   "execution_count": 41,
   "metadata": {},
   "outputs": [],
   "source": [
    "import numpy as np\n",
    "import pandas as pd\n",
    "import matplotlib.pyplot as plt\n",
    "import warnings\n",
    "warnings.filterwarnings('ignore')\n",
    "from math import factorial, exp"
   ]
  },
  {
   "cell_type": "code",
   "execution_count": 42,
   "metadata": {},
   "outputs": [],
   "source": [
    "def combinations(n, k):\n",
    "    return int(factorial(n) / (factorial(k) * factorial(n - k)))"
   ]
  },
  {
   "cell_type": "markdown",
   "metadata": {},
   "source": [
    "#### 1. Даны значения зарплат из выборки выпускников: 100, 80, 75, 77, 89, 33, 45, 25, 65, 17, 30, 24, 57, 55, 70, 75, 65, 84, 90, 150. Посчитать (желательно без использования статистических методов наподобие std, var, mean) среднее арифметическое, среднее квадратичное отклонение, смещенную и несмещенную оценки дисперсий для данной выборки."
   ]
  },
  {
   "cell_type": "code",
   "execution_count": 43,
   "metadata": {},
   "outputs": [],
   "source": [
    "a = np.array([100, 80, 75, 77, 89, 33, 45, 25, 65, 17, 30, 24, 57, 55, 70, 75, 65, 84, 90, 150])"
   ]
  },
  {
   "cell_type": "code",
   "execution_count": 44,
   "metadata": {},
   "outputs": [
    {
     "name": "stdout",
     "output_type": "stream",
     "text": [
      "среднее арифметическое: 65.3\n"
     ]
    }
   ],
   "source": [
    "sr = a.sum()/len(a)\n",
    "print(f'среднее арифметическое: {sr}')"
   ]
  },
  {
   "cell_type": "code",
   "execution_count": 45,
   "metadata": {},
   "outputs": [
    {
     "name": "stdout",
     "output_type": "stream",
     "text": [
      "среднее квадратичное отклонение: 30.823854398825596\n"
     ]
    }
   ],
   "source": [
    "std = np.sqrt(((a - sr)**2).sum() / (len(a)))\n",
    "print(f'среднее квадратичное отклонение: {std}')"
   ]
  },
  {
   "cell_type": "code",
   "execution_count": 46,
   "metadata": {},
   "outputs": [
    {
     "name": "stdout",
     "output_type": "stream",
     "text": [
      "смещенная оценка дисперсии: 950.11\n"
     ]
    }
   ],
   "source": [
    "var = ((a - sr)**2).sum() / (len(a))\n",
    "print(f'смещенная оценка дисперсии: {var}')"
   ]
  },
  {
   "cell_type": "code",
   "execution_count": 47,
   "metadata": {},
   "outputs": [
    {
     "name": "stdout",
     "output_type": "stream",
     "text": [
      "несмещенная оценка дисперсии: 1000.1157894736842\n"
     ]
    }
   ],
   "source": [
    "var_n = ((a - sr)**2).sum() / (len(a) - 1)\n",
    "print(f'несмещенная оценка дисперсии: {var_n}')"
   ]
  },
  {
   "cell_type": "markdown",
   "metadata": {},
   "source": [
    "#### 2. В первом ящике находится 8 мячей, из которых 5 - белые. Во втором ящике - 12 мячей, из которых 5 белых. Из первого ящика вытаскивают случайным образом два мяча, из второго - 4. Какова вероятность того, что 3 мяча белые?"
   ]
  },
  {
   "cell_type": "code",
   "execution_count": 48,
   "metadata": {},
   "outputs": [
    {
     "name": "stdout",
     "output_type": "stream",
     "text": [
      "Вероятность того, что 3 мяча белые: 0.3686868686868687\n"
     ]
    }
   ],
   "source": [
    "P1 = (combinations(5, 2)/combinations(8, 2))*(combinations(5, 1)*combinations(7, 3)/combinations(12, 4))\n",
    "P2 = (combinations(5, 1) * combinations(3, 1)/combinations(8, 2))*(combinations(5, 2)*combinations(7, 2)/combinations(12, 4))\n",
    "P3 = (combinations(3, 2)/combinations(8, 2))*(combinations(5, 3)*combinations(7, 1)/combinations(12, 4))\n",
    "white_three = P1 + P2 + P3\n",
    "print(f'Вероятность того, что 3 мяча белые: {white_three}')"
   ]
  },
  {
   "cell_type": "markdown",
   "metadata": {},
   "source": [
    "#### 3. На соревновании по биатлону один из трех спортсменов стреляет и попадает в мишень. Вероятность попадания для первого спортсмена равна 0.9, для второго — 0.8, для третьего — 0.6. Найти вероятность того, что выстрел произведен: a). первым спортсменом б). вторым спортсменом в). третьим спортсменом."
   ]
  },
  {
   "cell_type": "code",
   "execution_count": 49,
   "metadata": {},
   "outputs": [
    {
     "name": "stdout",
     "output_type": "stream",
     "text": [
      "Вероятность того, что выстрел произведен:\n",
      " a) первым спортсменом - 0.3913043478260869,\n",
      " б) вторым спортсменом - 0.34782608695652173,\n",
      " в) третьим спортсменом - 0.26086956521739124.\n"
     ]
    }
   ],
   "source": [
    "P1 = 0.9\n",
    "P2 = 0.8\n",
    "P3 = 0.6\n",
    "PA = (1/3) * (P1 + P2 + P3)\n",
    "\n",
    "PA1 = (1/3) * P1 / PA\n",
    "PA2 = (1/3) * P2 / PA\n",
    "PA3 = (1/3) * P3 / PA\n",
    "print(f'Вероятность того, что выстрел произведен:\\n a) первым спортсменом - {PA1},\\n б) вторым спортсменом - {PA2},\\n в) третьим спортсменом - {PA3}.')"
   ]
  },
  {
   "cell_type": "markdown",
   "metadata": {},
   "source": [
    "#### 4. В университет на факультеты A и B поступило равное количество студентов, а на факультет C студентов поступило столько же, сколько на A и B вместе. Вероятность того, что студент факультета A сдаст первую сессию, равна 0.8. Для студента факультета B эта вероятность равна 0.7, а для студента факультета C - 0.9. Студент сдал первую сессию. Какова вероятность, что он учится: a). на факультете A б). на факультете B в). на факультете C?"
   ]
  },
  {
   "cell_type": "code",
   "execution_count": 50,
   "metadata": {},
   "outputs": [
    {
     "name": "stdout",
     "output_type": "stream",
     "text": [
      "Вероятность того, что он учится:\n",
      " a) на факультете A - 0.2424242424242424,\n",
      " б) на факультете B - 0.21212121212121207,\n",
      " в) на факультете C - 0.5454545454545454.\n"
     ]
    }
   ],
   "source": [
    "FA = FB = 1/3 # факультет A и B\n",
    "FC = 2/3 # факультет C\n",
    "\n",
    "PA = 0.8\n",
    "PB = 0.7\n",
    "PC = 0.9\n",
    "\n",
    "PS = (FA * PA) + (FB * PB) + (FC * PC) #вероятность успешной сдачи экзамена \n",
    "\n",
    "A = (FA * PA) / PS\n",
    "B = (FB * PB) / PS\n",
    "C = (FC * PC) / PS\n",
    "print(f'Вероятность того, что он учится:\\n a) на факультете A - {A},\\n б) на факультете B - {B},\\n в) на факультете C - {C}.')"
   ]
  },
  {
   "cell_type": "markdown",
   "metadata": {},
   "source": [
    "#### 5. Устройство состоит из трех деталей. Для первой детали вероятность выйти из строя в первый месяц равна 0.1, для второй - 0.2, для третьей - 0.25. Какова вероятность того, что в первый месяц выйдут из строя: а). все детали б). только две детали в). хотя бы одна деталь г). от одной до двух деталей?"
   ]
  },
  {
   "cell_type": "code",
   "execution_count": 51,
   "metadata": {},
   "outputs": [
    {
     "name": "stdout",
     "output_type": "stream",
     "text": [
      "Вероятность того, что в первый месяц выйдут из строя:\n",
      " a) все детали - 0.005000000000000001,\n",
      " б) только две детали - 0.08000000000000002,\n",
      " в) хотя бы одна деталь - 0.45999999999999996,\n",
      " г) от одной до двух деталей - 0.45499999999999996.\n"
     ]
    }
   ],
   "source": [
    "P1 = 0.1\n",
    "P2 = 0.2\n",
    "P3 = 0.25\n",
    "\n",
    "all_details = P1*P2*P3\n",
    "detail_1 = P1*P2*(1 - P3) + P1*(1 - P2)*P3 + (1 - P1)*P2*P3\n",
    "detail_2 = 1 - (1 - P1)*(1 - P2)*(1 - P3)\n",
    "detail_3 = 1 - (1 - P1)*(1 - P2)*(1 - P3) - P1*P2*P3\n",
    "print(f'Вероятность того, что в первый месяц выйдут из строя:\\n a) все детали - {all_details},\\n б) только две детали - {detail_1},\\n в) хотя бы одна деталь - {detail_2},\\n г) от одной до двух деталей - {detail_3}.')"
   ]
  }
 ],
 "metadata": {
  "kernelspec": {
   "display_name": "Python 3",
   "language": "python",
   "name": "python3"
  },
  "language_info": {
   "codemirror_mode": {
    "name": "ipython",
    "version": 3
   },
   "file_extension": ".py",
   "mimetype": "text/x-python",
   "name": "python",
   "nbconvert_exporter": "python",
   "pygments_lexer": "ipython3",
   "version": "3.7.6"
  }
 },
 "nbformat": 4,
 "nbformat_minor": 2
}
