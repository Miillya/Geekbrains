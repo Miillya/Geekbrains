{
 "cells": [
  {
   "cell_type": "markdown",
   "metadata": {},
   "source": [
    "### Теория вероятностей и математическая статистика.\n",
    "### Урок 7. Многомерный статистический анализ. Линейная регрессия."
   ]
  },
  {
   "cell_type": "code",
   "execution_count": 4,
   "metadata": {},
   "outputs": [],
   "source": [
    "import pandas as pd\n",
    "import numpy as np\n",
    "import math"
   ]
  },
  {
   "cell_type": "markdown",
   "metadata": {},
   "source": [
    "#### 1. Даны значения величины заработной платы заемщиков банка (zp) и значения их поведенческого кредитного скоринга (ks): zp = [35, 45, 190, 200, 40, 70, 54, 150, 120, 110], ks = [401, 574, 874, 919, 459, 739, 653, 902, 746, 832]. Используя математические операции, посчитать коэффициенты линейной регрессии, приняв за X заработную плату (то есть, zp - признак), а за y - значения скорингового балла (то есть, ks - целевая переменная). Произвести расчет как с использованием intercept, так и без."
   ]
  },
  {
   "cell_type": "code",
   "execution_count": 13,
   "metadata": {},
   "outputs": [],
   "source": [
    "zp = np.array([35, 45, 190, 200, 40, 70, 54, 150, 120, 110])\n",
    "ks = np.array ([401, 574, 874, 919, 459, 739, 653, 902, 746, 832])\n",
    "\n",
    "b = ((zp*ks).mean() - zp.mean()*ks.mean()) / ((zp**2).mean() - zp.mean()**2)\n",
    "a = ks.mean() - b*zp.mean()\n",
    "r = b * zp.std() / ks.std()\n",
    "R2 = r**2"
   ]
  },
  {
   "cell_type": "code",
   "execution_count": 14,
   "metadata": {},
   "outputs": [
    {
     "name": "stdout",
     "output_type": "stream",
     "text": [
      "Коэфф линейной регрессии c интерсептом:\n",
      "a = 444.1773573243596\n",
      "b = 2.620538882402765\n",
      "r = 0.8874900920739162\n",
      "R2 = 0.7876386635293682\n"
     ]
    }
   ],
   "source": [
    "print(f'Коэфф линейной регрессии c интерсептом:')\n",
    "print(f'a = {a}')\n",
    "print(f'b = {b}')\n",
    "print(f'r = {r}')\n",
    "print(f'R2 = {R2}')"
   ]
  },
  {
   "cell_type": "code",
   "execution_count": 17,
   "metadata": {},
   "outputs": [
    {
     "name": "stdout",
     "output_type": "stream",
     "text": [
      "Коэфф линейной регрессии без интерсепта:\n",
      "b = [[5.88982042]]\n"
     ]
    }
   ],
   "source": [
    "y = ks.reshape((10,1))\n",
    "x = zp.reshape((10,1))\n",
    "b = np.linalg.inv(x.T @ x) @ x.T @ y\n",
    "print(f'Коэфф линейной регрессии без интерсепта:\\nb = {b}')"
   ]
  },
  {
   "cell_type": "markdown",
   "metadata": {},
   "source": [
    "#### 2. Посчитать коэффициент линейной регрессии при заработной плате (zp), используя градиентный спуск (без intercept)."
   ]
  },
  {
   "cell_type": "code",
   "execution_count": 24,
   "metadata": {},
   "outputs": [
    {
     "data": {
      "text/plain": [
       "5.889820420132684"
      ]
     },
     "execution_count": 24,
     "metadata": {},
     "output_type": "execute_result"
    }
   ],
   "source": [
    "X = np.array([35, 45, 190, 200, 40, 70, 54, 150, 120, 110]).reshape(1,-1)\n",
    "y = np.array([401, 574, 874, 919, 459, 739, 653, 902, 746, 832]).reshape(1,-1)\n",
    "n = X.shape[1]\n",
    "\n",
    "def mse(y, y_pred):\n",
    "    return np.sum((y-y_pred)**2/len(y))\n",
    "\n",
    "\n",
    "alpha = 0.000003\n",
    "w1 = 0.1\n",
    "\n",
    "for i in range(10000):\n",
    "    y_pred = w1 * X\n",
    "    w1 -= alpha * 2/n * np.sum((y_pred-y)*X)\n",
    "w1"
   ]
  },
  {
   "cell_type": "markdown",
   "metadata": {},
   "source": [
    "#### 3. В каких случаях для вычисления доверительных интервалов и проверки статистических гипотез используется таблица значений функции Лапласа, а в каких - таблица критических точек распределения Стьюдента? "
   ]
  },
  {
   "cell_type": "markdown",
   "metadata": {},
   "source": [
    "Таблица значений функции Лапласа используется для известной дисперсии. Таблица критических точек распределения Стьюдента - используется, когда дисперсия неизвестна и используется расчётное значение."
   ]
  },
  {
   "cell_type": "markdown",
   "metadata": {},
   "source": [
    "#### *4. Произвести вычисления как в пункте 2, но с вычислением intercept. Учесть, что изменение коэффициентов должно производиться на каждом шаге одновременно (то есть изменение одного коэффициента не должно влиять на изменение другого во время одной итерации)."
   ]
  }
 ],
 "metadata": {
  "kernelspec": {
   "display_name": "Python 3",
   "language": "python",
   "name": "python3"
  },
  "language_info": {
   "codemirror_mode": {
    "name": "ipython",
    "version": 3
   },
   "file_extension": ".py",
   "mimetype": "text/x-python",
   "name": "python",
   "nbconvert_exporter": "python",
   "pygments_lexer": "ipython3",
   "version": "3.7.6"
  }
 },
 "nbformat": 4,
 "nbformat_minor": 2
}
