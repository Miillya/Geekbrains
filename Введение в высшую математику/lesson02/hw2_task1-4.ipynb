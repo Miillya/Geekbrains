{
 "cells": [
  {
   "cell_type": "code",
   "execution_count": 1,
   "metadata": {},
   "outputs": [],
   "source": [
    "import math"
   ]
  },
  {
   "cell_type": "markdown",
   "metadata": {},
   "source": [
    "## Практические задания к уроку 2\n",
    "## Тема “Элементарная алгебра”"
   ]
  },
  {
   "cell_type": "markdown",
   "metadata": {},
   "source": [
    "**1. Задание**<br>\n",
    "Напишите уравнение параболы, проходящей через три точки (x,y):\n",
    "(1,2), (3,10), (5,1)\n"
   ]
  },
  {
   "cell_type": "markdown",
   "metadata": {},
   "source": [
    "Решение:"
   ]
  },
  {
   "cell_type": "markdown",
   "metadata": {},
   "source": [
    "Уравнение параболы:\n",
    "$y=ax^{2}+bx+c, a\\neq0$"
   ]
  },
  {
   "cell_type": "markdown",
   "metadata": {},
   "source": [
    "Получаем систему уравнений: \n",
    "$$\n",
    "\\begin{cases}\n",
    "   a+b+c=2,\\\\\n",
    "   9a+3b+c=10\\\\\n",
    "   25a+5b+c=1.\n",
    "\\end{cases}\n",
    "$$"
   ]
  },
  {
   "cell_type": "markdown",
   "metadata": {},
   "source": [
    "$$\n",
    "\\Longleftrightarrow\n",
    "\\begin{cases}\n",
    "   a+b+c=2,\\\\\n",
    "   -6b-8c=-8,\\\\\n",
    "   -20b-24c=-49.\n",
    "\\end{cases}\n",
    "\\Longleftrightarrow\n",
    "\\begin{cases}\n",
    "   a+b+c=2,\\\\\n",
    "   3b+4c=4,\\\\\n",
    "   20b+24c=49.\n",
    "\\end{cases}\n",
    "\\Longleftrightarrow\n",
    "\\begin{cases}\n",
    "   a+b+c=2,\\\\\n",
    "   3b+4c=4,\\\\\n",
    "   2b=25.\n",
    "\\end{cases}\n",
    "\\Longleftrightarrow\n",
    "\\begin{cases}\n",
    "   a+b+c=2,\\\\\n",
    "   4c=4-37.5,\\\\\n",
    "   b=\\frac{25}{2}.\n",
    "\\end{cases}\n",
    "\\Longleftrightarrow\n",
    "\\begin{cases}\n",
    "   a+b+c=2,\\\\\n",
    "   c=-\\frac{33.5}{4},\\\\\n",
    "   b=\\frac{25}{2}.\n",
    "\\end{cases}\n",
    "\\Longleftrightarrow\n",
    "\\begin{cases}\n",
    "   a=-\\frac{17}{8},\\\\\n",
    "   b=\\frac{25}{2},\\\\\n",
    "   c=-\\frac{67}{8}.\n",
    "\\end{cases}\n",
    "$$"
   ]
  },
  {
   "cell_type": "markdown",
   "metadata": {},
   "source": [
    "Следовательно, искомое уравнение параболы:\n",
    "$y=-\\frac{17}{8}x^{2}+\\frac{25}{2}x-\\frac{67}{8}.$"
   ]
  },
  {
   "cell_type": "markdown",
   "metadata": {},
   "source": [
    "Ответ: $y=-\\frac{17}{8}x^{2}+\\frac{25}{2}x-\\frac{67}{8}.$"
   ]
  },
  {
   "cell_type": "markdown",
   "metadata": {},
   "source": [
    "**2. Задание** \n",
    "Известно, что свежий огурец на 99% состоит из воды. Месяц назад взвесили мешок со свежими огурцами. Получилось, что огурцов ровно 100 кг. Мешок убрали, а через месяц снова взвесили. Огурцы за это время усохли, и теперь вода составляет уже только 98% их веса. Сколько теперь (в кг) весят огурцы?\n"
   ]
  },
  {
   "cell_type": "markdown",
   "metadata": {},
   "source": [
    "Решение:"
   ]
  },
  {
   "cell_type": "markdown",
   "metadata": {},
   "source": [
    "Вес огурцов 100кг или 100%\n",
    "100%-99%=1% или 1кг - сухой массы изначально\n",
    "100%-98%=2% сухой массы через месяц\n",
    "1/x = 2/100\n",
    "х = 50\n",
    "Ответ: Вес огурцов составляет - 50кг."
   ]
  },
  {
   "cell_type": "markdown",
   "metadata": {},
   "source": [
    "**3. Задание. Определение логарифма. Решить уравнения:**\n",
    "\n",
    "1) $\n",
    "2^{x}=256\\\\\n",
    "2^{x}=2^{8}\\\\\n",
    "x = \\log{2^{8}}\\\\\n",
    "x=8\\\\\n",
    "$<br>\n",
    "Ответ: 8."
   ]
  },
  {
   "cell_type": "code",
   "execution_count": 2,
   "metadata": {},
   "outputs": [
    {
     "data": {
      "text/plain": [
       "8.0"
      ]
     },
     "execution_count": 2,
     "metadata": {},
     "output_type": "execute_result"
    }
   ],
   "source": [
    "math.log(256, 2)"
   ]
  },
  {
   "cell_type": "markdown",
   "metadata": {},
   "source": [
    "2) $\n",
    "2^{x}=300\\\\\n",
    "x = \\log_2{300}\\\\\n",
    "x = \\log_2{(4∙3∙5^{2})}\\\\\n",
    "x = 2 + \\log_2{3} + 2\\log_2{5}\\\\\n",
    "x = \\frac{\\ln{300}}{\\ln{2}}\\\\\n",
    "x \\approx 8.23\\\\\n",
    "$<br>\n",
    "Ответ: $\\approx8.23$."
   ]
  },
  {
   "cell_type": "code",
   "execution_count": 3,
   "metadata": {},
   "outputs": [
    {
     "data": {
      "text/plain": [
       "8.228818690495881"
      ]
     },
     "execution_count": 3,
     "metadata": {},
     "output_type": "execute_result"
    }
   ],
   "source": [
    "math.log(300, 2)"
   ]
  },
  {
   "cell_type": "markdown",
   "metadata": {},
   "source": [
    " "
   ]
  },
  {
   "cell_type": "markdown",
   "metadata": {},
   "source": [
    "3)$\n",
    "\\log_8{2^{8x-4}}=4\\\\\n",
    "\\log_{2^{3}}{2^{8x-4}}=2^{2}\\\\\n",
    "(8x-4)\\log_{2^{3}}{2}=2^{2}\\\\\n",
    "\\frac{8x-4}{3}\\log_2{2}=2^{2}\\\\\n",
    "\\frac{8x-4}{3}=4\\\\\n",
    "8x-4=12\\\\\n",
    "x=2\\\\\n",
    "$<br>\n",
    "Ответ: 2."
   ]
  },
  {
   "cell_type": "markdown",
   "metadata": {},
   "source": [
    "4) $\n",
    "3^{\\log_9{(5x-5)}}=5\\\\\n",
    "ОДЗ:(5x-5)>0 \\Rightarrow x>1\\\\\n",
    "3^{\\log_{3^{2}}{(5x-5)}}=5\\\\\n",
    "3^{\\frac{1}{2} \\log_3{(5x-5)}}=5\\\\\n",
    "(3^{\\log_3{(5x-5)}})^{\\frac{1}{2}}=5\\\\\n",
    "5x-5=25\\\\\n",
    "x=6\\\\\n",
    "$<br>\n",
    "Ответ: 6."
   ]
  },
  {
   "cell_type": "markdown",
   "metadata": {},
   "source": [
    "5)$\n",
    "x^{\\log_3{x}+1}=9\\\\\n",
    "ОДЗ:x>0\\\\\n",
    "\\log_3{x^{\\log_3{x}+1}}=\\log_3{9}\\\\\n",
    "(\\log_3{x}+1)\\log_3{x}=2\\\\\n",
    "Замена:y=\\log_3{x},y\\in R\\\\\n",
    "(y+1)y=2\\\\\n",
    "y^2+y-2=0\\\\\n",
    "D=1+8=9\\\\\n",
    "y_1=\\frac{-1+3}{2}=1\\\\\n",
    "y_2=\\frac{-1-3}{2}=-2\\\\\n",
    "\\left[\n",
    "\\begin{gathered} \n",
    "   \\log_3{x}=1; \\\\ \n",
    "      \\log_3{x}=-2, \\\\ \n",
    "\\end{gathered}\n",
    "\\right.\n",
    "\\Longleftrightarrow\n",
    "\\left[\n",
    "\\begin{gathered} \n",
    "    x=3; \\\\ \n",
    "    x=\\frac{1}{9}. \\\\ \n",
    "\\end{gathered}\n",
    "\\right.\\\\\n",
    "$<br>\n",
    "Ответ: $\\frac{1}{9}, 3.$"
   ]
  },
  {
   "cell_type": "markdown",
   "metadata": {},
   "source": [
    "**4. Задание Свойства логарифмов. Вычислить:**"
   ]
  },
  {
   "cell_type": "markdown",
   "metadata": {},
   "source": [
    "6) $\n",
    "\\log_4{16}=\\log_4{4^2}=2\\log_4{4}=2\\\\\n",
    "$<br>\n",
    "Ответ: 2."
   ]
  },
  {
   "cell_type": "code",
   "execution_count": 4,
   "metadata": {},
   "outputs": [
    {
     "data": {
      "text/plain": [
       "2.0"
      ]
     },
     "execution_count": 4,
     "metadata": {},
     "output_type": "execute_result"
    }
   ],
   "source": [
    "math.log(16, 4)"
   ]
  },
  {
   "cell_type": "markdown",
   "metadata": {},
   "source": [
    "7)$\n",
    "\\log_5{\\frac{1}{25}}=\\log_5{\\frac{1^2}{5^2}}=2\\log_5{5^{-1}}=-2\\\\\n",
    "$<br>\n",
    "Ответ: -2."
   ]
  },
  {
   "cell_type": "code",
   "execution_count": 5,
   "metadata": {},
   "outputs": [
    {
     "data": {
      "text/plain": [
       "-2.0"
      ]
     },
     "execution_count": 5,
     "metadata": {},
     "output_type": "execute_result"
    }
   ],
   "source": [
    "math.log(1/25, 5)"
   ]
  },
  {
   "cell_type": "markdown",
   "metadata": {},
   "source": [
    "8) $\n",
    "\\log_{25}{5}=\\log_{5^2}{5}=\\frac{1}{2}\\log_5{5}=\\frac{1}{2}\\\\\n",
    "$<br>\n",
    "Ответ: $\\frac{1}{2}.$"
   ]
  },
  {
   "cell_type": "code",
   "execution_count": 6,
   "metadata": {},
   "outputs": [
    {
     "data": {
      "text/plain": [
       "0.5"
      ]
     },
     "execution_count": 6,
     "metadata": {},
     "output_type": "execute_result"
    }
   ],
   "source": [
    "math.log(5, 25)"
   ]
  },
  {
   "cell_type": "markdown",
   "metadata": {},
   "source": [
    "9) $\n",
    "\\log_3{\\sqrt{27}}=\\log_3{27^{\\frac{1}{2}}}=\\frac{1}{2}\\log_3{3^3}=\\frac{3}{2}\\\\\n",
    "$<br>\n",
    "Ответ: $\\frac{3}{2}.$"
   ]
  },
  {
   "cell_type": "code",
   "execution_count": 7,
   "metadata": {},
   "outputs": [
    {
     "data": {
      "text/plain": [
       "1.5"
      ]
     },
     "execution_count": 7,
     "metadata": {},
     "output_type": "execute_result"
    }
   ],
   "source": [
    "math.log(math.sqrt(27), 3)"
   ]
  },
  {
   "cell_type": "markdown",
   "metadata": {},
   "source": [
    "10) $\n",
    "\\log_2{12}-\\log_2{3}=\\log_2{\\frac{12}{3}}=\\log_2{4}=\\log_2{2^2}=2\\\\\n",
    "$<br>\n",
    "Ответ: 2."
   ]
  },
  {
   "cell_type": "code",
   "execution_count": 8,
   "metadata": {},
   "outputs": [
    {
     "data": {
      "text/plain": [
       "2.0"
      ]
     },
     "execution_count": 8,
     "metadata": {},
     "output_type": "execute_result"
    }
   ],
   "source": [
    "math.log(12, 2) - math.log(3, 2)"
   ]
  },
  {
   "cell_type": "markdown",
   "metadata": {},
   "source": [
    "11) $\n",
    "\\log_6{12}+\\log_6{3}=\\log_6{(12∙3)}=\\log_6{36}=\\log_6{6^2}=2\\\\\n",
    "$<br>\n",
    "Ответ: 2."
   ]
  },
  {
   "cell_type": "code",
   "execution_count": 9,
   "metadata": {},
   "outputs": [
    {
     "data": {
      "text/plain": [
       "2.0"
      ]
     },
     "execution_count": 9,
     "metadata": {},
     "output_type": "execute_result"
    }
   ],
   "source": [
    "math.log(12, 6) + math.log(3, 6)"
   ]
  },
  {
   "cell_type": "markdown",
   "metadata": {},
   "source": [
    "12) $\n",
    "e^{\\ln{5}}=e^{\\log_e{5}}=5\\\\\n",
    "$<br>\n",
    "Ответ: 5."
   ]
  },
  {
   "cell_type": "code",
   "execution_count": 10,
   "metadata": {},
   "outputs": [
    {
     "data": {
      "text/plain": [
       "4.999999999999999"
      ]
     },
     "execution_count": 10,
     "metadata": {},
     "output_type": "execute_result"
    }
   ],
   "source": [
    "math.e**math.log(5) # Основное логарифмическое тождество."
   ]
  },
  {
   "cell_type": "markdown",
   "metadata": {},
   "source": [
    "13) $\n",
    "\\frac{\\log_2{225}}{\\log_2{15}}=\\frac{\\log_2{15^2}}{\\log_2{15}}=\\frac{2\\log_2{15}}{\\log_2{15}}=2\\\\\n",
    "$<br>\n",
    "Ответ: 2."
   ]
  },
  {
   "cell_type": "code",
   "execution_count": 11,
   "metadata": {},
   "outputs": [
    {
     "data": {
      "text/plain": [
       "2.0"
      ]
     },
     "execution_count": 11,
     "metadata": {},
     "output_type": "execute_result"
    }
   ],
   "source": [
    "math.log(225, 2) / math.log(15, 2)"
   ]
  },
  {
   "cell_type": "markdown",
   "metadata": {},
   "source": [
    "14) $\n",
    "\\log_4{32}+\\log_{0.1}{10}=\\log_{2^2}{32}+\\log_{10^{-1}}{10}=\\frac{1}{2}\\log_2{2^5}-\\log_{10}{10}=\\frac{5}{2}-\\lg{10}=\\frac{5}{2}-1=\\frac{3}{2}\\\\\n",
    "$<br>\n",
    "Ответ: $\\frac{3}{2}.$"
   ]
  },
  {
   "cell_type": "code",
   "execution_count": 12,
   "metadata": {},
   "outputs": [
    {
     "data": {
      "text/plain": [
       "1.4999999999999998"
      ]
     },
     "execution_count": 12,
     "metadata": {},
     "output_type": "execute_result"
    }
   ],
   "source": [
    "math.log(32, 4) + math.log(10, 0.1)"
   ]
  },
  {
   "cell_type": "markdown",
   "metadata": {},
   "source": [
    "15) $\n",
    "9^{\\log_3{\\sqrt{5}}}=3^{2\\log_3{\\sqrt{5}}}=3^{\\log_3{5}}=5\\\\\n",
    "$<br>\n",
    "Ответ: 5."
   ]
  },
  {
   "cell_type": "code",
   "execution_count": 13,
   "metadata": {},
   "outputs": [
    {
     "data": {
      "text/plain": [
       "4.999999999999999"
      ]
     },
     "execution_count": 13,
     "metadata": {},
     "output_type": "execute_result"
    }
   ],
   "source": [
    "9**math.log(math.sqrt(5), 3)"
   ]
  },
  {
   "cell_type": "code",
   "execution_count": null,
   "metadata": {},
   "outputs": [],
   "source": []
  }
 ],
 "metadata": {
  "kernelspec": {
   "display_name": "Python 3",
   "language": "python",
   "name": "python3"
  },
  "language_info": {
   "codemirror_mode": {
    "name": "ipython",
    "version": 3
   },
   "file_extension": ".py",
   "mimetype": "text/x-python",
   "name": "python",
   "nbconvert_exporter": "python",
   "pygments_lexer": "ipython3",
   "version": "3.7.4"
  }
 },
 "nbformat": 4,
 "nbformat_minor": 4
}
