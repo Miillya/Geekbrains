{
 "cells": [
  {
   "cell_type": "markdown",
   "id": "solar-covering",
   "metadata": {},
   "source": [
    "# Доска почета"
   ]
  },
  {
   "cell_type": "markdown",
   "id": "metallic-textbook",
   "metadata": {},
   "source": [
    "## 1) 1 ДЗ - Введение в pyorch"
   ]
  },
  {
   "cell_type": "markdown",
   "id": "square-outline",
   "metadata": {},
   "source": [
    "[Работа 1](https://github.com/VitalyGladyshev/gb_pytorch/blob/main/pytorch_hw_01.ipynb)  - отличная исследовательская работа.\n",
    "[Работа 2-1ч](https://colab.research.google.com/drive/1pWvHLiFTfk4flSSsFaBiH2vPspBnc3za?usp=sharing)  \n",
    "[Работа 2-2ч](https://colab.research.google.com/drive/1nUbbId_kZvfZp2hHBmOIZjtliiLuyPSu?usp=sharing)  \n",
    "[Работа 3](https://github.com/DmitriyFedorov-git/GeekBrains/blob/master/PyTorch/lesson1/pytorch_homework_1.ipynb) - Хороший уровень.\n"
   ]
  },
  {
   "cell_type": "markdown",
   "id": "stretch-rental",
   "metadata": {},
   "source": [
    "## 2) 2 ДЗ - LSTM"
   ]
  },
  {
   "cell_type": "markdown",
   "id": "tutorial-afternoon",
   "metadata": {},
   "source": [
    "[Работа 1](https://github.com/VitalyGladyshev/gb_pytorch/blob/main/pytorch_hw_02.ipynb)  \n",
    "[Работа 2](https://colab.research.google.com/drive/1x43bgHzKpFvTIRSD7GdxzQnDSlvDnX_I?usp=sharing)  \n",
    "[работа 2 - усложненое задание](https://colab.research.google.com/drive/1CAESaSRmmyfra8FLgXdQS1a2ak5OHLJP?usp=sharing)  "
   ]
  },
  {
   "cell_type": "markdown",
   "id": "found-draft",
   "metadata": {},
   "source": [
    "По LSTM ДЗ у многих были проблемы из-за непонимания работы самой lstm. Поэтому прилагаю ссылки для лучшего понимания проиходящего:\n",
    "  1)https://alexsosn.github.io/ml/2015/11/17/LSTM.html  \n",
    "  2) https://stackoverflow.com/questions/61632584/understanding-input-shape-to-pytorch-lstm  \n",
    "  3) https://stackoverflow.com/questions/45022734/understanding-a-simple-lstm-pytorch \n",
    "  4) https://stackoverflow.com/questions/55408365/trying-to-understand-pytorchs-implementation-of-lstm  \n",
    "  5) https://stackoverflow.com/questions/56506412/pytorch-lstm-input-dimension  \n",
    "  6) https://www.youtube.com/watch?v=Kv4NyVW9IZ4  \n",
    "\n",
    "Для успешного выполнения стоит просто знать что идет на вход нейронной сети и что идет на выход. Всегда проверяйте размерности этих тензоров. Все ли правильно упаковано."
   ]
  },
  {
   "cell_type": "markdown",
   "id": "fallen-internet",
   "metadata": {},
   "source": [
    "## 3) 3 ДЗ"
   ]
  },
  {
   "cell_type": "markdown",
   "id": "geological-transportation",
   "metadata": {},
   "source": [
    "[Работа 1](https://github.com/JaneCalm/pytorch/blob/main/les2.ipynb) - Хороший стиль, приятно проверять)  \n",
    "[Работа 2](https://github.com/Aleksei741/PyTorch/blob/main/Lesson_3/HW.ipynb) -успешная и красивая  \n",
    "[Работа 3-1ч](https://github.com/Yegor9151/PyTorch_framework_for_developing_artificial_neural_networks/blob/main/Lesson%203.%20Generative%20adversarial%20networks%20(GAN)%20generative%20networks/practice%203%20-%20task%201.ipynb)  \n",
    "[Работа 3-2ч](https://github.com/Yegor9151/PyTorch_framework_for_developing_artificial_neural_networks/blob/main/Lesson%203.%20Generative%20adversarial%20networks%20(GAN)%20generative%20networks/practice%203%20-%20task%202.ipynb)"
   ]
  }
 ],
 "metadata": {
  "kernelspec": {
   "display_name": "Python 3",
   "language": "python",
   "name": "python3"
  },
  "language_info": {
   "codemirror_mode": {
    "name": "ipython",
    "version": 3
   },
   "file_extension": ".py",
   "mimetype": "text/x-python",
   "name": "python",
   "nbconvert_exporter": "python",
   "pygments_lexer": "ipython3",
   "version": "3.7.0"
  }
 },
 "nbformat": 4,
 "nbformat_minor": 5
}
