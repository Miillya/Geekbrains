{
 "cells": [
  {
   "cell_type": "markdown",
   "id": "liked-dryer",
   "metadata": {},
   "source": [
    "## Фреймворк PyTorch для разработки искусственных нейронных сетей"
   ]
  },
  {
   "cell_type": "markdown",
   "id": "literary-liverpool",
   "metadata": {},
   "source": [
    "1.\tДобиться вразумительного результата от модели, собранной на занятии (3 угаданные картинки из 4 предложенных на семинаре). Варианты изменений:  \n",
    "a.\tизменение слоёв и их количества;  \n",
    "b.\tизменение метода оптимизации;   \n",
    "c.\tизменение процесса обучения;  \n",
    "d.\tдля продвинутых: преобразование данных. "
   ]
  },
  {
   "cell_type": "code",
   "execution_count": 1,
   "id": "linear-metropolitan",
   "metadata": {},
   "outputs": [
    {
     "data": {
      "text/html": [
       "<style>.container { width:77% !important; }</style>"
      ],
      "text/plain": [
       "<IPython.core.display.HTML object>"
      ]
     },
     "metadata": {},
     "output_type": "display_data"
    }
   ],
   "source": [
    "from IPython.core.display import display, HTML, Image\n",
    "display(HTML(\"<style>.container { width:77% !important; }</style>\"))"
   ]
  },
  {
   "cell_type": "code",
   "execution_count": 2,
   "id": "looking-sleep",
   "metadata": {},
   "outputs": [],
   "source": [
    "import numpy as np\n",
    "import pandas as pd\n",
    "import seaborn as sns\n",
    "import matplotlib.pyplot as plt\n",
    "%matplotlib inline"
   ]
  },
  {
   "cell_type": "code",
   "execution_count": 3,
   "id": "opening-nitrogen",
   "metadata": {},
   "outputs": [],
   "source": [
    "import torch\n",
    "import torchvision\n",
    "from torch import nn \n",
    "from torch import optim\n",
    "from torch.autograd import Variable\n",
    "import torch.optim as optim\n",
    "import torch.nn.functional as F\n",
    "import torchvision.transforms as transforms"
   ]
  },
  {
   "cell_type": "code",
   "execution_count": 4,
   "id": "structured-valentine",
   "metadata": {},
   "outputs": [],
   "source": [
    "plt.rcParams.update({'font.size': 14})\n",
    "pd.set_option('precision', 3)\n",
    "pd.set_option('max_columns', 100)\n",
    "pd.set_option('display.float_format', lambda x: '%.5f' % x)\n",
    "pd.set_option('display.max_columns', 500)\n",
    "pd.set_option('display.max_rows', 500)\n",
    "pd.set_option('max_colwidth', 300)"
   ]
  },
  {
   "cell_type": "code",
   "execution_count": 5,
   "id": "polished-priest",
   "metadata": {},
   "outputs": [
    {
     "name": "stdout",
     "output_type": "stream",
     "text": [
      "cuda:0\n"
     ]
    }
   ],
   "source": [
    "device = torch.device(\"cuda:0\" if torch.cuda.is_available() else \"cpu\")\n",
    "print(device)"
   ]
  },
  {
   "cell_type": "code",
   "execution_count": 6,
   "id": "swedish-ideal",
   "metadata": {},
   "outputs": [],
   "source": [
    "transform_augment = transforms.Compose([\n",
    "    transforms.RandomHorizontalFlip(),\n",
    "    transforms.RandomCrop(32, padding=4)])\n",
    "\n",
    "transform_normalize = transforms.Compose([\n",
    "    transforms.ToTensor(),\n",
    "    transforms.Normalize((0.5, 0.5, 0.5), (0.5, 0.5, 0.5))\n",
    "])"
   ]
  },
  {
   "cell_type": "code",
   "execution_count": 7,
   "id": "simple-crime",
   "metadata": {},
   "outputs": [],
   "source": [
    "# def to_categorical(y, num_classes):\n",
    "#     \"\"\" 1-hot encodes a tensor \"\"\"\n",
    "#     return np.eye(num_classes, dtype='uint8')[y]"
   ]
  },
  {
   "cell_type": "code",
   "execution_count": 8,
   "id": "imperial-indianapolis",
   "metadata": {},
   "outputs": [],
   "source": [
    "train_dataset = torchvision.datasets.CIFAR10(root='./data/', # путь куда будут скачиваться наши данные(если download=true), \n",
    "                                                                 # или где лежат наши данные(dowload=False)\n",
    "                                             train=True, # говорим что используем датасет для обучения\n",
    "                                             transform=transforms.Compose([transform_augment, transform_normalize]),\n",
    "#                                              transform=transforms.ToTensor(), # важная строчка: здесь мы преобразуем данные\n",
    "                                                                                # из датасета в формат тензоров из торч\n",
    "                                             download=False)"
   ]
  },
  {
   "cell_type": "code",
   "execution_count": 9,
   "id": "searching-country",
   "metadata": {},
   "outputs": [
    {
     "name": "stdout",
     "output_type": "stream",
     "text": [
      "torch.Size([3, 32, 32])\n",
      "9\n"
     ]
    }
   ],
   "source": [
    "image, label = train_dataset[1]\n",
    "print(image.size())\n",
    "print(label)"
   ]
  },
  {
   "cell_type": "code",
   "execution_count": 10,
   "id": "smaller-honey",
   "metadata": {},
   "outputs": [],
   "source": [
    "train_loader = torch.utils.data.DataLoader(dataset=train_dataset,\n",
    "                                           batch_size=64, \n",
    "                                           shuffle=True)"
   ]
  },
  {
   "cell_type": "code",
   "execution_count": 11,
   "id": "smaller-enhancement",
   "metadata": {},
   "outputs": [
    {
     "name": "stdout",
     "output_type": "stream",
     "text": [
      "Files already downloaded and verified\n"
     ]
    }
   ],
   "source": [
    "test_dataset = torchvision.datasets.CIFAR10(root='./data', train=False,\n",
    "                                       download=True, transform=transform_normalize)\n",
    "test_loader = torch.utils.data.DataLoader(test_dataset, batch_size=10,\n",
    "                                         shuffle=False)"
   ]
  },
  {
   "cell_type": "code",
   "execution_count": 12,
   "id": "balanced-chemistry",
   "metadata": {},
   "outputs": [],
   "source": [
    "class_names = ('plane', 'car', 'bird', 'cat',\n",
    "           'deer', 'dog', 'frog', 'horse', 'ship', 'truck')"
   ]
  },
  {
   "cell_type": "code",
   "execution_count": 13,
   "id": "descending-wales",
   "metadata": {},
   "outputs": [],
   "source": [
    "class Net(nn.Module):\n",
    "    def __init__(self):\n",
    "        super().__init__()\n",
    "        self.conv1 = nn.Conv2d(3, 6, 5)\n",
    "        self.bn1 = nn.BatchNorm2d(6)\n",
    "        self.conv2 = nn.Conv2d(6, 16, 5)\n",
    "        self.bn2 = nn.BatchNorm2d(16)\n",
    "        self.pool = nn.MaxPool2d(2, 2)\n",
    "        self.dropout = nn.Dropout(0.3) # Drop 20% of the units from the layer\n",
    "        \n",
    "        self.fc1 = nn.Linear(16 * 5 * 5, 120)\n",
    "        self.fc2 = nn.Linear(120, 84)\n",
    "        self.fc3 = nn.Linear(84, 10)\n",
    "\n",
    "    def forward(self, x):\n",
    "        x = self.pool(F.relu(self.conv1(x)))\n",
    "        x = self.bn1(x)\n",
    "        x = self.pool(F.relu(self.conv2(x)))\n",
    "        x = self.bn2(x)\n",
    "        x = x.view(-1, 16 * 5 * 5)\n",
    "        x = self.dropout(x)\n",
    "                \n",
    "        x = F.relu(self.fc1(x))\n",
    "        x = F.relu(self.fc2(x))\n",
    "        x = self.fc3(x)\n",
    "        return x\n",
    "\n",
    "\n",
    "net = Net()"
   ]
  },
  {
   "cell_type": "code",
   "execution_count": 14,
   "id": "accompanied-sequence",
   "metadata": {},
   "outputs": [],
   "source": [
    "criterion = nn.CrossEntropyLoss()\n",
    "# optimizer = optim.SGD(net.parameters(), lr=0.001, momentum=0.9)\n",
    "optimizer = optim.Adam(net.parameters(), lr=0.001)"
   ]
  },
  {
   "cell_type": "code",
   "execution_count": 16,
   "id": "julian-label",
   "metadata": {},
   "outputs": [
    {
     "name": "stdout",
     "output_type": "stream",
     "text": [
      "[1,     1] loss: 0.001\n",
      "[1,   301] loss: 0.261\n",
      "[1,   601] loss: 0.233\n",
      "[2,     1] loss: 0.001\n",
      "[2,   301] loss: 0.219\n",
      "[2,   601] loss: 0.211\n",
      "[3,     1] loss: 0.001\n",
      "[3,   301] loss: 0.206\n",
      "[3,   601] loss: 0.200\n",
      "[4,     1] loss: 0.001\n",
      "[4,   301] loss: 0.195\n",
      "[4,   601] loss: 0.194\n",
      "[5,     1] loss: 0.001\n",
      "[5,   301] loss: 0.188\n",
      "[5,   601] loss: 0.187\n",
      "[6,     1] loss: 0.001\n",
      "[6,   301] loss: 0.181\n",
      "[6,   601] loss: 0.180\n",
      "[7,     1] loss: 0.001\n",
      "[7,   301] loss: 0.177\n",
      "[7,   601] loss: 0.177\n",
      "[8,     1] loss: 0.001\n",
      "[8,   301] loss: 0.174\n",
      "[8,   601] loss: 0.173\n",
      "[9,     1] loss: 0.001\n",
      "[9,   301] loss: 0.172\n",
      "[9,   601] loss: 0.170\n",
      "[10,     1] loss: 0.000\n",
      "[10,   301] loss: 0.169\n",
      "[10,   601] loss: 0.168\n",
      "[11,     1] loss: 0.001\n",
      "[11,   301] loss: 0.167\n",
      "[11,   601] loss: 0.165\n",
      "[12,     1] loss: 0.001\n",
      "[12,   301] loss: 0.163\n",
      "[12,   601] loss: 0.166\n",
      "[13,     1] loss: 0.000\n",
      "[13,   301] loss: 0.164\n",
      "[13,   601] loss: 0.164\n",
      "[14,     1] loss: 0.001\n",
      "[14,   301] loss: 0.163\n",
      "[14,   601] loss: 0.163\n",
      "[15,     1] loss: 0.000\n",
      "[15,   301] loss: 0.161\n",
      "[15,   601] loss: 0.161\n",
      "Training is finished!\n"
     ]
    }
   ],
   "source": [
    "for epoch in range(15):  # 15 эпох \n",
    "    \n",
    "    running_loss = 0.0 # Для вывода процесса обучения\n",
    "    for i, data in enumerate(train_loader, 0):\n",
    "        inputs, labels = data\n",
    "\n",
    "        # Обнуляем градиент\n",
    "        optimizer.zero_grad()\n",
    "    \n",
    "        # Делаем предсказание\n",
    "        outputs = net(inputs)\n",
    "        # Рассчитываем лосс-функцию\n",
    "        loss = criterion(outputs, labels)\n",
    "        # Делаем шаг назад по лоссу\n",
    "        loss.backward()\n",
    "        # Делаем шаг нашего оптимайзера\n",
    "        optimizer.step()\n",
    "\n",
    "        # выводим статистику о процессе обучения\n",
    "        running_loss += loss.item()\n",
    "        if i % 300 == 0:    # печатаем каждые 300 mini-batches\n",
    "            print('[%d, %5d] loss: %.3f' %\n",
    "                  (epoch + 1, i + 1, running_loss / 2000))\n",
    "            running_loss = 0.0\n",
    "\n",
    "print('Training is finished!')"
   ]
  },
  {
   "cell_type": "code",
   "execution_count": 17,
   "id": "chief-world",
   "metadata": {},
   "outputs": [],
   "source": [
    "data_iter = iter(test_loader)\n",
    "images, labels = data_iter.next()"
   ]
  },
  {
   "cell_type": "code",
   "execution_count": 18,
   "id": "fuzzy-toyota",
   "metadata": {},
   "outputs": [
    {
     "name": "stderr",
     "output_type": "stream",
     "text": [
      "Clipping input data to the valid range for imshow with RGB data ([0..1] for floats or [0..255] for integers).\n"
     ]
    },
    {
     "name": "stdout",
     "output_type": "stream",
     "text": [
      "GroundTruth:    cat  ship  ship plane  frog  frog   car  frog   cat   car\n",
      "Predicted:      cat  ship   car plane  frog  frog   dog  frog   cat truck\n"
     ]
    },
    {
     "data": {
      "image/png": "[encoded data removed]",
      "text/plain": [
       "<Figure size 432x288 with 1 Axes>"
      ]
     },
     "metadata": {
      "needs_background": "light"
     },
     "output_type": "display_data"
    }
   ],
   "source": [
    "outputs = net(images)\n",
    "imgs = torchvision.utils.make_grid(images)\n",
    "plt.imshow(imgs.permute(1, 2, 0).numpy())\n",
    "print('GroundTruth: ', ' '.join('%5s' % class_names[labels[j]] for j in range(10)))\n",
    "\n",
    "_, predicted = torch.max(outputs, 1)\n",
    "print('Predicted:   ', ' '.join('%5s' % class_names[predicted[j]]\n",
    "                              for j in range(10)))"
   ]
  },
  {
   "cell_type": "code",
   "execution_count": 19,
   "id": "clear-korea",
   "metadata": {},
   "outputs": [],
   "source": [
    "# print(outputs)"
   ]
  },
  {
   "cell_type": "markdown",
   "id": "extra-colonial",
   "metadata": {},
   "source": [
    "2.\tВзять часть, где мы делали один шаг обучения, и обернуть его в цикл по схеме, как обучали модель в конце занятия."
   ]
  },
  {
   "cell_type": "code",
   "execution_count": 20,
   "id": "improved-entertainment",
   "metadata": {},
   "outputs": [
    {
     "name": "stdout",
     "output_type": "stream",
     "text": [
      "x= tensor([-0.9598,  0.2482], requires_grad=True) y= tensor([0.1758, 0.4111])\n",
      "epoch:  0 loss:  1.0628606081008911\n",
      "epoch:  100 loss:  0.7146204710006714\n",
      "epoch:  200 loss:  0.4804796576499939\n",
      "epoch:  300 loss:  0.32305365800857544\n",
      "epoch:  400 loss:  0.21720723807811737\n",
      "epoch:  500 loss:  0.1460406631231308\n",
      "epoch:  600 loss:  0.09819137305021286\n",
      "epoch:  700 loss:  0.06601956486701965\n",
      "epoch:  800 loss:  0.04438868165016174\n",
      "epoch:  900 loss:  0.029845021665096283\n",
      "pred= tensor([0.1533, 0.2117], grad_fn=<AddBackward0>)\n"
     ]
    }
   ],
   "source": [
    "linear = nn.Linear(2, 2)\n",
    "criterion = nn.MSELoss()\n",
    "optimizer = torch.optim.SGD(linear.parameters(), lr=0.001)\n",
    "x = Variable(torch.randn(2), requires_grad = True)\n",
    "y = Variable(torch.randn(2), requires_grad = False)\n",
    "print(\"x=\", x, 'y=', y)\n",
    "\n",
    "for epoch in range(1000):\n",
    "    optimizer.zero_grad()\n",
    "    pred = linear(x)\n",
    "    loss = criterion(pred, y)\n",
    "\n",
    "    if epoch % 100 == 0:\n",
    "        print('epoch: ', epoch, 'loss: ', loss.item())\n",
    "    loss.backward()\n",
    "    optimizer.step()\n",
    "    \n",
    "print('pred=', pred)"
   ]
  },
  {
   "cell_type": "markdown",
   "id": "forty-athens",
   "metadata": {},
   "source": [
    "3.\tПереписать эту программу на PyTorch: \n",
    "\n",
    "![image](1.jpg)\n",
    "\n",
    "Не забудьте про реализацию функции forward! "
   ]
  },
  {
   "cell_type": "code",
   "execution_count": 21,
   "id": "ranging-theater",
   "metadata": {},
   "outputs": [],
   "source": [
    "class Net2(nn.Module): \n",
    "    def __init__(self):\n",
    "        super().__init__()\n",
    "        self.l1 = nn.Linear(28*28, 128)\n",
    "        self.relu = nn.ReLU()\n",
    "        self.dropout = nn.Dropout(0.2)\n",
    "        self.l2 = nn.Linear(128, 10)\n",
    "        \n",
    "    def forward(self, x):\n",
    "        x = self.l1(x)\n",
    "        x = self.relu(x)\n",
    "        x = self.dropout(x)\n",
    "        x = self.l2(x)\n",
    "        return F.log_softmax(x)\n",
    "    \n",
    "net2 = Net2().to('cpu')"
   ]
  },
  {
   "cell_type": "code",
   "execution_count": 22,
   "id": "cordless-plant",
   "metadata": {},
   "outputs": [
    {
     "name": "stdout",
     "output_type": "stream",
     "text": [
      "Net2(\n",
      "  (l1): Linear(in_features=784, out_features=128, bias=True)\n",
      "  (relu): ReLU()\n",
      "  (dropout): Dropout(p=0.2, inplace=False)\n",
      "  (l2): Linear(in_features=128, out_features=10, bias=True)\n",
      ")\n"
     ]
    }
   ],
   "source": [
    "print(net2)"
   ]
  },
  {
   "cell_type": "code",
   "execution_count": 23,
   "id": "graduate-somalia",
   "metadata": {},
   "outputs": [],
   "source": [
    "criterion = nn.CrossEntropyLoss()\n",
    "optimizer = torch.optim.Adam(net2.parameters())"
   ]
  },
  {
   "cell_type": "code",
   "execution_count": null,
   "id": "romantic-straight",
   "metadata": {},
   "outputs": [],
   "source": []
  }
 ],
 "metadata": {
  "kernelspec": {
   "display_name": "Python 3",
   "language": "python",
   "name": "python3"
  },
  "language_info": {
   "codemirror_mode": {
    "name": "ipython",
    "version": 3
   },
   "file_extension": ".py",
   "mimetype": "text/x-python",
   "name": "python",
   "nbconvert_exporter": "python",
   "pygments_lexer": "ipython3",
   "version": "3.8.5"
  }
 },
 "nbformat": 4,
 "nbformat_minor": 5
}
