{
 "cells": [
  {
   "cell_type": "markdown",
   "metadata": {},
   "source": [
    "## Алгоритмы анализа данных.\n",
    "### Урок 1. Алгоритм линейной регрессии. Градиентный спуск."
   ]
  },
  {
   "cell_type": "code",
   "execution_count": 91,
   "metadata": {},
   "outputs": [],
   "source": [
    "import numpy as np"
   ]
  },
  {
   "cell_type": "markdown",
   "metadata": {},
   "source": [
    "#### 1. Подберите скорость обучения (alpha) и количество итераций"
   ]
  },
  {
   "cell_type": "code",
   "execution_count": 92,
   "metadata": {},
   "outputs": [],
   "source": [
    "X = np.array([[1, 1, 1, 1, 1, 1, 1, 1, 1, 1],\n",
    "              [1, 1, 2, 1, 3, 0, 5, 10, 1, 2]])"
   ]
  },
  {
   "cell_type": "code",
   "execution_count": 93,
   "metadata": {},
   "outputs": [],
   "source": [
    "y = [45, 55, 50, 59, 65, 35, 75, 80, 50, 60]"
   ]
  },
  {
   "cell_type": "code",
   "execution_count": 94,
   "metadata": {},
   "outputs": [],
   "source": [
    "def calc_mse(y, y_pred):\n",
    "    err = np.mean((y - y_pred)**2)\n",
    "    return err"
   ]
  },
  {
   "cell_type": "code",
   "execution_count": 95,
   "metadata": {},
   "outputs": [
    {
     "name": "stdout",
     "output_type": "stream",
     "text": [
      "Number of objects = 10        \n",
      "Learning rate = 0.01        \n",
      "Initial weights = [1.  0.5] \n",
      "\n",
      "Iteration #0: W_new = [2.102 3.9  ], MSE = 3173.15\n",
      "Iteration #100: W_new = [31.88770806  6.74418155], MSE = 175.19\n",
      "Iteration #200: W_new = [41.83683774  4.90699865], MSE = 61.92\n",
      "Iteration #300: W_new = [45.33508261  4.26102097], MSE = 47.91\n",
      "Iteration #400: W_new = [46.56511152  4.03388672], MSE = 46.18\n",
      "Iteration #500: W_new = [46.99760587  3.95402334], MSE = 45.97\n",
      "Iteration #600: W_new = [47.14967657  3.92594232], MSE = 45.94\n",
      "Iteration #700: W_new = [47.20314662  3.91606866], MSE = 45.94\n",
      "Iteration #800: W_new = [47.2219474   3.91259695], MSE = 45.94\n",
      "Iteration #900: W_new = [47.228558    3.91137626], MSE = 45.94\n"
     ]
    }
   ],
   "source": [
    "n = X.shape[1]\n",
    "alpha = 1e-2 # скорость обучения\n",
    "iters = int(1e3) # количество итераций\n",
    "W = np.array([1, 0.5])\n",
    "print(f'Number of objects = {n} \\\n",
    "       \\nLearning rate = {alpha} \\\n",
    "       \\nInitial weights = {W} \\n')\n",
    "\n",
    "for i in range(iters):\n",
    "    y_pred = np.dot(W, X)\n",
    "    err = calc_mse(y, y_pred)\n",
    "    for k in range(W.shape[0]):\n",
    "        W[k] -= alpha * (1/n * 2 * np.sum(X[k] * (y_pred - y)))\n",
    "    if i % 100 == 0:\n",
    "        print(f'Iteration #{i}: W_new = {W}, MSE = {round(err,2)}')"
   ]
  },
  {
   "cell_type": "code",
   "execution_count": 96,
   "metadata": {},
   "outputs": [],
   "source": [
    "def gradient_descent(alpha, iterations, W, X=X, y=y):\n",
    "    n = X.shape[1]\n",
    "    err = np.inf\n",
    "    for i in range(iterations):\n",
    "        y_pred = np.dot(W, X)\n",
    "        err_new = calc_mse(y, y_pred)\n",
    "        if err_new < err:\n",
    "            err = err_new\n",
    "            for j in range(W.shape[0]):\n",
    "                W[j] -= alpha * (1/n * 2 * np.sum(X[j] * (y_pred - y))) \n",
    "        else:\n",
    "            return i-1, W, err\n",
    "    return i, W, err"
   ]
  },
  {
   "cell_type": "code",
   "execution_count": 97,
   "metadata": {},
   "outputs": [
    {
     "name": "stdout",
     "output_type": "stream",
     "text": [
      "Alpha = 0.1, количество итераций = 1000.0, MSE = 3173.15\n",
      "Alpha = 0.1, количество итераций = 10000.0, MSE = 3173.15\n",
      "Alpha = 0.1, количество итераций = 100000.0, MSE = 3173.15\n",
      "Alpha = 0.1, количество итераций = 1000000.0, MSE = 3173.15\n",
      "Alpha = 0.01, количество итераций = 1000.0, MSE = 45.93750089064509\n",
      "Alpha = 0.01, количество итераций = 10000.0, MSE = 45.93750000000172\n",
      "Alpha = 0.01, количество итераций = 100000.0, MSE = 45.93750000000172\n",
      "Alpha = 0.01, количество итераций = 1000000.0, MSE = 45.93750000000172\n",
      "Alpha = 0.001, количество итераций = 1000.0, MSE = 176.7399358190342\n",
      "Alpha = 0.001, количество итераций = 10000.0, MSE = 45.937500964078644\n",
      "Alpha = 0.001, количество итераций = 100000.0, MSE = 45.937500000017245\n",
      "Alpha = 0.001, количество итераций = 1000000.0, MSE = 45.937500000017245\n",
      "Alpha = 0.0001, количество итераций = 1000.0, MSE = 900.2860625234676\n",
      "Alpha = 0.0001, количество итераций = 10000.0, MSE = 176.62240977239327\n",
      "Alpha = 0.0001, количество итераций = 100000.0, MSE = 45.93750097169106\n",
      "Alpha = 0.0001, количество итераций = 1000000.0, MSE = 45.93750000024308\n",
      "Минимальная ошибка MAE - 45.93750000000172, достигается при коэфициентах (0.01, 10000.0)\n"
     ]
    }
   ],
   "source": [
    "min_err = np.inf\n",
    "min_coef = ()\n",
    "\n",
    "for alpha in [1e-1, 1e-2, 1e-3, 1e-4]:\n",
    "    for iters in [1e3, 1e4, 1e5, 1e6]:\n",
    "        W = np.array([1, 0.5])\n",
    "        num, wi, err = gradient_descent(alpha, int(iters), W)\n",
    "        print(f'Alpha = {alpha}, количество итераций = {iters}, MSE = {err}')\n",
    "        if err < min_err:\n",
    "            min_err = err\n",
    "            min_coef = (alpha, iters)\n",
    "\n",
    "print(f'Минимальная ошибка MAE - {min_err}, достигается при коэфициентах {min_coef}')"
   ]
  },
  {
   "cell_type": "markdown",
   "metadata": {},
   "source": [
    "#### *2. В этом коде мы избавляемся от итераций по весам, но тут есть ошибка, исправьте ее"
   ]
  },
  {
   "cell_type": "code",
   "execution_count": 98,
   "metadata": {},
   "outputs": [
    {
     "name": "stdout",
     "output_type": "stream",
     "text": [
      "Number of objects = 10        \n",
      "Learning rate = 0.01        \n",
      "Initial weights = [1.  0.5] \n",
      "\n",
      "Iteration #0: W_new = [5.502 5.002], MSE = 3173.15\n",
      "Iteration #10: W_new = [11.79295096 11.29295096], MSE = 737.14\n",
      "Iteration #20: W_new = [11.8219808 11.3219808], MSE = 737.09\n",
      "Iteration #30: W_new = [11.82211476 11.32211476], MSE = 737.09\n",
      "Iteration #40: W_new = [11.82211538 11.32211538], MSE = 737.09\n",
      "Iteration #50: W_new = [11.82211538 11.32211538], MSE = 737.09\n",
      "Iteration #60: W_new = [11.82211538 11.32211538], MSE = 737.09\n",
      "Iteration #70: W_new = [11.82211538 11.32211538], MSE = 737.09\n",
      "Iteration #80: W_new = [11.82211538 11.32211538], MSE = 737.09\n",
      "Iteration #90: W_new = [11.82211538 11.32211538], MSE = 737.09\n"
     ]
    }
   ],
   "source": [
    "# Исходный код\n",
    "n = X.shape[1]\n",
    "alpha = 1e-2\n",
    "W = np.array([1, 0.5])\n",
    "print(f'Number of objects = {n} \\\n",
    "       \\nLearning rate = {alpha} \\\n",
    "       \\nInitial weights = {W} \\n')\n",
    "\n",
    "for i in range(100):\n",
    "    y_pred = np.dot(W, X)\n",
    "    err = calc_mse(y, y_pred)\n",
    "#     for k in range(W.shape[0]):\n",
    "#         W[k] -= alpha * (1/n * 2 * np.sum(X[k] * (y_pred - y)))\n",
    "    W -= alpha * (1/n * 2 * np.sum(X * (y_pred - y)))\n",
    "    W_pred = W\n",
    "    if i % 10 == 0:\n",
    "        print(f'Iteration #{i}: W_new = {W}, MSE = {round(err,2)}')"
   ]
  },
  {
   "cell_type": "code",
   "execution_count": 99,
   "metadata": {},
   "outputs": [
    {
     "name": "stdout",
     "output_type": "stream",
     "text": [
      "Number of objects = 10        \n",
      "Learning rate = 0.01        \n",
      "Initial weights = [1.  0.5] \n",
      "\n",
      "Iteration #0: W_new = [2.102 3.9  ], MSE = 3173.15\n",
      "Iteration #100: W_new = [31.88770806  6.74418155], MSE = 175.194\n",
      "Iteration #200: W_new = [41.83683774  4.90699865], MSE = 61.918\n",
      "Iteration #300: W_new = [45.33508261  4.26102097], MSE = 47.913\n",
      "Iteration #400: W_new = [46.56511152  4.03388672], MSE = 46.182\n",
      "Iteration #500: W_new = [46.99760587  3.95402334], MSE = 45.968\n",
      "Iteration #600: W_new = [47.14967657  3.92594232], MSE = 45.941\n",
      "Iteration #700: W_new = [47.20314662  3.91606866], MSE = 45.938\n",
      "Iteration #800: W_new = [47.2219474   3.91259695], MSE = 45.938\n",
      "Iteration #900: W_new = [47.228558    3.91137626], MSE = 45.938\n"
     ]
    }
   ],
   "source": [
    "# Исправленный код\n",
    "n = X.shape[1]\n",
    "alpha = 1e-2\n",
    "W = np.array([1, 0.5])\n",
    "print(f'Number of objects = {n} \\\n",
    "       \\nLearning rate = {alpha} \\\n",
    "       \\nInitial weights = {W} \\n')\n",
    "\n",
    "for i in range(1000):\n",
    "    y_pred = np.dot(W, X)\n",
    "    err = calc_mse(y, y_pred)\n",
    "#     for ii in range(W.shape[0]):\n",
    "#     W[ii] -= alpha * (1/n * 2 * np.sum(X[ii] * (y_pred - y)))\n",
    "    W -= (alpha * (1/n * 2 * np.sum(X * (y_pred - y), axis=1)))\n",
    "    if i % 100 == 0:\n",
    "        print(f'Iteration #{i}: W_new = {W}, MSE = {round(err,3)}')"
   ]
  },
  {
   "cell_type": "markdown",
   "metadata": {},
   "source": [
    "#### *3. Вместо того, чтобы задавать количество итераций, задайте условие остановки алгоритма - когда ошибка за итерацию начинает изменяться ниже определенного порога (упрощенный аналог параметра tol в линейной регрессии в sklearn)."
   ]
  },
  {
   "cell_type": "code",
   "execution_count": 100,
   "metadata": {},
   "outputs": [
    {
     "name": "stdout",
     "output_type": "stream",
     "text": [
      "Alpha = 0.5, Iteration = 185, Initial weights = [47.21665092  3.91357499], MSE = 45.937637840407525, Stopping = 9.41404491072717e-06\n",
      "Alpha = 0.9, Iteration = 49, Initial weights = [47.21545653  3.91379554], MSE = 45.937658845374585, Stopping = 9.714517247516596e-06\n",
      "Alpha = 1, Iteration = 15, Initial weights = [47.21764645  3.91339025], MSE = 45.93762069510632, Stopping = 9.332374474979588e-06\n",
      "Alpha = 1.1, Iteration = 132, Initial weights = [47.21010379  3.91478397], MSE = 45.93777072162841, Stopping = 9.94196454229268e-06\n",
      "Alpha = 2.5, Iteration = 283, Initial weights = [47.25263421  3.9069304 ], MSE = 45.93773519910866, Stopping = 9.852034061452741e-06\n",
      "Alpha = 5, Iteration = 401, Initial weights = [47.21166243  3.91449615], MSE = 45.93773494852335, Stopping = 9.841537561783298e-06\n",
      "Alpha = 7, Iteration = 315, Initial weights = [47.21511038  3.91385946], MSE = 45.937665227424816, Stopping = 9.811756747524214e-06\n",
      "Alpha = 10, Iteration = 551, Initial weights = [47.25240032  3.90697359], MSE = 45.93772986053053, Stopping = 9.628411426376715e-06\n",
      "Alpha = 0.1, Iteration = 288, Initial weights = [47.2141774   3.91403174], MSE = 45.93768290558418, Stopping = 9.89313802790548e-06\n",
      "Alpha = 0.01, Iteration = 699, Initial weights = [47.20284196  3.91612492], MSE = 45.93797131796627, Stopping = 9.956357814644434e-06\n",
      "Alpha = 0.0001, Iteration = 48023, Initial weights = [46.93313079  3.96592915], MSE = 45.985577422762795, Stopping = 9.999550236727828e-06\n",
      "Alpha = 1e-05, Iteration = 369520, Initial weights = [46.28641219  4.08535069], MSE = 46.41835863778846, Stopping = 9.999901962487456e-06\n",
      "Alpha = 1000000.0, Iteration = 6596, Initial weights = [47.24833781  3.90772376], MSE = 45.93765016697398, Stopping = 9.75789300383667e-06\n"
     ]
    }
   ],
   "source": [
    "alpha_list = [0.5, 0.9, 1, 1.1, 2.5, 5, 7, 10, 1e-1, 1e-2, 1e-4, 1e-5, 1e6]\n",
    "eps = 1e-5\n",
    "\n",
    "for x in alpha_list:\n",
    "    alpha = x \n",
    "    W = np.array([1, 0.5])\n",
    "    err_prev = np.inf \n",
    "    i = 0\n",
    "    while True:\n",
    "        y_pred = np.dot(W, X)\n",
    "        err = calc_mse(y, y_pred)\n",
    "        W -= (alpha * (1/n * 2 * np.sum(X * (y_pred - y), axis=1)))\n",
    "        if err > err_prev:\n",
    "            alpha /= 2 \n",
    "        if abs(err_prev - err) <= eps:\n",
    "            break\n",
    "        err_prev = err\n",
    "        i += 1\n",
    "    print(f'Alpha = {x}, Iteration = {i}, Initial weights = {W}, MSE = {err}, Stopping = {err_prev - err}')"
   ]
  }
 ],
 "metadata": {
  "kernelspec": {
   "display_name": "Python 3",
   "language": "python",
   "name": "python3"
  },
  "language_info": {
   "codemirror_mode": {
    "name": "ipython",
    "version": 3
   },
   "file_extension": ".py",
   "mimetype": "text/x-python",
   "name": "python",
   "nbconvert_exporter": "python",
   "pygments_lexer": "ipython3",
   "version": "3.7.6"
  }
 },
 "nbformat": 4,
 "nbformat_minor": 2
}
