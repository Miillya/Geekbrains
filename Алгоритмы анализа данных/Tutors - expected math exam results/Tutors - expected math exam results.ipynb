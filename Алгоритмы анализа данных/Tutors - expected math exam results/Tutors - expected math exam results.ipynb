{
 "cells": [
  {
   "cell_type": "markdown",
   "metadata": {
    "colab_type": "text",
    "id": "tlFanUg-g0Of"
   },
   "source": [
    "# Tutors - expected math exam results\n",
    "#### Predict average math exam results for students of the tutors"
   ]
  },
  {
   "cell_type": "markdown",
   "metadata": {
    "colab_type": "text",
    "id": "-10Vk4SQgq5K"
   },
   "source": [
    "**Description / Задание:**\n",
    "\n",
    "In this competition your task will be to predict the mean math exam result (from 0 to 100 points) for students of tutors in test.csv. You will be given two datasets: train.csv (contains all features and the target) and test.csv (only features).    \n",
    "\n",
    "Ваша задача этом соревновании - предсказать средний балл на экзамене по математике, который получают ученики репетиторов из датасета test.csv. Вам будут даны два датасета: train.csv (содержит признаки и целевую переменную) и test.csv (только признаки).\n",
    "\n",
    "**Target / Целевая переменная:**\n",
    "\n",
    "mean_exam_points / средний балл\n",
    "\n",
    "**Evaluation / Метрика для оценки:**\n",
    "\n",
    "\n",
    "The evaluation metric is Coefficient of determination / Метрика для оценки – Коэффициент детерминации.\n"
   ]
  },
  {
   "cell_type": "markdown",
   "metadata": {
    "colab_type": "text",
    "id": "pvVClP0UhXJL"
   },
   "source": [
    "### Описание датасета:\n",
    "\n",
    "* **Id** - идентификационный номер\n",
    "* **age** - возраст   \n",
    "* **years_of_experience** - стаж   \n",
    "* **lesson_price** - цена урока   \n",
    "* **qualification** – квалификация    \n",
    "* **physics** – физика    \n",
    "* **chemistry** – химия  \n",
    "* **biology** – биология   \n",
    "* **english** – английский  \n",
    "* **geography** – география   \n",
    "* **history** – история    \n",
    "* **mean_exam_points** – средний балл"
   ]
  },
  {
   "cell_type": "markdown",
   "metadata": {
    "colab_type": "text",
    "id": "pqn155iqAIV6"
   },
   "source": [
    "### Подключение библиотек и скриптов"
   ]
  },
  {
   "cell_type": "code",
   "execution_count": 1,
   "metadata": {},
   "outputs": [
    {
     "data": {
      "text/html": [
       "<style>.container { width:70% !important; }</style>"
      ],
      "text/plain": [
       "<IPython.core.display.HTML object>"
      ]
     },
     "metadata": {},
     "output_type": "display_data"
    }
   ],
   "source": [
    "from IPython.core.display import display, HTML\n",
    "display(HTML(\"<style>.container { width:70% !important; }</style>\"))"
   ]
  },
  {
   "cell_type": "code",
   "execution_count": 2,
   "metadata": {
    "colab": {},
    "colab_type": "code",
    "id": "sLqlG36SgXtF"
   },
   "outputs": [],
   "source": [
    "import os\n",
    "import csv\n",
    "import re\n",
    "\n",
    "import numpy as np\n",
    "import pandas as pd\n",
    "\n",
    "import matplotlib.pyplot as plt\n",
    "import matplotlib.dates as mdates\n",
    "%matplotlib inline\n",
    "import seaborn as sns\n",
    "\n",
    "\n",
    "from sklearn import ensemble\n",
    "from sklearn.pipeline import Pipeline\n",
    "from sklearn.preprocessing import StandardScaler, MinMaxScaler\n",
    "from sklearn.metrics import r2_score, mean_absolute_error, mean_squared_error, explained_variance_score\n",
    "from sklearn.model_selection import cross_val_score, GridSearchCV, train_test_split, KFold\n",
    "\n",
    "# Ensemble Methods\n",
    "from sklearn.ensemble import GradientBoostingRegressor, RandomForestRegressor, VotingRegressor\n",
    "\n",
    "from lightgbm import LGBMRegressor\n",
    "from catboost import CatBoostRegressor\n",
    "from xgboost import XGBRegressor"
   ]
  },
  {
   "cell_type": "code",
   "execution_count": 3,
   "metadata": {
    "colab": {},
    "colab_type": "code",
    "id": "XTpQKvS8iMxZ"
   },
   "outputs": [],
   "source": [
    "import warnings\n",
    "warnings.filterwarnings('ignore')"
   ]
  },
  {
   "cell_type": "code",
   "execution_count": 4,
   "metadata": {
    "colab": {},
    "colab_type": "code",
    "id": "P5vOI4ikyVzU"
   },
   "outputs": [],
   "source": [
    "plt.rcParams.update({'font.size': 14})\n",
    "pd.set_option('precision', 3)\n",
    "pd.set_option('max_columns', 100)\n",
    "pd.set_option('display.float_format', lambda x: '%.5f' % x)\n",
    "pd.set_option('display.max_columns', 500)\n",
    "pd.set_option('display.max_rows', 500)\n",
    "pd.set_option('max_colwidth', 300)"
   ]
  },
  {
   "cell_type": "markdown",
   "metadata": {
    "colab_type": "text",
    "id": "rNEB1WpTyakO"
   },
   "source": [
    "### Пути к директориям и файлам"
   ]
  },
  {
   "cell_type": "code",
   "execution_count": 5,
   "metadata": {
    "colab": {},
    "colab_type": "code",
    "id": "fPI-kTs4iPG6"
   },
   "outputs": [],
   "source": [
    "# from google.colab import files\n",
    "# uploaded = files.upload()"
   ]
  },
  {
   "cell_type": "code",
   "execution_count": 6,
   "metadata": {
    "colab": {},
    "colab_type": "code",
    "id": "_BQ09rlyiarW"
   },
   "outputs": [],
   "source": [
    "TRAIN_DATASET_PATH = './train.csv'\n",
    "TEST_DATASET_PATH = './test.csv'\n",
    "RES_PATH = './result_submission.csv'"
   ]
  },
  {
   "cell_type": "markdown",
   "metadata": {
    "colab_type": "text",
    "id": "55GVNXqtWxw2"
   },
   "source": [
    "### Загрузка данных"
   ]
  },
  {
   "cell_type": "code",
   "execution_count": 7,
   "metadata": {
    "colab": {},
    "colab_type": "code",
    "id": "2J80eu4LXGdy"
   },
   "outputs": [],
   "source": [
    "train_df = pd.read_csv(TRAIN_DATASET_PATH)\n",
    "test_df = pd.read_csv(TEST_DATASET_PATH)"
   ]
  },
  {
   "cell_type": "markdown",
   "metadata": {},
   "source": [
    "### Изучение датасета"
   ]
  },
  {
   "cell_type": "code",
   "execution_count": 8,
   "metadata": {
    "colab": {
     "base_uri": "https://localhost:8080/",
     "height": 34
    },
    "colab_type": "code",
    "executionInfo": {
     "elapsed": 2175,
     "status": "ok",
     "timestamp": 1583685956630,
     "user": {
      "displayName": "Alexey Tankov",
      "photoUrl": "",
      "userId": "01729535101672247421"
     },
     "user_tz": -180
    },
    "id": "41fTa8Nly5hO",
    "outputId": "920dadcf-1e6b-4f05-e5fa-bee379d43bbf"
   },
   "outputs": [
    {
     "name": "stdout",
     "output_type": "stream",
     "text": [
      "(10000, 12)\n"
     ]
    }
   ],
   "source": [
    "# Количество строк и колонок в датафрейме\n",
    "print(train_df.shape)"
   ]
  },
  {
   "cell_type": "code",
   "execution_count": 9,
   "metadata": {},
   "outputs": [
    {
     "name": "stdout",
     "output_type": "stream",
     "text": [
      "(10000, 11)\n"
     ]
    }
   ],
   "source": [
    "print(test_df.shape)"
   ]
  },
  {
   "cell_type": "code",
   "execution_count": 10,
   "metadata": {},
   "outputs": [
    {
     "data": {
      "text/html": [
       "<div>\n",
       "<style scoped>\n",
       "    .dataframe tbody tr th:only-of-type {\n",
       "        vertical-align: middle;\n",
       "    }\n",
       "\n",
       "    .dataframe tbody tr th {\n",
       "        vertical-align: top;\n",
       "    }\n",
       "\n",
       "    .dataframe thead th {\n",
       "        text-align: right;\n",
       "    }\n",
       "</style>\n",
       "<table border=\"1\" class=\"dataframe\">\n",
       "  <thead>\n",
       "    <tr style=\"text-align: right;\">\n",
       "      <th></th>\n",
       "      <th>Id</th>\n",
       "      <th>age</th>\n",
       "      <th>years_of_experience</th>\n",
       "      <th>lesson_price</th>\n",
       "      <th>qualification</th>\n",
       "      <th>physics</th>\n",
       "      <th>chemistry</th>\n",
       "      <th>biology</th>\n",
       "      <th>english</th>\n",
       "      <th>geography</th>\n",
       "      <th>history</th>\n",
       "      <th>mean_exam_points</th>\n",
       "    </tr>\n",
       "  </thead>\n",
       "  <tbody>\n",
       "    <tr>\n",
       "      <th>0</th>\n",
       "      <td>0</td>\n",
       "      <td>40.00000</td>\n",
       "      <td>0.00000</td>\n",
       "      <td>1400.00000</td>\n",
       "      <td>1.00000</td>\n",
       "      <td>1.00000</td>\n",
       "      <td>0.00000</td>\n",
       "      <td>0.00000</td>\n",
       "      <td>0.00000</td>\n",
       "      <td>1.00000</td>\n",
       "      <td>0.00000</td>\n",
       "      <td>63.00000</td>\n",
       "    </tr>\n",
       "    <tr>\n",
       "      <th>1</th>\n",
       "      <td>1</td>\n",
       "      <td>48.00000</td>\n",
       "      <td>4.00000</td>\n",
       "      <td>2850.00000</td>\n",
       "      <td>3.00000</td>\n",
       "      <td>1.00000</td>\n",
       "      <td>0.00000</td>\n",
       "      <td>0.00000</td>\n",
       "      <td>0.00000</td>\n",
       "      <td>0.00000</td>\n",
       "      <td>0.00000</td>\n",
       "      <td>86.00000</td>\n",
       "    </tr>\n",
       "    <tr>\n",
       "      <th>2</th>\n",
       "      <td>2</td>\n",
       "      <td>39.00000</td>\n",
       "      <td>0.00000</td>\n",
       "      <td>1200.00000</td>\n",
       "      <td>1.00000</td>\n",
       "      <td>0.00000</td>\n",
       "      <td>0.00000</td>\n",
       "      <td>0.00000</td>\n",
       "      <td>0.00000</td>\n",
       "      <td>0.00000</td>\n",
       "      <td>0.00000</td>\n",
       "      <td>53.00000</td>\n",
       "    </tr>\n",
       "    <tr>\n",
       "      <th>3</th>\n",
       "      <td>3</td>\n",
       "      <td>46.00000</td>\n",
       "      <td>5.00000</td>\n",
       "      <td>1400.00000</td>\n",
       "      <td>1.00000</td>\n",
       "      <td>0.00000</td>\n",
       "      <td>0.00000</td>\n",
       "      <td>0.00000</td>\n",
       "      <td>0.00000</td>\n",
       "      <td>0.00000</td>\n",
       "      <td>0.00000</td>\n",
       "      <td>56.00000</td>\n",
       "    </tr>\n",
       "    <tr>\n",
       "      <th>4</th>\n",
       "      <td>4</td>\n",
       "      <td>43.00000</td>\n",
       "      <td>1.00000</td>\n",
       "      <td>1500.00000</td>\n",
       "      <td>1.00000</td>\n",
       "      <td>0.00000</td>\n",
       "      <td>0.00000</td>\n",
       "      <td>0.00000</td>\n",
       "      <td>0.00000</td>\n",
       "      <td>0.00000</td>\n",
       "      <td>0.00000</td>\n",
       "      <td>59.00000</td>\n",
       "    </tr>\n",
       "  </tbody>\n",
       "</table>\n",
       "</div>"
      ],
      "text/plain": [
       "   Id      age  years_of_experience  lesson_price  qualification  physics  \\\n",
       "0   0 40.00000              0.00000    1400.00000        1.00000  1.00000   \n",
       "1   1 48.00000              4.00000    2850.00000        3.00000  1.00000   \n",
       "2   2 39.00000              0.00000    1200.00000        1.00000  0.00000   \n",
       "3   3 46.00000              5.00000    1400.00000        1.00000  0.00000   \n",
       "4   4 43.00000              1.00000    1500.00000        1.00000  0.00000   \n",
       "\n",
       "   chemistry  biology  english  geography  history  mean_exam_points  \n",
       "0    0.00000  0.00000  0.00000    1.00000  0.00000          63.00000  \n",
       "1    0.00000  0.00000  0.00000    0.00000  0.00000          86.00000  \n",
       "2    0.00000  0.00000  0.00000    0.00000  0.00000          53.00000  \n",
       "3    0.00000  0.00000  0.00000    0.00000  0.00000          56.00000  \n",
       "4    0.00000  0.00000  0.00000    0.00000  0.00000          59.00000  "
      ]
     },
     "execution_count": 10,
     "metadata": {},
     "output_type": "execute_result"
    }
   ],
   "source": [
    "# Просмотр записей(строк) из начала датафрейма\n",
    "train_df.head(5)"
   ]
  },
  {
   "cell_type": "code",
   "execution_count": 11,
   "metadata": {},
   "outputs": [
    {
     "data": {
      "text/html": [
       "<div>\n",
       "<style scoped>\n",
       "    .dataframe tbody tr th:only-of-type {\n",
       "        vertical-align: middle;\n",
       "    }\n",
       "\n",
       "    .dataframe tbody tr th {\n",
       "        vertical-align: top;\n",
       "    }\n",
       "\n",
       "    .dataframe thead th {\n",
       "        text-align: right;\n",
       "    }\n",
       "</style>\n",
       "<table border=\"1\" class=\"dataframe\">\n",
       "  <thead>\n",
       "    <tr style=\"text-align: right;\">\n",
       "      <th></th>\n",
       "      <th>Id</th>\n",
       "      <th>age</th>\n",
       "      <th>years_of_experience</th>\n",
       "      <th>lesson_price</th>\n",
       "      <th>qualification</th>\n",
       "      <th>physics</th>\n",
       "      <th>chemistry</th>\n",
       "      <th>biology</th>\n",
       "      <th>english</th>\n",
       "      <th>geography</th>\n",
       "      <th>history</th>\n",
       "      <th>mean_exam_points</th>\n",
       "    </tr>\n",
       "  </thead>\n",
       "  <tbody>\n",
       "    <tr>\n",
       "      <th>9995</th>\n",
       "      <td>9995</td>\n",
       "      <td>44.00000</td>\n",
       "      <td>0.00000</td>\n",
       "      <td>1700.00000</td>\n",
       "      <td>2.00000</td>\n",
       "      <td>1.00000</td>\n",
       "      <td>1.00000</td>\n",
       "      <td>0.00000</td>\n",
       "      <td>0.00000</td>\n",
       "      <td>0.00000</td>\n",
       "      <td>0.00000</td>\n",
       "      <td>78.00000</td>\n",
       "    </tr>\n",
       "    <tr>\n",
       "      <th>9996</th>\n",
       "      <td>9996</td>\n",
       "      <td>51.00000</td>\n",
       "      <td>0.00000</td>\n",
       "      <td>1700.00000</td>\n",
       "      <td>2.00000</td>\n",
       "      <td>0.00000</td>\n",
       "      <td>0.00000</td>\n",
       "      <td>0.00000</td>\n",
       "      <td>0.00000</td>\n",
       "      <td>0.00000</td>\n",
       "      <td>0.00000</td>\n",
       "      <td>64.00000</td>\n",
       "    </tr>\n",
       "    <tr>\n",
       "      <th>9997</th>\n",
       "      <td>9997</td>\n",
       "      <td>34.00000</td>\n",
       "      <td>1.00000</td>\n",
       "      <td>1250.00000</td>\n",
       "      <td>1.00000</td>\n",
       "      <td>1.00000</td>\n",
       "      <td>0.00000</td>\n",
       "      <td>0.00000</td>\n",
       "      <td>0.00000</td>\n",
       "      <td>0.00000</td>\n",
       "      <td>0.00000</td>\n",
       "      <td>58.00000</td>\n",
       "    </tr>\n",
       "    <tr>\n",
       "      <th>9998</th>\n",
       "      <td>9998</td>\n",
       "      <td>33.00000</td>\n",
       "      <td>3.00000</td>\n",
       "      <td>1100.00000</td>\n",
       "      <td>1.00000</td>\n",
       "      <td>0.00000</td>\n",
       "      <td>0.00000</td>\n",
       "      <td>0.00000</td>\n",
       "      <td>0.00000</td>\n",
       "      <td>0.00000</td>\n",
       "      <td>0.00000</td>\n",
       "      <td>51.00000</td>\n",
       "    </tr>\n",
       "    <tr>\n",
       "      <th>9999</th>\n",
       "      <td>9999</td>\n",
       "      <td>35.00000</td>\n",
       "      <td>0.00000</td>\n",
       "      <td>1450.00000</td>\n",
       "      <td>1.00000</td>\n",
       "      <td>0.00000</td>\n",
       "      <td>0.00000</td>\n",
       "      <td>0.00000</td>\n",
       "      <td>0.00000</td>\n",
       "      <td>0.00000</td>\n",
       "      <td>0.00000</td>\n",
       "      <td>59.00000</td>\n",
       "    </tr>\n",
       "  </tbody>\n",
       "</table>\n",
       "</div>"
      ],
      "text/plain": [
       "        Id      age  years_of_experience  lesson_price  qualification  \\\n",
       "9995  9995 44.00000              0.00000    1700.00000        2.00000   \n",
       "9996  9996 51.00000              0.00000    1700.00000        2.00000   \n",
       "9997  9997 34.00000              1.00000    1250.00000        1.00000   \n",
       "9998  9998 33.00000              3.00000    1100.00000        1.00000   \n",
       "9999  9999 35.00000              0.00000    1450.00000        1.00000   \n",
       "\n",
       "      physics  chemistry  biology  english  geography  history  \\\n",
       "9995  1.00000    1.00000  0.00000  0.00000    0.00000  0.00000   \n",
       "9996  0.00000    0.00000  0.00000  0.00000    0.00000  0.00000   \n",
       "9997  1.00000    0.00000  0.00000  0.00000    0.00000  0.00000   \n",
       "9998  0.00000    0.00000  0.00000  0.00000    0.00000  0.00000   \n",
       "9999  0.00000    0.00000  0.00000  0.00000    0.00000  0.00000   \n",
       "\n",
       "      mean_exam_points  \n",
       "9995          78.00000  \n",
       "9996          64.00000  \n",
       "9997          58.00000  \n",
       "9998          51.00000  \n",
       "9999          59.00000  "
      ]
     },
     "execution_count": 11,
     "metadata": {},
     "output_type": "execute_result"
    }
   ],
   "source": [
    "train_df.tail(5)"
   ]
  },
  {
   "cell_type": "code",
   "execution_count": 12,
   "metadata": {},
   "outputs": [
    {
     "data": {
      "text/html": [
       "<div>\n",
       "<style scoped>\n",
       "    .dataframe tbody tr th:only-of-type {\n",
       "        vertical-align: middle;\n",
       "    }\n",
       "\n",
       "    .dataframe tbody tr th {\n",
       "        vertical-align: top;\n",
       "    }\n",
       "\n",
       "    .dataframe thead th {\n",
       "        text-align: right;\n",
       "    }\n",
       "</style>\n",
       "<table border=\"1\" class=\"dataframe\">\n",
       "  <thead>\n",
       "    <tr style=\"text-align: right;\">\n",
       "      <th></th>\n",
       "      <th>Id</th>\n",
       "      <th>age</th>\n",
       "      <th>years_of_experience</th>\n",
       "      <th>lesson_price</th>\n",
       "      <th>qualification</th>\n",
       "      <th>physics</th>\n",
       "      <th>chemistry</th>\n",
       "      <th>biology</th>\n",
       "      <th>english</th>\n",
       "      <th>geography</th>\n",
       "      <th>history</th>\n",
       "    </tr>\n",
       "  </thead>\n",
       "  <tbody>\n",
       "    <tr>\n",
       "      <th>0</th>\n",
       "      <td>10000</td>\n",
       "      <td>46.00000</td>\n",
       "      <td>3.00000</td>\n",
       "      <td>1050.00000</td>\n",
       "      <td>1.00000</td>\n",
       "      <td>0.00000</td>\n",
       "      <td>1.00000</td>\n",
       "      <td>0.00000</td>\n",
       "      <td>0.00000</td>\n",
       "      <td>0.00000</td>\n",
       "      <td>0.00000</td>\n",
       "    </tr>\n",
       "    <tr>\n",
       "      <th>1</th>\n",
       "      <td>10001</td>\n",
       "      <td>43.00000</td>\n",
       "      <td>3.00000</td>\n",
       "      <td>1850.00000</td>\n",
       "      <td>2.00000</td>\n",
       "      <td>0.00000</td>\n",
       "      <td>0.00000</td>\n",
       "      <td>0.00000</td>\n",
       "      <td>0.00000</td>\n",
       "      <td>0.00000</td>\n",
       "      <td>0.00000</td>\n",
       "    </tr>\n",
       "    <tr>\n",
       "      <th>2</th>\n",
       "      <td>10002</td>\n",
       "      <td>52.00000</td>\n",
       "      <td>1.00000</td>\n",
       "      <td>1550.00000</td>\n",
       "      <td>1.00000</td>\n",
       "      <td>1.00000</td>\n",
       "      <td>0.00000</td>\n",
       "      <td>0.00000</td>\n",
       "      <td>0.00000</td>\n",
       "      <td>0.00000</td>\n",
       "      <td>0.00000</td>\n",
       "    </tr>\n",
       "    <tr>\n",
       "      <th>3</th>\n",
       "      <td>10003</td>\n",
       "      <td>57.00000</td>\n",
       "      <td>6.00000</td>\n",
       "      <td>2900.00000</td>\n",
       "      <td>3.00000</td>\n",
       "      <td>1.00000</td>\n",
       "      <td>0.00000</td>\n",
       "      <td>1.00000</td>\n",
       "      <td>0.00000</td>\n",
       "      <td>0.00000</td>\n",
       "      <td>0.00000</td>\n",
       "    </tr>\n",
       "    <tr>\n",
       "      <th>4</th>\n",
       "      <td>10004</td>\n",
       "      <td>44.00000</td>\n",
       "      <td>4.00000</td>\n",
       "      <td>3150.00000</td>\n",
       "      <td>3.00000</td>\n",
       "      <td>1.00000</td>\n",
       "      <td>0.00000</td>\n",
       "      <td>0.00000</td>\n",
       "      <td>0.00000</td>\n",
       "      <td>0.00000</td>\n",
       "      <td>0.00000</td>\n",
       "    </tr>\n",
       "  </tbody>\n",
       "</table>\n",
       "</div>"
      ],
      "text/plain": [
       "      Id      age  years_of_experience  lesson_price  qualification  physics  \\\n",
       "0  10000 46.00000              3.00000    1050.00000        1.00000  0.00000   \n",
       "1  10001 43.00000              3.00000    1850.00000        2.00000  0.00000   \n",
       "2  10002 52.00000              1.00000    1550.00000        1.00000  1.00000   \n",
       "3  10003 57.00000              6.00000    2900.00000        3.00000  1.00000   \n",
       "4  10004 44.00000              4.00000    3150.00000        3.00000  1.00000   \n",
       "\n",
       "   chemistry  biology  english  geography  history  \n",
       "0    1.00000  0.00000  0.00000    0.00000  0.00000  \n",
       "1    0.00000  0.00000  0.00000    0.00000  0.00000  \n",
       "2    0.00000  0.00000  0.00000    0.00000  0.00000  \n",
       "3    0.00000  1.00000  0.00000    0.00000  0.00000  \n",
       "4    0.00000  0.00000  0.00000    0.00000  0.00000  "
      ]
     },
     "execution_count": 12,
     "metadata": {},
     "output_type": "execute_result"
    }
   ],
   "source": [
    "test_df.head(5)"
   ]
  },
  {
   "cell_type": "code",
   "execution_count": 13,
   "metadata": {},
   "outputs": [
    {
     "data": {
      "text/html": [
       "<div>\n",
       "<style scoped>\n",
       "    .dataframe tbody tr th:only-of-type {\n",
       "        vertical-align: middle;\n",
       "    }\n",
       "\n",
       "    .dataframe tbody tr th {\n",
       "        vertical-align: top;\n",
       "    }\n",
       "\n",
       "    .dataframe thead th {\n",
       "        text-align: right;\n",
       "    }\n",
       "</style>\n",
       "<table border=\"1\" class=\"dataframe\">\n",
       "  <thead>\n",
       "    <tr style=\"text-align: right;\">\n",
       "      <th></th>\n",
       "      <th>Id</th>\n",
       "      <th>age</th>\n",
       "      <th>years_of_experience</th>\n",
       "      <th>lesson_price</th>\n",
       "      <th>qualification</th>\n",
       "      <th>physics</th>\n",
       "      <th>chemistry</th>\n",
       "      <th>biology</th>\n",
       "      <th>english</th>\n",
       "      <th>geography</th>\n",
       "      <th>history</th>\n",
       "    </tr>\n",
       "  </thead>\n",
       "  <tbody>\n",
       "    <tr>\n",
       "      <th>9995</th>\n",
       "      <td>19995</td>\n",
       "      <td>42.00000</td>\n",
       "      <td>0.00000</td>\n",
       "      <td>1500.00000</td>\n",
       "      <td>1.00000</td>\n",
       "      <td>0.00000</td>\n",
       "      <td>0.00000</td>\n",
       "      <td>0.00000</td>\n",
       "      <td>0.00000</td>\n",
       "      <td>0.00000</td>\n",
       "      <td>0.00000</td>\n",
       "    </tr>\n",
       "    <tr>\n",
       "      <th>9996</th>\n",
       "      <td>19996</td>\n",
       "      <td>51.00000</td>\n",
       "      <td>2.00000</td>\n",
       "      <td>2200.00000</td>\n",
       "      <td>3.00000</td>\n",
       "      <td>0.00000</td>\n",
       "      <td>1.00000</td>\n",
       "      <td>0.00000</td>\n",
       "      <td>0.00000</td>\n",
       "      <td>0.00000</td>\n",
       "      <td>0.00000</td>\n",
       "    </tr>\n",
       "    <tr>\n",
       "      <th>9997</th>\n",
       "      <td>19997</td>\n",
       "      <td>33.00000</td>\n",
       "      <td>5.00000</td>\n",
       "      <td>1100.00000</td>\n",
       "      <td>1.00000</td>\n",
       "      <td>0.00000</td>\n",
       "      <td>0.00000</td>\n",
       "      <td>0.00000</td>\n",
       "      <td>0.00000</td>\n",
       "      <td>0.00000</td>\n",
       "      <td>0.00000</td>\n",
       "    </tr>\n",
       "    <tr>\n",
       "      <th>9998</th>\n",
       "      <td>19998</td>\n",
       "      <td>48.00000</td>\n",
       "      <td>0.00000</td>\n",
       "      <td>1750.00000</td>\n",
       "      <td>2.00000</td>\n",
       "      <td>0.00000</td>\n",
       "      <td>0.00000</td>\n",
       "      <td>0.00000</td>\n",
       "      <td>0.00000</td>\n",
       "      <td>0.00000</td>\n",
       "      <td>0.00000</td>\n",
       "    </tr>\n",
       "    <tr>\n",
       "      <th>9999</th>\n",
       "      <td>19999</td>\n",
       "      <td>49.00000</td>\n",
       "      <td>5.00000</td>\n",
       "      <td>2000.00000</td>\n",
       "      <td>2.00000</td>\n",
       "      <td>1.00000</td>\n",
       "      <td>0.00000</td>\n",
       "      <td>0.00000</td>\n",
       "      <td>0.00000</td>\n",
       "      <td>0.00000</td>\n",
       "      <td>0.00000</td>\n",
       "    </tr>\n",
       "  </tbody>\n",
       "</table>\n",
       "</div>"
      ],
      "text/plain": [
       "         Id      age  years_of_experience  lesson_price  qualification  \\\n",
       "9995  19995 42.00000              0.00000    1500.00000        1.00000   \n",
       "9996  19996 51.00000              2.00000    2200.00000        3.00000   \n",
       "9997  19997 33.00000              5.00000    1100.00000        1.00000   \n",
       "9998  19998 48.00000              0.00000    1750.00000        2.00000   \n",
       "9999  19999 49.00000              5.00000    2000.00000        2.00000   \n",
       "\n",
       "      physics  chemistry  biology  english  geography  history  \n",
       "9995  0.00000    0.00000  0.00000  0.00000    0.00000  0.00000  \n",
       "9996  0.00000    1.00000  0.00000  0.00000    0.00000  0.00000  \n",
       "9997  0.00000    0.00000  0.00000  0.00000    0.00000  0.00000  \n",
       "9998  0.00000    0.00000  0.00000  0.00000    0.00000  0.00000  \n",
       "9999  1.00000    0.00000  0.00000  0.00000    0.00000  0.00000  "
      ]
     },
     "execution_count": 13,
     "metadata": {},
     "output_type": "execute_result"
    }
   ],
   "source": [
    "test_df.tail(5)"
   ]
  },
  {
   "cell_type": "code",
   "execution_count": 14,
   "metadata": {
    "colab": {
     "base_uri": "https://localhost:8080/",
     "height": 297
    },
    "colab_type": "code",
    "executionInfo": {
     "elapsed": 2456,
     "status": "ok",
     "timestamp": 1583685957105,
     "user": {
      "displayName": "Alexey Tankov",
      "photoUrl": "",
      "userId": "01729535101672247421"
     },
     "user_tz": -180
    },
    "id": "-QKUKqWtXzCE",
    "outputId": "880c3c52-3d77-44bb-bdf7-88006af898c4"
   },
   "outputs": [
    {
     "data": {
      "text/html": [
       "<div>\n",
       "<style scoped>\n",
       "    .dataframe tbody tr th:only-of-type {\n",
       "        vertical-align: middle;\n",
       "    }\n",
       "\n",
       "    .dataframe tbody tr th {\n",
       "        vertical-align: top;\n",
       "    }\n",
       "\n",
       "    .dataframe thead th {\n",
       "        text-align: right;\n",
       "    }\n",
       "</style>\n",
       "<table border=\"1\" class=\"dataframe\">\n",
       "  <thead>\n",
       "    <tr style=\"text-align: right;\">\n",
       "      <th></th>\n",
       "      <th>Id</th>\n",
       "      <th>age</th>\n",
       "      <th>years_of_experience</th>\n",
       "      <th>lesson_price</th>\n",
       "      <th>qualification</th>\n",
       "      <th>physics</th>\n",
       "      <th>chemistry</th>\n",
       "      <th>biology</th>\n",
       "      <th>english</th>\n",
       "      <th>geography</th>\n",
       "      <th>history</th>\n",
       "      <th>mean_exam_points</th>\n",
       "    </tr>\n",
       "  </thead>\n",
       "  <tbody>\n",
       "    <tr>\n",
       "      <th>count</th>\n",
       "      <td>10000.00000</td>\n",
       "      <td>10000.00000</td>\n",
       "      <td>10000.00000</td>\n",
       "      <td>10000.00000</td>\n",
       "      <td>10000.00000</td>\n",
       "      <td>10000.00000</td>\n",
       "      <td>10000.00000</td>\n",
       "      <td>10000.00000</td>\n",
       "      <td>10000.00000</td>\n",
       "      <td>10000.00000</td>\n",
       "      <td>10000.00000</td>\n",
       "      <td>10000.00000</td>\n",
       "    </tr>\n",
       "    <tr>\n",
       "      <th>mean</th>\n",
       "      <td>4999.50000</td>\n",
       "      <td>45.87800</td>\n",
       "      <td>1.98680</td>\n",
       "      <td>1699.10500</td>\n",
       "      <td>1.71950</td>\n",
       "      <td>0.37500</td>\n",
       "      <td>0.13290</td>\n",
       "      <td>0.10960</td>\n",
       "      <td>0.05370</td>\n",
       "      <td>0.03210</td>\n",
       "      <td>0.01940</td>\n",
       "      <td>64.34080</td>\n",
       "    </tr>\n",
       "    <tr>\n",
       "      <th>std</th>\n",
       "      <td>2886.89568</td>\n",
       "      <td>8.04393</td>\n",
       "      <td>1.77221</td>\n",
       "      <td>524.88665</td>\n",
       "      <td>0.79226</td>\n",
       "      <td>0.48415</td>\n",
       "      <td>0.33948</td>\n",
       "      <td>0.31241</td>\n",
       "      <td>0.22544</td>\n",
       "      <td>0.17627</td>\n",
       "      <td>0.13793</td>\n",
       "      <td>13.53682</td>\n",
       "    </tr>\n",
       "    <tr>\n",
       "      <th>min</th>\n",
       "      <td>0.00000</td>\n",
       "      <td>23.00000</td>\n",
       "      <td>0.00000</td>\n",
       "      <td>200.00000</td>\n",
       "      <td>1.00000</td>\n",
       "      <td>0.00000</td>\n",
       "      <td>0.00000</td>\n",
       "      <td>0.00000</td>\n",
       "      <td>0.00000</td>\n",
       "      <td>0.00000</td>\n",
       "      <td>0.00000</td>\n",
       "      <td>32.00000</td>\n",
       "    </tr>\n",
       "    <tr>\n",
       "      <th>25%</th>\n",
       "      <td>2499.75000</td>\n",
       "      <td>40.00000</td>\n",
       "      <td>0.00000</td>\n",
       "      <td>1300.00000</td>\n",
       "      <td>1.00000</td>\n",
       "      <td>0.00000</td>\n",
       "      <td>0.00000</td>\n",
       "      <td>0.00000</td>\n",
       "      <td>0.00000</td>\n",
       "      <td>0.00000</td>\n",
       "      <td>0.00000</td>\n",
       "      <td>55.00000</td>\n",
       "    </tr>\n",
       "    <tr>\n",
       "      <th>50%</th>\n",
       "      <td>4999.50000</td>\n",
       "      <td>46.00000</td>\n",
       "      <td>2.00000</td>\n",
       "      <td>1500.00000</td>\n",
       "      <td>2.00000</td>\n",
       "      <td>0.00000</td>\n",
       "      <td>0.00000</td>\n",
       "      <td>0.00000</td>\n",
       "      <td>0.00000</td>\n",
       "      <td>0.00000</td>\n",
       "      <td>0.00000</td>\n",
       "      <td>63.00000</td>\n",
       "    </tr>\n",
       "    <tr>\n",
       "      <th>75%</th>\n",
       "      <td>7499.25000</td>\n",
       "      <td>51.00000</td>\n",
       "      <td>3.00000</td>\n",
       "      <td>2150.00000</td>\n",
       "      <td>2.00000</td>\n",
       "      <td>1.00000</td>\n",
       "      <td>0.00000</td>\n",
       "      <td>0.00000</td>\n",
       "      <td>0.00000</td>\n",
       "      <td>0.00000</td>\n",
       "      <td>0.00000</td>\n",
       "      <td>73.00000</td>\n",
       "    </tr>\n",
       "    <tr>\n",
       "      <th>max</th>\n",
       "      <td>9999.00000</td>\n",
       "      <td>68.00000</td>\n",
       "      <td>10.00000</td>\n",
       "      <td>3950.00000</td>\n",
       "      <td>4.00000</td>\n",
       "      <td>1.00000</td>\n",
       "      <td>1.00000</td>\n",
       "      <td>1.00000</td>\n",
       "      <td>1.00000</td>\n",
       "      <td>1.00000</td>\n",
       "      <td>1.00000</td>\n",
       "      <td>100.00000</td>\n",
       "    </tr>\n",
       "  </tbody>\n",
       "</table>\n",
       "</div>"
      ],
      "text/plain": [
       "               Id         age  years_of_experience  lesson_price  \\\n",
       "count 10000.00000 10000.00000          10000.00000   10000.00000   \n",
       "mean   4999.50000    45.87800              1.98680    1699.10500   \n",
       "std    2886.89568     8.04393              1.77221     524.88665   \n",
       "min       0.00000    23.00000              0.00000     200.00000   \n",
       "25%    2499.75000    40.00000              0.00000    1300.00000   \n",
       "50%    4999.50000    46.00000              2.00000    1500.00000   \n",
       "75%    7499.25000    51.00000              3.00000    2150.00000   \n",
       "max    9999.00000    68.00000             10.00000    3950.00000   \n",
       "\n",
       "       qualification     physics   chemistry     biology     english  \\\n",
       "count    10000.00000 10000.00000 10000.00000 10000.00000 10000.00000   \n",
       "mean         1.71950     0.37500     0.13290     0.10960     0.05370   \n",
       "std          0.79226     0.48415     0.33948     0.31241     0.22544   \n",
       "min          1.00000     0.00000     0.00000     0.00000     0.00000   \n",
       "25%          1.00000     0.00000     0.00000     0.00000     0.00000   \n",
       "50%          2.00000     0.00000     0.00000     0.00000     0.00000   \n",
       "75%          2.00000     1.00000     0.00000     0.00000     0.00000   \n",
       "max          4.00000     1.00000     1.00000     1.00000     1.00000   \n",
       "\n",
       "        geography     history  mean_exam_points  \n",
       "count 10000.00000 10000.00000       10000.00000  \n",
       "mean      0.03210     0.01940          64.34080  \n",
       "std       0.17627     0.13793          13.53682  \n",
       "min       0.00000     0.00000          32.00000  \n",
       "25%       0.00000     0.00000          55.00000  \n",
       "50%       0.00000     0.00000          63.00000  \n",
       "75%       0.00000     0.00000          73.00000  \n",
       "max       1.00000     1.00000         100.00000  "
      ]
     },
     "execution_count": 14,
     "metadata": {},
     "output_type": "execute_result"
    }
   ],
   "source": [
    "train_df.describe()"
   ]
  },
  {
   "cell_type": "code",
   "execution_count": 15,
   "metadata": {},
   "outputs": [
    {
     "data": {
      "text/html": [
       "<div>\n",
       "<style scoped>\n",
       "    .dataframe tbody tr th:only-of-type {\n",
       "        vertical-align: middle;\n",
       "    }\n",
       "\n",
       "    .dataframe tbody tr th {\n",
       "        vertical-align: top;\n",
       "    }\n",
       "\n",
       "    .dataframe thead th {\n",
       "        text-align: right;\n",
       "    }\n",
       "</style>\n",
       "<table border=\"1\" class=\"dataframe\">\n",
       "  <thead>\n",
       "    <tr style=\"text-align: right;\">\n",
       "      <th></th>\n",
       "      <th>Id</th>\n",
       "      <th>age</th>\n",
       "      <th>years_of_experience</th>\n",
       "      <th>lesson_price</th>\n",
       "      <th>qualification</th>\n",
       "      <th>physics</th>\n",
       "      <th>chemistry</th>\n",
       "      <th>biology</th>\n",
       "      <th>english</th>\n",
       "      <th>geography</th>\n",
       "      <th>history</th>\n",
       "    </tr>\n",
       "  </thead>\n",
       "  <tbody>\n",
       "    <tr>\n",
       "      <th>count</th>\n",
       "      <td>10000.00000</td>\n",
       "      <td>10000.00000</td>\n",
       "      <td>10000.00000</td>\n",
       "      <td>10000.00000</td>\n",
       "      <td>10000.00000</td>\n",
       "      <td>10000.00000</td>\n",
       "      <td>10000.00000</td>\n",
       "      <td>10000.00000</td>\n",
       "      <td>10000.00000</td>\n",
       "      <td>10000.00000</td>\n",
       "      <td>10000.00000</td>\n",
       "    </tr>\n",
       "    <tr>\n",
       "      <th>mean</th>\n",
       "      <td>14999.50000</td>\n",
       "      <td>45.97280</td>\n",
       "      <td>1.98000</td>\n",
       "      <td>1697.09500</td>\n",
       "      <td>1.70940</td>\n",
       "      <td>0.38130</td>\n",
       "      <td>0.12350</td>\n",
       "      <td>0.12010</td>\n",
       "      <td>0.05600</td>\n",
       "      <td>0.03140</td>\n",
       "      <td>0.01840</td>\n",
       "    </tr>\n",
       "    <tr>\n",
       "      <th>std</th>\n",
       "      <td>2886.89568</td>\n",
       "      <td>7.95628</td>\n",
       "      <td>1.78329</td>\n",
       "      <td>524.26262</td>\n",
       "      <td>0.79348</td>\n",
       "      <td>0.48573</td>\n",
       "      <td>0.32903</td>\n",
       "      <td>0.32509</td>\n",
       "      <td>0.22993</td>\n",
       "      <td>0.17440</td>\n",
       "      <td>0.13440</td>\n",
       "    </tr>\n",
       "    <tr>\n",
       "      <th>min</th>\n",
       "      <td>10000.00000</td>\n",
       "      <td>23.00000</td>\n",
       "      <td>0.00000</td>\n",
       "      <td>200.00000</td>\n",
       "      <td>1.00000</td>\n",
       "      <td>0.00000</td>\n",
       "      <td>0.00000</td>\n",
       "      <td>0.00000</td>\n",
       "      <td>0.00000</td>\n",
       "      <td>0.00000</td>\n",
       "      <td>0.00000</td>\n",
       "    </tr>\n",
       "    <tr>\n",
       "      <th>25%</th>\n",
       "      <td>12499.75000</td>\n",
       "      <td>41.00000</td>\n",
       "      <td>0.00000</td>\n",
       "      <td>1300.00000</td>\n",
       "      <td>1.00000</td>\n",
       "      <td>0.00000</td>\n",
       "      <td>0.00000</td>\n",
       "      <td>0.00000</td>\n",
       "      <td>0.00000</td>\n",
       "      <td>0.00000</td>\n",
       "      <td>0.00000</td>\n",
       "    </tr>\n",
       "    <tr>\n",
       "      <th>50%</th>\n",
       "      <td>14999.50000</td>\n",
       "      <td>46.00000</td>\n",
       "      <td>2.00000</td>\n",
       "      <td>1500.00000</td>\n",
       "      <td>2.00000</td>\n",
       "      <td>0.00000</td>\n",
       "      <td>0.00000</td>\n",
       "      <td>0.00000</td>\n",
       "      <td>0.00000</td>\n",
       "      <td>0.00000</td>\n",
       "      <td>0.00000</td>\n",
       "    </tr>\n",
       "    <tr>\n",
       "      <th>75%</th>\n",
       "      <td>17499.25000</td>\n",
       "      <td>51.00000</td>\n",
       "      <td>3.00000</td>\n",
       "      <td>2150.00000</td>\n",
       "      <td>2.00000</td>\n",
       "      <td>1.00000</td>\n",
       "      <td>0.00000</td>\n",
       "      <td>0.00000</td>\n",
       "      <td>0.00000</td>\n",
       "      <td>0.00000</td>\n",
       "      <td>0.00000</td>\n",
       "    </tr>\n",
       "    <tr>\n",
       "      <th>max</th>\n",
       "      <td>19999.00000</td>\n",
       "      <td>68.00000</td>\n",
       "      <td>10.00000</td>\n",
       "      <td>4050.00000</td>\n",
       "      <td>4.00000</td>\n",
       "      <td>1.00000</td>\n",
       "      <td>1.00000</td>\n",
       "      <td>1.00000</td>\n",
       "      <td>1.00000</td>\n",
       "      <td>1.00000</td>\n",
       "      <td>1.00000</td>\n",
       "    </tr>\n",
       "  </tbody>\n",
       "</table>\n",
       "</div>"
      ],
      "text/plain": [
       "               Id         age  years_of_experience  lesson_price  \\\n",
       "count 10000.00000 10000.00000          10000.00000   10000.00000   \n",
       "mean  14999.50000    45.97280              1.98000    1697.09500   \n",
       "std    2886.89568     7.95628              1.78329     524.26262   \n",
       "min   10000.00000    23.00000              0.00000     200.00000   \n",
       "25%   12499.75000    41.00000              0.00000    1300.00000   \n",
       "50%   14999.50000    46.00000              2.00000    1500.00000   \n",
       "75%   17499.25000    51.00000              3.00000    2150.00000   \n",
       "max   19999.00000    68.00000             10.00000    4050.00000   \n",
       "\n",
       "       qualification     physics   chemistry     biology     english  \\\n",
       "count    10000.00000 10000.00000 10000.00000 10000.00000 10000.00000   \n",
       "mean         1.70940     0.38130     0.12350     0.12010     0.05600   \n",
       "std          0.79348     0.48573     0.32903     0.32509     0.22993   \n",
       "min          1.00000     0.00000     0.00000     0.00000     0.00000   \n",
       "25%          1.00000     0.00000     0.00000     0.00000     0.00000   \n",
       "50%          2.00000     0.00000     0.00000     0.00000     0.00000   \n",
       "75%          2.00000     1.00000     0.00000     0.00000     0.00000   \n",
       "max          4.00000     1.00000     1.00000     1.00000     1.00000   \n",
       "\n",
       "        geography     history  \n",
       "count 10000.00000 10000.00000  \n",
       "mean      0.03140     0.01840  \n",
       "std       0.17440     0.13440  \n",
       "min       0.00000     0.00000  \n",
       "25%       0.00000     0.00000  \n",
       "50%       0.00000     0.00000  \n",
       "75%       0.00000     0.00000  \n",
       "max       1.00000     1.00000  "
      ]
     },
     "execution_count": 15,
     "metadata": {},
     "output_type": "execute_result"
    }
   ],
   "source": [
    "test_df.describe()"
   ]
  },
  {
   "cell_type": "code",
   "execution_count": 16,
   "metadata": {},
   "outputs": [
    {
     "name": "stdout",
     "output_type": "stream",
     "text": [
      "<class 'pandas.core.frame.DataFrame'>\n",
      "RangeIndex: 10000 entries, 0 to 9999\n",
      "Data columns (total 12 columns):\n",
      " #   Column               Non-Null Count  Dtype  \n",
      "---  ------               --------------  -----  \n",
      " 0   Id                   10000 non-null  int64  \n",
      " 1   age                  10000 non-null  float64\n",
      " 2   years_of_experience  10000 non-null  float64\n",
      " 3   lesson_price         10000 non-null  float64\n",
      " 4   qualification        10000 non-null  float64\n",
      " 5   physics              10000 non-null  float64\n",
      " 6   chemistry            10000 non-null  float64\n",
      " 7   biology              10000 non-null  float64\n",
      " 8   english              10000 non-null  float64\n",
      " 9   geography            10000 non-null  float64\n",
      " 10  history              10000 non-null  float64\n",
      " 11  mean_exam_points     10000 non-null  float64\n",
      "dtypes: float64(11), int64(1)\n",
      "memory usage: 937.6 KB\n"
     ]
    }
   ],
   "source": [
    "# Cведения о датафрейме\n",
    "train_df.info()"
   ]
  },
  {
   "cell_type": "code",
   "execution_count": 17,
   "metadata": {},
   "outputs": [
    {
     "name": "stdout",
     "output_type": "stream",
     "text": [
      "<class 'pandas.core.frame.DataFrame'>\n",
      "RangeIndex: 10000 entries, 0 to 9999\n",
      "Data columns (total 11 columns):\n",
      " #   Column               Non-Null Count  Dtype  \n",
      "---  ------               --------------  -----  \n",
      " 0   Id                   10000 non-null  int64  \n",
      " 1   age                  10000 non-null  float64\n",
      " 2   years_of_experience  10000 non-null  float64\n",
      " 3   lesson_price         10000 non-null  float64\n",
      " 4   qualification        10000 non-null  float64\n",
      " 5   physics              10000 non-null  float64\n",
      " 6   chemistry            10000 non-null  float64\n",
      " 7   biology              10000 non-null  float64\n",
      " 8   english              10000 non-null  float64\n",
      " 9   geography            10000 non-null  float64\n",
      " 10  history              10000 non-null  float64\n",
      "dtypes: float64(10), int64(1)\n",
      "memory usage: 859.5 KB\n"
     ]
    }
   ],
   "source": [
    "test_df.info()"
   ]
  },
  {
   "cell_type": "markdown",
   "metadata": {
    "colab_type": "text",
    "id": "_nDZD_8nEbRJ"
   },
   "source": [
    "###  Обработка выбросов и пропусков"
   ]
  },
  {
   "cell_type": "code",
   "execution_count": 18,
   "metadata": {},
   "outputs": [
    {
     "data": {
      "text/plain": [
       "Id                     0\n",
       "age                    0\n",
       "years_of_experience    0\n",
       "lesson_price           0\n",
       "qualification          0\n",
       "physics                0\n",
       "chemistry              0\n",
       "biology                0\n",
       "english                0\n",
       "geography              0\n",
       "history                0\n",
       "mean_exam_points       0\n",
       "dtype: int64"
      ]
     },
     "execution_count": 18,
     "metadata": {},
     "output_type": "execute_result"
    }
   ],
   "source": [
    "train_df.isnull().sum()"
   ]
  },
  {
   "cell_type": "code",
   "execution_count": 19,
   "metadata": {},
   "outputs": [
    {
     "data": {
      "text/plain": [
       "Id                     0\n",
       "age                    0\n",
       "years_of_experience    0\n",
       "lesson_price           0\n",
       "qualification          0\n",
       "physics                0\n",
       "chemistry              0\n",
       "biology                0\n",
       "english                0\n",
       "geography              0\n",
       "history                0\n",
       "dtype: int64"
      ]
     },
     "execution_count": 19,
     "metadata": {},
     "output_type": "execute_result"
    }
   ],
   "source": [
    "test_df.isnull().sum()"
   ]
  },
  {
   "cell_type": "markdown",
   "metadata": {},
   "source": [
    "### Age - возраст"
   ]
  },
  {
   "cell_type": "code",
   "execution_count": 20,
   "metadata": {},
   "outputs": [],
   "source": [
    "# train_df['age']"
   ]
  },
  {
   "cell_type": "code",
   "execution_count": 21,
   "metadata": {},
   "outputs": [],
   "source": [
    "# test_df['age']"
   ]
  },
  {
   "cell_type": "code",
   "execution_count": 22,
   "metadata": {},
   "outputs": [],
   "source": [
    "# train_df['age'].describe()"
   ]
  },
  {
   "cell_type": "code",
   "execution_count": 23,
   "metadata": {},
   "outputs": [],
   "source": [
    "# test_df['age'].describe()"
   ]
  },
  {
   "cell_type": "markdown",
   "metadata": {},
   "source": [
    "### Years_of_experience - стаж"
   ]
  },
  {
   "cell_type": "code",
   "execution_count": 24,
   "metadata": {},
   "outputs": [],
   "source": [
    "# train_df['years_of_experience']"
   ]
  },
  {
   "cell_type": "code",
   "execution_count": 25,
   "metadata": {},
   "outputs": [],
   "source": [
    "# test_df['years_of_experience']"
   ]
  },
  {
   "cell_type": "code",
   "execution_count": 26,
   "metadata": {},
   "outputs": [],
   "source": [
    "# train_df['years_of_experience'].describe()"
   ]
  },
  {
   "cell_type": "code",
   "execution_count": 27,
   "metadata": {},
   "outputs": [],
   "source": [
    "# test_df['years_of_experience'].describe()"
   ]
  },
  {
   "cell_type": "markdown",
   "metadata": {},
   "source": [
    "### Lesson_price - цена урока"
   ]
  },
  {
   "cell_type": "code",
   "execution_count": 28,
   "metadata": {},
   "outputs": [],
   "source": [
    "# train_df['lesson_price']"
   ]
  },
  {
   "cell_type": "code",
   "execution_count": 29,
   "metadata": {},
   "outputs": [],
   "source": [
    "# test_df['lesson_price']"
   ]
  },
  {
   "cell_type": "code",
   "execution_count": 30,
   "metadata": {},
   "outputs": [],
   "source": [
    "# train_df['lesson_price'].describe()"
   ]
  },
  {
   "cell_type": "code",
   "execution_count": 31,
   "metadata": {},
   "outputs": [],
   "source": [
    "# test_df['lesson_price'].describe()"
   ]
  },
  {
   "cell_type": "markdown",
   "metadata": {},
   "source": [
    "### Qualification – квалификация"
   ]
  },
  {
   "cell_type": "code",
   "execution_count": 32,
   "metadata": {},
   "outputs": [],
   "source": [
    "# train_df['qualification']"
   ]
  },
  {
   "cell_type": "code",
   "execution_count": 33,
   "metadata": {},
   "outputs": [],
   "source": [
    "# test_df['qualification']"
   ]
  },
  {
   "cell_type": "code",
   "execution_count": 34,
   "metadata": {},
   "outputs": [],
   "source": [
    "# train_df['qualification'].describe()"
   ]
  },
  {
   "cell_type": "code",
   "execution_count": 35,
   "metadata": {},
   "outputs": [],
   "source": [
    "# test_df['qualification'].describe()"
   ]
  },
  {
   "cell_type": "markdown",
   "metadata": {},
   "source": [
    "### Physics – физика"
   ]
  },
  {
   "cell_type": "code",
   "execution_count": 36,
   "metadata": {},
   "outputs": [],
   "source": [
    "# train_df['physics']"
   ]
  },
  {
   "cell_type": "code",
   "execution_count": 37,
   "metadata": {},
   "outputs": [],
   "source": [
    "# test_df['physics']"
   ]
  },
  {
   "cell_type": "code",
   "execution_count": 38,
   "metadata": {},
   "outputs": [],
   "source": [
    "# train_df['physics'].describe()"
   ]
  },
  {
   "cell_type": "code",
   "execution_count": 39,
   "metadata": {},
   "outputs": [],
   "source": [
    "# test_df['physics'].describe()"
   ]
  },
  {
   "cell_type": "markdown",
   "metadata": {},
   "source": [
    "### Chemistry – химия"
   ]
  },
  {
   "cell_type": "code",
   "execution_count": 40,
   "metadata": {},
   "outputs": [],
   "source": [
    "# train_df['chemistry']"
   ]
  },
  {
   "cell_type": "code",
   "execution_count": 41,
   "metadata": {},
   "outputs": [],
   "source": [
    "# test_df['chemistry']"
   ]
  },
  {
   "cell_type": "code",
   "execution_count": 42,
   "metadata": {},
   "outputs": [],
   "source": [
    "# train_df['chemistry'].describe()"
   ]
  },
  {
   "cell_type": "code",
   "execution_count": 43,
   "metadata": {},
   "outputs": [],
   "source": [
    "# test_df['chemistry'].describe()"
   ]
  },
  {
   "cell_type": "markdown",
   "metadata": {},
   "source": [
    "### Biology – биология"
   ]
  },
  {
   "cell_type": "code",
   "execution_count": 44,
   "metadata": {},
   "outputs": [],
   "source": [
    "# train_df['biology']"
   ]
  },
  {
   "cell_type": "code",
   "execution_count": 45,
   "metadata": {},
   "outputs": [],
   "source": [
    "# test_df['biology']"
   ]
  },
  {
   "cell_type": "code",
   "execution_count": 46,
   "metadata": {},
   "outputs": [],
   "source": [
    "# train_df['biology'].describe()"
   ]
  },
  {
   "cell_type": "code",
   "execution_count": 47,
   "metadata": {},
   "outputs": [],
   "source": [
    "# test_df['biology'].describe()"
   ]
  },
  {
   "cell_type": "markdown",
   "metadata": {},
   "source": [
    "### English – английский"
   ]
  },
  {
   "cell_type": "code",
   "execution_count": 48,
   "metadata": {},
   "outputs": [],
   "source": [
    "# train_df['english']"
   ]
  },
  {
   "cell_type": "code",
   "execution_count": 49,
   "metadata": {},
   "outputs": [],
   "source": [
    "# test_df['english']"
   ]
  },
  {
   "cell_type": "code",
   "execution_count": 50,
   "metadata": {},
   "outputs": [],
   "source": [
    "# train_df['english'].describe()"
   ]
  },
  {
   "cell_type": "code",
   "execution_count": 51,
   "metadata": {},
   "outputs": [],
   "source": [
    "# test_df['english'].describe()"
   ]
  },
  {
   "cell_type": "markdown",
   "metadata": {},
   "source": [
    "### Geography – география"
   ]
  },
  {
   "cell_type": "code",
   "execution_count": 52,
   "metadata": {},
   "outputs": [],
   "source": [
    "# train_df['geography']"
   ]
  },
  {
   "cell_type": "code",
   "execution_count": 53,
   "metadata": {},
   "outputs": [],
   "source": [
    "# test_df['geography']"
   ]
  },
  {
   "cell_type": "code",
   "execution_count": 54,
   "metadata": {},
   "outputs": [],
   "source": [
    "# train_df['geography'].describe()"
   ]
  },
  {
   "cell_type": "code",
   "execution_count": 55,
   "metadata": {},
   "outputs": [],
   "source": [
    "# test_df['geography'].describe()"
   ]
  },
  {
   "cell_type": "markdown",
   "metadata": {},
   "source": [
    "### History – история"
   ]
  },
  {
   "cell_type": "code",
   "execution_count": 56,
   "metadata": {},
   "outputs": [],
   "source": [
    "# train_df['history']"
   ]
  },
  {
   "cell_type": "code",
   "execution_count": 57,
   "metadata": {},
   "outputs": [],
   "source": [
    "# test_df['history']"
   ]
  },
  {
   "cell_type": "code",
   "execution_count": 58,
   "metadata": {},
   "outputs": [],
   "source": [
    "# train_df['history'].describe()"
   ]
  },
  {
   "cell_type": "code",
   "execution_count": 59,
   "metadata": {},
   "outputs": [],
   "source": [
    "# test_df['history'].describe()"
   ]
  },
  {
   "cell_type": "markdown",
   "metadata": {
    "colab_type": "text",
    "id": "J6NPlIxBDrKj"
   },
   "source": [
    "### Количественные переменные"
   ]
  },
  {
   "cell_type": "code",
   "execution_count": 60,
   "metadata": {
    "colab": {
     "base_uri": "https://localhost:8080/",
     "height": 576
    },
    "colab_type": "code",
    "executionInfo": {
     "elapsed": 2798,
     "status": "ok",
     "timestamp": 1583685957636,
     "user": {
      "displayName": "Alexey Tankov",
      "photoUrl": "",
      "userId": "01729535101672247421"
     },
     "user_tz": -180
    },
    "id": "mmEXA_-PDu2q",
    "outputId": "4e3a60a8-a6e3-4a89-b483-2129f60d3599"
   },
   "outputs": [
    {
     "data": {
      "text/html": [
       "<div>\n",
       "<style scoped>\n",
       "    .dataframe tbody tr th:only-of-type {\n",
       "        vertical-align: middle;\n",
       "    }\n",
       "\n",
       "    .dataframe tbody tr th {\n",
       "        vertical-align: top;\n",
       "    }\n",
       "\n",
       "    .dataframe thead th {\n",
       "        text-align: right;\n",
       "    }\n",
       "</style>\n",
       "<table border=\"1\" class=\"dataframe\">\n",
       "  <thead>\n",
       "    <tr style=\"text-align: right;\">\n",
       "      <th></th>\n",
       "      <th>count</th>\n",
       "      <th>mean</th>\n",
       "      <th>std</th>\n",
       "      <th>min</th>\n",
       "      <th>25%</th>\n",
       "      <th>50%</th>\n",
       "      <th>75%</th>\n",
       "      <th>max</th>\n",
       "    </tr>\n",
       "  </thead>\n",
       "  <tbody>\n",
       "    <tr>\n",
       "      <th>Id</th>\n",
       "      <td>10000.00000</td>\n",
       "      <td>4999.50000</td>\n",
       "      <td>2886.89568</td>\n",
       "      <td>0.00000</td>\n",
       "      <td>2499.75000</td>\n",
       "      <td>4999.50000</td>\n",
       "      <td>7499.25000</td>\n",
       "      <td>9999.00000</td>\n",
       "    </tr>\n",
       "    <tr>\n",
       "      <th>age</th>\n",
       "      <td>10000.00000</td>\n",
       "      <td>45.87800</td>\n",
       "      <td>8.04393</td>\n",
       "      <td>23.00000</td>\n",
       "      <td>40.00000</td>\n",
       "      <td>46.00000</td>\n",
       "      <td>51.00000</td>\n",
       "      <td>68.00000</td>\n",
       "    </tr>\n",
       "    <tr>\n",
       "      <th>years_of_experience</th>\n",
       "      <td>10000.00000</td>\n",
       "      <td>1.98680</td>\n",
       "      <td>1.77221</td>\n",
       "      <td>0.00000</td>\n",
       "      <td>0.00000</td>\n",
       "      <td>2.00000</td>\n",
       "      <td>3.00000</td>\n",
       "      <td>10.00000</td>\n",
       "    </tr>\n",
       "    <tr>\n",
       "      <th>lesson_price</th>\n",
       "      <td>10000.00000</td>\n",
       "      <td>1699.10500</td>\n",
       "      <td>524.88665</td>\n",
       "      <td>200.00000</td>\n",
       "      <td>1300.00000</td>\n",
       "      <td>1500.00000</td>\n",
       "      <td>2150.00000</td>\n",
       "      <td>3950.00000</td>\n",
       "    </tr>\n",
       "    <tr>\n",
       "      <th>qualification</th>\n",
       "      <td>10000.00000</td>\n",
       "      <td>1.71950</td>\n",
       "      <td>0.79226</td>\n",
       "      <td>1.00000</td>\n",
       "      <td>1.00000</td>\n",
       "      <td>2.00000</td>\n",
       "      <td>2.00000</td>\n",
       "      <td>4.00000</td>\n",
       "    </tr>\n",
       "    <tr>\n",
       "      <th>physics</th>\n",
       "      <td>10000.00000</td>\n",
       "      <td>0.37500</td>\n",
       "      <td>0.48415</td>\n",
       "      <td>0.00000</td>\n",
       "      <td>0.00000</td>\n",
       "      <td>0.00000</td>\n",
       "      <td>1.00000</td>\n",
       "      <td>1.00000</td>\n",
       "    </tr>\n",
       "    <tr>\n",
       "      <th>chemistry</th>\n",
       "      <td>10000.00000</td>\n",
       "      <td>0.13290</td>\n",
       "      <td>0.33948</td>\n",
       "      <td>0.00000</td>\n",
       "      <td>0.00000</td>\n",
       "      <td>0.00000</td>\n",
       "      <td>0.00000</td>\n",
       "      <td>1.00000</td>\n",
       "    </tr>\n",
       "    <tr>\n",
       "      <th>biology</th>\n",
       "      <td>10000.00000</td>\n",
       "      <td>0.10960</td>\n",
       "      <td>0.31241</td>\n",
       "      <td>0.00000</td>\n",
       "      <td>0.00000</td>\n",
       "      <td>0.00000</td>\n",
       "      <td>0.00000</td>\n",
       "      <td>1.00000</td>\n",
       "    </tr>\n",
       "    <tr>\n",
       "      <th>english</th>\n",
       "      <td>10000.00000</td>\n",
       "      <td>0.05370</td>\n",
       "      <td>0.22544</td>\n",
       "      <td>0.00000</td>\n",
       "      <td>0.00000</td>\n",
       "      <td>0.00000</td>\n",
       "      <td>0.00000</td>\n",
       "      <td>1.00000</td>\n",
       "    </tr>\n",
       "    <tr>\n",
       "      <th>geography</th>\n",
       "      <td>10000.00000</td>\n",
       "      <td>0.03210</td>\n",
       "      <td>0.17627</td>\n",
       "      <td>0.00000</td>\n",
       "      <td>0.00000</td>\n",
       "      <td>0.00000</td>\n",
       "      <td>0.00000</td>\n",
       "      <td>1.00000</td>\n",
       "    </tr>\n",
       "    <tr>\n",
       "      <th>history</th>\n",
       "      <td>10000.00000</td>\n",
       "      <td>0.01940</td>\n",
       "      <td>0.13793</td>\n",
       "      <td>0.00000</td>\n",
       "      <td>0.00000</td>\n",
       "      <td>0.00000</td>\n",
       "      <td>0.00000</td>\n",
       "      <td>1.00000</td>\n",
       "    </tr>\n",
       "    <tr>\n",
       "      <th>mean_exam_points</th>\n",
       "      <td>10000.00000</td>\n",
       "      <td>64.34080</td>\n",
       "      <td>13.53682</td>\n",
       "      <td>32.00000</td>\n",
       "      <td>55.00000</td>\n",
       "      <td>63.00000</td>\n",
       "      <td>73.00000</td>\n",
       "      <td>100.00000</td>\n",
       "    </tr>\n",
       "  </tbody>\n",
       "</table>\n",
       "</div>"
      ],
      "text/plain": [
       "                          count       mean        std       min        25%  \\\n",
       "Id                  10000.00000 4999.50000 2886.89568   0.00000 2499.75000   \n",
       "age                 10000.00000   45.87800    8.04393  23.00000   40.00000   \n",
       "years_of_experience 10000.00000    1.98680    1.77221   0.00000    0.00000   \n",
       "lesson_price        10000.00000 1699.10500  524.88665 200.00000 1300.00000   \n",
       "qualification       10000.00000    1.71950    0.79226   1.00000    1.00000   \n",
       "physics             10000.00000    0.37500    0.48415   0.00000    0.00000   \n",
       "chemistry           10000.00000    0.13290    0.33948   0.00000    0.00000   \n",
       "biology             10000.00000    0.10960    0.31241   0.00000    0.00000   \n",
       "english             10000.00000    0.05370    0.22544   0.00000    0.00000   \n",
       "geography           10000.00000    0.03210    0.17627   0.00000    0.00000   \n",
       "history             10000.00000    0.01940    0.13793   0.00000    0.00000   \n",
       "mean_exam_points    10000.00000   64.34080   13.53682  32.00000   55.00000   \n",
       "\n",
       "                           50%        75%        max  \n",
       "Id                  4999.50000 7499.25000 9999.00000  \n",
       "age                   46.00000   51.00000   68.00000  \n",
       "years_of_experience    2.00000    3.00000   10.00000  \n",
       "lesson_price        1500.00000 2150.00000 3950.00000  \n",
       "qualification          2.00000    2.00000    4.00000  \n",
       "physics                0.00000    1.00000    1.00000  \n",
       "chemistry              0.00000    0.00000    1.00000  \n",
       "biology                0.00000    0.00000    1.00000  \n",
       "english                0.00000    0.00000    1.00000  \n",
       "geography              0.00000    0.00000    1.00000  \n",
       "history                0.00000    0.00000    1.00000  \n",
       "mean_exam_points      63.00000   73.00000  100.00000  "
      ]
     },
     "execution_count": 60,
     "metadata": {},
     "output_type": "execute_result"
    }
   ],
   "source": [
    "train_df.describe().T"
   ]
  },
  {
   "cell_type": "code",
   "execution_count": 61,
   "metadata": {},
   "outputs": [
    {
     "data": {
      "text/html": [
       "<div>\n",
       "<style scoped>\n",
       "    .dataframe tbody tr th:only-of-type {\n",
       "        vertical-align: middle;\n",
       "    }\n",
       "\n",
       "    .dataframe tbody tr th {\n",
       "        vertical-align: top;\n",
       "    }\n",
       "\n",
       "    .dataframe thead th {\n",
       "        text-align: right;\n",
       "    }\n",
       "</style>\n",
       "<table border=\"1\" class=\"dataframe\">\n",
       "  <thead>\n",
       "    <tr style=\"text-align: right;\">\n",
       "      <th></th>\n",
       "      <th>count</th>\n",
       "      <th>mean</th>\n",
       "      <th>std</th>\n",
       "      <th>min</th>\n",
       "      <th>25%</th>\n",
       "      <th>50%</th>\n",
       "      <th>75%</th>\n",
       "      <th>max</th>\n",
       "    </tr>\n",
       "  </thead>\n",
       "  <tbody>\n",
       "    <tr>\n",
       "      <th>Id</th>\n",
       "      <td>10000.00000</td>\n",
       "      <td>14999.50000</td>\n",
       "      <td>2886.89568</td>\n",
       "      <td>10000.00000</td>\n",
       "      <td>12499.75000</td>\n",
       "      <td>14999.50000</td>\n",
       "      <td>17499.25000</td>\n",
       "      <td>19999.00000</td>\n",
       "    </tr>\n",
       "    <tr>\n",
       "      <th>age</th>\n",
       "      <td>10000.00000</td>\n",
       "      <td>45.97280</td>\n",
       "      <td>7.95628</td>\n",
       "      <td>23.00000</td>\n",
       "      <td>41.00000</td>\n",
       "      <td>46.00000</td>\n",
       "      <td>51.00000</td>\n",
       "      <td>68.00000</td>\n",
       "    </tr>\n",
       "    <tr>\n",
       "      <th>years_of_experience</th>\n",
       "      <td>10000.00000</td>\n",
       "      <td>1.98000</td>\n",
       "      <td>1.78329</td>\n",
       "      <td>0.00000</td>\n",
       "      <td>0.00000</td>\n",
       "      <td>2.00000</td>\n",
       "      <td>3.00000</td>\n",
       "      <td>10.00000</td>\n",
       "    </tr>\n",
       "    <tr>\n",
       "      <th>lesson_price</th>\n",
       "      <td>10000.00000</td>\n",
       "      <td>1697.09500</td>\n",
       "      <td>524.26262</td>\n",
       "      <td>200.00000</td>\n",
       "      <td>1300.00000</td>\n",
       "      <td>1500.00000</td>\n",
       "      <td>2150.00000</td>\n",
       "      <td>4050.00000</td>\n",
       "    </tr>\n",
       "    <tr>\n",
       "      <th>qualification</th>\n",
       "      <td>10000.00000</td>\n",
       "      <td>1.70940</td>\n",
       "      <td>0.79348</td>\n",
       "      <td>1.00000</td>\n",
       "      <td>1.00000</td>\n",
       "      <td>2.00000</td>\n",
       "      <td>2.00000</td>\n",
       "      <td>4.00000</td>\n",
       "    </tr>\n",
       "    <tr>\n",
       "      <th>physics</th>\n",
       "      <td>10000.00000</td>\n",
       "      <td>0.38130</td>\n",
       "      <td>0.48573</td>\n",
       "      <td>0.00000</td>\n",
       "      <td>0.00000</td>\n",
       "      <td>0.00000</td>\n",
       "      <td>1.00000</td>\n",
       "      <td>1.00000</td>\n",
       "    </tr>\n",
       "    <tr>\n",
       "      <th>chemistry</th>\n",
       "      <td>10000.00000</td>\n",
       "      <td>0.12350</td>\n",
       "      <td>0.32903</td>\n",
       "      <td>0.00000</td>\n",
       "      <td>0.00000</td>\n",
       "      <td>0.00000</td>\n",
       "      <td>0.00000</td>\n",
       "      <td>1.00000</td>\n",
       "    </tr>\n",
       "    <tr>\n",
       "      <th>biology</th>\n",
       "      <td>10000.00000</td>\n",
       "      <td>0.12010</td>\n",
       "      <td>0.32509</td>\n",
       "      <td>0.00000</td>\n",
       "      <td>0.00000</td>\n",
       "      <td>0.00000</td>\n",
       "      <td>0.00000</td>\n",
       "      <td>1.00000</td>\n",
       "    </tr>\n",
       "    <tr>\n",
       "      <th>english</th>\n",
       "      <td>10000.00000</td>\n",
       "      <td>0.05600</td>\n",
       "      <td>0.22993</td>\n",
       "      <td>0.00000</td>\n",
       "      <td>0.00000</td>\n",
       "      <td>0.00000</td>\n",
       "      <td>0.00000</td>\n",
       "      <td>1.00000</td>\n",
       "    </tr>\n",
       "    <tr>\n",
       "      <th>geography</th>\n",
       "      <td>10000.00000</td>\n",
       "      <td>0.03140</td>\n",
       "      <td>0.17440</td>\n",
       "      <td>0.00000</td>\n",
       "      <td>0.00000</td>\n",
       "      <td>0.00000</td>\n",
       "      <td>0.00000</td>\n",
       "      <td>1.00000</td>\n",
       "    </tr>\n",
       "    <tr>\n",
       "      <th>history</th>\n",
       "      <td>10000.00000</td>\n",
       "      <td>0.01840</td>\n",
       "      <td>0.13440</td>\n",
       "      <td>0.00000</td>\n",
       "      <td>0.00000</td>\n",
       "      <td>0.00000</td>\n",
       "      <td>0.00000</td>\n",
       "      <td>1.00000</td>\n",
       "    </tr>\n",
       "  </tbody>\n",
       "</table>\n",
       "</div>"
      ],
      "text/plain": [
       "                          count        mean        std         min  \\\n",
       "Id                  10000.00000 14999.50000 2886.89568 10000.00000   \n",
       "age                 10000.00000    45.97280    7.95628    23.00000   \n",
       "years_of_experience 10000.00000     1.98000    1.78329     0.00000   \n",
       "lesson_price        10000.00000  1697.09500  524.26262   200.00000   \n",
       "qualification       10000.00000     1.70940    0.79348     1.00000   \n",
       "physics             10000.00000     0.38130    0.48573     0.00000   \n",
       "chemistry           10000.00000     0.12350    0.32903     0.00000   \n",
       "biology             10000.00000     0.12010    0.32509     0.00000   \n",
       "english             10000.00000     0.05600    0.22993     0.00000   \n",
       "geography           10000.00000     0.03140    0.17440     0.00000   \n",
       "history             10000.00000     0.01840    0.13440     0.00000   \n",
       "\n",
       "                            25%         50%         75%         max  \n",
       "Id                  12499.75000 14999.50000 17499.25000 19999.00000  \n",
       "age                    41.00000    46.00000    51.00000    68.00000  \n",
       "years_of_experience     0.00000     2.00000     3.00000    10.00000  \n",
       "lesson_price         1300.00000  1500.00000  2150.00000  4050.00000  \n",
       "qualification           1.00000     2.00000     2.00000     4.00000  \n",
       "physics                 0.00000     0.00000     1.00000     1.00000  \n",
       "chemistry               0.00000     0.00000     0.00000     1.00000  \n",
       "biology                 0.00000     0.00000     0.00000     1.00000  \n",
       "english                 0.00000     0.00000     0.00000     1.00000  \n",
       "geography               0.00000     0.00000     0.00000     1.00000  \n",
       "history                 0.00000     0.00000     0.00000     1.00000  "
      ]
     },
     "execution_count": 61,
     "metadata": {},
     "output_type": "execute_result"
    }
   ],
   "source": [
    "test_df.describe().T"
   ]
  },
  {
   "cell_type": "markdown",
   "metadata": {
    "colab_type": "text",
    "id": "QEHV1bASD326"
   },
   "source": [
    "### Категориальные переменные"
   ]
  },
  {
   "cell_type": "code",
   "execution_count": 62,
   "metadata": {
    "colab": {
     "base_uri": "https://localhost:8080/",
     "height": 142
    },
    "colab_type": "code",
    "executionInfo": {
     "elapsed": 2758,
     "status": "ok",
     "timestamp": 1583685957636,
     "user": {
      "displayName": "Alexey Tankov",
      "photoUrl": "",
      "userId": "01729535101672247421"
     },
     "user_tz": -180
    },
    "id": "fGZ9M7aZDyQ8",
    "outputId": "b816bc00-93a7-4cfc-b069-ee82ac5717d3"
   },
   "outputs": [],
   "source": [
    "# train_df.describe(include=['O']).T"
   ]
  },
  {
   "cell_type": "code",
   "execution_count": 63,
   "metadata": {
    "colab": {
     "base_uri": "https://localhost:8080/",
     "height": 34
    },
    "colab_type": "code",
    "executionInfo": {
     "elapsed": 2672,
     "status": "ok",
     "timestamp": 1583685957636,
     "user": {
      "displayName": "Alexey Tankov",
      "photoUrl": "",
      "userId": "01729535101672247421"
     },
     "user_tz": -180
    },
    "id": "BxveMa_iD7iB",
    "outputId": "fc5822d5-d77a-4bc2-ff02-8be7a6af2cb8"
   },
   "outputs": [],
   "source": [
    "# cat_colnames = train_df.select_dtypes(include='object').columns.tolist()\n",
    "# cat_colnames"
   ]
  },
  {
   "cell_type": "code",
   "execution_count": 64,
   "metadata": {
    "colab": {
     "base_uri": "https://localhost:8080/",
     "height": 255
    },
    "colab_type": "code",
    "executionInfo": {
     "elapsed": 2631,
     "status": "ok",
     "timestamp": 1583685957637,
     "user": {
      "displayName": "Alexey Tankov",
      "photoUrl": "",
      "userId": "01729535101672247421"
     },
     "user_tz": -180
    },
    "id": "V2LJp8iXD-ly",
    "outputId": "589aa0fa-ea94-4e20-eaa1-c3b29cd79a32"
   },
   "outputs": [],
   "source": [
    "# for cat_colname in cat_colnames[0:]:\n",
    "#     print(str(cat_colname) + '\\n\\n' + str(train_df[cat_colname].value_counts()) + '\\n' + '*' * 100 + '\\n')"
   ]
  },
  {
   "cell_type": "markdown",
   "metadata": {
    "colab_type": "text",
    "id": "cU5eOdLACiWE"
   },
   "source": [
    "### Целевая переменная(mean_exam_points – средний балл)"
   ]
  },
  {
   "cell_type": "code",
   "execution_count": 65,
   "metadata": {
    "colab": {
     "base_uri": "https://localhost:8080/",
     "height": 170
    },
    "colab_type": "code",
    "executionInfo": {
     "elapsed": 2426,
     "status": "ok",
     "timestamp": 1583685957105,
     "user": {
      "displayName": "Alexey Tankov",
      "photoUrl": "",
      "userId": "01729535101672247421"
     },
     "user_tz": -180
    },
    "id": "Q5QMjFPEX7QC",
    "outputId": "f2e82f70-abf0-4f70-a78a-4c97e427e421"
   },
   "outputs": [
    {
     "data": {
      "text/plain": [
       "65.00000     338\n",
       "58.00000     326\n",
       "63.00000     324\n",
       "67.00000     317\n",
       "61.00000     316\n",
       "62.00000     312\n",
       "64.00000     307\n",
       "60.00000     304\n",
       "57.00000     298\n",
       "66.00000     293\n",
       "56.00000     290\n",
       "59.00000     283\n",
       "68.00000     274\n",
       "55.00000     253\n",
       "54.00000     244\n",
       "69.00000     237\n",
       "53.00000     227\n",
       "70.00000     208\n",
       "51.00000     194\n",
       "52.00000     184\n",
       "71.00000     183\n",
       "50.00000     177\n",
       "72.00000     165\n",
       "83.00000     164\n",
       "81.00000     156\n",
       "86.00000     150\n",
       "49.00000     148\n",
       "73.00000     147\n",
       "88.00000     146\n",
       "82.00000     145\n",
       "80.00000     144\n",
       "84.00000     142\n",
       "75.00000     141\n",
       "74.00000     141\n",
       "85.00000     141\n",
       "78.00000     127\n",
       "87.00000     125\n",
       "77.00000     120\n",
       "48.00000     119\n",
       "76.00000     118\n",
       "45.00000     110\n",
       "79.00000     109\n",
       "47.00000     106\n",
       "46.00000     103\n",
       "89.00000      95\n",
       "43.00000      93\n",
       "42.00000      92\n",
       "44.00000      91\n",
       "90.00000      88\n",
       "41.00000      85\n",
       "39.00000      80\n",
       "40.00000      79\n",
       "91.00000      68\n",
       "38.00000      54\n",
       "92.00000      50\n",
       "37.00000      47\n",
       "36.00000      46\n",
       "93.00000      38\n",
       "35.00000      33\n",
       "94.00000      31\n",
       "34.00000      29\n",
       "95.00000      17\n",
       "96.00000      12\n",
       "97.00000       7\n",
       "98.00000       4\n",
       "32.00000       2\n",
       "99.00000       1\n",
       "100.00000      1\n",
       "33.00000       1\n",
       "Name: mean_exam_points, dtype: int64"
      ]
     },
     "execution_count": 65,
     "metadata": {},
     "output_type": "execute_result"
    }
   ],
   "source": [
    "train_df['mean_exam_points'].value_counts()"
   ]
  },
  {
   "cell_type": "code",
   "execution_count": 66,
   "metadata": {
    "scrolled": true
   },
   "outputs": [
    {
     "data": {
      "text/plain": [
       "count   10000.00000\n",
       "mean       64.34080\n",
       "std        13.53682\n",
       "min        32.00000\n",
       "25%        55.00000\n",
       "50%        63.00000\n",
       "75%        73.00000\n",
       "max       100.00000\n",
       "Name: mean_exam_points, dtype: float64"
      ]
     },
     "execution_count": 66,
     "metadata": {},
     "output_type": "execute_result"
    }
   ],
   "source": [
    "train_df['mean_exam_points'].describe()"
   ]
  },
  {
   "cell_type": "markdown",
   "metadata": {},
   "source": [
    "### Корреляция признаков"
   ]
  },
  {
   "cell_type": "code",
   "execution_count": 67,
   "metadata": {},
   "outputs": [
    {
     "data": {
      "image/png": "[encoded data removed]",
      "text/plain": [
       "<Figure size 1080x1440 with 1 Axes>"
      ]
     },
     "metadata": {
      "needs_background": "light"
     },
     "output_type": "display_data"
    }
   ],
   "source": [
    "TARGET_NAME = 'mean_exam_points'\n",
    "\n",
    "corr_with_target = train_df.corr()[TARGET_NAME].sort_values(ascending=False)[1:]\n",
    "\n",
    "plt.figure(figsize=(15, 20))\n",
    "\n",
    "sns.barplot(x=corr_with_target.values, y=corr_with_target.index)\n",
    "\n",
    "plt.title('Correlation with target variable')\n",
    "plt.show()"
   ]
  },
  {
   "cell_type": "code",
   "execution_count": 68,
   "metadata": {},
   "outputs": [
    {
     "data": {
      "image/png": "[encoded data removed]",
      "text/plain": [
       "<Figure size 1800x1224 with 2 Axes>"
      ]
     },
     "metadata": {
      "needs_background": "light"
     },
     "output_type": "display_data"
    }
   ],
   "source": [
    "df_num_features = pd.get_dummies(train_df)\n",
    "# df_num_features = train_df.select_dtypes(include = ['float64', 'int64'])\n",
    "num_features = pd.DataFrame(df_num_features)\n",
    "\n",
    "corr = num_features.corr()\n",
    "plt.figure(figsize = (25, 17))\n",
    "mask = np.zeros_like(corr, dtype=np.bool)  # отрезаем лишнюю половину матрицы\n",
    "mask[np.triu_indices_from(mask)] = True\n",
    "sns.set(font_scale=1.4)\n",
    "sns.heatmap(num_features.corr(), mask=mask, annot=True, fmt='.1f', linewidths=.5, cmap='PuBu')\n",
    "plt.title('Correlation matrix')\n",
    "plt.show();"
   ]
  },
  {
   "cell_type": "markdown",
   "metadata": {},
   "source": [
    "###  Графики"
   ]
  },
  {
   "cell_type": "code",
   "execution_count": 69,
   "metadata": {},
   "outputs": [],
   "source": [
    "# fig, ax = plt.subplots(figsize=(24, 10))\n",
    "# ax.bar(train_df['mean_exam_points'], train_df['qualification'], ec='white', label='Квалификация') # color='#CC0033'\n",
    "# #set ticks every week\n",
    "# #set major ticks format\n",
    "# ax.set(xlabel='Средний балл',\n",
    "#        ylabel='Квалификация',\n",
    "#        title='Соотношение квалификации и среднего бала')\n",
    "# plt.xticks(rotation=90) \n",
    "# plt.legend()\n",
    "# plt.show()"
   ]
  },
  {
   "cell_type": "code",
   "execution_count": 70,
   "metadata": {},
   "outputs": [],
   "source": [
    "# fig, ax = plt.subplots(figsize=(24, 10))\n",
    "# ax.bar(train_df['mean_exam_points'], train_df['lesson_price'], ec='white', label='Цена урока') # color='#CC0033'\n",
    "# #set ticks every week\n",
    "# #set major ticks format\n",
    "# ax.set(xlabel='Средний балл',\n",
    "#        ylabel='Цена урока',\n",
    "#        title='Соотношение цены урока и среднего бала')\n",
    "# plt.xticks(rotation=90) \n",
    "# plt.legend()\n",
    "# plt.show()"
   ]
  },
  {
   "cell_type": "code",
   "execution_count": 71,
   "metadata": {},
   "outputs": [],
   "source": [
    "# fig, ax = plt.subplots(figsize=(24, 10))\n",
    "# ax.bar(train_df['mean_exam_points'], train_df['years_of_experience'], ec='white', label='Стаж') # color='#CC0033'\n",
    "# #set ticks every week\n",
    "# #set major ticks format\n",
    "# ax.set(xlabel='Средний балл',\n",
    "#        ylabel='Стаж',\n",
    "#        title='Соотношение стажа и среднего бала')\n",
    "# plt.xticks(rotation=90) \n",
    "# plt.legend()\n",
    "# plt.show()"
   ]
  },
  {
   "cell_type": "markdown",
   "metadata": {},
   "source": [
    "### Первичный подбор модели"
   ]
  },
  {
   "cell_type": "code",
   "execution_count": 72,
   "metadata": {},
   "outputs": [],
   "source": [
    "X = pd.get_dummies(train_df)\n",
    "X.drop('mean_exam_points', axis=1, inplace=True)\n",
    "X.drop('Id', axis=1, inplace=True)\n",
    "\n",
    "y = train_df['mean_exam_points']\n",
    "\n",
    "X_train, X_test, y_train, y_test = train_test_split(X, y, test_size = 0.25, random_state = 2)"
   ]
  },
  {
   "cell_type": "code",
   "execution_count": 73,
   "metadata": {},
   "outputs": [],
   "source": [
    "models = []\n",
    "\n",
    "models.append(('CatBoostRegressor', CatBoostRegressor(silent=True)))\n",
    "models.append(('RandomForestRegressor', RandomForestRegressor()))\n",
    "models.append(('GradientBoostingRegressor', GradientBoostingRegressor()))\n",
    "models.append(('LGBMRegressor', LGBMRegressor()))\n",
    "models.append(('XGBRegressor', XGBRegressor(silent=True)))"
   ]
  },
  {
   "cell_type": "code",
   "execution_count": 74,
   "metadata": {},
   "outputs": [
    {
     "data": {
      "text/html": [
       "<div>\n",
       "<style scoped>\n",
       "    .dataframe tbody tr th:only-of-type {\n",
       "        vertical-align: middle;\n",
       "    }\n",
       "\n",
       "    .dataframe tbody tr th {\n",
       "        vertical-align: top;\n",
       "    }\n",
       "\n",
       "    .dataframe thead th {\n",
       "        text-align: right;\n",
       "    }\n",
       "</style>\n",
       "<table border=\"1\" class=\"dataframe\">\n",
       "  <thead>\n",
       "    <tr style=\"text-align: right;\">\n",
       "      <th></th>\n",
       "      <th>model</th>\n",
       "      <th>TRAIN - R2</th>\n",
       "      <th>R2</th>\n",
       "      <th>EV</th>\n",
       "      <th>MAE</th>\n",
       "      <th>MSE</th>\n",
       "    </tr>\n",
       "  </thead>\n",
       "  <tbody>\n",
       "    <tr>\n",
       "      <th>3</th>\n",
       "      <td>LGBMRegressor</td>\n",
       "      <td>0.81699</td>\n",
       "      <td>0.79149</td>\n",
       "      <td>0.79150</td>\n",
       "      <td>4.78345</td>\n",
       "      <td>40.58512</td>\n",
       "    </tr>\n",
       "    <tr>\n",
       "      <th>0</th>\n",
       "      <td>CatBoostRegressor</td>\n",
       "      <td>0.82963</td>\n",
       "      <td>0.79075</td>\n",
       "      <td>0.79075</td>\n",
       "      <td>4.80014</td>\n",
       "      <td>40.72887</td>\n",
       "    </tr>\n",
       "    <tr>\n",
       "      <th>2</th>\n",
       "      <td>GradientBoostingRegressor</td>\n",
       "      <td>0.77949</td>\n",
       "      <td>0.78731</td>\n",
       "      <td>0.78732</td>\n",
       "      <td>4.89327</td>\n",
       "      <td>41.39820</td>\n",
       "    </tr>\n",
       "    <tr>\n",
       "      <th>4</th>\n",
       "      <td>XGBRegressor</td>\n",
       "      <td>0.85684</td>\n",
       "      <td>0.78017</td>\n",
       "      <td>0.78017</td>\n",
       "      <td>4.91183</td>\n",
       "      <td>42.78773</td>\n",
       "    </tr>\n",
       "    <tr>\n",
       "      <th>1</th>\n",
       "      <td>RandomForestRegressor</td>\n",
       "      <td>0.94356</td>\n",
       "      <td>0.75456</td>\n",
       "      <td>0.75459</td>\n",
       "      <td>5.14793</td>\n",
       "      <td>47.77217</td>\n",
       "    </tr>\n",
       "  </tbody>\n",
       "</table>\n",
       "</div>"
      ],
      "text/plain": [
       "                       model  TRAIN - R2      R2      EV     MAE      MSE\n",
       "3              LGBMRegressor     0.81699 0.79149 0.79150 4.78345 40.58512\n",
       "0          CatBoostRegressor     0.82963 0.79075 0.79075 4.80014 40.72887\n",
       "2  GradientBoostingRegressor     0.77949 0.78731 0.78732 4.89327 41.39820\n",
       "4               XGBRegressor     0.85684 0.78017 0.78017 4.91183 42.78773\n",
       "1      RandomForestRegressor     0.94356 0.75456 0.75459 5.14793 47.77217"
      ]
     },
     "execution_count": 74,
     "metadata": {},
     "output_type": "execute_result"
    }
   ],
   "source": [
    "results = []\n",
    "\n",
    "for name, model in models:\n",
    "    model.fit(X_train, y_train)\n",
    "    y_pred_train  = model.predict(X_train)\n",
    "    y_pred_test = model.predict(X_test)\n",
    "    TRR2 = r2_score(y_train, y_pred_train)\n",
    "    R2 = r2_score(y_test, y_pred_test)\n",
    "    MAE = mean_absolute_error(y_test, y_pred_test)\n",
    "    MSE = mean_squared_error(y_test, y_pred_test)\n",
    "    EV = explained_variance_score(y_test, y_pred_test)\n",
    "    # print(f'R2 - {R2}, MAE - {MAE}, MSE - {MSE} - {name}')\n",
    "    results.append((name, TRR2, R2, EV, MAE, MSE))\n",
    "    \n",
    "best_models = pd.DataFrame(results, columns = ['model', 'TRAIN - R2', 'R2', 'EV', 'MAE', 'MSE'])\n",
    "best_models.sort_values('R2', ascending=False)"
   ]
  },
  {
   "cell_type": "markdown",
   "metadata": {},
   "source": [
    "### Создание функции"
   ]
  },
  {
   "cell_type": "code",
   "execution_count": 75,
   "metadata": {},
   "outputs": [],
   "source": [
    "def mega_func(df):\n",
    "    # Построение новых признаков\n",
    "    df['tutor_rating'] = 1\n",
    "    df.loc[(df['qualification'] >= 3) & (df['years_of_experience'] >= 8), 'tutor_rating'] = 5\n",
    "    df.loc[((df['qualification'] < 3) & (df['qualification'] >= 2)) & ((df['years_of_experience'] < 8) & (df['years_of_experience'] >= 6)), 'tutor_rating'] = 4\n",
    "    df.loc[((df['qualification'] < 2) & (df['qualification'] >= 1)) & ((df['years_of_experience'] < 6) & (df['years_of_experience'] >= 4)), 'tutor_rating'] = 3\n",
    "    df.loc[(df['qualification'] < 1) & (df['years_of_experience'] < 2), 'tutor_rating'] = 2\n",
    "    df['service'] = 1\n",
    "    df.loc[(df['qualification'] >= 3) & (df['lesson_price'] >= 3500), 'service'] = 5\n",
    "    df.loc[((df['qualification'] < 3) & (df['qualification'] >= 2)) & ((df['lesson_price'] < 3500) & (df['lesson_price'] >= 2500)), 'service'] = 4\n",
    "    df.loc[((df['qualification'] < 2) & (df['qualification'] >= 1)) & ((df['lesson_price'] < 2500) & (df['lesson_price'] >= 1500)), 'service'] = 3\n",
    "    df.loc[(df['qualification'] < 1) & (df['lesson_price'] < 1000), 'service'] = 2\n",
    "#     # Построение новых признаков - \\(o_O)/\n",
    "    df['q_lp_ratio'] =  df['qualification'] * df['lesson_price']\n",
    "    df['lp_q_deratio'] =  df['lesson_price'] / df['qualification'] # -  0.7749"
   ]
  },
  {
   "cell_type": "code",
   "execution_count": 76,
   "metadata": {},
   "outputs": [],
   "source": [
    "mega_func(train_df)\n",
    "mega_func(test_df)"
   ]
  },
  {
   "cell_type": "code",
   "execution_count": 77,
   "metadata": {},
   "outputs": [],
   "source": [
    "# train_df['tutor_rating'].value_counts()\n",
    "# train_df['service'].value_counts()\n",
    "# train_df['q_lp_ratio'].value_counts()"
   ]
  },
  {
   "cell_type": "code",
   "execution_count": 78,
   "metadata": {},
   "outputs": [
    {
     "data": {
      "image/png": "[encoded data removed]",
      "text/plain": [
       "<Figure size 1080x1440 with 1 Axes>"
      ]
     },
     "metadata": {},
     "output_type": "display_data"
    }
   ],
   "source": [
    "corr_with_target = train_df.corr()[TARGET_NAME].sort_values(ascending=False)[1:]\n",
    "\n",
    "plt.figure(figsize=(15, 20))\n",
    "\n",
    "sns.barplot(x=corr_with_target.values, y=corr_with_target.index)\n",
    "\n",
    "plt.title('Correlation with target variable')\n",
    "plt.show()"
   ]
  },
  {
   "cell_type": "code",
   "execution_count": 79,
   "metadata": {},
   "outputs": [
    {
     "data": {
      "text/html": [
       "<div>\n",
       "<style scoped>\n",
       "    .dataframe tbody tr th:only-of-type {\n",
       "        vertical-align: middle;\n",
       "    }\n",
       "\n",
       "    .dataframe tbody tr th {\n",
       "        vertical-align: top;\n",
       "    }\n",
       "\n",
       "    .dataframe thead th {\n",
       "        text-align: right;\n",
       "    }\n",
       "</style>\n",
       "<table border=\"1\" class=\"dataframe\">\n",
       "  <thead>\n",
       "    <tr style=\"text-align: right;\">\n",
       "      <th></th>\n",
       "      <th>model</th>\n",
       "      <th>TRAIN - R2</th>\n",
       "      <th>R2</th>\n",
       "      <th>EV</th>\n",
       "      <th>MAE</th>\n",
       "      <th>MSE</th>\n",
       "    </tr>\n",
       "  </thead>\n",
       "  <tbody>\n",
       "    <tr>\n",
       "      <th>3</th>\n",
       "      <td>LGBMRegressor</td>\n",
       "      <td>0.82107</td>\n",
       "      <td>0.79105</td>\n",
       "      <td>0.79106</td>\n",
       "      <td>4.79057</td>\n",
       "      <td>40.66997</td>\n",
       "    </tr>\n",
       "    <tr>\n",
       "      <th>0</th>\n",
       "      <td>CatBoostRegressor</td>\n",
       "      <td>0.83401</td>\n",
       "      <td>0.79022</td>\n",
       "      <td>0.79022</td>\n",
       "      <td>4.79027</td>\n",
       "      <td>40.83232</td>\n",
       "    </tr>\n",
       "    <tr>\n",
       "      <th>2</th>\n",
       "      <td>GradientBoostingRegressor</td>\n",
       "      <td>0.78611</td>\n",
       "      <td>0.79003</td>\n",
       "      <td>0.79004</td>\n",
       "      <td>4.81464</td>\n",
       "      <td>40.86812</td>\n",
       "    </tr>\n",
       "    <tr>\n",
       "      <th>4</th>\n",
       "      <td>XGBRegressor</td>\n",
       "      <td>0.86557</td>\n",
       "      <td>0.77505</td>\n",
       "      <td>0.77505</td>\n",
       "      <td>4.91994</td>\n",
       "      <td>43.78493</td>\n",
       "    </tr>\n",
       "    <tr>\n",
       "      <th>1</th>\n",
       "      <td>RandomForestRegressor</td>\n",
       "      <td>0.94321</td>\n",
       "      <td>0.75108</td>\n",
       "      <td>0.75115</td>\n",
       "      <td>5.16873</td>\n",
       "      <td>48.45070</td>\n",
       "    </tr>\n",
       "  </tbody>\n",
       "</table>\n",
       "</div>"
      ],
      "text/plain": [
       "                       model  TRAIN - R2      R2      EV     MAE      MSE\n",
       "3              LGBMRegressor     0.82107 0.79105 0.79106 4.79057 40.66997\n",
       "0          CatBoostRegressor     0.83401 0.79022 0.79022 4.79027 40.83232\n",
       "2  GradientBoostingRegressor     0.78611 0.79003 0.79004 4.81464 40.86812\n",
       "4               XGBRegressor     0.86557 0.77505 0.77505 4.91994 43.78493\n",
       "1      RandomForestRegressor     0.94321 0.75108 0.75115 5.16873 48.45070"
      ]
     },
     "execution_count": 79,
     "metadata": {},
     "output_type": "execute_result"
    }
   ],
   "source": [
    "X = pd.get_dummies(train_df)\n",
    "X.drop('mean_exam_points', axis=1, inplace=True)\n",
    "X.drop('Id', axis=1, inplace=True)\n",
    "\n",
    "y = train_df['mean_exam_points']\n",
    "\n",
    "X_train, X_test, y_train, y_test = train_test_split(X, y, test_size = 0.25, random_state = 2)\n",
    "\n",
    "# Результат после добавления новых признаков\n",
    "results = []\n",
    "\n",
    "for name, model in models:\n",
    "    model.fit(X_train, y_train)\n",
    "    y_pred_train  = model.predict(X_train)\n",
    "    y_pred_test = model.predict(X_test)\n",
    "    TRR2 = r2_score(y_train, y_pred_train)\n",
    "    R2 = r2_score(y_test, y_pred_test)\n",
    "    MAE = mean_absolute_error(y_test, y_pred_test)\n",
    "    MSE = mean_squared_error(y_test, y_pred_test)\n",
    "    EV = explained_variance_score(y_test, y_pred_test)\n",
    "    results.append((name, TRR2, R2, EV, MAE, MSE))\n",
    "    \n",
    "best_models = pd.DataFrame(results, columns = ['model', 'TRAIN - R2', 'R2', 'EV', 'MAE', 'MSE'])\n",
    "best_models.sort_values('R2', ascending=False)"
   ]
  },
  {
   "cell_type": "markdown",
   "metadata": {},
   "source": [
    "**Автоматический подбор параметров(GridSearchCV)**"
   ]
  },
  {
   "cell_type": "code",
   "execution_count": 80,
   "metadata": {},
   "outputs": [],
   "source": [
    "# estimator = GradientBoostingRegressor()\n",
    "# param_grid = {\n",
    "#     'n_estimators': [74],\n",
    "#     'min_samples_split': [5],\n",
    "#     'learning_rate': [0.1],\n",
    "#     'max_depth': [4],\n",
    "#     'random_state': [15]\n",
    "# }\n",
    "\n",
    "# model_gbr = GridSearchCV(estimator, param_grid, scoring='r2')\n",
    "# model_gbr.fit(X_train, y_train)\n",
    "\n",
    "# print('Best parameters found by grid search are:', model_gbr.best_params_)"
   ]
  },
  {
   "cell_type": "code",
   "execution_count": 81,
   "metadata": {},
   "outputs": [
    {
     "name": "stdout",
     "output_type": "stream",
     "text": [
      "GradientBoostingRegressor: r2_score(TRAIN) - 0.8095911460348186\n",
      "GradientBoostingRegressor: r2_score(TEST) - 0.792596849791308\n",
      "GradientBoostingRegressor: MAE(TEST) - 4.7629421997085695\n",
      "GradientBoostingRegressor: MSE(TEST) - 40.369136184484546\n",
      "Wall time: 517 ms\n"
     ]
    }
   ],
   "source": [
    "%%time\n",
    "\n",
    "model_gbr = GradientBoostingRegressor(learning_rate=0.1, n_estimators=74, max_depth=5, min_samples_split=5, random_state=2)\n",
    "model_gbr.fit(X_train, y_train)\n",
    "y_pred_train  = model_gbr.predict(X_train)\n",
    "y_pred_test = model_gbr.predict(X_test)\n",
    "print('GradientBoostingRegressor: r2_score(TRAIN) - ' + str(r2_score(y_train, y_pred_train)))\n",
    "print('GradientBoostingRegressor: r2_score(TEST) - ' + str(r2_score(y_test, y_pred_test)))\n",
    "print('GradientBoostingRegressor: MAE(TEST) - ' + str(mean_absolute_error(y_test, y_pred_test)))\n",
    "print('GradientBoostingRegressor: MSE(TEST) - ' + str(mean_squared_error(y_test, y_pred_test)))\n",
    "\n",
    "# GradientBoostingRegressor: r2_score(TEST) - 0.7798913816520958 (random_state=1)"
   ]
  },
  {
   "cell_type": "markdown",
   "metadata": {},
   "source": [
    "### Класс модели Gradient Boosting"
   ]
  },
  {
   "cell_type": "code",
   "execution_count": 82,
   "metadata": {},
   "outputs": [],
   "source": [
    "# Реализуем класс узла\n",
    "class Node:\n",
    "    \n",
    "    def __init__(self, index, t, true_branch, false_branch):\n",
    "        self.index = index  # индекс признака, по которому ведется сравнение с порогом в этом узле\n",
    "        self.t = t  # значение порога\n",
    "        self.true_branch = true_branch  # поддерево, удовлетворяющее условию в узле\n",
    "        self.false_branch = false_branch  # поддерево, не удовлетворяющее условию в узле"
   ]
  },
  {
   "cell_type": "code",
   "execution_count": 83,
   "metadata": {},
   "outputs": [],
   "source": [
    "# И класс терминального узла (листа)\n",
    "class Leaf:\n",
    "    \n",
    "    def __init__(self, data, labels):\n",
    "        self.data = data\n",
    "        self.labels = labels\n",
    "        self.prediction = self.predict()\n",
    "        \n",
    "    def predict(self):\n",
    "        \n",
    "        # Расчет среднего значения в листе\n",
    "        prediction = np.mean(self.labels)\n",
    "        return prediction "
   ]
  },
  {
   "cell_type": "code",
   "execution_count": 84,
   "metadata": {},
   "outputs": [],
   "source": [
    "# Реализуем класс дерева\n",
    "class Tree:\n",
    "\n",
    "    def __init__(self, max_depth):\n",
    "        self.max_depth = max_depth\n",
    "        self.tree = None\n",
    "\n",
    "\n",
    "    # В случае регрессии разброс будет характеризоваться дисперсией\n",
    "    def variance(self, labels):\n",
    "        return np.var(labels)\n",
    "\n",
    "\n",
    "    # Расчет качества\n",
    "    def quality(self, left_labels, right_labels, current_variance):\n",
    "\n",
    "        # доля выбоки, ушедшая в левое поддерево\n",
    "        p = float(left_labels.shape[0]) / (left_labels.shape[0] + right_labels.shape[0])\n",
    "        \n",
    "        return current_variance - p * self.variance(left_labels) - (1 - p) * self.variance(right_labels)\n",
    "\n",
    "    \n",
    "    # Разбиение датасета в узле\n",
    "    def split(self, data, labels, index, t):\n",
    "    \n",
    "        left = np.where(data[:, index] <= t)\n",
    "        right = np.where(data[:, index] > t)\n",
    "            \n",
    "        true_data = data[left]\n",
    "        false_data = data[right]\n",
    "        true_labels = labels[left]\n",
    "        false_labels = labels[right]\n",
    "            \n",
    "        return true_data, false_data, true_labels, false_labels\n",
    "\n",
    "    \n",
    "    # Нахождение наилучшего разбиения\n",
    "    def find_best_split(self, data, labels):\n",
    "        \n",
    "        #  обозначим минимальное количество объектов в узле\n",
    "        min_leaf = 5\n",
    "\n",
    "        current_variance = self.variance(labels)\n",
    "\n",
    "        best_quality = 0\n",
    "        best_t = None\n",
    "        best_index = None\n",
    "        \n",
    "        n_features = data.shape[1]\n",
    "        \n",
    "        for index in range(n_features):\n",
    "            # будем проверять только уникальные значения признака, исключая повторения\n",
    "            t_values = np.unique([row[index] for row in data])\n",
    "            \n",
    "            for t in t_values:\n",
    "                true_data, false_data, true_labels, false_labels = self.split(data, labels, index, t)\n",
    "                #  пропускаем разбиения, в которых в узле остается менее 5 объектов\n",
    "                if len(true_data) < min_leaf or len(false_data) < min_leaf:\n",
    "                    continue\n",
    "                \n",
    "                current_quality = self.quality(true_labels, false_labels, current_variance)\n",
    "                \n",
    "                #  выбираем порог, на котором получается максимальный прирост качества\n",
    "                if current_quality > best_quality:\n",
    "                    best_quality, best_t, best_index = current_quality, t, index\n",
    "\n",
    "        return best_quality, best_t, best_index\n",
    "    \n",
    "\n",
    "    # Построение дерева с помощью рекурсивной функции\n",
    "    def build_tree(self, data, labels, max_depth, depth=0):\n",
    "\n",
    "        quality, t, index = self.find_best_split(data, labels)\n",
    "\n",
    "        # Прекращаем рекурсию, когда нет прироста в качества или достигнута\n",
    "        # максимальная глубина дерева\n",
    "        if quality == 0 or depth >= max_depth:\n",
    "            return Leaf(data, labels)\n",
    "\n",
    "        true_data, false_data, true_labels, false_labels = self.split(data, labels, index, t)\n",
    "\n",
    "        # Рекурсивно строим два поддерева\n",
    "        true_branch = self.build_tree(true_data, true_labels, max_depth, depth+1)\n",
    "        false_branch = self.build_tree(false_data, false_labels, max_depth, depth+1)\n",
    "\n",
    "        # Возвращаем класс узла со всеми поддеревьями, то есть целого дерева\n",
    "        return Node(index, t, true_branch, false_branch)\n",
    "    \n",
    "\n",
    "    def predict_target(self, obj, node):\n",
    "\n",
    "        #  Останавливаем рекурсию, если достигли листа\n",
    "        if isinstance(node, Leaf):\n",
    "            answer = node.prediction\n",
    "            return answer\n",
    "\n",
    "        if obj[node.index] <= node.t:\n",
    "            return self.predict_target(obj, node.true_branch)\n",
    "        else:\n",
    "            return self.predict_target(obj, node.false_branch)\n",
    "    \n",
    "\n",
    "    def predict(self, data):\n",
    "    \n",
    "        values = []\n",
    "        for obj in data:\n",
    "            prediction = self.predict_target(obj, self.tree)\n",
    "            values.append(prediction)\n",
    "        return values\n",
    "    \n",
    "\n",
    "    # Строим дерево\n",
    "    def fit(self, data, labels):\n",
    "        self.tree = self.build_tree(data, labels, self.max_depth)\n",
    "        return self"
   ]
  },
  {
   "cell_type": "code",
   "execution_count": 85,
   "metadata": {},
   "outputs": [],
   "source": [
    "# Реализуем класс для градиентного бустинга\n",
    "class GB:\n",
    "    def __init__(self, n_trees, max_depth, coefs, eta):\n",
    "        self.n_trees = n_trees\n",
    "        self.max_depth = max_depth\n",
    "        self.coefs = coefs\n",
    "        self.eta = eta\n",
    "        self.trees = []\n",
    "\n",
    "\n",
    "    def bias(self, y, z):\n",
    "        return (y - z)\n",
    "\n",
    "    def fit(self, X_train, y_train):\n",
    "        \n",
    "        # Деревья будем записывать в список\n",
    "        trees = []\n",
    "\n",
    "        for i in range(self.n_trees):\n",
    "            tree = Tree(max_depth=self.max_depth)         \n",
    "\n",
    "            # инициализируем бустинг начальным алгоритмом, возвращающим ноль, \n",
    "            # поэтому первый алгоритм просто обучаем на выборке и добавляем в список\n",
    "            if len(self.trees) == 0:\n",
    "                # обучаем первое дерево на обучающей выборке\n",
    "                tree.fit(X_train, y_train)\n",
    "            else:\n",
    "                # Получим ответы на текущей композиции\n",
    "                target = self.predict(X_train)\n",
    "                \n",
    "                # алгоритмы начиная со второго обучаем на сдвиг\n",
    "                tree.fit(X_train, self.bias(y_train, target))\n",
    "            self.trees.append(tree)\n",
    "            \n",
    "        return self\n",
    "    \n",
    "    \n",
    "    def predict(self, X):\n",
    "        # Реализуемый алгоритм градиентного бустинга будет инициализироваться нулевыми значениями,\n",
    "        # поэтому все деревья из списка trees_list уже являются дополнительными и при предсказании прибавляются с шагом eta\n",
    "        return np.array([sum([self.eta * coef * alg.predict([x])[0] for alg, coef in zip(self.trees, self.coefs)]) for x in X])"
   ]
  },
  {
   "cell_type": "code",
   "execution_count": 86,
   "metadata": {},
   "outputs": [],
   "source": [
    "# Функция вычисления метрики R2\n",
    "def R2(y_pred, y_true):\n",
    "    numerator = ((y_true - y_pred) ** 2).sum(axis=0, dtype=np.float64)\n",
    "    denominator = ((y_true - np.average(y_true)) ** 2).sum(axis=0, dtype=np.float64)\n",
    "    return 1 - (numerator / denominator)"
   ]
  },
  {
   "cell_type": "markdown",
   "metadata": {},
   "source": [
    "### Прогнозирование"
   ]
  },
  {
   "cell_type": "code",
   "execution_count": 87,
   "metadata": {},
   "outputs": [],
   "source": [
    "features = ['age', 'years_of_experience', 'lesson_price', 'qualification', 'physics', 'chemistry', 'biology', 'english', 'geography', 'history', 'service'] # - 0.7776\n",
    "# q_lp_ratio - 0.7758, tutor_rating - 0.7735, service - 0.7762, lp_q_deratio - 0.7732"
   ]
  },
  {
   "cell_type": "code",
   "execution_count": 88,
   "metadata": {},
   "outputs": [],
   "source": [
    "X = train_df[features].values\n",
    "y = train_df[TARGET_NAME].values"
   ]
  },
  {
   "cell_type": "code",
   "execution_count": 89,
   "metadata": {},
   "outputs": [],
   "source": [
    "# def calc_std_feat(x):\n",
    "#     res = (x - x.mean()) / x.std()\n",
    "#     return res"
   ]
  },
  {
   "cell_type": "code",
   "execution_count": 90,
   "metadata": {},
   "outputs": [],
   "source": [
    "# X_st = X.copy()\n",
    "# X_st[2, :] = calc_std_feat(X[2, :])"
   ]
  },
  {
   "cell_type": "code",
   "execution_count": 91,
   "metadata": {},
   "outputs": [],
   "source": [
    "X_train, X_test, y_train, y_test = train_test_split(X, y, test_size = 0.25, random_state = 42) # - 8 0.7904214783176695"
   ]
  },
  {
   "cell_type": "code",
   "execution_count": 92,
   "metadata": {},
   "outputs": [],
   "source": [
    "# Число деревьев в ансамбле\n",
    "n_trees = 17\n",
    "\n",
    "# для простоты примем коэффициенты равными 1\n",
    "coefs = [1] * n_trees\n",
    "\n",
    "# Максимальная глубина деревьев\n",
    "max_depth = 5\n",
    "\n",
    "# Шаг\n",
    "eta = 0.41"
   ]
  },
  {
   "cell_type": "code",
   "execution_count": 93,
   "metadata": {},
   "outputs": [],
   "source": [
    "gb = GB(n_trees, max_depth, coefs, eta)\n",
    "# Обучение модели\n",
    "gb.fit(X_train, y_train)\n",
    "# Предскажем значения на тестовом наборе\n",
    "y_pred_test = gb.predict(X_test)"
   ]
  },
  {
   "cell_type": "code",
   "execution_count": 94,
   "metadata": {},
   "outputs": [
    {
     "data": {
      "text/plain": [
       "0.7770110577442296"
      ]
     },
     "execution_count": 94,
     "metadata": {},
     "output_type": "execute_result"
    }
   ],
   "source": [
    "R2(y_pred_test, y_test)"
   ]
  },
  {
   "cell_type": "code",
   "execution_count": 96,
   "metadata": {},
   "outputs": [
    {
     "data": {
      "text/plain": [
       "<__main__.GB at 0x1f303138cc8>"
      ]
     },
     "execution_count": 96,
     "metadata": {},
     "output_type": "execute_result"
    }
   ],
   "source": [
    "gb_final = GB(n_trees, max_depth, coefs, eta)\n",
    "gb_final.fit(X, y)"
   ]
  },
  {
   "cell_type": "code",
   "execution_count": 97,
   "metadata": {},
   "outputs": [],
   "source": [
    "X_test = test_df[features].values"
   ]
  },
  {
   "cell_type": "code",
   "execution_count": 98,
   "metadata": {},
   "outputs": [],
   "source": [
    "y_pred_test = gb_final.predict(X_test)"
   ]
  },
  {
   "cell_type": "markdown",
   "metadata": {},
   "source": [
    "### Cохранение результатов"
   ]
  },
  {
   "cell_type": "code",
   "execution_count": 99,
   "metadata": {},
   "outputs": [],
   "source": [
    "submissions = pd.concat([test_df['Id'], pd.Series(y_pred_test)], axis=1)\n",
    "submissions = submissions.rename(columns={0: 'mean_exam_points'})\n",
    "\n",
    "submissions.to_csv(RES_PATH, index=False, encoding='utf-8')"
   ]
  },
  {
   "cell_type": "code",
   "execution_count": 100,
   "metadata": {},
   "outputs": [],
   "source": [
    "# X_test = pd.get_dummies(test_df)\n",
    "# X_test.drop('Id', axis=1, inplace=True)\n",
    "# test_df['mean_exam_points'] = model_gbr.predict(X_test)\n",
    "# test_df['mean_exam_points'] = test_df['mean_exam_points'] #.astype('int')\n",
    "# test_df.loc[:, ['Id', 'mean_exam_points']].to_csv(RES_PATH, index=False, encoding='utf-8')"
   ]
  },
  {
   "cell_type": "code",
   "execution_count": null,
   "metadata": {},
   "outputs": [],
   "source": []
  }
 ],
 "metadata": {
  "accelerator": "GPU",
  "colab": {
   "collapsed_sections": [],
   "machine_shape": "hm",
   "name": "Real_Estate_Price_Prediction.ipynb",
   "provenance": []
  },
  "kernelspec": {
   "display_name": "Python 3",
   "language": "python",
   "name": "python3"
  },
  "language_info": {
   "codemirror_mode": {
    "name": "ipython",
    "version": 3
   },
   "file_extension": ".py",
   "mimetype": "text/x-python",
   "name": "python",
   "nbconvert_exporter": "python",
   "pygments_lexer": "ipython3",
   "version": "3.7.6"
  }
 },
 "nbformat": 4,
 "nbformat_minor": 1
}
