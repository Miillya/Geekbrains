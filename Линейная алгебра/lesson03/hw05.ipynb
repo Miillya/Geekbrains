{
 "cells": [
  {
   "cell_type": "markdown",
   "metadata": {},
   "source": [
    "## Линейная алгебра.\n",
    "### Урок 4. Системы линейных уравнений."
   ]
  },
  {
   "cell_type": "code",
   "execution_count": 21,
   "metadata": {},
   "outputs": [],
   "source": [
    "import numpy as np"
   ]
  },
  {
   "cell_type": "markdown",
   "metadata": {},
   "source": [
    "#### 1. Найти собственные векторы и собственные значения для линейного оператора, заданного матрицей"
   ]
  },
  {
   "cell_type": "markdown",
   "metadata": {},
   "source": [
    "$A=\\begin{pmatrix}\n",
    "-1 & -6\\\\ \n",
    "2 & 6\n",
    "\\end{pmatrix}$"
   ]
  },
  {
   "cell_type": "markdown",
   "metadata": {},
   "source": [
    "$x_{1} = 2$  \n",
    "$x_{2} = 3$ "
   ]
  },
  {
   "cell_type": "markdown",
   "metadata": {},
   "source": [
    "$\\begin{pmatrix}\n",
    "-1 & -6\\\\ \n",
    "2 & 6\n",
    "\\end{pmatrix}\n",
    "\\begin{pmatrix}\n",
    "x_{1}\\\\ \n",
    "x_{2}\n",
    "\\end{pmatrix}=\n",
    "\\lambda\n",
    "\\begin{pmatrix}\n",
    "x_{1}\\\\ \n",
    "x_{2}\n",
    "\\end{pmatrix}$"
   ]
  },
  {
   "cell_type": "markdown",
   "metadata": {},
   "source": [
    "$\\lambda = 2$"
   ]
  },
  {
   "cell_type": "markdown",
   "metadata": {},
   "source": [
    "$\\begin{cases}\n",
    "-x_{1}-6x_{2} = 2x_{1}\\\\\n",
    "2x_{1}+6x_{2} = 2x_{2}\n",
    "\\end{cases}$ "
   ]
  },
  {
   "cell_type": "markdown",
   "metadata": {},
   "source": [
    "$\\begin{cases}\n",
    "3x_{1} = -6x_{2}\\\\\n",
    "2x_{2} = -x_{1}\n",
    "\\end{cases}$  "
   ]
  },
  {
   "cell_type": "markdown",
   "metadata": {},
   "source": [
    "$\\begin{cases}\n",
    "x_{1} = -2x_{2}\\\\\n",
    "2x_{2} = -x_{1}\n",
    "\\end{cases}$ "
   ]
  },
  {
   "cell_type": "markdown",
   "metadata": {},
   "source": [
    "$\\begin{cases}\n",
    "x_{1} = -2\\\\\n",
    "x_{2} = 1 \n",
    "\\end{cases}$  "
   ]
  },
  {
   "cell_type": "markdown",
   "metadata": {},
   "source": [
    "v1 = (-2, 1)"
   ]
  },
  {
   "cell_type": "markdown",
   "metadata": {},
   "source": [
    "$\\lambda = 3$"
   ]
  },
  {
   "cell_type": "markdown",
   "metadata": {},
   "source": [
    "$\\begin{cases}\n",
    "-x_{1}-6x_{2} = 3x_{1}\\\\\n",
    "2x_{1}+6x_{2} = 3x_{2}\n",
    "\\end{cases}$"
   ]
  },
  {
   "cell_type": "markdown",
   "metadata": {},
   "source": [
    "$\\begin{cases}\n",
    "4x_{1} = -6x_{2}\\\\\n",
    "2x_{1} = -3x_{2}\n",
    "\\end{cases}$"
   ]
  },
  {
   "cell_type": "markdown",
   "metadata": {},
   "source": [
    "$\\begin{cases}\n",
    "x_{1} = -\\frac{3}{2}x_{2}\\\\\n",
    "x_{1} = -\\frac{3}{2}x_{2}\n",
    "\\end{cases}$"
   ]
  },
  {
   "cell_type": "markdown",
   "metadata": {},
   "source": [
    "$\\begin{cases}\n",
    "x_{1} = \\frac{3}{2}\\\\\n",
    "x_{2} = -1\n",
    "\\end{cases}$"
   ]
  },
  {
   "cell_type": "markdown",
   "metadata": {},
   "source": [
    "v2 = ($\\frac{3}{2}$, -1)"
   ]
  },
  {
   "cell_type": "code",
   "execution_count": 27,
   "metadata": {},
   "outputs": [
    {
     "name": "stdout",
     "output_type": "stream",
     "text": [
      "Матрица A:\n",
      "[[-1 -6]\n",
      " [ 2  6]]\n",
      "Собственные значения:\n",
      "[2 3]\n",
      "\n",
      "Собственные векторы:\n",
      "[-2  1], [ 1.5 -1. ]\n",
      "\n",
      "Нормированные собственные векторы:\n",
      "[-0.89442719  0.4472136 ], [ 0.83205029 -0.5547002 ]\n",
      "\n"
     ]
    }
   ],
   "source": [
    "a = np.array([[-1, -6],\n",
    "              [2, 6]])\n",
    "\n",
    "v1 = np.array([-2, 1])\n",
    "v2 = np.array([3/2, -1])\n",
    "\n",
    "n1 = np.linalg.norm(v1)\n",
    "n2 = np.linalg.norm(v2)\n",
    "\n",
    "print(f'Матрица A:\\n{a}')\n",
    "print(f'Собственные значения:\\n{np.array([2, 3])}\\n')\n",
    "print(f'Собственные векторы:\\n{v1}, {v2}\\n')\n",
    "print(f'Нормированные собственные векторы:\\n{v1/n1}, {v2/n2}\\n')"
   ]
  },
  {
   "cell_type": "code",
   "execution_count": 28,
   "metadata": {},
   "outputs": [
    {
     "name": "stdout",
     "output_type": "stream",
     "text": [
      "Матрица A:\n",
      "[[-1 -6]\n",
      " [ 2  6]]\n",
      "Собственные значения:\n",
      "[2. 3.]\n",
      "\n",
      "Собственные векторы:\n",
      "[-0.89442719  0.4472136 ], [ 0.83205029 -0.5547002 ]\n",
      "\n"
     ]
    }
   ],
   "source": [
    "w, v = np.linalg.eig(a)\n",
    "\n",
    "print(f'Матрица A:\\n{a}')\n",
    "print(f'Собственные значения:\\n{w}\\n')\n",
    "print(f'Собственные векторы:\\n{v[:, 0]}, {v[:, 1]}\\n')"
   ]
  },
  {
   "cell_type": "markdown",
   "metadata": {},
   "source": [
    "#### 2. Дан оператор поворота на 180 градусов, задаваемый матрицей"
   ]
  },
  {
   "cell_type": "markdown",
   "metadata": {},
   "source": [
    "$ A = \\begin{pmatrix} -1 & 0 \\\\ 0 & -1 \\end{pmatrix} $"
   ]
  },
  {
   "cell_type": "markdown",
   "metadata": {},
   "source": [
    "Показать, что любой вектор является для него собственным."
   ]
  },
  {
   "cell_type": "markdown",
   "metadata": {},
   "source": [
    "$\\begin{pmatrix}\n",
    "-1 & 0\\\\ \n",
    "0 & -1\n",
    "\\end{pmatrix}  \n",
    "\\begin{pmatrix}\n",
    "2\\\\\n",
    "1\n",
    "\\end{pmatrix} =\n",
    "\\lambda\n",
    "\\begin{pmatrix}\n",
    "2\\\\\n",
    "1\n",
    "\\end{pmatrix}$"
   ]
  },
  {
   "cell_type": "markdown",
   "metadata": {},
   "source": [
    "$\\Rightarrow\n",
    "\\begin{cases}\n",
    "\\lambda=-1\\\\ \n",
    "\\lambda=-1\\\\\n",
    "\\end{cases}\n",
    "\\Rightarrow\n",
    "\\lambda=-1$"
   ]
  },
  {
   "cell_type": "markdown",
   "metadata": {},
   "source": [
    "$\\Rightarrow\n",
    "\\begin{cases}\n",
    "\\lambda=-1\\\\ \n",
    "\\lambda=-1\\\\\n",
    "\\end{cases}\n",
    "\\Rightarrow\n",
    "\\lambda=-1$"
   ]
  },
  {
   "cell_type": "code",
   "execution_count": 29,
   "metadata": {},
   "outputs": [],
   "source": [
    "a = np.array([[-1, 0], [0, -1]])"
   ]
  },
  {
   "cell_type": "code",
   "execution_count": 30,
   "metadata": {},
   "outputs": [
    {
     "name": "stdout",
     "output_type": "stream",
     "text": [
      "Матрица A:\n",
      "[[-1  0]\n",
      " [ 0 -1]]\n",
      "Собственные значения:\n",
      "[-1. -1.]\n",
      "\n",
      "Собственные векторы:\n",
      "[1. 0.], [0. 1.]\n",
      "\n"
     ]
    }
   ],
   "source": [
    "w, v = np.linalg.eig(a)\n",
    "\n",
    "print(f'Матрица A:\\n{a}')\n",
    "print(f'Собственные значения:\\n{w}\\n')\n",
    "print(f'Собственные векторы:\\n{v[:, 0]}, {v[:, 1]}\\n')"
   ]
  },
  {
   "cell_type": "markdown",
   "metadata": {},
   "source": [
    "#### 3. Пусть линейный оператор задан матрицей"
   ]
  },
  {
   "cell_type": "markdown",
   "metadata": {},
   "source": [
    "$ A = \\begin{pmatrix} 1 & 1 \\\\ -1 & 3 \\end{pmatrix} $"
   ]
  },
  {
   "cell_type": "markdown",
   "metadata": {},
   "source": [
    "Установить, является ли вектор  x=(1,1)  собственным вектором этого линейного оператора."
   ]
  },
  {
   "cell_type": "markdown",
   "metadata": {},
   "source": [
    "$\\begin{pmatrix}\n",
    "1 & 1\\\\ \n",
    "-1 & 3\n",
    "\\end{pmatrix}\n",
    "\\begin{pmatrix}\n",
    "1\\\\ \n",
    "1 \n",
    "\\end{pmatrix}=\n",
    "\\lambda\n",
    "\\begin{pmatrix}\n",
    "1\\\\ \n",
    "1\n",
    "\\end{pmatrix}$  "
   ]
  },
  {
   "cell_type": "markdown",
   "metadata": {},
   "source": [
    "$\\begin{cases}\n",
    "1 + 1 = 1\\cdot\\lambda \\\\ \n",
    "-1 + 3 = 1\\cdot \\lambda\n",
    "\\end{cases}\n",
    "\\Rightarrow\n",
    "\\begin{cases}\n",
    "\\lambda=2\\\\ \n",
    "\\lambda=2\n",
    "\\end{cases}$"
   ]
  },
  {
   "cell_type": "code",
   "execution_count": 31,
   "metadata": {},
   "outputs": [
    {
     "data": {
      "text/plain": [
       "array([2., 2.])"
      ]
     },
     "execution_count": 31,
     "metadata": {},
     "output_type": "execute_result"
    }
   ],
   "source": [
    "a = np.array([[1, 1], \n",
    "              [-1, 3]])\n",
    "x = np.array([1, 1])\n",
    "l = np.dot(a, x)\n",
    "l / x"
   ]
  },
  {
   "cell_type": "markdown",
   "metadata": {},
   "source": [
    "#### 4. Пусть линейный оператор задан матрицей"
   ]
  },
  {
   "cell_type": "markdown",
   "metadata": {},
   "source": [
    "$A=\\begin{pmatrix}\n",
    "0 & 3 & 0\\\\ \n",
    "3 & 0 & 0\\\\\n",
    "0 & 0 & 3\n",
    "\\end{pmatrix}$\n",
    "\n",
    "Установить, является ли вектор $x=(3, -3, -4)$ собственным вектором этого линейного оператора."
   ]
  },
  {
   "cell_type": "markdown",
   "metadata": {},
   "source": [
    "$\\begin{pmatrix}\n",
    "0 & 3 & 0\\\\ \n",
    "3 & 0 & 0\\\\\n",
    "0 & 0 & 3\n",
    "\\end{pmatrix}\n",
    "\\begin{pmatrix}\n",
    "3\\\\\n",
    "-3\\\\\n",
    "-4\n",
    "\\end{pmatrix}=\n",
    "\\lambda\n",
    "\\begin{pmatrix}\n",
    "3\\\\\n",
    "-3\\\\\n",
    "-4\n",
    "\\end{pmatrix}$"
   ]
  },
  {
   "cell_type": "markdown",
   "metadata": {},
   "source": [
    "$\\Rightarrow\n",
    "\\begin{cases}\n",
    "3\\lambda=-9\\\\ \n",
    "-3\\lambda=9\\\\\n",
    "-4\\lambda=-12\n",
    "\\end{cases}\n",
    "$ $\\Rightarrow\n",
    "\\begin{cases}\n",
    "\\lambda=-3\\\\ \n",
    "\\lambda=-3\\\\\n",
    "\\lambda=3\n",
    "\\end{cases}$"
   ]
  },
  {
   "cell_type": "code",
   "execution_count": 32,
   "metadata": {},
   "outputs": [
    {
     "name": "stdout",
     "output_type": "stream",
     "text": [
      "[ -9   9 -12]\n",
      "Ответ: вектор x=(3, -3, -4) не является собственным вектором линейного оператора A.\n"
     ]
    }
   ],
   "source": [
    "a = np.array([[0, 3, 0], \n",
    "              [3, 0, 0], \n",
    "              [0, 0, 3]])\n",
    "y = np.array([3, -3, -4])\n",
    "lam = np.dot(a, y)\n",
    "print(lam)\n",
    "np.divide(lam, y)\n",
    "print(f'Ответ: вектор x=(3, -3, -4) не является собственным вектором линейного оператора A.')"
   ]
  }
 ],
 "metadata": {
  "kernelspec": {
   "display_name": "Python 3",
   "language": "python",
   "name": "python3"
  },
  "language_info": {
   "codemirror_mode": {
    "name": "ipython",
    "version": 3
   },
   "file_extension": ".py",
   "mimetype": "text/x-python",
   "name": "python",
   "nbconvert_exporter": "python",
   "pygments_lexer": "ipython3",
   "version": "3.7.6"
  }
 },
 "nbformat": 4,
 "nbformat_minor": 2
}
