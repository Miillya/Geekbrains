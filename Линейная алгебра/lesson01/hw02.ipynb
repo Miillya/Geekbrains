{
 "cells": [
  {
   "cell_type": "markdown",
   "metadata": {},
   "source": [
    "## Линейная алгебра.\n",
    "### Урок 1. Линейное пространство."
   ]
  },
  {
   "cell_type": "code",
   "execution_count": 15,
   "metadata": {},
   "outputs": [],
   "source": [
    "import numpy as np"
   ]
  },
  {
   "cell_type": "markdown",
   "metadata": {},
   "source": [
    "#### 1. Найти скалярное произведение векторов $x, y \\in \\mathbb{R} :$"
   ]
  },
  {
   "cell_type": "markdown",
   "metadata": {},
   "source": [
    "а) $x=(0,-3, 6),~y=(-4, 7, 9);$"
   ]
  },
  {
   "cell_type": "code",
   "execution_count": 16,
   "metadata": {},
   "outputs": [
    {
     "name": "stdout",
     "output_type": "stream",
     "text": [
      "Скалярное произведение векторов x и y: 33\n"
     ]
    }
   ],
   "source": [
    "x = np.array([0, -3, 6])\n",
    "y = np.array([-4, 7, 9])\n",
    "print(f'Скалярное произведение векторов x и y: {np.dot(x, y)}')"
   ]
  },
  {
   "cell_type": "markdown",
   "metadata": {},
   "source": [
    "б) $x=(7, -4, 0, 1),~y=(-3, 1, 11, 2).$"
   ]
  },
  {
   "cell_type": "code",
   "execution_count": 17,
   "metadata": {},
   "outputs": [
    {
     "name": "stdout",
     "output_type": "stream",
     "text": [
      "Скалярное произведение векторов x и y: -23\n"
     ]
    }
   ],
   "source": [
    "x = np.array([7, -4, 0, 1])\n",
    "y = np.array([-3, 1, 11, 2])\n",
    "print(f'Скалярное произведение векторов x и y: {np.dot(x, y)}')"
   ]
  },
  {
   "cell_type": "markdown",
   "metadata": {},
   "source": [
    "#### 2. Найти нормы векторов (4, 2, 4) и (12, 3, 4) и угол между ними."
   ]
  },
  {
   "cell_type": "code",
   "execution_count": 18,
   "metadata": {},
   "outputs": [
    {
     "name": "stdout",
     "output_type": "stream",
     "text": [
      "L1 - Манхэттенская норма вектора a: 10.0\n",
      "L2 - Евклидова норма вектора a: 6.0\n",
      "L1 - Манхэттенская норма вектора b: 19.0\n",
      "L2 - Евклидова норма вектора b: 13.0\n",
      "Косинус угла между a и b: 0.90\n",
      "Угол между a и b: 0.46\n"
     ]
    }
   ],
   "source": [
    "a = np.array([4, 2, 4])\n",
    "b = np.array([12, 3, 4])\n",
    "\n",
    "print(f'L1 - Манхэттенская норма вектора a: {np.linalg.norm(a, ord=1)}')\n",
    "print(f'L2 - Евклидова норма вектора a: {np.linalg.norm(a, ord=2)}')\n",
    "\n",
    "print(f'L1 - Манхэттенская норма вектора b: {np.linalg.norm(b, ord=1)}')\n",
    "print(f'L2 - Евклидова норма вектора b: {np.linalg.norm(b, ord=2)}')\n",
    "\n",
    "cos_pi = np.dot(a, b) / np.linalg.norm(a) / np.linalg.norm(b)\n",
    "print(f'Косинус угла между a и b: {cos_pi:.2f}')\n",
    "print(f'Угол между a и b: {np.arccos(cos_pi):.2f}')"
   ]
  },
  {
   "cell_type": "markdown",
   "metadata": {},
   "source": [
    "#### 3. Будет ли линейное пространство евклидовым, если за скалярное произведение принять:"
   ]
  },
  {
   "cell_type": "markdown",
   "metadata": {},
   "source": [
    "Линейное пространство над полем вещественных чисел называется евклидовым пространством, если на нем введено правило, согласно которому каждой упорядоченной паре векторов $x$ и $y$ поставлено в соответствие вещественное число, называемое скалярным произведением и обозначаемое символом $(x, y)$.  \n",
    "\n",
    "При этом указанное правило должно подчиняться четырем аксиомам:  \n",
    "1) $(x,y)=(y,x);$  \n",
    "2) $(\\lambda x, y)=\\lambda(x, y);$  \n",
    "3) $(x_{1}+x_{2},y)=(x_{1},y)+(x_{2},y);$  \n",
    "4) $(x, x)\\geq0$, при этом $(x,x)=0\\Leftrightarrow x=0.$  "
   ]
  },
  {
   "cell_type": "markdown",
   "metadata": {},
   "source": [
    "а) произведение длин векторов;"
   ]
  },
  {
   "cell_type": "markdown",
   "metadata": {},
   "source": [
    "**Ответ** - Нет"
   ]
  },
  {
   "cell_type": "markdown",
   "metadata": {},
   "source": [
    "б) утроенное обычное скалярное произведение векторов?"
   ]
  },
  {
   "cell_type": "markdown",
   "metadata": {},
   "source": [
    "**Ответ** - Да"
   ]
  },
  {
   "cell_type": "markdown",
   "metadata": {},
   "source": [
    "#### 4.Какие из нижеперечисленных векторов образуют ортонормированный базис в линейном пространстве $\\mathbb{R}^{3}:$"
   ]
  },
  {
   "cell_type": "markdown",
   "metadata": {},
   "source": [
    "a) $(1, 0, 0), (0, 0, 1)$"
   ]
  },
  {
   "cell_type": "code",
   "execution_count": 19,
   "metadata": {},
   "outputs": [
    {
     "name": "stdout",
     "output_type": "stream",
     "text": [
      "(a,b) = 0\n",
      "(a,a) = 1\n",
      "(b,b) = 1\n",
      "\n",
      "Ответ - Да, векторы образуют ортонормированный базис\n"
     ]
    }
   ],
   "source": [
    "a, b, = (1, 0, 0), (0, 0, 1)\n",
    "\n",
    "print(f'(a,b) = {np.round(np.dot(a, b), 4)}')\n",
    "print(f'(a,a) = {np.round(np.dot(a, a), 4)}')\n",
    "print(f'(b,b) = {np.round(np.dot(b, b), )}')\n",
    "\n",
    "print(f'\\nОтвет - Да, векторы образуют ортонормированный базис')"
   ]
  },
  {
   "cell_type": "markdown",
   "metadata": {},
   "source": [
    "б) $(1 / \\sqrt{2}, -1 / \\sqrt{2}, 0), (1 / \\sqrt{2}, 1 / \\sqrt{2}, 0),(0, 0, 1) ;$"
   ]
  },
  {
   "cell_type": "code",
   "execution_count": 20,
   "metadata": {},
   "outputs": [
    {
     "name": "stdout",
     "output_type": "stream",
     "text": [
      "(a,b) = 0.0\n",
      "(a,c) = 0.0\n",
      "(b,c) = 0.0\n",
      "(a,a) = 1.0\n",
      "(b,b) = 1.0\n",
      "(c,c) = 1\n",
      "\n",
      "Ответ - Да, векторы образуют ортонормированный базис\n"
     ]
    }
   ],
   "source": [
    "a, b, c = (1/np.sqrt(2), -1/np.sqrt(2), 0), (1/np.sqrt(2), 1/np.sqrt(2), 0), (0, 0, 1)\n",
    "\n",
    "print(f'(a,b) = {np.round(np.dot(a, b), 4)}')\n",
    "print(f'(a,c) = {np.round(np.dot(a, c), 4)}')\n",
    "print(f'(b,c) = {np.round(np.dot(b, c), 4)}')\n",
    "print(f'(a,a) = {np.round(np.dot(a, a), 4)}')\n",
    "print(f'(b,b) = {np.round(np.dot(b, b), 4)}')\n",
    "print(f'(c,c) = {np.round(np.dot(c, c), 4)}')\n",
    "\n",
    "print(f'\\nОтвет - Да, векторы образуют ортонормированный базис')"
   ]
  },
  {
   "cell_type": "markdown",
   "metadata": {},
   "source": [
    "в) $(1 / 2, -1 / 2, 0), (0, 1 / 2, 1 / 2), (0, 0, 1) ;$"
   ]
  },
  {
   "cell_type": "code",
   "execution_count": 21,
   "metadata": {},
   "outputs": [
    {
     "name": "stdout",
     "output_type": "stream",
     "text": [
      "(a,b) = -0.25\n",
      "(a,c) = 0.0\n",
      "(b,c) = 0.5\n",
      "(a,a) = 0.5\n",
      "(b,b) = 0.5\n",
      "(c,c) = 1\n",
      "\n",
      "Ответ - Нет, векторы не образуют ортонормированный базис\n"
     ]
    }
   ],
   "source": [
    "a, b, c = (1/2, -1/2, 0), (0, 1/2, 1/2), (0, 0, 1)\n",
    "\n",
    "print(f'(a,b) = {np.round(np.dot(a, b), 4)}')\n",
    "print(f'(a,c) = {np.round(np.dot(a, c), 4)}')\n",
    "print(f'(b,c) = {np.round(np.dot(b, c), 4)}')\n",
    "print(f'(a,a) = {np.round(np.dot(a, a), 4)}')\n",
    "print(f'(b,b) = {np.round(np.dot(b, b), 4)}')\n",
    "print(f'(c,c) = {np.round(np.dot(c, c), 4)}')\n",
    "\n",
    "print(f'\\nОтвет - Нет, векторы не образуют ортонормированный базис')"
   ]
  },
  {
   "cell_type": "markdown",
   "metadata": {},
   "source": [
    "г) $(1, 0, 0), (0, 1, 0), (0, 0, 1) ?$"
   ]
  },
  {
   "cell_type": "code",
   "execution_count": 22,
   "metadata": {},
   "outputs": [
    {
     "name": "stdout",
     "output_type": "stream",
     "text": [
      "(a,b) = 0\n",
      "(a,c) = 0\n",
      "(b,c) = 0\n",
      "(a,a) = 1\n",
      "(b,b) = 1\n",
      "(c,c) = 1\n",
      "\n",
      "Ответ - Да, векторы образуют ортонормированный базис\n"
     ]
    }
   ],
   "source": [
    "a, b, c = (1, 0, 0), (0, 1, 0), (0, 0, 1)\n",
    "\n",
    "print(f'(a,b) = {np.round(np.dot(a, b), 4)}')\n",
    "print(f'(a,c) = {np.round(np.dot(a, c), 4)}')\n",
    "print(f'(b,c) = {np.round(np.dot(b, c), 4)}')\n",
    "print(f'(a,a) = {np.round(np.dot(a, a), 4)}')\n",
    "print(f'(b,b) = {np.round(np.dot(b, b), 4)}')\n",
    "print(f'(c,c) = {np.round(np.dot(c, c), 4)}')\n",
    "\n",
    "print(f'\\nОтвет - Да, векторы образуют ортонормированный базис')"
   ]
  },
  {
   "cell_type": "code",
   "execution_count": null,
   "metadata": {},
   "outputs": [],
   "source": []
  }
 ],
 "metadata": {
  "kernelspec": {
   "display_name": "Python 3",
   "language": "python",
   "name": "python3"
  },
  "language_info": {
   "codemirror_mode": {
    "name": "ipython",
    "version": 3
   },
   "file_extension": ".py",
   "mimetype": "text/x-python",
   "name": "python",
   "nbconvert_exporter": "python",
   "pygments_lexer": "ipython3",
   "version": "3.7.6"
  }
 },
 "nbformat": 4,
 "nbformat_minor": 2
}
