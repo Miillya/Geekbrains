{
 "cells": [
  {
   "cell_type": "markdown",
   "metadata": {},
   "source": [
    "## Линейная алгебра.\n",
    "### Урок 1. Линейное пространство."
   ]
  },
  {
   "cell_type": "code",
   "execution_count": 14,
   "metadata": {},
   "outputs": [],
   "source": [
    "import numpy as np"
   ]
  },
  {
   "cell_type": "markdown",
   "metadata": {},
   "source": [
    "#### 1. Исследовать на линейную зависимость:"
   ]
  },
  {
   "cell_type": "markdown",
   "metadata": {},
   "source": [
    "$f_{1}(x)=e^{x}, f_{2}(x)=1, f_{3}(x)=x+1, f_{4}(x)=x-e^{x}.$"
   ]
  },
  {
   "cell_type": "markdown",
   "metadata": {},
   "source": [
    "$\\lambda_{1}f_{1}+\\lambda_{2}f_{2}+\\lambda_{3}f_{3}+\\lambda_{4}f_{4}=0,$  \n",
    "$\\lambda_{1}e^{x}+\\lambda_{2}\\cdot1+\\lambda_{3}(x+1)+\\lambda_{4}(x-e^{x})=0,$  \n",
    "$\\lambda_{1}e^{x}+\\lambda_{2}\\cdot1+\\lambda_{3}x+\\lambda_{3}\\cdot1+\\lambda_{4}x-\\lambda_{4}e^{x}=0,$  \n",
    "$(\\lambda_{1}-\\lambda_{4})e^{x}+(\\lambda_{3}+\\lambda_{4})x+(\\lambda_{2}+\\lambda_{3})\\cdot1=0,$  \n",
    "$\\begin{cases}  \n",
    " \\lambda_{1}-\\lambda_{4}=0,\\\\  \n",
    " \\lambda_{3}+\\lambda_{4}=0,\\\\  \n",
    " \\lambda_{2}+\\lambda_{3}=0,  \n",
    "\\end{cases}$  \n",
    "$\\begin{cases}\n",
    " \\lambda_{1}=\\lambda_{4},\\\\  \n",
    " \\lambda_{3}=-\\lambda_{4},\\\\  \n",
    " \\lambda_{2}=-\\lambda_{3},  \n",
    "\\end{cases}$  \n",
    "$\\begin{cases}\n",
    " \\lambda_{1}=\\lambda_{4},\\\\  \n",
    " \\lambda_{2}=\\lambda_{4},\\\\  \n",
    " \\lambda_{3}=-\\lambda_{4}.  \n",
    "\\end{cases}$  \n",
    "$\\lambda_{4}e^{x}+\\lambda_{4}\\cdot1-\\lambda_{4}x-\\lambda_{4}\\cdot1+\\lambda_{4}x-\\lambda_{4}e^{x}=0,$  \n",
    "$\\lambda_{4}(e^{x}+1-x-1+x-e^{x})=0,$  "
   ]
  },
  {
   "cell_type": "markdown",
   "metadata": {},
   "source": [
    "Функции $f_{1}$, $f_{2}$, $f_{3}$, $f_{4}$ линейно зависимы."
   ]
  },
  {
   "cell_type": "markdown",
   "metadata": {},
   "source": [
    "#### 2. Исследовать на линейную зависимость:"
   ]
  },
  {
   "cell_type": "markdown",
   "metadata": {},
   "source": [
    "$f_{1}(x)=2, f_{2}(x)=x, f_{3}(x)=x^{2}, f_{4}(x)=(x+1)^{2}.$"
   ]
  },
  {
   "cell_type": "markdown",
   "metadata": {},
   "source": [
    "$\\lambda_{1}f_{1}+\\lambda_{2}f_{2}+\\lambda_{3}f_{3}+\\lambda_{4}f_{4}=0,$  \n",
    "$\\lambda_{1}\\cdot2+\\lambda_{2}x+\\lambda_{3}x^{2}+\\lambda_{4}(x+1)^{2}=0,$  \n",
    "$\\lambda_{1}\\cdot2+\\lambda_{2}x+\\lambda_{3}x^{2}+\\lambda_{4}(x^{2}+2x+1)=0,$  \n",
    "$\\lambda_{1}\\cdot2+\\lambda_{2}x+\\lambda_{3}x^{2}+\\lambda_{4}x^{2}+\\lambda_{4}\\cdot2x+\\lambda_{4}\\cdot1=0,$  \n",
    "$(\\lambda_{3}+\\lambda_{4})x^{2}+(\\lambda_{2}+2\\lambda_{4})x+(2\\lambda_{1}+\\lambda_{4})\\cdot1=0,$  \n",
    "$\\begin{cases}  \n",
    " \\lambda_{3}+\\lambda_{4}=0,\\\\  \n",
    " \\lambda_{2}+2\\lambda_{4}=0,\\\\  \n",
    " 2\\lambda_{1}+\\lambda_{4}=0,  \n",
    "\\end{cases}$  \n",
    "$\\begin{cases}  \n",
    " \\lambda_{3}=-\\lambda_{4},\\\\  \n",
    " \\lambda_{2}=-2\\lambda_{4},\\\\  \n",
    " \\lambda_{1}=-\\lambda_{4}/2,  \n",
    "\\end{cases}$  \n",
    "$-2\\cdot\\lambda_{4}/2-2\\lambda_{4}x-\\lambda_{4}x^{2}+\\lambda_{4}x^{2}+\\lambda_{4}\\cdot2x+\\lambda_{4}\\cdot1=0,$  \n",
    "$\\lambda_{4}(-1-2x-x^{2}+x^{2}+2x+1)=0,$  "
   ]
  },
  {
   "cell_type": "markdown",
   "metadata": {},
   "source": [
    "Функции $f_{1}$, $f_{2}$, $f_{3}$, $f_{4}$ линейно зависимы."
   ]
  },
  {
   "cell_type": "markdown",
   "metadata": {},
   "source": [
    "#### 3. Найти координаты вектора $x = (2, 3, 5)\\in \\mathbb{R}^{3}$ в базисе $b_{1}=(0, 0, 10)$, $b_{2}=(2, 0, 0)$, $b_{3}=(0, 1, 0)$."
   ]
  },
  {
   "cell_type": "markdown",
   "metadata": {},
   "source": [
    "$x=0.5\\cdot b_{1}+1\\cdot b_{2}+3\\cdot b_{3}.$"
   ]
  },
  {
   "cell_type": "markdown",
   "metadata": {},
   "source": [
    "Кординаты ветокра: (0.5, 1, 3)"
   ]
  },
  {
   "cell_type": "markdown",
   "metadata": {},
   "source": [
    "#### 4. Найти координаты вектора $3x^{2}-2x+2\\in\\mathbb{R}^{3}[x]$:"
   ]
  },
  {
   "cell_type": "markdown",
   "metadata": {},
   "source": [
    "а) в базисе $1$, $x$, $x^{2}$"
   ]
  },
  {
   "cell_type": "markdown",
   "metadata": {},
   "source": [
    "$3x^{2}-2x+2=2\\cdot1+(-2)\\cdot x + 3\\cdot x^{2}$"
   ]
  },
  {
   "cell_type": "markdown",
   "metadata": {},
   "source": [
    "Координатами вектора x в стандартном базисе являются 2, -2, 3"
   ]
  },
  {
   "cell_type": "markdown",
   "metadata": {},
   "source": [
    "б) в базисе $x^{2}$, $x-1$, $1$"
   ]
  },
  {
   "cell_type": "markdown",
   "metadata": {},
   "source": [
    "$3x^{2}-2x+2=3\\cdot x^{2}+2\\cdot(x-1)+0\\cdot1$"
   ]
  },
  {
   "cell_type": "markdown",
   "metadata": {},
   "source": [
    "Координатами вектора x в стандартном базисе являются 3, -2, 0"
   ]
  },
  {
   "cell_type": "markdown",
   "metadata": {},
   "source": [
    "#### 5. Установить, является ли линейным подпространством:"
   ]
  },
  {
   "cell_type": "markdown",
   "metadata": {},
   "source": [
    "а) совокупность всех векторов трехмерного пространства, у которых по крайней мере одна из первых двух координат равна нулю;"
   ]
  },
  {
   "cell_type": "markdown",
   "metadata": {},
   "source": [
    "$x_{1}=(0, a, b)$  \n",
    "$x_{2}=(c, 0, d)$"
   ]
  },
  {
   "cell_type": "markdown",
   "metadata": {},
   "source": [
    "$\\alpha\\cdot x_{1}=\\alpha\\cdot(0, a, b)=(\\alpha\\cdot0, \\alpha\\cdot a, \\alpha\\cdot b) = (0, \\alpha\\cdot a, \\alpha\\cdot b)$ (требование выполняется, т.к. есть нулевая координата),\n",
    "\n",
    "$x_{1}+x_{2}=(0, a, b)+(c, 0, d)=(c, a, b+d)$ (требование не выполняется, т.к. нет нулевой координаты)."
   ]
  },
  {
   "cell_type": "markdown",
   "metadata": {},
   "source": [
    "**Ответ** - не является линейным подпространством."
   ]
  },
  {
   "cell_type": "markdown",
   "metadata": {},
   "source": [
    "б) все векторы, являющиеся линейными комбинациями данных векторов $\\{u_{1}, u_{2}, ..., u_{n}\\}$."
   ]
  },
  {
   "cell_type": "markdown",
   "metadata": {},
   "source": [
    "$x_{1}=a_{1}\\cdot u_{1}+a_{2}\\cdot u_{2}+...+a_{n}\\cdot u_{n}$\n",
    "\n",
    "$x_{2}=b_{1}\\cdot u_{1}+b_{2}\\cdot u_{2}+...+b_{n}\\cdot u_{n}$"
   ]
  },
  {
   "cell_type": "markdown",
   "metadata": {},
   "source": [
    "$\\alpha\\cdot x_{1}=\\alpha\\cdot a_{1}\\cdot u_{1}+\\alpha\\cdot a_{2} \\cdot u_{2}+...+\\alpha\\cdot a_{n} \\cdot u_{n}=c_{1}\\cdot u_{1}+c_{2}\\cdot u_{2}+...+c_{n}\\cdot u_{n}$,  \n",
    "\n",
    "$x_{1}+x_{2}=(a_{1}+b_{1})\\cdot u_{1}+(a_{2}+b_{2})\\cdot u_{2}+...+(a_{n}+b_{n})\\cdot u_{n}=d_{1}\\cdot u_{1}+d_{2}\\cdot u_{2}+...+d_{n}\\cdot u_{n}$"
   ]
  },
  {
   "cell_type": "markdown",
   "metadata": {},
   "source": [
    "**Ответ** - является линейным подпространством."
   ]
  }
 ],
 "metadata": {
  "kernelspec": {
   "display_name": "Python 3",
   "language": "python",
   "name": "python3"
  },
  "language_info": {
   "codemirror_mode": {
    "name": "ipython",
    "version": 3
   },
   "file_extension": ".py",
   "mimetype": "text/x-python",
   "name": "python",
   "nbconvert_exporter": "python",
   "pygments_lexer": "ipython3",
   "version": "3.7.6"
  }
 },
 "nbformat": 4,
 "nbformat_minor": 2
}
