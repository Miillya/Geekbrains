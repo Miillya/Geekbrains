{
 "cells": [
  {
   "cell_type": "code",
   "execution_count": 1,
   "metadata": {
    "id": "0hyWYiPqLdez"
   },
   "outputs": [],
   "source": [
    "from tensorflow.keras.models import Model\n",
    "from tensorflow.keras.datasets import mnist, fashion_mnist, cifar10\n",
    "from tensorflow.keras.layers import Dense, Flatten, Reshape, Input, AveragePooling2D, Conv2DTranspose, concatenate, Activation, MaxPooling2D, Conv2D, BatchNormalization,RepeatVector, LSTM\n",
    "from tensorflow.keras import backend as K\n",
    "from tensorflow.keras.optimizers import Adam\n",
    "from tensorflow.keras import utils\n",
    "from google.colab import files\n",
    "import matplotlib.pyplot as plt\n",
    "from tensorflow.keras.preprocessing import image\n",
    "import numpy as np\n",
    "import pandas as pd\n",
    "from PIL import Image\n",
    "from sklearn.model_selection import train_test_split\n",
    "from sklearn.preprocessing import StandardScaler"
   ]
  },
  {
   "cell_type": "markdown",
   "metadata": {
    "id": "qc7BJnQF8zam"
   },
   "source": [
    "#Автокодировщик"
   ]
  },
  {
   "cell_type": "markdown",
   "metadata": {
    "id": "_3kaX9TDuGaD"
   },
   "source": [
    "основная модель MNIST-MNIST"
   ]
  },
  {
   "cell_type": "code",
   "execution_count": 1,
   "metadata": {
    "id": "5r6MtVVgxLhx"
   },
   "outputs": [],
   "source": []
  },
  {
   "cell_type": "code",
   "execution_count": 2,
   "metadata": {
    "id": "NZAiEuYx899D"
   },
   "outputs": [],
   "source": [
    "def base_model_Autoencoder(level = 2, input_size=(28,28,1), kernel_list=[32,64]):\n",
    "\n",
    "  img_input = Input(input_size)\n",
    "\n",
    "  x = Conv2D(kernel_list[0], (3, 3), padding='same', activation='relu')(img_input)\n",
    "  x = BatchNormalization()(x)\n",
    "  x = Conv2D(kernel_list[0], (3, 3), padding='same', activation='relu')(x)\n",
    "  x = BatchNormalization()(x)\n",
    "  x = MaxPooling2D()(x)\n",
    "  #14x14\n",
    "  for i in range(level-1):\n",
    "    x = Conv2D(64, (3, 3), padding='same', activation='relu')(x)\n",
    "    x = BatchNormalization()(x)\n",
    "    x = Conv2D(64, (3, 3), padding='same', activation='relu')(x)\n",
    "    x = BatchNormalization()(x)\n",
    "    x = MaxPooling2D()(x)\n",
    "  x1 = x\n",
    "  print(x1.shape)\n",
    "  # 7x7\n",
    "  for i in range(level-1) :\n",
    "    k = -(level-1)+i  \n",
    "\n",
    "    x = Conv2DTranspose(64, (2, 2), strides=(2, 2), padding='same', activation='relu')(x)\n",
    "    x = BatchNormalization()(x)\n",
    "     \n",
    "    x = Conv2D(kernel_list[k], (3, 3), padding='same', activation='relu')(x)\n",
    "    x = BatchNormalization()(x)\n",
    "    x = Conv2D(64, (3, 3), padding='same', activation='relu')(x)\n",
    "    x = BatchNormalization()(x)\n",
    "  # 14x14\n",
    "  x = Conv2DTranspose(kernel_list[0], (2, 2), strides=(2, 2), padding='same', activation='relu')(x)\n",
    "  x = BatchNormalization()(x)\n",
    "  x = Conv2D(kernel_list[0], (3, 3), padding='same', activation='relu')(x)\n",
    "  x = BatchNormalization()(x)\n",
    "  x = Conv2D(kernel_list[0], (3, 3), padding='same', activation='relu')(x)\n",
    "  x = BatchNormalization()(x)\n",
    "  # 28x28\n",
    "  x = Conv2D(1, (3, 3), activation='sigmoid', padding='same')(x)\n",
    "\n",
    "  model = Model(img_input, x)\n",
    "   \n",
    "  modelviz0=Model(img_input, x1)\n",
    "  model.compile(optimizer=Adam(),\n",
    "                  loss='mean_squared_error',\n",
    "                  metrics=['accuracy'])\n",
    "\n",
    "  return model, modelviz0"
   ]
  },
  {
   "cell_type": "markdown",
   "metadata": {
    "id": "qz2RhdL6ufkj"
   },
   "source": [
    "Читаем MNIST"
   ]
  },
  {
   "cell_type": "code",
   "execution_count": 3,
   "metadata": {
    "colab": {
     "base_uri": "https://localhost:8080/"
    },
    "id": "2yK3P1eaCg4o",
    "outputId": "3b79ca22-d942-4768-fe75-f87d4af6fa90"
   },
   "outputs": [
    {
     "name": "stdout",
     "output_type": "stream",
     "text": [
      "Downloading data from https://storage.googleapis.com/tensorflow/tf-keras-datasets/mnist.npz\n",
      "11493376/11490434 [==============================] - 0s 0us/step\n"
     ]
    }
   ],
   "source": [
    "(xTrainMnist, yTrainMnist), (xTestMnist, yTestMnist) = mnist.load_data()\n",
    "\n",
    "noice =1\n",
    "\n",
    "xTrainMnist = xTrainMnist.astype('float32')/255\n",
    "\n",
    "xTrainMnist = xTrainMnist.reshape(xTrainMnist.shape[0], 28, 28, 1)\n",
    "\n",
    "yTrainMnist_pix = xTrainMnist.copy()\n",
    "xTrainMnist += np.random.randn(xTrainMnist.shape[0],xTrainMnist.shape[1],xTrainMnist.shape[2],xTrainMnist.shape[3]) * noice"
   ]
  },
  {
   "cell_type": "code",
   "execution_count": 4,
   "metadata": {
    "colab": {
     "base_uri": "https://localhost:8080/",
     "height": 513
    },
    "id": "8F7capzy31GM",
    "outputId": "76e153a0-04cb-44d2-be96-4abe270c57b2"
   },
   "outputs": [
    {
     "data": {
      "image/png": "[encoded data removed]",
      "text/plain": [
       "<Figure size 432x288 with 1 Axes>"
      ]
     },
     "metadata": {
      "needs_background": "light",
      "tags": []
     },
     "output_type": "display_data"
    },
    {
     "data": {
      "image/png": "[encoded data removed]",
      "text/plain": [
       "<Figure size 432x288 with 1 Axes>"
      ]
     },
     "metadata": {
      "needs_background": "light",
      "tags": []
     },
     "output_type": "display_data"
    }
   ],
   "source": [
    "plt.imshow(xTrainMnist[0,:,:,0])\n",
    "plt.show()\n",
    "plt.imshow(yTrainMnist_pix[0,:,:,0])\n",
    "plt.show()"
   ]
  },
  {
   "cell_type": "markdown",
   "metadata": {
    "id": "t5Kg01gGuWBb"
   },
   "source": [
    "Собираем модель\n"
   ]
  },
  {
   "cell_type": "code",
   "execution_count": 4,
   "metadata": {
    "id": "HXfDjxzm4a69"
   },
   "outputs": [],
   "source": []
  },
  {
   "cell_type": "code",
   "execution_count": 5,
   "metadata": {
    "colab": {
     "base_uri": "https://localhost:8080/"
    },
    "id": "Rb-XGLpo1XJt",
    "outputId": "d1588317-11b1-49c8-da33-10223b21aa2c"
   },
   "outputs": [
    {
     "name": "stdout",
     "output_type": "stream",
     "text": [
      "(None, 7, 7, 64)\n"
     ]
    }
   ],
   "source": [
    "modelAutoMnist, m0 = base_model_Autoencoder(level = 2, input_size=(28,28,1), kernel_list=[32,64])"
   ]
  },
  {
   "cell_type": "code",
   "execution_count": 6,
   "metadata": {
    "colab": {
     "base_uri": "https://localhost:8080/"
    },
    "id": "ixY4nVDUCyOU",
    "outputId": "ecc35db0-2009-443f-ed0d-b2d7afef1ef4"
   },
   "outputs": [
    {
     "name": "stdout",
     "output_type": "stream",
     "text": [
      "Epoch 1/10\n",
      " 1/80 [..............................] - ETA: 0s - loss: 0.2942 - accuracy: 0.4115WARNING:tensorflow:Callbacks method `on_train_batch_end` is slow compared to the batch time (batch time: 0.0093s vs `on_train_batch_end` time: 0.0150s). Check your callbacks.\n",
      "79/80 [============================>.] - ETA: 0s - loss: 0.0702 - accuracy: 0.7739WARNING:tensorflow:Callbacks method `on_test_batch_end` is slow compared to the batch time (batch time: 0.0021s vs `on_test_batch_end` time: 0.0035s). Check your callbacks.\n",
      "80/80 [==============================] - 2s 22ms/step - loss: 0.0698 - accuracy: 0.7742 - val_loss: 0.1050 - val_accuracy: 0.8074\n",
      "Epoch 2/10\n",
      "80/80 [==============================] - 2s 19ms/step - loss: 0.0350 - accuracy: 0.8036 - val_loss: 0.1073 - val_accuracy: 0.8075\n",
      "Epoch 3/10\n",
      "80/80 [==============================] - 2s 19ms/step - loss: 0.0310 - accuracy: 0.8047 - val_loss: 0.0981 - val_accuracy: 0.8077\n",
      "Epoch 4/10\n",
      "80/80 [==============================] - 1s 19ms/step - loss: 0.0292 - accuracy: 0.8053 - val_loss: 0.0722 - val_accuracy: 0.8087\n",
      "Epoch 5/10\n",
      "80/80 [==============================] - 2s 19ms/step - loss: 0.0281 - accuracy: 0.8057 - val_loss: 0.0386 - val_accuracy: 0.8092\n",
      "Epoch 6/10\n",
      "80/80 [==============================] - 2s 19ms/step - loss: 0.0271 - accuracy: 0.8060 - val_loss: 0.0359 - val_accuracy: 0.8088\n",
      "Epoch 7/10\n",
      "80/80 [==============================] - 2s 19ms/step - loss: 0.0264 - accuracy: 0.8064 - val_loss: 0.0304 - val_accuracy: 0.8068\n",
      "Epoch 8/10\n",
      "80/80 [==============================] - 2s 19ms/step - loss: 0.0257 - accuracy: 0.8067 - val_loss: 0.0294 - val_accuracy: 0.8052\n",
      "Epoch 9/10\n",
      "80/80 [==============================] - 2s 19ms/step - loss: 0.0250 - accuracy: 0.8070 - val_loss: 0.0296 - val_accuracy: 0.8062\n",
      "Epoch 10/10\n",
      "80/80 [==============================] - 2s 19ms/step - loss: 0.0250 - accuracy: 0.8070 - val_loss: 0.0298 - val_accuracy: 0.8060\n"
     ]
    }
   ],
   "source": [
    "\n",
    "#modelAutoMnist = denoiseAutoencoder()\n",
    "hist=modelAutoMnist.fit(xTrainMnist[:10000], yTrainMnist_pix[:10000], epochs=10, batch_size=100, validation_split=0.2)"
   ]
  },
  {
   "cell_type": "code",
   "execution_count": 7,
   "metadata": {
    "colab": {
     "base_uri": "https://localhost:8080/",
     "height": 265
    },
    "id": "6imJd1RM7q_v",
    "outputId": "b462aeed-25f5-4e02-c102-dc3abe16f7a0"
   },
   "outputs": [
    {
     "data": {
      "image/png": "[encoded data removed]",
      "text/plain": [
       "<Figure size 432x288 with 1 Axes>"
      ]
     },
     "metadata": {
      "needs_background": "light",
      "tags": []
     },
     "output_type": "display_data"
    }
   ],
   "source": [
    "plt.plot(hist.history['val_accuracy'],'r',label='val_acc')\n",
    "plt.plot(hist.history['accuracy'],'g',label='train_acc')\n",
    "plt.legend()\n",
    "plt.show()"
   ]
  },
  {
   "cell_type": "code",
   "execution_count": 8,
   "metadata": {
    "colab": {
     "base_uri": "https://localhost:8080/"
    },
    "id": "yGWBX0eQwEmC",
    "outputId": "279ed467-bcd7-4798-e2f3-2bb0e3b4d8e5"
   },
   "outputs": [
    {
     "name": "stdout",
     "output_type": "stream",
     "text": [
      "Model: \"functional_1\"\n",
      "_________________________________________________________________\n",
      "Layer (type)                 Output Shape              Param #   \n",
      "=================================================================\n",
      "input_1 (InputLayer)         [(None, 28, 28, 1)]       0         \n",
      "_________________________________________________________________\n",
      "conv2d (Conv2D)              (None, 28, 28, 32)        320       \n",
      "_________________________________________________________________\n",
      "batch_normalization (BatchNo (None, 28, 28, 32)        128       \n",
      "_________________________________________________________________\n",
      "conv2d_1 (Conv2D)            (None, 28, 28, 32)        9248      \n",
      "_________________________________________________________________\n",
      "batch_normalization_1 (Batch (None, 28, 28, 32)        128       \n",
      "_________________________________________________________________\n",
      "max_pooling2d (MaxPooling2D) (None, 14, 14, 32)        0         \n",
      "_________________________________________________________________\n",
      "conv2d_2 (Conv2D)            (None, 14, 14, 64)        18496     \n",
      "_________________________________________________________________\n",
      "batch_normalization_2 (Batch (None, 14, 14, 64)        256       \n",
      "_________________________________________________________________\n",
      "conv2d_3 (Conv2D)            (None, 14, 14, 64)        36928     \n",
      "_________________________________________________________________\n",
      "batch_normalization_3 (Batch (None, 14, 14, 64)        256       \n",
      "_________________________________________________________________\n",
      "max_pooling2d_1 (MaxPooling2 (None, 7, 7, 64)          0         \n",
      "_________________________________________________________________\n",
      "conv2d_transpose (Conv2DTran (None, 14, 14, 64)        16448     \n",
      "_________________________________________________________________\n",
      "batch_normalization_4 (Batch (None, 14, 14, 64)        256       \n",
      "_________________________________________________________________\n",
      "conv2d_4 (Conv2D)            (None, 14, 14, 64)        36928     \n",
      "_________________________________________________________________\n",
      "batch_normalization_5 (Batch (None, 14, 14, 64)        256       \n",
      "_________________________________________________________________\n",
      "conv2d_5 (Conv2D)            (None, 14, 14, 64)        36928     \n",
      "_________________________________________________________________\n",
      "batch_normalization_6 (Batch (None, 14, 14, 64)        256       \n",
      "_________________________________________________________________\n",
      "conv2d_transpose_1 (Conv2DTr (None, 28, 28, 32)        8224      \n",
      "_________________________________________________________________\n",
      "batch_normalization_7 (Batch (None, 28, 28, 32)        128       \n",
      "_________________________________________________________________\n",
      "conv2d_6 (Conv2D)            (None, 28, 28, 32)        9248      \n",
      "_________________________________________________________________\n",
      "batch_normalization_8 (Batch (None, 28, 28, 32)        128       \n",
      "_________________________________________________________________\n",
      "conv2d_7 (Conv2D)            (None, 28, 28, 32)        9248      \n",
      "_________________________________________________________________\n",
      "batch_normalization_9 (Batch (None, 28, 28, 32)        128       \n",
      "_________________________________________________________________\n",
      "conv2d_8 (Conv2D)            (None, 28, 28, 1)         289       \n",
      "=================================================================\n",
      "Total params: 184,225\n",
      "Trainable params: 183,265\n",
      "Non-trainable params: 960\n",
      "_________________________________________________________________\n"
     ]
    }
   ],
   "source": [
    "modelAutoMnist.summary()"
   ]
  },
  {
   "cell_type": "code",
   "execution_count": 9,
   "metadata": {
    "colab": {
     "base_uri": "https://localhost:8080/"
    },
    "id": "2s0FDPruw4T-",
    "outputId": "0d74aea1-7e30-455c-b58c-4c8b319f8817"
   },
   "outputs": [
    {
     "name": "stdout",
     "output_type": "stream",
     "text": [
      "(5923, 7, 7, 64)\n",
      "(7, 7, 64)\n"
     ]
    }
   ],
   "source": [
    "mask = np.where(yTrainMnist == 0)\n",
    "\n",
    "y_pred=modelAutoMnist.predict(xTrainMnist[mask[0]])\n",
    "\n",
    "ff=m0.predict(xTrainMnist[mask[0]])\n",
    "print(ff.shape)\n",
    "\n",
    "ff = np.mean(ff, axis=0)\n",
    "print(ff.shape)\n",
    "\n"
   ]
  },
  {
   "cell_type": "code",
   "execution_count": 10,
   "metadata": {
    "colab": {
     "base_uri": "https://localhost:8080/",
     "height": 1000
    },
    "id": "7zWZA_vyyb8a",
    "outputId": "9f84010e-7f77-4eff-fa43-b7aaf731f8b8"
   },
   "outputs": [
    {
     "data": {
      "image/png": "[encoded data removed]",
      "text/plain": [
       "<Figure size 432x288 with 1 Axes>"
      ]
     },
     "metadata": {
      "needs_background": "light",
      "tags": []
     },
     "output_type": "display_data"
    },
    {
     "data": {
      "image/png": "[encoded data removed]",
      "text/plain": [
       "<Figure size 432x288 with 1 Axes>"
      ]
     },
     "metadata": {
      "needs_background": "light",
      "tags": []
     },
     "output_type": "display_data"
    },
    {
     "data": {
      "image/png": "[encoded data removed]",
      "text/plain": [
       "<Figure size 432x288 with 1 Axes>"
      ]
     },
     "metadata": {
      "needs_background": "light",
      "tags": []
     },
     "output_type": "display_data"
    },
    {
     "data": {
      "image/png": "[encoded data removed]",
      "text/plain": [
       "<Figure size 432x288 with 3 Axes>"
      ]
     },
     "metadata": {
      "needs_background": "light",
      "tags": []
     },
     "output_type": "display_data"
    }
   ],
   "source": [
    "plt.imshow(xTrainMnist[mask[0]][1,:,:,0])\n",
    "plt.title('Input Image')\n",
    "plt.show()\n",
    "plt.imshow(y_pred[1,:,:,0])\n",
    "plt.title('Predict Image')\n",
    "plt.show()\n",
    "plt.imshow(yTrainMnist_pix[mask[0]][1,:,:,0])\n",
    "plt.title('Target Image')\n",
    "plt.show()\n",
    "\n",
    "g1=ff[:,:,0]\n",
    "plt.subplot(311)\n",
    "plt.title('hiden layer out 0')\n",
    "plt.imshow(g1)\n",
    "g1=ff[:,:,1]\n",
    "plt.subplot(312)\n",
    "plt.title('hiden layer out 1')\n",
    "plt.imshow(g1)\n",
    "g1=ff[:,:,2]\n",
    "plt.subplot(313)\n",
    "plt.title('hiden layer out 2')\n",
    "plt.imshow(g1)\n",
    "plt.show()"
   ]
  },
  {
   "cell_type": "markdown",
   "metadata": {
    "id": "NgiJ3v-erSnP"
   },
   "source": [
    "# Визуализация слоев\n",
    "\n",
    "средний объект - идеал??? "
   ]
  },
  {
   "cell_type": "code",
   "execution_count": 11,
   "metadata": {
    "colab": {
     "base_uri": "https://localhost:8080/",
     "height": 315
    },
    "id": "C8TJAw-cnSVJ",
    "outputId": "b6b6c250-35f7-4e98-9cfc-48423cc11168"
   },
   "outputs": [
    {
     "name": "stdout",
     "output_type": "stream",
     "text": [
      "(5923, 14, 14, 64)\n",
      "(14, 14, 64)\n"
     ]
    },
    {
     "data": {
      "image/png": "[encoded data removed]",
      "text/plain": [
       "<Figure size 432x288 with 3 Axes>"
      ]
     },
     "metadata": {
      "needs_background": "light",
      "tags": []
     },
     "output_type": "display_data"
    }
   ],
   "source": [
    "activ_model_layer = Model(inputs=modelAutoMnist.input, outputs = modelAutoMnist.layers[14].output)\n",
    "\n",
    "ff = activ_model_layer.predict(xTrainMnist[mask[0]])\n",
    "\n",
    "\n",
    "print(ff.shape)\n",
    "\n",
    "\n",
    "ff = np.mean(ff, axis=0)\n",
    "print(ff.shape)\n",
    "\n",
    "g1=ff[:,:,0]\n",
    "plt.subplot(311)\n",
    "plt.title('hiden layer out 0')\n",
    "plt.imshow(g1)\n",
    "g1=ff[:,:,2]\n",
    "plt.subplot(312)\n",
    "plt.title('hiden layer out 1')\n",
    "plt.imshow(g1)\n",
    "g1=ff[:,:,5]\n",
    "plt.subplot(313)\n",
    "plt.title('hiden layer out 2')\n",
    "plt.imshow(g1)\n",
    "plt.show()"
   ]
  },
  {
   "cell_type": "code",
   "execution_count": 12,
   "metadata": {
    "colab": {
     "base_uri": "https://localhost:8080/"
    },
    "id": "V8Y9oc7h9JjY",
    "outputId": "2710a190-cd53-42df-b34c-62bec93fdc0b"
   },
   "outputs": [
    {
     "name": "stdout",
     "output_type": "stream",
     "text": [
      "Downloading data from https://storage.googleapis.com/tensorflow/tf-keras-datasets/train-labels-idx1-ubyte.gz\n",
      "32768/29515 [=================================] - 0s 0us/step\n",
      "Downloading data from https://storage.googleapis.com/tensorflow/tf-keras-datasets/train-images-idx3-ubyte.gz\n",
      "26427392/26421880 [==============================] - 0s 0us/step\n",
      "Downloading data from https://storage.googleapis.com/tensorflow/tf-keras-datasets/t10k-labels-idx1-ubyte.gz\n",
      "8192/5148 [===============================================] - 0s 0us/step\n",
      "Downloading data from https://storage.googleapis.com/tensorflow/tf-keras-datasets/t10k-images-idx3-ubyte.gz\n",
      "4423680/4422102 [==============================] - 0s 0us/step\n"
     ]
    }
   ],
   "source": [
    "(xT_fash, yT_fash), (xTest_f, yTest_f) = fashion_mnist.load_data()\n",
    "\n",
    "noice =0.02\n",
    "\n",
    "xT_fash = xT_fash.astype('float32')/255\n",
    "\n",
    "xT_fash = xT_fash.reshape(xT_fash.shape[0], 28, 28, 1)\n",
    "\n",
    "xT_fash += np.random.randn(xT_fash.shape[0],xT_fash.shape[1],xT_fash.shape[2],xT_fash.shape[3]) * noice\n",
    "\n"
   ]
  },
  {
   "cell_type": "code",
   "execution_count": 13,
   "metadata": {
    "colab": {
     "base_uri": "https://localhost:8080/",
     "height": 545
    },
    "id": "Pjq9RNLe9pkZ",
    "outputId": "451d4a66-690f-46e8-8033-b98ee215427b"
   },
   "outputs": [
    {
     "data": {
      "image/png": "[encoded data removed]",
      "text/plain": [
       "<Figure size 432x288 with 1 Axes>"
      ]
     },
     "metadata": {
      "needs_background": "light",
      "tags": []
     },
     "output_type": "display_data"
    },
    {
     "data": {
      "image/png": "[encoded data removed]",
      "text/plain": [
       "<Figure size 432x288 with 1 Axes>"
      ]
     },
     "metadata": {
      "needs_background": "light",
      "tags": []
     },
     "output_type": "display_data"
    }
   ],
   "source": [
    "y_pred=modelAutoMnist.predict(xT_fash[:20])\n",
    "N=2\n",
    "plt.imshow(xT_fash[N,:,:,0])\n",
    "plt.title('Input Image')\n",
    "plt.show()\n",
    "plt.imshow(y_pred[N,:,:,0])\n",
    "plt.title('Predict Image')\n",
    "plt.show()\n"
   ]
  },
  {
   "cell_type": "code",
   "execution_count": 13,
   "metadata": {
    "id": "JavrHb_P-Hsk"
   },
   "outputs": [],
   "source": []
  }
 ],
 "metadata": {
  "accelerator": "GPU",
  "colab": {
   "collapsed_sections": [],
   "name": "Урок_6_Автокодировщики.ipynb",
   "provenance": []
  },
  "kernelspec": {
   "display_name": "Python 3",
   "language": "python",
   "name": "python3"
  },
  "language_info": {
   "codemirror_mode": {
    "name": "ipython",
    "version": 3
   },
   "file_extension": ".py",
   "mimetype": "text/x-python",
   "name": "python",
   "nbconvert_exporter": "python",
   "pygments_lexer": "ipython3",
   "version": "3.8.5"
  }
 },
 "nbformat": 4,
 "nbformat_minor": 1
}
