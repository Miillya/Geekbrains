{
 "cells": [
  {
   "cell_type": "markdown",
   "metadata": {
    "id": "Sb86n-BbXM1N"
   },
   "source": [
    "# Введение в искусственные нейронные сети\n",
    "# Урок 6. Сегментация\n",
    "## Практическое задание   \n",
    "\n",
    "\n",
    "Вариант 1\n",
    "<ol>\n",
    "<li>Попробуйте обучить нейронную сеть U-Net на любом другом датасете.  \n",
    "<li>Опишите, какой результата вы получили? Что помогло вам улучшить качество сети?  \n",
    "</ol>\n",
    "\n",
    "Вариант 2  \n",
    "*Попробуйте свои силы в задаче Carvana на Kaggle - https://www.kaggle.com/c/carvana-image-masking-challenge/overview<br>   \n",
    "Вариант 3   \n",
    "*Сделайте свою реализацию U-Net на TensorFlow  "
   ]
  },
  {
   "cell_type": "markdown",
   "metadata": {
    "id": "5OJ2rB_3ZZHS"
   },
   "source": [
    "### Подключение библиотек и скриптов"
   ]
  },
  {
   "cell_type": "code",
   "execution_count": 7,
   "metadata": {
    "colab": {
     "base_uri": "https://localhost:8080/",
     "height": 17
    },
    "executionInfo": {
     "elapsed": 719,
     "status": "ok",
     "timestamp": 1607578596191,
     "user": {
      "displayName": "Alexey Tankov",
      "photoUrl": "",
      "userId": "01729535101672247421"
     },
     "user_tz": -180
    },
    "id": "R4vGeKsxcz9D",
    "outputId": "691d89bf-ee3d-4024-9021-d29962fd93c6"
   },
   "outputs": [
    {
     "data": {
      "text/html": [
       "<style>.container { width:72.5% !important; }</style>"
      ],
      "text/plain": [
       "<IPython.core.display.HTML object>"
      ]
     },
     "metadata": {},
     "output_type": "display_data"
    }
   ],
   "source": [
    "from IPython.core.display import display, HTML, Image\n",
    "display(HTML(\"<style>.container { width:72.5% !important; }</style>\"))"
   ]
  },
  {
   "cell_type": "code",
   "execution_count": 8,
   "metadata": {
    "executionInfo": {
     "elapsed": 2863,
     "status": "ok",
     "timestamp": 1607578598343,
     "user": {
      "displayName": "Alexey Tankov",
      "photoUrl": "",
      "userId": "01729535101672247421"
     },
     "user_tz": -180
    },
    "id": "lJUcpE49XB6u"
   },
   "outputs": [],
   "source": [
    "import tensorflow as tf\n",
    "from tensorflow.keras.models import Sequential\n",
    "from tensorflow.keras.layers import Dense, LSTM\n",
    "from sklearn.preprocessing import MinMaxScaler\n",
    "from sklearn.metrics import mean_squared_error\n",
    "\n",
    "import math\n",
    "import numpy as np\n",
    "import pandas as pd\n",
    "import seaborn as sns\n",
    "import matplotlib.pyplot as plt\n",
    "%matplotlib inline"
   ]
  },
  {
   "cell_type": "code",
   "execution_count": 9,
   "metadata": {
    "executionInfo": {
     "elapsed": 2859,
     "status": "ok",
     "timestamp": 1607578598344,
     "user": {
      "displayName": "Alexey Tankov",
      "photoUrl": "",
      "userId": "01729535101672247421"
     },
     "user_tz": -180
    },
    "id": "rgkw7y-qZhNB"
   },
   "outputs": [],
   "source": [
    "plt.rcParams.update({'font.size': 14})\n",
    "pd.set_option('precision', 3)\n",
    "pd.set_option('max_columns', 100)\n",
    "pd.set_option('display.float_format', lambda x: '%.5f' % x)\n",
    "pd.set_option('display.max_columns', 500)\n",
    "pd.set_option('display.max_rows', 500)\n",
    "pd.set_option('max_colwidth', 300)"
   ]
  },
  {
   "cell_type": "markdown",
   "metadata": {
    "id": "JY65nURbIuJ_"
   },
   "source": [
    "### Tensorflow with TPU"
   ]
  },
  {
   "cell_type": "code",
   "execution_count": 10,
   "metadata": {
    "executionInfo": {
     "elapsed": 1334,
     "status": "ok",
     "timestamp": 1607578602540,
     "user": {
      "displayName": "Alexey Tankov",
      "photoUrl": "",
      "userId": "01729535101672247421"
     },
     "user_tz": -180
    },
    "id": "PRYczDfyiTv8"
   },
   "outputs": [],
   "source": [
    "# import os\n",
    "\n",
    "# resolver = tf.distribute.cluster_resolver.TPUClusterResolver(tpu='grpc://' + os.environ['COLAB_TPU_ADDR'])\n",
    "# tf.config.experimental_connect_to_cluster(resolver)\n",
    "# # This is the TPU initialization code that has to be at the beginning.\n",
    "# tf.tpu.experimental.initialize_tpu_system(resolver)\n",
    "# print(\"All devices: \", tf.config.list_logical_devices('TPU'))"
   ]
  },
  {
   "cell_type": "markdown",
   "metadata": {
    "id": "gCp6y6u4Ir0X"
   },
   "source": [
    "### Tensorflow with GPU"
   ]
  },
  {
   "cell_type": "code",
   "execution_count": 11,
   "metadata": {
    "colab": {
     "base_uri": "https://localhost:8080/"
    },
    "executionInfo": {
     "elapsed": 15938,
     "status": "ok",
     "timestamp": 1607578628815,
     "user": {
      "displayName": "Alexey Tankov",
      "photoUrl": "",
      "userId": "01729535101672247421"
     },
     "user_tz": -180
    },
    "id": "1WUecZjMIoJk",
    "outputId": "6e8048dc-95be-444d-8e9a-56a4d5fcdb3f"
   },
   "outputs": [],
   "source": [
    "# %tensorflow_version 2.x\n",
    "# import timeit\n",
    "\n",
    "# device_name = tf.test.gpu_device_name()\n",
    "# if device_name != '/device:GPU:0':\n",
    "#     print(\n",
    "#       '\\n\\nThis error most likely means that this notebook is not '\n",
    "#       'configured to use a GPU.  Change this in Notebook Settings via the '\n",
    "#       'command palette (cmd/ctrl-shift-P) or the Edit menu.\\n\\n')\n",
    "#     raise SystemError('GPU device not found')\n",
    "\n",
    "# def cpu():\n",
    "#     with tf.device('/cpu:0'):\n",
    "#         random_image_cpu = tf.random.normal((100, 100, 100, 3))\n",
    "#         net_cpu = tf.keras.layers.Conv2D(32, 7)(random_image_cpu)\n",
    "#         return tf.math.reduce_sum(net_cpu)\n",
    "\n",
    "# def gpu():\n",
    "#     with tf.device('/device:GPU:0'):\n",
    "#         random_image_gpu = tf.random.normal((100, 100, 100, 3))\n",
    "#         net_gpu = tf.keras.layers.Conv2D(32, 7)(random_image_gpu)\n",
    "#         return tf.math.reduce_sum(net_gpu)\n",
    "  \n",
    "# # We run each op once to warm up; see: https://stackoverflow.com/a/45067900\n",
    "# cpu()\n",
    "# gpu()\n",
    "\n",
    "# # Run the op several times.\n",
    "# print('Time (s) to convolve 32x7x7x3 filter over random 100x100x100x3 images '\n",
    "#       '(batch x height x width x channel). Sum of ten runs.')\n",
    "# print('CPU (s):')\n",
    "# cpu_time = timeit.timeit('cpu()', number=10, setup=\"from __main__ import cpu\")\n",
    "# print(cpu_time)\n",
    "# print('GPU (s):')\n",
    "# gpu_time = timeit.timeit('gpu()', number=10, setup=\"from __main__ import gpu\")\n",
    "# print(gpu_time)\n",
    "# print('GPU speedup over CPU: {}x'.format(int(cpu_time/gpu_time)))"
   ]
  },
  {
   "cell_type": "markdown",
   "metadata": {
    "id": "_kqapiAAZebg"
   },
   "source": [
    "### Загрузка данных"
   ]
  },
  {
   "cell_type": "code",
   "execution_count": 12,
   "metadata": {
    "colab": {
     "base_uri": "https://localhost:8080/"
    },
    "executionInfo": {
     "elapsed": 6428,
     "status": "ok",
     "timestamp": 1607578601926,
     "user": {
      "displayName": "Alexey Tankov",
      "photoUrl": "",
      "userId": "01729535101672247421"
     },
     "user_tz": -180
    },
    "id": "uPKTtjpxX2lF",
    "outputId": "200c6416-c93b-41ad-f386-06cfc2f9de2c"
   },
   "outputs": [],
   "source": [
    "data = pd.read_csv('airline-passengers.csv', skipfooter = 5, engine='python')"
   ]
  },
  {
   "cell_type": "markdown",
   "metadata": {
    "id": "qKlir071gOo8"
   },
   "source": [
    "### Изучение датасета"
   ]
  },
  {
   "cell_type": "code",
   "execution_count": 13,
   "metadata": {
    "colab": {
     "base_uri": "https://localhost:8080/"
    },
    "executionInfo": {
     "elapsed": 6420,
     "status": "ok",
     "timestamp": 1607578601930,
     "user": {
      "displayName": "Alexey Tankov",
      "photoUrl": "",
      "userId": "01729535101672247421"
     },
     "user_tz": -180
    },
    "id": "HTDALf5hgPjD",
    "outputId": "8131b6be-cea2-4ba1-d1e2-6266d2979ae8"
   },
   "outputs": [
    {
     "data": {
      "text/html": [
       "<div>\n",
       "<style scoped>\n",
       "    .dataframe tbody tr th:only-of-type {\n",
       "        vertical-align: middle;\n",
       "    }\n",
       "\n",
       "    .dataframe tbody tr th {\n",
       "        vertical-align: top;\n",
       "    }\n",
       "\n",
       "    .dataframe thead th {\n",
       "        text-align: right;\n",
       "    }\n",
       "</style>\n",
       "<table border=\"1\" class=\"dataframe\">\n",
       "  <thead>\n",
       "    <tr style=\"text-align: right;\">\n",
       "      <th></th>\n",
       "      <th>Month</th>\n",
       "      <th>Passengers</th>\n",
       "    </tr>\n",
       "  </thead>\n",
       "  <tbody>\n",
       "    <tr>\n",
       "      <th>0</th>\n",
       "      <td>1949-01</td>\n",
       "      <td>112</td>\n",
       "    </tr>\n",
       "    <tr>\n",
       "      <th>1</th>\n",
       "      <td>1949-02</td>\n",
       "      <td>118</td>\n",
       "    </tr>\n",
       "    <tr>\n",
       "      <th>2</th>\n",
       "      <td>1949-03</td>\n",
       "      <td>132</td>\n",
       "    </tr>\n",
       "    <tr>\n",
       "      <th>3</th>\n",
       "      <td>1949-04</td>\n",
       "      <td>129</td>\n",
       "    </tr>\n",
       "    <tr>\n",
       "      <th>4</th>\n",
       "      <td>1949-05</td>\n",
       "      <td>121</td>\n",
       "    </tr>\n",
       "  </tbody>\n",
       "</table>\n",
       "</div>"
      ],
      "text/plain": [
       "     Month  Passengers\n",
       "0  1949-01         112\n",
       "1  1949-02         118\n",
       "2  1949-03         132\n",
       "3  1949-04         129\n",
       "4  1949-05         121"
      ]
     },
     "execution_count": 13,
     "metadata": {},
     "output_type": "execute_result"
    }
   ],
   "source": [
    "data.head()"
   ]
  },
  {
   "cell_type": "code",
   "execution_count": 14,
   "metadata": {
    "colab": {
     "base_uri": "https://localhost:8080/"
    },
    "executionInfo": {
     "elapsed": 6408,
     "status": "ok",
     "timestamp": 1607578601931,
     "user": {
      "displayName": "Alexey Tankov",
      "photoUrl": "",
      "userId": "01729535101672247421"
     },
     "user_tz": -180
    },
    "id": "S2KCYcgpgWli",
    "outputId": "40a8bbfb-91d3-420f-9ca8-e031a824264f"
   },
   "outputs": [
    {
     "data": {
      "text/html": [
       "<div>\n",
       "<style scoped>\n",
       "    .dataframe tbody tr th:only-of-type {\n",
       "        vertical-align: middle;\n",
       "    }\n",
       "\n",
       "    .dataframe tbody tr th {\n",
       "        vertical-align: top;\n",
       "    }\n",
       "\n",
       "    .dataframe thead th {\n",
       "        text-align: right;\n",
       "    }\n",
       "</style>\n",
       "<table border=\"1\" class=\"dataframe\">\n",
       "  <thead>\n",
       "    <tr style=\"text-align: right;\">\n",
       "      <th></th>\n",
       "      <th>Month</th>\n",
       "      <th>Passengers</th>\n",
       "    </tr>\n",
       "  </thead>\n",
       "  <tbody>\n",
       "    <tr>\n",
       "      <th>134</th>\n",
       "      <td>1960-03</td>\n",
       "      <td>419</td>\n",
       "    </tr>\n",
       "    <tr>\n",
       "      <th>135</th>\n",
       "      <td>1960-04</td>\n",
       "      <td>461</td>\n",
       "    </tr>\n",
       "    <tr>\n",
       "      <th>136</th>\n",
       "      <td>1960-05</td>\n",
       "      <td>472</td>\n",
       "    </tr>\n",
       "    <tr>\n",
       "      <th>137</th>\n",
       "      <td>1960-06</td>\n",
       "      <td>535</td>\n",
       "    </tr>\n",
       "    <tr>\n",
       "      <th>138</th>\n",
       "      <td>1960-07</td>\n",
       "      <td>622</td>\n",
       "    </tr>\n",
       "  </tbody>\n",
       "</table>\n",
       "</div>"
      ],
      "text/plain": [
       "       Month  Passengers\n",
       "134  1960-03         419\n",
       "135  1960-04         461\n",
       "136  1960-05         472\n",
       "137  1960-06         535\n",
       "138  1960-07         622"
      ]
     },
     "execution_count": 14,
     "metadata": {},
     "output_type": "execute_result"
    }
   ],
   "source": [
    "data.tail()"
   ]
  },
  {
   "cell_type": "code",
   "execution_count": 15,
   "metadata": {
    "colab": {
     "base_uri": "https://localhost:8080/"
    },
    "executionInfo": {
     "elapsed": 6395,
     "status": "ok",
     "timestamp": 1607578601932,
     "user": {
      "displayName": "Alexey Tankov",
      "photoUrl": "",
      "userId": "01729535101672247421"
     },
     "user_tz": -180
    },
    "id": "00hcsRy8cz9I",
    "outputId": "f70ee446-edd7-4936-d152-045729db9496"
   },
   "outputs": [
    {
     "data": {
      "text/plain": [
       "(139, 2)"
      ]
     },
     "execution_count": 15,
     "metadata": {},
     "output_type": "execute_result"
    }
   ],
   "source": [
    "data.shape"
   ]
  },
  {
   "cell_type": "code",
   "execution_count": 16,
   "metadata": {},
   "outputs": [
    {
     "data": {
      "image/png": "[encoded data removed]",
      "text/plain": [
       "<Figure size 432x288 with 1 Axes>"
      ]
     },
     "metadata": {
      "needs_background": "light"
     },
     "output_type": "display_data"
    }
   ],
   "source": [
    "dataset = data.iloc[:,1].values\n",
    "plt.plot(dataset)\n",
    "plt.xlabel('Month')\n",
    "plt.ylabel('Passengers')\n",
    "plt.title('Airline passengers')\n",
    "plt.show()"
   ]
  },
  {
   "cell_type": "markdown",
   "metadata": {
    "id": "ZNJrp85BpXYG"
   },
   "source": [
    "### Построение модели"
   ]
  },
  {
   "cell_type": "code",
   "execution_count": 17,
   "metadata": {
    "executionInfo": {
     "elapsed": 6652,
     "status": "ok",
     "timestamp": 1607578602229,
     "user": {
      "displayName": "Alexey Tankov",
      "photoUrl": "",
      "userId": "01729535101672247421"
     },
     "user_tz": -180
    },
    "id": "BfOFbKjTVAL_"
   },
   "outputs": [
    {
     "data": {
      "text/plain": [
       "(139, 1)"
      ]
     },
     "execution_count": 17,
     "metadata": {},
     "output_type": "execute_result"
    }
   ],
   "source": [
    "# Preprocessing\n",
    "dataset = dataset.reshape(-1, 1)\n",
    "dataset = dataset.astype('float32')\n",
    "dataset.shape"
   ]
  },
  {
   "cell_type": "code",
   "execution_count": 18,
   "metadata": {
    "executionInfo": {
     "elapsed": 5573,
     "status": "ok",
     "timestamp": 1607578602539,
     "user": {
      "displayName": "Alexey Tankov",
      "photoUrl": "",
      "userId": "01729535101672247421"
     },
     "user_tz": -180
    },
    "id": "_IbFsLilcz9K"
   },
   "outputs": [],
   "source": [
    "scaler = MinMaxScaler()\n",
    "dataset = scaler.fit_transform(dataset)"
   ]
  },
  {
   "cell_type": "code",
   "execution_count": 19,
   "metadata": {},
   "outputs": [
    {
     "name": "stdout",
     "output_type": "stream",
     "text": [
      "75 64\n"
     ]
    }
   ],
   "source": [
    "train_size = int(len(dataset)*0.54)\n",
    "test_size = len(dataset) - train_size\n",
    "train = dataset[0:train_size,:]\n",
    "test = dataset[train_size:len(dataset),:]\n",
    "print(len(train),len(test))"
   ]
  },
  {
   "cell_type": "code",
   "execution_count": 20,
   "metadata": {},
   "outputs": [],
   "source": [
    "# X_train, X_test, y_train, y_test = train_test_split(X, y)\n",
    "time_temp = 10\n",
    "X_temp = []\n",
    "Y_temp = []\n",
    "for i in range(len(train)-time_temp-1):\n",
    "    a = train[i:(i+time_temp), 0]\n",
    "    X_temp.append(a)\n",
    "    Y_temp.append(train[i + time_temp, 0])\n",
    "X_train = np.array(X_temp)\n",
    "y_train = np.array(Y_temp)  "
   ]
  },
  {
   "cell_type": "code",
   "execution_count": 21,
   "metadata": {},
   "outputs": [],
   "source": [
    "X_temp = []\n",
    "Y_temp = []\n",
    "for i in range(len(test)-time_temp-1):\n",
    "    a = test[i:(i+time_temp), 0]\n",
    "    X_temp.append(a)\n",
    "    Y_temp.append(test[i + time_temp, 0])\n",
    "X_test = np.array(X_temp)\n",
    "y_test = np.array(Y_temp)  "
   ]
  },
  {
   "cell_type": "code",
   "execution_count": 22,
   "metadata": {},
   "outputs": [],
   "source": [
    "X_train = np.reshape(X_train, (X_train.shape[0], 1, X_train.shape[1]))\n",
    "X_test = np.reshape(X_test, (X_test.shape[0], 1, X_test.shape[1]))"
   ]
  },
  {
   "cell_type": "markdown",
   "metadata": {
    "id": "fzfu4h3xXon8"
   },
   "source": [
    "### Model"
   ]
  },
  {
   "cell_type": "code",
   "execution_count": 23,
   "metadata": {
    "executionInfo": {
     "elapsed": 637,
     "status": "ok",
     "timestamp": 1607578640991,
     "user": {
      "displayName": "Alexey Tankov",
      "photoUrl": "",
      "userId": "01729535101672247421"
     },
     "user_tz": -180
    },
    "id": "MX3kn5LPVNj5"
   },
   "outputs": [],
   "source": [
    "model = Sequential([\n",
    "    LSTM(15, input_shape=(1,time_temp)),\n",
    "    Dense(1)\n",
    "])"
   ]
  },
  {
   "cell_type": "code",
   "execution_count": 24,
   "metadata": {
    "executionInfo": {
     "elapsed": 495,
     "status": "ok",
     "timestamp": 1607578641263,
     "user": {
      "displayName": "Alexey Tankov",
      "photoUrl": "",
      "userId": "01729535101672247421"
     },
     "user_tz": -180
    },
    "id": "cVDNh23JVhbE"
   },
   "outputs": [],
   "source": [
    "model.compile(optimizer='adam', loss='mean_squared_error')"
   ]
  },
  {
   "cell_type": "code",
   "execution_count": 25,
   "metadata": {
    "colab": {
     "base_uri": "https://localhost:8080/"
    },
    "executionInfo": {
     "elapsed": 112350,
     "status": "ok",
     "timestamp": 1607578753502,
     "user": {
      "displayName": "Alexey Tankov",
      "photoUrl": "",
      "userId": "01729535101672247421"
     },
     "user_tz": -180
    },
    "id": "SYHfjCa2VzSr",
    "outputId": "8544aae5-6955-4e2d-857c-395d3f53d259"
   },
   "outputs": [
    {
     "name": "stdout",
     "output_type": "stream",
     "text": [
      "Epoch 1/50\n",
      "64/64 [==============================] - 0s 2ms/step - loss: 0.0138\n",
      "Epoch 2/50\n",
      "64/64 [==============================] - 0s 2ms/step - loss: 0.0034\n",
      "Epoch 3/50\n",
      "64/64 [==============================] - 0s 2ms/step - loss: 0.0031\n",
      "Epoch 4/50\n",
      "64/64 [==============================] - 0s 2ms/step - loss: 0.0030\n",
      "Epoch 5/50\n",
      "64/64 [==============================] - 0s 2ms/step - loss: 0.0027\n",
      "Epoch 6/50\n",
      "64/64 [==============================] - 0s 2ms/step - loss: 0.0024\n",
      "Epoch 7/50\n",
      "64/64 [==============================] - 0s 2ms/step - loss: 0.0023\n",
      "Epoch 8/50\n",
      "64/64 [==============================] - 0s 2ms/step - loss: 0.0022\n",
      "Epoch 9/50\n",
      "64/64 [==============================] - 0s 2ms/step - loss: 0.0021\n",
      "Epoch 10/50\n",
      "64/64 [==============================] - 0s 2ms/step - loss: 0.0020\n",
      "Epoch 11/50\n",
      "64/64 [==============================] - 0s 2ms/step - loss: 0.0020\n",
      "Epoch 12/50\n",
      "64/64 [==============================] - 0s 2ms/step - loss: 0.0018\n",
      "Epoch 13/50\n",
      "64/64 [==============================] - 0s 2ms/step - loss: 0.0018\n",
      "Epoch 14/50\n",
      "64/64 [==============================] - 0s 2ms/step - loss: 0.0018\n",
      "Epoch 15/50\n",
      "64/64 [==============================] - 0s 2ms/step - loss: 0.0018\n",
      "Epoch 16/50\n",
      "64/64 [==============================] - 0s 2ms/step - loss: 0.0017\n",
      "Epoch 17/50\n",
      "64/64 [==============================] - 0s 2ms/step - loss: 0.0016\n",
      "Epoch 18/50\n",
      "64/64 [==============================] - 0s 2ms/step - loss: 0.0015\n",
      "Epoch 19/50\n",
      "64/64 [==============================] - 0s 2ms/step - loss: 0.0015\n",
      "Epoch 20/50\n",
      "64/64 [==============================] - 0s 2ms/step - loss: 0.0015\n",
      "Epoch 21/50\n",
      "64/64 [==============================] - 0s 2ms/step - loss: 0.0014\n",
      "Epoch 22/50\n",
      "64/64 [==============================] - 0s 2ms/step - loss: 0.0015\n",
      "Epoch 23/50\n",
      "64/64 [==============================] - 0s 2ms/step - loss: 0.0014\n",
      "Epoch 24/50\n",
      "64/64 [==============================] - 0s 2ms/step - loss: 0.0014\n",
      "Epoch 25/50\n",
      "64/64 [==============================] - 0s 2ms/step - loss: 0.0013\n",
      "Epoch 26/50\n",
      "64/64 [==============================] - 0s 2ms/step - loss: 0.0014\n",
      "Epoch 27/50\n",
      "64/64 [==============================] - 0s 2ms/step - loss: 0.0013\n",
      "Epoch 28/50\n",
      "64/64 [==============================] - 0s 2ms/step - loss: 0.0014\n",
      "Epoch 29/50\n",
      "64/64 [==============================] - 0s 2ms/step - loss: 0.0014\n",
      "Epoch 30/50\n",
      "64/64 [==============================] - 0s 2ms/step - loss: 0.0013\n",
      "Epoch 31/50\n",
      "64/64 [==============================] - 0s 2ms/step - loss: 0.0013\n",
      "Epoch 32/50\n",
      "64/64 [==============================] - 0s 2ms/step - loss: 0.0013- ETA: 0s - loss: 8.9791e-0\n",
      "Epoch 33/50\n",
      "64/64 [==============================] - 0s 2ms/step - loss: 0.0014\n",
      "Epoch 34/50\n",
      "64/64 [==============================] - 0s 2ms/step - loss: 0.0012\n",
      "Epoch 35/50\n",
      "64/64 [==============================] - 0s 2ms/step - loss: 0.0012\n",
      "Epoch 36/50\n",
      "64/64 [==============================] - 0s 2ms/step - loss: 0.0012- ETA: 0s - loss: 0.0010  \n",
      "Epoch 37/50\n",
      "64/64 [==============================] - 0s 2ms/step - loss: 0.0013\n",
      "Epoch 38/50\n",
      "64/64 [==============================] - 0s 2ms/step - loss: 0.0012\n",
      "Epoch 39/50\n",
      "64/64 [==============================] - 0s 2ms/step - loss: 0.0013\n",
      "Epoch 40/50\n",
      "64/64 [==============================] - 0s 2ms/step - loss: 0.0011\n",
      "Epoch 41/50\n",
      "64/64 [==============================] - 0s 2ms/step - loss: 0.0012\n",
      "Epoch 42/50\n",
      "64/64 [==============================] - 0s 2ms/step - loss: 0.0012- ETA: 0s - loss: 0.0013  \n",
      "Epoch 43/50\n",
      "64/64 [==============================] - 0s 2ms/step - loss: 0.0012\n",
      "Epoch 44/50\n",
      "64/64 [==============================] - 0s 2ms/step - loss: 0.0014\n",
      "Epoch 45/50\n",
      "64/64 [==============================] - ETA: 0s - loss: 0.001 - 0s 2ms/step - loss: 0.0013\n",
      "Epoch 46/50\n",
      "64/64 [==============================] - 0s 2ms/step - loss: 0.0012\n",
      "Epoch 47/50\n",
      "64/64 [==============================] - 0s 2ms/step - loss: 0.0012\n",
      "Epoch 48/50\n",
      "64/64 [==============================] - 0s 2ms/step - loss: 0.0012\n",
      "Epoch 49/50\n",
      "64/64 [==============================] - 0s 2ms/step - loss: 0.0011A: 0s - loss: 0.001\n",
      "Epoch 50/50\n",
      "64/64 [==============================] - 0s 2ms/step - loss: 0.0011\n",
      "Wall time: 8.24 s\n"
     ]
    },
    {
     "data": {
      "text/plain": [
       "<tensorflow.python.keras.callbacks.History at 0x1ba6ff2ebb0>"
      ]
     },
     "execution_count": 25,
     "metadata": {},
     "output_type": "execute_result"
    }
   ],
   "source": [
    "%%time\n",
    "model.fit(X_train, y_train, epochs=50, batch_size=1)"
   ]
  },
  {
   "cell_type": "code",
   "execution_count": 26,
   "metadata": {
    "executionInfo": {
     "elapsed": 115698,
     "status": "ok",
     "timestamp": 1607578757506,
     "user": {
      "displayName": "Alexey Tankov",
      "photoUrl": "",
      "userId": "01729535101672247421"
     },
     "user_tz": -180
    },
    "id": "Tv-_i445bZwK"
   },
   "outputs": [
    {
     "name": "stdout",
     "output_type": "stream",
     "text": [
      "Train Score: 16.58 RMSE\n",
      "Test Score: 35.93 RMSE\n"
     ]
    }
   ],
   "source": [
    "trainPredict = model.predict(X_train)\n",
    "testPredict = model.predict(X_test)\n",
    "\n",
    "trainPredict = scaler.inverse_transform(trainPredict)\n",
    "y_train = scaler.inverse_transform([y_train])\n",
    "testPredict = scaler.inverse_transform(testPredict)\n",
    "y_test = scaler.inverse_transform([y_test])\n",
    "\n",
    "trainScore = math.sqrt(mean_squared_error(y_train[0], trainPredict[:,0]))\n",
    "print('Train Score: %.2f RMSE' % (trainScore))\n",
    "testScore = math.sqrt(mean_squared_error(y_test[0], testPredict[:,0]))\n",
    "print('Test Score: %.2f RMSE' % (testScore))"
   ]
  },
  {
   "cell_type": "code",
   "execution_count": 42,
   "metadata": {
    "colab": {
     "base_uri": "https://localhost:8080/"
    },
    "executionInfo": {
     "elapsed": 114708,
     "status": "ok",
     "timestamp": 1607578757509,
     "user": {
      "displayName": "Alexey Tankov",
      "photoUrl": "",
      "userId": "01729535101672247421"
     },
     "user_tz": -180
    },
    "id": "uiG4iN54bfRP",
    "outputId": "541c105b-c0a7-48e4-b71e-794924478e7e"
   },
   "outputs": [
    {
     "data": {
      "image/png": "[encoded data removed]",
      "text/plain": [
       "<Figure size 1080x792 with 1 Axes>"
      ]
     },
     "metadata": {
      "needs_background": "light"
     },
     "output_type": "display_data"
    }
   ],
   "source": [
    "trainPredictPlot = np.empty_like(dataset)\n",
    "trainPredictPlot[:, :] = np.nan\n",
    "trainPredictPlot[time_temp:len(trainPredict)+time_temp, :] = trainPredict\n",
    "\n",
    "testPredictPlot = np.empty_like(dataset)\n",
    "testPredictPlot[:, :] = np.nan\n",
    "testPredictPlot[len(trainPredict)+(time_temp*2)+1:len(dataset)-1, :] = testPredict\n",
    "\n",
    "plt.figure(figsize = (15, 11))\n",
    "plt.plot(scaler.inverse_transform(dataset), label = 'True Values', color='#336633')\n",
    "plt.plot(trainPredictPlot, label='Train Prediction', color='#111d5e')\n",
    "plt.plot(testPredictPlot, label = 'Test Prediction', color='#CC0033')\n",
    "plt.xlabel('Month')\n",
    "plt.ylabel('Passengers')\n",
    "plt.title('Airline passengers')\n",
    "plt.legend()\n",
    "plt.savefig(fname = 'Results')\n",
    "plt.show()"
   ]
  },
  {
   "cell_type": "markdown",
   "metadata": {
    "id": "o9rjPQotcz9W"
   },
   "source": [
    "### Вывод:\n",
    "В результате текущего практического задания, была реализована RNN(рекурентная нейронная сеть с LSTM). Прогноз временных рядов(Time series forecasting), для небольшого набора данных - 'Airline passengers' не идеален, но для обучения более, чем приемлем. Повышение точности произошло за счет подбора размера выборки, а также параметров модели."
   ]
  },
  {
   "cell_type": "markdown",
   "metadata": {},
   "source": [
    "## *Попробуйте на numpy реализовать нейронную сеть архитектуры LSTM"
   ]
  },
  {
   "cell_type": "markdown",
   "metadata": {},
   "source": [
    "![image](LSTM_Card.png)"
   ]
  },
  {
   "cell_type": "code",
   "execution_count": 46,
   "metadata": {},
   "outputs": [],
   "source": [
    "from scipy.special import expit as sigmoid\n",
    "\n",
    "def forget_gate(x, h, Weights_hf, Bias_hf, Weights_xf, Bias_xf, prev_cell_state):\n",
    "    forget_hidden  = np.dot(Weights_hf, h) + Bias_hf\n",
    "    forget_eventx  = np.dot(Weights_xf, x) + Bias_xf\n",
    "    return np.multiply( sigmoid(forget_hidden + forget_eventx), prev_cell_state )\n",
    "\n",
    "def input_gate(x, h, Weights_hi, Bias_hi, Weights_xi, Bias_xi, Weights_hl, Bias_hl, Weights_xl, Bias_xl):\n",
    "    ignore_hidden  = np.dot(Weights_hi, h) + Bias_hi\n",
    "    ignore_eventx  = np.dot(Weights_xi, x) + Bias_xi\n",
    "    learn_hidden   = np.dot(Weights_hl, h) + Bias_hl\n",
    "    learn_eventx   = np.dot(Weights_xl, x) + Bias_xl\n",
    "    return np.multiply( sigmoid(ignore_eventx + ignore_hidden), np.tanh(learn_eventx + learn_hidden) )\n",
    "\n",
    "\n",
    "def cell_state(forget_gate_output, input_gate_output):\n",
    "    return forget_gate_output + input_gate_output\n",
    "\n",
    "  \n",
    "def output_gate(x, h, Weights_ho, Bias_ho, Weights_xo, Bias_xo, cell_state):\n",
    "    out_hidden = np.dot(Weights_ho, h) + Bias_ho\n",
    "    out_eventx = np.dot(Weights_xo, x) + Bias_xo\n",
    "    return np.multiply( sigmoid(out_eventx + out_hidden), np.tanh(cell_state))"
   ]
  },
  {
   "cell_type": "code",
   "execution_count": 47,
   "metadata": {},
   "outputs": [],
   "source": [
    "#Set Parameters for a small LSTM network\n",
    "input_size  = 2 # size of one 'event', or sample, in our batch of data\n",
    "hidden_dim  = 3 # 3 cells in the LSTM layer\n",
    "output_size = 1 # desired model output\n",
    "\n",
    "def model_output(lstm_output, fc_Weight, fc_Bias):\n",
    "  '''Takes the LSTM output and transforms it to our desired \n",
    "  output size using a final, fully connected layer'''\n",
    "  return np.dot(fc_Weight, lstm_output) + fc_Bias"
   ]
  },
  {
   "cell_type": "markdown",
   "metadata": {},
   "source": [
    "### Creating the data"
   ]
  },
  {
   "cell_type": "code",
   "execution_count": 28,
   "metadata": {},
   "outputs": [],
   "source": [
    "import string"
   ]
  },
  {
   "cell_type": "code",
   "execution_count": 29,
   "metadata": {},
   "outputs": [],
   "source": [
    "data = \"\"\"\n",
    "To be, or not to be, that is the question:\n",
    "Whether 'tis nobler in the mind to suffer\n",
    "The slings and arrows of outrageous fortune,\n",
    "Or to take arms against a sea of troubles\n",
    "And by opposing end them. To die—to sleep,\n",
    "No more; and by a sleep to say we end\n",
    "The heart-ache and the thousand natural shocks\n",
    "That flesh is heir to: 'tis a consummation\n",
    "Devoutly to be wish'd. To die, to sleep;\n",
    "To sleep, perchance to dream—ay, there's the rub:\n",
    "For in that sleep of death what dreams may come,\n",
    "When we have shuffled off this mortal coil,\n",
    "Must give us pause—there's the respect\n",
    "That makes calamity of so long life.\n",
    "For who would bear the whips and scorns of time,\n",
    "Th'oppressor's wrong, the proud man's contumely,\n",
    "The pangs of dispriz'd love, the law's delay,\n",
    "The insolence of office, and the spurns\n",
    "That patient merit of th'unworthy takes,\n",
    "When he himself might his quietus make\n",
    "\"\"\""
   ]
  },
  {
   "cell_type": "markdown",
   "metadata": {},
   "source": [
    "### Data preparation"
   ]
  },
  {
   "cell_type": "code",
   "execution_count": 30,
   "metadata": {},
   "outputs": [],
   "source": [
    "# remove \\n\n",
    "data = data.replace(\"\\n\", \" \")\n",
    "\n",
    "# lower cases\n",
    "data = data.lower()\n",
    "\n",
    "# remove punctuation\n",
    "data = data.translate(str.maketrans('', '', string.punctuation))\n",
    "\n",
    "# remove first and last character\n",
    "data = data[1:-1]"
   ]
  },
  {
   "cell_type": "code",
   "execution_count": 31,
   "metadata": {},
   "outputs": [
    {
     "data": {
      "text/plain": [
       "'to be or not to be that is the question whether tis nobler in the mind to suffer the slings and arrows of outrageous fortune or to take arms against a sea of troubles and by opposing end them to die—to sleep no more and by a sleep to say we end the heartache and the thousand natural shocks that flesh is heir to tis a consummation devoutly to be wishd to die to sleep to sleep perchance to dream—ay theres the rub for in that sleep of death what dreams may come when we have shuffled off this mortal coil must give us pause—theres the respect that makes calamity of so long life for who would bear the whips and scorns of time thoppressors wrong the proud mans contumely the pangs of disprizd love the laws delay the insolence of office and the spurns that patient merit of thunworthy takes when he himself might his quietus make'"
      ]
     },
     "execution_count": 31,
     "metadata": {},
     "output_type": "execute_result"
    }
   ],
   "source": [
    "data"
   ]
  },
  {
   "cell_type": "markdown",
   "metadata": {},
   "source": [
    "### Prepare dictionaries"
   ]
  },
  {
   "cell_type": "code",
   "execution_count": 32,
   "metadata": {},
   "outputs": [],
   "source": [
    "chars = sorted(set(data))\n",
    "\n",
    "char_to_idx = {c:i for (i,c) in enumerate(chars)}\n",
    "idx_to_char = {i:c for (i,c) in enumerate(chars)}"
   ]
  },
  {
   "cell_type": "markdown",
   "metadata": {},
   "source": [
    "### Prepare the parameters"
   ]
  },
  {
   "cell_type": "code",
   "execution_count": 33,
   "metadata": {},
   "outputs": [],
   "source": [
    "data_size, char_size = len(data), len(chars)\n",
    "\n",
    "hidden_size = 10\n",
    "weight_sd = 0.1\n",
    "z_size = hidden_size + char_size\n",
    "t_steps = 25"
   ]
  },
  {
   "cell_type": "markdown",
   "metadata": {},
   "source": [
    "### Activations functions"
   ]
  },
  {
   "cell_type": "code",
   "execution_count": 34,
   "metadata": {},
   "outputs": [],
   "source": [
    "def sigmoid(x):\n",
    "    return 1 / (1 + np.exp(-x))\n",
    "\n",
    "def dsigmoid(y):\n",
    "    return y * (1 - y)\n",
    "\n",
    "def tanh(x):\n",
    "    return np.tanh(x)\n",
    "\n",
    "def dtanh(y):\n",
    "    return 1 - y * y"
   ]
  },
  {
   "cell_type": "markdown",
   "metadata": {},
   "source": [
    "### LSTM architecture"
   ]
  },
  {
   "cell_type": "markdown",
   "metadata": {},
   "source": [
    "![image](LSTM.png)"
   ]
  },
  {
   "cell_type": "markdown",
   "metadata": {},
   "source": [
    "### LSTM implementation"
   ]
  },
  {
   "cell_type": "code",
   "execution_count": 35,
   "metadata": {},
   "outputs": [],
   "source": [
    "def forward(x, u, q):\n",
    "    z = np.row_stack((q, x))\n",
    "\n",
    "    a = sigmoid(np.dot(wa, z) + ba)\n",
    "    b = sigmoid(np.dot(wb, z) + bb)\n",
    "    c = tanh(np.dot(wc, z) + bc)\n",
    "    d = sigmoid(np.dot(wd, z) + bd)\n",
    "\n",
    "    e = a * u + b * c\n",
    "    h = d * tanh(e)\n",
    "\n",
    "    v = np.dot(wv, h) + bv\n",
    "    y = np.exp(v) / np.sum(np.exp(v))\n",
    "\n",
    "    return z, a, b, c, d, e, h, v, y"
   ]
  },
  {
   "cell_type": "code",
   "execution_count": 36,
   "metadata": {},
   "outputs": [],
   "source": [
    "def optimize(grads, theta, lr=0.05):\n",
    "    dwa, dwb, dwc, dwd, dwv, dba, dbb, dbc, dbd, dbv = grads\n",
    "    wa, wb, wc, wd, wv, ba, bb, bc, bd, bv = theta\n",
    "    \n",
    "    wa -= dwa * lr\n",
    "    wb -= dwb * lr\n",
    "    wc -= dwc * lr\n",
    "    wd -= dwd * lr\n",
    "    wv -= dwv * lr\n",
    "    \n",
    "    ba -= dba * lr\n",
    "    bb -= dbb * lr\n",
    "    bc -= dbc * lr\n",
    "    bd -= dbd * lr\n",
    "    bv -= dbv * lr\n",
    "    \n",
    "    return wa, wb, wc, wd, wv, ba, bb, bc, bd, bv"
   ]
  },
  {
   "cell_type": "markdown",
   "metadata": {},
   "source": [
    "### Initialize the variables"
   ]
  },
  {
   "cell_type": "code",
   "execution_count": 37,
   "metadata": {},
   "outputs": [],
   "source": [
    "losses = {}\n",
    "z, a, b, c, d, e, h, v, y = {}, {}, {}, {}, {}, {}, {}, {}, {}\n",
    "q, x, u = {}, {}, {}"
   ]
  },
  {
   "cell_type": "code",
   "execution_count": 38,
   "metadata": {},
   "outputs": [],
   "source": [
    "wa, wb, wc, wd = [np.random.randn(hidden_size, z_size) * weight_sd + 0.5 for x in range(4)]\n",
    "ba, bb, bc, bd = [np.zeros((hidden_size, 1)) for x in range(4)]\n",
    "\n",
    "# output\n",
    "wv = np.random.randn(char_size, hidden_size) * weight_sd\n",
    "bv = np.zeros((char_size, 1))"
   ]
  },
  {
   "cell_type": "code",
   "execution_count": 39,
   "metadata": {},
   "outputs": [],
   "source": [
    "q[-1] = np.zeros((hidden_size, 1))\n",
    "u[-1] = np.zeros((hidden_size, 1))\n",
    "\n",
    "pointer = 25\n",
    "t_steps = 25\n",
    "\n",
    "inputs = ([char_to_idx[ch] for ch in data[pointer: pointer + t_steps]])\n",
    "targets = ([char_to_idx[ch] for ch in data[pointer + 1: pointer + t_steps + 1]])"
   ]
  },
  {
   "cell_type": "markdown",
   "metadata": {},
   "source": [
    "### Training"
   ]
  },
  {
   "cell_type": "code",
   "execution_count": 40,
   "metadata": {},
   "outputs": [],
   "source": [
    "for epoch in range(1000):\n",
    "    \n",
    "    loss = 0\n",
    "    \n",
    "    # Forward propagation\n",
    "    for t in range(len(inputs)):\n",
    "        x[t] = np.zeros((char_size, 1))\n",
    "        x[t][inputs[t]] = 1\n",
    "\n",
    "        z[t], a[t], b[t], c[t], d[t], e[t], h[t], v[t], y[t] = forward(x[t], u[t - 1], q[t - 1])\n",
    "\n",
    "        u[t], q[t] = e[t], h[t]\n",
    "\n",
    "        loss += -np.log(y[t][targets[t], 0])\n",
    "\n",
    "\n",
    "    dh_next = np.zeros_like(q[0])\n",
    "    de_next = np.zeros_like(u[0])\n",
    "    dwa, dwb, dwc, dwd, dwv, dba, dbb, dbc, dbd, dbv = 0, 0, 0, 0, 0, 0, 0, 0, 0, 0\n",
    "\n",
    "    # Backward propagation\n",
    "    for t in reversed(range(len(inputs))):\n",
    "        target = targets[t]\n",
    "\n",
    "        dv = np.copy(y[t])\n",
    "        dv[target] -= 1\n",
    "\n",
    "        dwv += np.dot(dv, h[t].T)\n",
    "        dbv += dv\n",
    "\n",
    "        dh = np.dot(wv.T, dv)\n",
    "        dh += dh_next\n",
    "\n",
    "        dd = dh * tanh(e[t])\n",
    "        dd = dsigmoid(d[t]) * dd\n",
    "\n",
    "        dwd += np.dot(dd, z[t].T)\n",
    "        dbd += dd\n",
    "\n",
    "        de = np.copy(de_next)\n",
    "        de += dh * d[t] * dtanh(tanh(e[t]))\n",
    "\n",
    "        dc = de * b[t]\n",
    "        dc = dtanh(c[t]) * dc\n",
    "\n",
    "        dwc += np.dot(dc, z[t].T)\n",
    "        dbc += dc\n",
    "\n",
    "        db = de * dc\n",
    "        db = dsigmoid(b[t]) * db\n",
    "\n",
    "        dwb += np.dot(db, z[t].T)\n",
    "        dbb += db\n",
    "\n",
    "        da = de * u[t - 1]\n",
    "        da = dsigmoid(a[t]) * da\n",
    "\n",
    "        dwa += np.dot(da, z[t].T)\n",
    "        dba += da\n",
    "\n",
    "        dz = (np.dot(wa.T, da) \n",
    "              + np.dot(wb.T, db) \n",
    "              + np.dot(wc.T, dc) \n",
    "              + np.dot(dd.T, dd))\n",
    "\n",
    "        dh_next = dz[:hidden_size, :]\n",
    "        de_next = a[t] * de\n",
    "\n",
    "    \n",
    "    grads = dwa, dwb, dwc, dwd, dwv, dba, dbb, dbc, dbd, dbv\n",
    "    theta = wa, wb, wc, wd, wv, ba, bb, bc, bd, bv\n",
    "\n",
    "    # optimize with SGD the training data\n",
    "    wa, wb, wc, wd, wv, ba, bb, bc, bd, bv = optimize(grads, theta)\n",
    "        \n",
    "    losses[epoch] = loss"
   ]
  },
  {
   "cell_type": "markdown",
   "metadata": {},
   "source": [
    "### Plotting the graph"
   ]
  },
  {
   "cell_type": "code",
   "execution_count": 44,
   "metadata": {},
   "outputs": [
    {
     "data": {
      "text/plain": [
       "[<matplotlib.lines.Line2D at 0x1ba74392910>]"
      ]
     },
     "execution_count": 44,
     "metadata": {},
     "output_type": "execute_result"
    },
    {
     "data": {
      "image/png": "[encoded data removed]",
      "text/plain": [
       "<Figure size 864x576 with 1 Axes>"
      ]
     },
     "metadata": {
      "needs_background": "light"
     },
     "output_type": "display_data"
    }
   ],
   "source": [
    "plt.figure(figsize = (12, 8))\n",
    "plt.plot(list(losses.keys()), [losses[x] for x in list(losses.keys())])"
   ]
  },
  {
   "cell_type": "code",
   "execution_count": null,
   "metadata": {},
   "outputs": [],
   "source": []
  }
 ],
 "metadata": {
  "accelerator": "GPU",
  "colab": {
   "collapsed_sections": [],
   "name": "hw_04.ipynb",
   "provenance": []
  },
  "kernelspec": {
   "display_name": "Python 3",
   "language": "python",
   "name": "python3"
  },
  "language_info": {
   "codemirror_mode": {
    "name": "ipython",
    "version": 3
   },
   "file_extension": ".py",
   "mimetype": "text/x-python",
   "name": "python",
   "nbconvert_exporter": "python",
   "pygments_lexer": "ipython3",
   "version": "3.8.5"
  }
 },
 "nbformat": 4,
 "nbformat_minor": 1
}
