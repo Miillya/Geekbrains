{
 "cells": [
  {
   "cell_type": "code",
   "execution_count": 1,
   "metadata": {
    "id": "IOX9KcxcbMNB"
   },
   "outputs": [],
   "source": [
    "# Рисовать графики сразу же\n",
    "%matplotlib inline\n",
    "\n",
    "import pandas as pd\n",
    "import matplotlib.pyplot as plt\n",
    "from tensorflow.keras import utils\n",
    "import numpy as np\n",
    "import tensorflow.keras as keras\n",
    "from tensorflow.keras.optimizers import Adam\n",
    "from tensorflow.keras.models import Sequential, Model\n",
    "from tensorflow.keras.layers import concatenate, Input, Dense, Dropout, BatchNormalization, Flatten, Conv1D, Conv2D, LSTM\n",
    "\n",
    "from google.colab import files\n",
    "from sklearn.preprocessing import StandardScaler, MinMaxScaler"
   ]
  },
  {
   "cell_type": "code",
   "execution_count": 2,
   "metadata": {
    "id": "TvWj5CfUPq7i"
   },
   "outputs": [],
   "source": [
    "from tensorflow.keras.callbacks import EarlyStopping"
   ]
  },
  {
   "cell_type": "markdown",
   "metadata": {
    "id": "U6Of5-M3nxnM"
   },
   "source": [
    "Читаем данные из файла со значениями цены нефти марки BRENT"
   ]
  },
  {
   "cell_type": "code",
   "execution_count": 3,
   "metadata": {
    "colab": {
     "base_uri": "https://localhost:8080/",
     "height": 89,
     "resources": {
      "http://localhost:8080/nbextensions/google.colab/files.js": {
       "data": "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",
       "headers": [
        [
         "content-type",
         "application/javascript"
        ]
       ],
       "ok": true,
       "status": 200,
       "status_text": ""
      }
     }
    },
    "id": "YVyA-Lf-blzj",
    "outputId": "5c5f38f2-2f07-42e9-fe0b-72b40a15f617"
   },
   "outputs": [
    {
     "data": {
      "text/html": [
       "\n",
       "     <input type=\"file\" id=\"files-edd04df1-5334-4e0c-a6df-b9c0f49433e0\" name=\"files[]\" multiple disabled\n",
       "        style=\"border:none\" />\n",
       "     <output id=\"result-edd04df1-5334-4e0c-a6df-b9c0f49433e0\">\n",
       "      Upload widget is only available when the cell has been executed in the\n",
       "      current browser session. Please rerun this cell to enable.\n",
       "      </output>\n",
       "      <script src=\"/nbextensions/google.colab/files.js\"></script> "
      ],
      "text/plain": [
       "<IPython.core.display.HTML object>"
      ]
     },
     "metadata": {
      "tags": []
     },
     "output_type": "display_data"
    },
    {
     "name": "stdout",
     "output_type": "stream",
     "text": [
      "Saving my_BRENT2019.csv to my_BRENT2019.csv\n",
      "my_BRENT2019.csv  sample_data\n"
     ]
    }
   ],
   "source": [
    "files.upload()\n",
    "!ls"
   ]
  },
  {
   "cell_type": "code",
   "execution_count": 4,
   "metadata": {
    "id": "FbOkFf_7cgWa"
   },
   "outputs": [],
   "source": [
    "df = pd.read_csv('my_BRENT2019.csv')\n"
   ]
  },
  {
   "cell_type": "code",
   "execution_count": 5,
   "metadata": {
    "colab": {
     "base_uri": "https://localhost:8080/",
     "height": 309
    },
    "id": "KmWwmNFkzN9f",
    "outputId": "abe621f6-385d-4a6f-dc25-bcb33d55fd21"
   },
   "outputs": [
    {
     "data": {
      "text/html": [
       "<div>\n",
       "<style scoped>\n",
       "    .dataframe tbody tr th:only-of-type {\n",
       "        vertical-align: middle;\n",
       "    }\n",
       "\n",
       "    .dataframe tbody tr th {\n",
       "        vertical-align: top;\n",
       "    }\n",
       "\n",
       "    .dataframe thead th {\n",
       "        text-align: right;\n",
       "    }\n",
       "</style>\n",
       "<table border=\"1\" class=\"dataframe\">\n",
       "  <thead>\n",
       "    <tr style=\"text-align: right;\">\n",
       "      <th></th>\n",
       "      <th>Дата</th>\n",
       "      <th>Значение</th>\n",
       "      <th>year</th>\n",
       "      <th>month</th>\n",
       "      <th>dayofmonth</th>\n",
       "      <th>quarter</th>\n",
       "      <th>dayofyear</th>\n",
       "      <th>weekofyear</th>\n",
       "      <th>dayofweek</th>\n",
       "      <th>is_holiday</th>\n",
       "      <th>is_prev_holiday</th>\n",
       "      <th>is_next_holiday</th>\n",
       "    </tr>\n",
       "  </thead>\n",
       "  <tbody>\n",
       "    <tr>\n",
       "      <th>0</th>\n",
       "      <td>2010-09-01</td>\n",
       "      <td>76.37</td>\n",
       "      <td>2010</td>\n",
       "      <td>9</td>\n",
       "      <td>1</td>\n",
       "      <td>3</td>\n",
       "      <td>244</td>\n",
       "      <td>35</td>\n",
       "      <td>2</td>\n",
       "      <td>0</td>\n",
       "      <td>0</td>\n",
       "      <td>0</td>\n",
       "    </tr>\n",
       "    <tr>\n",
       "      <th>1</th>\n",
       "      <td>2010-09-02</td>\n",
       "      <td>76.89</td>\n",
       "      <td>2010</td>\n",
       "      <td>9</td>\n",
       "      <td>2</td>\n",
       "      <td>3</td>\n",
       "      <td>245</td>\n",
       "      <td>35</td>\n",
       "      <td>3</td>\n",
       "      <td>0</td>\n",
       "      <td>0</td>\n",
       "      <td>0</td>\n",
       "    </tr>\n",
       "    <tr>\n",
       "      <th>2</th>\n",
       "      <td>2010-09-03</td>\n",
       "      <td>76.57</td>\n",
       "      <td>2010</td>\n",
       "      <td>9</td>\n",
       "      <td>3</td>\n",
       "      <td>3</td>\n",
       "      <td>246</td>\n",
       "      <td>35</td>\n",
       "      <td>4</td>\n",
       "      <td>0</td>\n",
       "      <td>0</td>\n",
       "      <td>0</td>\n",
       "    </tr>\n",
       "    <tr>\n",
       "      <th>3</th>\n",
       "      <td>2010-09-04</td>\n",
       "      <td>76.62</td>\n",
       "      <td>2010</td>\n",
       "      <td>9</td>\n",
       "      <td>4</td>\n",
       "      <td>3</td>\n",
       "      <td>247</td>\n",
       "      <td>35</td>\n",
       "      <td>5</td>\n",
       "      <td>0</td>\n",
       "      <td>0</td>\n",
       "      <td>0</td>\n",
       "    </tr>\n",
       "    <tr>\n",
       "      <th>4</th>\n",
       "      <td>2010-09-05</td>\n",
       "      <td>76.63</td>\n",
       "      <td>2010</td>\n",
       "      <td>9</td>\n",
       "      <td>5</td>\n",
       "      <td>3</td>\n",
       "      <td>248</td>\n",
       "      <td>35</td>\n",
       "      <td>6</td>\n",
       "      <td>0</td>\n",
       "      <td>1</td>\n",
       "      <td>0</td>\n",
       "    </tr>\n",
       "  </tbody>\n",
       "</table>\n",
       "</div>"
      ],
      "text/plain": [
       "         Дата  Значение  year  ...  is_holiday  is_prev_holiday  is_next_holiday\n",
       "0  2010-09-01     76.37  2010  ...           0                0                0\n",
       "1  2010-09-02     76.89  2010  ...           0                0                0\n",
       "2  2010-09-03     76.57  2010  ...           0                0                0\n",
       "3  2010-09-04     76.62  2010  ...           0                0                0\n",
       "4  2010-09-05     76.63  2010  ...           0                1                0\n",
       "\n",
       "[5 rows x 12 columns]"
      ]
     },
     "execution_count": 5,
     "metadata": {
      "tags": []
     },
     "output_type": "execute_result"
    }
   ],
   "source": [
    "df.head()"
   ]
  },
  {
   "cell_type": "markdown",
   "metadata": {
    "id": "iqI543_tn-Nh"
   },
   "source": [
    "Отбросим первый столбец, т.к. признаки [year,\tmonth,\tdayofmonth,\tquarter,\tdayofyear,\tweekofyear,\tdayofweek,\tis_holiday,\tis_prev_holiday,\tis_next_holiday] его представляют"
   ]
  },
  {
   "cell_type": "code",
   "execution_count": 6,
   "metadata": {
    "id": "6cwJqFy2_EYL"
   },
   "outputs": [],
   "source": [
    "data = df.iloc[1500:,1:]  # убираем данные до 2015 года , т.к. сильно изменилось поведение и дату-время, т.к. она дублирована другими признаками"
   ]
  },
  {
   "cell_type": "code",
   "execution_count": 7,
   "metadata": {
    "colab": {
     "base_uri": "https://localhost:8080/"
    },
    "id": "yAtbNYgLD5qz",
    "outputId": "16740ab6-d67a-4366-f09c-a990f5f62427"
   },
   "outputs": [
    {
     "data": {
      "text/plain": [
       "11"
      ]
     },
     "execution_count": 7,
     "metadata": {
      "tags": []
     },
     "output_type": "execute_result"
    }
   ],
   "source": [
    "data.shape[1]"
   ]
  },
  {
   "cell_type": "markdown",
   "metadata": {
    "id": "4914V_ogoUfx"
   },
   "source": [
    "Делаем нормализацию"
   ]
  },
  {
   "cell_type": "code",
   "execution_count": 8,
   "metadata": {
    "id": "ArFEd9l2b8vY"
   },
   "outputs": [],
   "source": [
    "def normalize(data, train_split):\n",
    "    data_mean = data[:train_split].mean(axis=0)\n",
    "    data_std = data[:train_split].std(axis=0)\n",
    "    return (data - data_mean) / data_std"
   ]
  },
  {
   "cell_type": "markdown",
   "metadata": {
    "id": "iipoiOjBobAe"
   },
   "source": [
    "Можно (и нужно заменять на sklearn StandadScaler) т.к. это нужно дополнительно сохранять для обработки реальных данных , но тут сделаем без привлечения внешних модулей"
   ]
  },
  {
   "cell_type": "code",
   "execution_count": 9,
   "metadata": {
    "id": "msyvvpcKcOSg"
   },
   "outputs": [],
   "source": [
    "train_split = 1000\n",
    "data_v =  normalize(data.values, train_split)\n",
    "data_f = pd.DataFrame(data_v)"
   ]
  },
  {
   "cell_type": "markdown",
   "metadata": {
    "id": "9P9FRGLBox8U"
   },
   "source": [
    "Создаем данные для обучения"
   ]
  },
  {
   "cell_type": "code",
   "execution_count": 54,
   "metadata": {
    "id": "PA5Rbu7iZqw5"
   },
   "outputs": [],
   "source": [
    "# список признаков, по которым будем учить\n",
    "channelIndexes = [0,1, 2, 4, 5, 6, 7]\n",
    "\n",
    "# длина теста\n",
    "valLen = 100\n",
    "# длина истории для работы\n",
    "xLen = 3\n",
    "# отступ тестов от тренировок\n",
    "bias = 10\n",
    "\n",
    "# вычисляем точку разделения ряда на тесты и тренировку\n",
    "#train_split = data_f.shape[0] - valLen - bias\n",
    "# делим\n",
    "train_data = data_f.iloc[0 : train_split - 1,channelIndexes]\n",
    "val_data = data_f.iloc[train_split+bias:,channelIndexes]\n",
    "\n"
   ]
  },
  {
   "cell_type": "code",
   "execution_count": 55,
   "metadata": {
    "colab": {
     "base_uri": "https://localhost:8080/",
     "height": 266
    },
    "id": "eXgegTh9bb_m",
    "outputId": "ce1765fd-2bd2-4e7a-f598-84fff31739d3"
   },
   "outputs": [
    {
     "data": {
      "text/html": [
       "<div>\n",
       "<style scoped>\n",
       "    .dataframe tbody tr th:only-of-type {\n",
       "        vertical-align: middle;\n",
       "    }\n",
       "\n",
       "    .dataframe tbody tr th {\n",
       "        vertical-align: top;\n",
       "    }\n",
       "\n",
       "    .dataframe thead th {\n",
       "        text-align: right;\n",
       "    }\n",
       "</style>\n",
       "<table border=\"1\" class=\"dataframe\">\n",
       "  <thead>\n",
       "    <tr style=\"text-align: right;\">\n",
       "      <th></th>\n",
       "      <th>0</th>\n",
       "      <th>1</th>\n",
       "      <th>2</th>\n",
       "      <th>4</th>\n",
       "      <th>5</th>\n",
       "      <th>6</th>\n",
       "      <th>7</th>\n",
       "    </tr>\n",
       "  </thead>\n",
       "  <tbody>\n",
       "    <tr>\n",
       "      <th>0</th>\n",
       "      <td>-0.565289</td>\n",
       "      <td>-1.903377</td>\n",
       "      <td>0.651736</td>\n",
       "      <td>0.383476</td>\n",
       "      <td>0.543890</td>\n",
       "      <td>0.566107</td>\n",
       "      <td>0.853697</td>\n",
       "    </tr>\n",
       "    <tr>\n",
       "      <th>1</th>\n",
       "      <td>-0.643628</td>\n",
       "      <td>-1.903377</td>\n",
       "      <td>0.651736</td>\n",
       "      <td>0.383476</td>\n",
       "      <td>0.571352</td>\n",
       "      <td>0.630008</td>\n",
       "      <td>-1.338080</td>\n",
       "    </tr>\n",
       "    <tr>\n",
       "      <th>2</th>\n",
       "      <td>-0.751345</td>\n",
       "      <td>-1.903377</td>\n",
       "      <td>0.651736</td>\n",
       "      <td>0.383476</td>\n",
       "      <td>0.580506</td>\n",
       "      <td>0.630008</td>\n",
       "      <td>-0.790136</td>\n",
       "    </tr>\n",
       "    <tr>\n",
       "      <th>3</th>\n",
       "      <td>-0.588954</td>\n",
       "      <td>-1.903377</td>\n",
       "      <td>0.651736</td>\n",
       "      <td>0.383476</td>\n",
       "      <td>0.589660</td>\n",
       "      <td>0.630008</td>\n",
       "      <td>-0.242191</td>\n",
       "    </tr>\n",
       "    <tr>\n",
       "      <th>4</th>\n",
       "      <td>-0.810099</td>\n",
       "      <td>-1.903377</td>\n",
       "      <td>0.651736</td>\n",
       "      <td>0.383476</td>\n",
       "      <td>0.598814</td>\n",
       "      <td>0.630008</td>\n",
       "      <td>0.305753</td>\n",
       "    </tr>\n",
       "    <tr>\n",
       "      <th>5</th>\n",
       "      <td>-0.591402</td>\n",
       "      <td>-1.903377</td>\n",
       "      <td>0.651736</td>\n",
       "      <td>0.383476</td>\n",
       "      <td>0.607968</td>\n",
       "      <td>0.630008</td>\n",
       "      <td>0.853697</td>\n",
       "    </tr>\n",
       "    <tr>\n",
       "      <th>6</th>\n",
       "      <td>-0.671373</td>\n",
       "      <td>-1.903377</td>\n",
       "      <td>0.651736</td>\n",
       "      <td>0.383476</td>\n",
       "      <td>0.635431</td>\n",
       "      <td>0.693910</td>\n",
       "      <td>-1.338080</td>\n",
       "    </tr>\n",
       "  </tbody>\n",
       "</table>\n",
       "</div>"
      ],
      "text/plain": [
       "          0         1         2         4         5         6         7\n",
       "0 -0.565289 -1.903377  0.651736  0.383476  0.543890  0.566107  0.853697\n",
       "1 -0.643628 -1.903377  0.651736  0.383476  0.571352  0.630008 -1.338080\n",
       "2 -0.751345 -1.903377  0.651736  0.383476  0.580506  0.630008 -0.790136\n",
       "3 -0.588954 -1.903377  0.651736  0.383476  0.589660  0.630008 -0.242191\n",
       "4 -0.810099 -1.903377  0.651736  0.383476  0.598814  0.630008  0.305753\n",
       "5 -0.591402 -1.903377  0.651736  0.383476  0.607968  0.630008  0.853697\n",
       "6 -0.671373 -1.903377  0.651736  0.383476  0.635431  0.693910 -1.338080"
      ]
     },
     "execution_count": 55,
     "metadata": {
      "tags": []
     },
     "output_type": "execute_result"
    }
   ],
   "source": [
    "train_data.head(7)"
   ]
  },
  {
   "cell_type": "markdown",
   "metadata": {
    "id": "v-SA7Q5ApUBq"
   },
   "source": [
    "Формируем параметры для генерации выборки"
   ]
  },
  {
   "cell_type": "code",
   "execution_count": 57,
   "metadata": {
    "id": "aOvy_z69apsr"
   },
   "outputs": [],
   "source": [
    "# шаг по данным для построения обучающих примеров\n",
    "step = 1\n",
    "\n",
    "# длина прошлого \n",
    "past = xLen\n",
    "p = past\n",
    "# горизонт предсказания\n",
    "future = 1\n",
    "h=future\n",
    "\n",
    "# параметры модели для обучения\n",
    "learning_rate = 0.001\n",
    "batch_size = 32\n",
    "epochs = 10\n"
   ]
  },
  {
   "cell_type": "markdown",
   "metadata": {
    "id": "iahymtOkqZwr"
   },
   "source": [
    "Выделяем части на обучение и проверку"
   ]
  },
  {
   "cell_type": "code",
   "execution_count": 58,
   "metadata": {
    "id": "25s4AHlvYD3g"
   },
   "outputs": [],
   "source": [
    "start = xLen + future\n",
    "end = start + train_split-1\n",
    "\n",
    "xTrain = train_data[[train_data.columns[i] for i in range(7)]].values\n",
    "yTrain = data_f.iloc[start:end,0].values\n",
    "\n",
    "sequence_length = int(xLen / step)\n",
    "\n",
    "\n",
    "x_end = len(val_data) - xLen - future\n",
    "\n",
    "label_start = len(train_data)+bias+xLen + future\n",
    "\n",
    "xVal = val_data.iloc[:x_end+1][[val_data.columns[i] for i in range(7)]].values\n",
    "yVal = data_f.iloc[label_start:,0].values\n"
   ]
  },
  {
   "cell_type": "code",
   "execution_count": 59,
   "metadata": {
    "colab": {
     "base_uri": "https://localhost:8080/"
    },
    "id": "ALCr3lKPc3CR",
    "outputId": "e35044c0-4da1-48fc-fbde-ba95ffa3e043"
   },
   "outputs": [
    {
     "name": "stdout",
     "output_type": "stream",
     "text": [
      "(999, 7)\n",
      "(999,)\n",
      "(154, 7)\n",
      "(154,)\n"
     ]
    }
   ],
   "source": [
    "print(xTrain.shape)\n",
    "\n",
    "print(yTrain.shape)\n",
    "\n",
    "\n",
    "print(xVal.shape)\n",
    "\n",
    "print(yVal.shape)"
   ]
  },
  {
   "cell_type": "markdown",
   "metadata": {
    "id": "nmNpYUg9qfEb"
   },
   "source": [
    "Посмотрим на них"
   ]
  },
  {
   "cell_type": "code",
   "execution_count": 60,
   "metadata": {
    "colab": {
     "base_uri": "https://localhost:8080/",
     "height": 350
    },
    "id": "8KQIT2AfJ87P",
    "outputId": "3105a8c3-d5f9-48f2-f096-6af7d953252a"
   },
   "outputs": [
    {
     "data": {
      "image/png": "[encoded data removed]",
      "text/plain": [
       "<Figure size 720x360 with 1 Axes>"
      ]
     },
     "metadata": {
      "needs_background": "light",
      "tags": []
     },
     "output_type": "display_data"
    }
   ],
   "source": [
    "plt.figure(figsize=(10,5))\n",
    "plt.plot(data_f.index[xLen:yTrain.shape[0]+xLen],yTrain[:])\n",
    "plt.plot(data_f.index[yTrain.shape[0]+xLen+bias+future:],yVal[:])\n",
    "plt.grid('on')\n",
    "plt.xlabel('t, дни')\n",
    "plt.ylabel('$')\n",
    "plt.title('стоимость BRENT в 2010-2018')\n",
    "plt.show()"
   ]
  },
  {
   "cell_type": "markdown",
   "metadata": {
    "id": "WOZwUs8Vqh9r"
   },
   "source": [
    "Используем механизм формирования пакетов для обучения"
   ]
  },
  {
   "cell_type": "code",
   "execution_count": 61,
   "metadata": {
    "id": "VhuQwds5dJh7"
   },
   "outputs": [],
   "source": [
    "dataset_train = keras.preprocessing.timeseries_dataset_from_array(\n",
    "    xTrain,\n",
    "    yTrain,\n",
    "    sequence_length=xLen,\n",
    "    sampling_rate=1,\n",
    "    batch_size=batch_size,\n",
    ")\n",
    "dataset_val = keras.preprocessing.timeseries_dataset_from_array(\n",
    "    xVal,\n",
    "    yVal,\n",
    "    sequence_length=xLen,\n",
    "    sampling_rate=1,\n",
    "    batch_size=batch_size,\n",
    ")\n"
   ]
  },
  {
   "cell_type": "code",
   "execution_count": 62,
   "metadata": {
    "colab": {
     "base_uri": "https://localhost:8080/"
    },
    "id": "BZCByXmRgpVQ",
    "outputId": "5cedddf6-cc5a-47f6-dc5b-3184656de95c"
   },
   "outputs": [
    {
     "name": "stdout",
     "output_type": "stream",
     "text": [
      "Input shape: (32, 3, 7)\n",
      "Target shape: (32,)\n"
     ]
    }
   ],
   "source": [
    "for batch in dataset_train.take(2):\n",
    "    inputs, targets = batch\n",
    "\n",
    "print(\"Input shape:\", inputs.numpy().shape)\n",
    "print(\"Target shape:\", targets.numpy().shape)"
   ]
  },
  {
   "cell_type": "code",
   "execution_count": 63,
   "metadata": {
    "colab": {
     "base_uri": "https://localhost:8080/"
    },
    "id": "9xiFCpgxqsES",
    "outputId": "846bd057-1630-4375-be67-ebb14734ada0"
   },
   "outputs": [
    {
     "data": {
      "text/plain": [
       "<tf.Tensor: shape=(3,), dtype=float64, numpy=array([-0.72931193, -0.70891105, -0.7284959 ])>"
      ]
     },
     "execution_count": 63,
     "metadata": {
      "tags": []
     },
     "output_type": "execute_result"
    }
   ],
   "source": [
    "inputs[2,:,0]"
   ]
  },
  {
   "cell_type": "code",
   "execution_count": 64,
   "metadata": {
    "colab": {
     "base_uri": "https://localhost:8080/"
    },
    "id": "NPeJ6pOirP1X",
    "outputId": "069dca89-d6b4-4454-c1c6-6da1b2bc8ab4"
   },
   "outputs": [
    {
     "data": {
      "text/plain": [
       "<tf.Tensor: shape=(), dtype=float64, numpy=-0.7284958959430199>"
      ]
     },
     "execution_count": 64,
     "metadata": {
      "tags": []
     },
     "output_type": "execute_result"
    }
   ],
   "source": [
    "targets[0]"
   ]
  },
  {
   "cell_type": "markdown",
   "metadata": {
    "id": "qE_vmenqkqCp"
   },
   "source": [
    "**сеть:  LSTM слои+Conv1D +Dense слой.**"
   ]
  },
  {
   "cell_type": "code",
   "execution_count": 94,
   "metadata": {
    "colab": {
     "base_uri": "https://localhost:8080/",
     "height": 625
    },
    "id": "JHXhRpxJg5Fq",
    "outputId": "b034a463-bb80-4bf2-d7b6-0023a4558ad9"
   },
   "outputs": [
    {
     "name": "stdout",
     "output_type": "stream",
     "text": [
      "Epoch 1/10\n",
      "32/32 [==============================] - 1s 28ms/step - loss: 0.9552 - mae: 0.7849 - val_loss: 0.2364 - val_mae: 0.4066\n",
      "Epoch 2/10\n",
      "32/32 [==============================] - 0s 10ms/step - loss: 0.1714 - mae: 0.2915 - val_loss: 0.5347 - val_mae: 0.7037\n",
      "Epoch 3/10\n",
      "32/32 [==============================] - 0s 10ms/step - loss: 0.1230 - mae: 0.2894 - val_loss: 0.2736 - val_mae: 0.4930\n",
      "Epoch 4/10\n",
      "32/32 [==============================] - 0s 12ms/step - loss: 0.1019 - mae: 0.2488 - val_loss: 0.0930 - val_mae: 0.2536\n",
      "Epoch 5/10\n",
      "32/32 [==============================] - 0s 13ms/step - loss: 0.1526 - mae: 0.3074 - val_loss: 0.2246 - val_mae: 0.4405\n",
      "Epoch 6/10\n",
      "32/32 [==============================] - 0s 12ms/step - loss: 0.0617 - mae: 0.2025 - val_loss: 0.0617 - val_mae: 0.1973\n",
      "Epoch 7/10\n",
      "32/32 [==============================] - 0s 10ms/step - loss: 0.0834 - mae: 0.2336 - val_loss: 0.2341 - val_mae: 0.4571\n",
      "Epoch 8/10\n",
      "32/32 [==============================] - 0s 11ms/step - loss: 0.0434 - mae: 0.1685 - val_loss: 0.0480 - val_mae: 0.1705\n",
      "Epoch 9/10\n",
      "32/32 [==============================] - 0s 10ms/step - loss: 0.0527 - mae: 0.1870 - val_loss: 0.1877 - val_mae: 0.4059\n",
      "Epoch 10/10\n",
      "32/32 [==============================] - 0s 10ms/step - loss: 0.0325 - mae: 0.1429 - val_loss: 0.0409 - val_mae: 0.1542\n"
     ]
    },
    {
     "data": {
      "image/png": "[encoded data removed]",
      "text/plain": [
       "<Figure size 432x288 with 1 Axes>"
      ]
     },
     "metadata": {
      "needs_background": "light",
      "tags": []
     },
     "output_type": "display_data"
    }
   ],
   "source": [
    "callback = EarlyStopping(monitor='val_mae', patience=5)\n",
    "\n",
    "model = Sequential()\n",
    "\n",
    "model.add(LSTM(32, input_shape = (inputs.shape[1], inputs.shape[2]), return_sequences=\"True\"))\n",
    "model.add(LSTM(32, return_sequences=\"True\"))\n",
    "model.add(Conv1D(64, 3, activation=\"linear\"))\n",
    "#model.add(Conv1D(64, 1, activation=\"linear\"))\n",
    "model.add(Flatten())\n",
    "model.add(Dense(3, activation=\"linear\"))\n",
    "model.add(Dense(1, activation=\"linear\"))\n",
    "\n",
    "model.compile(loss=\"mse\", optimizer=\"adam\", metrics=['mae'])\n",
    "\n",
    "history = model.fit(\n",
    "    dataset_train,\n",
    "    epochs=epochs,\n",
    "    validation_data=dataset_val,\n",
    "    callbacks=[callback])\n",
    "\n",
    "\n",
    "plt.plot(history.history['mae'][1:], \n",
    "         label='Средняя абсолютная ошибка на обучающем наборе')\n",
    "plt.plot(history.history['val_mae'][1:], \n",
    "         label='Средняя абсолютная ошибка на проверочном наборе')\n",
    "plt.ylabel('Средняя ошибка')\n",
    "plt.legend()\n",
    "plt.show()"
   ]
  },
  {
   "cell_type": "code",
   "execution_count": 95,
   "metadata": {
    "id": "cFOlgPE_SEli"
   },
   "outputs": [],
   "source": [
    "hist_val = history.history['val_mae']\n",
    "hist_train = history.history['mae']"
   ]
  },
  {
   "cell_type": "code",
   "execution_count": 96,
   "metadata": {
    "colab": {
     "base_uri": "https://localhost:8080/",
     "height": 523
    },
    "id": "QGZPB4DySC-g",
    "outputId": "08688383-62b6-4368-9278-0d224ab9a329"
   },
   "outputs": [
    {
     "name": "stdout",
     "output_type": "stream",
     "text": [
      "Epoch 1/10\n",
      "32/32 [==============================] - 0s 10ms/step - loss: 0.0383 - mae: 0.1579 - val_loss: 0.1308 - val_mae: 0.3296\n",
      "Epoch 2/10\n",
      "32/32 [==============================] - 0s 11ms/step - loss: 0.0265 - mae: 0.1275 - val_loss: 0.0408 - val_mae: 0.1524\n",
      "Epoch 3/10\n",
      "32/32 [==============================] - 0s 10ms/step - loss: 0.0301 - mae: 0.1382 - val_loss: 0.0885 - val_mae: 0.2599\n",
      "Epoch 4/10\n",
      "32/32 [==============================] - 0s 10ms/step - loss: 0.0244 - mae: 0.1225 - val_loss: 0.0425 - val_mae: 0.1572\n",
      "Epoch 5/10\n",
      "32/32 [==============================] - 0s 10ms/step - loss: 0.0260 - mae: 0.1274 - val_loss: 0.0642 - val_mae: 0.2112\n",
      "Epoch 6/10\n",
      "32/32 [==============================] - 0s 10ms/step - loss: 0.0238 - mae: 0.1213 - val_loss: 0.0414 - val_mae: 0.1555\n",
      "Epoch 7/10\n",
      "32/32 [==============================] - 0s 10ms/step - loss: 0.0243 - mae: 0.1227 - val_loss: 0.0511 - val_mae: 0.1816\n"
     ]
    },
    {
     "data": {
      "image/png": "[encoded data removed]",
      "text/plain": [
       "<Figure size 432x288 with 1 Axes>"
      ]
     },
     "metadata": {
      "needs_background": "light",
      "tags": []
     },
     "output_type": "display_data"
    }
   ],
   "source": [
    "\n",
    "history = model.fit(\n",
    "    dataset_train,\n",
    "    epochs=epochs,\n",
    "    validation_data=dataset_val,\n",
    "    callbacks=[callback])\n",
    "\n",
    "hist_val.extend(history.history['val_mae'][:])\n",
    "hist_train.extend(history.history['mae'][:])\n",
    "\n",
    "plt.plot(hist_train[1:], \n",
    "         label='Средняя абсолютная ошибка на обучающем наборе')\n",
    "plt.plot(hist_val[1:], \n",
    "         label='Средняя абсолютная ошибка на проверочном наборе')\n",
    "plt.ylabel('Средняя ошибка')\n",
    "plt.legend()\n",
    "plt.show()"
   ]
  },
  {
   "cell_type": "markdown",
   "metadata": {
    "id": "sTVYH8bynCXK"
   },
   "source": [
    "Проверяем результаты:\n",
    "\n",
    "- строим предсказание\n",
    "- рисуем прогноз для тестовой части \n",
    "- рисуем прогноз по тренировочной части"
   ]
  },
  {
   "cell_type": "code",
   "execution_count": 97,
   "metadata": {
    "id": "wuKT4O2WjZiQ"
   },
   "outputs": [],
   "source": [
    "pred = model.predict(dataset_train).flatten()\n",
    "predVal = model.predict(dataset_val).flatten()"
   ]
  },
  {
   "cell_type": "code",
   "execution_count": 98,
   "metadata": {
    "colab": {
     "base_uri": "https://localhost:8080/",
     "height": 334
    },
    "id": "-zt0cYfzllLW",
    "outputId": "b3059922-ae73-49ab-92ec-366958b486b1"
   },
   "outputs": [
    {
     "data": {
      "image/png": "[encoded data removed]",
      "text/plain": [
       "<Figure size 720x360 with 1 Axes>"
      ]
     },
     "metadata": {
      "needs_background": "light",
      "tags": []
     },
     "output_type": "display_data"
    }
   ],
   "source": [
    "start = 0\n",
    "step = 50\n",
    "plt.figure(figsize=(10,5))\n",
    "plt.grid('on')\n",
    "plt.plot(predVal[h+start:h+start+step], \n",
    "         label='Прогноз')\n",
    "plt.plot(yVal.flatten()[start:start+step], \n",
    "         label='Базовый ряд')\n",
    "plt.xlabel('Время')\n",
    "plt.ylabel('Значение ')\n",
    "\n",
    "plt.legend()\n",
    "plt.show()"
   ]
  },
  {
   "cell_type": "code",
   "execution_count": 99,
   "metadata": {
    "colab": {
     "base_uri": "https://localhost:8080/",
     "height": 334
    },
    "id": "O0EVYFpTluiY",
    "outputId": "572efe34-c629-4a02-c080-28bd17f40027"
   },
   "outputs": [
    {
     "data": {
      "image/png": "[encoded data removed]",
      "text/plain": [
       "<Figure size 720x360 with 1 Axes>"
      ]
     },
     "metadata": {
      "needs_background": "light",
      "tags": []
     },
     "output_type": "display_data"
    }
   ],
   "source": [
    "start = 0\n",
    "\n",
    "\n",
    "plt.figure(figsize=(10,5))\n",
    "plt.grid('on')\n",
    "plt.plot(pred[h+start:h+train_split], \n",
    "         label='Прогноз')\n",
    "plt.plot(yTrain.flatten()[start:train_split], \n",
    "         label='Базовый ряд')\n",
    "plt.xlabel('Время')\n",
    "plt.ylabel('Значение Close')\n",
    "plt.legend()\n",
    "plt.show()"
   ]
  },
  {
   "cell_type": "markdown",
   "metadata": {
    "id": "U3gW5SKunYaC"
   },
   "source": [
    "Проверяем качество модели"
   ]
  },
  {
   "cell_type": "code",
   "execution_count": 100,
   "metadata": {
    "id": "0fB0f5GncVkc"
   },
   "outputs": [],
   "source": [
    "def correlate(a, b):\n",
    "  ma = a.mean()\n",
    "  mb = b.mean()\n",
    "  mab = (a*b).mean()\n",
    "  sa = a.std()\n",
    "  sb = b.std()\n",
    "  \n",
    "  val = 0\n",
    "  if ((sa>0) & (sb>0)):\n",
    "    val = (mab-ma*mb)/(sa*sb)\n",
    "  return val"
   ]
  },
  {
   "cell_type": "code",
   "execution_count": 101,
   "metadata": {
    "colab": {
     "base_uri": "https://localhost:8080/",
     "height": 283
    },
    "id": "HbW-tefen8Qz",
    "outputId": "269f0ec5-f4f9-421c-d323-a4ba8b005658"
   },
   "outputs": [
    {
     "data": {
      "image/png": "[encoded data removed]",
      "text/plain": [
       "<Figure size 432x288 with 1 Axes>"
      ]
     },
     "metadata": {
      "needs_background": "light",
      "tags": []
     },
     "output_type": "display_data"
    }
   ],
   "source": [
    "corr = []\n",
    "start = 0\n",
    "step = 50\n",
    "yLen = yVal.shape[0]\n",
    "yValF = yVal[start:start+step].flatten()\n",
    "yPredVal = predVal[h+start:start+step+h]\n",
    "for i in range(1,20):\n",
    "  corr.append(correlate(yValF[:-i], yPredVal[i:]))\n",
    "  \n",
    "plt.plot(corr, \n",
    "         label='Корреляция')\n",
    "plt.xlabel('Время')\n",
    "plt.ylabel('Значение Close')\n",
    "plt.legend()\n",
    "plt.show()"
   ]
  },
  {
   "cell_type": "code",
   "execution_count": 102,
   "metadata": {
    "colab": {
     "base_uri": "https://localhost:8080/"
    },
    "id": "KoN78Mzzzbke",
    "outputId": "d35dced2-b7e2-4a40-fc25-ab3642569e32"
   },
   "outputs": [
    {
     "data": {
      "text/plain": [
       "[0.9828644933252331,\n",
       " 0.9868174234469993,\n",
       " 0.9423891587853068,\n",
       " 0.8973095971543429,\n",
       " 0.8673340976819337,\n",
       " 0.8607605290594865,\n",
       " 0.8576999820538239,\n",
       " 0.8570509233341876,\n",
       " 0.8446765669338733,\n",
       " 0.8400371043549801,\n",
       " 0.8324413750434922,\n",
       " 0.8289493180564543,\n",
       " 0.8207210966862436,\n",
       " 0.8048880293203216,\n",
       " 0.7721623017019507,\n",
       " 0.74006575070079,\n",
       " 0.7260483622123157,\n",
       " 0.7164868262996299,\n",
       " 0.7067367419219448]"
      ]
     },
     "execution_count": 102,
     "metadata": {
      "tags": []
     },
     "output_type": "execute_result"
    }
   ],
   "source": [
    "corr"
   ]
  },
  {
   "cell_type": "markdown",
   "metadata": {
    "id": "tteRbKLancoq"
   },
   "source": [
    "есть запаздывание"
   ]
  },
  {
   "cell_type": "code",
   "execution_count": null,
   "metadata": {
    "id": "uZUNXcHBlBAG"
   },
   "outputs": [],
   "source": []
  }
 ],
 "metadata": {
  "accelerator": "GPU",
  "colab": {
   "collapsed_sections": [],
   "name": "Временные_ряды_.ipynb",
   "provenance": []
  },
  "kernelspec": {
   "display_name": "Python 3",
   "language": "python",
   "name": "python3"
  },
  "language_info": {
   "codemirror_mode": {
    "name": "ipython",
    "version": 3
   },
   "file_extension": ".py",
   "mimetype": "text/x-python",
   "name": "python",
   "nbconvert_exporter": "python",
   "pygments_lexer": "ipython3",
   "version": "3.8.5"
  }
 },
 "nbformat": 4,
 "nbformat_minor": 1
}
