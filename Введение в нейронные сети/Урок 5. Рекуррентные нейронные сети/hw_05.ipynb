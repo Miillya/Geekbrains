{
 "cells": [
  {
   "cell_type": "markdown",
   "metadata": {
    "id": "Sb86n-BbXM1N"
   },
   "source": [
    "# Введение в искусственные нейронные сети\n",
    "# Урок 5. Рекуррентные нейронные сети\n",
    "## Практическое задание\n",
    "\n",
    "<ol>\n",
    "    <li>Попробуйте обучить нейронную сеть LSTM на любом другом датасете (любимый временной ряд, текст на русском (другом языке) как генератор или классификатор, или прилагаемый набор airline-passengers - пасажиропоток для авиалиний). Опишите, какой результата вы получили? Что помогло вам улучшить ее точность?\n",
    "\n",
    "    \n",
    "<li>*Попробуйте на numpy реализовать нейронную сеть архитектуры LSTM</li>\n",
    "<li>*Предложите свои варианты решения проблемы исчезающего градиента в RNN</li>\n",
    "</ol>"
   ]
  },
  {
   "cell_type": "markdown",
   "metadata": {
    "id": "5OJ2rB_3ZZHS"
   },
   "source": [
    "### Подключение библиотек и скриптов"
   ]
  },
  {
   "cell_type": "code",
   "execution_count": 1,
   "metadata": {
    "colab": {
     "base_uri": "https://localhost:8080/",
     "height": 17
    },
    "executionInfo": {
     "elapsed": 719,
     "status": "ok",
     "timestamp": 1607578596191,
     "user": {
      "displayName": "Alexey Tankov",
      "photoUrl": "",
      "userId": "01729535101672247421"
     },
     "user_tz": -180
    },
    "id": "R4vGeKsxcz9D",
    "outputId": "691d89bf-ee3d-4024-9021-d29962fd93c6"
   },
   "outputs": [
    {
     "data": {
      "text/html": [
       "<style>.container { width:72.5% !important; }</style>"
      ],
      "text/plain": [
       "<IPython.core.display.HTML object>"
      ]
     },
     "metadata": {},
     "output_type": "display_data"
    }
   ],
   "source": [
    "from IPython.core.display import display, HTML, Image\n",
    "display(HTML(\"<style>.container { width:72.5% !important; }</style>\"))"
   ]
  },
  {
   "cell_type": "code",
   "execution_count": 2,
   "metadata": {
    "executionInfo": {
     "elapsed": 2863,
     "status": "ok",
     "timestamp": 1607578598343,
     "user": {
      "displayName": "Alexey Tankov",
      "photoUrl": "",
      "userId": "01729535101672247421"
     },
     "user_tz": -180
    },
    "id": "lJUcpE49XB6u"
   },
   "outputs": [
    {
     "name": "stderr",
     "output_type": "stream",
     "text": [
      "C:\\Users\\Admin\\anaconda3\\lib\\site-packages\\numpy\\_distributor_init.py:32: UserWarning: loaded more than 1 DLL from .libs:\n",
      "C:\\Users\\Admin\\anaconda3\\lib\\site-packages\\numpy\\.libs\\libopenblas.NOIJJG62EMASZI6NYURL6JBKM4EVBGM7.gfortran-win_amd64.dll\n",
      "C:\\Users\\Admin\\anaconda3\\lib\\site-packages\\numpy\\.libs\\libopenblas.PYQHXLVVQ7VESDPUVUADXEVJOBGHJPAY.gfortran-win_amd64.dll\n",
      "  stacklevel=1)\n"
     ]
    }
   ],
   "source": [
    "import tensorflow as tf\n",
    "from tensorflow.keras.models import Sequential\n",
    "from tensorflow.keras.layers import Dense, LSTM\n",
    "from sklearn.preprocessing import MinMaxScaler\n",
    "from sklearn.metrics import mean_squared_error\n",
    "\n",
    "import math\n",
    "import numpy as np\n",
    "import pandas as pd\n",
    "import seaborn as sns\n",
    "import matplotlib.pyplot as plt\n",
    "%matplotlib inline"
   ]
  },
  {
   "cell_type": "code",
   "execution_count": 3,
   "metadata": {
    "executionInfo": {
     "elapsed": 2859,
     "status": "ok",
     "timestamp": 1607578598344,
     "user": {
      "displayName": "Alexey Tankov",
      "photoUrl": "",
      "userId": "01729535101672247421"
     },
     "user_tz": -180
    },
    "id": "rgkw7y-qZhNB"
   },
   "outputs": [],
   "source": [
    "plt.rcParams.update({'font.size': 14})\n",
    "pd.set_option('precision', 3)\n",
    "pd.set_option('max_columns', 100)\n",
    "pd.set_option('display.float_format', lambda x: '%.5f' % x)\n",
    "pd.set_option('display.max_columns', 500)\n",
    "pd.set_option('display.max_rows', 500)\n",
    "pd.set_option('max_colwidth', 300)"
   ]
  },
  {
   "cell_type": "markdown",
   "metadata": {
    "id": "JY65nURbIuJ_"
   },
   "source": [
    "### Tensorflow with TPU"
   ]
  },
  {
   "cell_type": "code",
   "execution_count": 4,
   "metadata": {
    "executionInfo": {
     "elapsed": 1334,
     "status": "ok",
     "timestamp": 1607578602540,
     "user": {
      "displayName": "Alexey Tankov",
      "photoUrl": "",
      "userId": "01729535101672247421"
     },
     "user_tz": -180
    },
    "id": "PRYczDfyiTv8"
   },
   "outputs": [],
   "source": [
    "# import os\n",
    "\n",
    "# resolver = tf.distribute.cluster_resolver.TPUClusterResolver(tpu='grpc://' + os.environ['COLAB_TPU_ADDR'])\n",
    "# tf.config.experimental_connect_to_cluster(resolver)\n",
    "# # This is the TPU initialization code that has to be at the beginning.\n",
    "# tf.tpu.experimental.initialize_tpu_system(resolver)\n",
    "# print(\"All devices: \", tf.config.list_logical_devices('TPU'))"
   ]
  },
  {
   "cell_type": "markdown",
   "metadata": {
    "id": "gCp6y6u4Ir0X"
   },
   "source": [
    "### Tensorflow with GPU"
   ]
  },
  {
   "cell_type": "code",
   "execution_count": 5,
   "metadata": {
    "colab": {
     "base_uri": "https://localhost:8080/"
    },
    "executionInfo": {
     "elapsed": 15938,
     "status": "ok",
     "timestamp": 1607578628815,
     "user": {
      "displayName": "Alexey Tankov",
      "photoUrl": "",
      "userId": "01729535101672247421"
     },
     "user_tz": -180
    },
    "id": "1WUecZjMIoJk",
    "outputId": "6e8048dc-95be-444d-8e9a-56a4d5fcdb3f"
   },
   "outputs": [],
   "source": [
    "# %tensorflow_version 2.x\n",
    "# import timeit\n",
    "\n",
    "# device_name = tf.test.gpu_device_name()\n",
    "# if device_name != '/device:GPU:0':\n",
    "#     print(\n",
    "#       '\\n\\nThis error most likely means that this notebook is not '\n",
    "#       'configured to use a GPU.  Change this in Notebook Settings via the '\n",
    "#       'command palette (cmd/ctrl-shift-P) or the Edit menu.\\n\\n')\n",
    "#     raise SystemError('GPU device not found')\n",
    "\n",
    "# def cpu():\n",
    "#     with tf.device('/cpu:0'):\n",
    "#         random_image_cpu = tf.random.normal((100, 100, 100, 3))\n",
    "#         net_cpu = tf.keras.layers.Conv2D(32, 7)(random_image_cpu)\n",
    "#         return tf.math.reduce_sum(net_cpu)\n",
    "\n",
    "# def gpu():\n",
    "#     with tf.device('/device:GPU:0'):\n",
    "#         random_image_gpu = tf.random.normal((100, 100, 100, 3))\n",
    "#         net_gpu = tf.keras.layers.Conv2D(32, 7)(random_image_gpu)\n",
    "#         return tf.math.reduce_sum(net_gpu)\n",
    "  \n",
    "# # We run each op once to warm up; see: https://stackoverflow.com/a/45067900\n",
    "# cpu()\n",
    "# gpu()\n",
    "\n",
    "# # Run the op several times.\n",
    "# print('Time (s) to convolve 32x7x7x3 filter over random 100x100x100x3 images '\n",
    "#       '(batch x height x width x channel). Sum of ten runs.')\n",
    "# print('CPU (s):')\n",
    "# cpu_time = timeit.timeit('cpu()', number=10, setup=\"from __main__ import cpu\")\n",
    "# print(cpu_time)\n",
    "# print('GPU (s):')\n",
    "# gpu_time = timeit.timeit('gpu()', number=10, setup=\"from __main__ import gpu\")\n",
    "# print(gpu_time)\n",
    "# print('GPU speedup over CPU: {}x'.format(int(cpu_time/gpu_time)))"
   ]
  },
  {
   "cell_type": "markdown",
   "metadata": {
    "id": "_kqapiAAZebg"
   },
   "source": [
    "### Загрузка данных"
   ]
  },
  {
   "cell_type": "code",
   "execution_count": 197,
   "metadata": {
    "colab": {
     "base_uri": "https://localhost:8080/"
    },
    "executionInfo": {
     "elapsed": 6428,
     "status": "ok",
     "timestamp": 1607578601926,
     "user": {
      "displayName": "Alexey Tankov",
      "photoUrl": "",
      "userId": "01729535101672247421"
     },
     "user_tz": -180
    },
    "id": "uPKTtjpxX2lF",
    "outputId": "200c6416-c93b-41ad-f386-06cfc2f9de2c"
   },
   "outputs": [],
   "source": [
    "data = pd.read_csv('airline-passengers.csv', skipfooter = 5, engine='python')"
   ]
  },
  {
   "cell_type": "markdown",
   "metadata": {
    "id": "qKlir071gOo8"
   },
   "source": [
    "### Изучение датасета"
   ]
  },
  {
   "cell_type": "code",
   "execution_count": 198,
   "metadata": {
    "colab": {
     "base_uri": "https://localhost:8080/"
    },
    "executionInfo": {
     "elapsed": 6420,
     "status": "ok",
     "timestamp": 1607578601930,
     "user": {
      "displayName": "Alexey Tankov",
      "photoUrl": "",
      "userId": "01729535101672247421"
     },
     "user_tz": -180
    },
    "id": "HTDALf5hgPjD",
    "outputId": "8131b6be-cea2-4ba1-d1e2-6266d2979ae8"
   },
   "outputs": [
    {
     "data": {
      "text/html": [
       "<div>\n",
       "<style scoped>\n",
       "    .dataframe tbody tr th:only-of-type {\n",
       "        vertical-align: middle;\n",
       "    }\n",
       "\n",
       "    .dataframe tbody tr th {\n",
       "        vertical-align: top;\n",
       "    }\n",
       "\n",
       "    .dataframe thead th {\n",
       "        text-align: right;\n",
       "    }\n",
       "</style>\n",
       "<table border=\"1\" class=\"dataframe\">\n",
       "  <thead>\n",
       "    <tr style=\"text-align: right;\">\n",
       "      <th></th>\n",
       "      <th>Month</th>\n",
       "      <th>Passengers</th>\n",
       "    </tr>\n",
       "  </thead>\n",
       "  <tbody>\n",
       "    <tr>\n",
       "      <th>0</th>\n",
       "      <td>1949-01</td>\n",
       "      <td>112</td>\n",
       "    </tr>\n",
       "    <tr>\n",
       "      <th>1</th>\n",
       "      <td>1949-02</td>\n",
       "      <td>118</td>\n",
       "    </tr>\n",
       "    <tr>\n",
       "      <th>2</th>\n",
       "      <td>1949-03</td>\n",
       "      <td>132</td>\n",
       "    </tr>\n",
       "    <tr>\n",
       "      <th>3</th>\n",
       "      <td>1949-04</td>\n",
       "      <td>129</td>\n",
       "    </tr>\n",
       "    <tr>\n",
       "      <th>4</th>\n",
       "      <td>1949-05</td>\n",
       "      <td>121</td>\n",
       "    </tr>\n",
       "  </tbody>\n",
       "</table>\n",
       "</div>"
      ],
      "text/plain": [
       "     Month  Passengers\n",
       "0  1949-01         112\n",
       "1  1949-02         118\n",
       "2  1949-03         132\n",
       "3  1949-04         129\n",
       "4  1949-05         121"
      ]
     },
     "execution_count": 198,
     "metadata": {},
     "output_type": "execute_result"
    }
   ],
   "source": [
    "data.head()"
   ]
  },
  {
   "cell_type": "code",
   "execution_count": 199,
   "metadata": {
    "colab": {
     "base_uri": "https://localhost:8080/"
    },
    "executionInfo": {
     "elapsed": 6408,
     "status": "ok",
     "timestamp": 1607578601931,
     "user": {
      "displayName": "Alexey Tankov",
      "photoUrl": "",
      "userId": "01729535101672247421"
     },
     "user_tz": -180
    },
    "id": "S2KCYcgpgWli",
    "outputId": "40a8bbfb-91d3-420f-9ca8-e031a824264f"
   },
   "outputs": [
    {
     "data": {
      "text/html": [
       "<div>\n",
       "<style scoped>\n",
       "    .dataframe tbody tr th:only-of-type {\n",
       "        vertical-align: middle;\n",
       "    }\n",
       "\n",
       "    .dataframe tbody tr th {\n",
       "        vertical-align: top;\n",
       "    }\n",
       "\n",
       "    .dataframe thead th {\n",
       "        text-align: right;\n",
       "    }\n",
       "</style>\n",
       "<table border=\"1\" class=\"dataframe\">\n",
       "  <thead>\n",
       "    <tr style=\"text-align: right;\">\n",
       "      <th></th>\n",
       "      <th>Month</th>\n",
       "      <th>Passengers</th>\n",
       "    </tr>\n",
       "  </thead>\n",
       "  <tbody>\n",
       "    <tr>\n",
       "      <th>134</th>\n",
       "      <td>1960-03</td>\n",
       "      <td>419</td>\n",
       "    </tr>\n",
       "    <tr>\n",
       "      <th>135</th>\n",
       "      <td>1960-04</td>\n",
       "      <td>461</td>\n",
       "    </tr>\n",
       "    <tr>\n",
       "      <th>136</th>\n",
       "      <td>1960-05</td>\n",
       "      <td>472</td>\n",
       "    </tr>\n",
       "    <tr>\n",
       "      <th>137</th>\n",
       "      <td>1960-06</td>\n",
       "      <td>535</td>\n",
       "    </tr>\n",
       "    <tr>\n",
       "      <th>138</th>\n",
       "      <td>1960-07</td>\n",
       "      <td>622</td>\n",
       "    </tr>\n",
       "  </tbody>\n",
       "</table>\n",
       "</div>"
      ],
      "text/plain": [
       "       Month  Passengers\n",
       "134  1960-03         419\n",
       "135  1960-04         461\n",
       "136  1960-05         472\n",
       "137  1960-06         535\n",
       "138  1960-07         622"
      ]
     },
     "execution_count": 199,
     "metadata": {},
     "output_type": "execute_result"
    }
   ],
   "source": [
    "data.tail()"
   ]
  },
  {
   "cell_type": "code",
   "execution_count": 200,
   "metadata": {
    "colab": {
     "base_uri": "https://localhost:8080/"
    },
    "executionInfo": {
     "elapsed": 6395,
     "status": "ok",
     "timestamp": 1607578601932,
     "user": {
      "displayName": "Alexey Tankov",
      "photoUrl": "",
      "userId": "01729535101672247421"
     },
     "user_tz": -180
    },
    "id": "00hcsRy8cz9I",
    "outputId": "f70ee446-edd7-4936-d152-045729db9496"
   },
   "outputs": [
    {
     "data": {
      "text/plain": [
       "(139, 2)"
      ]
     },
     "execution_count": 200,
     "metadata": {},
     "output_type": "execute_result"
    }
   ],
   "source": [
    "data.shape"
   ]
  },
  {
   "cell_type": "code",
   "execution_count": 201,
   "metadata": {},
   "outputs": [
    {
     "data": {
      "image/png": "[encoded data removed]",
      "text/plain": [
       "<Figure size 432x288 with 1 Axes>"
      ]
     },
     "metadata": {
      "needs_background": "light"
     },
     "output_type": "display_data"
    }
   ],
   "source": [
    "dataset = data.iloc[:,1].values\n",
    "plt.plot(dataset)\n",
    "plt.xlabel('Month')\n",
    "plt.ylabel('Passengers')\n",
    "plt.title('Airline passengers')\n",
    "plt.show()"
   ]
  },
  {
   "cell_type": "markdown",
   "metadata": {
    "id": "ZNJrp85BpXYG"
   },
   "source": [
    "### Построение модели"
   ]
  },
  {
   "cell_type": "code",
   "execution_count": 202,
   "metadata": {
    "executionInfo": {
     "elapsed": 6652,
     "status": "ok",
     "timestamp": 1607578602229,
     "user": {
      "displayName": "Alexey Tankov",
      "photoUrl": "",
      "userId": "01729535101672247421"
     },
     "user_tz": -180
    },
    "id": "BfOFbKjTVAL_"
   },
   "outputs": [
    {
     "data": {
      "text/plain": [
       "(139, 1)"
      ]
     },
     "execution_count": 202,
     "metadata": {},
     "output_type": "execute_result"
    }
   ],
   "source": [
    "# Preprocessing\n",
    "dataset = dataset.reshape(-1, 1)\n",
    "dataset = dataset.astype('float32')\n",
    "dataset.shape"
   ]
  },
  {
   "cell_type": "code",
   "execution_count": 203,
   "metadata": {
    "executionInfo": {
     "elapsed": 5573,
     "status": "ok",
     "timestamp": 1607578602539,
     "user": {
      "displayName": "Alexey Tankov",
      "photoUrl": "",
      "userId": "01729535101672247421"
     },
     "user_tz": -180
    },
    "id": "_IbFsLilcz9K"
   },
   "outputs": [],
   "source": [
    "scaler = MinMaxScaler()\n",
    "dataset = scaler.fit_transform(dataset)"
   ]
  },
  {
   "cell_type": "code",
   "execution_count": 204,
   "metadata": {},
   "outputs": [
    {
     "name": "stdout",
     "output_type": "stream",
     "text": [
      "75 64\n"
     ]
    }
   ],
   "source": [
    "train_size = int(len(dataset)*0.54)\n",
    "test_size = len(dataset) - train_size\n",
    "train = dataset[0:train_size,:]\n",
    "test = dataset[train_size:len(dataset),:]\n",
    "print(len(train),len(test))"
   ]
  },
  {
   "cell_type": "code",
   "execution_count": 205,
   "metadata": {},
   "outputs": [],
   "source": [
    "# X_train, X_test, y_train, y_test = train_test_split(X, y)\n",
    "time_temp = 10\n",
    "X_temp = []\n",
    "Y_temp = []\n",
    "for i in range(len(train)-time_temp-1):\n",
    "    a = train[i:(i+time_temp), 0]\n",
    "    X_temp.append(a)\n",
    "    Y_temp.append(train[i + time_temp, 0])\n",
    "X_train = np.array(X_temp)\n",
    "y_train = np.array(Y_temp)  "
   ]
  },
  {
   "cell_type": "code",
   "execution_count": 206,
   "metadata": {},
   "outputs": [],
   "source": [
    "X_temp = []\n",
    "Y_temp = []\n",
    "for i in range(len(test)-time_temp-1):\n",
    "    a = test[i:(i+time_temp), 0]\n",
    "    X_temp.append(a)\n",
    "    Y_temp.append(test[i + time_temp, 0])\n",
    "X_test = np.array(X_temp)\n",
    "y_test = np.array(Y_temp)  "
   ]
  },
  {
   "cell_type": "code",
   "execution_count": 207,
   "metadata": {},
   "outputs": [],
   "source": [
    "X_train = np.reshape(X_train, (X_train.shape[0], 1, X_train.shape[1]))\n",
    "X_test = np.reshape(X_test, (X_test.shape[0], 1, X_test.shape[1]))"
   ]
  },
  {
   "cell_type": "markdown",
   "metadata": {
    "id": "fzfu4h3xXon8"
   },
   "source": [
    "### Model"
   ]
  },
  {
   "cell_type": "code",
   "execution_count": 208,
   "metadata": {
    "executionInfo": {
     "elapsed": 637,
     "status": "ok",
     "timestamp": 1607578640991,
     "user": {
      "displayName": "Alexey Tankov",
      "photoUrl": "",
      "userId": "01729535101672247421"
     },
     "user_tz": -180
    },
    "id": "MX3kn5LPVNj5"
   },
   "outputs": [],
   "source": [
    "model = Sequential([\n",
    "    LSTM(15, input_shape=(1,time_temp)),\n",
    "    Dense(1)\n",
    "])"
   ]
  },
  {
   "cell_type": "code",
   "execution_count": 209,
   "metadata": {
    "executionInfo": {
     "elapsed": 495,
     "status": "ok",
     "timestamp": 1607578641263,
     "user": {
      "displayName": "Alexey Tankov",
      "photoUrl": "",
      "userId": "01729535101672247421"
     },
     "user_tz": -180
    },
    "id": "cVDNh23JVhbE"
   },
   "outputs": [],
   "source": [
    "model.compile(optimizer='adam', loss='mean_squared_error')"
   ]
  },
  {
   "cell_type": "code",
   "execution_count": 210,
   "metadata": {
    "colab": {
     "base_uri": "https://localhost:8080/"
    },
    "executionInfo": {
     "elapsed": 112350,
     "status": "ok",
     "timestamp": 1607578753502,
     "user": {
      "displayName": "Alexey Tankov",
      "photoUrl": "",
      "userId": "01729535101672247421"
     },
     "user_tz": -180
    },
    "id": "SYHfjCa2VzSr",
    "outputId": "8544aae5-6955-4e2d-857c-395d3f53d259"
   },
   "outputs": [
    {
     "name": "stdout",
     "output_type": "stream",
     "text": [
      "Epoch 1/50\n",
      "64/64 [==============================] - 0s 2ms/step - loss: 0.0151\n",
      "Epoch 2/50\n",
      "64/64 [==============================] - 0s 2ms/step - loss: 0.0040\n",
      "Epoch 3/50\n",
      "64/64 [==============================] - 0s 2ms/step - loss: 0.0039\n",
      "Epoch 4/50\n",
      "64/64 [==============================] - 0s 2ms/step - loss: 0.0035\n",
      "Epoch 5/50\n",
      "64/64 [==============================] - 0s 2ms/step - loss: 0.0034\n",
      "Epoch 6/50\n",
      "64/64 [==============================] - 0s 2ms/step - loss: 0.0033\n",
      "Epoch 7/50\n",
      "64/64 [==============================] - 0s 2ms/step - loss: 0.0032\n",
      "Epoch 8/50\n",
      "64/64 [==============================] - 0s 2ms/step - loss: 0.0029\n",
      "Epoch 9/50\n",
      "64/64 [==============================] - 0s 2ms/step - loss: 0.0029\n",
      "Epoch 10/50\n",
      "64/64 [==============================] - 0s 2ms/step - loss: 0.0029\n",
      "Epoch 11/50\n",
      "64/64 [==============================] - 0s 2ms/step - loss: 0.0028\n",
      "Epoch 12/50\n",
      "64/64 [==============================] - 0s 2ms/step - loss: 0.0024\n",
      "Epoch 13/50\n",
      "64/64 [==============================] - 0s 2ms/step - loss: 0.0025\n",
      "Epoch 14/50\n",
      "64/64 [==============================] - 0s 2ms/step - loss: 0.0025\n",
      "Epoch 15/50\n",
      "64/64 [==============================] - 0s 2ms/step - loss: 0.0024\n",
      "Epoch 16/50\n",
      "64/64 [==============================] - 0s 2ms/step - loss: 0.0022\n",
      "Epoch 17/50\n",
      "64/64 [==============================] - 0s 1ms/step - loss: 0.0021\n",
      "Epoch 18/50\n",
      "64/64 [==============================] - 0s 2ms/step - loss: 0.0021\n",
      "Epoch 19/50\n",
      "64/64 [==============================] - 0s 2ms/step - loss: 0.0021\n",
      "Epoch 20/50\n",
      "64/64 [==============================] - 0s 2ms/step - loss: 0.0019\n",
      "Epoch 21/50\n",
      "64/64 [==============================] - 0s 2ms/step - loss: 0.0018\n",
      "Epoch 22/50\n",
      "64/64 [==============================] - 0s 2ms/step - loss: 0.0018\n",
      "Epoch 23/50\n",
      "64/64 [==============================] - 0s 2ms/step - loss: 0.0017\n",
      "Epoch 24/50\n",
      "64/64 [==============================] - 0s 2ms/step - loss: 0.0016\n",
      "Epoch 25/50\n",
      "64/64 [==============================] - 0s 2ms/step - loss: 0.0016\n",
      "Epoch 26/50\n",
      "64/64 [==============================] - 0s 2ms/step - loss: 0.0016\n",
      "Epoch 27/50\n",
      "64/64 [==============================] - 0s 2ms/step - loss: 0.0013\n",
      "Epoch 28/50\n",
      "64/64 [==============================] - 0s 2ms/step - loss: 0.0015\n",
      "Epoch 29/50\n",
      "64/64 [==============================] - 0s 2ms/step - loss: 0.0015\n",
      "Epoch 30/50\n",
      "64/64 [==============================] - 0s 2ms/step - loss: 0.0015\n",
      "Epoch 31/50\n",
      "64/64 [==============================] - 0s 2ms/step - loss: 0.0015\n",
      "Epoch 32/50\n",
      "64/64 [==============================] - 0s 2ms/step - loss: 0.0014\n",
      "Epoch 33/50\n",
      "64/64 [==============================] - 0s 2ms/step - loss: 0.0014\n",
      "Epoch 34/50\n",
      "64/64 [==============================] - 0s 2ms/step - loss: 0.0015\n",
      "Epoch 35/50\n",
      "64/64 [==============================] - 0s 2ms/step - loss: 0.0012\n",
      "Epoch 36/50\n",
      "64/64 [==============================] - 0s 2ms/step - loss: 0.0015\n",
      "Epoch 37/50\n",
      "64/64 [==============================] - 0s 2ms/step - loss: 0.0013\n",
      "Epoch 38/50\n",
      "64/64 [==============================] - 0s 2ms/step - loss: 0.0012\n",
      "Epoch 39/50\n",
      "64/64 [==============================] - 0s 2ms/step - loss: 0.0013\n",
      "Epoch 40/50\n",
      "64/64 [==============================] - 0s 2ms/step - loss: 0.0012\n",
      "Epoch 41/50\n",
      "64/64 [==============================] - 0s 2ms/step - loss: 0.0014\n",
      "Epoch 42/50\n",
      "64/64 [==============================] - 0s 2ms/step - loss: 0.0012\n",
      "Epoch 43/50\n",
      "64/64 [==============================] - 0s 2ms/step - loss: 0.0012\n",
      "Epoch 44/50\n",
      "64/64 [==============================] - 0s 2ms/step - loss: 0.0012\n",
      "Epoch 45/50\n",
      "64/64 [==============================] - 0s 2ms/step - loss: 0.0011\n",
      "Epoch 46/50\n",
      "64/64 [==============================] - 0s 2ms/step - loss: 0.0012\n",
      "Epoch 47/50\n",
      "64/64 [==============================] - 0s 2ms/step - loss: 0.0012\n",
      "Epoch 48/50\n",
      "64/64 [==============================] - 0s 2ms/step - loss: 0.0013\n",
      "Epoch 49/50\n",
      "64/64 [==============================] - 0s 2ms/step - loss: 0.0012\n",
      "Epoch 50/50\n",
      "64/64 [==============================] - 0s 2ms/step - loss: 0.0012\n",
      "Wall time: 6.88 s\n"
     ]
    },
    {
     "data": {
      "text/plain": [
       "<tensorflow.python.keras.callbacks.History at 0x213149bfe08>"
      ]
     },
     "execution_count": 210,
     "metadata": {},
     "output_type": "execute_result"
    }
   ],
   "source": [
    "%%time\n",
    "model.fit(X_train, y_train, epochs=50, batch_size=1)"
   ]
  },
  {
   "cell_type": "code",
   "execution_count": 211,
   "metadata": {
    "executionInfo": {
     "elapsed": 115698,
     "status": "ok",
     "timestamp": 1607578757506,
     "user": {
      "displayName": "Alexey Tankov",
      "photoUrl": "",
      "userId": "01729535101672247421"
     },
     "user_tz": -180
    },
    "id": "Tv-_i445bZwK"
   },
   "outputs": [
    {
     "name": "stdout",
     "output_type": "stream",
     "text": [
      "Train Score: 16.92 RMSE\n",
      "Test Score: 36.84 RMSE\n"
     ]
    }
   ],
   "source": [
    "trainPredict = model.predict(X_train)\n",
    "testPredict = model.predict(X_test)\n",
    "\n",
    "trainPredict = scaler.inverse_transform(trainPredict)\n",
    "y_train = scaler.inverse_transform([y_train])\n",
    "testPredict = scaler.inverse_transform(testPredict)\n",
    "y_test = scaler.inverse_transform([y_test])\n",
    "\n",
    "trainScore = math.sqrt(mean_squared_error(y_train[0], trainPredict[:,0]))\n",
    "print('Train Score: %.2f RMSE' % (trainScore))\n",
    "testScore = math.sqrt(mean_squared_error(y_test[0], testPredict[:,0]))\n",
    "print('Test Score: %.2f RMSE' % (testScore))"
   ]
  },
  {
   "cell_type": "code",
   "execution_count": 215,
   "metadata": {
    "colab": {
     "base_uri": "https://localhost:8080/"
    },
    "executionInfo": {
     "elapsed": 114708,
     "status": "ok",
     "timestamp": 1607578757509,
     "user": {
      "displayName": "Alexey Tankov",
      "photoUrl": "",
      "userId": "01729535101672247421"
     },
     "user_tz": -180
    },
    "id": "uiG4iN54bfRP",
    "outputId": "541c105b-c0a7-48e4-b71e-794924478e7e"
   },
   "outputs": [
    {
     "data": {
      "image/png": "[encoded data removed]",
      "text/plain": [
       "<Figure size 864x576 with 1 Axes>"
      ]
     },
     "metadata": {
      "needs_background": "light"
     },
     "output_type": "display_data"
    }
   ],
   "source": [
    "trainPredictPlot = np.empty_like(dataset)\n",
    "trainPredictPlot[:, :] = np.nan\n",
    "trainPredictPlot[time_temp:len(trainPredict)+time_temp, :] = trainPredict\n",
    "\n",
    "testPredictPlot = np.empty_like(dataset)\n",
    "testPredictPlot[:, :] = np.nan\n",
    "testPredictPlot[len(trainPredict)+(time_temp*2)+1:len(dataset)-1, :] = testPredict\n",
    "\n",
    "plt.figure(figsize = (12, 8))\n",
    "plt.plot(scaler.inverse_transform(dataset), label = 'True Values', color='#336633')\n",
    "plt.plot(trainPredictPlot, label='Train Prediction', color='#111d5e')\n",
    "plt.plot(testPredictPlot, label = 'Test Prediction', color='#CC0033')\n",
    "plt.xlabel('Month')\n",
    "plt.ylabel('Passengers')\n",
    "plt.title('Airline passengers')\n",
    "plt.legend()\n",
    "plt.savefig(fname = 'Results')\n",
    "plt.show()"
   ]
  },
  {
   "cell_type": "markdown",
   "metadata": {
    "id": "o9rjPQotcz9W"
   },
   "source": [
    "### Вывод:\n",
    "В результате текущего практического задания, была реализована RNN(рекурентная нейронная сесть с LSTM). Прогноз временных рядов(Time series forecasting), для небольшого набора данных - 'Airline passengers' не идеален, но для обучения более, чем приемлем. Подбор размера выборки, а также параметров модели помогло улучшить точность."
   ]
  },
  {
   "cell_type": "code",
   "execution_count": null,
   "metadata": {},
   "outputs": [],
   "source": []
  }
 ],
 "metadata": {
  "accelerator": "GPU",
  "colab": {
   "collapsed_sections": [],
   "name": "hw_04.ipynb",
   "provenance": []
  },
  "kernelspec": {
   "display_name": "Python 3",
   "language": "python",
   "name": "python3"
  },
  "language_info": {
   "codemirror_mode": {
    "name": "ipython",
    "version": 3
   },
   "file_extension": ".py",
   "mimetype": "text/x-python",
   "name": "python",
   "nbconvert_exporter": "python",
   "pygments_lexer": "ipython3",
   "version": "3.7.6"
  }
 },
 "nbformat": 4,
 "nbformat_minor": 1
}
