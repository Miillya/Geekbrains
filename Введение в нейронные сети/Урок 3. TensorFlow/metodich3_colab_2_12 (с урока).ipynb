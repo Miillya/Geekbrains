{
 "cells": [
  {
   "cell_type": "markdown",
   "metadata": {
    "id": "j9uRd98UFzPL"
   },
   "source": [
    "# Введение в искусственные нейронные сети\n",
    "# Урок 3. TensorFlow"
   ]
  },
  {
   "cell_type": "code",
   "execution_count": null,
   "metadata": {
    "id": "xz1LcSSc0TVA"
   },
   "outputs": [],
   "source": []
  },
  {
   "cell_type": "markdown",
   "metadata": {
    "id": "k3iOZn2wFzPQ"
   },
   "source": [
    "## Содержание методического пособия:\n",
    "\n",
    "\n",
    "<ol>\n",
    "<li>Что такое TensorFlow</li>\n",
    "<li>Основы синтаксиса TensorFlow</li>\n",
    "<li>Пример нейросети на TensorFlow</li>\n",
    "</ol>"
   ]
  },
  {
   "cell_type": "markdown",
   "metadata": {
    "id": "Sx3Su3u6FzPS"
   },
   "source": [
    "## Что такое TensorFlow\n",
    "\n",
    "TensorFlow - это фреймворк для создания ML моделей. TensorFlow предназначен в первую очередь для Deep Learning, т.е. создания современных нейросетей. Однако в TensorFlow также есть поддержка некоторых классических ML алгоритмов: K-means clustering, Random Forests, Support Vector Machines, Gaussian Mixture Model clustering, Linear/logistic regression.\n",
    "\n",
    "TensorFlow выпустила компания Google в 2015. TensorFlow - это opensource проект. На данный момент это один из основных инструментов для создания нейросетей в рабочих целях. TensorFlow позволяет создавать нейронные сети как для кластеров из большого количества вычислительных устройств, так и для устройств с относительно небольшой вычислитей мощностью, таких как смартфоны и одноплатные компьютеры.\n",
    "\n",
    "TensorFlow применяется самой компанией Google для ее поиска, почты, переводчика, распознования голоса, внутренних нужд наподобие мониторинга оборудования. TensorFlow используется различными компаниями для различных проектов связанных с компьютерным зрением, решением задач ранжирования и т.д.\n"
   ]
  },
  {
   "cell_type": "markdown",
   "metadata": {
    "id": "mBqyxNwdFzPU"
   },
   "source": [
    "## Основы синтаксиса TensorFlow\n",
    "\n",
    "Процесс создания нейросети на TensorFlow схож с разобранным нами процессом обучения нейросети на Keras. Отличее здесь в том, что здесь нам нужно прописать больше деталей в коде. \n",
    "\n",
    "Название TensorFlow означает поток тензоров. Тензоры - это массивы. Данные в компьютере предствлены часто в виде массивах и работа с этими массивами подразумевает их преобразования. Преобразования осуществляются через, к примеру, математические операции. Работа TensorFlow складывается из цепочки преобразований тензоров, т.е. данных. Сами операции осуществляющие преобразование данных представлены в TensorFlow в виде графов. Особенностью TensorFlow версии 1 является то, что сначала необходимо декларировать переменные и вычисления, которые будут совершенны над ними, а потом уже непосредственно запускать работу над данными. "
   ]
  },
  {
   "cell_type": "markdown",
   "metadata": {
    "id": "NTDIFFhhFzPW"
   },
   "source": [
    "Давайте рассмотрим базовые вещи в синтаксисе Tensorflow 2."
   ]
  },
  {
   "cell_type": "markdown",
   "metadata": {
    "id": "BuAYrRxLFzPY"
   },
   "source": [
    "Выведем строку Hello world, а также версию tensorflow"
   ]
  },
  {
   "cell_type": "code",
   "execution_count": 1,
   "metadata": {
    "id": "A4Hcl_IoHv7n"
   },
   "outputs": [],
   "source": [
    "# !pip install --upgrade pip\n",
    "# !pip install tensorflow\n",
    "# !pip install tf-nightly"
   ]
  },
  {
   "cell_type": "code",
   "execution_count": 2,
   "metadata": {
    "executionInfo": {
     "elapsed": 1236,
     "status": "ok",
     "timestamp": 1606926344750,
     "user": {
      "displayName": "Mariia Korliakova",
      "photoUrl": "",
      "userId": "14165537686129864864"
     },
     "user_tz": -180
    },
    "id": "ad84hsn2Gwhi"
   },
   "outputs": [
    {
     "name": "stderr",
     "output_type": "stream",
     "text": [
      "UsageError: Line magic function `%tensorflow_version` not found.\n"
     ]
    }
   ],
   "source": [
    "%tensorflow_version 2.x"
   ]
  },
  {
   "cell_type": "code",
   "execution_count": 3,
   "metadata": {
    "colab": {
     "base_uri": "https://localhost:8080/"
    },
    "executionInfo": {
     "elapsed": 1341,
     "status": "ok",
     "timestamp": 1606926349146,
     "user": {
      "displayName": "Mariia Korliakova",
      "photoUrl": "",
      "userId": "14165537686129864864"
     },
     "user_tz": -180
    },
    "id": "75BVCTdbFzPa",
    "outputId": "993cb2f4-ea33-4234-f524-9932605cc48b"
   },
   "outputs": [
    {
     "name": "stdout",
     "output_type": "stream",
     "text": [
      "2.3.1\n",
      "TensorFlow 2.0 Hello World\r\n"
     ]
    }
   ],
   "source": [
    "import tensorflow as tf\n",
    "print(tf.__version__)\n",
    "msg = tf.constant('TensorFlow 2.0 Hello World')\n",
    "tf.print(msg)"
   ]
  },
  {
   "cell_type": "markdown",
   "metadata": {
    "id": "S4ZN0rdqFzPh"
   },
   "source": [
    "Пример создания тензора - "
   ]
  },
  {
   "cell_type": "code",
   "execution_count": 4,
   "metadata": {
    "colab": {
     "base_uri": "https://localhost:8080/"
    },
    "executionInfo": {
     "elapsed": 1948,
     "status": "ok",
     "timestamp": 1606935476766,
     "user": {
      "displayName": "Mariia Korliakova",
      "photoUrl": "",
      "userId": "14165537686129864864"
     },
     "user_tz": -180
    },
    "id": "VATG0L6IFzPj",
    "outputId": "7a6e0e00-69a9-481a-d9a1-8a908a9ed2c1"
   },
   "outputs": [
    {
     "name": "stdout",
     "output_type": "stream",
     "text": [
      "tf.Tensor(\n",
      "[[3 2]\n",
      " [5 2]], shape=(2, 2), dtype=int32)\n"
     ]
    }
   ],
   "source": [
    "A = tf.constant([[3, 2], \n",
    "                 [5, 2]])\n",
    "\n",
    "print(A)"
   ]
  },
  {
   "cell_type": "markdown",
   "metadata": {
    "id": "van47kdAFzPp"
   },
   "source": [
    "Приме сложения тензеров - "
   ]
  },
  {
   "cell_type": "code",
   "execution_count": 5,
   "metadata": {
    "colab": {
     "base_uri": "https://localhost:8080/"
    },
    "executionInfo": {
     "elapsed": 3031,
     "status": "ok",
     "timestamp": 1606935477868,
     "user": {
      "displayName": "Mariia Korliakova",
      "photoUrl": "",
      "userId": "14165537686129864864"
     },
     "user_tz": -180
    },
    "id": "wYwJYGSvFzPr",
    "outputId": "21aac288-12e5-46af-80eb-344d4dab83f1"
   },
   "outputs": [
    {
     "name": "stdout",
     "output_type": "stream",
     "text": [
      "[[3 2]\n",
      " [5 2]\n",
      " [9 5]\n",
      " [1 3]\n",
      " [2 4]]\n"
     ]
    }
   ],
   "source": [
    "B = tf.constant([[9, 5], \n",
    "                 [1, 3],\n",
    "                 [2, 4]])\n",
    "\n",
    "AB = tf.concat(values=[A, B], axis=0)\n",
    "print(AB.numpy())"
   ]
  },
  {
   "cell_type": "markdown",
   "metadata": {
    "id": "XTfjbLKLFzPx"
   },
   "source": [
    "Пример изменения размерности тензора - "
   ]
  },
  {
   "cell_type": "code",
   "execution_count": 6,
   "metadata": {
    "colab": {
     "base_uri": "https://localhost:8080/"
    },
    "executionInfo": {
     "elapsed": 3015,
     "status": "ok",
     "timestamp": 1606935477869,
     "user": {
      "displayName": "Mariia Korliakova",
      "photoUrl": "",
      "userId": "14165537686129864864"
     },
     "user_tz": -180
    },
    "id": "Yk_mB4qGFzPz",
    "outputId": "665b9c01-d180-4a70-8a36-6e2bab64d6b7"
   },
   "outputs": [
    {
     "name": "stdout",
     "output_type": "stream",
     "text": [
      "BEFORE [[3 2]\n",
      " [5 2]\n",
      " [9 5]\n",
      " [1 3]]\n",
      "AFTER [[3 2 5 2]\n",
      " [9 5 1 3]]\n"
     ]
    }
   ],
   "source": [
    "tensor = tf.constant([[3, 2], \n",
    "                      [5, 2], \n",
    "                      [9, 5], \n",
    "                      [1, 3]])\n",
    "\n",
    "resh_tensor = tf.reshape(tensor = tensor, shape = [2, 4]) \n",
    "\n",
    "print(f'BEFORE {tensor.numpy()}')\n",
    "print(f'AFTER {resh_tensor.numpy()}')"
   ]
  },
  {
   "cell_type": "markdown",
   "metadata": {
    "id": "txp4OBMXFzP6"
   },
   "source": [
    "Пример умножения матриц, одной из самых частых операций в машинном обучении - "
   ]
  },
  {
   "cell_type": "code",
   "execution_count": 7,
   "metadata": {
    "colab": {
     "base_uri": "https://localhost:8080/"
    },
    "executionInfo": {
     "elapsed": 3000,
     "status": "ok",
     "timestamp": 1606935477870,
     "user": {
      "displayName": "Mariia Korliakova",
      "photoUrl": "",
      "userId": "14165537686129864864"
     },
     "user_tz": -180
    },
    "id": "2VM7TqHlFzP8",
    "outputId": "b0235734-6554-462d-fd01-5b0c204908a2"
   },
   "outputs": [
    {
     "name": "stdout",
     "output_type": "stream",
     "text": [
      "tf.Tensor(\n",
      "[[  30   70]\n",
      " [1000 9000]], shape=(2, 2), dtype=int32)\n"
     ]
    }
   ],
   "source": [
    "A = tf.constant([[3, 7], \n",
    "                 [1, 9]])\n",
    "\n",
    "\n",
    "B = tf.constant([[10, 10],\n",
    "                 [1000, 1000]])\n",
    "\n",
    "AB = tf.multiply(A, B)\n",
    "print(AB)\n"
   ]
  },
  {
   "cell_type": "code",
   "execution_count": 8,
   "metadata": {
    "colab": {
     "base_uri": "https://localhost:8080/"
    },
    "executionInfo": {
     "elapsed": 2987,
     "status": "ok",
     "timestamp": 1606935477873,
     "user": {
      "displayName": "Mariia Korliakova",
      "photoUrl": "",
      "userId": "14165537686129864864"
     },
     "user_tz": -180
    },
    "id": "qCCRCUpj9aPF",
    "outputId": "ed8284fb-2f15-4eab-d114-1e5bf7a4f6bd"
   },
   "outputs": [
    {
     "name": "stdout",
     "output_type": "stream",
     "text": [
      "tf.Tensor([[10 15]], shape=(1, 2), dtype=int32)\n",
      "(1, 2)\n",
      "<dtype: 'int32'>\n"
     ]
    }
   ],
   "source": [
    "x = tf.matmul([[5]], [[2, 3]])\n",
    "print(x)\n",
    "print(x.shape)\n",
    "print(x.dtype)"
   ]
  },
  {
   "cell_type": "code",
   "execution_count": 9,
   "metadata": {
    "colab": {
     "base_uri": "https://localhost:8080/"
    },
    "executionInfo": {
     "elapsed": 2969,
     "status": "ok",
     "timestamp": 1606935477874,
     "user": {
      "displayName": "Mariia Korliakova",
      "photoUrl": "",
      "userId": "14165537686129864864"
     },
     "user_tz": -180
    },
    "id": "5zd1GMQ0-o80",
    "outputId": "4dc01de0-9b65-4615-bcd4-ba9ef83d551f"
   },
   "outputs": [
    {
     "name": "stdout",
     "output_type": "stream",
     "text": [
      "превратим numpy arrays в Tensors \n",
      "tf.Tensor(\n",
      "[[42. 42. 42.]\n",
      " [42. 42. 42.]\n",
      " [42. 42. 42.]], shape=(3, 3), dtype=float64)\n",
      "добавим к тензору 1 \n",
      "[[43. 43. 43.]\n",
      " [43. 43. 43.]\n",
      " [43. 43. 43.]]\n",
      " .numpy() превратим тензор в  numpy array\n",
      "[[42. 42. 42.]\n",
      " [42. 42. 42.]\n",
      " [42. 42. 42.]]\n"
     ]
    }
   ],
   "source": [
    "import numpy as np\n",
    "\n",
    "ndarray = np.ones([3, 3])\n",
    "\n",
    "print(\"превратим numpy arrays в Tensors \")\n",
    "tensor = tf.multiply(ndarray, 42)\n",
    "print(tensor)\n",
    "\n",
    "\n",
    "print(\"добавим к тензору 1 \")\n",
    "print(np.add(tensor, 1))\n",
    "\n",
    "print(\" .numpy() превратим тензор в  numpy array\")\n",
    "print(tensor.numpy())"
   ]
  },
  {
   "cell_type": "code",
   "execution_count": 10,
   "metadata": {
    "colab": {
     "base_uri": "https://localhost:8080/"
    },
    "executionInfo": {
     "elapsed": 2954,
     "status": "ok",
     "timestamp": 1606935477875,
     "user": {
      "displayName": "Mariia Korliakova",
      "photoUrl": "",
      "userId": "14165537686129864864"
     },
     "user_tz": -180
    },
    "id": "iwFVgO3t_Ghj",
    "outputId": "15838669-3d78-4b05-fd29-663acfeb3a09"
   },
   "outputs": [
    {
     "name": "stdout",
     "output_type": "stream",
     "text": [
      "есть ли доступные GPU: \n",
      "[]\n",
      "тензор на GPU #0:  \n",
      "False\n"
     ]
    }
   ],
   "source": [
    "x = tf.random.uniform([3, 3])\n",
    "\n",
    "print(\"есть ли доступные GPU: \"),\n",
    "print(tf.config.experimental.list_physical_devices(\"GPU\"))\n",
    "\n",
    "print(\"тензор на GPU #0:  \"),\n",
    "print(x.device.endswith('GPU:0'))\n"
   ]
  },
  {
   "cell_type": "code",
   "execution_count": 11,
   "metadata": {
    "colab": {
     "base_uri": "https://localhost:8080/"
    },
    "executionInfo": {
     "elapsed": 2940,
     "status": "ok",
     "timestamp": 1606935477876,
     "user": {
      "displayName": "Mariia Korliakova",
      "photoUrl": "",
      "userId": "14165537686129864864"
     },
     "user_tz": -180
    },
    "id": "oajro_Ip_hap",
    "outputId": "eceb4665-94c6-4e76-8ee9-4539d00213b8"
   },
   "outputs": [
    {
     "name": "stdout",
     "output_type": "stream",
     "text": [
      " CPU работает:\n",
      "10 циклов: 79.03ms\n"
     ]
    }
   ],
   "source": [
    "import time\n",
    "\n",
    "def time_matmul(x):\n",
    "  start = time.time()\n",
    "  for loop in range(10):\n",
    "    tf.matmul(x, x)\n",
    "\n",
    "  result = time.time()-start\n",
    "\n",
    "  print(\"10 циклов: {:0.2f}ms\".format(1000*result))\n",
    "\n",
    "# исполнение CPU\n",
    "print(\" CPU работает:\")\n",
    "with tf.device(\"CPU:0\"):\n",
    "  x = tf.random.uniform([1000, 1000])\n",
    "  assert x.device.endswith(\"CPU:0\")\n",
    "  time_matmul(x)\n",
    "\n",
    "# исполнение на GPU #0 , если доступен\n",
    "if tf.config.experimental.list_physical_devices(\"GPU\"):\n",
    "  print(\" какой GPU:\")\n",
    "  with tf.device(\"GPU:0\"): # или GPU:1 , для 2х GPU, GPU:2 для 3х  и т.д.\n",
    "    x = tf.random.uniform([1000, 1000])\n",
    "    assert x.device.endswith(\"GPU:0\")\n",
    "    time_matmul(x)"
   ]
  },
  {
   "cell_type": "markdown",
   "metadata": {
    "id": "ya0ZTsC3DNBF"
   },
   "source": [
    "В отличие от графического процессора, использование TPU требует явного подключения к работнику TPU. Поэтому необходимо настроить свое обучение и определение логического вывода, чтобы наблюдать ускорение\n",
    "\n",
    "пример работы с TPU на будущее https://colab.research.google.com/github/tensorflow/tpu/blob/master/tools/colab/shakespeare_with_tpu_and_keras.ipynb"
   ]
  },
  {
   "cell_type": "markdown",
   "metadata": {
    "id": "Tc9NTP1_FzQC"
   },
   "source": [
    "Функции tensorflow призваны ускорить вычисления, давайте посмотрим на следующий пример - "
   ]
  },
  {
   "cell_type": "code",
   "execution_count": 12,
   "metadata": {
    "colab": {
     "base_uri": "https://localhost:8080/"
    },
    "executionInfo": {
     "elapsed": 3803,
     "status": "ok",
     "timestamp": 1606935478755,
     "user": {
      "displayName": "Mariia Korliakova",
      "photoUrl": "",
      "userId": "14165537686129864864"
     },
     "user_tz": -180
    },
    "id": "qBUSq3dWHUjF",
    "outputId": "ca6f5686-7f8b-4850-ce74-0f66d72de6b4"
   },
   "outputs": [
    {
     "name": "stdout",
     "output_type": "stream",
     "text": [
      "Downloading data from https://storage.googleapis.com/tensorflow/tf-keras-datasets/mnist.npz\n",
      "11493376/11490434 [==============================] - 6s 1us/step\n",
      "(60000, 784)\n",
      "(10000, 784)\n"
     ]
    }
   ],
   "source": [
    "from tensorflow.keras.datasets import mnist\n",
    "\n",
    "\n",
    "(train_images,train_labels),(test_images,testn_labels)=mnist.load_data()\n",
    "\n",
    "# Нормализация.\n",
    "train_images = (train_images / 255) * 2 - 1\n",
    "test_images = (test_images / 255) * 2 - 1\n",
    "\n",
    "# векторизация.\n",
    "train_images = train_images.reshape((-1, 784))\n",
    "test_images = test_images.reshape((-1, 784))\n",
    "\n",
    "print(train_images.shape) # (60000, 784)\n",
    "print(test_images.shape)  # (10000, 784)\n",
    "\n"
   ]
  },
  {
   "cell_type": "code",
   "execution_count": 13,
   "metadata": {
    "executionInfo": {
     "elapsed": 3786,
     "status": "ok",
     "timestamp": 1606935478756,
     "user": {
      "displayName": "Mariia Korliakova",
      "photoUrl": "",
      "userId": "14165537686129864864"
     },
     "user_tz": -180
    },
    "id": "ozb2tTqNIBzX"
   },
   "outputs": [],
   "source": [
    "from tensorflow.keras.models import Sequential\n",
    "from tensorflow.keras.layers import Dense\n",
    "from tensorflow.keras.utils import to_categorical"
   ]
  },
  {
   "cell_type": "code",
   "execution_count": 14,
   "metadata": {
    "executionInfo": {
     "elapsed": 3779,
     "status": "ok",
     "timestamp": 1606935478757,
     "user": {
      "displayName": "Mariia Korliakova",
      "photoUrl": "",
      "userId": "14165537686129864864"
     },
     "user_tz": -180
    },
    "id": "NInsePV5QKs4"
   },
   "outputs": [],
   "source": [
    "import matplotlib.pyplot as plt\n"
   ]
  },
  {
   "cell_type": "code",
   "execution_count": 15,
   "metadata": {
    "colab": {
     "base_uri": "https://localhost:8080/"
    },
    "executionInfo": {
     "elapsed": 3770,
     "status": "ok",
     "timestamp": 1606935478757,
     "user": {
      "displayName": "Mariia Korliakova",
      "photoUrl": "",
      "userId": "14165537686129864864"
     },
     "user_tz": -180
    },
    "id": "PIIwUIB_GWzd",
    "outputId": "38dfe46e-ef96-4d3c-ce5f-bddd85fadcc0"
   },
   "outputs": [
    {
     "name": "stdout",
     "output_type": "stream",
     "text": [
      "Model: \"sequential\"\n",
      "_________________________________________________________________\n",
      "Layer (type)                 Output Shape              Param #   \n",
      "=================================================================\n",
      "dense (Dense)                (None, 512)               401920    \n",
      "_________________________________________________________________\n",
      "dense_1 (Dense)              (None, 512)               262656    \n",
      "_________________________________________________________________\n",
      "dense_2 (Dense)              (None, 10)                5130      \n",
      "=================================================================\n",
      "Total params: 669,706\n",
      "Trainable params: 669,706\n",
      "Non-trainable params: 0\n",
      "_________________________________________________________________\n"
     ]
    }
   ],
   "source": [
    "bigger_model = Sequential([\n",
    "    Dense(512, activation='relu', input_shape=(784,)),\n",
    "    Dense(512, activation='linear'),\n",
    "    Dense(10, activation='softmax')\n",
    "])\n",
    "\n",
    "bigger_model.compile(optimizer='adam',\n",
    "                     loss='categorical_crossentropy',\n",
    "                     metrics=['accuracy'])\n",
    "\n",
    "bigger_model.summary()"
   ]
  },
  {
   "cell_type": "code",
   "execution_count": 16,
   "metadata": {
    "colab": {
     "base_uri": "https://localhost:8080/"
    },
    "executionInfo": {
     "elapsed": 531167,
     "status": "ok",
     "timestamp": 1606936006170,
     "user": {
      "displayName": "Mariia Korliakova",
      "photoUrl": "",
      "userId": "14165537686129864864"
     },
     "user_tz": -180
    },
    "id": "UmAqbArVIkl9",
    "outputId": "697fb730-8402-4adb-ab7c-cddb500609a1"
   },
   "outputs": [
    {
     "name": "stdout",
     "output_type": "stream",
     "text": [
      "Epoch 1/5\n",
      "24000/24000 [==============================] - 63s 3ms/step - loss: 0.4632 - accuracy: 0.8634 - val_loss: 0.2931 - val_accuracy: 0.9153\n",
      "Epoch 2/5\n",
      "24000/24000 [==============================] - 58s 2ms/step - loss: 0.3198 - accuracy: 0.9079 - val_loss: 0.4517 - val_accuracy: 0.8773\n",
      "Epoch 3/5\n",
      "24000/24000 [==============================] - 57s 2ms/step - loss: 0.2902 - accuracy: 0.9171 - val_loss: 0.2908 - val_accuracy: 0.9206\n",
      "Epoch 4/5\n",
      "24000/24000 [==============================] - 58s 2ms/step - loss: 0.2689 - accuracy: 0.9231 - val_loss: 0.2284 - val_accuracy: 0.9356\n",
      "Epoch 5/5\n",
      "24000/24000 [==============================] - 56s 2ms/step - loss: 0.2573 - accuracy: 0.9267 - val_loss: 0.3564 - val_accuracy: 0.9016\n"
     ]
    }
   ],
   "source": [
    "bigger_history = bigger_model.fit( train_images, to_categorical(train_labels,10),\n",
    "  epochs=5,\n",
    "  batch_size=2, validation_split=0.2\n",
    ")\n"
   ]
  },
  {
   "cell_type": "code",
   "execution_count": 17,
   "metadata": {
    "colab": {
     "base_uri": "https://localhost:8080/",
     "height": 295
    },
    "executionInfo": {
     "elapsed": 531153,
     "status": "ok",
     "timestamp": 1606936006173,
     "user": {
      "displayName": "Mariia Korliakova",
      "photoUrl": "",
      "userId": "14165537686129864864"
     },
     "user_tz": -180
    },
    "id": "8RzpMwruRFdS",
    "outputId": "bb3370a3-9c8c-451b-81da-a2306e3148b2"
   },
   "outputs": [
    {
     "data": {
      "image/png": "[encoded data removed]",
      "text/plain": [
       "<Figure size 432x288 with 1 Axes>"
      ]
     },
     "metadata": {
      "needs_background": "light"
     },
     "output_type": "display_data"
    }
   ],
   "source": [
    "plt.plot(bigger_history.history['val_accuracy'] ,label='val')\n",
    "plt.plot(bigger_history.history['accuracy'] ,label='train')\n",
    "plt.legend()\n",
    "plt.xlabel('epoch')\n",
    "plt.ylabel('accuracy')\n",
    "plt.title('точность сети от эпох')\n",
    "plt.show()"
   ]
  },
  {
   "cell_type": "code",
   "execution_count": 18,
   "metadata": {
    "colab": {
     "base_uri": "https://localhost:8080/"
    },
    "executionInfo": {
     "elapsed": 547481,
     "status": "ok",
     "timestamp": 1606936022518,
     "user": {
      "displayName": "Mariia Korliakova",
      "photoUrl": "",
      "userId": "14165537686129864864"
     },
     "user_tz": -180
    },
    "id": "2Zm-TPIKO-Y_",
    "outputId": "e81f9cfb-2084-4e9a-f26d-00a40316d76e"
   },
   "outputs": [
    {
     "name": "stdout",
     "output_type": "stream",
     "text": [
      "Epoch 1/5\n",
      "24/24 [==============================] - 1s 24ms/step - loss: 1.4726 - accuracy: 0.6193 - val_loss: 0.4443 - val_accuracy: 0.8662\n",
      "Epoch 2/5\n",
      "24/24 [==============================] - 0s 21ms/step - loss: 0.3790 - accuracy: 0.8879 - val_loss: 0.2877 - val_accuracy: 0.9166\n",
      "Epoch 3/5\n",
      "24/24 [==============================] - 0s 20ms/step - loss: 0.2711 - accuracy: 0.9212 - val_loss: 0.2283 - val_accuracy: 0.9345\n",
      "Epoch 4/5\n",
      "24/24 [==============================] - 0s 20ms/step - loss: 0.2153 - accuracy: 0.9381 - val_loss: 0.1867 - val_accuracy: 0.9477\n",
      "Epoch 5/5\n",
      "24/24 [==============================] - 0s 20ms/step - loss: 0.1764 - accuracy: 0.9491 - val_loss: 0.1638 - val_accuracy: 0.9552\n"
     ]
    }
   ],
   "source": [
    "bigger_model2 = Sequential([\n",
    "    Dense(512, activation='relu', input_shape=(784,)),\n",
    "    Dense(512, activation='linear'),\n",
    "    Dense(10, activation='softmax')\n",
    "])\n",
    "\n",
    "bigger_model2.compile(optimizer='adam',\n",
    "                     loss='categorical_crossentropy',\n",
    "                     metrics=['accuracy'])\n",
    "\n",
    "bigger_history2 = bigger_model2.fit( train_images, to_categorical(train_labels,10),\n",
    "  epochs=5,\n",
    "  batch_size=2000, validation_split=0.2\n",
    ")"
   ]
  },
  {
   "cell_type": "code",
   "execution_count": 19,
   "metadata": {
    "colab": {
     "base_uri": "https://localhost:8080/",
     "height": 295
    },
    "executionInfo": {
     "elapsed": 547941,
     "status": "ok",
     "timestamp": 1606936022998,
     "user": {
      "displayName": "Mariia Korliakova",
      "photoUrl": "",
      "userId": "14165537686129864864"
     },
     "user_tz": -180
    },
    "id": "PhX7tQdBSOI5",
    "outputId": "1075c260-4af0-4284-d7d9-6b57b2534078"
   },
   "outputs": [
    {
     "data": {
      "image/png": "[encoded data removed]",
      "text/plain": [
       "<Figure size 432x288 with 1 Axes>"
      ]
     },
     "metadata": {
      "needs_background": "light"
     },
     "output_type": "display_data"
    }
   ],
   "source": [
    "plt.plot(bigger_history2.history['val_accuracy'] ,label='val')\n",
    "plt.plot(bigger_history2.history['accuracy'] ,label='train')\n",
    "plt.legend()\n",
    "plt.xlabel('epoch')\n",
    "plt.ylabel('accuracy')\n",
    "plt.title('точность сети от эпох')\n",
    "plt.show()"
   ]
  },
  {
   "cell_type": "code",
   "execution_count": 20,
   "metadata": {
    "colab": {
     "base_uri": "https://localhost:8080/"
    },
    "executionInfo": {
     "elapsed": 564100,
     "status": "ok",
     "timestamp": 1606936039173,
     "user": {
      "displayName": "Mariia Korliakova",
      "photoUrl": "",
      "userId": "14165537686129864864"
     },
     "user_tz": -180
    },
    "id": "o7Q0qQIxPg0q",
    "outputId": "7a34ffe9-6276-4834-a100-9a627ed6de80"
   },
   "outputs": [
    {
     "name": "stdout",
     "output_type": "stream",
     "text": [
      "Epoch 1/5\n",
      "24/24 [==============================] - 1s 21ms/step - loss: 0.1502 - accuracy: 0.9569 - val_loss: 0.1456 - val_accuracy: 0.9598\n",
      "Epoch 2/5\n",
      "24/24 [==============================] - 0s 20ms/step - loss: 0.1307 - accuracy: 0.9622 - val_loss: 0.1328 - val_accuracy: 0.9605\n",
      "Epoch 3/5\n",
      "24/24 [==============================] - 0s 20ms/step - loss: 0.1131 - accuracy: 0.9664 - val_loss: 0.1191 - val_accuracy: 0.9658\n",
      "Epoch 4/5\n",
      "24/24 [==============================] - 0s 20ms/step - loss: 0.0994 - accuracy: 0.9707 - val_loss: 0.1115 - val_accuracy: 0.9697\n",
      "Epoch 5/5\n",
      "24/24 [==============================] - 0s 19ms/step - loss: 0.0863 - accuracy: 0.9748 - val_loss: 0.1037 - val_accuracy: 0.9705\n"
     ]
    }
   ],
   "source": [
    "bigger_history3 = bigger_model2.fit( train_images, to_categorical(train_labels,10),\n",
    "  epochs=5,\n",
    "  batch_size=2000, validation_split=0.2\n",
    ")"
   ]
  },
  {
   "cell_type": "code",
   "execution_count": 21,
   "metadata": {
    "colab": {
     "base_uri": "https://localhost:8080/",
     "height": 295
    },
    "executionInfo": {
     "elapsed": 564087,
     "status": "ok",
     "timestamp": 1606936039176,
     "user": {
      "displayName": "Mariia Korliakova",
      "photoUrl": "",
      "userId": "14165537686129864864"
     },
     "user_tz": -180
    },
    "id": "Rv6N5eMcRAQ_",
    "outputId": "01857096-ec2b-461e-de59-87bbce55a1a4"
   },
   "outputs": [
    {
     "data": {
      "image/png": "[encoded data removed]",
      "text/plain": [
       "<Figure size 432x288 with 1 Axes>"
      ]
     },
     "metadata": {
      "needs_background": "light"
     },
     "output_type": "display_data"
    }
   ],
   "source": [
    "plt.plot(bigger_history3.history['val_accuracy'] ,label='val')\n",
    "plt.plot(bigger_history3.history['accuracy'] ,label='train')\n",
    "plt.legend()\n",
    "plt.xlabel('epoch')\n",
    "plt.ylabel('accuracy')\n",
    "plt.title('точность сети от эпох')\n",
    "plt.show()"
   ]
  },
  {
   "cell_type": "code",
   "execution_count": 22,
   "metadata": {
    "colab": {
     "base_uri": "https://localhost:8080/"
    },
    "executionInfo": {
     "elapsed": 611845,
     "status": "ok",
     "timestamp": 1606936086950,
     "user": {
      "displayName": "Mariia Korliakova",
      "photoUrl": "",
      "userId": "14165537686129864864"
     },
     "user_tz": -180
    },
    "id": "bzdqOaHfPnqU",
    "outputId": "b4279830-3db3-4fe8-e465-c710c2baa800"
   },
   "outputs": [
    {
     "name": "stdout",
     "output_type": "stream",
     "text": [
      "Epoch 1/15\n",
      "24/24 [==============================] - 1s 21ms/step - loss: 0.0772 - accuracy: 0.9778 - val_loss: 0.1043 - val_accuracy: 0.9694\n",
      "Epoch 2/15\n",
      "24/24 [==============================] - 0s 20ms/step - loss: 0.0684 - accuracy: 0.9809 - val_loss: 0.0972 - val_accuracy: 0.9722\n",
      "Epoch 3/15\n",
      "24/24 [==============================] - 0s 20ms/step - loss: 0.0624 - accuracy: 0.9819 - val_loss: 0.0982 - val_accuracy: 0.9713\n",
      "Epoch 4/15\n",
      "24/24 [==============================] - 1s 21ms/step - loss: 0.0583 - accuracy: 0.9829 - val_loss: 0.0961 - val_accuracy: 0.9715\n",
      "Epoch 5/15\n",
      "24/24 [==============================] - 1s 22ms/step - loss: 0.0522 - accuracy: 0.9855 - val_loss: 0.0893 - val_accuracy: 0.9739\n",
      "Epoch 6/15\n",
      "24/24 [==============================] - 1s 22ms/step - loss: 0.0469 - accuracy: 0.9869 - val_loss: 0.0895 - val_accuracy: 0.9753\n",
      "Epoch 7/15\n",
      "24/24 [==============================] - 1s 21ms/step - loss: 0.0420 - accuracy: 0.9886 - val_loss: 0.0898 - val_accuracy: 0.9733\n",
      "Epoch 8/15\n",
      "24/24 [==============================] - 1s 21ms/step - loss: 0.0386 - accuracy: 0.9895 - val_loss: 0.0898 - val_accuracy: 0.9747\n",
      "Epoch 9/15\n",
      "24/24 [==============================] - 0s 20ms/step - loss: 0.0347 - accuracy: 0.9907 - val_loss: 0.0864 - val_accuracy: 0.9747\n",
      "Epoch 10/15\n",
      "24/24 [==============================] - 0s 20ms/step - loss: 0.0323 - accuracy: 0.9917 - val_loss: 0.0886 - val_accuracy: 0.9751\n",
      "Epoch 11/15\n",
      "24/24 [==============================] - 0s 20ms/step - loss: 0.0298 - accuracy: 0.9921 - val_loss: 0.0886 - val_accuracy: 0.9745\n",
      "Epoch 12/15\n",
      "24/24 [==============================] - 1s 22ms/step - loss: 0.0266 - accuracy: 0.9932 - val_loss: 0.0872 - val_accuracy: 0.9755\n",
      "Epoch 13/15\n",
      "24/24 [==============================] - 0s 20ms/step - loss: 0.0228 - accuracy: 0.9945 - val_loss: 0.0905 - val_accuracy: 0.9749\n",
      "Epoch 14/15\n",
      "24/24 [==============================] - 0s 20ms/step - loss: 0.0214 - accuracy: 0.9952 - val_loss: 0.0893 - val_accuracy: 0.9754\n",
      "Epoch 15/15\n",
      "24/24 [==============================] - 0s 20ms/step - loss: 0.0186 - accuracy: 0.9960 - val_loss: 0.0849 - val_accuracy: 0.9764\n"
     ]
    }
   ],
   "source": [
    "bigger_history3 = bigger_model2.fit( train_images, to_categorical(train_labels,10),\n",
    "  epochs=15,\n",
    "  batch_size=2000, validation_split=0.2\n",
    ")"
   ]
  },
  {
   "cell_type": "code",
   "execution_count": 23,
   "metadata": {
    "colab": {
     "base_uri": "https://localhost:8080/",
     "height": 295
    },
    "executionInfo": {
     "elapsed": 612309,
     "status": "ok",
     "timestamp": 1606936087431,
     "user": {
      "displayName": "Mariia Korliakova",
      "photoUrl": "",
      "userId": "14165537686129864864"
     },
     "user_tz": -180
    },
    "id": "-YIEb3PpQGLF",
    "outputId": "d9adafd5-400f-472f-dbb3-2f3389472ca3"
   },
   "outputs": [
    {
     "data": {
      "image/png": "[encoded data removed]",
      "text/plain": [
       "<Figure size 432x288 with 1 Axes>"
      ]
     },
     "metadata": {
      "needs_background": "light"
     },
     "output_type": "display_data"
    }
   ],
   "source": [
    "plt.plot(bigger_history3.history['val_accuracy'] ,label='val')\n",
    "plt.plot(bigger_history3.history['accuracy'] ,label='train')\n",
    "plt.legend()\n",
    "plt.xlabel('epoch')\n",
    "plt.ylabel('accuracy')\n",
    "plt.title('точность сети от эпох')\n",
    "plt.show()"
   ]
  },
  {
   "cell_type": "markdown",
   "metadata": {
    "id": "ubaqhSOiTj9R"
   },
   "source": [
    "### Оптимизаторы"
   ]
  },
  {
   "cell_type": "code",
   "execution_count": 24,
   "metadata": {
    "executionInfo": {
     "elapsed": 612295,
     "status": "ok",
     "timestamp": 1606936087432,
     "user": {
      "displayName": "Mariia Korliakova",
      "photoUrl": "",
      "userId": "14165537686129864864"
     },
     "user_tz": -180
    },
    "id": "5g3px8aXXse6"
   },
   "outputs": [],
   "source": [
    "from tensorflow.keras.optimizers import Adam, SGD, RMSprop, Adagrad"
   ]
  },
  {
   "cell_type": "code",
   "execution_count": 25,
   "metadata": {
    "colab": {
     "base_uri": "https://localhost:8080/",
     "height": 295
    },
    "executionInfo": {
     "elapsed": 689959,
     "status": "ok",
     "timestamp": 1606936165106,
     "user": {
      "displayName": "Mariia Korliakova",
      "photoUrl": "",
      "userId": "14165537686129864864"
     },
     "user_tz": -180
    },
    "id": "51b163fhReiz",
    "outputId": "cf6dac8c-0311-49ca-82a6-93ead44df1f7"
   },
   "outputs": [
    {
     "data": {
      "image/png": "[encoded data removed]",
      "text/plain": [
       "<Figure size 432x288 with 1 Axes>"
      ]
     },
     "metadata": {
      "needs_background": "light"
     },
     "output_type": "display_data"
    }
   ],
   "source": [
    "for i in [0,1,2,3,4]:\n",
    "  bigger_model4 = Sequential([\n",
    "                              Dense(512, activation='relu', input_shape=(784,)),\n",
    "                              Dense(512, activation='linear'),\n",
    "                              Dense(10, activation='sigmoid')\n",
    "                              ])\n",
    "\n",
    "  bigger_model4.compile(optimizer='sgd',\n",
    "                        loss='categorical_crossentropy',\n",
    "                        metrics=['accuracy'])\n",
    "\n",
    "  bigger_history4 = bigger_model4.fit( train_images, to_categorical(train_labels,10),epochs=5,\n",
    "                                        batch_size=20000, validation_split=0.2, verbose = 0\n",
    "                                      )\n",
    "  plt.plot(bigger_history4.history['val_accuracy'],'.' )\n",
    "  plt.plot(bigger_history4.history['accuracy'] )\n",
    "plt.plot(bigger_history4.history['val_accuracy'],'.' ,label='val')\n",
    "plt.plot(bigger_history4.history['accuracy'] ,label='train')\n",
    "plt.legend()\n",
    "plt.xlabel('epoch')\n",
    "plt.ylabel('accuracy')\n",
    "plt.title('точность сети от эпох')\n",
    "plt.show()"
   ]
  },
  {
   "cell_type": "code",
   "execution_count": 26,
   "metadata": {
    "colab": {
     "base_uri": "https://localhost:8080/"
    },
    "executionInfo": {
     "elapsed": 689944,
     "status": "ok",
     "timestamp": 1606936165108,
     "user": {
      "displayName": "Mariia Korliakova",
      "photoUrl": "",
      "userId": "14165537686129864864"
     },
     "user_tz": -180
    },
    "id": "gFMzeozBmpxS",
    "outputId": "750e45dc-4464-4a31-a679-99c74377a3f8"
   },
   "outputs": [
    {
     "data": {
      "text/plain": [
       "(60000, 10)"
      ]
     },
     "execution_count": 26,
     "metadata": {},
     "output_type": "execute_result"
    }
   ],
   "source": [
    "to_categorical(train_labels,10).shape"
   ]
  },
  {
   "cell_type": "code",
   "execution_count": 27,
   "metadata": {
    "colab": {
     "base_uri": "https://localhost:8080/",
     "height": 295
    },
    "executionInfo": {
     "elapsed": 767424,
     "status": "ok",
     "timestamp": 1606936242603,
     "user": {
      "displayName": "Mariia Korliakova",
      "photoUrl": "",
      "userId": "14165537686129864864"
     },
     "user_tz": -180
    },
    "id": "mSxVO84-k8Hk",
    "outputId": "24a5269d-a7d3-484e-985e-dee787945572"
   },
   "outputs": [
    {
     "data": {
      "image/png": "[encoded data removed]",
      "text/plain": [
       "<Figure size 432x288 with 1 Axes>"
      ]
     },
     "metadata": {
      "needs_background": "light"
     },
     "output_type": "display_data"
    }
   ],
   "source": [
    "for i in [0,1,2,3,4]:\n",
    "  bigger_model4 = Sequential([\n",
    "                              Dense(512, activation='relu', input_shape=(784,)),\n",
    "                              Dense(512, activation='linear'),\n",
    "                              Dense(10, activation='sigmoid')\n",
    "                              ])\n",
    "\n",
    "  bigger_model4.compile(optimizer='Adam',\n",
    "                        loss='categorical_crossentropy',\n",
    "                        metrics=['accuracy'])\n",
    "\n",
    "  bigger_history4 = bigger_model4.fit( train_images, to_categorical(train_labels,10),epochs=5,\n",
    "                                        batch_size=20000, validation_split=0.2, verbose = 0\n",
    "                                      )\n",
    "  plt.plot(bigger_history4.history['val_accuracy'],'.' )\n",
    "  plt.plot(bigger_history4.history['accuracy'] )\n",
    "plt.plot(bigger_history4.history['val_accuracy'],'.' ,label='val')\n",
    "plt.plot(bigger_history4.history['accuracy'] ,label='train')\n",
    "plt.legend()\n",
    "plt.xlabel('epoch')\n",
    "plt.ylabel('accuracy')\n",
    "plt.title('точность сети от эпох')\n",
    "plt.show()"
   ]
  },
  {
   "cell_type": "code",
   "execution_count": 28,
   "metadata": {
    "colab": {
     "base_uri": "https://localhost:8080/",
     "height": 295
    },
    "executionInfo": {
     "elapsed": 846132,
     "status": "ok",
     "timestamp": 1606936321315,
     "user": {
      "displayName": "Mariia Korliakova",
      "photoUrl": "",
      "userId": "14165537686129864864"
     },
     "user_tz": -180
    },
    "id": "5N9VBzhtlCwO",
    "outputId": "4d016d41-b464-421a-e4cf-53e620afb887"
   },
   "outputs": [
    {
     "data": {
      "image/png": "[encoded data removed]",
      "text/plain": [
       "<Figure size 432x288 with 1 Axes>"
      ]
     },
     "metadata": {
      "needs_background": "light"
     },
     "output_type": "display_data"
    }
   ],
   "source": [
    "for i in [0,1,2,3,4]:\n",
    "  bigger_model4 = Sequential([\n",
    "                              Dense(512, activation='relu', input_shape=(784,)),\n",
    "                              Dense(512, activation='linear'),\n",
    "                              Dense(10, activation='sigmoid')\n",
    "                              ])\n",
    "\n",
    "  bigger_model4.compile( \n",
    "                        loss='categorical_crossentropy',\n",
    "                        metrics=['accuracy'])\n",
    "\n",
    "  bigger_history4 = bigger_model4.fit( train_images, to_categorical(train_labels,10),epochs=5,\n",
    "                                        batch_size=20000, validation_split=0.2, verbose = 0\n",
    "                                      )\n",
    "  plt.plot(bigger_history4.history['val_accuracy'],'.' )\n",
    "  plt.plot(bigger_history4.history['accuracy'] )\n",
    "plt.plot(bigger_history4.history['val_accuracy'],'.' ,label='val')\n",
    "plt.plot(bigger_history4.history['accuracy'] ,label='train')\n",
    "plt.legend()\n",
    "plt.xlabel('epoch')\n",
    "plt.ylabel('accuracy')\n",
    "plt.title('точность сети от эпох')\n",
    "plt.show()"
   ]
  },
  {
   "cell_type": "markdown",
   "metadata": {
    "id": "clLQq9qsUbuo"
   },
   "source": [
    "Параметры оптимизаторов\n",
    "\n",
    "\n",
    "Задача на один класс: to_categorical(train_labels,10)[:,0] "
   ]
  },
  {
   "cell_type": "code",
   "execution_count": 29,
   "metadata": {
    "colab": {
     "base_uri": "https://localhost:8080/",
     "height": 295
    },
    "executionInfo": {
     "elapsed": 885617,
     "status": "ok",
     "timestamp": 1606936360816,
     "user": {
      "displayName": "Mariia Korliakova",
      "photoUrl": "",
      "userId": "14165537686129864864"
     },
     "user_tz": -180
    },
    "id": "yjjhpVRlXn04",
    "outputId": "d59aca9a-89f6-4431-db45-bd748ad47519"
   },
   "outputs": [
    {
     "data": {
      "image/png": "[encoded data removed]",
      "text/plain": [
       "<Figure size 432x288 with 1 Axes>"
      ]
     },
     "metadata": {
      "needs_background": "light"
     },
     "output_type": "display_data"
    }
   ],
   "source": [
    "for i in [0,1]:\n",
    "  bigger_model4 = Sequential([\n",
    "                              Dense(512, activation='relu', input_shape=(784,)),\n",
    "                              Dense(512, activation='linear'),\n",
    "                              Dense(1, activation='sigmoid')  # нейронов на выходе 1 - для одного класса один выход ( бинарный классификатор)\n",
    "                              ])\n",
    "\n",
    "  bigger_model4.compile(optimizer= Adam(learning_rate=0.0001, beta_1=0.89) ,\n",
    "                        loss='binary_crossentropy',\n",
    "                        metrics=['accuracy'])\n",
    "\n",
    "  bigger_history4 = bigger_model4.fit( train_images, to_categorical(train_labels,10)[:,0],epochs=5,\n",
    "                                        batch_size=200, validation_split=0.2, verbose = 0\n",
    "                                      )\n",
    "  plt.plot(bigger_history4.history['val_accuracy'],'.' )\n",
    "  plt.plot(bigger_history4.history['accuracy'] )\n",
    "plt.plot(bigger_history4.history['val_accuracy'],'.' ,label='val')\n",
    "plt.plot(bigger_history4.history['accuracy'] ,label='train')\n",
    "plt.legend()\n",
    "plt.xlabel('epoch')\n",
    "plt.ylabel('accuracy')\n",
    "plt.title('точность сети от эпох')\n",
    "plt.show()"
   ]
  },
  {
   "cell_type": "code",
   "execution_count": 30,
   "metadata": {
    "colab": {
     "base_uri": "https://localhost:8080/"
    },
    "executionInfo": {
     "elapsed": 886541,
     "status": "ok",
     "timestamp": 1606936361757,
     "user": {
      "displayName": "Mariia Korliakova",
      "photoUrl": "",
      "userId": "14165537686129864864"
     },
     "user_tz": -180
    },
    "id": "J8iJbXJGnQub",
    "outputId": "ca770500-e295-4b4d-a692-0e00b43b0b6b"
   },
   "outputs": [
    {
     "name": "stdout",
     "output_type": "stream",
     "text": [
      "Epoch 1/5\n",
      "40/40 [==============================] - 0s 5ms/step - loss: 4.8477e-04 - accuracy: 1.0000 - val_loss: 0.0034 - val_accuracy: 1.0000\n",
      "Epoch 2/5\n",
      "40/40 [==============================] - 0s 3ms/step - loss: 1.1152e-04 - accuracy: 1.0000 - val_loss: 0.0033 - val_accuracy: 1.0000\n",
      "Epoch 3/5\n",
      "40/40 [==============================] - 0s 3ms/step - loss: 5.8952e-05 - accuracy: 1.0000 - val_loss: 0.0046 - val_accuracy: 1.0000\n",
      "Epoch 4/5\n",
      "40/40 [==============================] - 0s 3ms/step - loss: 4.6521e-05 - accuracy: 1.0000 - val_loss: 0.0044 - val_accuracy: 1.0000\n",
      "Epoch 5/5\n",
      "40/40 [==============================] - 0s 3ms/step - loss: 3.8450e-05 - accuracy: 1.0000 - val_loss: 0.0043 - val_accuracy: 1.0000\n"
     ]
    }
   ],
   "source": [
    "  bigger_history4 = bigger_model4.fit( train_images[:100,:], to_categorical(train_labels[:100],10)[:,0],epochs=5,\n",
    "                                        batch_size=2, validation_split=0.2, verbose = 1\n",
    "                                      )"
   ]
  },
  {
   "cell_type": "code",
   "execution_count": 31,
   "metadata": {
    "colab": {
     "base_uri": "https://localhost:8080/"
    },
    "executionInfo": {
     "elapsed": 886523,
     "status": "ok",
     "timestamp": 1606936361758,
     "user": {
      "displayName": "Mariia Korliakova",
      "photoUrl": "",
      "userId": "14165537686129864864"
     },
     "user_tz": -180
    },
    "id": "jQcpCV2oniLH",
    "outputId": "f79e257b-9a7c-40b0-fb41-9460acd35b3d"
   },
   "outputs": [
    {
     "data": {
      "text/plain": [
       "(10, 784)"
      ]
     },
     "execution_count": 31,
     "metadata": {},
     "output_type": "execute_result"
    }
   ],
   "source": [
    "train_images[:10,:].shape"
   ]
  },
  {
   "cell_type": "markdown",
   "metadata": {
    "id": "jYysdyb-CaWM"
   },
   "source": [
    "# Классификация изображений одежды"
   ]
  },
  {
   "cell_type": "markdown",
   "metadata": {
    "id": "FbVhjPpzn6BM"
   },
   "source": [
    "Давайте разберем использование tensorflow 2 на примере датасета с одеждой. В это датасете будут находиться маленькие изображения на белом фоне, такие как кросовки, футболки и прочее.\n",
    "\n",
    "В данном случае мы будем использовать High API от TensorFlow"
   ]
  },
  {
   "cell_type": "code",
   "execution_count": 32,
   "metadata": {
    "colab": {
     "base_uri": "https://localhost:8080/"
    },
    "executionInfo": {
     "elapsed": 886509,
     "status": "ok",
     "timestamp": 1606936361759,
     "user": {
      "displayName": "Mariia Korliakova",
      "photoUrl": "",
      "userId": "14165537686129864864"
     },
     "user_tz": -180
    },
    "id": "dzLKpmZICaWN",
    "outputId": "c133d12f-fd82-43c8-dea0-e3871c88c1fe"
   },
   "outputs": [
    {
     "name": "stdout",
     "output_type": "stream",
     "text": [
      "2.3.1\n"
     ]
    }
   ],
   "source": [
    "from __future__ import absolute_import, division, print_function, unicode_literals\n",
    "\n",
    "# TensorFlow and tf.keras\n",
    "\n",
    "from tensorflow import keras\n",
    "\n",
    "# Helper libraries\n",
    "import numpy as np\n",
    "import matplotlib.pyplot as plt\n",
    "\n",
    "print(tf.__version__)"
   ]
  },
  {
   "cell_type": "markdown",
   "metadata": {
    "id": "yR0EdgrLCaWR"
   },
   "source": [
    "## Импортируем Fashion MNIST датасет"
   ]
  },
  {
   "cell_type": "markdown",
   "metadata": {
    "id": "DLdCchMdCaWQ"
   },
   "source": [
    "Мы будет использовать следующий датасет -  [Fashion MNIST](https://github.com/zalandoresearch/fashion-mnist) Этот датасет содержит 70,000 черно-белых изображений в 10 категориях. Изображения имеют разрешение 28x28 пикселей.\n",
    "\n",
    "<table>\n",
    "  <tr><td>\n",
    "    <img src=\"https://tensorflow.org/images/fashion-mnist-sprite.png\"\n",
    "         alt=\"Fashion MNIST sprite\"  width=\"600\">\n",
    "  </td></tr>\n",
    "  <tr><td align=\"center\">\n",
    "    <b>Figure 1.</b> <a href=\"https://github.com/zalandoresearch/fashion-mnist\">Fashion-MNIST samples</a> (by Zalando, MIT License).<br/>&nbsp;\n",
    "  </td></tr>\n",
    "</table>\n",
    "\n",
    "Долгое время в машинном обучение для программ Hello world использовался датасет MNIST с рукописными цифрами. Данный датасет призван несколько усложнить задачу распознования но также подходит в качестве программы Hello world.\n",
    "\n",
    "В этом датасете 60 000 тренировочных изображений и 10 000 тестовых."
   ]
  },
  {
   "cell_type": "code",
   "execution_count": 33,
   "metadata": {
    "executionInfo": {
     "elapsed": 886949,
     "status": "ok",
     "timestamp": 1606936362215,
     "user": {
      "displayName": "Mariia Korliakova",
      "photoUrl": "",
      "userId": "14165537686129864864"
     },
     "user_tz": -180
    },
    "id": "7MqDQO0KCaWS"
   },
   "outputs": [
    {
     "name": "stdout",
     "output_type": "stream",
     "text": [
      "Downloading data from https://storage.googleapis.com/tensorflow/tf-keras-datasets/train-labels-idx1-ubyte.gz\n",
      "32768/29515 [=================================] - 0s 0us/step\n",
      "Downloading data from https://storage.googleapis.com/tensorflow/tf-keras-datasets/train-images-idx3-ubyte.gz\n",
      "26427392/26421880 [==============================] - 11s 0us/step\n",
      "Downloading data from https://storage.googleapis.com/tensorflow/tf-keras-datasets/t10k-labels-idx1-ubyte.gz\n",
      "8192/5148 [===============================================] - 0s 0us/step\n",
      "Downloading data from https://storage.googleapis.com/tensorflow/tf-keras-datasets/t10k-images-idx3-ubyte.gz\n",
      "4423680/4422102 [==============================] - 2s 0us/step\n"
     ]
    }
   ],
   "source": [
    "fashion_mnist = keras.datasets.fashion_mnist\n",
    "\n",
    "(train_images, train_labels), (test_images, test_labels) = fashion_mnist.load_data()"
   ]
  },
  {
   "cell_type": "markdown",
   "metadata": {
    "id": "t9FDsUlxCaWW"
   },
   "source": [
    "Датасет содержит следующие классы:\n",
    "\n",
    "<table>\n",
    "  <tr>\n",
    "    <th>Label</th>\n",
    "    <th>Class</th>\n",
    "  </tr>\n",
    "  <tr>\n",
    "    <td>0</td>\n",
    "    <td>T-shirt/top</td>\n",
    "  </tr>\n",
    "  <tr>\n",
    "    <td>1</td>\n",
    "    <td>Trouser</td>\n",
    "  </tr>\n",
    "    <tr>\n",
    "    <td>2</td>\n",
    "    <td>Pullover</td>\n",
    "  </tr>\n",
    "    <tr>\n",
    "    <td>3</td>\n",
    "    <td>Dress</td>\n",
    "  </tr>\n",
    "    <tr>\n",
    "    <td>4</td>\n",
    "    <td>Coat</td>\n",
    "  </tr>\n",
    "    <tr>\n",
    "    <td>5</td>\n",
    "    <td>Sandal</td>\n",
    "  </tr>\n",
    "    <tr>\n",
    "    <td>6</td>\n",
    "    <td>Shirt</td>\n",
    "  </tr>\n",
    "    <tr>\n",
    "    <td>7</td>\n",
    "    <td>Sneaker</td>\n",
    "  </tr>\n",
    "    <tr>\n",
    "    <td>8</td>\n",
    "    <td>Bag</td>\n",
    "  </tr>\n",
    "    <tr>\n",
    "    <td>9</td>\n",
    "    <td>Ankle boot</td>\n",
    "  </tr>\n",
    "</table>\n",
    "\n",
    "Каждому классу обозначенному цифрой мы можем присвоить текстовое значение -"
   ]
  },
  {
   "cell_type": "code",
   "execution_count": 34,
   "metadata": {
    "executionInfo": {
     "elapsed": 886941,
     "status": "ok",
     "timestamp": 1606936362216,
     "user": {
      "displayName": "Mariia Korliakova",
      "photoUrl": "",
      "userId": "14165537686129864864"
     },
     "user_tz": -180
    },
    "id": "IjnLH5S2CaWx"
   },
   "outputs": [],
   "source": [
    "class_names = ['T-shirt/top', 'Trouser', 'Pullover', 'Dress', 'Coat',\n",
    "               'Sandal', 'Shirt', 'Sneaker', 'Bag', 'Ankle boot']"
   ]
  },
  {
   "cell_type": "markdown",
   "metadata": {
    "id": "Brm0b_KACaWX"
   },
   "source": [
    "## Анализ датасета \n",
    "\n",
    "Давайте посмотрим структуры полученного массива данных:"
   ]
  },
  {
   "cell_type": "code",
   "execution_count": 35,
   "metadata": {
    "colab": {
     "base_uri": "https://localhost:8080/"
    },
    "executionInfo": {
     "elapsed": 886933,
     "status": "ok",
     "timestamp": 1606936362217,
     "user": {
      "displayName": "Mariia Korliakova",
      "photoUrl": "",
      "userId": "14165537686129864864"
     },
     "user_tz": -180
    },
    "id": "zW5k_xz1CaWX",
    "outputId": "fd4a82c8-61e1-4cb6-d331-1552aa06dff8"
   },
   "outputs": [
    {
     "data": {
      "text/plain": [
       "(60000, 28, 28)"
      ]
     },
     "execution_count": 35,
     "metadata": {},
     "output_type": "execute_result"
    }
   ],
   "source": [
    "train_images.shape"
   ]
  },
  {
   "cell_type": "code",
   "execution_count": 36,
   "metadata": {
    "colab": {
     "base_uri": "https://localhost:8080/"
    },
    "executionInfo": {
     "elapsed": 886917,
     "status": "ok",
     "timestamp": 1606936362218,
     "user": {
      "displayName": "Mariia Korliakova",
      "photoUrl": "",
      "userId": "14165537686129864864"
     },
     "user_tz": -180
    },
    "id": "TRFYHB2mCaWb",
    "outputId": "943a699a-4f68-46b2-ad5a-31370fd0a373"
   },
   "outputs": [
    {
     "data": {
      "text/plain": [
       "60000"
      ]
     },
     "execution_count": 36,
     "metadata": {},
     "output_type": "execute_result"
    }
   ],
   "source": [
    "len(train_labels)"
   ]
  },
  {
   "cell_type": "code",
   "execution_count": 37,
   "metadata": {
    "colab": {
     "base_uri": "https://localhost:8080/"
    },
    "executionInfo": {
     "elapsed": 886900,
     "status": "ok",
     "timestamp": 1606936362219,
     "user": {
      "displayName": "Mariia Korliakova",
      "photoUrl": "",
      "userId": "14165537686129864864"
     },
     "user_tz": -180
    },
    "id": "XKnCTHz4CaWg",
    "outputId": "5f86c37c-9fb5-43f5-e3a1-3745771f53e9"
   },
   "outputs": [
    {
     "data": {
      "text/plain": [
       "array([9, 0, 0, ..., 3, 0, 5], dtype=uint8)"
      ]
     },
     "execution_count": 37,
     "metadata": {},
     "output_type": "execute_result"
    }
   ],
   "source": [
    "train_labels"
   ]
  },
  {
   "cell_type": "markdown",
   "metadata": {
    "id": "TMPI88iZpO2T"
   },
   "source": [
    "Проанализируем тестовую выборку:"
   ]
  },
  {
   "cell_type": "code",
   "execution_count": 38,
   "metadata": {
    "colab": {
     "base_uri": "https://localhost:8080/"
    },
    "executionInfo": {
     "elapsed": 886884,
     "status": "ok",
     "timestamp": 1606936362220,
     "user": {
      "displayName": "Mariia Korliakova",
      "photoUrl": "",
      "userId": "14165537686129864864"
     },
     "user_tz": -180
    },
    "id": "2KFnYlcwCaWl",
    "outputId": "558edef7-885b-4c2d-801c-ee04ce679bca"
   },
   "outputs": [
    {
     "data": {
      "text/plain": [
       "(10000, 28, 28)"
      ]
     },
     "execution_count": 38,
     "metadata": {},
     "output_type": "execute_result"
    }
   ],
   "source": [
    "test_images.shape"
   ]
  },
  {
   "cell_type": "code",
   "execution_count": 39,
   "metadata": {
    "colab": {
     "base_uri": "https://localhost:8080/"
    },
    "executionInfo": {
     "elapsed": 886869,
     "status": "ok",
     "timestamp": 1606936362220,
     "user": {
      "displayName": "Mariia Korliakova",
      "photoUrl": "",
      "userId": "14165537686129864864"
     },
     "user_tz": -180
    },
    "id": "iJmPr5-ACaWn",
    "outputId": "4e17422c-a8fe-4363-b745-4e00e73680ba"
   },
   "outputs": [
    {
     "data": {
      "text/plain": [
       "10000"
      ]
     },
     "execution_count": 39,
     "metadata": {},
     "output_type": "execute_result"
    }
   ],
   "source": [
    "len(test_labels)"
   ]
  },
  {
   "cell_type": "markdown",
   "metadata": {
    "id": "ES6uQoLKCaWr"
   },
   "source": [
    "## Preprocess the data\n",
    "\n",
    "Давайте взглянем на конкретный пример изображений с помощью matplotlib:"
   ]
  },
  {
   "cell_type": "code",
   "execution_count": 40,
   "metadata": {
    "colab": {
     "base_uri": "https://localhost:8080/",
     "height": 265
    },
    "executionInfo": {
     "elapsed": 887317,
     "status": "ok",
     "timestamp": 1606936362684,
     "user": {
      "displayName": "Mariia Korliakova",
      "photoUrl": "",
      "userId": "14165537686129864864"
     },
     "user_tz": -180
    },
    "id": "m4VEw8Ud9Quh",
    "outputId": "111de21b-a483-417b-b6b4-323deef410dd"
   },
   "outputs": [
    {
     "data": {
      "image/png": "[encoded data removed]",
      "text/plain": [
       "<Figure size 432x288 with 2 Axes>"
      ]
     },
     "metadata": {
      "needs_background": "light"
     },
     "output_type": "display_data"
    }
   ],
   "source": [
    "plt.figure()\n",
    "plt.imshow(train_images[0])\n",
    "plt.colorbar()\n",
    "plt.grid(False)\n",
    "plt.show()"
   ]
  },
  {
   "cell_type": "markdown",
   "metadata": {
    "id": "Wz7l27Lz9S1P"
   },
   "source": [
    "Для процесса обучения нейронной сети нам важно перевести данные из диапазона от 0 до 255 в диапазон от 0 до 1:"
   ]
  },
  {
   "cell_type": "code",
   "execution_count": 41,
   "metadata": {
    "executionInfo": {
     "elapsed": 887303,
     "status": "ok",
     "timestamp": 1606936362686,
     "user": {
      "displayName": "Mariia Korliakova",
      "photoUrl": "",
      "userId": "14165537686129864864"
     },
     "user_tz": -180
    },
    "id": "bW5WzIPlCaWv"
   },
   "outputs": [],
   "source": [
    "train_images = train_images / 255.0\n",
    "\n",
    "test_images = test_images / 255.0"
   ]
  },
  {
   "cell_type": "markdown",
   "metadata": {
    "id": "Ee638AlnCaWz"
   },
   "source": [
    "Посмотрим первые 25 изображений:"
   ]
  },
  {
   "cell_type": "code",
   "execution_count": 42,
   "metadata": {
    "colab": {
     "base_uri": "https://localhost:8080/",
     "height": 589
    },
    "executionInfo": {
     "elapsed": 889068,
     "status": "ok",
     "timestamp": 1606936364461,
     "user": {
      "displayName": "Mariia Korliakova",
      "photoUrl": "",
      "userId": "14165537686129864864"
     },
     "user_tz": -180
    },
    "id": "oZTImqg_CaW1",
    "outputId": "c5d40e74-3cc5-4722-9294-eded813677e7"
   },
   "outputs": [
    {
     "data": {
      "image/png": "[encoded data removed]",
      "text/plain": [
       "<Figure size 720x720 with 25 Axes>"
      ]
     },
     "metadata": {},
     "output_type": "display_data"
    }
   ],
   "source": [
    "plt.figure(figsize=(10,10))\n",
    "for i in range(25):\n",
    "    plt.subplot(5,5,i+1)\n",
    "    plt.xticks([])\n",
    "    plt.yticks([])\n",
    "    plt.grid(False)\n",
    "    plt.imshow(train_images[i], cmap=plt.cm.binary)\n",
    "    plt.xlabel(class_names[train_labels[i]])\n",
    "plt.show()"
   ]
  },
  {
   "cell_type": "markdown",
   "metadata": {
    "id": "59veuiEZCaW4"
   },
   "source": [
    "## Построение модели\n",
    "\n",
    "Построение нейронной сети подразумевает конфигурацию ее слоев и последующую компиляцию."
   ]
  },
  {
   "cell_type": "markdown",
   "metadata": {
    "id": "Gxg1XGm0eOBy"
   },
   "source": [
    "### Определение слоев\n",
    "\n",
    "Давайте создадим 3 слоя нейронной сети с помощью функционала Keras.layers"
   ]
  },
  {
   "cell_type": "code",
   "execution_count": 43,
   "metadata": {
    "executionInfo": {
     "elapsed": 889053,
     "status": "ok",
     "timestamp": 1606936364462,
     "user": {
      "displayName": "Mariia Korliakova",
      "photoUrl": "",
      "userId": "14165537686129864864"
     },
     "user_tz": -180
    },
    "id": "9ODch-OFCaW4"
   },
   "outputs": [],
   "source": [
    "model = keras.Sequential([\n",
    "    keras.layers.Flatten(input_shape=(28, 28)),\n",
    "    keras.layers.Dense(128, activation='relu'),\n",
    "    keras.layers.Dense(10)\n",
    "])"
   ]
  },
  {
   "cell_type": "code",
   "execution_count": 44,
   "metadata": {
    "colab": {
     "base_uri": "https://localhost:8080/"
    },
    "executionInfo": {
     "elapsed": 889043,
     "status": "ok",
     "timestamp": 1606936364463,
     "user": {
      "displayName": "Mariia Korliakova",
      "photoUrl": "",
      "userId": "14165537686129864864"
     },
     "user_tz": -180
    },
    "id": "pCb24tU45MXG",
    "outputId": "1b47e1a5-6140-420f-e254-a7ca4c53300a"
   },
   "outputs": [
    {
     "name": "stdout",
     "output_type": "stream",
     "text": [
      "Model: \"sequential_19\"\n",
      "_________________________________________________________________\n",
      "Layer (type)                 Output Shape              Param #   \n",
      "=================================================================\n",
      "flatten (Flatten)            (None, 784)               0         \n",
      "_________________________________________________________________\n",
      "dense_57 (Dense)             (None, 128)               100480    \n",
      "_________________________________________________________________\n",
      "dense_58 (Dense)             (None, 10)                1290      \n",
      "=================================================================\n",
      "Total params: 101,770\n",
      "Trainable params: 101,770\n",
      "Non-trainable params: 0\n",
      "_________________________________________________________________\n"
     ]
    }
   ],
   "source": [
    "model.summary()"
   ]
  },
  {
   "cell_type": "markdown",
   "metadata": {
    "id": "gut8A_7rCaW6"
   },
   "source": [
    "Первый слой, `tf.keras.layers.Flatten`, трасформирует двумерный массив на входе в одномерный массив.\n",
    "\n",
    "Получившиеся 784(28 x 28) входных нейрона присоединяем к полносвязному слою из 128 нейронов , которые будут использовать функцию активации relu. В выходном слое будет 10 нейронов, по числу классов, которые он должен предсказывать. В нем будет использоваться функция активации softmax и он будет давать предсказание от 0 до 1, где 1 это стопроцентная вероятность.\n",
    "\n",
    "### Компиляция модели\n",
    "\n",
    "Давайте вспомним ключевые понятия, которые нам понадобяться при компиляции:\n",
    "\n",
    "* *Loss function* — меряет как точно работает нейросеть.\n",
    "* *Optimizer* — определяет способ корректировки весов.\n",
    "* *Metrics* — определяет за какие характеристики будут отражаться в процессе обучения."
   ]
  },
  {
   "cell_type": "code",
   "execution_count": 45,
   "metadata": {
    "executionInfo": {
     "elapsed": 889029,
     "status": "ok",
     "timestamp": 1606936364464,
     "user": {
      "displayName": "Mariia Korliakova",
      "photoUrl": "",
      "userId": "14165537686129864864"
     },
     "user_tz": -180
    },
    "id": "Lhan11blCaW7"
   },
   "outputs": [],
   "source": [
    "model.compile(optimizer='adam',\n",
    "              loss=tf.keras.losses.SparseCategoricalCrossentropy(from_logits=True),\n",
    "              metrics=['accuracy'])"
   ]
  },
  {
   "cell_type": "markdown",
   "metadata": {
    "id": "qKF6uW-BCaW-"
   },
   "source": [
    "## Тренировка модели\n",
    "\n",
    "Здесь все стандартно - данные передаются в нейросеть и сопоставляются изображения и лейблы.\n",
    "\n"
   ]
  },
  {
   "cell_type": "markdown",
   "metadata": {
    "id": "Z4P4zIV7E28Z"
   },
   "source": [
    "### Передача данных в модель\n",
    "\n",
    "Команда непосредственно запускающая процесс обучения называется - `model.fit`:"
   ]
  },
  {
   "cell_type": "code",
   "execution_count": 46,
   "metadata": {
    "colab": {
     "base_uri": "https://localhost:8080/"
    },
    "executionInfo": {
     "elapsed": 894491,
     "status": "ok",
     "timestamp": 1606936369935,
     "user": {
      "displayName": "Mariia Korliakova",
      "photoUrl": "",
      "userId": "14165537686129864864"
     },
     "user_tz": -180
    },
    "id": "xvwvpA64CaW_",
    "outputId": "2d8bbeac-44b1-4a41-ea86-942725da0e9f"
   },
   "outputs": [
    {
     "name": "stdout",
     "output_type": "stream",
     "text": [
      "Epoch 1/3\n",
      "600/600 [==============================] - 0s 748us/step - loss: 0.5342 - accuracy: 0.8153\n",
      "Epoch 2/3\n",
      "600/600 [==============================] - 0s 783us/step - loss: 0.4004 - accuracy: 0.8601\n",
      "Epoch 3/3\n",
      "600/600 [==============================] - 0s 810us/step - loss: 0.3614 - accuracy: 0.8720\n"
     ]
    },
    {
     "data": {
      "text/plain": [
       "<tensorflow.python.keras.callbacks.History at 0x13532947cc8>"
      ]
     },
     "execution_count": 46,
     "metadata": {},
     "output_type": "execute_result"
    }
   ],
   "source": [
    "model.fit(train_images, train_labels, epochs=3, batch_size=100)"
   ]
  },
  {
   "cell_type": "code",
   "execution_count": 47,
   "metadata": {
    "colab": {
     "base_uri": "https://localhost:8080/"
    },
    "executionInfo": {
     "elapsed": 894478,
     "status": "ok",
     "timestamp": 1606936369937,
     "user": {
      "displayName": "Mariia Korliakova",
      "photoUrl": "",
      "userId": "14165537686129864864"
     },
     "user_tz": -180
    },
    "id": "VflXLEeECaXC",
    "outputId": "7532c33a-608d-4576-e06e-786ecb05a447"
   },
   "outputs": [
    {
     "name": "stdout",
     "output_type": "stream",
     "text": [
      "313/313 - 0s - loss: 0.3936 - accuracy: 0.8595\n",
      "\n",
      "Test accuracy: 0.859499990940094\n"
     ]
    }
   ],
   "source": [
    "test_loss, test_acc = model.evaluate(test_images,  test_labels, verbose=2)\n",
    "\n",
    "print('\\nTest accuracy:', test_acc)"
   ]
  },
  {
   "cell_type": "markdown",
   "metadata": {
    "id": "ThiOOMngFzRw"
   },
   "source": [
    "В выводе выше мы следим за точностью в процессе обучения, проверяем точность на тестовых данных и меняем параметры нейросети если точность на тестовых данных нас не устраивает."
   ]
  },
  {
   "cell_type": "markdown",
   "metadata": {
    "id": "v-PyD1SYE28q"
   },
   "source": [
    "### Предсказания нейросети\n",
    "\n",
    "Команды ниже позволяют проверить работу натренированной ранее нейросети - "
   ]
  },
  {
   "cell_type": "code",
   "execution_count": 48,
   "metadata": {
    "executionInfo": {
     "elapsed": 894463,
     "status": "ok",
     "timestamp": 1606936369938,
     "user": {
      "displayName": "Mariia Korliakova",
      "photoUrl": "",
      "userId": "14165537686129864864"
     },
     "user_tz": -180
    },
    "id": "DnfNA0CrQLSD"
   },
   "outputs": [],
   "source": [
    "probability_model = tf.keras.Sequential([model, \n",
    "                                         tf.keras.layers.Softmax()])"
   ]
  },
  {
   "cell_type": "code",
   "execution_count": 49,
   "metadata": {
    "executionInfo": {
     "elapsed": 895247,
     "status": "ok",
     "timestamp": 1606936370730,
     "user": {
      "displayName": "Mariia Korliakova",
      "photoUrl": "",
      "userId": "14165537686129864864"
     },
     "user_tz": -180
    },
    "id": "Gl91RPhdCaXI"
   },
   "outputs": [],
   "source": [
    "predictions = probability_model.predict(test_images)"
   ]
  },
  {
   "cell_type": "code",
   "execution_count": 50,
   "metadata": {
    "colab": {
     "base_uri": "https://localhost:8080/"
    },
    "executionInfo": {
     "elapsed": 895239,
     "status": "ok",
     "timestamp": 1606936370731,
     "user": {
      "displayName": "Mariia Korliakova",
      "photoUrl": "",
      "userId": "14165537686129864864"
     },
     "user_tz": -180
    },
    "id": "3DmJEUinCaXK",
    "outputId": "de608f27-bc76-4a27-bca3-9fb4600601fb"
   },
   "outputs": [
    {
     "data": {
      "text/plain": [
       "array([1.0231744e-05, 5.1883962e-08, 5.6788681e-06, 5.7821183e-07,\n",
       "       1.3652673e-06, 1.8059511e-02, 2.4678466e-05, 2.7640292e-02,\n",
       "       4.5353628e-04, 9.5380414e-01], dtype=float32)"
      ]
     },
     "execution_count": 50,
     "metadata": {},
     "output_type": "execute_result"
    }
   ],
   "source": [
    "predictions[0]"
   ]
  },
  {
   "cell_type": "code",
   "execution_count": 51,
   "metadata": {
    "colab": {
     "base_uri": "https://localhost:8080/"
    },
    "executionInfo": {
     "elapsed": 895225,
     "status": "ok",
     "timestamp": 1606936370732,
     "user": {
      "displayName": "Mariia Korliakova",
      "photoUrl": "",
      "userId": "14165537686129864864"
     },
     "user_tz": -180
    },
    "id": "qsqenuPnCaXO",
    "outputId": "f7df69e2-ce81-417e-a87e-12b6f458e510"
   },
   "outputs": [
    {
     "data": {
      "text/plain": [
       "9"
      ]
     },
     "execution_count": 51,
     "metadata": {},
     "output_type": "execute_result"
    }
   ],
   "source": [
    "np.argmax(predictions[0])"
   ]
  },
  {
   "cell_type": "code",
   "execution_count": 52,
   "metadata": {
    "colab": {
     "base_uri": "https://localhost:8080/"
    },
    "executionInfo": {
     "elapsed": 895211,
     "status": "ok",
     "timestamp": 1606936370733,
     "user": {
      "displayName": "Mariia Korliakova",
      "photoUrl": "",
      "userId": "14165537686129864864"
     },
     "user_tz": -180
    },
    "id": "Sd7Pgsu6CaXP",
    "outputId": "730b9deb-82f9-454b-ccb2-16d2fd3cc248"
   },
   "outputs": [
    {
     "data": {
      "text/plain": [
       "9"
      ]
     },
     "execution_count": 52,
     "metadata": {},
     "output_type": "execute_result"
    }
   ],
   "source": [
    "test_labels[0]"
   ]
  },
  {
   "cell_type": "code",
   "execution_count": 53,
   "metadata": {
    "executionInfo": {
     "elapsed": 895197,
     "status": "ok",
     "timestamp": 1606936370734,
     "user": {
      "displayName": "Mariia Korliakova",
      "photoUrl": "",
      "userId": "14165537686129864864"
     },
     "user_tz": -180
    },
    "id": "DvYmmrpIy6Y1"
   },
   "outputs": [],
   "source": [
    "def plot_image(i, predictions_array, true_label, img):\n",
    "  predictions_array, true_label, img = predictions_array, true_label[i], img[i]\n",
    "  plt.grid(False)\n",
    "  plt.xticks([])\n",
    "  plt.yticks([])\n",
    "\n",
    "  plt.imshow(img, cmap=plt.cm.binary)\n",
    "\n",
    "  predicted_label = np.argmax(predictions_array)\n",
    "  if predicted_label == true_label:\n",
    "    color = 'blue'\n",
    "  else:\n",
    "    color = 'red'\n",
    "\n",
    "  plt.xlabel(\"{} {:2.0f}% ({})\".format(class_names[predicted_label],\n",
    "                                100*np.max(predictions_array),\n",
    "                                class_names[true_label]),\n",
    "                                color=color)\n",
    "\n",
    "def plot_value_array(i, predictions_array, true_label):\n",
    "  predictions_array, true_label = predictions_array, true_label[i]\n",
    "  plt.grid(False)\n",
    "  plt.xticks(range(10))\n",
    "  plt.yticks([])\n",
    "  thisplot = plt.bar(range(10), predictions_array, color=\"#777777\")\n",
    "  plt.ylim([0, 1])\n",
    "  predicted_label = np.argmax(predictions_array)\n",
    "\n",
    "  thisplot[predicted_label].set_color('red')\n",
    "  thisplot[true_label].set_color('blue')"
   ]
  },
  {
   "cell_type": "markdown",
   "metadata": {
    "id": "Zh9yABaME29S"
   },
   "source": [
    "### Проверка предсказаний\n",
    "\n",
    "Matplotlib нам дает возможность посмотреть наше предсказание графически:"
   ]
  },
  {
   "cell_type": "code",
   "execution_count": 54,
   "metadata": {
    "colab": {
     "base_uri": "https://localhost:8080/",
     "height": 211
    },
    "executionInfo": {
     "elapsed": 895188,
     "status": "ok",
     "timestamp": 1606936370735,
     "user": {
      "displayName": "Mariia Korliakova",
      "photoUrl": "",
      "userId": "14165537686129864864"
     },
     "user_tz": -180
    },
    "id": "HV5jw-5HwSmO",
    "outputId": "aa41c638-c95d-47a7-99e0-1455cd898bf3"
   },
   "outputs": [
    {
     "data": {
      "image/png": "[encoded data removed]",
      "text/plain": [
       "<Figure size 432x216 with 2 Axes>"
      ]
     },
     "metadata": {
      "needs_background": "light"
     },
     "output_type": "display_data"
    }
   ],
   "source": [
    "i = 0\n",
    "plt.figure(figsize=(6,3))\n",
    "plt.subplot(1,2,1)\n",
    "plot_image(i, predictions[i], test_labels, test_images)\n",
    "plt.subplot(1,2,2)\n",
    "plot_value_array(i, predictions[i],  test_labels)\n",
    "plt.show()"
   ]
  },
  {
   "cell_type": "code",
   "execution_count": 55,
   "metadata": {
    "colab": {
     "base_uri": "https://localhost:8080/",
     "height": 211
    },
    "executionInfo": {
     "elapsed": 895611,
     "status": "ok",
     "timestamp": 1606936371174,
     "user": {
      "displayName": "Mariia Korliakova",
      "photoUrl": "",
      "userId": "14165537686129864864"
     },
     "user_tz": -180
    },
    "id": "Ko-uzOufSCSe",
    "outputId": "79b2a347-7449-4866-954b-a447438ebc64"
   },
   "outputs": [
    {
     "data": {
      "image/png": "[encoded data removed]",
      "text/plain": [
       "<Figure size 432x216 with 2 Axes>"
      ]
     },
     "metadata": {
      "needs_background": "light"
     },
     "output_type": "display_data"
    }
   ],
   "source": [
    "i = 12\n",
    "plt.figure(figsize=(6,3))\n",
    "plt.subplot(1,2,1)\n",
    "plot_image(i, predictions[i], test_labels, test_images)\n",
    "plt.subplot(1,2,2)\n",
    "plot_value_array(i, predictions[i],  test_labels)\n",
    "plt.show()"
   ]
  },
  {
   "cell_type": "markdown",
   "metadata": {
    "id": "kgdvGD52CaXR"
   },
   "source": [
    "Давайте сделаем еще несколько предсказаний - "
   ]
  },
  {
   "cell_type": "code",
   "execution_count": 56,
   "metadata": {
    "colab": {
     "base_uri": "https://localhost:8080/",
     "height": 729
    },
    "executionInfo": {
     "elapsed": 898182,
     "status": "ok",
     "timestamp": 1606936373764,
     "user": {
      "displayName": "Mariia Korliakova",
      "photoUrl": "",
      "userId": "14165537686129864864"
     },
     "user_tz": -180
    },
    "id": "hQlnbqaw2Qu_",
    "outputId": "b7609148-03f4-46d2-eb6a-9003f22a4e5f"
   },
   "outputs": [
    {
     "data": {
      "image/png": "[encoded data removed]",
      "text/plain": [
       "<Figure size 864x720 with 30 Axes>"
      ]
     },
     "metadata": {
      "needs_background": "light"
     },
     "output_type": "display_data"
    }
   ],
   "source": [
    "\n",
    "num_rows = 5\n",
    "num_cols = 3\n",
    "num_images = num_rows*num_cols\n",
    "plt.figure(figsize=(2*2*num_cols, 2*num_rows))\n",
    "for i in range(num_images):\n",
    "  plt.subplot(num_rows, 2*num_cols, 2*i+1)\n",
    "  plot_image(i, predictions[i], test_labels, test_images)\n",
    "  plt.subplot(num_rows, 2*num_cols, 2*i+2)\n",
    "  plot_value_array(i, predictions[i], test_labels)\n",
    "plt.tight_layout()\n",
    "plt.show()"
   ]
  },
  {
   "cell_type": "markdown",
   "metadata": {
    "id": "R32zteKHCaXT"
   },
   "source": [
    "## Использование полученной модели\n",
    "\n",
    "Давайте возьмем одно изображение из тестовой выборке и посмотрим предсказание нейронной сети - "
   ]
  },
  {
   "cell_type": "code",
   "execution_count": 57,
   "metadata": {
    "colab": {
     "base_uri": "https://localhost:8080/"
    },
    "executionInfo": {
     "elapsed": 898166,
     "status": "ok",
     "timestamp": 1606936373765,
     "user": {
      "displayName": "Mariia Korliakova",
      "photoUrl": "",
      "userId": "14165537686129864864"
     },
     "user_tz": -180
    },
    "id": "yRJ7JU7JCaXT",
    "outputId": "a381c179-19fe-4f0f-82f8-53b262592eca"
   },
   "outputs": [
    {
     "name": "stdout",
     "output_type": "stream",
     "text": [
      "(28, 28)\n"
     ]
    }
   ],
   "source": [
    "img1 = test_images[1]\n",
    "\n",
    "print(img1.shape)"
   ]
  },
  {
   "cell_type": "code",
   "execution_count": 58,
   "metadata": {
    "colab": {
     "base_uri": "https://localhost:8080/"
    },
    "executionInfo": {
     "elapsed": 898151,
     "status": "ok",
     "timestamp": 1606936373766,
     "user": {
      "displayName": "Mariia Korliakova",
      "photoUrl": "",
      "userId": "14165537686129864864"
     },
     "user_tz": -180
    },
    "id": "lDFh5yF_CaXW",
    "outputId": "fd99a823-3726-4773-a63d-8cd2e7fa7c40"
   },
   "outputs": [
    {
     "name": "stdout",
     "output_type": "stream",
     "text": [
      "(1, 28, 28)\n"
     ]
    }
   ],
   "source": [
    "# Add the image to a batch where it's the only member.\n",
    "img = (np.expand_dims(img1,0))\n",
    "\n",
    "print(img.shape)"
   ]
  },
  {
   "cell_type": "code",
   "execution_count": 59,
   "metadata": {
    "colab": {
     "base_uri": "https://localhost:8080/"
    },
    "executionInfo": {
     "elapsed": 898136,
     "status": "ok",
     "timestamp": 1606936373767,
     "user": {
      "displayName": "Mariia Korliakova",
      "photoUrl": "",
      "userId": "14165537686129864864"
     },
     "user_tz": -180
    },
    "id": "o_rzNSdrCaXY",
    "outputId": "8ec8fab8-b779-4f0c-9aae-d1de25f6d13c"
   },
   "outputs": [
    {
     "name": "stdout",
     "output_type": "stream",
     "text": [
      "[[1.7537891e-04 3.1848153e-08 9.8695636e-01 5.5077767e-06 4.4532702e-03\n",
      "  1.3867916e-11 8.4015746e-03 1.6058714e-10 7.8861713e-06 2.0886100e-11]]\n"
     ]
    }
   ],
   "source": [
    "predictions_single = probability_model.predict(img)\n",
    "\n",
    "print(predictions_single)"
   ]
  },
  {
   "cell_type": "code",
   "execution_count": 60,
   "metadata": {
    "colab": {
     "base_uri": "https://localhost:8080/",
     "height": 300
    },
    "executionInfo": {
     "elapsed": 898119,
     "status": "ok",
     "timestamp": 1606936373769,
     "user": {
      "displayName": "Mariia Korliakova",
      "photoUrl": "",
      "userId": "14165537686129864864"
     },
     "user_tz": -180
    },
    "id": "6Ai-cpLjO-3A",
    "outputId": "62105531-4942-441e-c881-fbf88d0b3444"
   },
   "outputs": [
    {
     "data": {
      "image/png": "[encoded data removed]",
      "text/plain": [
       "<Figure size 432x288 with 1 Axes>"
      ]
     },
     "metadata": {
      "needs_background": "light"
     },
     "output_type": "display_data"
    }
   ],
   "source": [
    "plot_value_array(1, predictions_single[0], test_labels)\n",
    "_ = plt.xticks(range(10), class_names, rotation=45)"
   ]
  },
  {
   "cell_type": "markdown",
   "metadata": {
    "id": "cU1Y2OAMCaXb"
   },
   "source": [
    "`keras.Model.predict` возвращает список списков — по одному списку для каждого предсказания в батче. Нам нужны предсказания только для одного изображения:"
   ]
  },
  {
   "cell_type": "code",
   "execution_count": 61,
   "metadata": {
    "colab": {
     "base_uri": "https://localhost:8080/"
    },
    "executionInfo": {
     "elapsed": 898104,
     "status": "ok",
     "timestamp": 1606936373770,
     "user": {
      "displayName": "Mariia Korliakova",
      "photoUrl": "",
      "userId": "14165537686129864864"
     },
     "user_tz": -180
    },
    "id": "2tRmdq_8CaXb",
    "outputId": "72a85188-a5ff-4f58-e266-e21f0b91a14d"
   },
   "outputs": [
    {
     "data": {
      "text/plain": [
       "2"
      ]
     },
     "execution_count": 61,
     "metadata": {},
     "output_type": "execute_result"
    }
   ],
   "source": [
    "np.argmax(predictions_single[0])"
   ]
  },
  {
   "cell_type": "markdown",
   "metadata": {
    "id": "hcSnl7L5FzTA"
   },
   "source": [
    "Нейросеть при хорошо подобранных параметрах должна была выдать корректное предсказание\n",
    "\n",
    "\n",
    "Реализуем одинаковые смети в разном стиле:\n",
    "- model1 - линейная модель через список\n",
    "- model2 - линейная модель через добавление слоев по очереди\n",
    "- model3 - модель через функциональное описание\n",
    "\n",
    "У всех 3-х сетей последний слой линейный (это не правильно для классификации и сделано, что бы модель была совсем простой)\n",
    "\n",
    "\n"
   ]
  },
  {
   "cell_type": "code",
   "execution_count": 62,
   "metadata": {
    "colab": {
     "base_uri": "https://localhost:8080/"
    },
    "executionInfo": {
     "elapsed": 972634,
     "status": "ok",
     "timestamp": 1606936448316,
     "user": {
      "displayName": "Mariia Korliakova",
      "photoUrl": "",
      "userId": "14165537686129864864"
     },
     "user_tz": -180
    },
    "id": "pyurjN_EJN9P",
    "outputId": "5a8444d4-7e8c-4543-eaa3-7bced8e83ee4"
   },
   "outputs": [
    {
     "name": "stdout",
     "output_type": "stream",
     "text": [
      "Epoch 1/5\n",
      "1875/1875 [==============================] - 1s 618us/step - loss: 2.0254 - accuracy: 0.4777\n",
      "Epoch 2/5\n",
      "1875/1875 [==============================] - 1s 585us/step - loss: 1.8631 - accuracy: 0.6315\n",
      "Epoch 3/5\n",
      "1875/1875 [==============================] - 1s 587us/step - loss: 1.7949 - accuracy: 0.7027\n",
      "Epoch 4/5\n",
      "1875/1875 [==============================] - 1s 601us/step - loss: 1.7717 - accuracy: 0.7158\n",
      "Epoch 5/5\n",
      "1875/1875 [==============================] - 1s 589us/step - loss: 1.7596 - accuracy: 0.7223\n",
      "Epoch 1/5\n",
      "1875/1875 [==============================] - 2s 965us/step - loss: 1.6802 - accuracy: 0.7851\n",
      "Epoch 2/5\n",
      "1875/1875 [==============================] - 2s 950us/step - loss: 1.6216 - accuracy: 0.8406\n",
      "Epoch 3/5\n",
      "1875/1875 [==============================] - 2s 953us/step - loss: 1.6132 - accuracy: 0.8480\n",
      "Epoch 4/5\n",
      "1875/1875 [==============================] - 2s 981us/step - loss: 1.6052 - accuracy: 0.8558\n",
      "Epoch 5/5\n",
      "1875/1875 [==============================] - 2s 979us/step - loss: 1.5996 - accuracy: 0.8617\n",
      "Epoch 1/5\n",
      "1875/1875 [==============================] - 1s 777us/step - loss: 1.7079 - accuracy: 0.7597\n",
      "Epoch 2/5\n",
      "1875/1875 [==============================] - 1s 741us/step - loss: 1.6742 - accuracy: 0.7876\n",
      "Epoch 3/5\n",
      "1875/1875 [==============================] - 1s 743us/step - loss: 1.6650 - accuracy: 0.7962\n",
      "Epoch 4/5\n",
      "1875/1875 [==============================] - 1s 732us/step - loss: 1.6426 - accuracy: 0.8186\n",
      "Epoch 5/5\n",
      "1875/1875 [==============================] - 1s 704us/step - loss: 1.5997 - accuracy: 0.8623\n"
     ]
    }
   ],
   "source": [
    "# заполняем модель списком\n",
    "model1 = keras.Sequential([\n",
    "    keras.layers.Flatten(input_shape=(28, 28)),\n",
    "    keras.layers.Dense(128, activation='relu'),\n",
    "    keras.layers.Dense(10, activation='softmax')\n",
    "])\n",
    "\n",
    "# заполняем модель , добавляя слои последовательно \n",
    "model2 = keras.Sequential()\n",
    "model2.add(keras.layers.Flatten(input_shape=(28, 28)))\n",
    "model2.add(keras.layers.Dense(256, activation='relu'))\n",
    "model2.add(keras.layers.Dense(10, activation='softmax'))\n",
    "\n",
    "\n",
    "# Заполняем модель, формируя граф передачи тензоров\n",
    "x_input = keras.layers.Input(shape=(28,28))\n",
    "x3 = keras.layers.Flatten()(x_input)\n",
    "x3 = keras.layers.Dense(256, activation='relu')(x3)\n",
    "x_output = keras.layers.Dense(10, activation='softmax')(x3)\n",
    "model3=keras.models.Model(x_input,x_output)\n",
    "\n",
    "model1.compile(optimizer='sgd',\n",
    "              loss=tf.keras.losses.SparseCategoricalCrossentropy(from_logits=True),\n",
    "              metrics=['accuracy'])\n",
    "model2.compile(optimizer='rmsprop',\n",
    "              loss=tf.keras.losses.SparseCategoricalCrossentropy(from_logits=True),\n",
    "              metrics=['accuracy'])\n",
    "model3.compile(optimizer='adam',\n",
    "              loss=tf.keras.losses.SparseCategoricalCrossentropy(from_logits=True),\n",
    "              metrics=['accuracy'])\n",
    "\n",
    "hist1=model1.fit(train_images, train_labels, epochs=5)\n",
    "hist2=model2.fit(train_images, train_labels, epochs=5)\n",
    "hist3=model3.fit(train_images, train_labels, epochs=5)\n",
    "\n"
   ]
  },
  {
   "cell_type": "code",
   "execution_count": 63,
   "metadata": {
    "colab": {
     "base_uri": "https://localhost:8080/",
     "height": 295
    },
    "executionInfo": {
     "elapsed": 973416,
     "status": "ok",
     "timestamp": 1606936449114,
     "user": {
      "displayName": "Mariia Korliakova",
      "photoUrl": "",
      "userId": "14165537686129864864"
     },
     "user_tz": -180
    },
    "id": "N8SMebNEMi37",
    "outputId": "8a04737e-774b-4aab-8214-146e01a718fd"
   },
   "outputs": [
    {
     "data": {
      "image/png": "[encoded data removed]",
      "text/plain": [
       "<Figure size 432x288 with 1 Axes>"
      ]
     },
     "metadata": {
      "needs_background": "light"
     },
     "output_type": "display_data"
    }
   ],
   "source": [
    "plt.plot(hist1.history['accuracy'],label='model1 acc sgd')\n",
    "plt.plot(hist2.history['accuracy'],label='model2 acc rmsprop')\n",
    "plt.plot(hist3.history['accuracy'],label ='model3 acc adam')\n",
    "plt.title('точность сетей от эпох')\n",
    "plt.xlabel('эпоха')\n",
    "plt.legend()\n",
    "plt.show()"
   ]
  },
  {
   "cell_type": "code",
   "execution_count": null,
   "metadata": {
    "executionInfo": {
     "elapsed": 973402,
     "status": "ok",
     "timestamp": 1606936449116,
     "user": {
      "displayName": "Mariia Korliakova",
      "photoUrl": "",
      "userId": "14165537686129864864"
     },
     "user_tz": -180
    },
    "id": "iD4oM4JhPHWn"
   },
   "outputs": [],
   "source": []
  },
  {
   "cell_type": "code",
   "execution_count": 64,
   "metadata": {
    "executionInfo": {
     "elapsed": 973394,
     "status": "ok",
     "timestamp": 1606936449117,
     "user": {
      "displayName": "Mariia Korliakova",
      "photoUrl": "",
      "userId": "14165537686129864864"
     },
     "user_tz": -180
    },
    "id": "stCJv8cZMQZf"
   },
   "outputs": [],
   "source": [
    "# сохранить модели на диск.\n",
    "model1.save_weights('model1.h5')\n",
    "model2.save_weights('model2.h5')\n",
    "model3.save_weights('model3.h5')\n",
    "# прочитать модели с диска (перед этим, нужно положить их в каталог для работы виртуальной машины Колаборатории):\n",
    "# model.load_weights('model.h5')"
   ]
  },
  {
   "cell_type": "markdown",
   "metadata": {
    "id": "tBd6kDX9qCZ1"
   },
   "source": [
    "Выгрузим на локальную машину нашу модель"
   ]
  },
  {
   "cell_type": "code",
   "execution_count": 66,
   "metadata": {
    "colab": {
     "base_uri": "https://localhost:8080/",
     "height": 17
    },
    "executionInfo": {
     "elapsed": 973385,
     "status": "ok",
     "timestamp": 1606936449118,
     "user": {
      "displayName": "Mariia Korliakova",
      "photoUrl": "",
      "userId": "14165537686129864864"
     },
     "user_tz": -180
    },
    "id": "2mIfT7C773y4",
    "outputId": "74064ca2-aeff-4e4f-e02e-eb1d3d0eb69b"
   },
   "outputs": [],
   "source": [
    "# from google.colab import files\n",
    "\n",
    "# files.download('model1.h5')"
   ]
  },
  {
   "cell_type": "code",
   "execution_count": 67,
   "metadata": {
    "colab": {
     "base_uri": "https://localhost:8080/"
    },
    "executionInfo": {
     "elapsed": 973369,
     "status": "ok",
     "timestamp": 1606936449118,
     "user": {
      "displayName": "Mariia Korliakova",
      "photoUrl": "",
      "userId": "14165537686129864864"
     },
     "user_tz": -180
    },
    "id": "rGZ0VmTDWiSi",
    "outputId": "e87a8611-f0d5-419e-91c2-87e959fe1f33"
   },
   "outputs": [
    {
     "data": {
      "text/plain": [
       "<tf.Tensor 'dense_63/Relu:0' shape=(None, 256) dtype=float32>"
      ]
     },
     "execution_count": 67,
     "metadata": {},
     "output_type": "execute_result"
    }
   ],
   "source": [
    "x3"
   ]
  },
  {
   "cell_type": "markdown",
   "metadata": {
    "id": "RP9nm6V6qS7q"
   },
   "source": [
    "Сделаем предсказание на тестовом изображении"
   ]
  },
  {
   "cell_type": "code",
   "execution_count": 68,
   "metadata": {
    "executionInfo": {
     "elapsed": 974011,
     "status": "ok",
     "timestamp": 1606936449775,
     "user": {
      "displayName": "Mariia Korliakova",
      "photoUrl": "",
      "userId": "14165537686129864864"
     },
     "user_tz": -180
    },
    "id": "QvkvodqxWmVn"
   },
   "outputs": [],
   "source": [
    "y_pred = model3.predict(test_images)\n",
    "y_pred_arg = np.argmax(y_pred, axis=1)"
   ]
  },
  {
   "cell_type": "markdown",
   "metadata": {
    "id": "b2WJFW5kqagU"
   },
   "source": [
    "Отобразим значения на выходах сети (10 выходов - 10 точек графика)"
   ]
  },
  {
   "cell_type": "code",
   "execution_count": 69,
   "metadata": {
    "colab": {
     "base_uri": "https://localhost:8080/",
     "height": 295
    },
    "executionInfo": {
     "elapsed": 974000,
     "status": "ok",
     "timestamp": 1606936449776,
     "user": {
      "displayName": "Mariia Korliakova",
      "photoUrl": "",
      "userId": "14165537686129864864"
     },
     "user_tz": -180
    },
    "id": "EF18AOsTbsih",
    "outputId": "2cdfb9c9-54f3-4614-aa8a-e4db6cef1f00"
   },
   "outputs": [
    {
     "data": {
      "image/png": "[encoded data removed]",
      "text/plain": [
       "<Figure size 432x288 with 1 Axes>"
      ]
     },
     "metadata": {
      "needs_background": "light"
     },
     "output_type": "display_data"
    }
   ],
   "source": [
    "N = 10 \n",
    "plt.plot(y_pred[N,:])\n",
    "plt.title('объект ' +class_names[test_labels[N]]+ '  No-'+str(test_labels[N]))\n",
    "plt.xlabel('номер выхода сети')\n",
    "plt.ylabel('значение на выходе')\n",
    "plt.show()"
   ]
  },
  {
   "cell_type": "code",
   "execution_count": 70,
   "metadata": {
    "colab": {
     "base_uri": "https://localhost:8080/"
    },
    "executionInfo": {
     "elapsed": 975025,
     "status": "ok",
     "timestamp": 1606936450817,
     "user": {
      "displayName": "Mariia Korliakova",
      "photoUrl": "",
      "userId": "14165537686129864864"
     },
     "user_tz": -180
    },
    "id": "K0cGPgqBc-sb",
    "outputId": "397f7f66-4315-42d4-a4d3-ff8a9a2a1c67"
   },
   "outputs": [
    {
     "name": "stdout",
     "output_type": "stream",
     "text": [
      "313/313 - 0s - loss: 1.6096 - accuracy: 0.8523\n"
     ]
    }
   ],
   "source": [
    "test_loss, test_acc = model3.evaluate(test_images,  test_labels, verbose=2)"
   ]
  },
  {
   "cell_type": "markdown",
   "metadata": {
    "id": "f_dWDPIIuE6e"
   },
   "source": [
    "### **Ансамбль сетей**\n",
    "\n",
    "Использование функционального API для построения сложных сетей"
   ]
  },
  {
   "cell_type": "code",
   "execution_count": 71,
   "metadata": {
    "executionInfo": {
     "elapsed": 975010,
     "status": "ok",
     "timestamp": 1606936450818,
     "user": {
      "displayName": "Mariia Korliakova",
      "photoUrl": "",
      "userId": "14165537686129864864"
     },
     "user_tz": -180
    },
    "id": "3cJ-0N8Es0gB"
   },
   "outputs": [],
   "source": [
    "input1 = keras.layers.Input(shape=(28, 28))\n",
    "x1= keras.layers.Flatten()(input1)\n",
    "x1 = keras.layers.Dense(128, activation='relu')(x1)\n",
    "x1 =keras.layers.Dense(10)(x1)\n",
    "\n",
    "model11 =keras.models.Model(inputs=input1,outputs=x1)\n",
    "\n",
    "\n",
    "x2= keras.layers.Flatten()(input1)\n",
    "x2 = keras.layers.Dense(256, activation='relu')(x2)\n",
    "x2=keras.layers.Dense(10)(x2)\n",
    "\n",
    "model22 =keras.models.Model(inputs=input1,outputs=x2)\n",
    "\n",
    "x3= keras.layers.Flatten()(input1)\n",
    "x3 = keras.layers.Dense(256, activation='relu')(x3)\n",
    "x3=keras.layers.Dense(10)(x3)\n",
    "\n",
    "\n",
    "model33 =keras.models.Model(inputs=input1,outputs=x3)\n",
    "\n",
    "\n",
    "out_all = keras.layers.Average()([model11.output,model22.output,model33.output])\n",
    "out_all = keras.layers.Softmax()(out_all)\n",
    "model_all=keras.models.Model(inputs =[input1],outputs =out_all)\n",
    "model_all.compile(optimizer=tf.keras.optimizers.Adagrad(lr=0.1, epsilon=1e-08, decay=0.0),\n",
    "              loss=tf.keras.losses.SparseCategoricalCrossentropy(from_logits=True),\n",
    "              metrics=['accuracy'])\n",
    "\n",
    "\n",
    "model11.load_weights('model1.h5')\n",
    "model22.load_weights('model2.h5')\n",
    "model33.load_weights('model3.h5')"
   ]
  },
  {
   "cell_type": "code",
   "execution_count": 72,
   "metadata": {
    "colab": {
     "base_uri": "https://localhost:8080/"
    },
    "executionInfo": {
     "elapsed": 975001,
     "status": "ok",
     "timestamp": 1606936450820,
     "user": {
      "displayName": "Mariia Korliakova",
      "photoUrl": "",
      "userId": "14165537686129864864"
     },
     "user_tz": -180
    },
    "id": "zdNzWR6Se6fZ",
    "outputId": "9438135b-b441-47ee-a5ad-a36b177d457e"
   },
   "outputs": [
    {
     "data": {
      "text/plain": [
       "<tensorflow.python.keras.optimizer_v2.adam.Adam at 0x135206598c8>"
      ]
     },
     "execution_count": 72,
     "metadata": {},
     "output_type": "execute_result"
    }
   ],
   "source": [
    "tf.keras.optimizers.Adam()"
   ]
  },
  {
   "cell_type": "code",
   "execution_count": 73,
   "metadata": {
    "colab": {
     "base_uri": "https://localhost:8080/"
    },
    "executionInfo": {
     "elapsed": 974987,
     "status": "ok",
     "timestamp": 1606936450821,
     "user": {
      "displayName": "Mariia Korliakova",
      "photoUrl": "",
      "userId": "14165537686129864864"
     },
     "user_tz": -180
    },
    "id": "uyUsa1Afs6cW",
    "outputId": "bb38aee1-0e61-4be8-ab3f-9d9952194e03"
   },
   "outputs": [
    {
     "name": "stdout",
     "output_type": "stream",
     "text": [
      "Model: \"functional_9\"\n",
      "__________________________________________________________________________________________________\n",
      "Layer (type)                    Output Shape         Param #     Connected to                     \n",
      "==================================================================================================\n",
      "input_2 (InputLayer)            [(None, 28, 28)]     0                                            \n",
      "__________________________________________________________________________________________________\n",
      "flatten_4 (Flatten)             (None, 784)          0           input_2[0][0]                    \n",
      "__________________________________________________________________________________________________\n",
      "flatten_5 (Flatten)             (None, 784)          0           input_2[0][0]                    \n",
      "__________________________________________________________________________________________________\n",
      "flatten_6 (Flatten)             (None, 784)          0           input_2[0][0]                    \n",
      "__________________________________________________________________________________________________\n",
      "dense_65 (Dense)                (None, 128)          100480      flatten_4[0][0]                  \n",
      "__________________________________________________________________________________________________\n",
      "dense_67 (Dense)                (None, 256)          200960      flatten_5[0][0]                  \n",
      "__________________________________________________________________________________________________\n",
      "dense_69 (Dense)                (None, 256)          200960      flatten_6[0][0]                  \n",
      "__________________________________________________________________________________________________\n",
      "dense_66 (Dense)                (None, 10)           1290        dense_65[0][0]                   \n",
      "__________________________________________________________________________________________________\n",
      "dense_68 (Dense)                (None, 10)           2570        dense_67[0][0]                   \n",
      "__________________________________________________________________________________________________\n",
      "dense_70 (Dense)                (None, 10)           2570        dense_69[0][0]                   \n",
      "__________________________________________________________________________________________________\n",
      "average (Average)               (None, 10)           0           dense_66[0][0]                   \n",
      "                                                                 dense_68[0][0]                   \n",
      "                                                                 dense_70[0][0]                   \n",
      "__________________________________________________________________________________________________\n",
      "softmax_1 (Softmax)             (None, 10)           0           average[0][0]                    \n",
      "==================================================================================================\n",
      "Total params: 508,830\n",
      "Trainable params: 508,830\n",
      "Non-trainable params: 0\n",
      "__________________________________________________________________________________________________\n"
     ]
    }
   ],
   "source": [
    "model_all.summary()"
   ]
  },
  {
   "cell_type": "code",
   "execution_count": 74,
   "metadata": {
    "executionInfo": {
     "elapsed": 974972,
     "status": "ok",
     "timestamp": 1606936450822,
     "user": {
      "displayName": "Mariia Korliakova",
      "photoUrl": "",
      "userId": "14165537686129864864"
     },
     "user_tz": -180
    },
    "id": "ET_usPF9ejrP"
   },
   "outputs": [],
   "source": [
    "from tensorflow.keras.utils import plot_model"
   ]
  },
  {
   "cell_type": "code",
   "execution_count": 75,
   "metadata": {
    "colab": {
     "base_uri": "https://localhost:8080/",
     "height": 564
    },
    "executionInfo": {
     "elapsed": 974963,
     "status": "ok",
     "timestamp": 1606936450823,
     "user": {
      "displayName": "Mariia Korliakova",
      "photoUrl": "",
      "userId": "14165537686129864864"
     },
     "user_tz": -180
    },
    "id": "T8L3JBiWewft",
    "outputId": "017d9e0f-527f-43f6-9b35-807a917dae70"
   },
   "outputs": [
    {
     "name": "stdout",
     "output_type": "stream",
     "text": [
      "('Failed to import pydot. You must `pip install pydot` and install graphviz (https://graphviz.gitlab.io/download/), ', 'for `pydotprint` to work.')\n"
     ]
    }
   ],
   "source": [
    "plot_model(model_all,to_file='new_model-all.png')"
   ]
  },
  {
   "cell_type": "code",
   "execution_count": 76,
   "metadata": {
    "colab": {
     "base_uri": "https://localhost:8080/"
    },
    "executionInfo": {
     "elapsed": 974947,
     "status": "ok",
     "timestamp": 1606936450823,
     "user": {
      "displayName": "Mariia Korliakova",
      "photoUrl": "",
      "userId": "14165537686129864864"
     },
     "user_tz": -180
    },
    "id": "9nqTRLVhts6i",
    "outputId": "3bddd06e-c3d9-4f8c-cec4-5a1e2dec7375"
   },
   "outputs": [
    {
     "name": "stdout",
     "output_type": "stream",
     "text": [
      "[[1.7188736e-20 1.4249278e-17 1.0000000e+00 4.6438654e-19 7.6412219e-12\n",
      "  1.1511844e-18 5.9877415e-16 9.5818887e-33 1.5624010e-16 4.4808834e-31]]\n"
     ]
    }
   ],
   "source": [
    "predictions_single=model_all.predict(img)\n",
    "\n",
    "print(predictions_single)"
   ]
  },
  {
   "cell_type": "code",
   "execution_count": 77,
   "metadata": {
    "colab": {
     "base_uri": "https://localhost:8080/",
     "height": 300
    },
    "executionInfo": {
     "elapsed": 975751,
     "status": "ok",
     "timestamp": 1606936451643,
     "user": {
      "displayName": "Mariia Korliakova",
      "photoUrl": "",
      "userId": "14165537686129864864"
     },
     "user_tz": -180
    },
    "id": "ZRejlxRetwpq",
    "outputId": "189d13b7-3fe7-4e66-d93f-a0cc96c58aed"
   },
   "outputs": [
    {
     "data": {
      "image/png": "[encoded data removed]",
      "text/plain": [
       "<Figure size 432x288 with 1 Axes>"
      ]
     },
     "metadata": {
      "needs_background": "light"
     },
     "output_type": "display_data"
    }
   ],
   "source": [
    "plot_value_array(1, predictions_single[0], test_labels)\n",
    "_ = plt.xticks(range(10), class_names, rotation=45)"
   ]
  },
  {
   "cell_type": "code",
   "execution_count": 78,
   "metadata": {
    "colab": {
     "base_uri": "https://localhost:8080/"
    },
    "executionInfo": {
     "elapsed": 975739,
     "status": "ok",
     "timestamp": 1606936451647,
     "user": {
      "displayName": "Mariia Korliakova",
      "photoUrl": "",
      "userId": "14165537686129864864"
     },
     "user_tz": -180
    },
    "id": "OnUoZIIgt10d",
    "outputId": "787d9517-a6d0-4114-a524-93c3cb420b04"
   },
   "outputs": [
    {
     "name": "stdout",
     "output_type": "stream",
     "text": [
      "313/313 - 0s - loss: 1.6133 - accuracy: 0.8482\n"
     ]
    }
   ],
   "source": [
    "test_loss, test_acc = model_all.evaluate(test_images,  test_labels, verbose=2)"
   ]
  },
  {
   "cell_type": "markdown",
   "metadata": {
    "id": "pZyy2UhoFzTB"
   },
   "source": [
    "## Практическое задание\n",
    "\n",
    "  1. Постройте нейронную сеть(берем простую линейную сеть, которую разбирали на уроке: меняем число слоев, число нейронов , типы активации, тип оптимизатора)  на датасет from sklearn.datasets import load_boston (или Fashion_Mnist). \n",
    "  2. Измените функцию потерь и метрику для этой задачи. Постройте 10-15 вариантов и сведите результаты их работы в таблицу  Опишите, какого результата вы добились от нейросети? Что помогло вам улучшить ее точность?\n",
    "\n",
    "  3. Поработайте с документацией TensorFlow 2. Найти 2-3 полезные команды TensorFlow, не разобранные на уроке (полезные для Вас).\n",
    "\n",
    "  1-2. (*)  Попробуйте обучить нейронную сеть на TensorFlow 2 на датасете imdb_reviews .Опишите, какого результата вы добились от нейросети? Что помогло вам улучшить ее точность?\n",
    "    \n",
    "    \n",
    "</ol>"
   ]
  },
  {
   "cell_type": "markdown",
   "metadata": {
    "id": "oNZ6hZcMFzTE"
   },
   "source": [
    "## Дополнительные материалы\n",
    "\n",
    "<ol>\n",
    "    <li>www.tensorflow.org/api_docs</li>\n",
    "</ol>"
   ]
  },
  {
   "cell_type": "markdown",
   "metadata": {
    "id": "Q64Z2Kr_FzTF"
   },
   "source": [
    "## Используемая литература \n",
    "\n",
    "Для подготовки данного методического пособия были использованы следующие ресурсы:\n",
    "<ol>\n",
    "    <li>https://www.tensorflow.org/</li>\n",
    "    <li>https://www.tensorflow.org/tutorials/keras/classification</li>\n",
    "    <li>Singh P., Manure A. - Learn TensorFlow 2.0 - 2020</li>\n",
    "    <li>Шакла Н. — Машинное обучение и TensorFlow 2019</li>\n",
    "    <li>Википедия</li>\n",
    "    \n",
    "</ol>"
   ]
  },
  {
   "cell_type": "code",
   "execution_count": null,
   "metadata": {},
   "outputs": [],
   "source": []
  }
 ],
 "metadata": {
  "accelerator": "GPU",
  "colab": {
   "collapsed_sections": [],
   "name": "metodich3_colab_3_07.ipynb",
   "provenance": []
  },
  "kernelspec": {
   "display_name": "Python 3",
   "language": "python",
   "name": "python3"
  },
  "language_info": {
   "codemirror_mode": {
    "name": "ipython",
    "version": 3
   },
   "file_extension": ".py",
   "mimetype": "text/x-python",
   "name": "python",
   "nbconvert_exporter": "python",
   "pygments_lexer": "ipython3",
   "version": "3.7.6"
  }
 },
 "nbformat": 4,
 "nbformat_minor": 1
}
