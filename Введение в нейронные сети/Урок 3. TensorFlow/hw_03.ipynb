{
 "cells": [
  {
   "cell_type": "markdown",
   "metadata": {
    "id": "Sb86n-BbXM1N"
   },
   "source": [
    "## Практическое задание\n",
    "\n",
    "  1. Постройте нейронную сеть(берем простую линейную сеть, которую разбирали на уроке: меняем число слоев, число нейронов , типы активации, тип оптимизатора)  на датасет from sklearn.datasets import load_boston (или Fashion_Mnist). \n",
    "  2. Измените функцию потерь и метрику для этой задачи. Постройте 10-15 вариантов и сведите результаты их работы в таблицу  Опишите, какого результата вы добились от нейросети? Что помогло вам улучшить ее точность?\n",
    "\n",
    "  3. Поработайте с документацией TensorFlow 2. Найти 2-3 полезные команды TensorFlow, не разобранные на уроке (полезные для Вас).\n",
    "\n",
    "  1-2. (*)  Попробуйте обучить нейронную сеть на TensorFlow 2 на датасете imdb_reviews .Опишите, какого результата вы добились от нейросети? Что помогло вам улучшить ее точность?"
   ]
  },
  {
   "cell_type": "markdown",
   "metadata": {
    "id": "5OJ2rB_3ZZHS"
   },
   "source": [
    "### Подключение библиотек и скриптов"
   ]
  },
  {
   "cell_type": "code",
   "execution_count": 1,
   "metadata": {},
   "outputs": [
    {
     "data": {
      "text/html": [
       "<style>.container { width:72.5% !important; }</style>"
      ],
      "text/plain": [
       "<IPython.core.display.HTML object>"
      ]
     },
     "metadata": {},
     "output_type": "display_data"
    }
   ],
   "source": [
    "from IPython.core.display import display, HTML\n",
    "display(HTML(\"<style>.container { width:72.5% !important; }</style>\"))"
   ]
  },
  {
   "cell_type": "code",
   "execution_count": 2,
   "metadata": {
    "executionInfo": {
     "elapsed": 613,
     "status": "ok",
     "timestamp": 1607088118418,
     "user": {
      "displayName": "Alexey Tankov",
      "photoUrl": "",
      "userId": "01729535101672247421"
     },
     "user_tz": -180
    },
    "id": "lJUcpE49XB6u"
   },
   "outputs": [],
   "source": [
    "import tensorflow as tf\n",
    "from tensorflow.keras.models import Sequential\n",
    "from tensorflow.keras.layers import Dense, Flatten, Dropout\n",
    "from tensorflow.keras.utils import to_categorical\n",
    "\n",
    "import numpy as np\n",
    "import pandas as pd\n",
    "import seaborn as sns\n",
    "import matplotlib.pyplot as plt\n",
    "%matplotlib inline"
   ]
  },
  {
   "cell_type": "code",
   "execution_count": 3,
   "metadata": {
    "executionInfo": {
     "elapsed": 612,
     "status": "ok",
     "timestamp": 1607088118669,
     "user": {
      "displayName": "Alexey Tankov",
      "photoUrl": "",
      "userId": "01729535101672247421"
     },
     "user_tz": -180
    },
    "id": "rgkw7y-qZhNB"
   },
   "outputs": [],
   "source": [
    "plt.rcParams.update({'font.size': 14})\n",
    "pd.set_option('precision', 3)\n",
    "pd.set_option('max_columns', 100)\n",
    "pd.set_option('display.float_format', lambda x: '%.5f' % x)\n",
    "pd.set_option('display.max_columns', 500)\n",
    "pd.set_option('display.max_rows', 500)\n",
    "pd.set_option('max_colwidth', 300)"
   ]
  },
  {
   "cell_type": "markdown",
   "metadata": {
    "id": "_kqapiAAZebg"
   },
   "source": [
    "### Загрузка данных"
   ]
  },
  {
   "cell_type": "code",
   "execution_count": 4,
   "metadata": {
    "executionInfo": {
     "elapsed": 6832,
     "status": "ok",
     "timestamp": 1607088125383,
     "user": {
      "displayName": "Alexey Tankov",
      "photoUrl": "",
      "userId": "01729535101672247421"
     },
     "user_tz": -180
    },
    "id": "uPKTtjpxX2lF"
   },
   "outputs": [],
   "source": [
    "from tensorflow.keras.datasets import imdb\n",
    "\n",
    "(train_data, train_labels), (test_data, test_labels) = imdb.load_data(num_words=10000)\n",
    "# (X_train, y_train), (X_test, y_test) = imdb.load_data()"
   ]
  },
  {
   "cell_type": "markdown",
   "metadata": {
    "id": "qKlir071gOo8"
   },
   "source": [
    "### Изучение датасета"
   ]
  },
  {
   "cell_type": "code",
   "execution_count": 5,
   "metadata": {
    "colab": {
     "base_uri": "https://localhost:8080/"
    },
    "executionInfo": {
     "elapsed": 6498,
     "status": "ok",
     "timestamp": 1607088125385,
     "user": {
      "displayName": "Alexey Tankov",
      "photoUrl": "",
      "userId": "01729535101672247421"
     },
     "user_tz": -180
    },
    "id": "HTDALf5hgPjD",
    "outputId": "93194d32-bef5-4795-f32b-b03f529bc6fc"
   },
   "outputs": [
    {
     "data": {
      "text/plain": [
       "(25000,)"
      ]
     },
     "execution_count": 5,
     "metadata": {},
     "output_type": "execute_result"
    }
   ],
   "source": [
    "train_data.shape"
   ]
  },
  {
   "cell_type": "code",
   "execution_count": 6,
   "metadata": {
    "colab": {
     "base_uri": "https://localhost:8080/"
    },
    "executionInfo": {
     "elapsed": 6338,
     "status": "ok",
     "timestamp": 1607088125386,
     "user": {
      "displayName": "Alexey Tankov",
      "photoUrl": "",
      "userId": "01729535101672247421"
     },
     "user_tz": -180
    },
    "id": "S2KCYcgpgWli",
    "outputId": "0b58edd5-c870-49dc-8490-074a52994485"
   },
   "outputs": [
    {
     "data": {
      "text/plain": [
       "array([1, 0, 0, ..., 0, 1, 0], dtype=int64)"
      ]
     },
     "execution_count": 6,
     "metadata": {},
     "output_type": "execute_result"
    }
   ],
   "source": [
    "train_labels"
   ]
  },
  {
   "cell_type": "code",
   "execution_count": 7,
   "metadata": {
    "colab": {
     "base_uri": "https://localhost:8080/"
    },
    "executionInfo": {
     "elapsed": 6189,
     "status": "ok",
     "timestamp": 1607088125387,
     "user": {
      "displayName": "Alexey Tankov",
      "photoUrl": "",
      "userId": "01729535101672247421"
     },
     "user_tz": -180
    },
    "id": "Me1daDqnmx8P",
    "outputId": "8fb0449d-c7a6-411a-cdf0-6d8ed5cf9fe0"
   },
   "outputs": [
    {
     "data": {
      "text/plain": [
       "(25000,)"
      ]
     },
     "execution_count": 7,
     "metadata": {},
     "output_type": "execute_result"
    }
   ],
   "source": [
    "test_data.shape"
   ]
  },
  {
   "cell_type": "code",
   "execution_count": 8,
   "metadata": {
    "colab": {
     "base_uri": "https://localhost:8080/"
    },
    "executionInfo": {
     "elapsed": 6030,
     "status": "ok",
     "timestamp": 1607088125387,
     "user": {
      "displayName": "Alexey Tankov",
      "photoUrl": "",
      "userId": "01729535101672247421"
     },
     "user_tz": -180
    },
    "id": "8z70QObtm58m",
    "outputId": "a5e8f361-4d2e-49ed-dfe6-66ca1957f4c8"
   },
   "outputs": [
    {
     "data": {
      "text/plain": [
       "array([0, 1, 1, ..., 0, 0, 0], dtype=int64)"
      ]
     },
     "execution_count": 8,
     "metadata": {},
     "output_type": "execute_result"
    }
   ],
   "source": [
    "test_labels"
   ]
  },
  {
   "cell_type": "code",
   "execution_count": 9,
   "metadata": {
    "executionInfo": {
     "elapsed": 5872,
     "status": "ok",
     "timestamp": 1607088125388,
     "user": {
      "displayName": "Alexey Tankov",
      "photoUrl": "",
      "userId": "01729535101672247421"
     },
     "user_tz": -180
    },
    "id": "5BrhB7dABW0p"
   },
   "outputs": [],
   "source": [
    "# train_data[0]"
   ]
  },
  {
   "cell_type": "code",
   "execution_count": 10,
   "metadata": {
    "colab": {
     "base_uri": "https://localhost:8080/"
    },
    "executionInfo": {
     "elapsed": 5717,
     "status": "ok",
     "timestamp": 1607088125390,
     "user": {
      "displayName": "Alexey Tankov",
      "photoUrl": "",
      "userId": "01729535101672247421"
     },
     "user_tz": -180
    },
    "id": "1tH-H8iWtsqt",
    "outputId": "e7bea180-b7c6-4010-b647-9fe3aff77d30"
   },
   "outputs": [
    {
     "data": {
      "text/plain": [
       "9999"
      ]
     },
     "execution_count": 10,
     "metadata": {},
     "output_type": "execute_result"
    }
   ],
   "source": [
    "max([max(sequence) for sequence in train_data])"
   ]
  },
  {
   "cell_type": "markdown",
   "metadata": {
    "id": "ZNJrp85BpXYG"
   },
   "source": [
    "### Построение модели"
   ]
  },
  {
   "cell_type": "code",
   "execution_count": 11,
   "metadata": {
    "executionInfo": {
     "elapsed": 7969,
     "status": "ok",
     "timestamp": 1607088128077,
     "user": {
      "displayName": "Alexey Tankov",
      "photoUrl": "",
      "userId": "01729535101672247421"
     },
     "user_tz": -180
    },
    "id": "BfOFbKjTVAL_"
   },
   "outputs": [],
   "source": [
    "def vectorize_sequences(sequences, dimension=10000):\n",
    "    # Create an all-zero matrix of shape (len(sequences), dimension)\n",
    "    results = np.zeros((len(sequences), dimension))\n",
    "    for i, sequence in enumerate(sequences):\n",
    "        results[i, sequence] = 1  #set specific indices of results[i] to 1s\n",
    "    return results\n",
    "\n",
    "# Our vectorized training data\n",
    "X_train = vectorize_sequences(train_data)\n",
    "# Our vectorized test data\n",
    "X_test = vectorize_sequences(test_data)"
   ]
  },
  {
   "cell_type": "code",
   "execution_count": 12,
   "metadata": {
    "colab": {
     "base_uri": "https://localhost:8080/"
    },
    "executionInfo": {
     "elapsed": 7764,
     "status": "ok",
     "timestamp": 1607088128078,
     "user": {
      "displayName": "Alexey Tankov",
      "photoUrl": "",
      "userId": "01729535101672247421"
     },
     "user_tz": -180
    },
    "id": "rK-Pn10qVGXw",
    "outputId": "68bb243f-0769-4ca7-9494-b61f5ab089fd"
   },
   "outputs": [
    {
     "data": {
      "text/plain": [
       "array([0., 1., 1., ..., 0., 0., 0.])"
      ]
     },
     "execution_count": 12,
     "metadata": {},
     "output_type": "execute_result"
    }
   ],
   "source": [
    "X_train[0]"
   ]
  },
  {
   "cell_type": "code",
   "execution_count": 13,
   "metadata": {
    "executionInfo": {
     "elapsed": 7587,
     "status": "ok",
     "timestamp": 1607088128079,
     "user": {
      "displayName": "Alexey Tankov",
      "photoUrl": "",
      "userId": "01729535101672247421"
     },
     "user_tz": -180
    },
    "id": "RMeTLoikVIoU"
   },
   "outputs": [],
   "source": [
    "# Our vectorized labels\n",
    "y_train = np.asarray(train_labels).astype('float32')\n",
    "y_test = np.asarray(test_labels).astype('float32')"
   ]
  },
  {
   "cell_type": "markdown",
   "metadata": {},
   "source": [
    "### Validating"
   ]
  },
  {
   "cell_type": "code",
   "execution_count": 14,
   "metadata": {},
   "outputs": [],
   "source": [
    "x_val = X_train[:10000]\n",
    "partial_x_train = X_train[10000:]\n",
    "\n",
    "y_val = y_train[:10000]\n",
    "partial_y_train = y_train[10000:]"
   ]
  },
  {
   "cell_type": "markdown",
   "metadata": {
    "id": "fzfu4h3xXon8"
   },
   "source": [
    "### Model - 1"
   ]
  },
  {
   "cell_type": "code",
   "execution_count": 15,
   "metadata": {
    "executionInfo": {
     "elapsed": 7251,
     "status": "ok",
     "timestamp": 1607088128080,
     "user": {
      "displayName": "Alexey Tankov",
      "photoUrl": "",
      "userId": "01729535101672247421"
     },
     "user_tz": -180
    },
    "id": "MX3kn5LPVNj5"
   },
   "outputs": [],
   "source": [
    "model = Sequential([\n",
    "    Dense(512, activation='relu', input_shape=(10000,)),\n",
    "    Dense(512, activation='linear'),\n",
    "    Dense(1, activation='softmax')\n",
    "])"
   ]
  },
  {
   "cell_type": "code",
   "execution_count": 16,
   "metadata": {
    "executionInfo": {
     "elapsed": 7058,
     "status": "ok",
     "timestamp": 1607088128081,
     "user": {
      "displayName": "Alexey Tankov",
      "photoUrl": "",
      "userId": "01729535101672247421"
     },
     "user_tz": -180
    },
    "id": "cVDNh23JVhbE"
   },
   "outputs": [],
   "source": [
    "model.compile(optimizer='adam',\n",
    "                     loss='categorical_crossentropy',\n",
    "                     metrics=['accuracy'])"
   ]
  },
  {
   "cell_type": "code",
   "execution_count": 17,
   "metadata": {
    "colab": {
     "base_uri": "https://localhost:8080/"
    },
    "executionInfo": {
     "elapsed": 145867,
     "status": "ok",
     "timestamp": 1607088267087,
     "user": {
      "displayName": "Alexey Tankov",
      "photoUrl": "",
      "userId": "01729535101672247421"
     },
     "user_tz": -180
    },
    "id": "SYHfjCa2VzSr",
    "outputId": "dfa0298f-9d45-49f0-e42f-1eb6b8417ed7"
   },
   "outputs": [
    {
     "name": "stdout",
     "output_type": "stream",
     "text": [
      "Epoch 1/5\n",
      "782/782 [==============================] - 14s 17ms/step - loss: 0.0000e+00 - accuracy: 0.5000 - val_loss: 0.0000e+00 - val_accuracy: 0.5053\n",
      "Epoch 2/5\n",
      "782/782 [==============================] - 13s 17ms/step - loss: 0.0000e+00 - accuracy: 0.5000 - val_loss: 0.0000e+00 - val_accuracy: 0.5053\n",
      "Epoch 3/5\n",
      "782/782 [==============================] - 13s 17ms/step - loss: 0.0000e+00 - accuracy: 0.5000 - val_loss: 0.0000e+00 - val_accuracy: 0.5053\n",
      "Epoch 4/5\n",
      "782/782 [==============================] - 13s 17ms/step - loss: 0.0000e+00 - accuracy: 0.5000 - val_loss: 0.0000e+00 - val_accuracy: 0.5053\n",
      "Epoch 5/5\n",
      "782/782 [==============================] - 13s 17ms/step - loss: 0.0000e+00 - accuracy: 0.5000 - val_loss: 0.0000e+00 - val_accuracy: 0.5053\n"
     ]
    }
   ],
   "source": [
    "history = model.fit(X_train, y_train, epochs=5, validation_data=(x_val, y_val))"
   ]
  },
  {
   "cell_type": "code",
   "execution_count": 18,
   "metadata": {
    "executionInfo": {
     "elapsed": 154385,
     "status": "ok",
     "timestamp": 1607088275797,
     "user": {
      "displayName": "Alexey Tankov",
      "photoUrl": "",
      "userId": "01729535101672247421"
     },
     "user_tz": -180
    },
    "id": "Tv-_i445bZwK"
   },
   "outputs": [],
   "source": [
    "score = model.evaluate(X_train, y_train, verbose=0)"
   ]
  },
  {
   "cell_type": "code",
   "execution_count": 19,
   "metadata": {
    "colab": {
     "base_uri": "https://localhost:8080/"
    },
    "executionInfo": {
     "elapsed": 154208,
     "status": "ok",
     "timestamp": 1607088275798,
     "user": {
      "displayName": "Alexey Tankov",
      "photoUrl": "",
      "userId": "01729535101672247421"
     },
     "user_tz": -180
    },
    "id": "uiG4iN54bfRP",
    "outputId": "e060ee57-3413-4f27-b1bf-de7a05f0f512"
   },
   "outputs": [
    {
     "name": "stdout",
     "output_type": "stream",
     "text": [
      "Test loss: 0.0\n",
      "Test accuracy: 0.5\n"
     ]
    }
   ],
   "source": [
    "print('Test loss:', score[0])\n",
    "print('Test accuracy:', score[1])"
   ]
  },
  {
   "cell_type": "code",
   "execution_count": 20,
   "metadata": {
    "colab": {
     "base_uri": "https://localhost:8080/",
     "height": 307
    },
    "executionInfo": {
     "elapsed": 154008,
     "status": "ok",
     "timestamp": 1607088275800,
     "user": {
      "displayName": "Alexey Tankov",
      "photoUrl": "",
      "userId": "01729535101672247421"
     },
     "user_tz": -180
    },
    "id": "KVe0ssCLWcVf",
    "outputId": "aed026a8-8599-4737-9267-255cf69fb726"
   },
   "outputs": [
    {
     "data": {
      "image/png": "[encoded data removed]",
      "text/plain": [
       "<Figure size 432x288 with 1 Axes>"
      ]
     },
     "metadata": {
      "needs_background": "light"
     },
     "output_type": "display_data"
    }
   ],
   "source": [
    "plt.plot(history.history['accuracy'], label='train')\n",
    "plt.plot(history.history['val_accuracy'], label='val')\n",
    "plt.legend()\n",
    "plt.xlabel('epochs')\n",
    "plt.ylabel('accuracy')\n",
    "plt.title('Accuracy of epochs')\n",
    "plt.show()"
   ]
  },
  {
   "cell_type": "markdown",
   "metadata": {
    "id": "l2v0g09JXtvy"
   },
   "source": [
    "### Model - 2"
   ]
  },
  {
   "cell_type": "code",
   "execution_count": 21,
   "metadata": {
    "executionInfo": {
     "elapsed": 153887,
     "status": "ok",
     "timestamp": 1607088276025,
     "user": {
      "displayName": "Alexey Tankov",
      "photoUrl": "",
      "userId": "01729535101672247421"
     },
     "user_tz": -180
    },
    "id": "fZlGI_J5YI8C"
   },
   "outputs": [],
   "source": [
    "model_2 = Sequential([\n",
    "    Dense(512, activation='relu', input_shape=(10000,)),\n",
    "    Dense(512, activation='linear'),\n",
    "    Dense(1, activation='sigmoid')\n",
    "])"
   ]
  },
  {
   "cell_type": "code",
   "execution_count": 22,
   "metadata": {
    "executionInfo": {
     "elapsed": 153712,
     "status": "ok",
     "timestamp": 1607088276027,
     "user": {
      "displayName": "Alexey Tankov",
      "photoUrl": "",
      "userId": "01729535101672247421"
     },
     "user_tz": -180
    },
    "id": "jLgeBbzdWB5b"
   },
   "outputs": [],
   "source": [
    "model_2.compile(optimizer='adam',\n",
    "                     loss='categorical_crossentropy',\n",
    "                     metrics=['accuracy'])"
   ]
  },
  {
   "cell_type": "code",
   "execution_count": 23,
   "metadata": {
    "colab": {
     "base_uri": "https://localhost:8080/"
    },
    "executionInfo": {
     "elapsed": 291906,
     "status": "ok",
     "timestamp": 1607088414406,
     "user": {
      "displayName": "Alexey Tankov",
      "photoUrl": "",
      "userId": "01729535101672247421"
     },
     "user_tz": -180
    },
    "id": "JbOvpu6hYlWP",
    "outputId": "a50e423a-ddea-4198-b395-f9bcfbb34ac0"
   },
   "outputs": [
    {
     "name": "stdout",
     "output_type": "stream",
     "text": [
      "Epoch 1/5\n",
      "782/782 [==============================] - 13s 17ms/step - loss: 5.9605e-08 - accuracy: 0.4908 - val_loss: 6.0236e-08 - val_accuracy: 0.4991\n",
      "Epoch 2/5\n",
      "782/782 [==============================] - 13s 17ms/step - loss: 5.9605e-08 - accuracy: 0.4908 - val_loss: 6.0236e-08 - val_accuracy: 0.4991\n",
      "Epoch 3/5\n",
      "782/782 [==============================] - 13s 17ms/step - loss: 5.9605e-08 - accuracy: 0.4908 - val_loss: 6.0236e-08 - val_accuracy: 0.4991\n",
      "Epoch 4/5\n",
      "782/782 [==============================] - 13s 17ms/step - loss: 5.9605e-08 - accuracy: 0.4908 - val_loss: 6.0236e-08 - val_accuracy: 0.4991\n",
      "Epoch 5/5\n",
      "782/782 [==============================] - 13s 17ms/step - loss: 5.9605e-08 - accuracy: 0.4908 - val_loss: 6.0236e-08 - val_accuracy: 0.4991\n"
     ]
    }
   ],
   "source": [
    "history_2 = model_2.fit(X_train, y_train, epochs=5, validation_data=(x_val, y_val))"
   ]
  },
  {
   "cell_type": "code",
   "execution_count": 24,
   "metadata": {
    "executionInfo": {
     "elapsed": 300944,
     "status": "ok",
     "timestamp": 1607088423625,
     "user": {
      "displayName": "Alexey Tankov",
      "photoUrl": "",
      "userId": "01729535101672247421"
     },
     "user_tz": -180
    },
    "id": "SfMS1pw_bUwb"
   },
   "outputs": [],
   "source": [
    "score_2 = model_2.evaluate(X_train, y_train, verbose=0)"
   ]
  },
  {
   "cell_type": "code",
   "execution_count": 25,
   "metadata": {
    "colab": {
     "base_uri": "https://localhost:8080/"
    },
    "executionInfo": {
     "elapsed": 300772,
     "status": "ok",
     "timestamp": 1607088423627,
     "user": {
      "displayName": "Alexey Tankov",
      "photoUrl": "",
      "userId": "01729535101672247421"
     },
     "user_tz": -180
    },
    "id": "GpzceI4yb0i-",
    "outputId": "94bdd687-995e-4226-e0ff-32a7a59f4b2d"
   },
   "outputs": [
    {
     "name": "stdout",
     "output_type": "stream",
     "text": [
      "Test loss: 5.960464477539063e-08\n",
      "Test accuracy: 0.49083998799324036\n"
     ]
    }
   ],
   "source": [
    "print('Test loss:', score_2[0])\n",
    "print('Test accuracy:', score_2[1])"
   ]
  },
  {
   "cell_type": "code",
   "execution_count": 26,
   "metadata": {
    "colab": {
     "base_uri": "https://localhost:8080/",
     "height": 307
    },
    "executionInfo": {
     "elapsed": 300586,
     "status": "ok",
     "timestamp": 1607088423628,
     "user": {
      "displayName": "Alexey Tankov",
      "photoUrl": "",
      "userId": "01729535101672247421"
     },
     "user_tz": -180
    },
    "id": "41rKPrTUY9mY",
    "outputId": "c58b3c07-0e81-4520-fe7e-f6cdab12f3b8"
   },
   "outputs": [
    {
     "data": {
      "image/png": "[encoded data removed]",
      "text/plain": [
       "<Figure size 432x288 with 1 Axes>"
      ]
     },
     "metadata": {
      "needs_background": "light"
     },
     "output_type": "display_data"
    }
   ],
   "source": [
    "plt.plot(history_2.history['accuracy'], label='train')\n",
    "plt.plot(history_2.history['val_accuracy'], label='val')\n",
    "plt.legend()\n",
    "plt.xlabel('epochs')\n",
    "plt.ylabel('accuracy')\n",
    "plt.title('Accuracy of epochs')\n",
    "plt.show()"
   ]
  },
  {
   "cell_type": "markdown",
   "metadata": {
    "id": "l2v0g09JXtvy"
   },
   "source": [
    "### Model - 3"
   ]
  },
  {
   "cell_type": "code",
   "execution_count": 27,
   "metadata": {
    "executionInfo": {
     "elapsed": 153887,
     "status": "ok",
     "timestamp": 1607088276025,
     "user": {
      "displayName": "Alexey Tankov",
      "photoUrl": "",
      "userId": "01729535101672247421"
     },
     "user_tz": -180
    },
    "id": "fZlGI_J5YI8C"
   },
   "outputs": [],
   "source": [
    "model_3 = Sequential([\n",
    "    Dense(512, activation='relu', input_shape=(10000,)),\n",
    "    Dense(512, activation='linear'),\n",
    "    Dense(1, activation='sigmoid')\n",
    "])"
   ]
  },
  {
   "cell_type": "code",
   "execution_count": 28,
   "metadata": {
    "executionInfo": {
     "elapsed": 153712,
     "status": "ok",
     "timestamp": 1607088276027,
     "user": {
      "displayName": "Alexey Tankov",
      "photoUrl": "",
      "userId": "01729535101672247421"
     },
     "user_tz": -180
    },
    "id": "jLgeBbzdWB5b"
   },
   "outputs": [],
   "source": [
    "model_3.compile(optimizer='adam',\n",
    "                     loss='binary_crossentropy',\n",
    "                     metrics=['accuracy'])"
   ]
  },
  {
   "cell_type": "code",
   "execution_count": 29,
   "metadata": {
    "colab": {
     "base_uri": "https://localhost:8080/"
    },
    "executionInfo": {
     "elapsed": 291906,
     "status": "ok",
     "timestamp": 1607088414406,
     "user": {
      "displayName": "Alexey Tankov",
      "photoUrl": "",
      "userId": "01729535101672247421"
     },
     "user_tz": -180
    },
    "id": "JbOvpu6hYlWP",
    "outputId": "a50e423a-ddea-4198-b395-f9bcfbb34ac0"
   },
   "outputs": [
    {
     "name": "stdout",
     "output_type": "stream",
     "text": [
      "Epoch 1/5\n",
      "782/782 [==============================] - 13s 17ms/step - loss: 0.3109 - accuracy: 0.8665 - val_loss: 0.1417 - val_accuracy: 0.9594\n",
      "Epoch 2/5\n",
      "782/782 [==============================] - 13s 17ms/step - loss: 0.1298 - accuracy: 0.9512 - val_loss: 0.0453 - val_accuracy: 0.9888\n",
      "Epoch 3/5\n",
      "782/782 [==============================] - 13s 17ms/step - loss: 0.0361 - accuracy: 0.9877 - val_loss: 0.0316 - val_accuracy: 0.9894\n",
      "Epoch 4/5\n",
      "782/782 [==============================] - 13s 17ms/step - loss: 0.0145 - accuracy: 0.9952 - val_loss: 0.0070 - val_accuracy: 0.9985\n",
      "Epoch 5/5\n",
      "782/782 [==============================] - 13s 17ms/step - loss: 0.0081 - accuracy: 0.9973 - val_loss: 0.0043 - val_accuracy: 0.9988\n"
     ]
    }
   ],
   "source": [
    "history_3 = model_3.fit(X_train, y_train, epochs=5, validation_data=(x_val, y_val))"
   ]
  },
  {
   "cell_type": "code",
   "execution_count": 30,
   "metadata": {
    "executionInfo": {
     "elapsed": 300944,
     "status": "ok",
     "timestamp": 1607088423625,
     "user": {
      "displayName": "Alexey Tankov",
      "photoUrl": "",
      "userId": "01729535101672247421"
     },
     "user_tz": -180
    },
    "id": "SfMS1pw_bUwb"
   },
   "outputs": [],
   "source": [
    "score_3 = model_3.evaluate(X_train, y_train, verbose=0)"
   ]
  },
  {
   "cell_type": "code",
   "execution_count": 31,
   "metadata": {
    "colab": {
     "base_uri": "https://localhost:8080/"
    },
    "executionInfo": {
     "elapsed": 300772,
     "status": "ok",
     "timestamp": 1607088423627,
     "user": {
      "displayName": "Alexey Tankov",
      "photoUrl": "",
      "userId": "01729535101672247421"
     },
     "user_tz": -180
    },
    "id": "GpzceI4yb0i-",
    "outputId": "94bdd687-995e-4226-e0ff-32a7a59f4b2d"
   },
   "outputs": [
    {
     "name": "stdout",
     "output_type": "stream",
     "text": [
      "Test loss: 0.0034055239520967007\n",
      "Test accuracy: 0.9991199970245361\n"
     ]
    }
   ],
   "source": [
    "print('Test loss:', score_3[0])\n",
    "print('Test accuracy:', score_3[1])"
   ]
  },
  {
   "cell_type": "code",
   "execution_count": 32,
   "metadata": {
    "colab": {
     "base_uri": "https://localhost:8080/",
     "height": 307
    },
    "executionInfo": {
     "elapsed": 300586,
     "status": "ok",
     "timestamp": 1607088423628,
     "user": {
      "displayName": "Alexey Tankov",
      "photoUrl": "",
      "userId": "01729535101672247421"
     },
     "user_tz": -180
    },
    "id": "41rKPrTUY9mY",
    "outputId": "c58b3c07-0e81-4520-fe7e-f6cdab12f3b8"
   },
   "outputs": [
    {
     "data": {
      "image/png": "[encoded data removed]",
      "text/plain": [
       "<Figure size 432x288 with 1 Axes>"
      ]
     },
     "metadata": {
      "needs_background": "light"
     },
     "output_type": "display_data"
    }
   ],
   "source": [
    "plt.plot(history_3.history['accuracy'], label='train')\n",
    "plt.plot(history_3.history['val_accuracy'], label='val')\n",
    "plt.legend()\n",
    "plt.xlabel('epochs')\n",
    "plt.ylabel('accuracy')\n",
    "plt.title('Accuracy of epochs')\n",
    "plt.show()"
   ]
  },
  {
   "cell_type": "markdown",
   "metadata": {
    "id": "UtibCaetXw8U"
   },
   "source": [
    "### Model - 4"
   ]
  },
  {
   "cell_type": "code",
   "execution_count": 33,
   "metadata": {
    "executionInfo": {
     "elapsed": 300818,
     "status": "ok",
     "timestamp": 1607088424232,
     "user": {
      "displayName": "Alexey Tankov",
      "photoUrl": "",
      "userId": "01729535101672247421"
     },
     "user_tz": -180
    },
    "id": "M5jDZTroZQEK"
   },
   "outputs": [],
   "source": [
    "model_4 = Sequential([\n",
    "    Flatten(input_shape=(10000,)),\n",
    "    Dense(512, activation='relu', input_shape=(10000,)),\n",
    "    Dropout(0.01),\n",
    "    Dense(1, activation='sigmoid')\n",
    "])"
   ]
  },
  {
   "cell_type": "code",
   "execution_count": 34,
   "metadata": {
    "executionInfo": {
     "elapsed": 300629,
     "status": "ok",
     "timestamp": 1607088424233,
     "user": {
      "displayName": "Alexey Tankov",
      "photoUrl": "",
      "userId": "01729535101672247421"
     },
     "user_tz": -180
    },
    "id": "CzhdthGHVmmM"
   },
   "outputs": [],
   "source": [
    "model_4.compile(optimizer='rmsprop',\n",
    "              loss='binary_crossentropy',\n",
    "              metrics=['accuracy'])"
   ]
  },
  {
   "cell_type": "code",
   "execution_count": 35,
   "metadata": {
    "colab": {
     "background_save": true,
     "base_uri": "https://localhost:8080/"
    },
    "id": "D5H6fleZZ3R_"
   },
   "outputs": [
    {
     "name": "stdout",
     "output_type": "stream",
     "text": [
      "Epoch 1/5\n",
      "782/782 [==============================] - 28s 36ms/step - loss: 0.3211 - accuracy: 0.8671 - val_loss: 0.1793 - val_accuracy: 0.9341\n",
      "Epoch 2/5\n",
      "782/782 [==============================] - 28s 36ms/step - loss: 0.2129 - accuracy: 0.9214 - val_loss: 0.1456 - val_accuracy: 0.9524\n",
      "Epoch 3/5\n",
      "782/782 [==============================] - 28s 36ms/step - loss: 0.1710 - accuracy: 0.9370 - val_loss: 0.1223 - val_accuracy: 0.9627\n",
      "Epoch 4/5\n",
      "782/782 [==============================] - 28s 36ms/step - loss: 0.1398 - accuracy: 0.9532 - val_loss: 0.0991 - val_accuracy: 0.9698\n",
      "Epoch 5/5\n",
      "782/782 [==============================] - 28s 36ms/step - loss: 0.1120 - accuracy: 0.9639 - val_loss: 0.0741 - val_accuracy: 0.9783\n"
     ]
    }
   ],
   "source": [
    "history_4 = model_4.fit(X_train, y_train, epochs=5, validation_data=(x_val, y_val))"
   ]
  },
  {
   "cell_type": "code",
   "execution_count": 36,
   "metadata": {
    "colab": {
     "background_save": true
    },
    "id": "vBnSbQnhbIhE"
   },
   "outputs": [],
   "source": [
    "score_4 = model_4.evaluate(X_train, y_train, verbose=0)"
   ]
  },
  {
   "cell_type": "code",
   "execution_count": 37,
   "metadata": {
    "colab": {
     "background_save": true
    },
    "id": "ayF6Ba5Db3VE"
   },
   "outputs": [
    {
     "name": "stdout",
     "output_type": "stream",
     "text": [
      "Test loss: 0.07245230674743652\n",
      "Test accuracy: 0.9779599905014038\n"
     ]
    }
   ],
   "source": [
    "print('Test loss:', score_4[0])\n",
    "print('Test accuracy:', score_4[1])"
   ]
  },
  {
   "cell_type": "code",
   "execution_count": 38,
   "metadata": {
    "colab": {
     "background_save": true
    },
    "id": "lmlXfevzZ-SY"
   },
   "outputs": [
    {
     "data": {
      "image/png": "[encoded data removed]",
      "text/plain": [
       "<Figure size 432x288 with 1 Axes>"
      ]
     },
     "metadata": {
      "needs_background": "light"
     },
     "output_type": "display_data"
    }
   ],
   "source": [
    "plt.plot(history_4.history['accuracy'], label='train')\n",
    "plt.plot(history_4.history['val_accuracy'], label='val')\n",
    "plt.legend()\n",
    "plt.xlabel('epochs')\n",
    "plt.ylabel('accuracy')\n",
    "plt.title('Accuracy of epochs')\n",
    "plt.show()"
   ]
  },
  {
   "cell_type": "markdown",
   "metadata": {
    "id": "l2v0g09JXtvy"
   },
   "source": [
    "### Model - 5"
   ]
  },
  {
   "cell_type": "code",
   "execution_count": 39,
   "metadata": {
    "executionInfo": {
     "elapsed": 153887,
     "status": "ok",
     "timestamp": 1607088276025,
     "user": {
      "displayName": "Alexey Tankov",
      "photoUrl": "",
      "userId": "01729535101672247421"
     },
     "user_tz": -180
    },
    "id": "fZlGI_J5YI8C"
   },
   "outputs": [],
   "source": [
    "model_5 = Sequential([\n",
    "    Dense(512, activation='relu', input_shape=(10000,)),\n",
    "    Dense(512, activation='linear'),\n",
    "    Dense(1, activation='sigmoid')\n",
    "])"
   ]
  },
  {
   "cell_type": "code",
   "execution_count": 40,
   "metadata": {
    "executionInfo": {
     "elapsed": 153712,
     "status": "ok",
     "timestamp": 1607088276027,
     "user": {
      "displayName": "Alexey Tankov",
      "photoUrl": "",
      "userId": "01729535101672247421"
     },
     "user_tz": -180
    },
    "id": "jLgeBbzdWB5b"
   },
   "outputs": [],
   "source": [
    "model_5.compile(optimizer='rmsprop',\n",
    "                     loss='binary_crossentropy',\n",
    "                     metrics=['accuracy'])"
   ]
  },
  {
   "cell_type": "code",
   "execution_count": 41,
   "metadata": {
    "colab": {
     "base_uri": "https://localhost:8080/"
    },
    "executionInfo": {
     "elapsed": 291906,
     "status": "ok",
     "timestamp": 1607088414406,
     "user": {
      "displayName": "Alexey Tankov",
      "photoUrl": "",
      "userId": "01729535101672247421"
     },
     "user_tz": -180
    },
    "id": "JbOvpu6hYlWP",
    "outputId": "a50e423a-ddea-4198-b395-f9bcfbb34ac0"
   },
   "outputs": [
    {
     "name": "stdout",
     "output_type": "stream",
     "text": [
      "Epoch 1/5\n",
      "782/782 [==============================] - 29s 38ms/step - loss: 0.3367 - accuracy: 0.8654 - val_loss: 0.2100 - val_accuracy: 0.9204\n",
      "Epoch 2/5\n",
      "782/782 [==============================] - 29s 37ms/step - loss: 0.2188 - accuracy: 0.9179 - val_loss: 0.2015 - val_accuracy: 0.9163\n",
      "Epoch 3/5\n",
      "782/782 [==============================] - 29s 38ms/step - loss: 0.1769 - accuracy: 0.9366 - val_loss: 0.1199 - val_accuracy: 0.9586\n",
      "Epoch 4/5\n",
      "782/782 [==============================] - 29s 37ms/step - loss: 0.1482 - accuracy: 0.9502 - val_loss: 0.1152 - val_accuracy: 0.9637\n",
      "Epoch 5/5\n",
      "782/782 [==============================] - 29s 37ms/step - loss: 0.1175 - accuracy: 0.9633 - val_loss: 0.0883 - val_accuracy: 0.9727\n"
     ]
    }
   ],
   "source": [
    "history_5 = model_5.fit(X_train, y_train, epochs=5, validation_data=(x_val, y_val))"
   ]
  },
  {
   "cell_type": "code",
   "execution_count": 42,
   "metadata": {
    "executionInfo": {
     "elapsed": 300944,
     "status": "ok",
     "timestamp": 1607088423625,
     "user": {
      "displayName": "Alexey Tankov",
      "photoUrl": "",
      "userId": "01729535101672247421"
     },
     "user_tz": -180
    },
    "id": "SfMS1pw_bUwb"
   },
   "outputs": [],
   "source": [
    "score_5 = model_5.evaluate(X_train, y_train, verbose=0)"
   ]
  },
  {
   "cell_type": "code",
   "execution_count": 43,
   "metadata": {
    "colab": {
     "base_uri": "https://localhost:8080/"
    },
    "executionInfo": {
     "elapsed": 300772,
     "status": "ok",
     "timestamp": 1607088423627,
     "user": {
      "displayName": "Alexey Tankov",
      "photoUrl": "",
      "userId": "01729535101672247421"
     },
     "user_tz": -180
    },
    "id": "GpzceI4yb0i-",
    "outputId": "94bdd687-995e-4226-e0ff-32a7a59f4b2d"
   },
   "outputs": [
    {
     "name": "stdout",
     "output_type": "stream",
     "text": [
      "Test loss: 0.08707290887832642\n",
      "Test accuracy: 0.972760021686554\n"
     ]
    }
   ],
   "source": [
    "print('Test loss:', score_5[0])\n",
    "print('Test accuracy:', score_5[1])"
   ]
  },
  {
   "cell_type": "code",
   "execution_count": 44,
   "metadata": {
    "colab": {
     "base_uri": "https://localhost:8080/",
     "height": 307
    },
    "executionInfo": {
     "elapsed": 300586,
     "status": "ok",
     "timestamp": 1607088423628,
     "user": {
      "displayName": "Alexey Tankov",
      "photoUrl": "",
      "userId": "01729535101672247421"
     },
     "user_tz": -180
    },
    "id": "41rKPrTUY9mY",
    "outputId": "c58b3c07-0e81-4520-fe7e-f6cdab12f3b8"
   },
   "outputs": [
    {
     "data": {
      "image/png": "[encoded data removed]",
      "text/plain": [
       "<Figure size 432x288 with 1 Axes>"
      ]
     },
     "metadata": {
      "needs_background": "light"
     },
     "output_type": "display_data"
    }
   ],
   "source": [
    "plt.plot(history_5.history['accuracy'], label='train')\n",
    "plt.plot(history_5.history['val_accuracy'], label='val')\n",
    "plt.legend()\n",
    "plt.xlabel('epochs')\n",
    "plt.ylabel('accuracy')\n",
    "plt.title('Accuracy of epochs')\n",
    "plt.show()"
   ]
  },
  {
   "cell_type": "markdown",
   "metadata": {
    "id": "LRGridqFXxGI"
   },
   "source": [
    "### Model - 6"
   ]
  },
  {
   "cell_type": "code",
   "execution_count": 45,
   "metadata": {
    "colab": {
     "background_save": true
    },
    "id": "GmA25-_vX1g3"
   },
   "outputs": [],
   "source": [
    "model_6 = Sequential([\n",
    "    Dense(512, activation='relu', input_shape=(10000,)),\n",
    "    Dense(512, activation='relu'),\n",
    "    Dense(1, activation='sigmoid')\n",
    "])"
   ]
  },
  {
   "cell_type": "code",
   "execution_count": 46,
   "metadata": {
    "colab": {
     "background_save": true
    },
    "id": "vDz7qsFjaNmp"
   },
   "outputs": [],
   "source": [
    "model_6.compile(optimizer='rmsprop',\n",
    "              loss='binary_crossentropy',\n",
    "              metrics=['accuracy'])"
   ]
  },
  {
   "cell_type": "code",
   "execution_count": 47,
   "metadata": {
    "colab": {
     "background_save": true
    },
    "id": "lydx0xyDaRMX"
   },
   "outputs": [
    {
     "name": "stdout",
     "output_type": "stream",
     "text": [
      "Epoch 1/5\n",
      "782/782 [==============================] - 29s 38ms/step - loss: 0.3300 - accuracy: 0.8640 - val_loss: 0.2113 - val_accuracy: 0.9222\n",
      "Epoch 2/5\n",
      "782/782 [==============================] - 29s 37ms/step - loss: 0.2057 - accuracy: 0.9252 - val_loss: 0.1423 - val_accuracy: 0.9515\n",
      "Epoch 3/5\n",
      "782/782 [==============================] - 29s 37ms/step - loss: 0.1502 - accuracy: 0.9496 - val_loss: 0.0868 - val_accuracy: 0.9768\n",
      "Epoch 4/5\n",
      "782/782 [==============================] - 29s 37ms/step - loss: 0.1037 - accuracy: 0.9700 - val_loss: 0.0520 - val_accuracy: 0.9848\n",
      "Epoch 5/5\n",
      "782/782 [==============================] - 29s 37ms/step - loss: 0.0658 - accuracy: 0.9837 - val_loss: 0.0670 - val_accuracy: 0.9894\n"
     ]
    }
   ],
   "source": [
    "history_6 = model_6.fit(X_train, y_train, epochs=5, validation_data=(x_val, y_val))"
   ]
  },
  {
   "cell_type": "code",
   "execution_count": 48,
   "metadata": {
    "colab": {
     "background_save": true
    },
    "id": "CR58tik2bNi2"
   },
   "outputs": [],
   "source": [
    "score_6 = model_6.evaluate(X_train, y_train, verbose=0)"
   ]
  },
  {
   "cell_type": "code",
   "execution_count": 49,
   "metadata": {
    "colab": {
     "background_save": true
    },
    "id": "dZQhZmKvb8cr"
   },
   "outputs": [
    {
     "name": "stdout",
     "output_type": "stream",
     "text": [
      "Test loss: 0.06078474968671799\n",
      "Test accuracy: 0.9895200133323669\n"
     ]
    }
   ],
   "source": [
    "print('Test loss:', score_6[0])\n",
    "print('Test accuracy:', score_6[1])"
   ]
  },
  {
   "cell_type": "code",
   "execution_count": 50,
   "metadata": {
    "colab": {
     "background_save": true
    },
    "id": "OdEQNnFvcA7Y",
    "scrolled": true
   },
   "outputs": [
    {
     "data": {
      "image/png": "[encoded data removed]",
      "text/plain": [
       "<Figure size 432x288 with 1 Axes>"
      ]
     },
     "metadata": {
      "needs_background": "light"
     },
     "output_type": "display_data"
    }
   ],
   "source": [
    "plt.plot(history_6.history['accuracy'], label='train')\n",
    "plt.plot(history_6.history['val_accuracy'], label='val')\n",
    "plt.legend()\n",
    "plt.xlabel('epochs')\n",
    "plt.ylabel('accuracy')\n",
    "plt.title('Accuracy of epochs')\n",
    "plt.show()"
   ]
  },
  {
   "cell_type": "markdown",
   "metadata": {
    "id": "UtibCaetXw8U"
   },
   "source": [
    "### Model - 7"
   ]
  },
  {
   "cell_type": "code",
   "execution_count": 51,
   "metadata": {
    "executionInfo": {
     "elapsed": 300818,
     "status": "ok",
     "timestamp": 1607088424232,
     "user": {
      "displayName": "Alexey Tankov",
      "photoUrl": "",
      "userId": "01729535101672247421"
     },
     "user_tz": -180
    },
    "id": "M5jDZTroZQEK"
   },
   "outputs": [],
   "source": [
    "model_7 = Sequential([\n",
    "    Flatten(input_shape=(10000,)),\n",
    "    Dense(512, activation='relu', input_shape=(10000,)),\n",
    "    Dropout(0.01),\n",
    "    Dense(1, activation='sigmoid')\n",
    "])"
   ]
  },
  {
   "cell_type": "code",
   "execution_count": 52,
   "metadata": {
    "executionInfo": {
     "elapsed": 300629,
     "status": "ok",
     "timestamp": 1607088424233,
     "user": {
      "displayName": "Alexey Tankov",
      "photoUrl": "",
      "userId": "01729535101672247421"
     },
     "user_tz": -180
    },
    "id": "CzhdthGHVmmM"
   },
   "outputs": [],
   "source": [
    "model_7.compile(optimizer='adam',\n",
    "              loss='binary_crossentropy',\n",
    "              metrics=['accuracy'])"
   ]
  },
  {
   "cell_type": "code",
   "execution_count": 53,
   "metadata": {
    "colab": {
     "background_save": true,
     "base_uri": "https://localhost:8080/"
    },
    "id": "D5H6fleZZ3R_"
   },
   "outputs": [
    {
     "name": "stdout",
     "output_type": "stream",
     "text": [
      "Epoch 1/5\n",
      "782/782 [==============================] - 13s 17ms/step - loss: 0.3122 - accuracy: 0.8690 - val_loss: 0.1399 - val_accuracy: 0.9557\n",
      "Epoch 2/5\n",
      "782/782 [==============================] - 13s 16ms/step - loss: 0.1483 - accuracy: 0.9450 - val_loss: 0.0637 - val_accuracy: 0.9876\n",
      "Epoch 3/5\n",
      "782/782 [==============================] - 13s 16ms/step - loss: 0.0480 - accuracy: 0.9844 - val_loss: 0.0121 - val_accuracy: 0.9989\n",
      "Epoch 4/5\n",
      "782/782 [==============================] - 13s 16ms/step - loss: 0.0089 - accuracy: 0.9983 - val_loss: 0.0033 - val_accuracy: 0.9999\n",
      "Epoch 5/5\n",
      "782/782 [==============================] - 13s 16ms/step - loss: 0.0015 - accuracy: 1.0000 - val_loss: 0.0024 - val_accuracy: 0.9999\n"
     ]
    }
   ],
   "source": [
    "history_7 = model_7.fit(X_train, y_train, epochs=5, validation_data=(x_val, y_val))"
   ]
  },
  {
   "cell_type": "code",
   "execution_count": 54,
   "metadata": {
    "colab": {
     "background_save": true
    },
    "id": "vBnSbQnhbIhE"
   },
   "outputs": [],
   "source": [
    "score_7 = model_7.evaluate(X_train, y_train, verbose=0)"
   ]
  },
  {
   "cell_type": "code",
   "execution_count": 55,
   "metadata": {
    "colab": {
     "background_save": true
    },
    "id": "ayF6Ba5Db3VE"
   },
   "outputs": [
    {
     "name": "stdout",
     "output_type": "stream",
     "text": [
      "Test loss: 0.0013097068294882774\n",
      "Test accuracy: 0.9999600052833557\n"
     ]
    }
   ],
   "source": [
    "print('Test loss:', score_7[0])\n",
    "print('Test accuracy:', score_7[1])"
   ]
  },
  {
   "cell_type": "code",
   "execution_count": 56,
   "metadata": {
    "colab": {
     "background_save": true
    },
    "id": "lmlXfevzZ-SY"
   },
   "outputs": [
    {
     "data": {
      "image/png": "[encoded data removed]",
      "text/plain": [
       "<Figure size 432x288 with 1 Axes>"
      ]
     },
     "metadata": {
      "needs_background": "light"
     },
     "output_type": "display_data"
    }
   ],
   "source": [
    "plt.plot(history_7.history['accuracy'], label='train')\n",
    "plt.plot(history_7.history['val_accuracy'], label='val')\n",
    "plt.legend()\n",
    "plt.xlabel('epochs')\n",
    "plt.ylabel('accuracy')\n",
    "plt.title('Accuracy of epochs')\n",
    "plt.show()"
   ]
  },
  {
   "cell_type": "markdown",
   "metadata": {},
   "source": [
    "### Model - 8"
   ]
  },
  {
   "cell_type": "code",
   "execution_count": 57,
   "metadata": {},
   "outputs": [],
   "source": [
    "model_8 = Sequential([\n",
    "    Flatten(input_shape=(10000,)),\n",
    "    Dense(512, activation='relu', input_shape=(10000,)),\n",
    "    Dropout(0.01),\n",
    "    Dense(1, activation='sigmoid')\n",
    "])"
   ]
  },
  {
   "cell_type": "code",
   "execution_count": 58,
   "metadata": {},
   "outputs": [],
   "source": [
    "model_8.compile(optimizer='sgd',\n",
    "              loss='binary_crossentropy',\n",
    "              metrics=['accuracy'])"
   ]
  },
  {
   "cell_type": "code",
   "execution_count": 59,
   "metadata": {},
   "outputs": [
    {
     "name": "stdout",
     "output_type": "stream",
     "text": [
      "Epoch 1/5\n",
      "782/782 [==============================] - 9s 11ms/step - loss: 0.5680 - accuracy: 0.7536 - val_loss: 0.4438 - val_accuracy: 0.8280\n",
      "Epoch 2/5\n",
      "782/782 [==============================] - 8s 11ms/step - loss: 0.3881 - accuracy: 0.8463 - val_loss: 0.3399 - val_accuracy: 0.8660\n",
      "Epoch 3/5\n",
      "782/782 [==============================] - 8s 11ms/step - loss: 0.3232 - accuracy: 0.8712 - val_loss: 0.2978 - val_accuracy: 0.8828\n",
      "Epoch 4/5\n",
      "782/782 [==============================] - 8s 11ms/step - loss: 0.2894 - accuracy: 0.8858 - val_loss: 0.2677 - val_accuracy: 0.8968\n",
      "Epoch 5/5\n",
      "782/782 [==============================] - 8s 11ms/step - loss: 0.2655 - accuracy: 0.8952 - val_loss: 0.2473 - val_accuracy: 0.9074\n"
     ]
    }
   ],
   "source": [
    "history_8 = model_8.fit(X_train, y_train, epochs=5, validation_data=(x_val, y_val))"
   ]
  },
  {
   "cell_type": "code",
   "execution_count": 60,
   "metadata": {},
   "outputs": [],
   "source": [
    "score_8 = model_8.evaluate(X_train, y_train, verbose=0)"
   ]
  },
  {
   "cell_type": "code",
   "execution_count": 61,
   "metadata": {},
   "outputs": [
    {
     "name": "stdout",
     "output_type": "stream",
     "text": [
      "Test loss: 0.24683021008968353\n",
      "Test accuracy: 0.9068800210952759\n"
     ]
    }
   ],
   "source": [
    "print('Test loss:', score_8[0])\n",
    "print('Test accuracy:', score_8[1])"
   ]
  },
  {
   "cell_type": "code",
   "execution_count": 62,
   "metadata": {},
   "outputs": [
    {
     "data": {
      "image/png": "[encoded data removed]",
      "text/plain": [
       "<Figure size 432x288 with 1 Axes>"
      ]
     },
     "metadata": {
      "needs_background": "light"
     },
     "output_type": "display_data"
    }
   ],
   "source": [
    "plt.plot(history_8.history['accuracy'], label='train')\n",
    "plt.plot(history_8.history['val_accuracy'], label='val')\n",
    "plt.legend()\n",
    "plt.xlabel('epochs')\n",
    "plt.ylabel('accuracy')\n",
    "plt.title('Accuracy of epochs')\n",
    "plt.show()"
   ]
  },
  {
   "cell_type": "markdown",
   "metadata": {},
   "source": [
    "### Model - 9"
   ]
  },
  {
   "cell_type": "code",
   "execution_count": 63,
   "metadata": {},
   "outputs": [],
   "source": [
    "model_9 = Sequential([\n",
    "    Dense(512, activation='relu', input_shape=(10000,)),\n",
    "    Dense(512, activation='relu'),\n",
    "    Dense(1, activation='sigmoid')\n",
    "])"
   ]
  },
  {
   "cell_type": "code",
   "execution_count": 64,
   "metadata": {},
   "outputs": [],
   "source": [
    "model_9.compile(optimizer='sgd',\n",
    "              loss='binary_crossentropy',\n",
    "              metrics=['accuracy'])"
   ]
  },
  {
   "cell_type": "code",
   "execution_count": 65,
   "metadata": {},
   "outputs": [
    {
     "name": "stdout",
     "output_type": "stream",
     "text": [
      "Epoch 1/5\n",
      "782/782 [==============================] - 9s 11ms/step - loss: 0.5758 - accuracy: 0.7402 - val_loss: 0.4197 - val_accuracy: 0.8314\n",
      "Epoch 2/5\n",
      "782/782 [==============================] - 9s 11ms/step - loss: 0.3503 - accuracy: 0.8562 - val_loss: 0.3124 - val_accuracy: 0.8698\n",
      "Epoch 3/5\n",
      "782/782 [==============================] - 9s 11ms/step - loss: 0.2835 - accuracy: 0.8859 - val_loss: 0.2508 - val_accuracy: 0.8985\n",
      "Epoch 4/5\n",
      "782/782 [==============================] - 9s 11ms/step - loss: 0.2478 - accuracy: 0.9017 - val_loss: 0.2230 - val_accuracy: 0.9136\n",
      "Epoch 5/5\n",
      "782/782 [==============================] - 9s 11ms/step - loss: 0.2228 - accuracy: 0.9126 - val_loss: 0.2467 - val_accuracy: 0.8917\n"
     ]
    }
   ],
   "source": [
    "history_9 = model_9.fit(X_train, y_train, epochs=5, validation_data=(x_val, y_val))"
   ]
  },
  {
   "cell_type": "code",
   "execution_count": 66,
   "metadata": {},
   "outputs": [],
   "source": [
    "score_9 = model_9.evaluate(X_train, y_train, verbose=0)"
   ]
  },
  {
   "cell_type": "code",
   "execution_count": 67,
   "metadata": {},
   "outputs": [
    {
     "name": "stdout",
     "output_type": "stream",
     "text": [
      "Test loss: 0.24517497420310974\n",
      "Test accuracy: 0.8932399749755859\n"
     ]
    }
   ],
   "source": [
    "print('Test loss:', score_9[0])\n",
    "print('Test accuracy:', score_9[1])"
   ]
  },
  {
   "cell_type": "code",
   "execution_count": 68,
   "metadata": {},
   "outputs": [
    {
     "data": {
      "image/png": "[encoded data removed]",
      "text/plain": [
       "<Figure size 432x288 with 1 Axes>"
      ]
     },
     "metadata": {
      "needs_background": "light"
     },
     "output_type": "display_data"
    }
   ],
   "source": [
    "plt.plot(history_9.history['accuracy'], label='train')\n",
    "plt.plot(history_9.history['val_accuracy'], label='val')\n",
    "plt.legend()\n",
    "plt.xlabel('epochs')\n",
    "plt.ylabel('accuracy')\n",
    "plt.title('Accuracy of epochs')\n",
    "plt.show()"
   ]
  },
  {
   "cell_type": "markdown",
   "metadata": {},
   "source": [
    "### Model - 10"
   ]
  },
  {
   "cell_type": "code",
   "execution_count": 69,
   "metadata": {},
   "outputs": [],
   "source": [
    "model_10 = Sequential([\n",
    "    Dense(512, activation='relu', input_shape=(10000,)),\n",
    "    Dense(512, activation='relu'),\n",
    "    Dense(1, activation='sigmoid')\n",
    "])"
   ]
  },
  {
   "cell_type": "code",
   "execution_count": 70,
   "metadata": {},
   "outputs": [],
   "source": [
    "model_10.compile(optimizer='sgd',\n",
    "              loss='KLDivergence',\n",
    "              metrics=['accuracy'])"
   ]
  },
  {
   "cell_type": "code",
   "execution_count": 71,
   "metadata": {},
   "outputs": [
    {
     "name": "stdout",
     "output_type": "stream",
     "text": [
      "Epoch 1/5\n",
      "782/782 [==============================] - 10s 12ms/step - loss: 0.0316 - accuracy: 0.4997 - val_loss: 0.0030 - val_accuracy: 0.5053\n",
      "Epoch 2/5\n",
      "782/782 [==============================] - 9s 11ms/step - loss: 0.0018 - accuracy: 0.5000 - val_loss: 0.0012 - val_accuracy: 0.5053\n",
      "Epoch 3/5\n",
      "782/782 [==============================] - 9s 11ms/step - loss: 9.5344e-04 - accuracy: 0.5000 - val_loss: 7.5296e-04 - val_accuracy: 0.5053\n",
      "Epoch 4/5\n",
      "782/782 [==============================] - 9s 11ms/step - loss: 6.3497e-04 - accuracy: 0.5000 - val_loss: 5.3631e-04 - val_accuracy: 0.5053\n",
      "Epoch 5/5\n",
      "782/782 [==============================] - 9s 11ms/step - loss: 4.7304e-04 - accuracy: 0.5000 - val_loss: 4.1379e-04 - val_accuracy: 0.5053\n"
     ]
    }
   ],
   "source": [
    "history_10 = model_10.fit(X_train, y_train, epochs=5, validation_data=(x_val, y_val))"
   ]
  },
  {
   "cell_type": "code",
   "execution_count": 72,
   "metadata": {},
   "outputs": [],
   "source": [
    "score_10 = model_10.evaluate(X_train, y_train, verbose=0)"
   ]
  },
  {
   "cell_type": "code",
   "execution_count": 73,
   "metadata": {},
   "outputs": [
    {
     "name": "stdout",
     "output_type": "stream",
     "text": [
      "Test loss: 0.0004169392050243914\n",
      "Test accuracy: 0.5\n"
     ]
    }
   ],
   "source": [
    "print('Test loss:', score_10[0])\n",
    "print('Test accuracy:', score_10[1])"
   ]
  },
  {
   "cell_type": "code",
   "execution_count": 74,
   "metadata": {},
   "outputs": [
    {
     "data": {
      "image/png": "[encoded data removed]",
      "text/plain": [
       "<Figure size 432x288 with 1 Axes>"
      ]
     },
     "metadata": {
      "needs_background": "light"
     },
     "output_type": "display_data"
    }
   ],
   "source": [
    "plt.plot(history_10.history['accuracy'], label='train')\n",
    "plt.plot(history_10.history['val_accuracy'], label='val')\n",
    "plt.legend()\n",
    "plt.xlabel('epochs')\n",
    "plt.ylabel('accuracy')\n",
    "plt.title('Accuracy of epochs')\n",
    "plt.show()"
   ]
  },
  {
   "cell_type": "markdown",
   "metadata": {},
   "source": [
    "### Model - 11"
   ]
  },
  {
   "cell_type": "code",
   "execution_count": 75,
   "metadata": {},
   "outputs": [],
   "source": [
    "model_11 = Sequential([\n",
    "    Flatten(input_shape=(10000,)),\n",
    "    Dense(512, activation='relu', input_shape=(10000,)),\n",
    "    Dropout(0.01),\n",
    "    Dense(1, activation='sigmoid')\n",
    "])"
   ]
  },
  {
   "cell_type": "code",
   "execution_count": 76,
   "metadata": {},
   "outputs": [],
   "source": [
    "model_11.compile(optimizer='sgd',\n",
    "              loss='Poisson',\n",
    "              metrics=['accuracy'])"
   ]
  },
  {
   "cell_type": "code",
   "execution_count": 77,
   "metadata": {},
   "outputs": [
    {
     "name": "stdout",
     "output_type": "stream",
     "text": [
      "Epoch 1/5\n",
      "782/782 [==============================] - 9s 11ms/step - loss: 0.8121 - accuracy: 0.6970 - val_loss: 0.7751 - val_accuracy: 0.7680\n",
      "Epoch 2/5\n",
      "782/782 [==============================] - 8s 11ms/step - loss: 0.7370 - accuracy: 0.8080 - val_loss: 0.7136 - val_accuracy: 0.8323\n",
      "Epoch 3/5\n",
      "782/782 [==============================] - 8s 11ms/step - loss: 0.6934 - accuracy: 0.8411 - val_loss: 0.6832 - val_accuracy: 0.8483\n",
      "Epoch 4/5\n",
      "782/782 [==============================] - 9s 11ms/step - loss: 0.6709 - accuracy: 0.8578 - val_loss: 0.6657 - val_accuracy: 0.8632\n",
      "Epoch 5/5\n",
      "782/782 [==============================] - 8s 11ms/step - loss: 0.6564 - accuracy: 0.8712 - val_loss: 0.6531 - val_accuracy: 0.8762\n"
     ]
    }
   ],
   "source": [
    "history_11 = model_11.fit(X_train, y_train, epochs=5, validation_data=(x_val, y_val))"
   ]
  },
  {
   "cell_type": "code",
   "execution_count": 78,
   "metadata": {},
   "outputs": [],
   "source": [
    "score_11 = model_11.evaluate(X_train, y_train, verbose=0)"
   ]
  },
  {
   "cell_type": "code",
   "execution_count": 79,
   "metadata": {},
   "outputs": [
    {
     "name": "stdout",
     "output_type": "stream",
     "text": [
      "Test loss: 0.6476739645004272\n",
      "Test accuracy: 0.876800000667572\n"
     ]
    }
   ],
   "source": [
    "print('Test loss:', score_11[0])\n",
    "print('Test accuracy:', score_11[1])"
   ]
  },
  {
   "cell_type": "code",
   "execution_count": 80,
   "metadata": {},
   "outputs": [
    {
     "data": {
      "image/png": "[encoded data removed]",
      "text/plain": [
       "<Figure size 432x288 with 1 Axes>"
      ]
     },
     "metadata": {
      "needs_background": "light"
     },
     "output_type": "display_data"
    }
   ],
   "source": [
    "plt.plot(history_11.history['accuracy'], label='train')\n",
    "plt.plot(history_11.history['val_accuracy'], label='val')\n",
    "plt.legend()\n",
    "plt.xlabel('epochs')\n",
    "plt.ylabel('accuracy')\n",
    "plt.title('Accuracy of epochs')\n",
    "plt.show()"
   ]
  },
  {
   "cell_type": "markdown",
   "metadata": {},
   "source": [
    "### Model - 12"
   ]
  },
  {
   "cell_type": "code",
   "execution_count": 81,
   "metadata": {},
   "outputs": [],
   "source": [
    "model_12 = Sequential([\n",
    "    Flatten(input_shape=(10000,)),\n",
    "    Dense(512, activation='relu', input_shape=(10000,)),\n",
    "    Dropout(0.01),\n",
    "    Dense(1, activation='sigmoid')\n",
    "])"
   ]
  },
  {
   "cell_type": "code",
   "execution_count": 82,
   "metadata": {},
   "outputs": [],
   "source": [
    "model_12.compile(optimizer='Adagrad',\n",
    "              loss='Poisson',\n",
    "              metrics=['accuracy'])"
   ]
  },
  {
   "cell_type": "code",
   "execution_count": 83,
   "metadata": {},
   "outputs": [
    {
     "name": "stdout",
     "output_type": "stream",
     "text": [
      "Epoch 1/5\n",
      "782/782 [==============================] - 11s 14ms/step - loss: 0.8376 - accuracy: 0.6080 - val_loss: 0.8302 - val_accuracy: 0.6777\n",
      "Epoch 2/5\n",
      "782/782 [==============================] - 11s 14ms/step - loss: 0.8137 - accuracy: 0.7218 - val_loss: 0.8058 - val_accuracy: 0.7391\n",
      "Epoch 3/5\n",
      "782/782 [==============================] - 11s 14ms/step - loss: 0.7884 - accuracy: 0.7632 - val_loss: 0.7810 - val_accuracy: 0.7706\n",
      "Epoch 4/5\n",
      "782/782 [==============================] - 11s 14ms/step - loss: 0.7644 - accuracy: 0.7856 - val_loss: 0.7590 - val_accuracy: 0.8042\n",
      "Epoch 5/5\n",
      "782/782 [==============================] - 11s 14ms/step - loss: 0.7441 - accuracy: 0.8054 - val_loss: 0.7408 - val_accuracy: 0.8059\n"
     ]
    }
   ],
   "source": [
    "history_12 = model_12.fit(X_train, y_train, epochs=5, validation_data=(x_val, y_val))"
   ]
  },
  {
   "cell_type": "code",
   "execution_count": 84,
   "metadata": {},
   "outputs": [],
   "source": [
    "score_12 = model_12.evaluate(X_train, y_train, verbose=0)"
   ]
  },
  {
   "cell_type": "code",
   "execution_count": 85,
   "metadata": {},
   "outputs": [
    {
     "name": "stdout",
     "output_type": "stream",
     "text": [
      "Test loss: 0.7347714304924011\n",
      "Test accuracy: 0.8080000281333923\n"
     ]
    }
   ],
   "source": [
    "print('Test loss:', score_12[0])\n",
    "print('Test accuracy:', score_12[1])"
   ]
  },
  {
   "cell_type": "code",
   "execution_count": 86,
   "metadata": {},
   "outputs": [
    {
     "data": {
      "image/png": "[encoded data removed]",
      "text/plain": [
       "<Figure size 432x288 with 1 Axes>"
      ]
     },
     "metadata": {
      "needs_background": "light"
     },
     "output_type": "display_data"
    }
   ],
   "source": [
    "plt.plot(history_12.history['accuracy'], label='train')\n",
    "plt.plot(history_12.history['val_accuracy'], label='val')\n",
    "plt.legend()\n",
    "plt.xlabel('epochs')\n",
    "plt.ylabel('accuracy')\n",
    "plt.title('Accuracy of epochs')\n",
    "plt.show()"
   ]
  },
  {
   "cell_type": "markdown",
   "metadata": {},
   "source": [
    "### Results"
   ]
  },
  {
   "cell_type": "code",
   "execution_count": 87,
   "metadata": {},
   "outputs": [
    {
     "data": {
      "text/html": [
       "<div>\n",
       "<style scoped>\n",
       "    .dataframe tbody tr th:only-of-type {\n",
       "        vertical-align: middle;\n",
       "    }\n",
       "\n",
       "    .dataframe tbody tr th {\n",
       "        vertical-align: top;\n",
       "    }\n",
       "\n",
       "    .dataframe thead th {\n",
       "        text-align: right;\n",
       "    }\n",
       "</style>\n",
       "<table border=\"1\" class=\"dataframe\">\n",
       "  <thead>\n",
       "    <tr style=\"text-align: right;\">\n",
       "      <th></th>\n",
       "      <th>loss</th>\n",
       "      <th>accuracy</th>\n",
       "    </tr>\n",
       "  </thead>\n",
       "  <tbody>\n",
       "    <tr>\n",
       "      <th>model_1</th>\n",
       "      <td>0.00000</td>\n",
       "      <td>0.50000</td>\n",
       "    </tr>\n",
       "    <tr>\n",
       "      <th>model_2</th>\n",
       "      <td>0.00000</td>\n",
       "      <td>0.49084</td>\n",
       "    </tr>\n",
       "    <tr>\n",
       "      <th>model_3</th>\n",
       "      <td>0.00341</td>\n",
       "      <td>0.99912</td>\n",
       "    </tr>\n",
       "    <tr>\n",
       "      <th>model_4</th>\n",
       "      <td>0.07245</td>\n",
       "      <td>0.97796</td>\n",
       "    </tr>\n",
       "    <tr>\n",
       "      <th>model_5</th>\n",
       "      <td>0.08707</td>\n",
       "      <td>0.97276</td>\n",
       "    </tr>\n",
       "    <tr>\n",
       "      <th>model_6</th>\n",
       "      <td>0.06078</td>\n",
       "      <td>0.98952</td>\n",
       "    </tr>\n",
       "    <tr>\n",
       "      <th>model_7</th>\n",
       "      <td>0.00131</td>\n",
       "      <td>0.99996</td>\n",
       "    </tr>\n",
       "    <tr>\n",
       "      <th>model_8</th>\n",
       "      <td>0.24683</td>\n",
       "      <td>0.90688</td>\n",
       "    </tr>\n",
       "    <tr>\n",
       "      <th>model_9</th>\n",
       "      <td>0.24517</td>\n",
       "      <td>0.89324</td>\n",
       "    </tr>\n",
       "    <tr>\n",
       "      <th>model_10</th>\n",
       "      <td>0.00042</td>\n",
       "      <td>0.50000</td>\n",
       "    </tr>\n",
       "    <tr>\n",
       "      <th>model_11</th>\n",
       "      <td>0.64767</td>\n",
       "      <td>0.87680</td>\n",
       "    </tr>\n",
       "    <tr>\n",
       "      <th>model_12</th>\n",
       "      <td>0.73477</td>\n",
       "      <td>0.80800</td>\n",
       "    </tr>\n",
       "  </tbody>\n",
       "</table>\n",
       "</div>"
      ],
      "text/plain": [
       "            loss  accuracy\n",
       "model_1  0.00000   0.50000\n",
       "model_2  0.00000   0.49084\n",
       "model_3  0.00341   0.99912\n",
       "model_4  0.07245   0.97796\n",
       "model_5  0.08707   0.97276\n",
       "model_6  0.06078   0.98952\n",
       "model_7  0.00131   0.99996\n",
       "model_8  0.24683   0.90688\n",
       "model_9  0.24517   0.89324\n",
       "model_10 0.00042   0.50000\n",
       "model_11 0.64767   0.87680\n",
       "model_12 0.73477   0.80800"
      ]
     },
     "execution_count": 87,
     "metadata": {},
     "output_type": "execute_result"
    }
   ],
   "source": [
    "results = pd.DataFrame({'model_1': score, 'model_2': score_2, 'model_3': score_3, 'model_4': score_4,\n",
    "                        'model_5': score_5, 'model_6': score_6, 'model_7': score_7, 'model_8': score_8, \n",
    "                        'model_9': score_9, 'model_10': score_10, 'model_11': score_11, 'model_12': score_12}).T\n",
    "results.columns=['loss', 'accuracy']\n",
    "results"
   ]
  },
  {
   "cell_type": "code",
   "execution_count": 114,
   "metadata": {
    "id": "JG65eNONdvHW"
   },
   "outputs": [
    {
     "data": {
      "image/png": "[encoded data removed]",
      "text/plain": [
       "<Figure size 1080x720 with 1 Axes>"
      ]
     },
     "metadata": {
      "needs_background": "light"
     },
     "output_type": "display_data"
    }
   ],
   "source": [
    "plt.figure(figsize=(15, 10))\n",
    "plt.plot(history.history['accuracy'], label='model-1')\n",
    "plt.plot(history_2.history['accuracy'], label='model-2')\n",
    "plt.plot(history_3.history['accuracy'], label='model-3')\n",
    "plt.plot(history_4.history['accuracy'], label='model-4')\n",
    "plt.plot(history_5.history['accuracy'], label='model-5')\n",
    "plt.plot(history_6.history['accuracy'], label='model-6')\n",
    "plt.plot(history_7.history['accuracy'], label='model-7')\n",
    "plt.plot(history_8.history['accuracy'], label='model-8')\n",
    "plt.plot(history_9.history['accuracy'], label='model-9')\n",
    "plt.plot(history_10.history['accuracy'], label='model-10')\n",
    "plt.plot(history_11.history['accuracy'], label='model-11')\n",
    "plt.plot(history_12.history['accuracy'], label='model-12')\n",
    "plt.legend()\n",
    "plt.xlabel('epochs')\n",
    "plt.ylabel('accuracy')\n",
    "plt.title('Accuracy of epochs')\n",
    "plt.show()"
   ]
  },
  {
   "cell_type": "code",
   "execution_count": 89,
   "metadata": {},
   "outputs": [
    {
     "name": "stdout",
     "output_type": "stream",
     "text": [
      "Model: \"sequential_6\"\n",
      "_________________________________________________________________\n",
      "Layer (type)                 Output Shape              Param #   \n",
      "=================================================================\n",
      "flatten_1 (Flatten)          (None, 10000)             0         \n",
      "_________________________________________________________________\n",
      "dense_17 (Dense)             (None, 512)               5120512   \n",
      "_________________________________________________________________\n",
      "dropout_1 (Dropout)          (None, 512)               0         \n",
      "_________________________________________________________________\n",
      "dense_18 (Dense)             (None, 1)                 513       \n",
      "=================================================================\n",
      "Total params: 5,121,025\n",
      "Trainable params: 5,121,025\n",
      "Non-trainable params: 0\n",
      "_________________________________________________________________\n"
     ]
    }
   ],
   "source": [
    "model_7.summary()"
   ]
  },
  {
   "cell_type": "markdown",
   "metadata": {},
   "source": [
    "При построении нейронной сети для текущего набора данных не подходит метод активации нейронов 'softmax', а также функция потерь(loss) 'categorical_crossentropy' и 'KLDivergence'. Лучшие результаты показала модель с активатором нейронов 'sigmoid', типом оптимизатора 'Adam' и функцией потерь 'binary_crossentropy', также удалось удачно подобрать число слоев и число нейронов. Другие метрики к итоговым моделям не добавлялись, остались только в качестве экспериментов."
   ]
  },
  {
   "cell_type": "code",
   "execution_count": null,
   "metadata": {},
   "outputs": [],
   "source": []
  }
 ],
 "metadata": {
  "colab": {
   "authorship_tag": "ABX9TyP3RP3q/8ZgEDVF3p/rximj",
   "collapsed_sections": [],
   "name": "hw_03.ipynb",
   "version": ""
  },
  "kernelspec": {
   "display_name": "Python 3",
   "language": "python",
   "name": "python3"
  },
  "language_info": {
   "codemirror_mode": {
    "name": "ipython",
    "version": 3
   },
   "file_extension": ".py",
   "mimetype": "text/x-python",
   "name": "python",
   "nbconvert_exporter": "python",
   "pygments_lexer": "ipython3",
   "version": "3.7.6"
  }
 },
 "nbformat": 4,
 "nbformat_minor": 1
}
