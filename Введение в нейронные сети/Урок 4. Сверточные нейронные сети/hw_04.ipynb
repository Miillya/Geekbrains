{
 "cells": [
  {
   "cell_type": "markdown",
   "metadata": {
    "id": "Sb86n-BbXM1N"
   },
   "source": [
    "## Практическое задание\n",
    "\n",
    "Вариант 1. (простой)\n",
    "\n",
    "- обучить сверточную нейронную сеть на датасете fashion-mnist\n",
    "- оценить рост точности при увеличении ширины сети (больше ядер)\n",
    "- оценить рост точности при увеличении глубины сети (больше слоев)\n",
    "    </li>\n",
    "\n",
    "Вариант 2. (сложный)\n",
    "- реализовать нейронную сеть в стиле AlexNet (с падением размера ядра свертки и последовательностью блоков свертка-пулинг  (conv-pool)-(conv-pool)-...) на сifar10.\n",
    "- оценить рост точности при увеличении ширины сети (больше ядер)\n",
    "- оценить рост точности при увеличении глубины сети (больше слоев)\n",
    "    </li>\n",
    "</ol>"
   ]
  },
  {
   "cell_type": "markdown",
   "metadata": {
    "id": "5OJ2rB_3ZZHS"
   },
   "source": [
    "### Подключение библиотек и скриптов"
   ]
  },
  {
   "cell_type": "code",
   "execution_count": 1,
   "metadata": {},
   "outputs": [
    {
     "data": {
      "text/html": [
       "<style>.container { width:72.5% !important; }</style>"
      ],
      "text/plain": [
       "<IPython.core.display.HTML object>"
      ]
     },
     "metadata": {},
     "output_type": "display_data"
    }
   ],
   "source": [
    "from IPython.core.display import display, HTML, Image\n",
    "display(HTML(\"<style>.container { width:72.5% !important; }</style>\"))"
   ]
  },
  {
   "cell_type": "code",
   "execution_count": 2,
   "metadata": {
    "executionInfo": {
     "elapsed": 613,
     "status": "ok",
     "timestamp": 1607088118418,
     "user": {
      "displayName": "Alexey Tankov",
      "photoUrl": "",
      "userId": "01729535101672247421"
     },
     "user_tz": -180
    },
    "id": "lJUcpE49XB6u"
   },
   "outputs": [
    {
     "name": "stderr",
     "output_type": "stream",
     "text": [
      "C:\\Users\\Admin\\anaconda3\\lib\\site-packages\\numpy\\_distributor_init.py:32: UserWarning: loaded more than 1 DLL from .libs:\n",
      "C:\\Users\\Admin\\anaconda3\\lib\\site-packages\\numpy\\.libs\\libopenblas.NOIJJG62EMASZI6NYURL6JBKM4EVBGM7.gfortran-win_amd64.dll\n",
      "C:\\Users\\Admin\\anaconda3\\lib\\site-packages\\numpy\\.libs\\libopenblas.PYQHXLVVQ7VESDPUVUADXEVJOBGHJPAY.gfortran-win_amd64.dll\n",
      "  stacklevel=1)\n"
     ]
    }
   ],
   "source": [
    "import tensorflow as tf\n",
    "from tensorflow.keras.models import Sequential\n",
    "from tensorflow.keras.layers import Conv2D, MaxPool2D, Dense, Flatten, Dropout, AveragePooling2D, Activation, MaxPooling2D, BatchNormalization, Concatenate\n",
    "from tensorflow.keras.utils import to_categorical\n",
    "from tensorflow.keras.callbacks import EarlyStopping, TensorBoard\n",
    "from tensorflow.keras import regularizers, optimizers\n",
    "\n",
    "import numpy as np\n",
    "import pandas as pd\n",
    "import seaborn as sns\n",
    "import matplotlib.pyplot as plt\n",
    "%matplotlib inline"
   ]
  },
  {
   "cell_type": "code",
   "execution_count": 3,
   "metadata": {
    "executionInfo": {
     "elapsed": 612,
     "status": "ok",
     "timestamp": 1607088118669,
     "user": {
      "displayName": "Alexey Tankov",
      "photoUrl": "",
      "userId": "01729535101672247421"
     },
     "user_tz": -180
    },
    "id": "rgkw7y-qZhNB"
   },
   "outputs": [],
   "source": [
    "plt.rcParams.update({'font.size': 14})\n",
    "pd.set_option('precision', 3)\n",
    "pd.set_option('max_columns', 100)\n",
    "pd.set_option('display.float_format', lambda x: '%.5f' % x)\n",
    "pd.set_option('display.max_columns', 500)\n",
    "pd.set_option('display.max_rows', 500)\n",
    "pd.set_option('max_colwidth', 300)"
   ]
  },
  {
   "cell_type": "code",
   "execution_count": null,
   "metadata": {},
   "outputs": [],
   "source": [
    "def plot_model(history): \n",
    "    fig, axs = plt.subplots(1,2,figsize=(16,5)) \n",
    "    # summarize history for accuracy\n",
    "    axs[0].plot(history.history['accuracy'], 'c') \n",
    "    axs[0].plot(history.history['val_accuracy'],'m') \n",
    "    axs[0].set_title('Model Accuracy')\n",
    "    axs[0].set_ylabel('Accuracy') \n",
    "    axs[0].set_xlabel('Epoch')\n",
    "    axs[0].legend(['train', 'validate'], loc='upper left')\n",
    "    # summarize history for loss\n",
    "    axs[1].plot(history.history['loss'], 'c') \n",
    "    axs[1].plot(history.history['val_loss'], 'm') \n",
    "    axs[1].set_title('Model Loss')\n",
    "    axs[1].set_ylabel('Loss') \n",
    "    axs[1].set_xlabel('Epoch')\n",
    "    axs[1].legend(['train', 'validate'], loc='upper right')\n",
    "    plt.show()"
   ]
  },
  {
   "cell_type": "markdown",
   "metadata": {},
   "source": [
    "### AlexNet — свёрточная нейронная сеть для классификации изображений"
   ]
  },
  {
   "cell_type": "markdown",
   "metadata": {},
   "source": [
    "![image](img/AlexNet-1-1.png)\n",
    "AlexNet — сверточная нейронная сеть, которая оказала большое влияние на развитие машинного обучения, в особенности — на алгоритмы компьютерного зрения. "
   ]
  },
  {
   "cell_type": "markdown",
   "metadata": {},
   "source": [
    "**Особенности AlexNet**\n",
    "1. Как функция активации используется Relu вместо арктангенса для добавления в модель нелинейности. За счет этого при одинаковой точности метода скорость становится в 6 раз быстрее.\n",
    "2. Использование дропаута вместо регуляризации решает проблему переобучения. Однако время обучения удваивается с показателем дропаута 0,5.\n",
    "3. Производится перекрытие объединений для уменьшения размера сети. За счет этого уровень ошибок первого и пятого уровней снижаются до 0,4% и 0,3%, соответственно."
   ]
  },
  {
   "cell_type": "markdown",
   "metadata": {},
   "source": [
    "**Архитектура**\n",
    "![image](img/Capture-12-1.jpg)\n",
    "AlexNet содержит восемь слоев с весовыми коэффициентами. Первые пять из них сверточные, а остальные три — полносвязные. Выходные данные пропускаются через функцию потерь softmax, которая формирует распределение 1000 меток классов. Сеть максимизирует многолинейную логистическую регрессию, что эквивалентно максимизации среднего по всем обучающим случаям логарифма вероятности правильной маркировки по распределению ожидания. Ядра второго, четвертого и пятого сверточных слоев связаны только с теми картами ядра в предыдущем слое, которые находятся на одном и том же графическом процессоре. Ядра третьего сверточного слоя связаны со всеми картами ядер второго слоя. Нейроны в полносвязных слоях связаны со всеми нейронами предыдущего слоя.\n",
    "\n",
    "Таким образом, AlexNet содержит 5 сверточных слоев и 3 полносвязных слоя. Relu применяется после каждого сверточного и полносвязного слоя. Дропаут применяется перед первым и вторым полносвязными слоями. Сеть содержит 62,3 миллиона параметров и затрачивает 1,1 миллиарда вычислений при прямом проходе.  Сверточные слои, на которые приходится 6% всех параметров, производят 95% вычислений."
   ]
  },
  {
   "cell_type": "markdown",
   "metadata": {
    "id": "_kqapiAAZebg"
   },
   "source": [
    "### Загрузка данных"
   ]
  },
  {
   "cell_type": "code",
   "execution_count": 4,
   "metadata": {
    "executionInfo": {
     "elapsed": 6832,
     "status": "ok",
     "timestamp": 1607088125383,
     "user": {
      "displayName": "Alexey Tankov",
      "photoUrl": "",
      "userId": "01729535101672247421"
     },
     "user_tz": -180
    },
    "id": "uPKTtjpxX2lF"
   },
   "outputs": [],
   "source": [
    "from tensorflow.keras.datasets import cifar10\n",
    "\n",
    "(x_train, y_train), (x_test, y_test) = cifar10.load_data()"
   ]
  },
  {
   "cell_type": "markdown",
   "metadata": {
    "id": "qKlir071gOo8"
   },
   "source": [
    "### Изучение датасета"
   ]
  },
  {
   "cell_type": "code",
   "execution_count": 5,
   "metadata": {
    "colab": {
     "base_uri": "https://localhost:8080/"
    },
    "executionInfo": {
     "elapsed": 6498,
     "status": "ok",
     "timestamp": 1607088125385,
     "user": {
      "displayName": "Alexey Tankov",
      "photoUrl": "",
      "userId": "01729535101672247421"
     },
     "user_tz": -180
    },
    "id": "HTDALf5hgPjD",
    "outputId": "93194d32-bef5-4795-f32b-b03f529bc6fc"
   },
   "outputs": [
    {
     "data": {
      "text/plain": [
       "(50000, 32, 32, 3)"
      ]
     },
     "execution_count": 5,
     "metadata": {},
     "output_type": "execute_result"
    }
   ],
   "source": [
    "x_train.shape"
   ]
  },
  {
   "cell_type": "code",
   "execution_count": 6,
   "metadata": {
    "colab": {
     "base_uri": "https://localhost:8080/"
    },
    "executionInfo": {
     "elapsed": 6338,
     "status": "ok",
     "timestamp": 1607088125386,
     "user": {
      "displayName": "Alexey Tankov",
      "photoUrl": "",
      "userId": "01729535101672247421"
     },
     "user_tz": -180
    },
    "id": "S2KCYcgpgWli",
    "outputId": "0b58edd5-c870-49dc-8490-074a52994485"
   },
   "outputs": [
    {
     "data": {
      "text/plain": [
       "array([[6],\n",
       "       [9],\n",
       "       [9],\n",
       "       ...,\n",
       "       [9],\n",
       "       [1],\n",
       "       [1]], dtype=uint8)"
      ]
     },
     "execution_count": 6,
     "metadata": {},
     "output_type": "execute_result"
    }
   ],
   "source": [
    "y_train"
   ]
  },
  {
   "cell_type": "code",
   "execution_count": 7,
   "metadata": {},
   "outputs": [
    {
     "data": {
      "text/plain": [
       "(50000, 1)"
      ]
     },
     "execution_count": 7,
     "metadata": {},
     "output_type": "execute_result"
    }
   ],
   "source": [
    "y_train.shape"
   ]
  },
  {
   "cell_type": "code",
   "execution_count": 8,
   "metadata": {
    "colab": {
     "base_uri": "https://localhost:8080/"
    },
    "executionInfo": {
     "elapsed": 6189,
     "status": "ok",
     "timestamp": 1607088125387,
     "user": {
      "displayName": "Alexey Tankov",
      "photoUrl": "",
      "userId": "01729535101672247421"
     },
     "user_tz": -180
    },
    "id": "Me1daDqnmx8P",
    "outputId": "8fb0449d-c7a6-411a-cdf0-6d8ed5cf9fe0"
   },
   "outputs": [
    {
     "data": {
      "text/plain": [
       "(10000, 32, 32, 3)"
      ]
     },
     "execution_count": 8,
     "metadata": {},
     "output_type": "execute_result"
    }
   ],
   "source": [
    "x_test.shape"
   ]
  },
  {
   "cell_type": "code",
   "execution_count": 9,
   "metadata": {
    "colab": {
     "base_uri": "https://localhost:8080/"
    },
    "executionInfo": {
     "elapsed": 6030,
     "status": "ok",
     "timestamp": 1607088125387,
     "user": {
      "displayName": "Alexey Tankov",
      "photoUrl": "",
      "userId": "01729535101672247421"
     },
     "user_tz": -180
    },
    "id": "8z70QObtm58m",
    "outputId": "a5e8f361-4d2e-49ed-dfe6-66ca1957f4c8"
   },
   "outputs": [
    {
     "data": {
      "text/plain": [
       "array([[3],\n",
       "       [8],\n",
       "       [8],\n",
       "       ...,\n",
       "       [5],\n",
       "       [1],\n",
       "       [7]], dtype=uint8)"
      ]
     },
     "execution_count": 9,
     "metadata": {},
     "output_type": "execute_result"
    }
   ],
   "source": [
    "y_test"
   ]
  },
  {
   "cell_type": "code",
   "execution_count": 10,
   "metadata": {
    "executionInfo": {
     "elapsed": 5872,
     "status": "ok",
     "timestamp": 1607088125388,
     "user": {
      "displayName": "Alexey Tankov",
      "photoUrl": "",
      "userId": "01729535101672247421"
     },
     "user_tz": -180
    },
    "id": "5BrhB7dABW0p"
   },
   "outputs": [
    {
     "data": {
      "text/plain": [
       "(10000, 1)"
      ]
     },
     "execution_count": 10,
     "metadata": {},
     "output_type": "execute_result"
    }
   ],
   "source": [
    "y_test.shape"
   ]
  },
  {
   "cell_type": "markdown",
   "metadata": {
    "id": "ZNJrp85BpXYG"
   },
   "source": [
    "### Построение модели"
   ]
  },
  {
   "cell_type": "code",
   "execution_count": 11,
   "metadata": {
    "executionInfo": {
     "elapsed": 7969,
     "status": "ok",
     "timestamp": 1607088128077,
     "user": {
      "displayName": "Alexey Tankov",
      "photoUrl": "",
      "userId": "01729535101672247421"
     },
     "user_tz": -180
    },
    "id": "BfOFbKjTVAL_"
   },
   "outputs": [],
   "source": [
    "# Normalizing\n",
    "x_train = x_train / 255\n",
    "x_test = x_test / 255\n",
    "\n",
    "# One hot encoding\n",
    "y_train_cat = to_categorical(y_train, 10)\n",
    "y_test_cat = to_categorical(y_test, 10)"
   ]
  },
  {
   "cell_type": "markdown",
   "metadata": {
    "colab": {
     "base_uri": "https://localhost:8080/"
    },
    "executionInfo": {
     "elapsed": 7764,
     "status": "ok",
     "timestamp": 1607088128078,
     "user": {
      "displayName": "Alexey Tankov",
      "photoUrl": "",
      "userId": "01729535101672247421"
     },
     "user_tz": -180
    },
    "id": "rK-Pn10qVGXw",
    "outputId": "68bb243f-0769-4ca7-9494-b61f5ab089fd"
   },
   "source": [
    "![image](img/models.png)"
   ]
  },
  {
   "cell_type": "markdown",
   "metadata": {
    "id": "fzfu4h3xXon8"
   },
   "source": [
    "### Model - 1"
   ]
  },
  {
   "cell_type": "code",
   "execution_count": 12,
   "metadata": {
    "executionInfo": {
     "elapsed": 7251,
     "status": "ok",
     "timestamp": 1607088128080,
     "user": {
      "displayName": "Alexey Tankov",
      "photoUrl": "",
      "userId": "01729535101672247421"
     },
     "user_tz": -180
    },
    "id": "MX3kn5LPVNj5"
   },
   "outputs": [],
   "source": [
    "model = Sequential([\n",
    "    Conv2D(filters=32, kernel_size=(4, 4), input_shape=(32, 32, 3), activation='relu'),\n",
    "    MaxPool2D(pool_size=(2, 2)),\n",
    "    Conv2D(filters=32, kernel_size=(4, 4), input_shape=(32, 32, 3), activation='relu'),\n",
    "    MaxPool2D(pool_size=(2, 2)),\n",
    "    Flatten(),\n",
    "    Dense(256, activation='relu'),\n",
    "    Dense(10, activation='softmax')\n",
    "])"
   ]
  },
  {
   "cell_type": "code",
   "execution_count": 13,
   "metadata": {
    "executionInfo": {
     "elapsed": 7058,
     "status": "ok",
     "timestamp": 1607088128081,
     "user": {
      "displayName": "Alexey Tankov",
      "photoUrl": "",
      "userId": "01729535101672247421"
     },
     "user_tz": -180
    },
    "id": "cVDNh23JVhbE"
   },
   "outputs": [],
   "source": [
    "model.compile(optimizer='adam',\n",
    "                     loss='categorical_crossentropy',\n",
    "                     metrics=['accuracy'])"
   ]
  },
  {
   "cell_type": "code",
   "execution_count": 14,
   "metadata": {
    "colab": {
     "base_uri": "https://localhost:8080/"
    },
    "executionInfo": {
     "elapsed": 145867,
     "status": "ok",
     "timestamp": 1607088267087,
     "user": {
      "displayName": "Alexey Tankov",
      "photoUrl": "",
      "userId": "01729535101672247421"
     },
     "user_tz": -180
    },
    "id": "SYHfjCa2VzSr",
    "outputId": "dfa0298f-9d45-49f0-e42f-1eb6b8417ed7"
   },
   "outputs": [
    {
     "name": "stdout",
     "output_type": "stream",
     "text": [
      "Epoch 1/20\n",
      "1563/1563 [==============================] - 38s 25ms/step - loss: 1.5289 - accuracy: 0.4460 - val_loss: 1.3964 - val_accuracy: 0.4987\n",
      "Epoch 2/20\n",
      "1563/1563 [==============================] - 41s 26ms/step - loss: 1.2186 - accuracy: 0.5664 - val_loss: 1.2070 - val_accuracy: 0.5644\n",
      "Epoch 3/20\n",
      "1563/1563 [==============================] - 40s 26ms/step - loss: 1.0875 - accuracy: 0.6155 - val_loss: 1.1342 - val_accuracy: 0.5986\n",
      "Epoch 4/20\n",
      "1563/1563 [==============================] - 39s 25ms/step - loss: 0.9912 - accuracy: 0.6526 - val_loss: 1.0231 - val_accuracy: 0.6432\n",
      "Epoch 5/20\n",
      "1563/1563 [==============================] - 39s 25ms/step - loss: 0.9171 - accuracy: 0.6786 - val_loss: 0.9825 - val_accuracy: 0.6567\n",
      "Epoch 6/20\n",
      "1563/1563 [==============================] - 40s 25ms/step - loss: 0.8469 - accuracy: 0.7033 - val_loss: 0.9784 - val_accuracy: 0.6658\n",
      "Epoch 7/20\n",
      "1563/1563 [==============================] - 40s 25ms/step - loss: 0.7914 - accuracy: 0.7229 - val_loss: 1.0486 - val_accuracy: 0.6510\n",
      "Epoch 8/20\n",
      "1563/1563 [==============================] - 40s 25ms/step - loss: 0.7373 - accuracy: 0.7414 - val_loss: 0.9787 - val_accuracy: 0.6699\n",
      "Epoch 9/20\n",
      "1563/1563 [==============================] - 40s 26ms/step - loss: 0.6881 - accuracy: 0.7583 - val_loss: 0.9965 - val_accuracy: 0.6651\n",
      "Epoch 10/20\n",
      "1563/1563 [==============================] - 47s 30ms/step - loss: 0.6488 - accuracy: 0.7701 - val_loss: 0.9972 - val_accuracy: 0.6775\n",
      "Epoch 11/20\n",
      "1563/1563 [==============================] - 44s 28ms/step - loss: 0.6018 - accuracy: 0.7890 - val_loss: 1.0434 - val_accuracy: 0.6676\n",
      "Epoch 12/20\n",
      "1563/1563 [==============================] - 47s 30ms/step - loss: 0.5709 - accuracy: 0.7965 - val_loss: 1.0788 - val_accuracy: 0.6702\n",
      "Epoch 13/20\n",
      "1563/1563 [==============================] - 41s 27ms/step - loss: 0.5250 - accuracy: 0.8137 - val_loss: 1.1132 - val_accuracy: 0.6680\n",
      "Epoch 14/20\n",
      "1563/1563 [==============================] - 39s 25ms/step - loss: 0.4963 - accuracy: 0.8244 - val_loss: 1.1124 - val_accuracy: 0.6663\n",
      "Epoch 15/20\n",
      "1563/1563 [==============================] - 38s 24ms/step - loss: 0.4600 - accuracy: 0.8358 - val_loss: 1.1796 - val_accuracy: 0.6698\n",
      "Epoch 16/20\n",
      "1563/1563 [==============================] - 38s 24ms/step - loss: 0.4303 - accuracy: 0.8466 - val_loss: 1.2304 - val_accuracy: 0.6551\n",
      "Epoch 17/20\n",
      "1563/1563 [==============================] - 38s 24ms/step - loss: 0.4025 - accuracy: 0.8553 - val_loss: 1.2705 - val_accuracy: 0.6531\n",
      "Epoch 18/20\n",
      "1563/1563 [==============================] - 38s 24ms/step - loss: 0.3704 - accuracy: 0.8684 - val_loss: 1.3251 - val_accuracy: 0.6546\n",
      "Epoch 19/20\n",
      "1563/1563 [==============================] - 38s 24ms/step - loss: 0.3453 - accuracy: 0.8768 - val_loss: 1.4269 - val_accuracy: 0.6502\n",
      "Epoch 20/20\n",
      "1563/1563 [==============================] - 39s 25ms/step - loss: 0.3227 - accuracy: 0.8847 - val_loss: 1.5347 - val_accuracy: 0.6448\n"
     ]
    }
   ],
   "source": [
    "history = model.fit(x_train, y_train_cat, epochs=20, validation_data=(x_test, y_test_cat))"
   ]
  },
  {
   "cell_type": "code",
   "execution_count": null,
   "metadata": {
    "executionInfo": {
     "elapsed": 154385,
     "status": "ok",
     "timestamp": 1607088275797,
     "user": {
      "displayName": "Alexey Tankov",
      "photoUrl": "",
      "userId": "01729535101672247421"
     },
     "user_tz": -180
    },
    "id": "Tv-_i445bZwK"
   },
   "outputs": [],
   "source": [
    "score = model.evaluate(x_train, y_train_cat, verbose=0)\n",
    "score_test = model.evaluate(x_test, y_test_cat, verbose=0)"
   ]
  },
  {
   "cell_type": "code",
   "execution_count": null,
   "metadata": {
    "colab": {
     "base_uri": "https://localhost:8080/"
    },
    "executionInfo": {
     "elapsed": 154208,
     "status": "ok",
     "timestamp": 1607088275798,
     "user": {
      "displayName": "Alexey Tankov",
      "photoUrl": "",
      "userId": "01729535101672247421"
     },
     "user_tz": -180
    },
    "id": "uiG4iN54bfRP",
    "outputId": "e060ee57-3413-4f27-b1bf-de7a05f0f512"
   },
   "outputs": [],
   "source": [
    "print('Train loss:', score[0])\n",
    "print('Train accuracy:', score[1])\n",
    "print('Test loss:', score_test[0])\n",
    "print('Test accuracy:', score_test[1])"
   ]
  },
  {
   "cell_type": "code",
   "execution_count": 17,
   "metadata": {
    "colab": {
     "base_uri": "https://localhost:8080/",
     "height": 307
    },
    "executionInfo": {
     "elapsed": 154008,
     "status": "ok",
     "timestamp": 1607088275800,
     "user": {
      "displayName": "Alexey Tankov",
      "photoUrl": "",
      "userId": "01729535101672247421"
     },
     "user_tz": -180
    },
    "id": "KVe0ssCLWcVf",
    "outputId": "aed026a8-8599-4737-9267-255cf69fb726"
   },
   "outputs": [
    {
     "data": {
      "image/png": "[encoded data removed]",
      "text/plain": [
       "<Figure size 432x288 with 1 Axes>"
      ]
     },
     "metadata": {
      "needs_background": "light"
     },
     "output_type": "display_data"
    }
   ],
   "source": [
    "plt.plot(history.history['accuracy'], label='train')\n",
    "plt.plot(history.history['val_accuracy'], label='val')\n",
    "plt.legend()\n",
    "plt.xlabel('epochs')\n",
    "plt.ylabel('accuracy')\n",
    "plt.title('Accuracy of epochs')\n",
    "plt.show()"
   ]
  },
  {
   "cell_type": "markdown",
   "metadata": {
    "id": "l2v0g09JXtvy"
   },
   "source": [
    "### Model - 2"
   ]
  },
  {
   "cell_type": "code",
   "execution_count": 18,
   "metadata": {
    "executionInfo": {
     "elapsed": 153887,
     "status": "ok",
     "timestamp": 1607088276025,
     "user": {
      "displayName": "Alexey Tankov",
      "photoUrl": "",
      "userId": "01729535101672247421"
     },
     "user_tz": -180
    },
    "id": "fZlGI_J5YI8C"
   },
   "outputs": [],
   "source": [
    "# Add Drop out\n",
    "model_2 = Sequential([\n",
    "    Conv2D(filters=32, kernel_size=(4, 4), input_shape=(32, 32, 3), activation='relu'),\n",
    "    MaxPool2D(pool_size=(2, 2)),\n",
    "    Dropout(0.25), # Drop 25% of the units from the layer\n",
    "    Conv2D(filters=32, kernel_size=(4, 4), input_shape=(32, 32, 3), activation='relu'),\n",
    "    MaxPool2D(pool_size=(2, 2)),\n",
    "    Dropout(0.25),\n",
    "    Flatten(),\n",
    "    Dense(256, activation='relu'),\n",
    "    Dense(10, activation='softmax')\n",
    "])"
   ]
  },
  {
   "cell_type": "code",
   "execution_count": 19,
   "metadata": {
    "executionInfo": {
     "elapsed": 153712,
     "status": "ok",
     "timestamp": 1607088276027,
     "user": {
      "displayName": "Alexey Tankov",
      "photoUrl": "",
      "userId": "01729535101672247421"
     },
     "user_tz": -180
    },
    "id": "jLgeBbzdWB5b"
   },
   "outputs": [],
   "source": [
    "model_2.compile(optimizer='adam',\n",
    "                     loss='categorical_crossentropy',\n",
    "                     metrics=['accuracy'])"
   ]
  },
  {
   "cell_type": "code",
   "execution_count": 20,
   "metadata": {
    "colab": {
     "base_uri": "https://localhost:8080/"
    },
    "executionInfo": {
     "elapsed": 291906,
     "status": "ok",
     "timestamp": 1607088414406,
     "user": {
      "displayName": "Alexey Tankov",
      "photoUrl": "",
      "userId": "01729535101672247421"
     },
     "user_tz": -180
    },
    "id": "JbOvpu6hYlWP",
    "outputId": "a50e423a-ddea-4198-b395-f9bcfbb34ac0"
   },
   "outputs": [
    {
     "name": "stdout",
     "output_type": "stream",
     "text": [
      "Epoch 1/20\n",
      "1563/1563 [==============================] - 47s 30ms/step - loss: 1.5510 - accuracy: 0.4345 - val_loss: 1.3424 - val_accuracy: 0.5227\n",
      "Epoch 2/20\n",
      "1563/1563 [==============================] - 43s 27ms/step - loss: 1.2712 - accuracy: 0.5499 - val_loss: 1.1883 - val_accuracy: 0.5878\n",
      "Epoch 3/20\n",
      "1563/1563 [==============================] - 43s 27ms/step - loss: 1.1413 - accuracy: 0.5959 - val_loss: 1.0457 - val_accuracy: 0.6313\n",
      "Epoch 4/20\n",
      "1563/1563 [==============================] - 42s 27ms/step - loss: 1.0396 - accuracy: 0.6329 - val_loss: 0.9621 - val_accuracy: 0.6721\n",
      "Epoch 5/20\n",
      "1563/1563 [==============================] - 43s 28ms/step - loss: 0.9695 - accuracy: 0.6590 - val_loss: 0.9534 - val_accuracy: 0.6684\n",
      "Epoch 6/20\n",
      "1563/1563 [==============================] - 42s 27ms/step - loss: 0.9164 - accuracy: 0.6770 - val_loss: 0.9442 - val_accuracy: 0.6754\n",
      "Epoch 7/20\n",
      "1563/1563 [==============================] - 42s 27ms/step - loss: 0.8676 - accuracy: 0.6948 - val_loss: 0.8869 - val_accuracy: 0.6956\n",
      "Epoch 8/20\n",
      "1563/1563 [==============================] - 42s 27ms/step - loss: 0.8301 - accuracy: 0.7077 - val_loss: 0.8687 - val_accuracy: 0.6993\n",
      "Epoch 9/20\n",
      "1563/1563 [==============================] - 42s 27ms/step - loss: 0.7959 - accuracy: 0.7215 - val_loss: 0.8846 - val_accuracy: 0.6975\n",
      "Epoch 10/20\n",
      "1563/1563 [==============================] - 42s 27ms/step - loss: 0.7695 - accuracy: 0.7295 - val_loss: 0.8686 - val_accuracy: 0.7038\n",
      "Epoch 11/20\n",
      "1563/1563 [==============================] - 43s 27ms/step - loss: 0.7391 - accuracy: 0.7379 - val_loss: 0.8712 - val_accuracy: 0.7068\n",
      "Epoch 12/20\n",
      "1563/1563 [==============================] - 43s 27ms/step - loss: 0.7203 - accuracy: 0.7453 - val_loss: 0.8520 - val_accuracy: 0.7087\n",
      "Epoch 13/20\n",
      "1563/1563 [==============================] - 44s 28ms/step - loss: 0.6962 - accuracy: 0.7553 - val_loss: 0.8753 - val_accuracy: 0.7012\n",
      "Epoch 14/20\n",
      "1563/1563 [==============================] - 43s 27ms/step - loss: 0.6759 - accuracy: 0.7619 - val_loss: 0.8715 - val_accuracy: 0.7050\n",
      "Epoch 15/20\n",
      "1563/1563 [==============================] - 43s 27ms/step - loss: 0.6652 - accuracy: 0.7652 - val_loss: 0.8587 - val_accuracy: 0.7121\n",
      "Epoch 16/20\n",
      "1563/1563 [==============================] - 42s 27ms/step - loss: 0.6407 - accuracy: 0.7742 - val_loss: 0.9174 - val_accuracy: 0.6947\n",
      "Epoch 17/20\n",
      "1563/1563 [==============================] - 42s 27ms/step - loss: 0.6339 - accuracy: 0.7752 - val_loss: 0.8858 - val_accuracy: 0.7040\n",
      "Epoch 18/20\n",
      "1563/1563 [==============================] - 43s 28ms/step - loss: 0.6178 - accuracy: 0.7805 - val_loss: 0.8970 - val_accuracy: 0.7035\n",
      "Epoch 19/20\n",
      "1563/1563 [==============================] - 42s 27ms/step - loss: 0.6003 - accuracy: 0.7859 - val_loss: 0.9196 - val_accuracy: 0.6959\n",
      "Epoch 20/20\n",
      "1563/1563 [==============================] - 43s 27ms/step - loss: 0.5895 - accuracy: 0.7917 - val_loss: 0.8699 - val_accuracy: 0.7109\n"
     ]
    }
   ],
   "source": [
    "history_2 = model_2.fit(x_train, y_train_cat, epochs=20, validation_data=(x_test, y_test_cat))"
   ]
  },
  {
   "cell_type": "code",
   "execution_count": 21,
   "metadata": {
    "executionInfo": {
     "elapsed": 300944,
     "status": "ok",
     "timestamp": 1607088423625,
     "user": {
      "displayName": "Alexey Tankov",
      "photoUrl": "",
      "userId": "01729535101672247421"
     },
     "user_tz": -180
    },
    "id": "SfMS1pw_bUwb"
   },
   "outputs": [],
   "source": [
    "score_2 = model_2.evaluate(x_train, y_train_cat, verbose=0)"
   ]
  },
  {
   "cell_type": "code",
   "execution_count": 22,
   "metadata": {
    "colab": {
     "base_uri": "https://localhost:8080/"
    },
    "executionInfo": {
     "elapsed": 300772,
     "status": "ok",
     "timestamp": 1607088423627,
     "user": {
      "displayName": "Alexey Tankov",
      "photoUrl": "",
      "userId": "01729535101672247421"
     },
     "user_tz": -180
    },
    "id": "GpzceI4yb0i-",
    "outputId": "94bdd687-995e-4226-e0ff-32a7a59f4b2d"
   },
   "outputs": [
    {
     "name": "stdout",
     "output_type": "stream",
     "text": [
      "Test loss: 0.32221928238868713\n",
      "Test accuracy: 0.9034000039100647\n"
     ]
    }
   ],
   "source": [
    "print('Test loss:', score_2[0])\n",
    "print('Test accuracy:', score_2[1])"
   ]
  },
  {
   "cell_type": "code",
   "execution_count": 23,
   "metadata": {
    "colab": {
     "base_uri": "https://localhost:8080/",
     "height": 307
    },
    "executionInfo": {
     "elapsed": 300586,
     "status": "ok",
     "timestamp": 1607088423628,
     "user": {
      "displayName": "Alexey Tankov",
      "photoUrl": "",
      "userId": "01729535101672247421"
     },
     "user_tz": -180
    },
    "id": "41rKPrTUY9mY",
    "outputId": "c58b3c07-0e81-4520-fe7e-f6cdab12f3b8"
   },
   "outputs": [
    {
     "data": {
      "image/png": "[encoded data removed]",
      "text/plain": [
       "<Figure size 432x288 with 1 Axes>"
      ]
     },
     "metadata": {
      "needs_background": "light"
     },
     "output_type": "display_data"
    }
   ],
   "source": [
    "plt.plot(history_2.history['accuracy'], label='train')\n",
    "plt.plot(history_2.history['val_accuracy'], label='val')\n",
    "plt.legend()\n",
    "plt.xlabel('epochs')\n",
    "plt.ylabel('accuracy')\n",
    "plt.title('Accuracy of epochs')\n",
    "plt.show()"
   ]
  },
  {
   "cell_type": "markdown",
   "metadata": {
    "id": "l2v0g09JXtvy"
   },
   "source": [
    "### Model - 3"
   ]
  },
  {
   "cell_type": "code",
   "execution_count": 24,
   "metadata": {
    "executionInfo": {
     "elapsed": 153887,
     "status": "ok",
     "timestamp": 1607088276025,
     "user": {
      "displayName": "Alexey Tankov",
      "photoUrl": "",
      "userId": "01729535101672247421"
     },
     "user_tz": -180
    },
    "id": "fZlGI_J5YI8C"
   },
   "outputs": [],
   "source": [
    "# Add More layers with more filters\n",
    "model_3 = Sequential([\n",
    "    Conv2D(filters=64, kernel_size=(3, 3), input_shape=(32, 32, 3), activation='relu'),\n",
    "    Conv2D(filters=64, kernel_size=(3, 3), activation='relu'),\n",
    "    MaxPool2D(pool_size=(2, 2)),\n",
    "    Dropout(0.4), # Drop 40% of the units from the layer\n",
    "    \n",
    "    Conv2D(filters=128, kernel_size=(3, 3), activation='relu'),\n",
    "    Conv2D(filters=128, kernel_size=(3, 3), activation='relu'),\n",
    "    MaxPool2D(pool_size=(2, 2)),\n",
    "    Dropout(0.4),\n",
    "    \n",
    "    Flatten(),\n",
    "    Dense(1024, activation='relu'),\n",
    "    Dense(1024, activation='relu'),\n",
    "    Dense(10, activation='softmax')\n",
    "])"
   ]
  },
  {
   "cell_type": "code",
   "execution_count": 25,
   "metadata": {
    "executionInfo": {
     "elapsed": 153712,
     "status": "ok",
     "timestamp": 1607088276027,
     "user": {
      "displayName": "Alexey Tankov",
      "photoUrl": "",
      "userId": "01729535101672247421"
     },
     "user_tz": -180
    },
    "id": "jLgeBbzdWB5b"
   },
   "outputs": [],
   "source": [
    "model_3.compile(optimizer='adam',\n",
    "                     loss='categorical_crossentropy',\n",
    "                     metrics=['accuracy'])"
   ]
  },
  {
   "cell_type": "code",
   "execution_count": 26,
   "metadata": {
    "colab": {
     "base_uri": "https://localhost:8080/"
    },
    "executionInfo": {
     "elapsed": 291906,
     "status": "ok",
     "timestamp": 1607088414406,
     "user": {
      "displayName": "Alexey Tankov",
      "photoUrl": "",
      "userId": "01729535101672247421"
     },
     "user_tz": -180
    },
    "id": "JbOvpu6hYlWP",
    "outputId": "a50e423a-ddea-4198-b395-f9bcfbb34ac0"
   },
   "outputs": [
    {
     "name": "stdout",
     "output_type": "stream",
     "text": [
      "Epoch 1/50\n",
      "1563/1563 [==============================] - 364s 233ms/step - loss: 1.5748 - accuracy: 0.4237 - val_loss: 1.2561 - val_accuracy: 0.5510\n",
      "Epoch 2/50\n",
      "1563/1563 [==============================] - 373s 239ms/step - loss: 1.1975 - accuracy: 0.5741 - val_loss: 1.0644 - val_accuracy: 0.6156\n",
      "Epoch 3/50\n",
      "1563/1563 [==============================] - 355s 227ms/step - loss: 1.0289 - accuracy: 0.6350 - val_loss: 0.8847 - val_accuracy: 0.6947\n",
      "Epoch 4/50\n",
      "1563/1563 [==============================] - 340s 217ms/step - loss: 0.9214 - accuracy: 0.6746 - val_loss: 0.8704 - val_accuracy: 0.6961\n",
      "Epoch 5/50\n",
      "1563/1563 [==============================] - 339s 217ms/step - loss: 0.8371 - accuracy: 0.7033 - val_loss: 0.8126 - val_accuracy: 0.7227\n",
      "Epoch 6/50\n",
      "1563/1563 [==============================] - 340s 217ms/step - loss: 0.7844 - accuracy: 0.7236 - val_loss: 0.7809 - val_accuracy: 0.7259\n",
      "Epoch 7/50\n",
      "1563/1563 [==============================] - 340s 218ms/step - loss: 0.7352 - accuracy: 0.7404 - val_loss: 0.7527 - val_accuracy: 0.7434\n",
      "Epoch 8/50\n",
      "1563/1563 [==============================] - 346s 222ms/step - loss: 0.6885 - accuracy: 0.7560 - val_loss: 0.7707 - val_accuracy: 0.7416\n",
      "Epoch 9/50\n",
      "1563/1563 [==============================] - 347s 222ms/step - loss: 0.6558 - accuracy: 0.7667 - val_loss: 0.7312 - val_accuracy: 0.7541\n",
      "Epoch 10/50\n",
      "1563/1563 [==============================] - 352s 225ms/step - loss: 0.6218 - accuracy: 0.7783 - val_loss: 0.7145 - val_accuracy: 0.7629\n",
      "Epoch 11/50\n",
      "1563/1563 [==============================] - 351s 225ms/step - loss: 0.5917 - accuracy: 0.7904 - val_loss: 0.7282 - val_accuracy: 0.7588\n",
      "Epoch 12/50\n",
      " 108/1563 [=>............................] - ETA: 5:30 - loss: 0.5260 - accuracy: 0.8151"
     ]
    },
    {
     "ename": "KeyboardInterrupt",
     "evalue": "",
     "output_type": "error",
     "traceback": [
      "\u001b[1;31m---------------------------------------------------------------------------\u001b[0m",
      "\u001b[1;31mKeyboardInterrupt\u001b[0m                         Traceback (most recent call last)",
      "\u001b[1;32m<ipython-input-26-ec0f9d2384bf>\u001b[0m in \u001b[0;36m<module>\u001b[1;34m()\u001b[0m\n\u001b[1;32m----> 1\u001b[1;33m \u001b[0mhistory_3\u001b[0m \u001b[1;33m=\u001b[0m \u001b[0mmodel_3\u001b[0m\u001b[1;33m.\u001b[0m\u001b[0mfit\u001b[0m\u001b[1;33m(\u001b[0m\u001b[0mx_train\u001b[0m\u001b[1;33m,\u001b[0m \u001b[0my_train_cat\u001b[0m\u001b[1;33m,\u001b[0m \u001b[0mepochs\u001b[0m\u001b[1;33m=\u001b[0m\u001b[1;36m50\u001b[0m\u001b[1;33m,\u001b[0m \u001b[0mvalidation_data\u001b[0m\u001b[1;33m=\u001b[0m\u001b[1;33m(\u001b[0m\u001b[0mx_test\u001b[0m\u001b[1;33m,\u001b[0m \u001b[0my_test_cat\u001b[0m\u001b[1;33m)\u001b[0m\u001b[1;33m)\u001b[0m\u001b[1;33m\u001b[0m\u001b[1;33m\u001b[0m\u001b[0m\n\u001b[0m",
      "\u001b[1;32mC:\\Users\\Admin\\AppData\\Roaming\\Python\\Python37\\site-packages\\tensorflow\\python\\keras\\engine\\training.py\u001b[0m in \u001b[0;36m_method_wrapper\u001b[1;34m(self, *args, **kwargs)\u001b[0m\n\u001b[0;32m    106\u001b[0m   \u001b[1;32mdef\u001b[0m \u001b[0m_method_wrapper\u001b[0m\u001b[1;33m(\u001b[0m\u001b[0mself\u001b[0m\u001b[1;33m,\u001b[0m \u001b[1;33m*\u001b[0m\u001b[0margs\u001b[0m\u001b[1;33m,\u001b[0m \u001b[1;33m**\u001b[0m\u001b[0mkwargs\u001b[0m\u001b[1;33m)\u001b[0m\u001b[1;33m:\u001b[0m\u001b[1;33m\u001b[0m\u001b[1;33m\u001b[0m\u001b[0m\n\u001b[0;32m    107\u001b[0m     \u001b[1;32mif\u001b[0m \u001b[1;32mnot\u001b[0m \u001b[0mself\u001b[0m\u001b[1;33m.\u001b[0m\u001b[0m_in_multi_worker_mode\u001b[0m\u001b[1;33m(\u001b[0m\u001b[1;33m)\u001b[0m\u001b[1;33m:\u001b[0m  \u001b[1;31m# pylint: disable=protected-access\u001b[0m\u001b[1;33m\u001b[0m\u001b[1;33m\u001b[0m\u001b[0m\n\u001b[1;32m--> 108\u001b[1;33m       \u001b[1;32mreturn\u001b[0m \u001b[0mmethod\u001b[0m\u001b[1;33m(\u001b[0m\u001b[0mself\u001b[0m\u001b[1;33m,\u001b[0m \u001b[1;33m*\u001b[0m\u001b[0margs\u001b[0m\u001b[1;33m,\u001b[0m \u001b[1;33m**\u001b[0m\u001b[0mkwargs\u001b[0m\u001b[1;33m)\u001b[0m\u001b[1;33m\u001b[0m\u001b[1;33m\u001b[0m\u001b[0m\n\u001b[0m\u001b[0;32m    109\u001b[0m \u001b[1;33m\u001b[0m\u001b[0m\n\u001b[0;32m    110\u001b[0m     \u001b[1;31m# Running inside `run_distribute_coordinator` already.\u001b[0m\u001b[1;33m\u001b[0m\u001b[1;33m\u001b[0m\u001b[1;33m\u001b[0m\u001b[0m\n",
      "\u001b[1;32mC:\\Users\\Admin\\AppData\\Roaming\\Python\\Python37\\site-packages\\tensorflow\\python\\keras\\engine\\training.py\u001b[0m in \u001b[0;36mfit\u001b[1;34m(self, x, y, batch_size, epochs, verbose, callbacks, validation_split, validation_data, shuffle, class_weight, sample_weight, initial_epoch, steps_per_epoch, validation_steps, validation_batch_size, validation_freq, max_queue_size, workers, use_multiprocessing)\u001b[0m\n\u001b[0;32m   1096\u001b[0m                 batch_size=batch_size):\n\u001b[0;32m   1097\u001b[0m               \u001b[0mcallbacks\u001b[0m\u001b[1;33m.\u001b[0m\u001b[0mon_train_batch_begin\u001b[0m\u001b[1;33m(\u001b[0m\u001b[0mstep\u001b[0m\u001b[1;33m)\u001b[0m\u001b[1;33m\u001b[0m\u001b[1;33m\u001b[0m\u001b[0m\n\u001b[1;32m-> 1098\u001b[1;33m               \u001b[0mtmp_logs\u001b[0m \u001b[1;33m=\u001b[0m \u001b[0mtrain_function\u001b[0m\u001b[1;33m(\u001b[0m\u001b[0miterator\u001b[0m\u001b[1;33m)\u001b[0m\u001b[1;33m\u001b[0m\u001b[1;33m\u001b[0m\u001b[0m\n\u001b[0m\u001b[0;32m   1099\u001b[0m               \u001b[1;32mif\u001b[0m \u001b[0mdata_handler\u001b[0m\u001b[1;33m.\u001b[0m\u001b[0mshould_sync\u001b[0m\u001b[1;33m:\u001b[0m\u001b[1;33m\u001b[0m\u001b[1;33m\u001b[0m\u001b[0m\n\u001b[0;32m   1100\u001b[0m                 \u001b[0mcontext\u001b[0m\u001b[1;33m.\u001b[0m\u001b[0masync_wait\u001b[0m\u001b[1;33m(\u001b[0m\u001b[1;33m)\u001b[0m\u001b[1;33m\u001b[0m\u001b[1;33m\u001b[0m\u001b[0m\n",
      "\u001b[1;32mC:\\Users\\Admin\\AppData\\Roaming\\Python\\Python37\\site-packages\\tensorflow\\python\\eager\\def_function.py\u001b[0m in \u001b[0;36m__call__\u001b[1;34m(self, *args, **kwds)\u001b[0m\n\u001b[0;32m    778\u001b[0m       \u001b[1;32melse\u001b[0m\u001b[1;33m:\u001b[0m\u001b[1;33m\u001b[0m\u001b[1;33m\u001b[0m\u001b[0m\n\u001b[0;32m    779\u001b[0m         \u001b[0mcompiler\u001b[0m \u001b[1;33m=\u001b[0m \u001b[1;34m\"nonXla\"\u001b[0m\u001b[1;33m\u001b[0m\u001b[1;33m\u001b[0m\u001b[0m\n\u001b[1;32m--> 780\u001b[1;33m         \u001b[0mresult\u001b[0m \u001b[1;33m=\u001b[0m \u001b[0mself\u001b[0m\u001b[1;33m.\u001b[0m\u001b[0m_call\u001b[0m\u001b[1;33m(\u001b[0m\u001b[1;33m*\u001b[0m\u001b[0margs\u001b[0m\u001b[1;33m,\u001b[0m \u001b[1;33m**\u001b[0m\u001b[0mkwds\u001b[0m\u001b[1;33m)\u001b[0m\u001b[1;33m\u001b[0m\u001b[1;33m\u001b[0m\u001b[0m\n\u001b[0m\u001b[0;32m    781\u001b[0m \u001b[1;33m\u001b[0m\u001b[0m\n\u001b[0;32m    782\u001b[0m       \u001b[0mnew_tracing_count\u001b[0m \u001b[1;33m=\u001b[0m \u001b[0mself\u001b[0m\u001b[1;33m.\u001b[0m\u001b[0m_get_tracing_count\u001b[0m\u001b[1;33m(\u001b[0m\u001b[1;33m)\u001b[0m\u001b[1;33m\u001b[0m\u001b[1;33m\u001b[0m\u001b[0m\n",
      "\u001b[1;32mC:\\Users\\Admin\\AppData\\Roaming\\Python\\Python37\\site-packages\\tensorflow\\python\\eager\\def_function.py\u001b[0m in \u001b[0;36m_call\u001b[1;34m(self, *args, **kwds)\u001b[0m\n\u001b[0;32m    805\u001b[0m       \u001b[1;31m# In this case we have created variables on the first call, so we run the\u001b[0m\u001b[1;33m\u001b[0m\u001b[1;33m\u001b[0m\u001b[1;33m\u001b[0m\u001b[0m\n\u001b[0;32m    806\u001b[0m       \u001b[1;31m# defunned version which is guaranteed to never create variables.\u001b[0m\u001b[1;33m\u001b[0m\u001b[1;33m\u001b[0m\u001b[1;33m\u001b[0m\u001b[0m\n\u001b[1;32m--> 807\u001b[1;33m       \u001b[1;32mreturn\u001b[0m \u001b[0mself\u001b[0m\u001b[1;33m.\u001b[0m\u001b[0m_stateless_fn\u001b[0m\u001b[1;33m(\u001b[0m\u001b[1;33m*\u001b[0m\u001b[0margs\u001b[0m\u001b[1;33m,\u001b[0m \u001b[1;33m**\u001b[0m\u001b[0mkwds\u001b[0m\u001b[1;33m)\u001b[0m  \u001b[1;31m# pylint: disable=not-callable\u001b[0m\u001b[1;33m\u001b[0m\u001b[1;33m\u001b[0m\u001b[0m\n\u001b[0m\u001b[0;32m    808\u001b[0m     \u001b[1;32melif\u001b[0m \u001b[0mself\u001b[0m\u001b[1;33m.\u001b[0m\u001b[0m_stateful_fn\u001b[0m \u001b[1;32mis\u001b[0m \u001b[1;32mnot\u001b[0m \u001b[1;32mNone\u001b[0m\u001b[1;33m:\u001b[0m\u001b[1;33m\u001b[0m\u001b[1;33m\u001b[0m\u001b[0m\n\u001b[0;32m    809\u001b[0m       \u001b[1;31m# Release the lock early so that multiple threads can perform the call\u001b[0m\u001b[1;33m\u001b[0m\u001b[1;33m\u001b[0m\u001b[1;33m\u001b[0m\u001b[0m\n",
      "\u001b[1;32mC:\\Users\\Admin\\AppData\\Roaming\\Python\\Python37\\site-packages\\tensorflow\\python\\eager\\function.py\u001b[0m in \u001b[0;36m__call__\u001b[1;34m(self, *args, **kwargs)\u001b[0m\n\u001b[0;32m   2827\u001b[0m     \u001b[1;32mwith\u001b[0m \u001b[0mself\u001b[0m\u001b[1;33m.\u001b[0m\u001b[0m_lock\u001b[0m\u001b[1;33m:\u001b[0m\u001b[1;33m\u001b[0m\u001b[1;33m\u001b[0m\u001b[0m\n\u001b[0;32m   2828\u001b[0m       \u001b[0mgraph_function\u001b[0m\u001b[1;33m,\u001b[0m \u001b[0margs\u001b[0m\u001b[1;33m,\u001b[0m \u001b[0mkwargs\u001b[0m \u001b[1;33m=\u001b[0m \u001b[0mself\u001b[0m\u001b[1;33m.\u001b[0m\u001b[0m_maybe_define_function\u001b[0m\u001b[1;33m(\u001b[0m\u001b[0margs\u001b[0m\u001b[1;33m,\u001b[0m \u001b[0mkwargs\u001b[0m\u001b[1;33m)\u001b[0m\u001b[1;33m\u001b[0m\u001b[1;33m\u001b[0m\u001b[0m\n\u001b[1;32m-> 2829\u001b[1;33m     \u001b[1;32mreturn\u001b[0m \u001b[0mgraph_function\u001b[0m\u001b[1;33m.\u001b[0m\u001b[0m_filtered_call\u001b[0m\u001b[1;33m(\u001b[0m\u001b[0margs\u001b[0m\u001b[1;33m,\u001b[0m \u001b[0mkwargs\u001b[0m\u001b[1;33m)\u001b[0m  \u001b[1;31m# pylint: disable=protected-access\u001b[0m\u001b[1;33m\u001b[0m\u001b[1;33m\u001b[0m\u001b[0m\n\u001b[0m\u001b[0;32m   2830\u001b[0m \u001b[1;33m\u001b[0m\u001b[0m\n\u001b[0;32m   2831\u001b[0m   \u001b[1;33m@\u001b[0m\u001b[0mproperty\u001b[0m\u001b[1;33m\u001b[0m\u001b[1;33m\u001b[0m\u001b[0m\n",
      "\u001b[1;32mC:\\Users\\Admin\\AppData\\Roaming\\Python\\Python37\\site-packages\\tensorflow\\python\\eager\\function.py\u001b[0m in \u001b[0;36m_filtered_call\u001b[1;34m(self, args, kwargs, cancellation_manager)\u001b[0m\n\u001b[0;32m   1846\u001b[0m                            resource_variable_ops.BaseResourceVariable))],\n\u001b[0;32m   1847\u001b[0m         \u001b[0mcaptured_inputs\u001b[0m\u001b[1;33m=\u001b[0m\u001b[0mself\u001b[0m\u001b[1;33m.\u001b[0m\u001b[0mcaptured_inputs\u001b[0m\u001b[1;33m,\u001b[0m\u001b[1;33m\u001b[0m\u001b[1;33m\u001b[0m\u001b[0m\n\u001b[1;32m-> 1848\u001b[1;33m         cancellation_manager=cancellation_manager)\n\u001b[0m\u001b[0;32m   1849\u001b[0m \u001b[1;33m\u001b[0m\u001b[0m\n\u001b[0;32m   1850\u001b[0m   \u001b[1;32mdef\u001b[0m \u001b[0m_call_flat\u001b[0m\u001b[1;33m(\u001b[0m\u001b[0mself\u001b[0m\u001b[1;33m,\u001b[0m \u001b[0margs\u001b[0m\u001b[1;33m,\u001b[0m \u001b[0mcaptured_inputs\u001b[0m\u001b[1;33m,\u001b[0m \u001b[0mcancellation_manager\u001b[0m\u001b[1;33m=\u001b[0m\u001b[1;32mNone\u001b[0m\u001b[1;33m)\u001b[0m\u001b[1;33m:\u001b[0m\u001b[1;33m\u001b[0m\u001b[1;33m\u001b[0m\u001b[0m\n",
      "\u001b[1;32mC:\\Users\\Admin\\AppData\\Roaming\\Python\\Python37\\site-packages\\tensorflow\\python\\eager\\function.py\u001b[0m in \u001b[0;36m_call_flat\u001b[1;34m(self, args, captured_inputs, cancellation_manager)\u001b[0m\n\u001b[0;32m   1922\u001b[0m       \u001b[1;31m# No tape is watching; skip to running the function.\u001b[0m\u001b[1;33m\u001b[0m\u001b[1;33m\u001b[0m\u001b[1;33m\u001b[0m\u001b[0m\n\u001b[0;32m   1923\u001b[0m       return self._build_call_outputs(self._inference_function.call(\n\u001b[1;32m-> 1924\u001b[1;33m           ctx, args, cancellation_manager=cancellation_manager))\n\u001b[0m\u001b[0;32m   1925\u001b[0m     forward_backward = self._select_forward_and_backward_functions(\n\u001b[0;32m   1926\u001b[0m         \u001b[0margs\u001b[0m\u001b[1;33m,\u001b[0m\u001b[1;33m\u001b[0m\u001b[1;33m\u001b[0m\u001b[0m\n",
      "\u001b[1;32mC:\\Users\\Admin\\AppData\\Roaming\\Python\\Python37\\site-packages\\tensorflow\\python\\eager\\function.py\u001b[0m in \u001b[0;36mcall\u001b[1;34m(self, ctx, args, cancellation_manager)\u001b[0m\n\u001b[0;32m    548\u001b[0m               \u001b[0minputs\u001b[0m\u001b[1;33m=\u001b[0m\u001b[0margs\u001b[0m\u001b[1;33m,\u001b[0m\u001b[1;33m\u001b[0m\u001b[1;33m\u001b[0m\u001b[0m\n\u001b[0;32m    549\u001b[0m               \u001b[0mattrs\u001b[0m\u001b[1;33m=\u001b[0m\u001b[0mattrs\u001b[0m\u001b[1;33m,\u001b[0m\u001b[1;33m\u001b[0m\u001b[1;33m\u001b[0m\u001b[0m\n\u001b[1;32m--> 550\u001b[1;33m               ctx=ctx)\n\u001b[0m\u001b[0;32m    551\u001b[0m         \u001b[1;32melse\u001b[0m\u001b[1;33m:\u001b[0m\u001b[1;33m\u001b[0m\u001b[1;33m\u001b[0m\u001b[0m\n\u001b[0;32m    552\u001b[0m           outputs = execute.execute_with_cancellation(\n",
      "\u001b[1;32mC:\\Users\\Admin\\AppData\\Roaming\\Python\\Python37\\site-packages\\tensorflow\\python\\eager\\execute.py\u001b[0m in \u001b[0;36mquick_execute\u001b[1;34m(op_name, num_outputs, inputs, attrs, ctx, name)\u001b[0m\n\u001b[0;32m     58\u001b[0m     \u001b[0mctx\u001b[0m\u001b[1;33m.\u001b[0m\u001b[0mensure_initialized\u001b[0m\u001b[1;33m(\u001b[0m\u001b[1;33m)\u001b[0m\u001b[1;33m\u001b[0m\u001b[1;33m\u001b[0m\u001b[0m\n\u001b[0;32m     59\u001b[0m     tensors = pywrap_tfe.TFE_Py_Execute(ctx._handle, device_name, op_name,\n\u001b[1;32m---> 60\u001b[1;33m                                         inputs, attrs, num_outputs)\n\u001b[0m\u001b[0;32m     61\u001b[0m   \u001b[1;32mexcept\u001b[0m \u001b[0mcore\u001b[0m\u001b[1;33m.\u001b[0m\u001b[0m_NotOkStatusException\u001b[0m \u001b[1;32mas\u001b[0m \u001b[0me\u001b[0m\u001b[1;33m:\u001b[0m\u001b[1;33m\u001b[0m\u001b[1;33m\u001b[0m\u001b[0m\n\u001b[0;32m     62\u001b[0m     \u001b[1;32mif\u001b[0m \u001b[0mname\u001b[0m \u001b[1;32mis\u001b[0m \u001b[1;32mnot\u001b[0m \u001b[1;32mNone\u001b[0m\u001b[1;33m:\u001b[0m\u001b[1;33m\u001b[0m\u001b[1;33m\u001b[0m\u001b[0m\n",
      "\u001b[1;31mKeyboardInterrupt\u001b[0m: "
     ]
    }
   ],
   "source": [
    "history_3 = model_3.fit(x_train, y_train_cat, epochs=50, validation_data=(x_test, y_test_cat))"
   ]
  },
  {
   "cell_type": "code",
   "execution_count": null,
   "metadata": {
    "executionInfo": {
     "elapsed": 300944,
     "status": "ok",
     "timestamp": 1607088423625,
     "user": {
      "displayName": "Alexey Tankov",
      "photoUrl": "",
      "userId": "01729535101672247421"
     },
     "user_tz": -180
    },
    "id": "SfMS1pw_bUwb"
   },
   "outputs": [],
   "source": [
    "score_3 = model_3.evaluate(x_train, y_train_cat, verbose=0)"
   ]
  },
  {
   "cell_type": "code",
   "execution_count": null,
   "metadata": {
    "colab": {
     "base_uri": "https://localhost:8080/"
    },
    "executionInfo": {
     "elapsed": 300772,
     "status": "ok",
     "timestamp": 1607088423627,
     "user": {
      "displayName": "Alexey Tankov",
      "photoUrl": "",
      "userId": "01729535101672247421"
     },
     "user_tz": -180
    },
    "id": "GpzceI4yb0i-",
    "outputId": "94bdd687-995e-4226-e0ff-32a7a59f4b2d"
   },
   "outputs": [],
   "source": [
    "print('Test loss:', score_3[0])\n",
    "print('Test accuracy:', score_3[1])"
   ]
  },
  {
   "cell_type": "code",
   "execution_count": null,
   "metadata": {
    "colab": {
     "base_uri": "https://localhost:8080/",
     "height": 307
    },
    "executionInfo": {
     "elapsed": 300586,
     "status": "ok",
     "timestamp": 1607088423628,
     "user": {
      "displayName": "Alexey Tankov",
      "photoUrl": "",
      "userId": "01729535101672247421"
     },
     "user_tz": -180
    },
    "id": "41rKPrTUY9mY",
    "outputId": "c58b3c07-0e81-4520-fe7e-f6cdab12f3b8"
   },
   "outputs": [],
   "source": [
    "plt.plot(history_3.history['accuracy'], label='train')\n",
    "plt.plot(history_3.history['val_accuracy'], label='val')\n",
    "plt.legend()\n",
    "plt.xlabel('epochs')\n",
    "plt.ylabel('accuracy')\n",
    "plt.title('Accuracy of epochs')\n",
    "plt.show()"
   ]
  },
  {
   "cell_type": "markdown",
   "metadata": {
    "id": "UtibCaetXw8U"
   },
   "source": [
    "### Model - 4"
   ]
  },
  {
   "cell_type": "code",
   "execution_count": null,
   "metadata": {
    "executionInfo": {
     "elapsed": 300818,
     "status": "ok",
     "timestamp": 1607088424232,
     "user": {
      "displayName": "Alexey Tankov",
      "photoUrl": "",
      "userId": "01729535101672247421"
     },
     "user_tz": -180
    },
    "id": "M5jDZTroZQEK"
   },
   "outputs": [],
   "source": [
    "# Increased layers and Filters along with Increased dropout\n",
    "model_4 = Sequential([\n",
    "    Conv2D(filters=32, kernel_size=(3, 3), input_shape=(32, 32, 3), kernel_initializer='he_uniform', padding='same', activation='relu'),\n",
    "    Conv2D(filters=32, kernel_size=(3, 3), kernel_initializer='he_uniform', padding='same', activation='relu'),\n",
    "    MaxPool2D(pool_size=(2, 2)),\n",
    "    Dropout(0.2), # Drop 20% of the units from the layer\n",
    "    \n",
    "    Conv2D(filters=64, kernel_size=(3, 3), kernel_initializer='he_uniform', padding='same', activation='relu'),\n",
    "    Conv2D(filters=64, kernel_size=(3, 3), kernel_initializer='he_uniform', padding='same', activation='relu'),\n",
    "    MaxPool2D(pool_size=(2, 2)),\n",
    "    Dropout(0.3), # Drop 30% of the units from the layer\n",
    "    \n",
    "    Conv2D(filters=128, kernel_size=(3, 3), kernel_initializer='he_uniform', padding='same', activation='relu'),\n",
    "    Conv2D(filters=128, kernel_size=(3, 3), kernel_initializer='he_uniform', padding='same', activation='relu'),\n",
    "    MaxPool2D(pool_size=(2, 2)),\n",
    "    Dropout(0.4), # Drop 40% of the units from the layer\n",
    "    \n",
    "    Flatten(),\n",
    "    Dense(128, activation='relu', kernel_initializer='he_uniform'),\n",
    "    Dropout(0.5), # Drop 50% of the units from the layer\n",
    "    Dense(10, activation='softmax')\n",
    "])"
   ]
  },
  {
   "cell_type": "code",
   "execution_count": null,
   "metadata": {
    "executionInfo": {
     "elapsed": 300629,
     "status": "ok",
     "timestamp": 1607088424233,
     "user": {
      "displayName": "Alexey Tankov",
      "photoUrl": "",
      "userId": "01729535101672247421"
     },
     "user_tz": -180
    },
    "id": "CzhdthGHVmmM"
   },
   "outputs": [],
   "source": [
    "model_4.compile(optimizer='adam',\n",
    "                     loss='categorical_crossentropy',\n",
    "                     metrics=['accuracy'])"
   ]
  },
  {
   "cell_type": "code",
   "execution_count": null,
   "metadata": {
    "colab": {
     "background_save": true,
     "base_uri": "https://localhost:8080/"
    },
    "id": "D5H6fleZZ3R_"
   },
   "outputs": [],
   "source": [
    "history_4 = model_4.fit(x_train, y_train_cat, epochs=50, validation_data=(x_test, y_test_cat))"
   ]
  },
  {
   "cell_type": "code",
   "execution_count": null,
   "metadata": {
    "colab": {
     "background_save": true
    },
    "id": "vBnSbQnhbIhE"
   },
   "outputs": [],
   "source": [
    "score_4 = model_4.evaluate(x_train, y_train_cat, verbose=0)"
   ]
  },
  {
   "cell_type": "code",
   "execution_count": null,
   "metadata": {
    "colab": {
     "background_save": true
    },
    "id": "ayF6Ba5Db3VE"
   },
   "outputs": [],
   "source": [
    "print('Test loss:', score_4[0])\n",
    "print('Test accuracy:', score_4[1])"
   ]
  },
  {
   "cell_type": "code",
   "execution_count": null,
   "metadata": {
    "colab": {
     "background_save": true
    },
    "id": "lmlXfevzZ-SY"
   },
   "outputs": [],
   "source": [
    "plt.plot(history_4.history['accuracy'], label='train')\n",
    "plt.plot(history_4.history['val_accuracy'], label='val')\n",
    "plt.legend()\n",
    "plt.xlabel('epochs')\n",
    "plt.ylabel('accuracy')\n",
    "plt.title('Accuracy of epochs')\n",
    "plt.show()"
   ]
  },
  {
   "cell_type": "markdown",
   "metadata": {
    "id": "l2v0g09JXtvy"
   },
   "source": [
    "### Model - 5"
   ]
  },
  {
   "cell_type": "code",
   "execution_count": null,
   "metadata": {
    "executionInfo": {
     "elapsed": 153887,
     "status": "ok",
     "timestamp": 1607088276025,
     "user": {
      "displayName": "Alexey Tankov",
      "photoUrl": "",
      "userId": "01729535101672247421"
     },
     "user_tz": -180
    },
    "id": "fZlGI_J5YI8C"
   },
   "outputs": [],
   "source": [
    "# Adding Batch Normalization\n",
    "model_5 = Sequential([\n",
    "    Conv2D(filters=32, kernel_size=(3, 3), input_shape=(32, 32, 3), kernel_initializer='he_uniform', padding='same', activation='relu'),\n",
    "    BatchNormalization(),\n",
    "    Conv2D(filters=32, kernel_size=(3, 3), kernel_initializer='he_uniform', padding='same', activation='relu'),\n",
    "    BatchNormalization(),\n",
    "    MaxPool2D(pool_size=(2, 2)),\n",
    "    Dropout(0.2), # Drop 20% of the units from the layer\n",
    "    \n",
    "    Conv2D(filters=64, kernel_size=(3, 3), kernel_initializer='he_uniform', padding='same', activation='relu'),\n",
    "    BatchNormalization(),\n",
    "    Conv2D(filters=64, kernel_size=(3, 3), kernel_initializer='he_uniform', padding='same', activation='relu'),\n",
    "    BatchNormalization(),\n",
    "    MaxPool2D(pool_size=(2, 2)),\n",
    "    Dropout(0.3), # Drop 30% of the units from the layer\n",
    "    \n",
    "    Conv2D(filters=128, kernel_size=(3, 3), kernel_initializer='he_uniform', padding='same', activation='relu'),\n",
    "    BatchNormalization(),\n",
    "    Conv2D(filters=128, kernel_size=(3, 3), kernel_initializer='he_uniform', padding='same', activation='relu'),\n",
    "    BatchNormalization(),\n",
    "    MaxPool2D(pool_size=(2, 2)),\n",
    "    Dropout(0.4), # Drop 40% of the units from the layer\n",
    "    \n",
    "    Flatten(),\n",
    "    Dense(128, activation='relu', kernel_initializer='he_uniform'),\n",
    "    BatchNormalization(),\n",
    "    Dropout(0.5), # Drop 50% of the units from the layer\n",
    "    Dense(10, activation='softmax')\n",
    "])"
   ]
  },
  {
   "cell_type": "code",
   "execution_count": null,
   "metadata": {
    "executionInfo": {
     "elapsed": 153712,
     "status": "ok",
     "timestamp": 1607088276027,
     "user": {
      "displayName": "Alexey Tankov",
      "photoUrl": "",
      "userId": "01729535101672247421"
     },
     "user_tz": -180
    },
    "id": "jLgeBbzdWB5b"
   },
   "outputs": [],
   "source": [
    "model_5.compile(optimizer='adam',\n",
    "                     loss='categorical_crossentropy',\n",
    "                     metrics=['accuracy'])"
   ]
  },
  {
   "cell_type": "code",
   "execution_count": null,
   "metadata": {
    "colab": {
     "base_uri": "https://localhost:8080/"
    },
    "executionInfo": {
     "elapsed": 291906,
     "status": "ok",
     "timestamp": 1607088414406,
     "user": {
      "displayName": "Alexey Tankov",
      "photoUrl": "",
      "userId": "01729535101672247421"
     },
     "user_tz": -180
    },
    "id": "JbOvpu6hYlWP",
    "outputId": "a50e423a-ddea-4198-b395-f9bcfbb34ac0"
   },
   "outputs": [],
   "source": [
    "history_5 = model_5.fit(x_train, y_train_cat, epochs=50, validation_data=(x_test, y_test_cat))"
   ]
  },
  {
   "cell_type": "code",
   "execution_count": null,
   "metadata": {
    "executionInfo": {
     "elapsed": 300944,
     "status": "ok",
     "timestamp": 1607088423625,
     "user": {
      "displayName": "Alexey Tankov",
      "photoUrl": "",
      "userId": "01729535101672247421"
     },
     "user_tz": -180
    },
    "id": "SfMS1pw_bUwb"
   },
   "outputs": [],
   "source": [
    "score_5 = model_5.evaluate(x_train, y_train_cat, verbose=0)"
   ]
  },
  {
   "cell_type": "code",
   "execution_count": null,
   "metadata": {
    "colab": {
     "base_uri": "https://localhost:8080/"
    },
    "executionInfo": {
     "elapsed": 300772,
     "status": "ok",
     "timestamp": 1607088423627,
     "user": {
      "displayName": "Alexey Tankov",
      "photoUrl": "",
      "userId": "01729535101672247421"
     },
     "user_tz": -180
    },
    "id": "GpzceI4yb0i-",
    "outputId": "94bdd687-995e-4226-e0ff-32a7a59f4b2d"
   },
   "outputs": [],
   "source": [
    "print('Test loss:', score_5[0])\n",
    "print('Test accuracy:', score_5[1])"
   ]
  },
  {
   "cell_type": "code",
   "execution_count": null,
   "metadata": {
    "colab": {
     "base_uri": "https://localhost:8080/",
     "height": 307
    },
    "executionInfo": {
     "elapsed": 300586,
     "status": "ok",
     "timestamp": 1607088423628,
     "user": {
      "displayName": "Alexey Tankov",
      "photoUrl": "",
      "userId": "01729535101672247421"
     },
     "user_tz": -180
    },
    "id": "41rKPrTUY9mY",
    "outputId": "c58b3c07-0e81-4520-fe7e-f6cdab12f3b8"
   },
   "outputs": [],
   "source": [
    "plt.plot(history_5.history['accuracy'], label='train')\n",
    "plt.plot(history_5.history['val_accuracy'], label='val')\n",
    "plt.legend()\n",
    "plt.xlabel('epochs')\n",
    "plt.ylabel('accuracy')\n",
    "plt.title('Accuracy of epochs')\n",
    "plt.show()"
   ]
  },
  {
   "cell_type": "code",
   "execution_count": null,
   "metadata": {},
   "outputs": [],
   "source": [
    "pd.DataFrame(history_5.history).plot()"
   ]
  },
  {
   "cell_type": "code",
   "execution_count": null,
   "metadata": {},
   "outputs": [],
   "source": [
    "plot_model(history_5.history)"
   ]
  },
  {
   "cell_type": "markdown",
   "metadata": {},
   "source": [
    "### Model - 6"
   ]
  },
  {
   "cell_type": "code",
   "execution_count": null,
   "metadata": {},
   "outputs": [],
   "source": [
    "# run model\n",
    "history_6 = model_5.fit_generator(datagen.flow(x_train, y_train_cat, batch_size = 64),\n",
    "                                 validation_data = (x_test, y_test_cat),\n",
    "                                 steps_per_epoch = x_train.shape[0] // 64, \n",
    "                                 epochs = 50, verbose = 1,\n",
    "                                 callbacks = callback_list)"
   ]
  },
  {
   "cell_type": "code",
   "execution_count": null,
   "metadata": {},
   "outputs": [],
   "source": [
    "plot_model(history_6.history)"
   ]
  },
  {
   "cell_type": "markdown",
   "metadata": {},
   "source": [
    "### Results"
   ]
  },
  {
   "cell_type": "code",
   "execution_count": null,
   "metadata": {},
   "outputs": [],
   "source": [
    "results = pd.DataFrame({'model_1': score, 'model_2': score_2, 'model_3': score_3, 'model_4': score_4,\n",
    "                        'model_5': score_5}).T\n",
    "results.columns=['loss', 'accuracy']\n",
    "results"
   ]
  },
  {
   "cell_type": "code",
   "execution_count": null,
   "metadata": {
    "id": "JG65eNONdvHW"
   },
   "outputs": [],
   "source": [
    "plt.figure(figsize=(15, 10))\n",
    "plt.plot(history.history['accuracy'], label='model-1')\n",
    "plt.plot(history_2.history['accuracy'], label='model-2')\n",
    "plt.plot(history_3.history['accuracy'], label='model-3')\n",
    "plt.plot(history_4.history['accuracy'], label='model-4')\n",
    "plt.plot(history_5.history['accuracy'], label='model-5')\n",
    "plt.legend()\n",
    "plt.xlabel('epochs')\n",
    "plt.ylabel('accuracy')\n",
    "plt.title('Accuracy of epochs')\n",
    "plt.show()"
   ]
  },
  {
   "cell_type": "code",
   "execution_count": null,
   "metadata": {},
   "outputs": [],
   "source": [
    "model_5.summary()"
   ]
  },
  {
   "cell_type": "markdown",
   "metadata": {},
   "source": [
    "При построении нейронной сети для текущего набора данных не подходит метод активации нейронов 'softmax', а также функция потерь(loss) 'categorical_crossentropy' и 'KLDivergence'. Лучшие результаты показала модель с активатором нейронов 'sigmoid', типом оптимизатора 'Adam' и функцией потерь 'binary_crossentropy', также удалось удачно подобрать число слоев и число нейронов. Другие метрики к итоговым моделям не добавлялись, остались только в качестве экспериментов."
   ]
  },
  {
   "cell_type": "markdown",
   "metadata": {},
   "source": [
    "https://www.kaggle.com/kedarsai/cifar-10-88-accuracy-using-keras\n",
    "https://www.kaggle.com/kalashnimov/keras-callbacks-with-91-acc\n",
    "https://www.kaggle.com/roblexnana/cifar10-with-cnn-for-beginer"
   ]
  },
  {
   "cell_type": "code",
   "execution_count": null,
   "metadata": {},
   "outputs": [],
   "source": []
  }
 ],
 "metadata": {
  "colab": {
   "authorship_tag": "ABX9TyP3RP3q/8ZgEDVF3p/rximj",
   "collapsed_sections": [],
   "name": "hw_03.ipynb",
   "version": ""
  },
  "kernelspec": {
   "display_name": "Python 3",
   "language": "python",
   "name": "python3"
  },
  "language_info": {
   "codemirror_mode": {
    "name": "ipython",
    "version": 3
   },
   "file_extension": ".py",
   "mimetype": "text/x-python",
   "name": "python",
   "nbconvert_exporter": "python",
   "pygments_lexer": "ipython3",
   "version": "3.7.6"
  }
 },
 "nbformat": 4,
 "nbformat_minor": 1
}
