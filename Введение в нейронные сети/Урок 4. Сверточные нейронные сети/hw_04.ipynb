{
 "cells": [
  {
   "cell_type": "markdown",
   "metadata": {
    "id": "Sb86n-BbXM1N"
   },
   "source": [
    "## Практическое задание\n",
    "\n",
    "Вариант 1. (простой)\n",
    "\n",
    "- обучить сверточную нейронную сеть на датасете fashion-mnist\n",
    "- оценить рост точности при увеличении ширины сети (больше ядер)\n",
    "- оценить рост точности при увеличении глубины сети (больше слоев)\n",
    "    </li>\n",
    "\n",
    "Вариант 2. (сложный)\n",
    "- реализовать нейронную сеть в стиле AlexNet (с падением размера ядра свертки и последовательностью блоков свертка-пулинг  (conv-pool)-(conv-pool)-...) на сifar10.\n",
    "- оценить рост точности при увеличении ширины сети (больше ядер)\n",
    "- оценить рост точности при увеличении глубины сети (больше слоев)\n",
    "    </li>\n",
    "</ol>"
   ]
  },
  {
   "cell_type": "markdown",
   "metadata": {
    "id": "5OJ2rB_3ZZHS"
   },
   "source": [
    "### Подключение библиотек и скриптов"
   ]
  },
  {
   "cell_type": "code",
   "execution_count": 1,
   "metadata": {},
   "outputs": [
    {
     "data": {
      "text/html": [
       "<style>.container { width:72.5% !important; }</style>"
      ],
      "text/plain": [
       "<IPython.core.display.HTML object>"
      ]
     },
     "metadata": {},
     "output_type": "display_data"
    }
   ],
   "source": [
    "from IPython.core.display import display, HTML, Image\n",
    "display(HTML(\"<style>.container { width:72.5% !important; }</style>\"))"
   ]
  },
  {
   "cell_type": "code",
   "execution_count": 2,
   "metadata": {
    "executionInfo": {
     "elapsed": 613,
     "status": "ok",
     "timestamp": 1607088118418,
     "user": {
      "displayName": "Alexey Tankov",
      "photoUrl": "",
      "userId": "01729535101672247421"
     },
     "user_tz": -180
    },
    "id": "lJUcpE49XB6u"
   },
   "outputs": [
    {
     "name": "stderr",
     "output_type": "stream",
     "text": [
      "C:\\Users\\Admin\\anaconda3\\lib\\site-packages\\numpy\\_distributor_init.py:32: UserWarning: loaded more than 1 DLL from .libs:\n",
      "C:\\Users\\Admin\\anaconda3\\lib\\site-packages\\numpy\\.libs\\libopenblas.NOIJJG62EMASZI6NYURL6JBKM4EVBGM7.gfortran-win_amd64.dll\n",
      "C:\\Users\\Admin\\anaconda3\\lib\\site-packages\\numpy\\.libs\\libopenblas.PYQHXLVVQ7VESDPUVUADXEVJOBGHJPAY.gfortran-win_amd64.dll\n",
      "  stacklevel=1)\n"
     ]
    }
   ],
   "source": [
    "import tensorflow as tf\n",
    "from tensorflow.keras.models import Sequential\n",
    "from tensorflow.keras.layers import Conv2D, MaxPool2D, Dense, Flatten, Dropout, AveragePooling2D, Activation, MaxPooling2D, BatchNormalization, Concatenate\n",
    "from tensorflow.keras.utils import to_categorical\n",
    "from tensorflow.keras.callbacks import EarlyStopping, TensorBoard\n",
    "from tensorflow.keras import regularizers, optimizers\n",
    "from keras.preprocessing.image import ImageDataGenerator\n",
    "\n",
    "import numpy as np\n",
    "import pandas as pd\n",
    "import seaborn as sns\n",
    "import matplotlib.pyplot as plt\n",
    "%matplotlib inline"
   ]
  },
  {
   "cell_type": "code",
   "execution_count": 3,
   "metadata": {
    "executionInfo": {
     "elapsed": 612,
     "status": "ok",
     "timestamp": 1607088118669,
     "user": {
      "displayName": "Alexey Tankov",
      "photoUrl": "",
      "userId": "01729535101672247421"
     },
     "user_tz": -180
    },
    "id": "rgkw7y-qZhNB"
   },
   "outputs": [],
   "source": [
    "plt.rcParams.update({'font.size': 14})\n",
    "pd.set_option('precision', 3)\n",
    "pd.set_option('max_columns', 100)\n",
    "pd.set_option('display.float_format', lambda x: '%.5f' % x)\n",
    "pd.set_option('display.max_columns', 500)\n",
    "pd.set_option('display.max_rows', 500)\n",
    "pd.set_option('max_colwidth', 300)"
   ]
  },
  {
   "cell_type": "markdown",
   "metadata": {},
   "source": [
    "### AlexNet — свёрточная нейронная сеть для классификации изображений"
   ]
  },
  {
   "cell_type": "markdown",
   "metadata": {},
   "source": [
    "![image](img/AlexNet-1-1.png)\n",
    "AlexNet — сверточная нейронная сеть, которая оказала большое влияние на развитие машинного обучения, в особенности — на алгоритмы компьютерного зрения. "
   ]
  },
  {
   "cell_type": "markdown",
   "metadata": {},
   "source": [
    "**Особенности AlexNet**\n",
    "1. Как функция активации используется Relu вместо арктангенса для добавления в модель нелинейности. За счет этого при одинаковой точности метода скорость становится в 6 раз быстрее.\n",
    "2. Использование дропаута вместо регуляризации решает проблему переобучения. Однако время обучения удваивается с показателем дропаута 0,5.\n",
    "3. Производится перекрытие объединений для уменьшения размера сети. За счет этого уровень ошибок первого и пятого уровней снижаются до 0,4% и 0,3%, соответственно."
   ]
  },
  {
   "cell_type": "markdown",
   "metadata": {},
   "source": [
    "**Архитектура**\n",
    "![image](img/Capture-12-1.jpg)\n",
    "AlexNet содержит восемь слоев с весовыми коэффициентами. Первые пять из них сверточные, а остальные три — полносвязные. Выходные данные пропускаются через функцию потерь softmax, которая формирует распределение 1000 меток классов. Сеть максимизирует многолинейную логистическую регрессию, что эквивалентно максимизации среднего по всем обучающим случаям логарифма вероятности правильной маркировки по распределению ожидания. Ядра второго, четвертого и пятого сверточных слоев связаны только с теми картами ядра в предыдущем слое, которые находятся на одном и том же графическом процессоре. Ядра третьего сверточного слоя связаны со всеми картами ядер второго слоя. Нейроны в полносвязных слоях связаны со всеми нейронами предыдущего слоя.\n",
    "\n",
    "Таким образом, AlexNet содержит 5 сверточных слоев и 3 полносвязных слоя. Relu применяется после каждого сверточного и полносвязного слоя. Дропаут применяется перед первым и вторым полносвязными слоями. Сеть содержит 62,3 миллиона параметров и затрачивает 1,1 миллиарда вычислений при прямом проходе.  Сверточные слои, на которые приходится 6% всех параметров, производят 95% вычислений."
   ]
  },
  {
   "cell_type": "markdown",
   "metadata": {
    "id": "_kqapiAAZebg"
   },
   "source": [
    "### Загрузка данных"
   ]
  },
  {
   "cell_type": "code",
   "execution_count": 4,
   "metadata": {
    "executionInfo": {
     "elapsed": 6832,
     "status": "ok",
     "timestamp": 1607088125383,
     "user": {
      "displayName": "Alexey Tankov",
      "photoUrl": "",
      "userId": "01729535101672247421"
     },
     "user_tz": -180
    },
    "id": "uPKTtjpxX2lF"
   },
   "outputs": [],
   "source": [
    "from tensorflow.keras.datasets import cifar10\n",
    "\n",
    "(x_train, y_train), (x_test, y_test) = cifar10.load_data()"
   ]
  },
  {
   "cell_type": "markdown",
   "metadata": {
    "id": "qKlir071gOo8"
   },
   "source": [
    "### Изучение датасета"
   ]
  },
  {
   "cell_type": "code",
   "execution_count": 5,
   "metadata": {
    "colab": {
     "base_uri": "https://localhost:8080/"
    },
    "executionInfo": {
     "elapsed": 6498,
     "status": "ok",
     "timestamp": 1607088125385,
     "user": {
      "displayName": "Alexey Tankov",
      "photoUrl": "",
      "userId": "01729535101672247421"
     },
     "user_tz": -180
    },
    "id": "HTDALf5hgPjD",
    "outputId": "93194d32-bef5-4795-f32b-b03f529bc6fc"
   },
   "outputs": [
    {
     "data": {
      "text/plain": [
       "(50000, 32, 32, 3)"
      ]
     },
     "execution_count": 5,
     "metadata": {},
     "output_type": "execute_result"
    }
   ],
   "source": [
    "x_train.shape"
   ]
  },
  {
   "cell_type": "code",
   "execution_count": 6,
   "metadata": {
    "colab": {
     "base_uri": "https://localhost:8080/"
    },
    "executionInfo": {
     "elapsed": 6338,
     "status": "ok",
     "timestamp": 1607088125386,
     "user": {
      "displayName": "Alexey Tankov",
      "photoUrl": "",
      "userId": "01729535101672247421"
     },
     "user_tz": -180
    },
    "id": "S2KCYcgpgWli",
    "outputId": "0b58edd5-c870-49dc-8490-074a52994485"
   },
   "outputs": [
    {
     "data": {
      "text/plain": [
       "array([[6],\n",
       "       [9],\n",
       "       [9],\n",
       "       ...,\n",
       "       [9],\n",
       "       [1],\n",
       "       [1]], dtype=uint8)"
      ]
     },
     "execution_count": 6,
     "metadata": {},
     "output_type": "execute_result"
    }
   ],
   "source": [
    "y_train"
   ]
  },
  {
   "cell_type": "code",
   "execution_count": 7,
   "metadata": {},
   "outputs": [
    {
     "data": {
      "text/plain": [
       "(50000, 1)"
      ]
     },
     "execution_count": 7,
     "metadata": {},
     "output_type": "execute_result"
    }
   ],
   "source": [
    "y_train.shape"
   ]
  },
  {
   "cell_type": "code",
   "execution_count": 8,
   "metadata": {
    "colab": {
     "base_uri": "https://localhost:8080/"
    },
    "executionInfo": {
     "elapsed": 6189,
     "status": "ok",
     "timestamp": 1607088125387,
     "user": {
      "displayName": "Alexey Tankov",
      "photoUrl": "",
      "userId": "01729535101672247421"
     },
     "user_tz": -180
    },
    "id": "Me1daDqnmx8P",
    "outputId": "8fb0449d-c7a6-411a-cdf0-6d8ed5cf9fe0"
   },
   "outputs": [
    {
     "data": {
      "text/plain": [
       "(10000, 32, 32, 3)"
      ]
     },
     "execution_count": 8,
     "metadata": {},
     "output_type": "execute_result"
    }
   ],
   "source": [
    "x_test.shape"
   ]
  },
  {
   "cell_type": "code",
   "execution_count": 9,
   "metadata": {
    "colab": {
     "base_uri": "https://localhost:8080/"
    },
    "executionInfo": {
     "elapsed": 6030,
     "status": "ok",
     "timestamp": 1607088125387,
     "user": {
      "displayName": "Alexey Tankov",
      "photoUrl": "",
      "userId": "01729535101672247421"
     },
     "user_tz": -180
    },
    "id": "8z70QObtm58m",
    "outputId": "a5e8f361-4d2e-49ed-dfe6-66ca1957f4c8"
   },
   "outputs": [
    {
     "data": {
      "text/plain": [
       "array([[3],\n",
       "       [8],\n",
       "       [8],\n",
       "       ...,\n",
       "       [5],\n",
       "       [1],\n",
       "       [7]], dtype=uint8)"
      ]
     },
     "execution_count": 9,
     "metadata": {},
     "output_type": "execute_result"
    }
   ],
   "source": [
    "y_test"
   ]
  },
  {
   "cell_type": "code",
   "execution_count": 10,
   "metadata": {
    "executionInfo": {
     "elapsed": 5872,
     "status": "ok",
     "timestamp": 1607088125388,
     "user": {
      "displayName": "Alexey Tankov",
      "photoUrl": "",
      "userId": "01729535101672247421"
     },
     "user_tz": -180
    },
    "id": "5BrhB7dABW0p"
   },
   "outputs": [
    {
     "data": {
      "text/plain": [
       "(10000, 1)"
      ]
     },
     "execution_count": 10,
     "metadata": {},
     "output_type": "execute_result"
    }
   ],
   "source": [
    "y_test.shape"
   ]
  },
  {
   "cell_type": "markdown",
   "metadata": {
    "id": "ZNJrp85BpXYG"
   },
   "source": [
    "### Построение модели"
   ]
  },
  {
   "cell_type": "code",
   "execution_count": 11,
   "metadata": {
    "executionInfo": {
     "elapsed": 7969,
     "status": "ok",
     "timestamp": 1607088128077,
     "user": {
      "displayName": "Alexey Tankov",
      "photoUrl": "",
      "userId": "01729535101672247421"
     },
     "user_tz": -180
    },
    "id": "BfOFbKjTVAL_"
   },
   "outputs": [],
   "source": [
    "# Normalizing\n",
    "x_train = x_train / 255\n",
    "x_test = x_test / 255\n",
    "\n",
    "# One hot encoding\n",
    "y_train_cat = to_categorical(y_train, 10)\n",
    "y_test_cat = to_categorical(y_test, 10)"
   ]
  },
  {
   "cell_type": "markdown",
   "metadata": {
    "colab": {
     "base_uri": "https://localhost:8080/"
    },
    "executionInfo": {
     "elapsed": 7764,
     "status": "ok",
     "timestamp": 1607088128078,
     "user": {
      "displayName": "Alexey Tankov",
      "photoUrl": "",
      "userId": "01729535101672247421"
     },
     "user_tz": -180
    },
    "id": "rK-Pn10qVGXw",
    "outputId": "68bb243f-0769-4ca7-9494-b61f5ab089fd"
   },
   "source": [
    "![image](img/models.png)"
   ]
  },
  {
   "cell_type": "code",
   "execution_count": 12,
   "metadata": {},
   "outputs": [],
   "source": [
    "def plot_model(history): \n",
    "    fig, axs = plt.subplots(1, 2, figsize=(16, 5)) \n",
    "    # summarize history for accuracy\n",
    "    axs[0].plot(history.history['accuracy'], 'c') \n",
    "    axs[0].plot(history.history['val_accuracy'],'m') \n",
    "    axs[0].set_title('Accuracy of epochs')\n",
    "    axs[0].set_ylabel('Accuracy') \n",
    "    axs[0].set_xlabel('Epochs')\n",
    "    axs[0].legend(['train', 'validate'], loc='upper left')\n",
    "    # summarize history for loss\n",
    "    axs[1].plot(history.history['loss'], 'c') \n",
    "    axs[1].plot(history.history['val_loss'], 'm') \n",
    "    axs[1].set_title('Model Loss')\n",
    "    axs[1].set_ylabel('Loss') \n",
    "    axs[1].set_xlabel('Epochs')\n",
    "    axs[1].legend(['train', 'validate'], loc='upper left')\n",
    "    plt.show()"
   ]
  },
  {
   "cell_type": "markdown",
   "metadata": {
    "id": "fzfu4h3xXon8"
   },
   "source": [
    "### Model - 1"
   ]
  },
  {
   "cell_type": "code",
   "execution_count": 13,
   "metadata": {
    "executionInfo": {
     "elapsed": 7251,
     "status": "ok",
     "timestamp": 1607088128080,
     "user": {
      "displayName": "Alexey Tankov",
      "photoUrl": "",
      "userId": "01729535101672247421"
     },
     "user_tz": -180
    },
    "id": "MX3kn5LPVNj5"
   },
   "outputs": [],
   "source": [
    "model = Sequential([\n",
    "    Conv2D(filters=32, kernel_size=(4, 4), input_shape=(32, 32, 3), activation='relu'),\n",
    "    MaxPool2D(pool_size=(2, 2)),\n",
    "    Conv2D(filters=32, kernel_size=(4, 4), input_shape=(32, 32, 3), activation='relu'),\n",
    "    MaxPool2D(pool_size=(2, 2)),\n",
    "    Flatten(),\n",
    "    Dense(256, activation='relu'),\n",
    "    Dense(10, activation='softmax')\n",
    "])"
   ]
  },
  {
   "cell_type": "code",
   "execution_count": 14,
   "metadata": {
    "executionInfo": {
     "elapsed": 7058,
     "status": "ok",
     "timestamp": 1607088128081,
     "user": {
      "displayName": "Alexey Tankov",
      "photoUrl": "",
      "userId": "01729535101672247421"
     },
     "user_tz": -180
    },
    "id": "cVDNh23JVhbE"
   },
   "outputs": [],
   "source": [
    "model.compile(optimizer='adam',\n",
    "                     loss='categorical_crossentropy',\n",
    "                     metrics=['accuracy'])"
   ]
  },
  {
   "cell_type": "code",
   "execution_count": 15,
   "metadata": {
    "colab": {
     "base_uri": "https://localhost:8080/"
    },
    "executionInfo": {
     "elapsed": 145867,
     "status": "ok",
     "timestamp": 1607088267087,
     "user": {
      "displayName": "Alexey Tankov",
      "photoUrl": "",
      "userId": "01729535101672247421"
     },
     "user_tz": -180
    },
    "id": "SYHfjCa2VzSr",
    "outputId": "dfa0298f-9d45-49f0-e42f-1eb6b8417ed7"
   },
   "outputs": [
    {
     "name": "stdout",
     "output_type": "stream",
     "text": [
      "Epoch 1/20\n",
      "1563/1563 [==============================] - 17s 11ms/step - loss: 1.4826 - accuracy: 0.4655 - val_loss: 1.2864 - val_accuracy: 0.5297\n",
      "Epoch 2/20\n",
      "1563/1563 [==============================] - 16s 10ms/step - loss: 1.1524 - accuracy: 0.5941 - val_loss: 1.0858 - val_accuracy: 0.6146\n",
      "Epoch 3/20\n",
      "1563/1563 [==============================] - 16s 10ms/step - loss: 0.9996 - accuracy: 0.6498 - val_loss: 1.0423 - val_accuracy: 0.6317\n",
      "Epoch 4/20\n",
      "1563/1563 [==============================] - 16s 10ms/step - loss: 0.8910 - accuracy: 0.6889 - val_loss: 0.9573 - val_accuracy: 0.6711\n",
      "Epoch 5/20\n",
      "1563/1563 [==============================] - 16s 10ms/step - loss: 0.8033 - accuracy: 0.7191 - val_loss: 0.9189 - val_accuracy: 0.6884\n",
      "Epoch 6/20\n",
      "1563/1563 [==============================] - 16s 11ms/step - loss: 0.7205 - accuracy: 0.7475 - val_loss: 0.9298 - val_accuracy: 0.6846\n",
      "Epoch 7/20\n",
      "1563/1563 [==============================] - 16s 11ms/step - loss: 0.6556 - accuracy: 0.7706 - val_loss: 0.8994 - val_accuracy: 0.6977\n",
      "Epoch 8/20\n",
      "1563/1563 [==============================] - 16s 11ms/step - loss: 0.5911 - accuracy: 0.7919 - val_loss: 0.9315 - val_accuracy: 0.7014\n",
      "Epoch 9/20\n",
      "1563/1563 [==============================] - 16s 11ms/step - loss: 0.5266 - accuracy: 0.8159 - val_loss: 0.9470 - val_accuracy: 0.6999\n",
      "Epoch 10/20\n",
      "1563/1563 [==============================] - 16s 10ms/step - loss: 0.4744 - accuracy: 0.8316 - val_loss: 1.0136 - val_accuracy: 0.6981\n",
      "Epoch 11/20\n",
      "1563/1563 [==============================] - 16s 11ms/step - loss: 0.4191 - accuracy: 0.8504 - val_loss: 1.1248 - val_accuracy: 0.6834\n",
      "Epoch 12/20\n",
      "1563/1563 [==============================] - 16s 11ms/step - loss: 0.3720 - accuracy: 0.8681 - val_loss: 1.2128 - val_accuracy: 0.6707\n",
      "Epoch 13/20\n",
      "1563/1563 [==============================] - 16s 11ms/step - loss: 0.3259 - accuracy: 0.8835 - val_loss: 1.2436 - val_accuracy: 0.6836\n",
      "Epoch 14/20\n",
      "1563/1563 [==============================] - 16s 11ms/step - loss: 0.2923 - accuracy: 0.8964 - val_loss: 1.3267 - val_accuracy: 0.6760\n",
      "Epoch 15/20\n",
      "1563/1563 [==============================] - 16s 11ms/step - loss: 0.2579 - accuracy: 0.9084 - val_loss: 1.4366 - val_accuracy: 0.6812\n",
      "Epoch 16/20\n",
      "1563/1563 [==============================] - 17s 11ms/step - loss: 0.2246 - accuracy: 0.9186 - val_loss: 1.6178 - val_accuracy: 0.6630\n",
      "Epoch 17/20\n",
      "1563/1563 [==============================] - 16s 11ms/step - loss: 0.2106 - accuracy: 0.9258 - val_loss: 1.6253 - val_accuracy: 0.6734\n",
      "Epoch 18/20\n",
      "1563/1563 [==============================] - 16s 10ms/step - loss: 0.1839 - accuracy: 0.9345 - val_loss: 1.8205 - val_accuracy: 0.6650\n",
      "Epoch 19/20\n",
      "1563/1563 [==============================] - 16s 11ms/step - loss: 0.1753 - accuracy: 0.9382 - val_loss: 1.7951 - val_accuracy: 0.6760\n",
      "Epoch 20/20\n",
      "1563/1563 [==============================] - 17s 11ms/step - loss: 0.1591 - accuracy: 0.9430 - val_loss: 1.9462 - val_accuracy: 0.6720\n",
      "Wall time: 5min 29s\n"
     ]
    }
   ],
   "source": [
    "%%time\n",
    "history = model.fit(x_train, y_train_cat, epochs=20, validation_data=(x_test, y_test_cat))"
   ]
  },
  {
   "cell_type": "code",
   "execution_count": 16,
   "metadata": {
    "executionInfo": {
     "elapsed": 154385,
     "status": "ok",
     "timestamp": 1607088275797,
     "user": {
      "displayName": "Alexey Tankov",
      "photoUrl": "",
      "userId": "01729535101672247421"
     },
     "user_tz": -180
    },
    "id": "Tv-_i445bZwK"
   },
   "outputs": [],
   "source": [
    "score_train = model.evaluate(x_train, y_train_cat, verbose=0)\n",
    "score_test = model.evaluate(x_test, y_test_cat, verbose=0)"
   ]
  },
  {
   "cell_type": "code",
   "execution_count": 17,
   "metadata": {
    "colab": {
     "base_uri": "https://localhost:8080/"
    },
    "executionInfo": {
     "elapsed": 154208,
     "status": "ok",
     "timestamp": 1607088275798,
     "user": {
      "displayName": "Alexey Tankov",
      "photoUrl": "",
      "userId": "01729535101672247421"
     },
     "user_tz": -180
    },
    "id": "uiG4iN54bfRP",
    "outputId": "e060ee57-3413-4f27-b1bf-de7a05f0f512"
   },
   "outputs": [
    {
     "name": "stdout",
     "output_type": "stream",
     "text": [
      "Train loss: 0.11488586664199829\n",
      "Train accuracy: 0.9600399732589722\n",
      "Test loss: 1.9462370872497559\n",
      "Test accuracy: 0.671999990940094\n"
     ]
    }
   ],
   "source": [
    "print('Train loss:', score_train[0])\n",
    "print('Train accuracy:', score_train[1])\n",
    "print('Test loss:', score_test[0])\n",
    "print('Test accuracy:', score_test[1])"
   ]
  },
  {
   "cell_type": "code",
   "execution_count": 18,
   "metadata": {},
   "outputs": [
    {
     "data": {
      "image/png": "[encoded data removed]",
      "text/plain": [
       "<Figure size 1152x360 with 2 Axes>"
      ]
     },
     "metadata": {
      "needs_background": "light"
     },
     "output_type": "display_data"
    }
   ],
   "source": [
    "plot_model(history)"
   ]
  },
  {
   "cell_type": "markdown",
   "metadata": {
    "id": "l2v0g09JXtvy"
   },
   "source": [
    "### Model - 2"
   ]
  },
  {
   "cell_type": "code",
   "execution_count": 19,
   "metadata": {
    "executionInfo": {
     "elapsed": 153887,
     "status": "ok",
     "timestamp": 1607088276025,
     "user": {
      "displayName": "Alexey Tankov",
      "photoUrl": "",
      "userId": "01729535101672247421"
     },
     "user_tz": -180
    },
    "id": "fZlGI_J5YI8C"
   },
   "outputs": [],
   "source": [
    "# Add Drop out\n",
    "model_2 = Sequential([\n",
    "    Conv2D(filters=32, kernel_size=(4, 4), input_shape=(32, 32, 3), activation='relu'),\n",
    "    MaxPool2D(pool_size=(2, 2)),\n",
    "    Dropout(0.25), # Drop 25% of the units from the layer\n",
    "    Conv2D(filters=32, kernel_size=(4, 4), input_shape=(32, 32, 3), activation='relu'),\n",
    "    MaxPool2D(pool_size=(2, 2)),\n",
    "    Dropout(0.25),\n",
    "    Flatten(),\n",
    "    Dense(256, activation='relu'),\n",
    "    Dense(10, activation='softmax')\n",
    "])"
   ]
  },
  {
   "cell_type": "code",
   "execution_count": 20,
   "metadata": {
    "executionInfo": {
     "elapsed": 153712,
     "status": "ok",
     "timestamp": 1607088276027,
     "user": {
      "displayName": "Alexey Tankov",
      "photoUrl": "",
      "userId": "01729535101672247421"
     },
     "user_tz": -180
    },
    "id": "jLgeBbzdWB5b"
   },
   "outputs": [],
   "source": [
    "model_2.compile(optimizer='adam',\n",
    "                     loss='categorical_crossentropy',\n",
    "                     metrics=['accuracy'])"
   ]
  },
  {
   "cell_type": "code",
   "execution_count": 21,
   "metadata": {
    "colab": {
     "base_uri": "https://localhost:8080/"
    },
    "executionInfo": {
     "elapsed": 291906,
     "status": "ok",
     "timestamp": 1607088414406,
     "user": {
      "displayName": "Alexey Tankov",
      "photoUrl": "",
      "userId": "01729535101672247421"
     },
     "user_tz": -180
    },
    "id": "JbOvpu6hYlWP",
    "outputId": "a50e423a-ddea-4198-b395-f9bcfbb34ac0"
   },
   "outputs": [
    {
     "name": "stdout",
     "output_type": "stream",
     "text": [
      "Epoch 1/20\n",
      "1563/1563 [==============================] - 18s 12ms/step - loss: 1.5704 - accuracy: 0.4278 - val_loss: 1.3789 - val_accuracy: 0.5106\n",
      "Epoch 2/20\n",
      "1563/1563 [==============================] - 18s 11ms/step - loss: 1.2886 - accuracy: 0.5430 - val_loss: 1.2303 - val_accuracy: 0.5642\n",
      "Epoch 3/20\n",
      "1563/1563 [==============================] - 18s 11ms/step - loss: 1.1696 - accuracy: 0.5839 - val_loss: 1.0696 - val_accuracy: 0.6286\n",
      "Epoch 4/20\n",
      "1563/1563 [==============================] - 18s 11ms/step - loss: 1.0811 - accuracy: 0.6182 - val_loss: 1.0088 - val_accuracy: 0.6464\n",
      "Epoch 5/20\n",
      "1563/1563 [==============================] - 18s 11ms/step - loss: 1.0104 - accuracy: 0.6447 - val_loss: 1.0000 - val_accuracy: 0.6476\n",
      "Epoch 6/20\n",
      "1563/1563 [==============================] - 18s 11ms/step - loss: 0.9538 - accuracy: 0.6641 - val_loss: 0.9247 - val_accuracy: 0.6755\n",
      "Epoch 7/20\n",
      "1563/1563 [==============================] - 18s 11ms/step - loss: 0.9070 - accuracy: 0.6818 - val_loss: 0.9158 - val_accuracy: 0.6811\n",
      "Epoch 8/20\n",
      "1563/1563 [==============================] - 18s 11ms/step - loss: 0.8659 - accuracy: 0.6958 - val_loss: 0.9162 - val_accuracy: 0.6857\n",
      "Epoch 9/20\n",
      "1563/1563 [==============================] - 18s 11ms/step - loss: 0.8359 - accuracy: 0.7050 - val_loss: 0.9097 - val_accuracy: 0.6866\n",
      "Epoch 10/20\n",
      "1563/1563 [==============================] - 18s 11ms/step - loss: 0.8071 - accuracy: 0.7172 - val_loss: 0.8762 - val_accuracy: 0.6954\n",
      "Epoch 11/20\n",
      "1563/1563 [==============================] - 18s 11ms/step - loss: 0.7783 - accuracy: 0.7274 - val_loss: 0.9106 - val_accuracy: 0.6884\n",
      "Epoch 12/20\n",
      "1563/1563 [==============================] - 18s 11ms/step - loss: 0.7542 - accuracy: 0.7356 - val_loss: 0.8916 - val_accuracy: 0.6910\n",
      "Epoch 13/20\n",
      "1563/1563 [==============================] - 18s 11ms/step - loss: 0.7247 - accuracy: 0.7455 - val_loss: 0.8891 - val_accuracy: 0.6968\n",
      "Epoch 14/20\n",
      "1563/1563 [==============================] - 18s 11ms/step - loss: 0.7139 - accuracy: 0.7477 - val_loss: 0.9153 - val_accuracy: 0.6910\n",
      "Epoch 15/20\n",
      "1563/1563 [==============================] - 18s 11ms/step - loss: 0.6994 - accuracy: 0.7538 - val_loss: 0.8621 - val_accuracy: 0.7127\n",
      "Epoch 16/20\n",
      "1563/1563 [==============================] - 18s 11ms/step - loss: 0.6772 - accuracy: 0.7596 - val_loss: 0.8730 - val_accuracy: 0.7093\n",
      "Epoch 17/20\n",
      "1563/1563 [==============================] - 18s 11ms/step - loss: 0.6636 - accuracy: 0.7650 - val_loss: 0.8849 - val_accuracy: 0.7058\n",
      "Epoch 18/20\n",
      "1563/1563 [==============================] - 18s 11ms/step - loss: 0.6548 - accuracy: 0.7709 - val_loss: 0.9005 - val_accuracy: 0.6998\n",
      "Epoch 19/20\n",
      "1563/1563 [==============================] - 18s 11ms/step - loss: 0.6392 - accuracy: 0.7721 - val_loss: 0.8808 - val_accuracy: 0.7079\n",
      "Epoch 20/20\n",
      "1563/1563 [==============================] - 18s 11ms/step - loss: 0.6247 - accuracy: 0.7777 - val_loss: 0.9148 - val_accuracy: 0.6942\n",
      "Wall time: 5min 57s\n"
     ]
    }
   ],
   "source": [
    "%%time\n",
    "history_2 = model_2.fit(x_train, y_train_cat, epochs=20, validation_data=(x_test, y_test_cat))"
   ]
  },
  {
   "cell_type": "code",
   "execution_count": 22,
   "metadata": {
    "executionInfo": {
     "elapsed": 300944,
     "status": "ok",
     "timestamp": 1607088423625,
     "user": {
      "displayName": "Alexey Tankov",
      "photoUrl": "",
      "userId": "01729535101672247421"
     },
     "user_tz": -180
    },
    "id": "SfMS1pw_bUwb"
   },
   "outputs": [],
   "source": [
    "score_train_2 = model_2.evaluate(x_train, y_train_cat, verbose=0)\n",
    "score_test_2 = model_2.evaluate(x_test, y_test_cat, verbose=0)"
   ]
  },
  {
   "cell_type": "code",
   "execution_count": 23,
   "metadata": {
    "colab": {
     "base_uri": "https://localhost:8080/"
    },
    "executionInfo": {
     "elapsed": 300772,
     "status": "ok",
     "timestamp": 1607088423627,
     "user": {
      "displayName": "Alexey Tankov",
      "photoUrl": "",
      "userId": "01729535101672247421"
     },
     "user_tz": -180
    },
    "id": "GpzceI4yb0i-",
    "outputId": "94bdd687-995e-4226-e0ff-32a7a59f4b2d"
   },
   "outputs": [
    {
     "name": "stdout",
     "output_type": "stream",
     "text": [
      "Train loss: 0.412823349237442\n",
      "Train accuracy: 0.8686800003051758\n",
      "Test loss: 0.9147502779960632\n",
      "Test accuracy: 0.6941999793052673\n"
     ]
    }
   ],
   "source": [
    "print('Train loss:', score_train_2[0])\n",
    "print('Train accuracy:', score_train_2[1])\n",
    "print('Test loss:', score_test_2[0])\n",
    "print('Test accuracy:', score_test_2[1])"
   ]
  },
  {
   "cell_type": "code",
   "execution_count": 24,
   "metadata": {
    "colab": {
     "base_uri": "https://localhost:8080/",
     "height": 307
    },
    "executionInfo": {
     "elapsed": 300586,
     "status": "ok",
     "timestamp": 1607088423628,
     "user": {
      "displayName": "Alexey Tankov",
      "photoUrl": "",
      "userId": "01729535101672247421"
     },
     "user_tz": -180
    },
    "id": "41rKPrTUY9mY",
    "outputId": "c58b3c07-0e81-4520-fe7e-f6cdab12f3b8"
   },
   "outputs": [
    {
     "data": {
      "image/png": "[encoded data removed]",
      "text/plain": [
       "<Figure size 1152x360 with 2 Axes>"
      ]
     },
     "metadata": {
      "needs_background": "light"
     },
     "output_type": "display_data"
    }
   ],
   "source": [
    "plot_model(history_2)"
   ]
  },
  {
   "cell_type": "markdown",
   "metadata": {
    "id": "l2v0g09JXtvy"
   },
   "source": [
    "### Model - 3"
   ]
  },
  {
   "cell_type": "code",
   "execution_count": 25,
   "metadata": {
    "executionInfo": {
     "elapsed": 153887,
     "status": "ok",
     "timestamp": 1607088276025,
     "user": {
      "displayName": "Alexey Tankov",
      "photoUrl": "",
      "userId": "01729535101672247421"
     },
     "user_tz": -180
    },
    "id": "fZlGI_J5YI8C"
   },
   "outputs": [],
   "source": [
    "# Add More layers with more filters\n",
    "model_3 = Sequential([\n",
    "    Conv2D(filters=64, kernel_size=(3, 3), input_shape=(32, 32, 3), activation='relu'),\n",
    "    Conv2D(filters=64, kernel_size=(3, 3), activation='relu'),\n",
    "    MaxPool2D(pool_size=(2, 2)),\n",
    "    Dropout(0.4), # Drop 40% of the units from the layer\n",
    "    \n",
    "    Conv2D(filters=128, kernel_size=(3, 3), activation='relu'),\n",
    "    Conv2D(filters=128, kernel_size=(3, 3), activation='relu'),\n",
    "    MaxPool2D(pool_size=(2, 2)),\n",
    "    Dropout(0.4),\n",
    "    \n",
    "    Flatten(),\n",
    "    Dense(1024, activation='relu'),\n",
    "    Dense(1024, activation='relu'),\n",
    "    Dense(10, activation='softmax')\n",
    "])"
   ]
  },
  {
   "cell_type": "code",
   "execution_count": 26,
   "metadata": {
    "executionInfo": {
     "elapsed": 153712,
     "status": "ok",
     "timestamp": 1607088276027,
     "user": {
      "displayName": "Alexey Tankov",
      "photoUrl": "",
      "userId": "01729535101672247421"
     },
     "user_tz": -180
    },
    "id": "jLgeBbzdWB5b"
   },
   "outputs": [],
   "source": [
    "model_3.compile(optimizer='adam',\n",
    "                     loss='categorical_crossentropy',\n",
    "                     metrics=['accuracy'])"
   ]
  },
  {
   "cell_type": "code",
   "execution_count": 27,
   "metadata": {
    "colab": {
     "base_uri": "https://localhost:8080/"
    },
    "executionInfo": {
     "elapsed": 291906,
     "status": "ok",
     "timestamp": 1607088414406,
     "user": {
      "displayName": "Alexey Tankov",
      "photoUrl": "",
      "userId": "01729535101672247421"
     },
     "user_tz": -180
    },
    "id": "JbOvpu6hYlWP",
    "outputId": "a50e423a-ddea-4198-b395-f9bcfbb34ac0"
   },
   "outputs": [
    {
     "name": "stdout",
     "output_type": "stream",
     "text": [
      "Epoch 1/50\n",
      "1563/1563 [==============================] - 123s 79ms/step - loss: 1.5582 - accuracy: 0.4246 - val_loss: 1.3076 - val_accuracy: 0.5352\n",
      "Epoch 2/50\n",
      "1563/1563 [==============================] - 124s 79ms/step - loss: 1.1603 - accuracy: 0.5859 - val_loss: 0.9721 - val_accuracy: 0.6566\n",
      "Epoch 3/50\n",
      "1563/1563 [==============================] - 125s 80ms/step - loss: 0.9843 - accuracy: 0.6517 - val_loss: 0.8730 - val_accuracy: 0.6945\n",
      "Epoch 4/50\n",
      "1563/1563 [==============================] - 129s 83ms/step - loss: 0.8801 - accuracy: 0.6877 - val_loss: 0.8734 - val_accuracy: 0.6976\n",
      "Epoch 5/50\n",
      "1563/1563 [==============================] - 126s 81ms/step - loss: 0.8115 - accuracy: 0.7133 - val_loss: 0.7714 - val_accuracy: 0.7389\n",
      "Epoch 6/50\n",
      "1563/1563 [==============================] - 124s 79ms/step - loss: 0.7443 - accuracy: 0.7380 - val_loss: 0.7933 - val_accuracy: 0.7304\n",
      "Epoch 7/50\n",
      "1563/1563 [==============================] - 126s 81ms/step - loss: 0.7031 - accuracy: 0.7524 - val_loss: 0.7427 - val_accuracy: 0.7532\n",
      "Epoch 8/50\n",
      "1563/1563 [==============================] - 125s 80ms/step - loss: 0.6574 - accuracy: 0.7672 - val_loss: 0.8191 - val_accuracy: 0.7299\n",
      "Epoch 9/50\n",
      "1563/1563 [==============================] - 126s 81ms/step - loss: 0.6240 - accuracy: 0.7798 - val_loss: 0.7548 - val_accuracy: 0.7482\n",
      "Epoch 10/50\n",
      "1563/1563 [==============================] - 126s 81ms/step - loss: 0.5864 - accuracy: 0.7919 - val_loss: 0.7364 - val_accuracy: 0.7615\n",
      "Epoch 11/50\n",
      "1563/1563 [==============================] - 126s 81ms/step - loss: 0.5542 - accuracy: 0.8037 - val_loss: 0.7198 - val_accuracy: 0.7640\n",
      "Epoch 12/50\n",
      "1563/1563 [==============================] - 126s 81ms/step - loss: 0.5306 - accuracy: 0.8117 - val_loss: 0.7584 - val_accuracy: 0.7499\n",
      "Epoch 13/50\n",
      "1563/1563 [==============================] - 126s 80ms/step - loss: 0.5024 - accuracy: 0.8221 - val_loss: 0.7451 - val_accuracy: 0.7625\n",
      "Epoch 14/50\n",
      "1563/1563 [==============================] - 126s 81ms/step - loss: 0.4871 - accuracy: 0.8271 - val_loss: 0.7542 - val_accuracy: 0.7689\n",
      "Epoch 15/50\n",
      "1563/1563 [==============================] - 130s 83ms/step - loss: 0.4694 - accuracy: 0.8344 - val_loss: 0.7597 - val_accuracy: 0.7678\n",
      "Epoch 16/50\n",
      "1563/1563 [==============================] - 130s 83ms/step - loss: 0.4503 - accuracy: 0.8416 - val_loss: 0.8086 - val_accuracy: 0.7595\n",
      "Epoch 17/50\n",
      "1563/1563 [==============================] - 135s 86ms/step - loss: 0.4388 - accuracy: 0.8466 - val_loss: 0.8182 - val_accuracy: 0.7532\n",
      "Epoch 18/50\n",
      "1563/1563 [==============================] - 138s 88ms/step - loss: 0.4230 - accuracy: 0.8511 - val_loss: 0.7902 - val_accuracy: 0.7609\n",
      "Epoch 19/50\n",
      "1563/1563 [==============================] - 135s 86ms/step - loss: 0.4027 - accuracy: 0.8580 - val_loss: 0.7704 - val_accuracy: 0.7670\n",
      "Epoch 20/50\n",
      "1563/1563 [==============================] - 134s 86ms/step - loss: 0.3942 - accuracy: 0.8621 - val_loss: 0.8519 - val_accuracy: 0.7688\n",
      "Epoch 21/50\n",
      "1563/1563 [==============================] - 137s 88ms/step - loss: 0.3736 - accuracy: 0.8703 - val_loss: 0.8414 - val_accuracy: 0.7702\n",
      "Epoch 22/50\n",
      "1563/1563 [==============================] - 135s 86ms/step - loss: 0.3686 - accuracy: 0.8716 - val_loss: 0.8383 - val_accuracy: 0.7608\n",
      "Epoch 23/50\n",
      "1563/1563 [==============================] - 132s 84ms/step - loss: 0.3549 - accuracy: 0.8774 - val_loss: 0.8390 - val_accuracy: 0.7658\n",
      "Epoch 24/50\n",
      "1563/1563 [==============================] - 134s 86ms/step - loss: 0.3572 - accuracy: 0.8779 - val_loss: 0.8228 - val_accuracy: 0.7726\n",
      "Epoch 25/50\n",
      "1563/1563 [==============================] - 131s 84ms/step - loss: 0.3439 - accuracy: 0.8813 - val_loss: 0.8944 - val_accuracy: 0.7575\n",
      "Epoch 26/50\n",
      "1563/1563 [==============================] - 136s 87ms/step - loss: 0.3392 - accuracy: 0.8838 - val_loss: 0.8800 - val_accuracy: 0.7605\n",
      "Epoch 27/50\n",
      "1563/1563 [==============================] - 134s 86ms/step - loss: 0.3383 - accuracy: 0.8834 - val_loss: 0.8929 - val_accuracy: 0.7707\n",
      "Epoch 28/50\n",
      "1563/1563 [==============================] - 135s 86ms/step - loss: 0.3215 - accuracy: 0.8904 - val_loss: 0.8544 - val_accuracy: 0.7683\n",
      "Epoch 29/50\n",
      "1563/1563 [==============================] - 135s 86ms/step - loss: 0.3175 - accuracy: 0.8914 - val_loss: 0.9211 - val_accuracy: 0.7590\n",
      "Epoch 30/50\n",
      "1563/1563 [==============================] - 138s 88ms/step - loss: 0.3066 - accuracy: 0.8959 - val_loss: 0.8956 - val_accuracy: 0.7642\n",
      "Epoch 31/50\n",
      "1563/1563 [==============================] - 130s 83ms/step - loss: 0.3048 - accuracy: 0.8969 - val_loss: 0.9142 - val_accuracy: 0.7610\n",
      "Epoch 32/50\n",
      "1563/1563 [==============================] - 129s 83ms/step - loss: 0.3038 - accuracy: 0.8971 - val_loss: 0.8532 - val_accuracy: 0.7752\n",
      "Epoch 33/50\n",
      "1563/1563 [==============================] - 128s 82ms/step - loss: 0.2928 - accuracy: 0.9015 - val_loss: 0.9058 - val_accuracy: 0.7690\n",
      "Epoch 34/50\n",
      "1563/1563 [==============================] - 131s 84ms/step - loss: 0.2993 - accuracy: 0.8993 - val_loss: 0.8867 - val_accuracy: 0.7631\n",
      "Epoch 35/50\n",
      "1563/1563 [==============================] - 129s 82ms/step - loss: 0.2868 - accuracy: 0.9039 - val_loss: 0.8981 - val_accuracy: 0.7667\n",
      "Epoch 36/50\n",
      "1563/1563 [==============================] - 128s 82ms/step - loss: 0.2867 - accuracy: 0.9042 - val_loss: 0.9204 - val_accuracy: 0.7598\n",
      "Epoch 37/50\n",
      "1563/1563 [==============================] - 132s 84ms/step - loss: 0.2832 - accuracy: 0.9062 - val_loss: 0.9101 - val_accuracy: 0.7544\n",
      "Epoch 38/50\n",
      "1563/1563 [==============================] - 135s 86ms/step - loss: 0.2801 - accuracy: 0.9065 - val_loss: 0.9708 - val_accuracy: 0.7551\n",
      "Epoch 39/50\n",
      "1563/1563 [==============================] - 134s 86ms/step - loss: 0.2778 - accuracy: 0.9076 - val_loss: 0.9123 - val_accuracy: 0.7653\n",
      "Epoch 40/50\n",
      "1563/1563 [==============================] - 139s 89ms/step - loss: 0.2673 - accuracy: 0.9115 - val_loss: 0.9452 - val_accuracy: 0.7623\n",
      "Epoch 41/50\n",
      "1563/1563 [==============================] - 141s 90ms/step - loss: 0.2616 - accuracy: 0.9141 - val_loss: 0.9651 - val_accuracy: 0.7644\n",
      "Epoch 42/50\n",
      "1563/1563 [==============================] - 135s 86ms/step - loss: 0.2645 - accuracy: 0.9135 - val_loss: 1.0027 - val_accuracy: 0.7623\n",
      "Epoch 43/50\n",
      "1563/1563 [==============================] - 131s 84ms/step - loss: 0.2599 - accuracy: 0.9158 - val_loss: 0.9768 - val_accuracy: 0.7695\n",
      "Epoch 44/50\n",
      "1563/1563 [==============================] - 135s 86ms/step - loss: 0.2556 - accuracy: 0.9169 - val_loss: 0.9456 - val_accuracy: 0.7546\n",
      "Epoch 45/50\n",
      "1563/1563 [==============================] - 134s 86ms/step - loss: 0.2557 - accuracy: 0.9163 - val_loss: 0.9855 - val_accuracy: 0.7590\n",
      "Epoch 46/50\n",
      "1563/1563 [==============================] - 134s 86ms/step - loss: 0.2496 - accuracy: 0.9203 - val_loss: 0.9528 - val_accuracy: 0.7700\n",
      "Epoch 47/50\n",
      "1563/1563 [==============================] - 135s 86ms/step - loss: 0.2439 - accuracy: 0.9214 - val_loss: 1.0005 - val_accuracy: 0.7543\n",
      "Epoch 48/50\n",
      "1563/1563 [==============================] - 133s 85ms/step - loss: 0.2458 - accuracy: 0.9214 - val_loss: 0.9696 - val_accuracy: 0.7615\n",
      "Epoch 49/50\n",
      "1563/1563 [==============================] - 133s 85ms/step - loss: 0.2433 - accuracy: 0.9222 - val_loss: 0.9188 - val_accuracy: 0.7588\n",
      "Epoch 50/50\n",
      "1563/1563 [==============================] - 132s 85ms/step - loss: 0.2442 - accuracy: 0.9205 - val_loss: 0.9627 - val_accuracy: 0.7673\n",
      "Wall time: 1h 49min 26s\n"
     ]
    }
   ],
   "source": [
    "%%time\n",
    "history_3 = model_3.fit(x_train, y_train_cat, epochs=50, validation_data=(x_test, y_test_cat))"
   ]
  },
  {
   "cell_type": "code",
   "execution_count": 28,
   "metadata": {
    "executionInfo": {
     "elapsed": 300944,
     "status": "ok",
     "timestamp": 1607088423625,
     "user": {
      "displayName": "Alexey Tankov",
      "photoUrl": "",
      "userId": "01729535101672247421"
     },
     "user_tz": -180
    },
    "id": "SfMS1pw_bUwb"
   },
   "outputs": [],
   "source": [
    "score_train_3 = model_3.evaluate(x_train, y_train_cat, verbose=0)\n",
    "score_test_3 = model_3.evaluate(x_test, y_test_cat, verbose=0)"
   ]
  },
  {
   "cell_type": "code",
   "execution_count": 29,
   "metadata": {
    "colab": {
     "base_uri": "https://localhost:8080/"
    },
    "executionInfo": {
     "elapsed": 300772,
     "status": "ok",
     "timestamp": 1607088423627,
     "user": {
      "displayName": "Alexey Tankov",
      "photoUrl": "",
      "userId": "01729535101672247421"
     },
     "user_tz": -180
    },
    "id": "GpzceI4yb0i-",
    "outputId": "94bdd687-995e-4226-e0ff-32a7a59f4b2d"
   },
   "outputs": [
    {
     "name": "stdout",
     "output_type": "stream",
     "text": [
      "Train loss: 0.036806464195251465\n",
      "Train accuracy: 0.9914399981498718\n",
      "Test loss: 0.9626681804656982\n",
      "Test accuracy: 0.767300009727478\n"
     ]
    }
   ],
   "source": [
    "print('Train loss:', score_train_3[0])\n",
    "print('Train accuracy:', score_train_3[1])\n",
    "print('Test loss:', score_test_3[0])\n",
    "print('Test accuracy:', score_test_3[1])"
   ]
  },
  {
   "cell_type": "code",
   "execution_count": 30,
   "metadata": {
    "colab": {
     "base_uri": "https://localhost:8080/",
     "height": 307
    },
    "executionInfo": {
     "elapsed": 300586,
     "status": "ok",
     "timestamp": 1607088423628,
     "user": {
      "displayName": "Alexey Tankov",
      "photoUrl": "",
      "userId": "01729535101672247421"
     },
     "user_tz": -180
    },
    "id": "41rKPrTUY9mY",
    "outputId": "c58b3c07-0e81-4520-fe7e-f6cdab12f3b8"
   },
   "outputs": [
    {
     "data": {
      "image/png": "[encoded data removed]",
      "text/plain": [
       "<Figure size 1152x360 with 2 Axes>"
      ]
     },
     "metadata": {
      "needs_background": "light"
     },
     "output_type": "display_data"
    }
   ],
   "source": [
    "plot_model(history_3)"
   ]
  },
  {
   "cell_type": "markdown",
   "metadata": {
    "id": "UtibCaetXw8U"
   },
   "source": [
    "### Model - 4"
   ]
  },
  {
   "cell_type": "code",
   "execution_count": 13,
   "metadata": {
    "executionInfo": {
     "elapsed": 300818,
     "status": "ok",
     "timestamp": 1607088424232,
     "user": {
      "displayName": "Alexey Tankov",
      "photoUrl": "",
      "userId": "01729535101672247421"
     },
     "user_tz": -180
    },
    "id": "M5jDZTroZQEK"
   },
   "outputs": [],
   "source": [
    "# Increased layers and Filters along with Increased dropout\n",
    "model_4 = Sequential([\n",
    "    Conv2D(filters=32, kernel_size=(3, 3), input_shape=(32, 32, 3), kernel_initializer='he_uniform', padding='same', activation='relu'),\n",
    "    Conv2D(filters=32, kernel_size=(3, 3), kernel_initializer='he_uniform', padding='same', activation='relu'),\n",
    "    MaxPool2D(pool_size=(2, 2)),\n",
    "    Dropout(0.2), # Drop 20% of the units from the layer\n",
    "    \n",
    "    Conv2D(filters=64, kernel_size=(3, 3), kernel_initializer='he_uniform', padding='same', activation='relu'),\n",
    "    Conv2D(filters=64, kernel_size=(3, 3), kernel_initializer='he_uniform', padding='same', activation='relu'),\n",
    "    MaxPool2D(pool_size=(2, 2)),\n",
    "    Dropout(0.3), # Drop 30% of the units from the layer\n",
    "    \n",
    "    Conv2D(filters=128, kernel_size=(3, 3), kernel_initializer='he_uniform', padding='same', activation='relu'),\n",
    "    Conv2D(filters=128, kernel_size=(3, 3), kernel_initializer='he_uniform', padding='same', activation='relu'),\n",
    "    MaxPool2D(pool_size=(2, 2)),\n",
    "    Dropout(0.4), # Drop 40% of the units from the layer\n",
    "    \n",
    "    Flatten(),\n",
    "    Dense(128, activation='relu', kernel_initializer='he_uniform'),\n",
    "    Dropout(0.5), # Drop 50% of the units from the layer\n",
    "    Dense(10, activation='softmax')\n",
    "])"
   ]
  },
  {
   "cell_type": "code",
   "execution_count": 14,
   "metadata": {
    "executionInfo": {
     "elapsed": 300629,
     "status": "ok",
     "timestamp": 1607088424233,
     "user": {
      "displayName": "Alexey Tankov",
      "photoUrl": "",
      "userId": "01729535101672247421"
     },
     "user_tz": -180
    },
    "id": "CzhdthGHVmmM"
   },
   "outputs": [],
   "source": [
    "model_4.compile(optimizer='adam',\n",
    "                     loss='categorical_crossentropy',\n",
    "                     metrics=['accuracy'])"
   ]
  },
  {
   "cell_type": "code",
   "execution_count": 15,
   "metadata": {
    "colab": {
     "background_save": true,
     "base_uri": "https://localhost:8080/"
    },
    "id": "D5H6fleZZ3R_"
   },
   "outputs": [
    {
     "name": "stdout",
     "output_type": "stream",
     "text": [
      "Epoch 1/50\n",
      "1563/1563 [==============================] - 301s 193ms/step - loss: 1.7437 - accuracy: 0.3503 - val_loss: 1.2784 - val_accuracy: 0.5388\n",
      "Epoch 2/50\n",
      "1563/1563 [==============================] - 287s 184ms/step - loss: 1.2982 - accuracy: 0.5356 - val_loss: 1.0367 - val_accuracy: 0.6313\n",
      "Epoch 3/50\n",
      "1563/1563 [==============================] - 272s 174ms/step - loss: 1.1072 - accuracy: 0.6090 - val_loss: 0.9213 - val_accuracy: 0.6745\n",
      "Epoch 4/50\n",
      "1563/1563 [==============================] - 284s 182ms/step - loss: 1.0056 - accuracy: 0.6495 - val_loss: 0.8321 - val_accuracy: 0.7094\n",
      "Epoch 5/50\n",
      "1563/1563 [==============================] - 307s 197ms/step - loss: 0.9383 - accuracy: 0.6780 - val_loss: 0.7843 - val_accuracy: 0.7262\n",
      "Epoch 6/50\n",
      "1563/1563 [==============================] - 286s 183ms/step - loss: 0.8849 - accuracy: 0.6927 - val_loss: 0.8099 - val_accuracy: 0.7218\n",
      "Epoch 7/50\n",
      "1563/1563 [==============================] - 314s 201ms/step - loss: 0.8557 - accuracy: 0.7062 - val_loss: 0.7622 - val_accuracy: 0.7378\n",
      "Epoch 8/50\n",
      "1563/1563 [==============================] - 316s 202ms/step - loss: 0.8224 - accuracy: 0.7176 - val_loss: 0.7131 - val_accuracy: 0.7512\n",
      "Epoch 9/50\n",
      "1563/1563 [==============================] - 309s 197ms/step - loss: 0.8033 - accuracy: 0.7238 - val_loss: 0.7408 - val_accuracy: 0.7478\n",
      "Epoch 10/50\n",
      "1563/1563 [==============================] - 314s 201ms/step - loss: 0.7810 - accuracy: 0.7340 - val_loss: 0.7009 - val_accuracy: 0.7596\n",
      "Epoch 11/50\n",
      "1563/1563 [==============================] - 329s 210ms/step - loss: 0.7617 - accuracy: 0.7397 - val_loss: 0.6845 - val_accuracy: 0.7716\n",
      "Epoch 12/50\n",
      "1563/1563 [==============================] - 280s 179ms/step - loss: 0.7490 - accuracy: 0.7439 - val_loss: 0.6599 - val_accuracy: 0.7766\n",
      "Epoch 13/50\n",
      "1563/1563 [==============================] - 295s 189ms/step - loss: 0.7300 - accuracy: 0.7505 - val_loss: 0.6609 - val_accuracy: 0.7752\n",
      "Epoch 14/50\n",
      "1563/1563 [==============================] - 280s 179ms/step - loss: 0.7219 - accuracy: 0.7522 - val_loss: 0.6592 - val_accuracy: 0.7717\n",
      "Epoch 15/50\n",
      "1563/1563 [==============================] - 271s 174ms/step - loss: 0.7101 - accuracy: 0.7566 - val_loss: 0.6836 - val_accuracy: 0.7658\n",
      "Epoch 16/50\n",
      "1563/1563 [==============================] - 267s 171ms/step - loss: 0.7007 - accuracy: 0.7602 - val_loss: 0.6513 - val_accuracy: 0.7848\n",
      "Epoch 17/50\n",
      "1563/1563 [==============================] - 269s 172ms/step - loss: 0.6930 - accuracy: 0.7632 - val_loss: 0.6406 - val_accuracy: 0.7793\n",
      "Epoch 18/50\n",
      "1563/1563 [==============================] - 268s 171ms/step - loss: 0.6873 - accuracy: 0.7653 - val_loss: 0.6298 - val_accuracy: 0.7868\n",
      "Epoch 19/50\n",
      "1563/1563 [==============================] - 250s 160ms/step - loss: 0.6791 - accuracy: 0.7693 - val_loss: 0.6497 - val_accuracy: 0.7846\n",
      "Epoch 20/50\n",
      "1563/1563 [==============================] - 244s 156ms/step - loss: 0.6824 - accuracy: 0.7708 - val_loss: 0.6442 - val_accuracy: 0.7853\n",
      "Epoch 21/50\n",
      "1563/1563 [==============================] - 246s 158ms/step - loss: 0.6712 - accuracy: 0.7706 - val_loss: 0.6808 - val_accuracy: 0.7811\n",
      "Epoch 22/50\n",
      "1563/1563 [==============================] - 271s 173ms/step - loss: 0.6613 - accuracy: 0.7769 - val_loss: 0.6136 - val_accuracy: 0.7964\n",
      "Epoch 23/50\n",
      "1563/1563 [==============================] - 274s 175ms/step - loss: 0.6580 - accuracy: 0.7756 - val_loss: 0.6245 - val_accuracy: 0.7937\n",
      "Epoch 24/50\n",
      "1563/1563 [==============================] - 269s 172ms/step - loss: 0.6549 - accuracy: 0.7782 - val_loss: 0.6244 - val_accuracy: 0.7943\n",
      "Epoch 25/50\n",
      "1563/1563 [==============================] - 256s 164ms/step - loss: 0.6474 - accuracy: 0.7819 - val_loss: 0.6650 - val_accuracy: 0.7858\n",
      "Epoch 26/50\n",
      "1563/1563 [==============================] - 257s 165ms/step - loss: 0.6514 - accuracy: 0.7801 - val_loss: 0.6047 - val_accuracy: 0.8023\n",
      "Epoch 27/50\n",
      "1563/1563 [==============================] - 267s 171ms/step - loss: 0.6456 - accuracy: 0.7802 - val_loss: 0.6641 - val_accuracy: 0.7849\n",
      "Epoch 28/50\n",
      "1563/1563 [==============================] - 309s 197ms/step - loss: 0.6490 - accuracy: 0.7822 - val_loss: 0.6144 - val_accuracy: 0.8024\n",
      "Epoch 29/50\n",
      "1563/1563 [==============================] - 280s 179ms/step - loss: 0.6360 - accuracy: 0.7830 - val_loss: 0.6173 - val_accuracy: 0.8004\n",
      "Epoch 30/50\n",
      "1563/1563 [==============================] - 281s 180ms/step - loss: 0.6404 - accuracy: 0.7835 - val_loss: 0.6368 - val_accuracy: 0.7964\n",
      "Epoch 31/50\n",
      "1563/1563 [==============================] - 319s 204ms/step - loss: 0.6422 - accuracy: 0.7819 - val_loss: 0.6218 - val_accuracy: 0.8004\n",
      "Epoch 32/50\n",
      "1563/1563 [==============================] - 288s 184ms/step - loss: 0.6355 - accuracy: 0.7847 - val_loss: 0.6336 - val_accuracy: 0.7947\n",
      "Epoch 33/50\n",
      "1563/1563 [==============================] - 281s 180ms/step - loss: 0.6372 - accuracy: 0.7858 - val_loss: 0.6289 - val_accuracy: 0.8030\n",
      "Epoch 34/50\n",
      "1563/1563 [==============================] - 261s 167ms/step - loss: 0.6329 - accuracy: 0.7871 - val_loss: 0.6457 - val_accuracy: 0.7923\n",
      "Epoch 35/50\n",
      "1563/1563 [==============================] - 272s 174ms/step - loss: 0.6325 - accuracy: 0.7883 - val_loss: 0.6400 - val_accuracy: 0.7897\n",
      "Epoch 36/50\n",
      "1563/1563 [==============================] - 269s 172ms/step - loss: 0.6208 - accuracy: 0.7910 - val_loss: 0.7280 - val_accuracy: 0.7778\n",
      "Epoch 37/50\n",
      "1563/1563 [==============================] - 273s 175ms/step - loss: 0.6280 - accuracy: 0.7871 - val_loss: 0.6203 - val_accuracy: 0.7986\n",
      "Epoch 38/50\n",
      "1563/1563 [==============================] - 277s 177ms/step - loss: 0.6246 - accuracy: 0.7899 - val_loss: 0.7229 - val_accuracy: 0.7686\n",
      "Epoch 39/50\n",
      "1563/1563 [==============================] - 307s 196ms/step - loss: 0.6255 - accuracy: 0.7896 - val_loss: 0.6737 - val_accuracy: 0.7877\n",
      "Epoch 40/50\n",
      "1563/1563 [==============================] - 267s 171ms/step - loss: 0.6289 - accuracy: 0.7901 - val_loss: 0.6683 - val_accuracy: 0.7883\n",
      "Epoch 41/50\n",
      "1563/1563 [==============================] - 252s 161ms/step - loss: 0.6225 - accuracy: 0.7896 - val_loss: 0.6393 - val_accuracy: 0.7925\n",
      "Epoch 42/50\n",
      "1563/1563 [==============================] - 250s 160ms/step - loss: 0.6157 - accuracy: 0.7909 - val_loss: 0.6245 - val_accuracy: 0.8041\n",
      "Epoch 43/50\n",
      "1563/1563 [==============================] - 251s 161ms/step - loss: 0.6283 - accuracy: 0.7893 - val_loss: 0.6333 - val_accuracy: 0.8000\n",
      "Epoch 44/50\n",
      "1563/1563 [==============================] - 247s 158ms/step - loss: 0.6264 - accuracy: 0.7916 - val_loss: 0.6264 - val_accuracy: 0.8008\n",
      "Epoch 45/50\n",
      "1563/1563 [==============================] - 262s 167ms/step - loss: 0.6277 - accuracy: 0.7906 - val_loss: 0.6450 - val_accuracy: 0.7993\n",
      "Epoch 46/50\n",
      "1563/1563 [==============================] - 257s 165ms/step - loss: 0.6215 - accuracy: 0.7935 - val_loss: 0.6394 - val_accuracy: 0.7952\n",
      "Epoch 47/50\n",
      "1563/1563 [==============================] - 260s 166ms/step - loss: 0.6141 - accuracy: 0.7925 - val_loss: 0.6273 - val_accuracy: 0.7998\n",
      "Epoch 48/50\n",
      "1563/1563 [==============================] - 259s 166ms/step - loss: 0.6157 - accuracy: 0.7934 - val_loss: 0.6199 - val_accuracy: 0.8028\n",
      "Epoch 49/50\n",
      "1563/1563 [==============================] - 258s 165ms/step - loss: 0.6098 - accuracy: 0.7937 - val_loss: 0.6076 - val_accuracy: 0.8061\n",
      "Epoch 50/50\n",
      "1563/1563 [==============================] - 253s 162ms/step - loss: 0.6135 - accuracy: 0.7958 - val_loss: 0.6321 - val_accuracy: 0.8081\n",
      "Wall time: 3h 50min 32s\n"
     ]
    }
   ],
   "source": [
    "%%time\n",
    "history_4 = model_4.fit(x_train, y_train_cat, epochs=50, validation_data=(x_test, y_test_cat))"
   ]
  },
  {
   "cell_type": "code",
   "execution_count": 16,
   "metadata": {
    "colab": {
     "background_save": true
    },
    "id": "vBnSbQnhbIhE"
   },
   "outputs": [],
   "source": [
    "score_train_4 = model_4.evaluate(x_train, y_train_cat, verbose=0)\n",
    "score_test_4 = model_4.evaluate(x_test, y_test_cat, verbose=0)"
   ]
  },
  {
   "cell_type": "code",
   "execution_count": 17,
   "metadata": {
    "colab": {
     "background_save": true
    },
    "id": "ayF6Ba5Db3VE"
   },
   "outputs": [
    {
     "name": "stdout",
     "output_type": "stream",
     "text": [
      "Train loss: 0.34661126136779785\n",
      "Train accuracy: 0.8815400004386902\n",
      "Test loss: 0.6320710182189941\n",
      "Test accuracy: 0.8080999851226807\n"
     ]
    }
   ],
   "source": [
    "print('Train loss:', score_train_4[0])\n",
    "print('Train accuracy:', score_train_4[1])\n",
    "print('Test loss:', score_test_4[0])\n",
    "print('Test accuracy:', score_test_4[1])"
   ]
  },
  {
   "cell_type": "code",
   "execution_count": 18,
   "metadata": {
    "colab": {
     "background_save": true
    },
    "id": "lmlXfevzZ-SY"
   },
   "outputs": [
    {
     "data": {
      "image/png": "[encoded data removed]",
      "text/plain": [
       "<Figure size 1152x360 with 2 Axes>"
      ]
     },
     "metadata": {
      "needs_background": "light"
     },
     "output_type": "display_data"
    }
   ],
   "source": [
    "plot_model(history_4)"
   ]
  },
  {
   "cell_type": "markdown",
   "metadata": {
    "id": "l2v0g09JXtvy"
   },
   "source": [
    "### Model - 5"
   ]
  },
  {
   "cell_type": "code",
   "execution_count": 19,
   "metadata": {
    "executionInfo": {
     "elapsed": 153887,
     "status": "ok",
     "timestamp": 1607088276025,
     "user": {
      "displayName": "Alexey Tankov",
      "photoUrl": "",
      "userId": "01729535101672247421"
     },
     "user_tz": -180
    },
    "id": "fZlGI_J5YI8C"
   },
   "outputs": [],
   "source": [
    "# Adding Batch Normalization\n",
    "model_5 = Sequential([\n",
    "    Conv2D(filters=32, kernel_size=(3, 3), input_shape=(32, 32, 3), kernel_initializer='he_uniform', padding='same', activation='relu'),\n",
    "    BatchNormalization(),\n",
    "    Conv2D(filters=32, kernel_size=(3, 3), kernel_initializer='he_uniform', padding='same', activation='relu'),\n",
    "    BatchNormalization(),\n",
    "    MaxPool2D(pool_size=(2, 2)),\n",
    "    Dropout(0.2), # Drop 20% of the units from the layer\n",
    "    \n",
    "    Conv2D(filters=64, kernel_size=(3, 3), kernel_initializer='he_uniform', padding='same', activation='relu'),\n",
    "    BatchNormalization(),\n",
    "    Conv2D(filters=64, kernel_size=(3, 3), kernel_initializer='he_uniform', padding='same', activation='relu'),\n",
    "    BatchNormalization(),\n",
    "    MaxPool2D(pool_size=(2, 2)),\n",
    "    Dropout(0.3), # Drop 30% of the units from the layer\n",
    "    \n",
    "    Conv2D(filters=128, kernel_size=(3, 3), kernel_initializer='he_uniform', padding='same', activation='relu'),\n",
    "    BatchNormalization(),\n",
    "    Conv2D(filters=128, kernel_size=(3, 3), kernel_initializer='he_uniform', padding='same', activation='relu'),\n",
    "    BatchNormalization(),\n",
    "    MaxPool2D(pool_size=(2, 2)),\n",
    "    Dropout(0.4), # Drop 40% of the units from the layer\n",
    "    \n",
    "    Flatten(),\n",
    "    Dense(128, activation='relu', kernel_initializer='he_uniform'),\n",
    "    BatchNormalization(),\n",
    "    Dropout(0.5), # Drop 50% of the units from the layer\n",
    "    Dense(10, activation='softmax')\n",
    "])"
   ]
  },
  {
   "cell_type": "code",
   "execution_count": 20,
   "metadata": {
    "executionInfo": {
     "elapsed": 153712,
     "status": "ok",
     "timestamp": 1607088276027,
     "user": {
      "displayName": "Alexey Tankov",
      "photoUrl": "",
      "userId": "01729535101672247421"
     },
     "user_tz": -180
    },
    "id": "jLgeBbzdWB5b"
   },
   "outputs": [],
   "source": [
    "model_5.compile(optimizer='adam',\n",
    "                     loss='categorical_crossentropy',\n",
    "                     metrics=['accuracy'])"
   ]
  },
  {
   "cell_type": "code",
   "execution_count": null,
   "metadata": {
    "colab": {
     "base_uri": "https://localhost:8080/"
    },
    "executionInfo": {
     "elapsed": 291906,
     "status": "ok",
     "timestamp": 1607088414406,
     "user": {
      "displayName": "Alexey Tankov",
      "photoUrl": "",
      "userId": "01729535101672247421"
     },
     "user_tz": -180
    },
    "id": "JbOvpu6hYlWP",
    "outputId": "a50e423a-ddea-4198-b395-f9bcfbb34ac0"
   },
   "outputs": [
    {
     "name": "stdout",
     "output_type": "stream",
     "text": [
      "Epoch 1/50\n",
      "1563/1563 [==============================] - 360s 230ms/step - loss: 1.5982 - accuracy: 0.4452 - val_loss: 1.1978 - val_accuracy: 0.5743\n",
      "Epoch 2/50\n",
      "1563/1563 [==============================] - 360s 230ms/step - loss: 1.0653 - accuracy: 0.6244 - val_loss: 0.8982 - val_accuracy: 0.6801\n",
      "Epoch 3/50\n",
      "1563/1563 [==============================] - 381s 243ms/step - loss: 0.8977 - accuracy: 0.6870 - val_loss: 0.7461 - val_accuracy: 0.7390\n",
      "Epoch 4/50\n",
      "1563/1563 [==============================] - 393s 251ms/step - loss: 0.7970 - accuracy: 0.7264 - val_loss: 0.6877 - val_accuracy: 0.7604\n",
      "Epoch 5/50\n",
      "1563/1563 [==============================] - 372s 238ms/step - loss: 0.7138 - accuracy: 0.7565 - val_loss: 0.6653 - val_accuracy: 0.7696\n",
      "Epoch 6/50\n",
      "1563/1563 [==============================] - 375s 240ms/step - loss: 0.6557 - accuracy: 0.7769 - val_loss: 0.5841 - val_accuracy: 0.7983\n",
      "Epoch 7/50\n",
      "1563/1563 [==============================] - 355s 227ms/step - loss: 0.6117 - accuracy: 0.7902 - val_loss: 0.6315 - val_accuracy: 0.7867\n",
      "Epoch 8/50\n",
      "1563/1563 [==============================] - 366s 234ms/step - loss: 0.5648 - accuracy: 0.8077 - val_loss: 0.5737 - val_accuracy: 0.8050\n",
      "Epoch 9/50\n",
      "1563/1563 [==============================] - 392s 251ms/step - loss: 0.5425 - accuracy: 0.8171 - val_loss: 0.5074 - val_accuracy: 0.8281\n",
      "Epoch 10/50\n",
      "1563/1563 [==============================] - 388s 248ms/step - loss: 0.5139 - accuracy: 0.8230 - val_loss: 0.5238 - val_accuracy: 0.8214\n",
      "Epoch 11/50\n",
      "1563/1563 [==============================] - 412s 263ms/step - loss: 0.4897 - accuracy: 0.8342 - val_loss: 0.4829 - val_accuracy: 0.8389\n",
      "Epoch 12/50\n",
      "1563/1563 [==============================] - 385s 246ms/step - loss: 0.4618 - accuracy: 0.8414 - val_loss: 0.4977 - val_accuracy: 0.8319\n",
      "Epoch 13/50\n",
      "1563/1563 [==============================] - 376s 241ms/step - loss: 0.4493 - accuracy: 0.8454 - val_loss: 0.4924 - val_accuracy: 0.8399\n",
      "Epoch 14/50\n",
      "1563/1563 [==============================] - 369s 236ms/step - loss: 0.4334 - accuracy: 0.8529 - val_loss: 0.4575 - val_accuracy: 0.8484\n",
      "Epoch 15/50\n",
      "1563/1563 [==============================] - 357s 228ms/step - loss: 0.4189 - accuracy: 0.8574 - val_loss: 0.4889 - val_accuracy: 0.8383\n",
      "Epoch 16/50\n",
      "1563/1563 [==============================] - 351s 224ms/step - loss: 0.4055 - accuracy: 0.8620 - val_loss: 0.4487 - val_accuracy: 0.8544\n",
      "Epoch 17/50\n",
      "1563/1563 [==============================] - 355s 227ms/step - loss: 0.3920 - accuracy: 0.8661 - val_loss: 0.4605 - val_accuracy: 0.8482\n",
      "Epoch 18/50\n",
      "1563/1563 [==============================] - 350s 224ms/step - loss: 0.3845 - accuracy: 0.8675 - val_loss: 0.4577 - val_accuracy: 0.8483\n",
      "Epoch 19/50\n",
      "1563/1563 [==============================] - 350s 224ms/step - loss: 0.3719 - accuracy: 0.8731 - val_loss: 0.4498 - val_accuracy: 0.8587\n",
      "Epoch 20/50\n",
      "1563/1563 [==============================] - 348s 222ms/step - loss: 0.3594 - accuracy: 0.8756 - val_loss: 0.4692 - val_accuracy: 0.8524\n",
      "Epoch 21/50\n",
      "1563/1563 [==============================] - 354s 227ms/step - loss: 0.3534 - accuracy: 0.8798 - val_loss: 0.4493 - val_accuracy: 0.8575\n",
      "Epoch 22/50\n",
      "1563/1563 [==============================] - 367s 235ms/step - loss: 0.3355 - accuracy: 0.8843 - val_loss: 0.4296 - val_accuracy: 0.8614\n",
      "Epoch 23/50\n",
      "1563/1563 [==============================] - 384s 246ms/step - loss: 0.3380 - accuracy: 0.8829 - val_loss: 0.4516 - val_accuracy: 0.8553\n",
      "Epoch 24/50\n",
      "1563/1563 [==============================] - 378s 242ms/step - loss: 0.3257 - accuracy: 0.8878 - val_loss: 0.4518 - val_accuracy: 0.8541\n",
      "Epoch 25/50\n",
      "1563/1563 [==============================] - 378s 242ms/step - loss: 0.3169 - accuracy: 0.8909 - val_loss: 0.4386 - val_accuracy: 0.8613\n",
      "Epoch 26/50\n",
      "1563/1563 [==============================] - 373s 238ms/step - loss: 0.3121 - accuracy: 0.8934 - val_loss: 0.4472 - val_accuracy: 0.8584\n",
      "Epoch 27/50\n",
      "1563/1563 [==============================] - 382s 245ms/step - loss: 0.3080 - accuracy: 0.8932 - val_loss: 0.4400 - val_accuracy: 0.8620\n",
      "Epoch 28/50\n",
      "1563/1563 [==============================] - 370s 237ms/step - loss: 0.3002 - accuracy: 0.8948 - val_loss: 0.4342 - val_accuracy: 0.8648\n",
      "Epoch 29/50\n",
      "1563/1563 [==============================] - 402s 257ms/step - loss: 0.2977 - accuracy: 0.8971 - val_loss: 0.4480 - val_accuracy: 0.8601\n",
      "Epoch 30/50\n",
      "1563/1563 [==============================] - 368s 235ms/step - loss: 0.2886 - accuracy: 0.9008 - val_loss: 0.4432 - val_accuracy: 0.8628\n",
      "Epoch 31/50\n",
      "1563/1563 [==============================] - 371s 237ms/step - loss: 0.2892 - accuracy: 0.8992 - val_loss: 0.4423 - val_accuracy: 0.8610\n",
      "Epoch 32/50\n",
      "1563/1563 [==============================] - 372s 238ms/step - loss: 0.2792 - accuracy: 0.9043 - val_loss: 0.4421 - val_accuracy: 0.8681\n",
      "Epoch 33/50\n",
      "1563/1563 [==============================] - 380s 243ms/step - loss: 0.2693 - accuracy: 0.9074 - val_loss: 0.4732 - val_accuracy: 0.8549\n",
      "Epoch 34/50\n",
      "1563/1563 [==============================] - 370s 236ms/step - loss: 0.2700 - accuracy: 0.9060 - val_loss: 0.4869 - val_accuracy: 0.8522\n",
      "Epoch 35/50\n",
      "1563/1563 [==============================] - 363s 232ms/step - loss: 0.2614 - accuracy: 0.9100 - val_loss: 0.4396 - val_accuracy: 0.8650\n",
      "Epoch 36/50\n",
      "1563/1563 [==============================] - 360s 230ms/step - loss: 0.2612 - accuracy: 0.9084 - val_loss: 0.4370 - val_accuracy: 0.8651\n",
      "Epoch 37/50\n",
      "1563/1563 [==============================] - 379s 242ms/step - loss: 0.2576 - accuracy: 0.9117 - val_loss: 0.4720 - val_accuracy: 0.8583\n",
      "Epoch 38/50\n",
      "1563/1563 [==============================] - 373s 239ms/step - loss: 0.2570 - accuracy: 0.9114 - val_loss: 0.4367 - val_accuracy: 0.8665\n",
      "Epoch 39/50\n",
      "1563/1563 [==============================] - 379s 243ms/step - loss: 0.2518 - accuracy: 0.9132 - val_loss: 0.4575 - val_accuracy: 0.8666\n",
      "Epoch 40/50\n",
      "1563/1563 [==============================] - 374s 239ms/step - loss: 0.2472 - accuracy: 0.9164 - val_loss: 0.4512 - val_accuracy: 0.8640\n",
      "Epoch 41/50\n",
      "1563/1563 [==============================] - 370s 236ms/step - loss: 0.2493 - accuracy: 0.9141 - val_loss: 0.4624 - val_accuracy: 0.8605\n",
      "Epoch 42/50\n",
      "1178/1563 [=====================>........] - ETA: 1:29 - loss: 0.2374 - accuracy: 0.9180"
     ]
    }
   ],
   "source": [
    "%%time\n",
    "history_5 = model_5.fit(x_train, y_train_cat, epochs=50, validation_data=(x_test, y_test_cat))"
   ]
  },
  {
   "cell_type": "code",
   "execution_count": null,
   "metadata": {
    "executionInfo": {
     "elapsed": 300944,
     "status": "ok",
     "timestamp": 1607088423625,
     "user": {
      "displayName": "Alexey Tankov",
      "photoUrl": "",
      "userId": "01729535101672247421"
     },
     "user_tz": -180
    },
    "id": "SfMS1pw_bUwb"
   },
   "outputs": [],
   "source": [
    "score_train_5 = model_5.evaluate(x_train, y_train_cat, verbose=0)\n",
    "score_test_5 = model_5.evaluate(x_test, y_test_cat, verbose=0)"
   ]
  },
  {
   "cell_type": "code",
   "execution_count": null,
   "metadata": {
    "colab": {
     "base_uri": "https://localhost:8080/"
    },
    "executionInfo": {
     "elapsed": 300772,
     "status": "ok",
     "timestamp": 1607088423627,
     "user": {
      "displayName": "Alexey Tankov",
      "photoUrl": "",
      "userId": "01729535101672247421"
     },
     "user_tz": -180
    },
    "id": "GpzceI4yb0i-",
    "outputId": "94bdd687-995e-4226-e0ff-32a7a59f4b2d"
   },
   "outputs": [],
   "source": [
    "print('Train loss:', score_train_5[0])\n",
    "print('Train accuracy:', score_train_5[1])\n",
    "print('Test loss:', score_test_5[0])\n",
    "print('Test accuracy:', score_test_5[1])"
   ]
  },
  {
   "cell_type": "code",
   "execution_count": null,
   "metadata": {
    "colab": {
     "base_uri": "https://localhost:8080/",
     "height": 307
    },
    "executionInfo": {
     "elapsed": 300586,
     "status": "ok",
     "timestamp": 1607088423628,
     "user": {
      "displayName": "Alexey Tankov",
      "photoUrl": "",
      "userId": "01729535101672247421"
     },
     "user_tz": -180
    },
    "id": "41rKPrTUY9mY",
    "outputId": "c58b3c07-0e81-4520-fe7e-f6cdab12f3b8"
   },
   "outputs": [],
   "source": [
    "plot_model(history_5)"
   ]
  },
  {
   "cell_type": "markdown",
   "metadata": {},
   "source": [
    "### Model - 6"
   ]
  },
  {
   "cell_type": "code",
   "execution_count": null,
   "metadata": {},
   "outputs": [],
   "source": [
    "# ImageDataGenerator\n",
    "model_6 = Sequential([\n",
    "    Conv2D(filters=32, kernel_size=(3, 3), input_shape=(32, 32, 3), kernel_initializer='he_uniform', padding='same', activation='relu'),\n",
    "    BatchNormalization(),\n",
    "    Conv2D(filters=32, kernel_size=(3, 3), kernel_initializer='he_uniform', padding='same', activation='relu'),\n",
    "    BatchNormalization(),\n",
    "    MaxPool2D(pool_size=(2, 2)),\n",
    "    Dropout(0.2), # Drop 20% of the units from the layer\n",
    "    \n",
    "    Conv2D(filters=64, kernel_size=(3, 3), kernel_initializer='he_uniform', padding='same', activation='relu'),\n",
    "    BatchNormalization(),\n",
    "    Conv2D(filters=64, kernel_size=(3, 3), kernel_initializer='he_uniform', padding='same', activation='relu'),\n",
    "    BatchNormalization(),\n",
    "    MaxPool2D(pool_size=(2, 2)),\n",
    "    Dropout(0.3), # Drop 30% of the units from the layer\n",
    "    \n",
    "    Conv2D(filters=128, kernel_size=(3, 3), kernel_initializer='he_uniform', padding='same', activation='relu'),\n",
    "    BatchNormalization(),\n",
    "    Conv2D(filters=128, kernel_size=(3, 3), kernel_initializer='he_uniform', padding='same', activation='relu'),\n",
    "    BatchNormalization(),\n",
    "    MaxPool2D(pool_size=(2, 2)),\n",
    "    Dropout(0.4), # Drop 40% of the units from the layer\n",
    "    \n",
    "    Flatten(),\n",
    "    Dense(256, activation='relu', kernel_initializer='he_uniform'),\n",
    "    BatchNormalization(),\n",
    "    Dropout(0.5), # Drop 50% of the units from the layer\n",
    "    Dense(10, activation='softmax')\n",
    "])"
   ]
  },
  {
   "cell_type": "code",
   "execution_count": null,
   "metadata": {},
   "outputs": [],
   "source": [
    "model_6.compile(optimizer='adam',\n",
    "                     loss='categorical_crossentropy',\n",
    "                     metrics=['accuracy'])"
   ]
  },
  {
   "cell_type": "code",
   "execution_count": null,
   "metadata": {},
   "outputs": [],
   "source": [
    "%%time\n",
    "history_6 = model_6.fit_generator(datagen.flow(x_train, y_train_cat, batch_size = 64),\n",
    "                                 validation_data = (x_test, y_test_cat),\n",
    "                                 steps_per_epoch = x_train.shape[0] // 64, \n",
    "                                 epochs = 50, verbose = 1,\n",
    "                                 callbacks = callback_list)"
   ]
  },
  {
   "cell_type": "code",
   "execution_count": null,
   "metadata": {},
   "outputs": [],
   "source": [
    "score_train_6 = model_6.evaluate(x_train, y_train_cat, verbose=0)\n",
    "score_test_6 = model_6.evaluate(x_test, y_test_cat, verbose=0)"
   ]
  },
  {
   "cell_type": "code",
   "execution_count": null,
   "metadata": {},
   "outputs": [],
   "source": [
    "print('Train loss:', score_train_6[0])\n",
    "print('Train accuracy:', score_train_6[1])\n",
    "print('Test loss:', score_test_6[0])\n",
    "print('Test accuracy:', score_test_6[1])"
   ]
  },
  {
   "cell_type": "code",
   "execution_count": null,
   "metadata": {},
   "outputs": [],
   "source": [
    "plot_model(history_6)"
   ]
  },
  {
   "cell_type": "markdown",
   "metadata": {},
   "source": [
    "### Results"
   ]
  },
  {
   "cell_type": "code",
   "execution_count": null,
   "metadata": {},
   "outputs": [],
   "source": [
    "results = pd.DataFrame({'model_1': score_test, 'model_2': score_test_2, 'model_3': score_test_3,\n",
    "                        'model_4': score_test_4, 'model_5': score_test_5, 'model_6': score_test_6}).T\n",
    "results.columns=['Loss', 'Accuracy']\n",
    "results"
   ]
  },
  {
   "cell_type": "code",
   "execution_count": null,
   "metadata": {
    "id": "JG65eNONdvHW"
   },
   "outputs": [],
   "source": [
    "plt.figure(figsize=(15, 10))\n",
    "plt.plot(history.history['accuracy'], label='model-1')\n",
    "plt.plot(history_2.history['accuracy'], label='model-2')\n",
    "plt.plot(history_3.history['accuracy'], label='model-3')\n",
    "plt.plot(history_4.history['accuracy'], label='model-4')\n",
    "plt.plot(history_5.history['accuracy'], label='model-5')\n",
    "plt.plot(history_6.history['accuracy'], label='model-6')\n",
    "plt.legend()\n",
    "plt.xlabel('Epochs')\n",
    "plt.ylabel('Accuracy')\n",
    "plt.title('Accuracy of epochs')\n",
    "plt.show()"
   ]
  },
  {
   "cell_type": "code",
   "execution_count": null,
   "metadata": {},
   "outputs": [],
   "source": [
    "plt.figure(figsize=(15, 10))\n",
    "plt.plot(history.history['val_accuracy'], label='model-1')\n",
    "plt.plot(history_2.history['val_accuracy'], label='model-2')\n",
    "plt.plot(history_3.history['val_accuracy'], label='model-3')\n",
    "plt.plot(history_4.history['val_accuracy'], label='model-4')\n",
    "plt.plot(history_5.history['val_accuracy'], label='model-5')\n",
    "plt.plot(history_6.history['val_accuracy'], label='model-6')\n",
    "plt.legend()\n",
    "plt.xlabel('Epochs')\n",
    "plt.ylabel('Accuracy')\n",
    "plt.title('Accuracy of epochs')\n",
    "plt.show()"
   ]
  },
  {
   "cell_type": "code",
   "execution_count": null,
   "metadata": {},
   "outputs": [],
   "source": [
    "model_6.summary()"
   ]
  },
  {
   "cell_type": "markdown",
   "metadata": {},
   "source": [
    "Вариант 2. (сложный)\n",
    "- реализовать нейронную сеть в стиле AlexNet (с падением размера ядра свертки и последовательностью блоков свертка-пулинг  (conv-pool)-(conv-pool)-...) на сifar10.\n",
    "- оценить рост точности при увеличении ширины сети (больше ядер)\n",
    "- оценить рост точности при увеличении глубины сети (больше слоев)\n",
    "    </li>\n",
    "</ol>"
   ]
  },
  {
   "cell_type": "markdown",
   "metadata": {},
   "source": [
    "При реализации и последующем анализе сверточных моделей для текущего набора cifar10 в стиле AlexNet, мы наблюдаем, что в простых сетях, при небольшой глубине, сложности и ширине весьма низкая точность, а также присутствует эффект переобучения. Усложняя модель, мы наблюдаем обратное, увеличение точности и уменьшение эффекта переобучения(при добавлении слоя Dropout), но при всём этом существенно возрастает время обработки датасета. Значительный прирост точности даёт техника регуляризации сети - Batch normalization(авторами метода рекомендуется убирать слой Dropout при использовании ."
   ]
  },
  {
   "cell_type": "markdown",
   "metadata": {},
   "source": [
    "https://www.kaggle.com/kedarsai/cifar-10-88-accuracy-using-keras  \n",
    "https://www.kaggle.com/kalashnimov/keras-callbacks-with-91-acc  \n",
    "https://www.kaggle.com/roblexnana/cifar10-with-cnn-for-beginer"
   ]
  },
  {
   "cell_type": "code",
   "execution_count": null,
   "metadata": {},
   "outputs": [],
   "source": []
  }
 ],
 "metadata": {
  "colab": {
   "authorship_tag": "ABX9TyP3RP3q/8ZgEDVF3p/rximj",
   "collapsed_sections": [],
   "name": "hw_03.ipynb",
   "version": ""
  },
  "kernelspec": {
   "display_name": "Python 3",
   "language": "python",
   "name": "python3"
  },
  "language_info": {
   "codemirror_mode": {
    "name": "ipython",
    "version": 3
   },
   "file_extension": ".py",
   "mimetype": "text/x-python",
   "name": "python",
   "nbconvert_exporter": "python",
   "pygments_lexer": "ipython3",
   "version": "3.7.6"
  }
 },
 "nbformat": 4,
 "nbformat_minor": 1
}
