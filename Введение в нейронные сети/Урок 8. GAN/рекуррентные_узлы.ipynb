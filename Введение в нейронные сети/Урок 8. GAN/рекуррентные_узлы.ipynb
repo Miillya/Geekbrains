{
 "cells": [
  {
   "cell_type": "code",
   "execution_count": 1,
   "metadata": {
    "id": "-VYOt8nS5OKO"
   },
   "outputs": [],
   "source": [
    "import numpy as np\n",
    "import matplotlib.pyplot as plt\n",
    "%matplotlib inline"
   ]
  },
  {
   "cell_type": "markdown",
   "metadata": {
    "id": "1RbBDnqE0aHW"
   },
   "source": [
    "\n",
    "## LSTM\n",
    "\n",
    "Long short term memory, LSTM -  представляет собой систему глубинного обучения, при реализации которой удалось обойти проблему исчезновения или взрыва градиентов в процессе обучения методом обратного распространения ошибки. \n",
    "\n",
    "Сеть LSTM обычно модерируется с помощью рекуррентных вентилей, которые называются вентили (gates) «забывания».\n",
    "\n",
    "Ошибки распространяются назад по времени через потенциально неограниченное количество виртуальных слоёв. \n",
    "\n",
    "Таким образом происходит обучение в LSTM, при этом сохраняя память о временных интервалах в прошлого\n",
    "\n"
   ]
  },
  {
   "cell_type": "markdown",
   "metadata": {
    "id": "ebwItGJ8y6UA"
   },
   "source": [
    "https://github.com/nicodjimenez/lstm"
   ]
  },
  {
   "cell_type": "markdown",
   "metadata": {
    "id": "kvCE3k1Ty6UP"
   },
   "source": [
    "Визуализация работы LSTM http://datareview.info/article/issleduem-lstm-seti-chast-2/"
   ]
  },
  {
   "cell_type": "code",
   "execution_count": 20,
   "metadata": {
    "id": "3Lk1YyWGax0d"
   },
   "outputs": [],
   "source": [
    "from tensorflow.keras.models import Model\n",
    "from tensorflow.keras.datasets import mnist\n",
    "from tensorflow.keras.layers import Input, LSTM, concatenate, Activation, MaxPooling2D, Conv2D, BatchNormalization, Dense\n",
    "from tensorflow.keras import backend as K\n",
    "from tensorflow.keras.optimizers import Adam\n",
    "from tensorflow.keras import utils\n",
    "from google.colab import files\n",
    "import matplotlib.pyplot as plt\n",
    "from tensorflow.keras.preprocessing import image\n",
    "from tensorflow.keras.applications import VGG16\n",
    "import numpy as np\n",
    "from PIL import Image\n",
    "import tensorflow as tf"
   ]
  },
  {
   "cell_type": "code",
   "execution_count": 4,
   "metadata": {
    "id": "R_hm6OuZuRPe"
   },
   "outputs": [],
   "source": [
    "xLen=10 ## длина истории\n",
    "n=5   ## длина вектора данных"
   ]
  },
  {
   "cell_type": "code",
   "execution_count": 5,
   "metadata": {
    "id": "1T0ynzuQt0RM"
   },
   "outputs": [],
   "source": [
    "x = Input(shape=(xLen,n,))\n",
    "y= LSTM(32,return_sequences=False )(x)\n",
    "\n",
    "\n",
    "model = Model(x,y)\n",
    "model.compile(loss='mse',optimizer='Adam',metrics=['mse'])"
   ]
  },
  {
   "cell_type": "code",
   "execution_count": 6,
   "metadata": {
    "colab": {
     "base_uri": "https://localhost:8080/"
    },
    "id": "EOvYVBVCB0qH",
    "outputId": "e771d052-5d57-499c-fe30-4fd712fd7ce7"
   },
   "outputs": [
    {
     "data": {
      "text/plain": [
       "<KerasTensor: shape=(None, 32) dtype=float32 (created by layer 'lstm')>"
      ]
     },
     "execution_count": 6,
     "metadata": {
      "tags": []
     },
     "output_type": "execute_result"
    }
   ],
   "source": [
    "y"
   ]
  },
  {
   "cell_type": "code",
   "execution_count": 7,
   "metadata": {
    "colab": {
     "base_uri": "https://localhost:8080/"
    },
    "id": "mxAcRqXCBv9j",
    "outputId": "9c656846-519b-4e3c-9877-805ea611bc46"
   },
   "outputs": [
    {
     "data": {
      "text/plain": [
       "<KerasTensor: shape=(None, 10, 5) dtype=float32 (created by layer 'input_1')>"
      ]
     },
     "execution_count": 7,
     "metadata": {
      "tags": []
     },
     "output_type": "execute_result"
    }
   ],
   "source": [
    "x"
   ]
  },
  {
   "cell_type": "code",
   "execution_count": 8,
   "metadata": {
    "colab": {
     "base_uri": "https://localhost:8080/"
    },
    "id": "NfpPa1A-uP9g",
    "outputId": "790ce4ba-fd8c-4839-9440-3792e2f3f299"
   },
   "outputs": [
    {
     "data": {
      "text/plain": [
       "(TensorShape([None, 32]), (1, 10, 5))"
      ]
     },
     "execution_count": 8,
     "metadata": {
      "tags": []
     },
     "output_type": "execute_result"
    }
   ],
   "source": [
    "xx = np.random.randn(1,xLen,n)\n",
    "\n",
    "y.shape,xx.shape \n"
   ]
  },
  {
   "cell_type": "code",
   "execution_count": 9,
   "metadata": {
    "id": "c8f8hMnQfPfK"
   },
   "outputs": [],
   "source": [
    "yy = model.predict(xx)"
   ]
  },
  {
   "cell_type": "code",
   "execution_count": 10,
   "metadata": {
    "colab": {
     "base_uri": "https://localhost:8080/"
    },
    "id": "97jrES0OfY7A",
    "outputId": "b95831f2-2994-41a4-cdf3-814df7b60909"
   },
   "outputs": [
    {
     "data": {
      "text/plain": [
       "(1, 32)"
      ]
     },
     "execution_count": 10,
     "metadata": {
      "tags": []
     },
     "output_type": "execute_result"
    }
   ],
   "source": [
    "yy.shape"
   ]
  },
  {
   "cell_type": "code",
   "execution_count": 39,
   "metadata": {
    "colab": {
     "base_uri": "https://localhost:8080/",
     "height": 283
    },
    "id": "PC3DFizifJSb",
    "outputId": "3da19dce-8f89-431a-bd59-74f740cea8b6"
   },
   "outputs": [
    {
     "data": {
      "image/png": "[encoded data removed]",
      "text/plain": [
       "<Figure size 432x288 with 1 Axes>"
      ]
     },
     "metadata": {
      "needs_background": "light",
      "tags": []
     },
     "output_type": "display_data"
    },
    {
     "data": {
      "text/plain": [
       "((294, 1), (294, 5, 2))"
      ]
     },
     "execution_count": 39,
     "metadata": {
      "tags": []
     },
     "output_type": "execute_result"
    }
   ],
   "source": [
    "N=300\n",
    "t= np.linspace(0,30,N).reshape((N,1))\n",
    "x = np.sin(t) + t*0.2\n",
    "n=2\n",
    "xLen=5\n",
    "\n",
    "\n",
    "plt.plot(t[0:xLen],x[0:xLen],'.-b')\n",
    "\n",
    "\n",
    "h=1  # горизонт прогноза\n",
    "xx=[]\n",
    "y=[]\n",
    "for i in range(N-xLen - h):\n",
    "  xx.append(np.concatenate( (t[i:xLen+i],x[i:xLen+i])).reshape((xLen,2)))\n",
    "  y.append(x[i+h+xLen-1])\n",
    "xx = np.array(xx)  \n",
    "y = np.array(y)\n",
    "\n",
    "plt.plot(t[xLen+h-1],y[0],'.r')\n",
    "plt.show()\n",
    "y.shape,xx.shape "
   ]
  },
  {
   "cell_type": "code",
   "execution_count": 40,
   "metadata": {
    "id": "iWzGIQ9I2MhG"
   },
   "outputs": [],
   "source": [
    "x_in = Input(shape=(xLen,n,))\n",
    "y_out= LSTM(32,return_sequences=False )(x_in)\n",
    "y_out = Dense(1,activation='linear')(y_out)\n",
    "\n",
    "\n",
    "model = Model(x_in,y_out)\n",
    "model.compile(loss='mse',optimizer='Adam',metrics=['mse'])"
   ]
  },
  {
   "cell_type": "code",
   "execution_count": 41,
   "metadata": {
    "colab": {
     "base_uri": "https://localhost:8080/"
    },
    "id": "XOFCe7uP22Xb",
    "outputId": "20d29c32-c8a9-44e6-a16b-9918d40fc5ed"
   },
   "outputs": [
    {
     "name": "stdout",
     "output_type": "stream",
     "text": [
      "Epoch 1/20\n",
      "7/7 [==============================] - 1s 4ms/step - loss: 5.1856 - mse: 5.1856\n",
      "Epoch 2/20\n",
      "7/7 [==============================] - 0s 3ms/step - loss: 3.8880 - mse: 3.8880\n",
      "Epoch 3/20\n",
      "7/7 [==============================] - 0s 3ms/step - loss: 3.1003 - mse: 3.1003\n",
      "Epoch 4/20\n",
      "7/7 [==============================] - 0s 3ms/step - loss: 1.9518 - mse: 1.9518\n",
      "Epoch 5/20\n",
      "7/7 [==============================] - 0s 3ms/step - loss: 1.3692 - mse: 1.3692\n",
      "Epoch 6/20\n",
      "7/7 [==============================] - 0s 3ms/step - loss: 1.0697 - mse: 1.0697\n",
      "Epoch 7/20\n",
      "7/7 [==============================] - 0s 4ms/step - loss: 0.9740 - mse: 0.9740\n",
      "Epoch 8/20\n",
      "7/7 [==============================] - 0s 3ms/step - loss: 0.7831 - mse: 0.7831\n",
      "Epoch 9/20\n",
      "7/7 [==============================] - 0s 3ms/step - loss: 0.6320 - mse: 0.6320\n",
      "Epoch 10/20\n",
      "7/7 [==============================] - 0s 4ms/step - loss: 0.4989 - mse: 0.4989\n",
      "Epoch 11/20\n",
      "7/7 [==============================] - 0s 4ms/step - loss: 0.5245 - mse: 0.5245\n",
      "Epoch 12/20\n",
      "7/7 [==============================] - 0s 3ms/step - loss: 0.4190 - mse: 0.4190\n",
      "Epoch 13/20\n",
      "7/7 [==============================] - 0s 3ms/step - loss: 0.3536 - mse: 0.3536\n",
      "Epoch 14/20\n",
      "7/7 [==============================] - 0s 3ms/step - loss: 0.2804 - mse: 0.2804\n",
      "Epoch 15/20\n",
      "7/7 [==============================] - 0s 3ms/step - loss: 0.2291 - mse: 0.2291\n",
      "Epoch 16/20\n",
      "7/7 [==============================] - 0s 3ms/step - loss: 0.2177 - mse: 0.2177\n",
      "Epoch 17/20\n",
      "7/7 [==============================] - 0s 3ms/step - loss: 0.1926 - mse: 0.1926\n",
      "Epoch 18/20\n",
      "7/7 [==============================] - 0s 4ms/step - loss: 0.1639 - mse: 0.1639\n",
      "Epoch 19/20\n",
      "7/7 [==============================] - 0s 3ms/step - loss: 0.1463 - mse: 0.1463\n",
      "Epoch 20/20\n",
      "7/7 [==============================] - 0s 4ms/step - loss: 0.1262 - mse: 0.1262\n"
     ]
    },
    {
     "data": {
      "text/plain": [
       "<tensorflow.python.keras.callbacks.History at 0x7fc150186208>"
      ]
     },
     "execution_count": 41,
     "metadata": {
      "tags": []
     },
     "output_type": "execute_result"
    }
   ],
   "source": [
    "test_n = 200\n",
    "model.fit(xx[:test_n,:,:],y[:test_n], epochs=20)"
   ]
  },
  {
   "cell_type": "code",
   "execution_count": 42,
   "metadata": {
    "id": "OHVzoGoPuqBY"
   },
   "outputs": [],
   "source": [
    "ypred = model.predict(xx[test_n:,:,:])\n"
   ]
  },
  {
   "cell_type": "code",
   "execution_count": 43,
   "metadata": {
    "colab": {
     "base_uri": "https://localhost:8080/",
     "height": 265
    },
    "id": "MKwHe_lxuwVE",
    "outputId": "21afb033-e238-4670-8e00-8764a76ef56b"
   },
   "outputs": [
    {
     "data": {
      "image/png": "[encoded data removed]",
      "text/plain": [
       "<Figure size 432x288 with 1 Axes>"
      ]
     },
     "metadata": {
      "needs_background": "light",
      "tags": []
     },
     "output_type": "display_data"
    }
   ],
   "source": [
    "plt.plot(ypred,'.r')\n",
    "plt.plot(y[test_n:],'g')\n",
    "plt.show()"
   ]
  },
  {
   "cell_type": "code",
   "execution_count": null,
   "metadata": {
    "colab": {
     "base_uri": "https://localhost:8080/"
    },
    "id": "CAWyqSSBuzlv",
    "outputId": "6193e953-c56d-4237-ed3d-4a7817c154c3"
   },
   "outputs": [
    {
     "data": {
      "text/plain": [
       "array([[ 0.15299363,  0.29349163, -0.30122775,  0.07652692,  0.2806155 ,\n",
       "        -0.12526397,  0.74046576,  0.33210793,  0.01929759,  0.87495536,\n",
       "        -0.03370479, -0.11093336, -0.02806146, -0.45402318, -0.24420857,\n",
       "        -0.08618777,  0.69457954,  0.83475393,  0.14761725,  0.70372754,\n",
       "         0.2186755 , -0.08139043,  0.12259027, -0.5134373 , -0.3402254 ,\n",
       "         0.2979614 , -0.38893387,  0.24882084,  0.44970256,  0.6235666 ,\n",
       "        -0.14804779, -0.14710696]], dtype=float32)"
      ]
     },
     "execution_count": 66,
     "metadata": {
      "tags": []
     },
     "output_type": "execute_result"
    }
   ],
   "source": [
    "yy"
   ]
  },
  {
   "cell_type": "code",
   "execution_count": null,
   "metadata": {
    "id": "Y61Dni7vCG1r"
   },
   "outputs": [],
   "source": []
  }
 ],
 "metadata": {
  "accelerator": "GPU",
  "colab": {
   "collapsed_sections": [],
   "name": "рекуррентные узлы",
   "provenance": []
  },
  "kernelspec": {
   "display_name": "Python 3",
   "language": "python",
   "name": "python3"
  },
  "language_info": {
   "codemirror_mode": {
    "name": "ipython",
    "version": 3
   },
   "file_extension": ".py",
   "mimetype": "text/x-python",
   "name": "python",
   "nbconvert_exporter": "python",
   "pygments_lexer": "ipython3",
   "version": "3.8.5"
  }
 },
 "nbformat": 4,
 "nbformat_minor": 1
}
